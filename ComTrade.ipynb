{
 "cells": [
  {
   "cell_type": "markdown",
   "metadata": {
    "collapsed": true
   },
   "source": [
    "### United Nations ComTrade "
   ]
  },
  {
   "cell_type": "code",
   "execution_count": 1,
   "metadata": {
    "collapsed": true
   },
   "outputs": [],
   "source": [
    "import requests\n",
    "import pandas as pd\n",
    "import time\n",
    "\n",
    "# Used to loop over countries 5 at a time.\n",
    "def chunker(seq, size):\n",
    "    return (seq[pos:pos + size] for pos in xrange(0, len(seq), size))\n",
    "\n",
    "c_codes = pd.read_csv('codes/country_codes.csv').set_index('id')"
   ]
  },
  {
   "cell_type": "code",
   "execution_count": 5,
   "metadata": {
    "collapsed": true
   },
   "outputs": [],
   "source": [
    "url = 'http://comtrade.un.org/api/get?max=50000&type=C&freq=A&px=HS'\n",
    "d = {}\n",
    "prod = '440710'\n",
    "years = ['2005', '2010', '2015']"
   ]
  },
  {
   "cell_type": "code",
   "execution_count": 6,
   "metadata": {},
   "outputs": [],
   "source": [
    "for n in chunker(c_codes.index.values[1:], 5):\n",
    "    req = '&ps={}&r=all&p={}&rg=1%2C2&cc={}'.format(\n",
    "        '%2C'.join(years),\n",
    "        '%2C'.join(n), \n",
    "        prod)\n",
    "    data = requests.get('{}{}'.format(url, req)).json()\n",
    "    d[n[0]] = pd.DataFrame(data['dataset'])[['TradeValue', 'pt3ISO', \n",
    "                                             'rt3ISO', 'rtTitle', \n",
    "                                             'period', 'rgDesc'\n",
    "                                            ]].set_index('pt3ISO')\n",
    "    time.sleep(5)"
   ]
  },
  {
   "cell_type": "code",
   "execution_count": 7,
   "metadata": {},
   "outputs": [
    {
     "data": {
      "text/html": [
       "<div>\n",
       "<style>\n",
       "    .dataframe thead tr:only-child th {\n",
       "        text-align: right;\n",
       "    }\n",
       "\n",
       "    .dataframe thead th {\n",
       "        text-align: left;\n",
       "    }\n",
       "\n",
       "    .dataframe tbody tr th {\n",
       "        vertical-align: top;\n",
       "    }\n",
       "</style>\n",
       "<table border=\"1\" class=\"dataframe\">\n",
       "  <thead>\n",
       "    <tr style=\"text-align: right;\">\n",
       "      <th></th>\n",
       "      <th>TradeValue</th>\n",
       "      <th>rt3ISO</th>\n",
       "      <th>period</th>\n",
       "      <th>rgDesc</th>\n",
       "    </tr>\n",
       "    <tr>\n",
       "      <th>pt3ISO</th>\n",
       "      <th></th>\n",
       "      <th></th>\n",
       "      <th></th>\n",
       "      <th></th>\n",
       "    </tr>\n",
       "  </thead>\n",
       "  <tbody>\n",
       "    <tr>\n",
       "      <th>MYS</th>\n",
       "      <td>277953</td>\n",
       "      <td>ARG</td>\n",
       "      <td>2015</td>\n",
       "      <td>Export</td>\n",
       "    </tr>\n",
       "    <tr>\n",
       "      <th>MYS</th>\n",
       "      <td>120140</td>\n",
       "      <td>AUS</td>\n",
       "      <td>2015</td>\n",
       "      <td>Import</td>\n",
       "    </tr>\n",
       "    <tr>\n",
       "      <th>MYS</th>\n",
       "      <td>7349902</td>\n",
       "      <td>AUS</td>\n",
       "      <td>2015</td>\n",
       "      <td>Export</td>\n",
       "    </tr>\n",
       "    <tr>\n",
       "      <th>MYS</th>\n",
       "      <td>671</td>\n",
       "      <td>AUT</td>\n",
       "      <td>2015</td>\n",
       "      <td>Export</td>\n",
       "    </tr>\n",
       "    <tr>\n",
       "      <th>MLT</th>\n",
       "      <td>2868925</td>\n",
       "      <td>AUT</td>\n",
       "      <td>2015</td>\n",
       "      <td>Export</td>\n",
       "    </tr>\n",
       "  </tbody>\n",
       "</table>\n",
       "</div>"
      ],
      "text/plain": [
       "        TradeValue rt3ISO  period  rgDesc\n",
       "pt3ISO                                   \n",
       "MYS         277953    ARG    2015  Export\n",
       "MYS         120140    AUS    2015  Import\n",
       "MYS        7349902    AUS    2015  Export\n",
       "MYS            671    AUT    2015  Export\n",
       "MLT        2868925    AUT    2015  Export"
      ]
     },
     "execution_count": 7,
     "metadata": {},
     "output_type": "execute_result"
    }
   ],
   "source": [
    "df = pd.concat(d.values())\n",
    "df.fillna(value='TWN', inplace=True)\n",
    "df = df.drop('rtTitle', 1)\n",
    "df.head()"
   ]
  },
  {
   "cell_type": "code",
   "execution_count": 8,
   "metadata": {
    "collapsed": true
   },
   "outputs": [],
   "source": [
    "df.to_csv('440710.csv')"
   ]
  }
 ],
 "metadata": {
  "kernelspec": {
   "display_name": "Python [default]",
   "language": "python",
   "name": "python2"
  },
  "language_info": {
   "codemirror_mode": {
    "name": "ipython",
    "version": 2
   },
   "file_extension": ".py",
   "mimetype": "text/x-python",
   "name": "python",
   "nbconvert_exporter": "python",
   "pygments_lexer": "ipython2",
   "version": "2.7.12"
  }
 },
 "nbformat": 4,
 "nbformat_minor": 2
}
