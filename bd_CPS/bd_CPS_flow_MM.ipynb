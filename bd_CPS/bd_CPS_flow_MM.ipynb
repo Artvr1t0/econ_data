{
 "cells": [
  {
   "cell_type": "markdown",
   "metadata": {},
   "source": [
    "### Matching month-to-month CPS observations\n",
    "\n",
    "February 15, 2019\n",
    "\n",
    "Brian Dew, @bd_econ\n",
    "\n",
    "-----\n",
    "\n",
    "To Do:\n",
    "\n",
    "- Correct 1996-97 data\n",
    "- Add comments\n",
    "- Clean up plot"
   ]
  },
  {
   "cell_type": "code",
   "execution_count": 1,
   "metadata": {
    "ExecuteTime": {
     "end_time": "2019-02-15T13:32:40.489696Z",
     "start_time": "2019-02-15T13:32:40.292412Z"
    }
   },
   "outputs": [],
   "source": [
    "import pandas as pd\n",
    "import os\n",
    "\n",
    "os.chdir('/home/brian/Documents/CPS/data/clean')"
   ]
  },
  {
   "cell_type": "code",
   "execution_count": 2,
   "metadata": {
    "ExecuteTime": {
     "end_time": "2019-02-15T13:32:40.520699Z",
     "start_time": "2019-02-15T13:32:40.491198Z"
    },
    "code_folding": []
   },
   "outputs": [],
   "source": [
    "date_list = [(date_val.year, date_val.month) for date_val in \n",
    "             pd.date_range(start='1998-01-01', end='2018-12-01', freq='MS')]\n",
    "\n",
    "date_pairs = list(zip(date_list, date_list[1:]))\n",
    "\n",
    "start_year = date_pairs[0][0][0]\n",
    "\n",
    "keep_cols = ['CPSID', 'PULINENO', 'AGE', 'FEMALE', 'WBHAO', 'PWLGWGT',\n",
    "             'YEAR', 'MONTH', 'LFS']\n",
    "\n",
    "def read_year(year):\n",
    "    df = (pd.read_feather(f'cps{year}.ft', columns=keep_cols)\n",
    "            .query('PWLGWGT > 0 and CPSID > 0'))\n",
    "    return df"
   ]
  },
  {
   "cell_type": "code",
   "execution_count": 3,
   "metadata": {
    "ExecuteTime": {
     "end_time": "2019-02-15T13:32:54.140355Z",
     "start_time": "2019-02-15T13:32:40.522038Z"
    }
   },
   "outputs": [],
   "source": [
    "results = pd.Series()\n",
    "\n",
    "df1 = read_year(start_year)\n",
    "df2 = df1\n",
    "\n",
    "for (year1, month1), (year2, month2) in date_pairs:\n",
    "    if month2 == 1:\n",
    "        df2 = read_year(year2)\n",
    "    if month1 == 1 and year1 > start_year:\n",
    "        df1 = df2\n",
    "        \n",
    "    d1 = df1.loc[df1['MONTH'] == month1]\n",
    "    d2 = df2.loc[(df2['MONTH'] == month2) & \n",
    "                 (df2['LFS'] == 'Employed')]\n",
    "    \n",
    "    m = pd.merge(d1, d2, on=['CPSID', 'PULINENO'], how='inner')\n",
    "    m = m[(m['WBHAO_x'] == m['WBHAO_y']) &\n",
    "          (m['FEMALE_x'] == m['FEMALE_y']) &\n",
    "          (m['AGE_y'] >= m['AGE_x']) &\n",
    "          (m['AGE_x'] <= m['AGE_y'] + 1)]\n",
    "    \n",
    "    emp = m.loc[m['LFS_x'] != 'Employed', 'PWLGWGT_y'].sum()\n",
    "    nilf = m.loc[m['LFS_x'] == 'NILF', 'PWLGWGT_y'].sum()\n",
    "    \n",
    "    date = pd.to_datetime(f'{year1}-{month1}-01')\n",
    "    results[date] = (nilf/ emp) * 100"
   ]
  },
  {
   "cell_type": "code",
   "execution_count": 4,
   "metadata": {
    "ExecuteTime": {
     "end_time": "2019-02-15T13:32:54.438588Z",
     "start_time": "2019-02-15T13:32:54.141991Z"
    },
    "scrolled": true
   },
   "outputs": [
    {
     "data": {
      "image/png": "[encoded data removed]",
      "text/plain": [
       "<Figure size 432x288 with 1 Axes>"
      ]
     },
     "metadata": {
      "needs_background": "light"
     },
     "output_type": "display_data"
    }
   ],
   "source": [
    "%matplotlib inline\n",
    "results.rolling(12).mean().dropna().plot();"
   ]
  },
  {
   "cell_type": "code",
   "execution_count": null,
   "metadata": {},
   "outputs": [],
   "source": []
  },
  {
   "cell_type": "code",
   "execution_count": null,
   "metadata": {},
   "outputs": [],
   "source": []
  },
  {
   "cell_type": "code",
   "execution_count": null,
   "metadata": {},
   "outputs": [],
   "source": []
  }
 ],
 "metadata": {
  "kernelspec": {
   "display_name": "Python 3",
   "language": "python",
   "name": "python3"
  },
  "language_info": {
   "codemirror_mode": {
    "name": "ipython",
    "version": 3
   },
   "file_extension": ".py",
   "mimetype": "text/x-python",
   "name": "python",
   "nbconvert_exporter": "python",
   "pygments_lexer": "ipython3",
   "version": "3.7.1"
  }
 },
 "nbformat": 4,
 "nbformat_minor": 2
}
