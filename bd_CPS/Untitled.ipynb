{
 "cells": [
  {
   "cell_type": "code",
   "execution_count": 1,
   "metadata": {
    "ExecuteTime": {
     "end_time": "2018-10-03T00:27:47.961046Z",
     "start_time": "2018-10-03T00:27:47.525484Z"
    }
   },
   "outputs": [],
   "source": [
    "import pandas as pd\n",
    "import numpy as np\n",
    "import os\n",
    "import requests\n",
    "import json\n",
    "import config\n",
    "\n",
    "os.chdir('/home/brian/Documents/CPS/data/clean/')"
   ]
  },
  {
   "cell_type": "code",
   "execution_count": 3,
   "metadata": {
    "ExecuteTime": {
     "end_time": "2018-10-03T00:28:47.573105Z",
     "start_time": "2018-10-03T00:28:47.566460Z"
    },
    "code_folding": [
     0
    ]
   },
   "outputs": [],
   "source": [
    "# Code to update CPI as needed\n",
    "api_url = 'https://api.bls.gov/publicAPI/v2/timeseries/data/'\n",
    "\n",
    "# API key in config.py which contains: bls_key = 'key'\n",
    "key = '?registrationkey={}'.format(config.bls_key)\n",
    "\n",
    "# Series stored as a dictionary\n",
    "series_dict = {'CUSR0000SA0': 'ALL'}\n",
    "\n",
    "# Start year and end year\n",
    "date_r = (1994, 2018)\n",
    "\n",
    "# Handle dates\n",
    "dates = [(str(date_r[0]), str(date_r[1]))]\n",
    "while int(dates[-1][1]) - int(dates[-1][0]) > 10:\n",
    "    dates = [(str(date_r[0]), str(date_r[0]+9))]\n",
    "    d1 = int(dates[-1][0])\n",
    "    while int(dates[-1][1]) < date_r[1]:\n",
    "        d1 = d1 + 10\n",
    "        d2 = min([date_r[1], d1+9])\n",
    "        dates.append((str(d1),(d2)))\n",
    "        \n",
    "df = pd.DataFrame()\n",
    "\n",
    "for start, end in dates:\n",
    "    # Submit the list of series as data\n",
    "    data = json.dumps({\n",
    "        \"seriesid\": list(series_dict.keys()),\n",
    "        \"startyear\": start, \"endyear\": end})\n",
    "\n",
    "    # Post request for the data\n",
    "    p = requests.post(\n",
    "        '{}{}'.format(api_url, key), \n",
    "        headers={'Content-type': 'application/json'}, \n",
    "        data=data).json()\n",
    "    for s in p['Results']['series']:\n",
    "        col = series_dict[s['seriesID']]\n",
    "        for r in s['data']:\n",
    "            date = pd.to_datetime('{} {}'.format(\n",
    "                r['periodName'], r['year']))\n",
    "            df.set_value(date, col, float(r['value']))\n",
    "df = df.sort_index()\n",
    "# Output results\n",
    "print('Post Request Status: {}'.format(p['status']))\n",
    "\n",
    "cpi = (df.iloc[-1] / df)\n",
    "cpi.to_csv('cpi.csv')"
   ]
  },
  {
   "cell_type": "code",
   "execution_count": 21,
   "metadata": {
    "ExecuteTime": {
     "end_time": "2018-10-03T12:04:06.067821Z",
     "start_time": "2018-10-03T12:04:06.062158Z"
    }
   },
   "outputs": [],
   "source": [
    "cpi = pd.read_csv('cpi.csv', index_col=[0], parse_dates=True)"
   ]
  },
  {
   "cell_type": "code",
   "execution_count": 26,
   "metadata": {
    "ExecuteTime": {
     "end_time": "2018-10-03T12:24:05.301038Z",
     "start_time": "2018-10-03T12:24:05.295563Z"
    }
   },
   "outputs": [],
   "source": [
    "# Federal minimum wage--update monthly\n",
    "fmw = pd.read_csv('fmw.csv', index_col=[0], parse_dates=True)"
   ]
  },
  {
   "cell_type": "code",
   "execution_count": 94,
   "metadata": {
    "ExecuteTime": {
     "end_time": "2018-10-02T20:20:53.486938Z",
     "start_time": "2018-10-02T20:20:53.383951Z"
    }
   },
   "outputs": [
    {
     "name": "stdout",
     "output_type": "stream",
     "text": [
      "binned, weighted median: $ 18.93\n"
     ]
    },
    {
     "name": "stderr",
     "output_type": "stream",
     "text": [
      "/home/brian/anaconda3/lib/python3.6/site-packages/pandas/io/feather_format.py:112: FutureWarning: `nthreads` argument is deprecated, pass `use_threads` instead\n",
      "  return feather.read_dataframe(path, nthreads=nthreads)\n"
     ]
    }
   ],
   "source": [
    "fed_min_wage = 7.25\n",
    "\n",
    "data = (pd.read_feather('cps.ft', nthreads=3)\n",
    "          .filter(items=['HRWAGE', 'PWORWGT', 'HRMONTH'])\n",
    "          .query(f'HRWAGE >= {fed_min_wage}')\n",
    "          .sort_values('HRWAGE')\n",
    "          .assign(WAGE_RANGE = lambda x: pd.cut(x['HRWAGE'], \n",
    "                                                list(np.arange(0.125,200,0.25)), \n",
    "                                                include_lowest=True),\n",
    "                  CS = lambda x: x['PWORWGT'].cumsum()))\n",
    "\n",
    "midpt = data['PWORWGT'].sum() * 0.5\n",
    "\n",
    "mid_interval = data.iloc[(data['CS']-midpt).abs().argsort()[:1]].WAGE_RANGE.values[0]\n",
    "\n",
    "wage_bins = list(data['WAGE_RANGE'].unique())\n",
    "\n",
    "mi_loc = wage_bins.index(mid_interval)\n",
    "lowval = data[data['WAGE_RANGE'] == wage_bins[mi_loc-1]].iloc[-1].CS\n",
    "highval = data[data['WAGE_RANGE'] == wage_bins[mi_loc]].iloc[-1].CS\n",
    "\n",
    "binned_med = ((((midpt - lowval) / (highval - lowval)) * 0.5) + mid_interval.left)\n",
    "\n",
    "print(f'binned, weighted median: ${binned_med: .2f}')"
   ]
  },
  {
   "cell_type": "code",
   "execution_count": null,
   "metadata": {},
   "outputs": [],
   "source": []
  },
  {
   "cell_type": "code",
   "execution_count": 92,
   "metadata": {
    "ExecuteTime": {
     "end_time": "2018-10-02T20:18:29.303864Z",
     "start_time": "2018-10-02T20:18:29.291133Z"
    }
   },
   "outputs": [
    {
     "data": {
      "text/plain": [
       "Interval(18.875, 19.125, closed='right')"
      ]
     },
     "execution_count": 92,
     "metadata": {},
     "output_type": "execute_result"
    }
   ],
   "source": [
    "data.iloc[(data['CS']-midpt).abs().argsort()[:1]].WAGE_RANGE.values[0]"
   ]
  },
  {
   "cell_type": "code",
   "execution_count": 84,
   "metadata": {
    "ExecuteTime": {
     "end_time": "2018-10-02T20:12:02.445430Z",
     "start_time": "2018-10-02T20:12:02.435623Z"
    }
   },
   "outputs": [],
   "source": [
    "n = wage_bins.index(data.iloc[(data['CS']-midpt).abs().argsort()[:1]].WAGE_RANGE.values[0])\n",
    "lowval = data[data['WAGE_RANGE'] == wage_bins[n-1]].iloc[-1].CS\n",
    "highval = data[data['WAGE_RANGE'] == wage_bins[n]].iloc[-1].CS\n",
    "\n",
    "binned_med = ((((midpt - lowval) / (highval - lowval)) * 0.5) + \n",
    "                  data.iloc[(data['CS']-midpt).abs().argsort()[:1]].WAGE_RANGE.values[0].left)"
   ]
  },
  {
   "cell_type": "code",
   "execution_count": 85,
   "metadata": {
    "ExecuteTime": {
     "end_time": "2018-10-02T20:12:03.527796Z",
     "start_time": "2018-10-02T20:12:03.523914Z"
    }
   },
   "outputs": [
    {
     "data": {
      "text/plain": [
       "Interval(18.625, 18.875, closed='right')"
      ]
     },
     "execution_count": 85,
     "metadata": {},
     "output_type": "execute_result"
    }
   ],
   "source": [
    "wage_bins[n-1]"
   ]
  },
  {
   "cell_type": "code",
   "execution_count": 86,
   "metadata": {
    "ExecuteTime": {
     "end_time": "2018-10-02T20:12:04.466115Z",
     "start_time": "2018-10-02T20:12:04.456540Z"
    }
   },
   "outputs": [
    {
     "data": {
      "text/html": [
       "<div>\n",
       "<style scoped>\n",
       "    .dataframe tbody tr th:only-of-type {\n",
       "        vertical-align: middle;\n",
       "    }\n",
       "\n",
       "    .dataframe tbody tr th {\n",
       "        vertical-align: top;\n",
       "    }\n",
       "\n",
       "    .dataframe thead th {\n",
       "        text-align: right;\n",
       "    }\n",
       "</style>\n",
       "<table border=\"1\" class=\"dataframe\">\n",
       "  <thead>\n",
       "    <tr style=\"text-align: right;\">\n",
       "      <th></th>\n",
       "      <th>HRWAGE</th>\n",
       "      <th>PWORWGT</th>\n",
       "      <th>HRMONTH</th>\n",
       "      <th>WAGE_RANGE</th>\n",
       "      <th>CS</th>\n",
       "    </tr>\n",
       "  </thead>\n",
       "  <tbody>\n",
       "    <tr>\n",
       "      <th>60000</th>\n",
       "      <td>7.25</td>\n",
       "      <td>3926.360840</td>\n",
       "      <td>2</td>\n",
       "      <td>(7.125, 7.375]</td>\n",
       "      <td>3926.360840</td>\n",
       "    </tr>\n",
       "    <tr>\n",
       "      <th>480369</th>\n",
       "      <td>7.25</td>\n",
       "      <td>11001.754883</td>\n",
       "      <td>1</td>\n",
       "      <td>(7.125, 7.375]</td>\n",
       "      <td>14928.115234</td>\n",
       "    </tr>\n",
       "    <tr>\n",
       "      <th>480374</th>\n",
       "      <td>7.25</td>\n",
       "      <td>18334.843750</td>\n",
       "      <td>1</td>\n",
       "      <td>(7.125, 7.375]</td>\n",
       "      <td>33262.960938</td>\n",
       "    </tr>\n",
       "    <tr>\n",
       "      <th>673843</th>\n",
       "      <td>7.25</td>\n",
       "      <td>13278.716797</td>\n",
       "      <td>5</td>\n",
       "      <td>(7.125, 7.375]</td>\n",
       "      <td>46541.679688</td>\n",
       "    </tr>\n",
       "    <tr>\n",
       "      <th>96954</th>\n",
       "      <td>7.25</td>\n",
       "      <td>15470.012695</td>\n",
       "      <td>2</td>\n",
       "      <td>(7.125, 7.375]</td>\n",
       "      <td>62011.691406</td>\n",
       "    </tr>\n",
       "  </tbody>\n",
       "</table>\n",
       "</div>"
      ],
      "text/plain": [
       "        HRWAGE       PWORWGT  HRMONTH      WAGE_RANGE            CS\n",
       "60000     7.25   3926.360840        2  (7.125, 7.375]   3926.360840\n",
       "480369    7.25  11001.754883        1  (7.125, 7.375]  14928.115234\n",
       "480374    7.25  18334.843750        1  (7.125, 7.375]  33262.960938\n",
       "673843    7.25  13278.716797        5  (7.125, 7.375]  46541.679688\n",
       "96954     7.25  15470.012695        2  (7.125, 7.375]  62011.691406"
      ]
     },
     "execution_count": 86,
     "metadata": {},
     "output_type": "execute_result"
    }
   ],
   "source": [
    "data.head()"
   ]
  },
  {
   "cell_type": "code",
   "execution_count": 88,
   "metadata": {
    "ExecuteTime": {
     "end_time": "2018-10-02T20:12:14.431855Z",
     "start_time": "2018-10-02T20:12:14.422241Z"
    }
   },
   "outputs": [],
   "source": [
    "lowval = data[data['WAGE_RANGE'] == wage_bins[n-1]].iloc[-1].CS\n",
    "highval = data[data['WAGE_RANGE'] == wage_bins[n]].iloc[-1].CS\n",
    "\n",
    "binned_med = ((((midpt - lowval) / (highval - lowval)) * 0.5) + \n",
    "                  data.iloc[(data['CS']-midpt).abs().argsort()[:1]].WAGE_RANGE.values[0].left)"
   ]
  },
  {
   "cell_type": "code",
   "execution_count": 89,
   "metadata": {
    "ExecuteTime": {
     "end_time": "2018-10-02T20:12:15.261184Z",
     "start_time": "2018-10-02T20:12:15.251627Z"
    }
   },
   "outputs": [],
   "source": [
    "binned_med = ((((midpt - lowval) / (highval - lowval)) * 0.5) + \n",
    "                  data.iloc[(data['CS']-midpt).abs().argsort()[:1]].WAGE_RANGE.values[0].left)"
   ]
  },
  {
   "cell_type": "code",
   "execution_count": 90,
   "metadata": {
    "ExecuteTime": {
     "end_time": "2018-10-02T20:12:16.795645Z",
     "start_time": "2018-10-02T20:12:16.788508Z"
    }
   },
   "outputs": [
    {
     "data": {
      "text/plain": [
       "18.92999832943535"
      ]
     },
     "execution_count": 90,
     "metadata": {},
     "output_type": "execute_result"
    }
   ],
   "source": [
    "binned_med"
   ]
  },
  {
   "cell_type": "code",
   "execution_count": 68,
   "metadata": {
    "ExecuteTime": {
     "end_time": "2018-10-02T19:59:45.601060Z",
     "start_time": "2018-10-02T19:59:45.589779Z"
    }
   },
   "outputs": [
    {
     "data": {
      "text/plain": [
       "Interval(18.875, 19.125, closed='right')"
      ]
     },
     "execution_count": 68,
     "metadata": {},
     "output_type": "execute_result"
    }
   ],
   "source": [
    "data.iloc[(data['CS']-midpt).abs().argsort()[:1]].WAGE_RANGE.values[0]"
   ]
  },
  {
   "cell_type": "code",
   "execution_count": 63,
   "metadata": {
    "ExecuteTime": {
     "end_time": "2018-10-02T19:53:34.188281Z",
     "start_time": "2018-10-02T19:53:33.408312Z"
    }
   },
   "outputs": [
    {
     "name": "stderr",
     "output_type": "stream",
     "text": [
      "/home/brian/anaconda3/lib/python3.6/site-packages/ipykernel/__main__.py:3: SettingWithCopyWarning: \n",
      "A value is trying to be set on a copy of a slice from a DataFrame.\n",
      "Try using .loc[row_indexer,col_indexer] = value instead\n",
      "\n",
      "See the caveats in the documentation: http://pandas.pydata.org/pandas-docs/stable/indexing.html#indexing-view-versus-copy\n",
      "  app.launch_new_instance()\n",
      "/home/brian/anaconda3/lib/python3.6/site-packages/ipykernel/__main__.py:3: SettingWithCopyWarning: \n",
      "A value is trying to be set on a copy of a slice from a DataFrame.\n",
      "Try using .loc[row_indexer,col_indexer] = value instead\n",
      "\n",
      "See the caveats in the documentation: http://pandas.pydata.org/pandas-docs/stable/indexing.html#indexing-view-versus-copy\n",
      "  app.launch_new_instance()\n",
      "/home/brian/anaconda3/lib/python3.6/site-packages/ipykernel/__main__.py:3: SettingWithCopyWarning: \n",
      "A value is trying to be set on a copy of a slice from a DataFrame.\n",
      "Try using .loc[row_indexer,col_indexer] = value instead\n",
      "\n",
      "See the caveats in the documentation: http://pandas.pydata.org/pandas-docs/stable/indexing.html#indexing-view-versus-copy\n",
      "  app.launch_new_instance()\n"
     ]
    },
    {
     "name": "stdout",
     "output_type": "stream",
     "text": [
      "2\n",
      "binned, weighted median: $ 18.79\n",
      "1\n",
      "binned, weighted median: $ 18.66\n",
      "5\n",
      "binned, weighted median: $ 18.75\n"
     ]
    },
    {
     "name": "stderr",
     "output_type": "stream",
     "text": [
      "/home/brian/anaconda3/lib/python3.6/site-packages/ipykernel/__main__.py:3: SettingWithCopyWarning: \n",
      "A value is trying to be set on a copy of a slice from a DataFrame.\n",
      "Try using .loc[row_indexer,col_indexer] = value instead\n",
      "\n",
      "See the caveats in the documentation: http://pandas.pydata.org/pandas-docs/stable/indexing.html#indexing-view-versus-copy\n",
      "  app.launch_new_instance()\n",
      "/home/brian/anaconda3/lib/python3.6/site-packages/ipykernel/__main__.py:3: SettingWithCopyWarning: \n",
      "A value is trying to be set on a copy of a slice from a DataFrame.\n",
      "Try using .loc[row_indexer,col_indexer] = value instead\n",
      "\n",
      "See the caveats in the documentation: http://pandas.pydata.org/pandas-docs/stable/indexing.html#indexing-view-versus-copy\n",
      "  app.launch_new_instance()\n",
      "/home/brian/anaconda3/lib/python3.6/site-packages/ipykernel/__main__.py:3: SettingWithCopyWarning: \n",
      "A value is trying to be set on a copy of a slice from a DataFrame.\n",
      "Try using .loc[row_indexer,col_indexer] = value instead\n",
      "\n",
      "See the caveats in the documentation: http://pandas.pydata.org/pandas-docs/stable/indexing.html#indexing-view-versus-copy\n",
      "  app.launch_new_instance()\n"
     ]
    },
    {
     "name": "stdout",
     "output_type": "stream",
     "text": [
      "6\n",
      "binned, weighted median: $ 18.47\n",
      "4\n",
      "binned, weighted median: $ 18.89\n",
      "3\n",
      "binned, weighted median: $ 18.77\n",
      "7\n",
      "binned, weighted median: $ 19.11\n",
      "8\n",
      "binned, weighted median: $ 18.68\n"
     ]
    },
    {
     "name": "stderr",
     "output_type": "stream",
     "text": [
      "/home/brian/anaconda3/lib/python3.6/site-packages/ipykernel/__main__.py:3: SettingWithCopyWarning: \n",
      "A value is trying to be set on a copy of a slice from a DataFrame.\n",
      "Try using .loc[row_indexer,col_indexer] = value instead\n",
      "\n",
      "See the caveats in the documentation: http://pandas.pydata.org/pandas-docs/stable/indexing.html#indexing-view-versus-copy\n",
      "  app.launch_new_instance()\n",
      "/home/brian/anaconda3/lib/python3.6/site-packages/ipykernel/__main__.py:3: SettingWithCopyWarning: \n",
      "A value is trying to be set on a copy of a slice from a DataFrame.\n",
      "Try using .loc[row_indexer,col_indexer] = value instead\n",
      "\n",
      "See the caveats in the documentation: http://pandas.pydata.org/pandas-docs/stable/indexing.html#indexing-view-versus-copy\n",
      "  app.launch_new_instance()\n"
     ]
    }
   ],
   "source": [
    "for month in list(data['HRMONTH'].unique()):\n",
    "    df = data[data['HRMONTH'] == month]\n",
    "    df['wage_range'] = pd.cut(df['HRWAGE'], list(np.arange(0.25,1000,0.5)), include_lowest=True)\n",
    "    df = df.sort_values('HRWAGE')#.dropna(subset=['wage_range'])\n",
    "    midpt = df['PWORWGT'].sum() * 0.5\n",
    "    df['cs'] = df['PWORWGT'].cumsum()\n",
    "    n = list(df['wage_range'].unique()).index(df.iloc[(df['cs']-midpt).abs().argsort()[:1]].wage_range.values[0])\n",
    "    lowval = df[df['wage_range'] == list(df['wage_range'].unique())[n-1]].iloc[-1].cs\n",
    "    highval = df[df['wage_range'] == list(df['wage_range'].unique())[n]].iloc[-1].cs\n",
    "    binned_med = ((((midpt - lowval) / (highval - lowval)) * 0.5) + \n",
    "                  df.iloc[(df['cs']-midpt).abs().argsort()[:1]].wage_range.values[0].left)\n",
    "    print(month)\n",
    "    print(f'binned, weighted median: ${binned_med: .2f}')"
   ]
  }
 ],
 "metadata": {
  "kernelspec": {
   "display_name": "Python [conda env:anaconda3]",
   "language": "python",
   "name": "conda-env-anaconda3-py"
  },
  "language_info": {
   "codemirror_mode": {
    "name": "ipython",
    "version": 3
   },
   "file_extension": ".py",
   "mimetype": "text/x-python",
   "name": "python",
   "nbconvert_exporter": "python",
   "pygments_lexer": "ipython3",
   "version": "3.6.6"
  }
 },
 "nbformat": 4,
 "nbformat_minor": 2
}
