{
 "cells": [
  {
   "cell_type": "markdown",
   "metadata": {},
   "source": [
    "### bd CPS graph basic labor market indicators\n",
    "\n",
    "bd_CPS_grapher.ipynb\n",
    "\n",
    "October 1, 2018\n",
    "\n",
    "@bd_econ\n",
    "\n",
    "Requires: `cpsYYYY.ft`.\n",
    "\n",
    "____\n",
    "\n",
    "Notes:\n",
    "\n",
    "Several [open issues](https://github.com/bdecon/econ_data/issues) on GitHub. This code needs to do four things: 1) read and aggregate CPS data as instructed (one month, three months, one year, two years); 2) Apply some pre-specified calculations, such as the employment-to-population ratio, unemployment rate, usual earnings at various percentiles, etc.; 3) apply adjustments after the fact, such as moving average, or adjustment for inflation; and 4) allow for collecting data on multiple groups during each read cycle. \n",
    "\n",
    "Once the collected data are prepared, use matplotlib to generate nice-looking line plots. \n",
    "\n",
    "\n",
    "\n",
    "The [categorization](https://www.frbatlanta.org/chcs/human-capital-currents/2015/0612-measuring-labor-market-status-using-basic-data.aspx) of those not in the labor force is provided by the Federal Reserve Bank of Atlanta. "
   ]
  },
  {
   "cell_type": "code",
   "execution_count": 1,
   "metadata": {
    "ExecuteTime": {
     "end_time": "2018-10-15T05:06:28.489357Z",
     "start_time": "2018-10-15T05:06:28.039449Z"
    },
    "code_folding": [
     0
    ]
   },
   "outputs": [],
   "source": [
    "# Import packages, adjust settings and set file path\n",
    "import os\n",
    "import pandas as pd\n",
    "import numpy as np\n",
    "import wquantiles\n",
    "\n",
    "os.chdir('/home/brian/Documents/CPS/data/clean/')\n",
    "\n",
    "%matplotlib inline\n",
    "import matplotlib as mpl\n",
    "import matplotlib.pyplot as plt\n",
    "plt.style.use('seaborn-white')\n",
    "mpl.rc('axes', edgecolor='white') # Hide the axes\n",
    "plt.rc('axes', axisbelow=True)\n",
    "plt.rcParams.update({'axes.titlesize': 'x-large'})\n",
    "\n",
    "# Recession start and end months, from NBER\n",
    "rec_dt = [('2001-04-01', '2001-12-01'), ('2008-01-01', '2009-07-01')]\n",
    "\n",
    "# Years of bd CPS data\n",
    "year_range = range(1994, 2019)   "
   ]
  },
  {
   "cell_type": "code",
   "execution_count": 2,
   "metadata": {
    "ExecuteTime": {
     "end_time": "2018-10-15T05:06:29.297696Z",
     "start_time": "2018-10-15T05:06:29.258917Z"
    },
    "code_folding": [
     0
    ],
    "run_control": {
     "marked": false
    }
   },
   "outputs": [],
   "source": [
    "# Define functions to collect and graph data\n",
    "def bd_cps_data(query_str, calc_type, smoothing='12sma'):\n",
    "    \"\"\"Calculate various labor market indicators from\n",
    "       bd CPS annual feather files.\"\"\"\n",
    "    \n",
    "    #Default columns to keep in initial data read\n",
    "    filter_cols = ['PREMPNOT', 'PWSSWGT', 'HRMONTH']\n",
    "    keep_cols = []\n",
    "    \n",
    "    # Employment-to-population ratio\n",
    "    if calc_type == 'epop':\n",
    "        keep_cols = ['EMP', 'POP', 'HRMONTH']\n",
    "        component_vars = {'EMP': lambda x: np.where(x['PREMPNOT']==1,  x['PWSSWGT'], 0),\n",
    "                          'POP': lambda x: np.where(x['PREMPNOT'].isin([1, 2, 3, 4]), \n",
    "                                                    x['PWSSWGT'], 0)}\n",
    "        calc_var = lambda x: (x['EMP'] / x['POP'])\n",
    "\n",
    "    # Unemployment rate\n",
    "    if calc_type == 'unrate':\n",
    "        keep_cols = ['UNEMP', 'LF', 'HRMONTH']\n",
    "        component_vars = {'UNEMP': lambda x: np.where(x['PREMPNOT']==2, x['PWSSWGT'], 0),\n",
    "                          'LF': lambda x: np.where(x['PREMPNOT'].isin([1, 2]), x['PWSSWGT'], 0)}\n",
    "        calc_var = lambda x: (x['UNEMP'] / x['LF'])\n",
    "    \n",
    "    # Labor force participation rate\n",
    "    if calc_type == 'lfpr':\n",
    "        keep_cols = ['LF', 'POP', 'HRMONTH']\n",
    "        component_vars = {'LF': lambda x: np.where(x['PREMPNOT'].isin([1, 2]), x['PWSSWGT'], 0),\n",
    "                          'POP': lambda x: np.where(x['PREMPNOT'].isin([1, 2, 3, 4]), \n",
    "                                                    x['PWSSWGT'], 0)}\n",
    "        calc_var = lambda x: (x['LF'] / x['POP'])\n",
    "        \n",
    "    # Population in levels (works on age 16+)\n",
    "    if calc_type == 'pop':\n",
    "        keep_cols = ['POP', 'HRMONTH']        \n",
    "        component_vars = {'POP': lambda x: np.where(x['PREMPNOT'].isin([1, 2, 3, 4]), \n",
    "                                                    x['PWSSWGT'], 0)}\n",
    "        calc_var = lambda x: x['POP'] / 12\n",
    "        \n",
    "    # Labor union membership (or similar, such as employee association)\n",
    "    if calc_type == 'union':\n",
    "        filter_cols = ['PEERNLAB', 'PWORWGT', 'HRMONTH']\n",
    "        keep_cols = ['UNION', 'TOT', 'HRMONTH']\n",
    "        component_vars = {'TOT': lambda x: np.where(x['PEERNLAB'].isin([1, 2]), x['PWORWGT'], 0),\n",
    "                          'UNION': lambda x: np.where(x['PEERNLAB']==1, x['PWORWGT'], 0)}\n",
    "        calc_var = lambda x: (x['UNION'] / x['TOT'])\n",
    "        \n",
    "    # Not in the labor force because of disability or illness\n",
    "    if calc_type == 'nilf_disill':\n",
    "        filter_cols = ['PRWNTJOB', 'PEMLR', 'PREMPNOT', 'PENLFACT', 'PWSSWGT', 'HRMONTH']\n",
    "        keep_cols = ['DISILL', 'POP', 'HRMONTH']\n",
    "        component_vars = {'DISILL': lambda x: np.where(((x['PRWNTJOB']==2) & \n",
    "                                                        ((x['PEMLR']==6) | \n",
    "                                                         (x['PENLFACT']==1) | \n",
    "                                                         (x['PENLFACT']==2))), x['PWSSWGT'], 0),\n",
    "                          'POP': lambda x: np.where(x['PREMPNOT'].isin([1, 2, 3, 4]), \n",
    "                                                    x['PWSSWGT'], 0)}\n",
    "        calc_var = lambda x: (x['DISILL'] / x['POP'])\n",
    "        \n",
    "    # NILF - school\n",
    "    if calc_type == 'nilf_school':\n",
    "        filter_cols = ['PRWNTJOB', 'PREMPNOT', 'PENLFACT', 'PWSSWGT', 'HRMONTH']\n",
    "        keep_cols = ['SCHOOL', 'POP', 'HRMONTH']\n",
    "        component_vars = {'SCHOOL': lambda x: np.where((x['PRWNTJOB']==2) & (x['PENLFACT']==3), \n",
    "                                                       x['PWSSWGT'], 0),\n",
    "                          'POP': lambda x: np.where(x['PREMPNOT'].isin([1, 2, 3, 4]), \n",
    "                                                    x['PWSSWGT'], 0)}\n",
    "        calc_var = lambda x: (x['SCHOOL'] / x['POP']) \n",
    "        \n",
    "    # NILF - caring for home or others\n",
    "    if calc_type == 'nilf_care':\n",
    "        filter_cols = ['PRWNTJOB', 'PREMPNOT', 'PENLFACT', 'PWSSWGT', 'HRMONTH']\n",
    "        keep_cols = ['CARE', 'POP', 'HRMONTH']\n",
    "        component_vars = {'CARE': lambda x: np.where((x['PRWNTJOB']==2) & (x['PENLFACT']==4), \n",
    "                                                       x['PWSSWGT'], 0),\n",
    "                          'POP': lambda x: np.where(x['PREMPNOT'].isin([1, 2, 3, 4]), \n",
    "                                                    x['PWSSWGT'], 0)}\n",
    "        calc_var = lambda x: (x['CARE'] / x['POP'])      \n",
    "        \n",
    "    # NILF - retired\n",
    "    if calc_type == 'nilf_retired':\n",
    "        filter_cols = ['PRWNTJOB', 'PEMLR', 'PREMPNOT', 'PENLFACT', 'PWSSWGT', 'HRMONTH']\n",
    "        keep_cols = ['RETIRED', 'POP', 'HRMONTH']\n",
    "        component_vars = {'RETIRED': lambda x: np.where(((x['PRWNTJOB']==2) & \n",
    "                                                     ((x['PEMLR']==5) | \n",
    "                                                      (x['PENLFACT']==5))), \n",
    "                                                       x['PWSSWGT'], 0),\n",
    "                          'POP': lambda x: np.where(x['PREMPNOT'].isin([1, 2, 3, 4]), \n",
    "                                                    x['PWSSWGT'], 0)}\n",
    "        calc_var = lambda x: (x['RETIRED'] / x['POP'])         \n",
    "        \n",
    "    # NILF - discourged\n",
    "    if calc_type == 'nilf_discouraged':\n",
    "        filter_cols = ['PEDWWNTO', 'PREMPNOT', 'PWSSWGT', 'HRMONTH']\n",
    "        keep_cols = ['DISCOURAGED', 'POP', 'HRMONTH']\n",
    "        component_vars = {'DISCOURAGED': lambda x: np.where(x['PEDWWNTO']==1,\n",
    "                                                           x['PWSSWGT'], 0),\n",
    "                          'POP': lambda x: np.where(x['PREMPNOT'].isin([1, 2, 3, 4]), \n",
    "                                                    x['PWSSWGT'], 0)}\n",
    "        calc_var = lambda x: (x['DISCOURAGED'] / x['POP'])       \n",
    "    \n",
    "    if len(keep_cols) > 0:\n",
    "        data = (pd.concat(\n",
    "            [(pd.read_feather(f'cps{year}.ft', nthreads=3)\n",
    "                .query(query_str)\n",
    "                .filter(items = filter_cols)\n",
    "                .assign(**component_vars)\n",
    "                .filter(items = keep_cols)\n",
    "                .groupby('HRMONTH').sum()\n",
    "                .pipe(cps_datetime, year)\n",
    "                .set_index('DATE')) \n",
    "            for year in year_range])\n",
    "                .rolling(12).sum().dropna()\n",
    "                .assign(FINAL = calc_var)\n",
    "               )['FINAL']\n",
    "    \n",
    "    # Usual hourly earnings - real, at the median\n",
    "    if calc_type == 'median_hourly_wage_real':\n",
    "        filter_cols = ['RHRWAGE', 'PWORWGT', 'HRMONTH']\n",
    "        wage_var = 'RHRWAGE'\n",
    "    # Usual weekly earnings - real, at the median\n",
    "    if calc_type == 'median_weekly_wage_real':\n",
    "        filter_cols = ['RWKWAGE', 'PWORWGT', 'HRMONTH']\n",
    "        wage_var = 'RWKWAGE'\n",
    "        \n",
    "    if 'wage' in calc_type:\n",
    "        data = (pd.concat(\n",
    "            [(pd.read_feather(f'cps{year}.ft', nthreads=3)\n",
    "                .query(query_str)\n",
    "                .filter(items = filter_cols)\n",
    "                .rename({wage_var: 'WAGE'}, axis=1)\n",
    "                .groupby('HRMONTH').apply(binned_median)\n",
    "                .reset_index().set_index('HRMONTH')\n",
    "                .pipe(cps_datetime, year)\n",
    "                .set_index('DATE'))\n",
    "            for year in year_range])\n",
    "                .rolling(12).mean().dropna()\n",
    "               )[0]\n",
    "\n",
    "    return data\n",
    "\n",
    "def binned_median(dfm):\n",
    "    \"\"\"Return BLS-styled binned median wage\"\"\"\n",
    "    if dfm['WAGE'].max() < 200:\n",
    "        wage_ranges = list(np.arange(0.125,200,0.25))\n",
    "    else:\n",
    "        wage_ranges = list(np.arange(2.5,3000,5.0))        \n",
    "    dft = (dfm.query('WAGE > 0')\n",
    "              .sort_values('WAGE')\n",
    "              .assign(WAGE_RANGE = (lambda x: pd.cut(x['WAGE'], wage_ranges, \n",
    "                                           include_lowest=True)),\n",
    "                      CS = lambda x: x['PWORWGT'].cumsum()))\n",
    "    \n",
    "    midpt = dft['PWORWGT'].sum() * 0.5\n",
    "    mid_interval = dft.iloc[(dft['CS']-midpt).abs().argsort()[:1]].WAGE_RANGE.values[0]\n",
    "\n",
    "    wage_bins = list(dft['WAGE_RANGE'].unique())\n",
    "\n",
    "    mi_loc = wage_bins.index(mid_interval)\n",
    "    lowval = dft[dft['WAGE_RANGE'] == wage_bins[mi_loc-1]].iloc[-1].CS\n",
    "    highval = dft[dft['WAGE_RANGE'] == wage_bins[mi_loc]].iloc[-1].CS\n",
    "\n",
    "    binned_med = ((((midpt - lowval) / (highval - lowval)) * 0.5) + mid_interval.left)\n",
    "    \n",
    "    return(binned_med)\n",
    "\n",
    "\n",
    "def cps_datetime(df, year):\n",
    "    \"\"\"Return DATE '1994-01-01' from HRMONTH and year\"\"\"\n",
    "    df['DATE'] = [pd.to_datetime(f'{year}-{month}-01') \n",
    "                  for month in df.index]\n",
    "    return df \n",
    "    \n",
    "\n",
    "def labor_mkt_grapher(title, data, color):\n",
    "    \"\"\"Graph time series data from 1994 to present, with recession bars\n",
    "       and the most recent monthly data point labeled and annotated.\"\"\"\n",
    "    if data.max() <= 1.0:\n",
    "        ftype = 'pct'\n",
    "    elif data.max() <= 2000.0:\n",
    "        ftype = 'usd'\n",
    "    else:\n",
    "        ftype = 'people'\n",
    "    if ftype == 'pct':\n",
    "        data = data * 100.0\n",
    "    spcr, spcr2 = (data.max() - data.min()) / 26, (data.max() - data.min()) / 40\n",
    "    ax = data.plot(figsize=(8, 4), color=color)\n",
    "    ax = plt.title(title, loc='left')\n",
    "    ax = plt.scatter([data.index[-1]], [data[-1]], color=color, s=25)\n",
    "    for i, v in rec_dt:\n",
    "        ax = plt.axvspan(i, v, fill=True, linewidth=0, color='gray', alpha=0.2)\n",
    "    if ftype == 'pct':\n",
    "        ax = plt.annotate(f'   {data[-1]: .1f}%', (data.index[-1], data[-1]-spcr2))\n",
    "    elif ftype == 'usd':\n",
    "        ax = plt.annotate(f'   ${data[-1]: .2f}', (data.index[-1], data[-1]-spcr2))\n",
    "    else:\n",
    "        ax = plt.annotate(f'   {int(data[-1]):,}', (data.index[-1], data[-1]-spcr2))        \n",
    "    ax = plt.xlabel('Source: Current Population Survey microdata, 12-month moving average', ha='left', x=0)\n",
    "    ax = plt.annotate(f'  {data.index[-1]:%b %Y}', (data.index[-1], data[-1]+spcr), \n",
    "                      fontweight='bold')"
   ]
  },
  {
   "cell_type": "code",
   "execution_count": 5,
   "metadata": {
    "ExecuteTime": {
     "end_time": "2018-10-15T05:07:52.909318Z",
     "start_time": "2018-10-15T05:07:52.906829Z"
    },
    "code_folding": []
   },
   "outputs": [],
   "source": [
    "# Example query string used to filter CPS\n",
    "filters = 'AGE >= 25 and AGE <= 54 and FEMALE == 1'\n",
    "group = 'women age 25-54'\n",
    "#filters = 'STATE==\"NY\"'\n",
    "#filters = 'WBHAO==\"Black\" and AGE < 25 and FEMALE == 0'\n",
    "#filters = 'FEMALE == 1 and MARRIED == 1'\n",
    "#group = 'married women'"
   ]
  },
  {
   "cell_type": "code",
   "execution_count": 8,
   "metadata": {
    "ExecuteTime": {
     "end_time": "2018-10-15T05:19:05.320705Z",
     "start_time": "2018-10-15T05:19:05.314899Z"
    }
   },
   "outputs": [],
   "source": [
    "filters = 'INDGRP == \"Manufacturing\"'\n",
    "group = 'manufacturing industries'"
   ]
  },
  {
   "cell_type": "code",
   "execution_count": 3,
   "metadata": {
    "ExecuteTime": {
     "end_time": "2018-10-14T01:16:59.743667Z",
     "start_time": "2018-10-14T01:16:59.738836Z"
    }
   },
   "outputs": [],
   "source": [
    "filters = 'FORBORN == 1'\n",
    "group = 'foreign born'"
   ]
  },
  {
   "cell_type": "code",
   "execution_count": 4,
   "metadata": {
    "ExecuteTime": {
     "end_time": "2018-10-14T01:17:07.488130Z",
     "start_time": "2018-10-14T01:17:02.209219Z"
    },
    "code_folding": []
   },
   "outputs": [
    {
     "data": {
      "image/png": "[encoded data removed]",
      "text/plain": [
       "<Figure size 576x288 with 1 Axes>"
      ]
     },
     "metadata": {
      "needs_background": "light"
     },
     "output_type": "display_data"
    }
   ],
   "source": [
    "# Employment Rate\n",
    "calc_type = 'epop'\n",
    "title = f'Employment rate, {group}'\n",
    "data = bd_cps_data(filters, calc_type)\n",
    "labor_mkt_grapher(title, data, 'green')"
   ]
  },
  {
   "cell_type": "code",
   "execution_count": null,
   "metadata": {
    "ExecuteTime": {
     "end_time": "2018-10-10T22:49:11.381682Z",
     "start_time": "2018-10-10T22:49:09.403264Z"
    },
    "code_folding": []
   },
   "outputs": [],
   "source": [
    "# Unemployment Rate\n",
    "calc_type = 'unrate'\n",
    "title = f'Unemployment rate, {group}'\n",
    "data = bd_cps_data(filters, calc_type) \n",
    "labor_mkt_grapher(title, data, 'blue')"
   ]
  },
  {
   "cell_type": "code",
   "execution_count": null,
   "metadata": {
    "ExecuteTime": {
     "end_time": "2018-10-10T22:49:20.607622Z",
     "start_time": "2018-10-10T22:49:18.694538Z"
    },
    "code_folding": [
     0
    ],
    "scrolled": true
   },
   "outputs": [],
   "source": [
    "# Labor force participation Rate\n",
    "calc_type = 'lfpr'\n",
    "title = f'Labor force participation rate, {group}'\n",
    "data = bd_cps_data(filters, calc_type)\n",
    "labor_mkt_grapher(title, data, 'red')"
   ]
  },
  {
   "cell_type": "code",
   "execution_count": null,
   "metadata": {
    "ExecuteTime": {
     "end_time": "2018-10-12T19:03:59.508433Z",
     "start_time": "2018-10-12T19:03:56.911250Z"
    },
    "code_folding": []
   },
   "outputs": [],
   "source": [
    "# Union membership rate (uses 1/4 sample)\n",
    "calc_type = 'union'\n",
    "title = f'Union membership rate, {group}'\n",
    "data = bd_cps_data(filters, calc_type)\n",
    "labor_mkt_grapher(title, data, 'orange')"
   ]
  },
  {
   "cell_type": "code",
   "execution_count": null,
   "metadata": {
    "ExecuteTime": {
     "end_time": "2018-10-10T22:49:42.101505Z",
     "start_time": "2018-10-10T22:49:40.213806Z"
    }
   },
   "outputs": [],
   "source": [
    "# Population estimate (12 month moving average)\n",
    "calc_type = 'pop'\n",
    "title = f'Population, {group}'\n",
    "data = bd_cps_data(filters, calc_type)\n",
    "labor_mkt_grapher(title, data, 'purple')"
   ]
  },
  {
   "cell_type": "code",
   "execution_count": null,
   "metadata": {
    "ExecuteTime": {
     "end_time": "2018-10-10T22:49:57.092953Z",
     "start_time": "2018-10-10T22:49:55.147789Z"
    }
   },
   "outputs": [],
   "source": [
    "# Not in the labor force because of illness or disability\n",
    "calc_type = 'nilf_disill'\n",
    "title = f'Not in the labor force, disability or illness, {group}'\n",
    "data = bd_cps_data(filters, calc_type)\n",
    "labor_mkt_grapher(title, data, 'blue')"
   ]
  },
  {
   "cell_type": "code",
   "execution_count": null,
   "metadata": {
    "ExecuteTime": {
     "end_time": "2018-10-10T22:50:02.527638Z",
     "start_time": "2018-10-10T22:50:00.541770Z"
    }
   },
   "outputs": [],
   "source": [
    "# Not in the labor force because of school\n",
    "calc_type = 'nilf_school'\n",
    "title = f'Not in the labor force, in school, {group}'\n",
    "data = bd_cps_data(filters, calc_type)\n",
    "labor_mkt_grapher(title, data, 'red')"
   ]
  },
  {
   "cell_type": "code",
   "execution_count": null,
   "metadata": {
    "ExecuteTime": {
     "end_time": "2018-10-10T22:50:07.825090Z",
     "start_time": "2018-10-10T22:50:05.924512Z"
    }
   },
   "outputs": [],
   "source": [
    "# Not in the labor force because of care role\n",
    "calc_type = 'nilf_care'\n",
    "title = f'Not in the labor force, care role, {group}'\n",
    "data = bd_cps_data(filters, calc_type)\n",
    "labor_mkt_grapher(title, data, 'green')"
   ]
  },
  {
   "cell_type": "code",
   "execution_count": null,
   "metadata": {
    "ExecuteTime": {
     "end_time": "2018-10-10T22:50:13.064911Z",
     "start_time": "2018-10-10T22:50:11.144230Z"
    }
   },
   "outputs": [],
   "source": [
    "# Not in the labor force because of retirement\n",
    "calc_type = 'nilf_retired'\n",
    "title = f'Not in the labor force, retired, {group}'\n",
    "data = bd_cps_data(filters, calc_type)\n",
    "labor_mkt_grapher(title, data, 'orange')"
   ]
  },
  {
   "cell_type": "code",
   "execution_count": null,
   "metadata": {
    "ExecuteTime": {
     "end_time": "2018-10-10T22:50:18.573095Z",
     "start_time": "2018-10-10T22:50:16.643435Z"
    }
   },
   "outputs": [],
   "source": [
    "# Not in the labor force because of discouraged\n",
    "calc_type = 'nilf_discouraged'\n",
    "title = f'Not in the labor force, discouraged, {group}'\n",
    "data = bd_cps_data(filters, calc_type)\n",
    "labor_mkt_grapher(title, data, 'purple')"
   ]
  },
  {
   "cell_type": "code",
   "execution_count": 9,
   "metadata": {
    "ExecuteTime": {
     "end_time": "2018-10-15T05:19:23.515182Z",
     "start_time": "2018-10-15T05:19:11.307006Z"
    }
   },
   "outputs": [
    {
     "data": {
      "image/png": "[encoded data removed]",
      "text/plain": [
       "<Figure size 576x288 with 1 Axes>"
      ]
     },
     "metadata": {
      "needs_background": "light"
     },
     "output_type": "display_data"
    }
   ],
   "source": [
    "# Median hourly wage, nominal\n",
    "calc_type = 'median_hourly_wage_real'\n",
    "title = f'Median hourly real wage, {group}'\n",
    "data = bd_cps_data(filters, calc_type)\n",
    "labor_mkt_grapher(title, data, 'black')"
   ]
  },
  {
   "cell_type": "code",
   "execution_count": 10,
   "metadata": {
    "ExecuteTime": {
     "end_time": "2018-10-15T05:19:42.537206Z",
     "start_time": "2018-10-15T05:19:31.909626Z"
    }
   },
   "outputs": [
    {
     "data": {
      "image/png": "[encoded data removed]",
      "text/plain": [
       "<Figure size 576x288 with 1 Axes>"
      ]
     },
     "metadata": {
      "needs_background": "light"
     },
     "output_type": "display_data"
    }
   ],
   "source": [
    "# Median hourly wage, nominal\n",
    "calc_type = 'median_weekly_wage_real'\n",
    "title = f'Median weekly real wage, {group}'\n",
    "data = bd_cps_data(filters, calc_type)\n",
    "labor_mkt_grapher(title, data, 'blue')"
   ]
  },
  {
   "cell_type": "code",
   "execution_count": null,
   "metadata": {},
   "outputs": [],
   "source": []
  },
  {
   "cell_type": "code",
   "execution_count": null,
   "metadata": {},
   "outputs": [],
   "source": []
  }
 ],
 "metadata": {
  "kernelspec": {
   "display_name": "Python 3",
   "language": "python",
   "name": "python3"
  },
  "language_info": {
   "codemirror_mode": {
    "name": "ipython",
    "version": 3
   },
   "file_extension": ".py",
   "mimetype": "text/x-python",
   "name": "python",
   "nbconvert_exporter": "python",
   "pygments_lexer": "ipython3",
   "version": "3.6.6"
  }
 },
 "nbformat": 4,
 "nbformat_minor": 2
}
