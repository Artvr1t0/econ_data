{
 "cells": [
  {
   "cell_type": "markdown",
   "metadata": {},
   "source": [
    "### bd CPS graph basic labor market indicators\n",
    "\n",
    "bd_CPS_grapher.ipynb\n",
    "\n",
    "January 27, 2019\n",
    "\n",
    "Brian Dew, brian.w.dew@gmail.com, twitter: @bd_econ\n",
    "\n",
    "Requires: `cpsYYYY.ft`, where `YYYY` is the year, for each year in year_range.\n",
    "\n",
    "____\n",
    "\n",
    "Notes:\n",
    "\n",
    "Several [open issues](https://github.com/bdecon/econ_data/issues) on GitHub. This code needs to do four things: 1) read and aggregate CPS data as instructed (one month, three months, one year, two years); 2) Apply some pre-specified calculations, such as the employment-to-population ratio, unemployment rate, usual earnings at various percentiles, etc.; 3) apply adjustments after the fact, such as moving average, or adjustment for inflation; and 4) allow for collecting data on multiple groups during each read cycle. \n",
    "\n",
    "Once the collected data are prepared, use matplotlib to generate nice-looking line plots. \n",
    "\n",
    "\n",
    "\n",
    "The [categorization](https://www.frbatlanta.org/chcs/human-capital-currents/2015/0612-measuring-labor-market-status-using-basic-data.aspx) of those not in the labor force is provided by the Federal Reserve Bank of Atlanta. \n",
    "\n",
    "Useful [pseudocode](https://www.kansascityfed.org/research/kcdc/cps/coreinfo/pseudocode/hrswk) for various CPS-based calculations is provided by the Federal Reserve Bank of Kansas City."
   ]
  },
  {
   "cell_type": "code",
   "execution_count": 1,
   "metadata": {
    "ExecuteTime": {
     "end_time": "2019-01-27T23:34:51.428881Z",
     "start_time": "2019-01-27T23:34:51.126352Z"
    },
    "code_folding": [
     0
    ],
    "run_control": {
     "marked": false
    }
   },
   "outputs": [],
   "source": [
    "# Preliminaries\n",
    "%matplotlib inline\n",
    "\n",
    "# Import packages\n",
    "import os, re\n",
    "import pandas as pd\n",
    "import numpy as np\n",
    "import matplotlib.pyplot as plt\n",
    "\n",
    "# Graph settings\n",
    "plt.style.use('seaborn-white')\n",
    "plt.rc('axes', edgecolor='white') # Hide the axes\n",
    "plt.rc('axes', axisbelow=True)\n",
    "plt.rcParams.update({'axes.titlesize': 'x-large'})\n",
    "\n",
    "os.chdir('/home/brian/Documents/CPS/data/clean/')\n",
    "\n",
    "# Recession start and end months, from NBER\n",
    "rec_dt = [('2001-04-01', '2001-12-01'), ('2008-01-01', '2009-07-01')]\n",
    "\n",
    "# Years of bd CPS data\n",
    "year_range = range(1994, 2019)"
   ]
  },
  {
   "cell_type": "code",
   "execution_count": 2,
   "metadata": {
    "ExecuteTime": {
     "end_time": "2019-01-27T23:34:51.433504Z",
     "start_time": "2019-01-27T23:34:51.430548Z"
    },
    "code_folding": [
     0
    ]
   },
   "outputs": [],
   "source": [
    "def cps_datetime(df, year):\n",
    "    \"\"\"Return DATE '1994-01-01' from MONTH and year\"\"\"\n",
    "    df['DATE'] = [pd.to_datetime(f'{year}-{month}-01') \n",
    "                  for month in df.index]\n",
    "    return df "
   ]
  },
  {
   "cell_type": "code",
   "execution_count": 3,
   "metadata": {
    "ExecuteTime": {
     "end_time": "2019-01-27T23:34:51.452245Z",
     "start_time": "2019-01-27T23:34:51.434794Z"
    },
    "code_folding": [
     0
    ],
    "run_control": {
     "marked": false
    }
   },
   "outputs": [],
   "source": [
    "def calc_specs(calc_type, query_str):\n",
    "    \n",
    "    d = {}\n",
    "    \n",
    "    fcols2 = re.findall(' ([A-Z]+) ', query_str)\n",
    "    \n",
    "    #Default columns to keep in initial data read\n",
    "    d['filter_cols'] = ['LMSTAT', 'BASICWGT', 'MONTH'] + fcols2\n",
    "\n",
    "    if calc_type == 'epop':\n",
    "        d['tvars'] = {'EMPL': (lambda x: np.where((x['EMP']==1),  \n",
    "                                                   x['BASICWGT'], 0))}\n",
    "        d['calc_var'] = (lambda x: (x['EMPL'] / x['BASICWGT']))\n",
    "        d['filter_cols'] = ['EMP', 'BASICWGT', 'MONTH'] + fcols2\n",
    "        d['keep_cols'] = ['EMPL', 'BASICWGT', 'MONTH']\n",
    "        \n",
    "    if calc_type == 'epopcare':\n",
    "        d['tvars'] = {'EMPL': (lambda x: np.where((x['EMP']==1) | \n",
    "                                                  (x['LMSTAT']==\"NILF - Family\"),  \n",
    "                                                  x['BASICWGT'], 0))}\n",
    "        d['calc_var'] = (lambda x: (x['EMPL'] / x['BASICWGT']))    \n",
    "        d['filter_cols'] = ['EMP', 'LMSTAT', 'BASICWGT', 'MONTH'] + fcols2\n",
    "        d['keep_cols'] = ['EMPL', 'BASICWGT', 'MONTH']\n",
    "        \n",
    "    if calc_type == 'unemp':\n",
    "        d['tvars'] = {'UNEMP': (lambda x: np.where(x['LMSTAT']=='Unemployed', \n",
    "                                                   x['BASICWGT'], 0)),\n",
    "                      'LF': (lambda x: np.where(~x['LMSTAT'].str.contains('NILF'), \n",
    "                                                x['BASICWGT'], 0))}\n",
    "        d['calc_var'] = (lambda x: (x['UNEMP'] / x['LF']))\n",
    "        d['keep_cols'] = ['UNEMP', 'LF', 'MONTH']\n",
    "\n",
    "    if calc_type == 'lfpr':\n",
    "        d['tvars'] = {'LF': (lambda x: np.where(~x['LMSTAT'].str.contains('NILF'), \n",
    "                                                x['BASICWGT'], 0))}\n",
    "        d['calc_var'] = (lambda x: (x['LF'] / x['BASICWGT']))\n",
    "        d['keep_cols'] = ['LF', 'BASICWGT', 'MONTH']\n",
    "        \n",
    "    if calc_type == 'pop':       \n",
    "        d['tvars'] = {}\n",
    "        d['calc_var'] = lambda x: x['BASICWGT'] / 12.0\n",
    "        d['filter_cols'] = ['BASICWGT', 'MONTH'] + fcols2\n",
    "        d['keep_cols'] = ['BASICWGT', 'MONTH'] \n",
    "        \n",
    "    if calc_type == 'union':\n",
    "        d['tvars'] = {'TOT': lambda x: np.where(x['PEERNLAB'].isin([1, 2]), \n",
    "                                                x['PWORWGT'], 0),\n",
    "                      'UNION': lambda x: np.where(x['PEERNLAB']==1, \n",
    "                                                  x['PWORWGT'], 0)}\n",
    "        d['calc_var'] = (lambda x: (x['UNION'] / x['TOT']))\n",
    "        d['filter_cols'] = ['PEERNLAB', 'PWORWGT', 'MONTH'] + fcols2\n",
    "        d['keep_cols'] = ['UNION', 'TOT', 'MONTH']\n",
    "        \n",
    "    if calc_type == 'nilf_disill':\n",
    "        d['keep_cols'] = ['DIS', 'BASICWGT', 'MONTH']\n",
    "        d['tvars'] = {'DIS': lambda x: np.where(x['LMSTAT']=='NILF - Disabled/ill', \n",
    "                                                       x['BASICWGT'], 0)}\n",
    "        d['calc_var'] = (lambda x: (x['DIS'] / x['BASICWGT']))\n",
    "        \n",
    "    if calc_type == 'nilf_school':\n",
    "        d['keep_cols'] = ['SCHOOL', 'BASICWGT', 'MONTH']\n",
    "        d['tvars'] = {'SCHOOL': lambda x: np.where(x['LMSTAT']=='NILF - School', \n",
    "                                                       x['BASICWGT'], 0)}\n",
    "        d['calc_var'] = (lambda x: (x['SCHOOL'] / x['BASICWGT']))\n",
    "        \n",
    "    if calc_type == 'nilf_care':\n",
    "        d['keep_cols'] = ['CARE', 'BASICWGT', 'MONTH']\n",
    "        d['tvars'] = {'CARE': lambda x: np.where(x['LMSTAT']=='NILF - Family', \n",
    "                                                       x['BASICWGT'], 0)}\n",
    "        d['calc_var'] = (lambda x: (x['CARE'] / x['BASICWGT']))\n",
    "        \n",
    "    if calc_type == 'nilf_retired':\n",
    "        d['keep_cols'] = ['RET', 'BASICWGT', 'MONTH']\n",
    "        d['tvars'] = {'RET': lambda x: np.where(x['LMSTAT']=='NILF - Retired', \n",
    "                                                       x['BASICWGT'], 0)}\n",
    "        d['calc_var'] = (lambda x: (x['RET'] / x['BASICWGT']))\n",
    "        \n",
    "    if calc_type == 'nilf_discouraged':\n",
    "        d['keep_cols'] = ['DISC', 'BASICWGT', 'MONTH']\n",
    "        d['tvars'] = {'DISC': lambda x: np.where(x['LMSTAT']=='NILF - Discouraged',\n",
    "                                                           x['BASICWGT'], 0)}\n",
    "        d['calc_var'] = (lambda x: (x['DISC'] / x['BASICWGT']))\n",
    "        \n",
    "    \n",
    "    return d"
   ]
  },
  {
   "cell_type": "code",
   "execution_count": 4,
   "metadata": {
    "ExecuteTime": {
     "end_time": "2019-01-27T23:34:51.460579Z",
     "start_time": "2019-01-27T23:34:51.453986Z"
    },
    "code_folding": [
     0
    ],
    "run_control": {
     "marked": false
    }
   },
   "outputs": [],
   "source": [
    "def binned_wage(group, wage_var, decile):\n",
    "    \"\"\"Return BLS-styled binned decile/percentile wage\"\"\"\n",
    "    weight = 'PWORWGT'\n",
    "    bin_size = 0.5 #($0.50)\n",
    "    bins = list(np.arange(0.25, 300, bin_size))\n",
    "    if wage_var == 'RWKWAGE':\n",
    "        bin_size = 50 #($2.50)\n",
    "        bins = list(np.arange(25, 3000, bin_size))\n",
    "    bin_cut = lambda x: pd.cut(x[wage_var], bins, include_lowest=True)\n",
    "    cum_sum = lambda x: x[weight].cumsum()\n",
    "    dft = (group.sort_values(wage_var)\n",
    "                .assign(WAGE_RANGE = bin_cut, CS = cum_sum))\n",
    "    dec_point = dft[weight].sum() * decile\n",
    "    dec_bin = (dft.iloc[(dft['CS'] - dec_point).abs().argsort()[:1]]\n",
    "                  .WAGE_RANGE.values[0])\n",
    "    wage_bins = list(dft['WAGE_RANGE'].unique())\n",
    "    dec_loc = wage_bins.index(dec_bin)\n",
    "    bin_below = dft[dft['WAGE_RANGE'] == wage_bins[dec_loc-1]].iloc[-1].CS\n",
    "    bin_above = dft[dft['WAGE_RANGE'] == wage_bins[dec_loc]].iloc[-1].CS\n",
    "    dec_value = ((((dec_point - bin_below) / \n",
    "                   (bin_above - bin_below)) * bin_size) + dec_bin.left)\n",
    "    return dec_value"
   ]
  },
  {
   "cell_type": "code",
   "execution_count": 5,
   "metadata": {
    "ExecuteTime": {
     "end_time": "2019-01-27T23:34:51.469074Z",
     "start_time": "2019-01-27T23:34:51.461927Z"
    },
    "code_folding": [
     0
    ]
   },
   "outputs": [],
   "source": [
    "def wage_calc(query_str, calc_type, decile):\n",
    "    \n",
    "    # Usual hourly earnings - real\n",
    "    if calc_type == 'hourly_wage_real':\n",
    "        wage_var = 'RHRWAGE'\n",
    "    # Usual weekly earnings - real\n",
    "    if calc_type == 'weekly_wage_real':\n",
    "        wage_var = 'RWKWAGE'\n",
    "    \n",
    "    cps_dir = '/home/brian/Documents/CPS/data/'\n",
    "\n",
    "    cps_files = pd.Series([pd.to_datetime(file[:5], format='%b%y') \n",
    "                           for file in os.listdir(cps_dir) \n",
    "                           if file.endswith('.dat')\n",
    "                           and not file.startswith('cpsb')])\n",
    "\n",
    "    dt_windows = [pd.date_range(end=mo, periods=12, freq='MS') \n",
    "                      for mo in cps_files.sort_values()[11:]]\n",
    "    \n",
    "    fcols2 = re.findall(' ([A-Z]+) ', query_str)\n",
    "    \n",
    "    filter_cols = ['YEAR', 'MONTH', wage_var, 'PWORWGT'] + fcols2\n",
    "\n",
    "    cps_date = lambda x: pd.to_datetime(\n",
    "        dict(year=x.YEAR, month=x.MONTH, day=1))\n",
    "    df = pd.concat([\n",
    "         (pd.read_feather(f'cps{year}.ft', columns=filter_cols)\n",
    "            .query(query_str)\n",
    "            .query('PWORWGT > 0 and {} > 0'.format(wage_var))\n",
    "            .assign(DATE = cps_date)\n",
    "            .drop(['YEAR', 'MONTH'], axis=1)) \n",
    "         for year in year_range])\n",
    "\n",
    "    data = pd.Series()\n",
    "    for dw in dt_windows:\n",
    "        dec_wage = binned_wage(df[df['DATE'].isin(dw)], wage_var, decile)\n",
    "        data[dw[-1]] = dec_wage\n",
    "\n",
    "    return data"
   ]
  },
  {
   "cell_type": "code",
   "execution_count": 6,
   "metadata": {
    "ExecuteTime": {
     "end_time": "2019-01-27T23:34:51.477740Z",
     "start_time": "2019-01-27T23:34:51.470176Z"
    },
    "code_folding": [
     0
    ]
   },
   "outputs": [],
   "source": [
    "def data_retriever(query_str, calc_type, decile=None):    \n",
    "    \n",
    "    if 'wage' not in calc_type:\n",
    "        d = calc_specs(calc_type, query_str)\n",
    "        \n",
    "        data = (pd.concat(\n",
    "            [(pd.read_feather(f'cps{year}.ft', columns=d['filter_cols'])\n",
    "                .query(query_str)\n",
    "                .assign(**d['tvars'])\n",
    "                .filter(d['keep_cols'])\n",
    "                .groupby('MONTH').sum()\n",
    "                .pipe(cps_datetime, year)\n",
    "                .set_index('DATE')\n",
    "                .assign(FINAL = d['calc_var'])\n",
    "                .FINAL) for year in year_range])\n",
    "                ).rolling(12).mean().dropna()\n",
    "\n",
    "    if 'wage' in calc_type:\n",
    "        data = wage_calc(query_str, calc_type, decile)        \n",
    "    \n",
    "    return data    "
   ]
  },
  {
   "cell_type": "code",
   "execution_count": 7,
   "metadata": {
    "ExecuteTime": {
     "end_time": "2019-01-27T23:34:51.489667Z",
     "start_time": "2019-01-27T23:34:51.478916Z"
    },
    "code_folding": [
     0
    ]
   },
   "outputs": [],
   "source": [
    "def labor_mkt_grapher(title, data, color):\n",
    "    \"\"\"Graph time series data from 1994 to present, with recession bars\n",
    "       and the most recent monthly data point labeled and annotated.\"\"\"\n",
    "    if data.max() <= 1.0:\n",
    "        ftype = 'pct'\n",
    "    elif data.max() <= 2000.0:\n",
    "        ftype = 'usd'\n",
    "    else:\n",
    "        ftype = 'people'\n",
    "    if ftype == 'pct':\n",
    "        data = data * 100.0\n",
    "    spcr, spcr2 = (data.max() - data.min()) / 26, (data.max() - data.min()) / 40\n",
    "    offset = pd.DateOffset(months=4)\n",
    "    ax = data.plot(figsize=(8, 4), color=color)\n",
    "    ax = plt.xlim(data.index[0] - offset, data.index[-1] + offset)\n",
    "    ax = plt.title(title, loc='left')\n",
    "    ax = plt.scatter([data.index[-1]], [data[-1]], color=color, s=25)\n",
    "    for i, v in rec_dt:\n",
    "        ax = plt.axvspan(i, v, fill=True, linewidth=0, color='gray', alpha=0.2)\n",
    "    if ftype == 'pct':\n",
    "        ax = plt.annotate(f'   {data[-1]: .1f}%', (data.index[-1], data[-1]-spcr2))\n",
    "    elif ftype == 'usd':\n",
    "        ax = plt.annotate(f'   ${data[-1]: .2f}', (data.index[-1], data[-1]-spcr2))\n",
    "    else:\n",
    "        ax = plt.annotate(f'   {int(data[-1]):,}', (data.index[-1], data[-1]-spcr2))        \n",
    "    ax = plt.xlabel('Source: Current Population Survey microdata, 12-month moving average', ha='left', x=0)\n",
    "    ax = plt.annotate(f'  {data.index[-1]:%b %Y}', (data.index[-1], data[-1]+spcr), \n",
    "                      fontweight='bold')"
   ]
  },
  {
   "cell_type": "markdown",
   "metadata": {},
   "source": [
    "#### How to use\n",
    "\n",
    "1) Define the filter query string, for example: `filters = '25 <= AGE <= 54 and FEMALE == 1'`.\n",
    "\n",
    "2) Give a text name to the group defined above, `group = 'women age 25 to 54'`.\n",
    "\n",
    "3) Select the calculation (see below), `calc_type = 'epop'`.\n",
    "\n",
    "4) Customize the title, `title = f'Employed share of population, {group}'`.\n",
    "\n",
    "5) Call function, `data = bd_cps_data(filters, calc_type)`\n",
    "\n",
    "6) Graph data (third argument is line color), `labor_mkt_grapher(title, data, 'blue')`\n",
    "\n",
    "\n",
    "#### List of calc_type options\n",
    "\n",
    "- `median_weekly_wage_real` (specify decile, e.g. data['10th'])\n",
    "- `median_hourly_wage_real` (specify decile, e.g. data['10th'])\n",
    "- `epop`\n",
    "- `epopcare`\n",
    "- `unrate`\n",
    "- `lfpr`\n",
    "- `pop`\n",
    "- `union`\n",
    "- `nilf_disill`\n",
    "- `nilf_school`\n",
    "- `nilf_care`\n",
    "- `nilf_retired`\n",
    "- `nilf_discouraged`"
   ]
  },
  {
   "cell_type": "code",
   "execution_count": 8,
   "metadata": {
    "ExecuteTime": {
     "end_time": "2019-01-27T23:34:53.235932Z",
     "start_time": "2019-01-27T23:34:51.490908Z"
    },
    "code_folding": [],
    "run_control": {
     "marked": false
    }
   },
   "outputs": [
    {
     "data": {
      "image/png": "[encoded data removed]",
      "text/plain": [
       "<Figure size 576x288 with 1 Axes>"
      ]
     },
     "metadata": {
      "needs_background": "light"
     },
     "output_type": "display_data"
    }
   ],
   "source": [
    "# Example\n",
    "query_str = '25 <= AGE <= 54 and FEMALE == 1 and STATE == \"TN\"'\n",
    "group = 'women age 25 to 54 in Tennessee'\n",
    "calc_type = 'epop'\n",
    "decile = None\n",
    "title = f'Employed share of population, {group}'\n",
    "data = data_retriever(query_str, calc_type, decile)\n",
    "labor_mkt_grapher(title, data, 'blue')"
   ]
  },
  {
   "cell_type": "code",
   "execution_count": 9,
   "metadata": {
    "ExecuteTime": {
     "end_time": "2019-01-27T23:35:17.624366Z",
     "start_time": "2019-01-27T23:34:53.237078Z"
    }
   },
   "outputs": [
    {
     "data": {
      "image/png": "[encoded data removed]",
      "text/plain": [
       "<Figure size 576x288 with 1 Axes>"
      ]
     },
     "metadata": {
      "needs_background": "light"
     },
     "output_type": "display_data"
    }
   ],
   "source": [
    "# Example 2\n",
    "filters = ' PRFTLF == 1'\n",
    "group = 'full-time workers'\n",
    "calc_type = 'weekly_wage_real'\n",
    "decile = 0.1\n",
    "title = f'First decile real hourly wage, {group}'\n",
    "data = data_retriever(filters, calc_type, decile)\n",
    "labor_mkt_grapher(title, data, 'red')"
   ]
  },
  {
   "cell_type": "code",
   "execution_count": 10,
   "metadata": {
    "ExecuteTime": {
     "end_time": "2019-01-27T23:35:18.740502Z",
     "start_time": "2019-01-27T23:35:17.625726Z"
    }
   },
   "outputs": [
    {
     "data": {
      "image/png": "[encoded data removed]",
      "text/plain": [
       "<Figure size 576x288 with 1 Axes>"
      ]
     },
     "metadata": {
      "needs_background": "light"
     },
     "output_type": "display_data"
    }
   ],
   "source": [
    "# Example 3\n",
    "filters = '25 <= AGE <= 34'\n",
    "group = 'age 25 to 34'\n",
    "calc_type = 'union'\n",
    "decile = 0.1\n",
    "title = f'Union membership rate, {group}'\n",
    "data = data_retriever(filters, calc_type, decile)\n",
    "labor_mkt_grapher(title, data, 'green')"
   ]
  },
  {
   "cell_type": "code",
   "execution_count": null,
   "metadata": {},
   "outputs": [],
   "source": []
  }
 ],
 "metadata": {
  "kernelspec": {
   "display_name": "Python 3",
   "language": "python",
   "name": "python3"
  },
  "language_info": {
   "codemirror_mode": {
    "name": "ipython",
    "version": 3
   },
   "file_extension": ".py",
   "mimetype": "text/x-python",
   "name": "python",
   "nbconvert_exporter": "python",
   "pygments_lexer": "ipython3",
   "version": "3.7.1"
  }
 },
 "nbformat": 4,
 "nbformat_minor": 2
}
