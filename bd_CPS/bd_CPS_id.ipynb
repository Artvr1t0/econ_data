{
 "cells": [
  {
   "cell_type": "markdown",
   "metadata": {},
   "source": [
    "### Unique CPS person ID \n",
    "\n",
    "February 9, 2019\n",
    "\n",
    "Brian Dew, @bd_econ"
   ]
  },
  {
   "cell_type": "code",
   "execution_count": 1,
   "metadata": {
    "ExecuteTime": {
     "end_time": "2019-02-09T23:17:57.061775Z",
     "start_time": "2019-02-09T23:17:56.847149Z"
    }
   },
   "outputs": [],
   "source": [
    "import os, re, struct\n",
    "import pandas as pd\n",
    "pd.options.mode.chained_assignment = None\n",
    "import numpy as np\n",
    "from bd_CPS_details import StatesMap\n",
    "\n",
    "os.chdir('/home/brian/Documents/CPS/data')"
   ]
  },
  {
   "cell_type": "code",
   "execution_count": 2,
   "metadata": {
    "ExecuteTime": {
     "end_time": "2019-02-09T23:17:57.093291Z",
     "start_time": "2019-02-09T23:17:57.063740Z"
    },
    "code_folding": [
     0
    ]
   },
   "outputs": [],
   "source": [
    "# Details for matching new file to previous data\n",
    "file = 'dec15pub.dat'\n",
    "curr_mo = pd.to_datetime(file[:5], format='%b%y')\n",
    "mo_diffs = [1, 2, 3, 9, 10, 11, 12, 13, 14, 15]\n",
    "poss_mos = [poss_mo for poss_mo in [curr_mo - pd.DateOffset(months=mo_diff)\n",
    "            for mo_diff in mo_diffs]]\n",
    "\n",
    "years = list(set([pm.year for pm in poss_mos]))\n",
    "bd_CPS_files = [f'cps{year}.ft' for year in years]\n",
    "\n",
    "yymms = [int(pm.strftime('%y%m')) for pm in poss_mos]\n",
    "\n",
    "# Create mapping of MIS to potential match months\n",
    "yymms_rev = yymms[::-1]\n",
    "\n",
    "search_list = {\n",
    "    8: yymms_rev[:4] + yymms_rev[-3:],\n",
    "    7: yymms_rev[1:5] + yymms_rev[-2:],\n",
    "    6: yymms_rev[2:6] + yymms_rev[-1:],\n",
    "    5: yymms_rev[3:7],\n",
    "    4: yymms_rev[-3:],\n",
    "    3: yymms_rev[-2:],\n",
    "    2: yymms_rev[-1:]\n",
    "}"
   ]
  },
  {
   "cell_type": "code",
   "execution_count": 3,
   "metadata": {
    "ExecuteTime": {
     "end_time": "2019-02-09T23:17:57.104368Z",
     "start_time": "2019-02-09T23:17:57.094914Z"
    },
    "code_folding": [
     0
    ],
    "run_control": {
     "marked": false
    }
   },
   "outputs": [],
   "source": [
    "# Background to read current monthly file\n",
    "# read data dictionary text file \n",
    "dd_file = 'January_2017_Record_Layout.txt'\n",
    "data_dict = open(dd_file, 'r', encoding='iso-8859-1').read()\n",
    "\n",
    "# manually list out the IDs for series of interest \n",
    "var_names = ['HRMONTH', 'HRYEAR4', 'HRMIS', 'QSTNUM', 'OCCURNUM', \n",
    "             'HRHHID', 'HRHHID2', 'GESTFIPS', 'HWHHWGT']\n",
    "\n",
    "# regular expression matching series name and data dict pattern\n",
    "p = f'\\n({\"|\".join(var_names)})\\s+(\\d+)\\s+.*?\\t+.*?(\\d\\d*).*?(\\d\\d+)'\n",
    "\n",
    "# pick data type based on size of variable\n",
    "def id_dtype(size):\n",
    "    size = int(size)\n",
    "    dtype = ('intp' if size > 9 \n",
    "             else 'int32' if size > 4 \n",
    "             else 'int16' if size > 2 \n",
    "             else 'int8')\n",
    "    return dtype\n",
    "\n",
    "# dictionary of variable name: [start, end, and length + 's']\n",
    "d = {s[0]: [int(s[2])-1, int(s[3]), f'{s[1]}s', id_dtype(s[1])]\n",
    "     for s in re.findall(p, data_dict)}\n",
    "\n",
    "# data types\n",
    "dtypes = [(k, v[-1]) for k, v in d.items()]\n",
    "\n",
    "# weight variable start and end location\n",
    "ws, we = d['HWHHWGT'][:2]\n",
    "\n",
    "# first occurance to set household start and end\n",
    "hs, he = d['OCCURNUM'][:2]\n",
    "\n",
    "# lists of variable starts, ends, and lengths\n",
    "start, end, width, dtype = zip(*d.values())\n",
    "\n",
    "# create list of which characters to skip in each row\n",
    "skip = ([f'{s - e}x' for s, e in zip(start, [0] + list(end[:-1]))])\n",
    "\n",
    "# create format string by joining skip and variable segments\n",
    "unpack_fmt = ''.join([j for i in zip(skip, width) for j in i])\n",
    "\n",
    "# struct can interpret row bytes with the format string\n",
    "unpacker = struct.Struct(unpack_fmt).unpack_from"
   ]
  },
  {
   "cell_type": "code",
   "execution_count": 4,
   "metadata": {
    "ExecuteTime": {
     "end_time": "2019-02-09T23:17:57.325494Z",
     "start_time": "2019-02-09T23:17:57.106125Z"
    },
    "code_folding": [
     0
    ],
    "run_control": {
     "marked": false
    }
   },
   "outputs": [
    {
     "name": "stdout",
     "output_type": "stream",
     "text": [
      "52187\n"
     ]
    }
   ],
   "source": [
    "# Read new monthly file\n",
    "data = [unpacker(row) for row in open(file, 'rb') \n",
    "        if (row[ws:we].strip() > b'0')\n",
    "        and (row[hs:he].strip() == b'1')]\n",
    "\n",
    "# Assign new date variable\n",
    "date = lambda x: (((x.HRYEAR4.astype(np.int32) * 100) + \n",
    "                  x.HRMONTH.astype(np.int8)) % 10000)\n",
    "\n",
    "# Convert to dataframe using specified weights\n",
    "df = (pd.DataFrame(np.array(data, dtype=dtypes))\n",
    "        .assign(DATE = date)\n",
    "        .rename({'HRHHID': 'HHID', 'HRHHID2': 'HHID2'}, axis=1))\n",
    "\n",
    "# Need to map state to state id codes\n",
    "df['STATE'] = df['GESTFIPS'].map(StatesMap)\n",
    "\n",
    "# Drop GESTFIPS and OCCURNUM\n",
    "df = df.drop(['GESTFIPS', 'OCCURNUM'], axis=1)\n",
    "print(len(df))"
   ]
  },
  {
   "cell_type": "code",
   "execution_count": 5,
   "metadata": {
    "ExecuteTime": {
     "end_time": "2019-02-09T23:17:57.669967Z",
     "start_time": "2019-02-09T23:17:57.329032Z"
    },
    "code_folding": [
     0
    ]
   },
   "outputs": [],
   "source": [
    "# Read potential match data\n",
    "keep_cols = ['YEAR', 'MONTH', 'MIS', 'HHID', 'HHID2', 'QSTNUM', \n",
    "             'OCCURNUM', 'STATE']\n",
    "\n",
    "date = lambda x: (((x.YEAR.astype(np.int32) * 100) + \n",
    "                  x.MONTH.astype(np.int8)) % 10000)\n",
    "\n",
    "mdf = (pd.concat(\n",
    "    [(pd.read_feather(f'clean/cps{year}.ft', columns=keep_cols)\n",
    "        .query('OCCURNUM == 1')\n",
    "        .assign(DATE = date))\n",
    "     for year in years]))\n",
    "\n",
    "mdf = (mdf[mdf['DATE'].isin(yymms)].drop(['MONTH', 'YEAR'], axis=1))"
   ]
  },
  {
   "cell_type": "code",
   "execution_count": 6,
   "metadata": {
    "ExecuteTime": {
     "end_time": "2019-02-09T23:17:58.354151Z",
     "start_time": "2019-02-09T23:17:57.673321Z"
    },
    "code_folding": [
     0
    ]
   },
   "outputs": [
    {
     "name": "stdout",
     "output_type": "stream",
     "text": [
      "13034\n",
      "19681\n",
      "26323\n",
      "32484\n",
      "38904\n",
      "45520\n",
      "52187\n"
     ]
    }
   ],
   "source": [
    "# Merge data\n",
    "d = {}\n",
    "\n",
    "# MIS = 1 households get current id\n",
    "dfmis1 = df.loc[df['HRMIS'] == 1, ['QSTNUM', 'DATE']]\n",
    "dfmis1['ID'] = dfmis1['DATE'] * 100000 + dfmis1['QSTNUM']\n",
    "mis1id = dfmis1.set_index('QSTNUM')['ID'].to_dict()\n",
    "d.update(mis1id)\n",
    "\n",
    "df = df.loc[df['HRMIS'] > 1]\n",
    "dft = df\n",
    "\n",
    "# Loop over MIS and potentional matches to find matched id\n",
    "for mis in [2, 3, 4, 5, 6, 7, 8]:    \n",
    "    for pm in search_list[mis]:\n",
    "        results = (dft.loc[dft['HRMIS'] == mis]\n",
    "                      .merge(mdf[mdf['DATE'] == pm], \n",
    "                             on=['HHID', 'HHID2', 'STATE']))\n",
    "\n",
    "        results['ID'] = results['DATE_y'] * 100000 + results['QSTNUM_y']\n",
    "\n",
    "        matched_id = results.set_index('QSTNUM_x')['ID'].to_dict()\n",
    "        d.update(matched_id)\n",
    "\n",
    "        dft = dft.loc[~dft['QSTNUM'].isin(matched_id.keys())]\n",
    "    \n",
    "    # Households with no match get current id, same has MIS=1\n",
    "    new_hh = dft[dft['HRMIS'] == mis]\n",
    "    new_hh['ID'] = new_hh['DATE'] * 100000 + new_hh['QSTNUM']\n",
    "    new_hh_d = new_hh.set_index('QSTNUM')['ID'].to_dict()\n",
    "    d.update(new_hh_d)\n",
    "    print(len(d))\n",
    "    "
   ]
  },
  {
   "cell_type": "code",
   "execution_count": null,
   "metadata": {},
   "outputs": [],
   "source": []
  },
  {
   "cell_type": "code",
   "execution_count": null,
   "metadata": {},
   "outputs": [],
   "source": []
  },
  {
   "cell_type": "code",
   "execution_count": null,
   "metadata": {},
   "outputs": [],
   "source": []
  },
  {
   "cell_type": "code",
   "execution_count": null,
   "metadata": {},
   "outputs": [],
   "source": []
  },
  {
   "cell_type": "code",
   "execution_count": null,
   "metadata": {},
   "outputs": [],
   "source": []
  },
  {
   "cell_type": "code",
   "execution_count": null,
   "metadata": {},
   "outputs": [],
   "source": []
  },
  {
   "cell_type": "code",
   "execution_count": null,
   "metadata": {},
   "outputs": [],
   "source": []
  },
  {
   "cell_type": "code",
   "execution_count": null,
   "metadata": {},
   "outputs": [],
   "source": []
  },
  {
   "cell_type": "code",
   "execution_count": null,
   "metadata": {},
   "outputs": [],
   "source": []
  }
 ],
 "metadata": {
  "kernelspec": {
   "display_name": "Python 3",
   "language": "python",
   "name": "python3"
  },
  "language_info": {
   "codemirror_mode": {
    "name": "ipython",
    "version": 3
   },
   "file_extension": ".py",
   "mimetype": "text/x-python",
   "name": "python",
   "nbconvert_exporter": "python",
   "pygments_lexer": "ipython3",
   "version": "3.7.1"
  }
 },
 "nbformat": 4,
 "nbformat_minor": 2
}
