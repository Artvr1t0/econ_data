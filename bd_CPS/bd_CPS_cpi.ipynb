{
 "cells": [
  {
   "cell_type": "markdown",
   "metadata": {},
   "source": [
    "### bd econ CPS price level retrieval\n",
    "\n",
    "bd_CPS_cpi.ipynb\n",
    "\n",
    "January 30, 2019\n",
    "\n",
    "Brian Dew, @bd_econ\n",
    "\n",
    "-----\n",
    "This file is used to download the 1989-present consumer price indices for all urban consumers, as well as for urban consumers in the four census regions: Northeast, Midwest, South, and West. These data are used to adjust the wage and overtime values reported in the current population survey for changes to the price level. The 1989 to 1999 consumer price data does tend to overstate the inflation rate, thus making wage growth seem lower than it actually was over the period. Therefore, I may opt, at a later date, to replace the regional CPI approach with the BLS research series, referred to as the CPI-U-RS.\n",
    "\n",
    "To run this code, you need an API key from the [Bureau of Labor Statistics](https://www.bls.gov/developers/home.htm) (free), saved in a python file called `config.py` in the same directory as this notebook. The python file can be created from a blank text file that contains: `bls_key = API_key_pasted_here`."
   ]
  },
  {
   "cell_type": "code",
   "execution_count": 1,
   "metadata": {
    "ExecuteTime": {
     "end_time": "2019-11-13T13:55:44.267278Z",
     "start_time": "2019-11-13T13:55:43.958969Z"
    },
    "code_folding": []
   },
   "outputs": [
    {
     "name": "stdout",
     "output_type": "stream",
     "text": [
      "pandas: 0.24.2\n",
      "requests: 2.22.0\n"
     ]
    }
   ],
   "source": [
    "# Import packages and bls api key\n",
    "import pandas as pd\n",
    "print('pandas:', pd.__version__)\n",
    "import os\n",
    "import requests\n",
    "print('requests:', requests.__version__)\n",
    "import json\n",
    "import config\n",
    "\n",
    "os.chdir('/home/brian/Documents/CPS/data/clean/')"
   ]
  },
  {
   "cell_type": "markdown",
   "metadata": {},
   "source": [
    "##### BLS API retrieval\n",
    "\n",
    "Run after BLS releases CPI data for period of interest."
   ]
  },
  {
   "cell_type": "code",
   "execution_count": 2,
   "metadata": {
    "ExecuteTime": {
     "end_time": "2019-11-13T13:55:47.394369Z",
     "start_time": "2019-11-13T13:55:44.270310Z"
    },
    "code_folding": []
   },
   "outputs": [
    {
     "name": "stdout",
     "output_type": "stream",
     "text": [
      "Post Request Status: REQUEST_SUCCEEDED\n",
      "Latest month:  2019-10-01 00:00:00\n"
     ]
    }
   ],
   "source": [
    "# Code to update CPI as needed\n",
    "api_url = 'https://api.bls.gov/publicAPI/v2/timeseries/data/'\n",
    "\n",
    "# API key in config.py which contains: bls_key = 'key'\n",
    "key = f'?registrationkey={config.bls_key}'\n",
    "\n",
    "# Series stored as a dictionary\n",
    "series_dict = {'CUUR0000SA0': 'ALL',\n",
    "               'CUUR0100SA0': 'Northeast',\n",
    "               'CUUR0200SA0': 'Midwest',\n",
    "               'CUUR0300SA0': 'South',\n",
    "               'CUUR0400SA0': 'West'}\n",
    "\n",
    "# Start year and end year\n",
    "date_r = (1989, 2019)\n",
    "\n",
    "# Because API requests are limited to 10 years at a time,\n",
    "# this code block splits the dates above in 10-year chunks\n",
    "dates = [(str(date_r[0]), str(date_r[1]))]\n",
    "while int(dates[-1][1]) - int(dates[-1][0]) > 10:\n",
    "    dates = [(str(date_r[0]), str(date_r[0]+9))]\n",
    "    d1 = int(dates[-1][0])\n",
    "    while int(dates[-1][1]) < date_r[1]:\n",
    "        d1 = d1 + 10\n",
    "        d2 = min([date_r[1], d1+9])\n",
    "        dates.append((str(d1),(d2)))\n",
    "        \n",
    "df = pd.DataFrame()\n",
    "\n",
    "for start, end in dates:\n",
    "    # Submit the list of series as data\n",
    "    data = json.dumps({\n",
    "        \"seriesid\": list(series_dict.keys()),\n",
    "        \"startyear\": start, \"endyear\": end})\n",
    "\n",
    "    # Post request for the data\n",
    "    p = requests.post(f'{api_url}{key}', \n",
    "        headers={'Content-type': 'application/json'}, \n",
    "        data=data).json()\n",
    "    for s in p['Results']['series']:\n",
    "        col = series_dict[s['seriesID']]\n",
    "        for r in s['data']:\n",
    "            date = pd.to_datetime(f'{r[\"periodName\"]} {r[\"year\"]}')\n",
    "            df.at[date, col] = float(r['value'])\n",
    "df = df.sort_index()\n",
    "# Output results\n",
    "print(f'Post Request Status: {p[\"status\"]}')\n",
    "print('Latest month: ', df.index[-1])\n",
    "      \n",
    "cpi = (df.iloc[-1] / df)\n",
    "cpi.to_csv('cpi.csv')"
   ]
  }
 ],
 "metadata": {
  "kernelspec": {
   "display_name": "Python 3",
   "language": "python",
   "name": "python3"
  },
  "language_info": {
   "codemirror_mode": {
    "name": "ipython",
    "version": 3
   },
   "file_extension": ".py",
   "mimetype": "text/x-python",
   "name": "python",
   "nbconvert_exporter": "python",
   "pygments_lexer": "ipython3",
   "version": "3.7.5"
  }
 },
 "nbformat": 4,
 "nbformat_minor": 2
}
