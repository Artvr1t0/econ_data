{
 "cells": [
  {
   "cell_type": "markdown",
   "metadata": {},
   "source": [
    "### bd econ CPS price level retrieval\n",
    "\n",
    "bd_CPS_cpi.ipynb\n",
    "\n",
    "January 30, 2019\n",
    "\n",
    "Brian Dew, @bd_econ\n",
    "\n",
    "-----\n",
    "This file is used to download the 1989-present consumer price indices for all urban consumers, as well as for urban consumers in the four census regions: Northeast, Midwest, South, and West. These data are used to adjust the wage and overtime values reported in the current population survey for changes to the price level. The 1989 to 1999 consumer price data does tend to overstate the inflation rate, thus making wage growth seem lower than it actually was over the period. Therefore, I may opt, at a later date, to replace the regional CPI approach with the BLS research series, referred to as the CPI-U-RS."
   ]
  },
  {
   "cell_type": "code",
   "execution_count": 1,
   "metadata": {
    "ExecuteTime": {
     "end_time": "2023-10-12T12:56:39.252004Z",
     "start_time": "2023-10-12T12:56:38.943291Z"
    },
    "code_folding": []
   },
   "outputs": [
    {
     "name": "stdout",
     "output_type": "stream",
     "text": [
      "pandas: 1.5.1\n",
      "requests: 2.28.1\n"
     ]
    }
   ],
   "source": [
    "# Import packages and bls api key\n",
    "import pandas as pd\n",
    "print('pandas:', pd.__version__)\n",
    "import os\n",
    "import requests\n",
    "print('requests:', requests.__version__)\n",
    "import json\n",
    "import config\n",
    "import time\n",
    "\n",
    "os.chdir('/home/brian/Documents/CPS/data/')\n",
    "\n",
    "def fred_df(series, start='1988'):\n",
    "    '''Return df of fred series'''\n",
    "    url = f'http://research.stlouisfed.org/fred2/series/{series}/downloaddata/{series}.csv'\n",
    "    df = pd.read_csv(url, index_col='DATE', parse_dates=True, na_values=['.'])\n",
    "    return df.loc[start:]  "
   ]
  },
  {
   "cell_type": "code",
   "execution_count": 2,
   "metadata": {
    "ExecuteTime": {
     "end_time": "2023-10-12T12:56:41.726731Z",
     "start_time": "2023-10-12T12:56:39.253647Z"
    }
   },
   "outputs": [],
   "source": [
    "# Date of latest CPS file\n",
    "# List of monthly raw CPS data files to process\n",
    "files = [file for file in os.listdir() \n",
    "         if file.endswith('pub.dat')]\n",
    "\n",
    "cps_mo = pd.Series([pd.to_datetime(f[:5], format='%b%y') \n",
    "                    for f in files]).sort_values().iloc[-1]\n",
    "\n",
    "# Retrieve CPI\n",
    "srs = {'CPIAUCNS': 'ALL',\n",
    "       'CUUR0100SA0': 'Northeast',\n",
    "       'CUUR0200SA0': 'Midwest',\n",
    "       'CUUR0300SA0': 'South',\n",
    "       'CUUR0400SA0': 'West'}\n",
    "\n",
    "df = pd.DataFrame()\n",
    "for i, n in srs.items():\n",
    "    df[n] = fred_df(i)['VALUE']\n",
    "    \n",
    "# Handle cases with CPS before CPI\n",
    "if df.index[-1] < cps_mo:\n",
    "    # Retrieve latest nowcast\n",
    "    cpsdt = cps_mo.strftime('%B %Y')\n",
    "    print(f'CPI not yet available for {cpsdt}, retrieving nowcast')\n",
    "    url = 'https://www.clevelandfed.org/indicators-and-data/inflation-nowcasting'\n",
    "    r = pd.read_html(url)[0].set_index('Month')\n",
    "    nowcast = 1 + (float(r.loc[cpsdt, 'CPI']) / 100)\n",
    "    df.loc[cps_mo] = df.iloc[-1] * nowcast\n",
    "    \n",
    "cpi = (df.iloc[-1] / df)\n",
    "cpi.to_csv('clean/cpi.csv')"
   ]
  },
  {
   "cell_type": "code",
   "execution_count": null,
   "metadata": {},
   "outputs": [],
   "source": []
  },
  {
   "cell_type": "markdown",
   "metadata": {},
   "source": [
    "BLS version stopped working"
   ]
  },
  {
   "cell_type": "code",
   "execution_count": 3,
   "metadata": {
    "ExecuteTime": {
     "end_time": "2023-10-12T12:56:41.733323Z",
     "start_time": "2023-10-12T12:56:41.727878Z"
    },
    "code_folding": []
   },
   "outputs": [],
   "source": [
    "# # Code to update CPI as needed\n",
    "# api_url = 'https://api.bls.gov/publicAPI/v2/timeseries/data/'\n",
    "\n",
    "# # API key in config.py which contains: bls_key = 'key'\n",
    "# key = f'?registrationkey={config.bls_key}'\n",
    "\n",
    "# # Series stored as a dictionary\n",
    "# series_dict = {'CUUR0000SA0': 'ALL',\n",
    "#                'CUUR0100SA0': 'Northeast',\n",
    "#                'CUUR0200SA0': 'Midwest',\n",
    "#                'CUUR0300SA0': 'South',\n",
    "#                'CUUR0400SA0': 'West'}\n",
    "\n",
    "# # Start year and end year\n",
    "# date_r = (1989, 2023)\n",
    "\n",
    "# # Because API requests are limited to 10 years at a time,\n",
    "# # this code splits the dates above in 10-year chunks\n",
    "# dates = [(str(date_r[0]), str(date_r[1]))]\n",
    "# while int(dates[-1][1]) - int(dates[-1][0]) > 10:\n",
    "#     dates = [(str(date_r[0]), str(date_r[0]+9))]\n",
    "#     d1 = int(dates[-1][0])\n",
    "#     while int(dates[-1][1]) < date_r[1]:\n",
    "#         d1 = d1 + 10\n",
    "#         d2 = min([date_r[1], d1+9])\n",
    "#         dates.append((str(d1),(d2)))\n",
    "        \n",
    "# df = pd.DataFrame()\n",
    "\n",
    "# for start, end in dates:\n",
    "#     # Submit the list of series as data\n",
    "#     data = json.dumps({\n",
    "#         \"seriesid\": list(series_dict.keys()),\n",
    "#         \"startyear\": start, \"endyear\": end})\n",
    "\n",
    "#     # Post request for the data\n",
    "#     p = requests.post(f'{api_url}{key}', \n",
    "#         headers={'Content-type': 'application/json',\n",
    "#                  'User-Agent': \n",
    "#                  'Mozilla/5.0 (X11; Linux x86_64; rv:109.0) Gecko/20100101 Firefox/110.0'}, \n",
    "#         data=data).json()\n",
    "#     time.sleep(0.1)\n",
    "#     for s in p['Results']['series']:\n",
    "#         col = series_dict[s['seriesID']]\n",
    "#         for r in s['data']:\n",
    "#             date = pd.to_datetime(f'{r[\"periodName\"]} {r[\"year\"]}')\n",
    "#             df.at[date, col] = float(r['value'])\n",
    "# df = df.sort_index()\n",
    "# # Output results\n",
    "# print(f'Post Request Status: {p[\"status\"]}')\n",
    "# print('Latest month: ', df.index[-1])\n",
    "      \n",
    "# cpi = (df.iloc[-1] / df)\n",
    "# cpi.to_csv('cpi.csv')"
   ]
  },
  {
   "cell_type": "code",
   "execution_count": null,
   "metadata": {},
   "outputs": [],
   "source": []
  },
  {
   "cell_type": "code",
   "execution_count": null,
   "metadata": {},
   "outputs": [],
   "source": []
  }
 ],
 "metadata": {
  "kernelspec": {
   "display_name": "Python 3 (ipykernel)",
   "language": "python",
   "name": "python3"
  },
  "language_info": {
   "codemirror_mode": {
    "name": "ipython",
    "version": 3
   },
   "file_extension": ".py",
   "mimetype": "text/x-python",
   "name": "python",
   "nbconvert_exporter": "python",
   "pygments_lexer": "ipython3",
   "version": "3.8.13"
  }
 },
 "nbformat": 4,
 "nbformat_minor": 2
}
