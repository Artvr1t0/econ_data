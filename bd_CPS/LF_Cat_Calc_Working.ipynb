{
 "cells": [
  {
   "cell_type": "code",
   "execution_count": 31,
   "metadata": {
    "ExecuteTime": {
     "end_time": "2018-10-12T00:43:27.358784Z",
     "start_time": "2018-10-12T00:43:27.356721Z"
    }
   },
   "outputs": [],
   "source": [
    "import pandas as pd\n",
    "import numpy as np\n",
    "import os\n",
    "\n",
    "os.chdir('/home/brian/Documents/CPS/data/clean/')"
   ]
  },
  {
   "cell_type": "code",
   "execution_count": 32,
   "metadata": {
    "ExecuteTime": {
     "end_time": "2018-10-12T00:43:28.343342Z",
     "start_time": "2018-10-12T00:43:28.308959Z"
    }
   },
   "outputs": [],
   "source": [
    "df = pd.read_feather('cps2018.ft', nthreads=3)"
   ]
  },
  {
   "cell_type": "code",
   "execution_count": 33,
   "metadata": {
    "ExecuteTime": {
     "end_time": "2018-10-12T00:43:29.084665Z",
     "start_time": "2018-10-12T00:43:29.081274Z"
    }
   },
   "outputs": [
    {
     "data": {
      "text/plain": [
       "Index(['HRHHID', 'HRMONTH', 'HRYEAR4', 'HRMIS', 'HRHHID2', 'GTCBSA',\n",
       "       'GTMETSTA', 'AGE', 'PEEDUCA', 'PRDTRACE', 'PRDTHSP', 'PULINENO',\n",
       "       'PRCITSHP', 'PEMLR', 'PEHRUSL1', 'PEDWWNTO', 'PEJHRSN', 'PRCIVLF',\n",
       "       'PRDISC', 'PREMPNOT', 'PRFTLF', 'PRUNEDUR', 'PRWKSTAT', 'PRWNTJOB',\n",
       "       'PUIODP1', 'PUIODP2', 'PEIO1COW', 'PEIO2COW', 'PRCOW1', 'PRDTIND1',\n",
       "       'PRDTOCC1', 'PRMJIND1', 'PRMJOCC1', 'PRSJMJ', 'PEERNLAB', 'PENLFRET',\n",
       "       'PENLFACT', 'PWLGWGT', 'PWORWGT', 'PWSSWGT', 'PRCHLD', 'PWCMPWGT',\n",
       "       'PEIO1ICD', 'PEIO1OCD', 'PRDISFLG', 'FEMALE', 'STATE', 'EDUC',\n",
       "       'MARRIED', 'WBHAO', 'INDGRP', 'EMP', 'UNTYPE', 'WKWAGE', 'HRWAGE'],\n",
       "      dtype='object')"
      ]
     },
     "execution_count": 33,
     "metadata": {},
     "output_type": "execute_result"
    }
   ],
   "source": [
    "df.keys()"
   ]
  },
  {
   "cell_type": "code",
   "execution_count": 34,
   "metadata": {
    "ExecuteTime": {
     "end_time": "2018-10-12T00:43:29.813190Z",
     "start_time": "2018-10-12T00:43:29.794863Z"
    }
   },
   "outputs": [
    {
     "data": {
      "text/plain": [
       "INDGRP\n",
       "Construction and mining                 15235568.0\n",
       "Education and health                    36431264.0\n",
       "Finance and business services           42133652.0\n",
       "Leisure and hospitality                 15692060.0\n",
       "Manufacturing                           16146653.0\n",
       "Public administration                    7599526.0\n",
       "Trade, transportation, and utilities    30355402.0\n",
       "Name: PWSSWGT, dtype: float32"
      ]
     },
     "execution_count": 34,
     "metadata": {},
     "output_type": "execute_result"
    }
   ],
   "source": [
    "(df.groupby(['INDGRP'])['PWSSWGT'].sum() / 8).drop('Armed forces')"
   ]
  },
  {
   "cell_type": "code",
   "execution_count": 35,
   "metadata": {
    "ExecuteTime": {
     "end_time": "2018-10-12T00:43:38.084355Z",
     "start_time": "2018-10-12T00:43:38.072002Z"
    }
   },
   "outputs": [
    {
     "data": {
      "text/plain": [
       "array([ 826531.7, 3209982.2,  636153.6, 1976123.6], dtype=float32)"
      ]
     },
     "execution_count": 35,
     "metadata": {},
     "output_type": "execute_result"
    }
   ],
   "source": [
    "(df.groupby(['UNTYPE'])['PWSSWGT'].sum() / 8).drop('nan').values"
   ]
  }
 ],
 "metadata": {
  "kernelspec": {
   "display_name": "Python 3",
   "language": "python",
   "name": "python3"
  },
  "language_info": {
   "codemirror_mode": {
    "name": "ipython",
    "version": 3
   },
   "file_extension": ".py",
   "mimetype": "text/x-python",
   "name": "python",
   "nbconvert_exporter": "python",
   "pygments_lexer": "ipython3",
   "version": "3.6.6"
  }
 },
 "nbformat": 4,
 "nbformat_minor": 2
}
