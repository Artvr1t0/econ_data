{
 "cells": [
  {
   "cell_type": "markdown",
   "metadata": {},
   "source": [
    "https://www.frbatlanta.org/chcs/human-capital-currents/2015/0612-measuring-labor-market-status-using-basic-data.aspx"
   ]
  },
  {
   "cell_type": "code",
   "execution_count": 1,
   "metadata": {
    "ExecuteTime": {
     "end_time": "2018-10-15T07:42:10.409874Z",
     "start_time": "2018-10-15T07:42:10.113765Z"
    }
   },
   "outputs": [],
   "source": [
    "import pandas as pd\n",
    "import numpy as np\n",
    "import os\n",
    "\n",
    "os.chdir('/home/brian/Documents/CPS/data/clean/')"
   ]
  },
  {
   "cell_type": "code",
   "execution_count": 2,
   "metadata": {
    "ExecuteTime": {
     "end_time": "2018-10-15T07:42:11.396601Z",
     "start_time": "2018-10-15T07:42:11.193890Z"
    }
   },
   "outputs": [],
   "source": [
    "df = pd.read_feather('cps2018.ft', nthreads=3)"
   ]
  },
  {
   "cell_type": "code",
   "execution_count": 3,
   "metadata": {
    "ExecuteTime": {
     "end_time": "2018-10-15T07:42:12.218721Z",
     "start_time": "2018-10-15T07:42:12.207861Z"
    }
   },
   "outputs": [
    {
     "data": {
      "text/plain": [
       "Index(['HRHHID', 'HRMONTH', 'HRYEAR4', 'HRMIS', 'HRHHID2', 'GTCBSA',\n",
       "       'GTMETSTA', 'AGE', 'PEEDUCA', 'PRDTRACE', 'PRDTHSP', 'PULINENO',\n",
       "       'PEMLR', 'PEHRUSL1', 'PEDWWNTO', 'PEJHRSN', 'PRCIVLF', 'PRDISC',\n",
       "       'PREMPNOT', 'PRFTLF', 'PRUNEDUR', 'PRWKSTAT', 'PRWNTJOB', 'PUIODP1',\n",
       "       'PUIODP2', 'PEIO1COW', 'PEIO2COW', 'PRCOW1', 'PRDTIND1', 'PRDTOCC1',\n",
       "       'PRMJIND1', 'PRMJOCC1', 'PRSJMJ', 'PEERNLAB', 'PENLFRET', 'PENLFACT',\n",
       "       'PWLGWGT', 'PWORWGT', 'PWSSWGT', 'PRCHLD', 'PWCMPWGT', 'PEIO1ICD',\n",
       "       'PEIO1OCD', 'PRDISFLG', 'FEMALE', 'STATE', 'EDUC', 'MARRIED', 'WBHAO',\n",
       "       'FORBORN', 'INDGRP', 'LMSTAT', 'EMP', 'UNTYPE', 'WKWAGE', 'HRWAGE',\n",
       "       'RHRWAGE', 'RWKWAGE'],\n",
       "      dtype='object')"
      ]
     },
     "execution_count": 3,
     "metadata": {},
     "output_type": "execute_result"
    }
   ],
   "source": [
    "df.keys()"
   ]
  },
  {
   "cell_type": "code",
   "execution_count": 4,
   "metadata": {
    "ExecuteTime": {
     "end_time": "2018-10-13T15:25:05.818662Z",
     "start_time": "2018-10-13T15:25:05.598034Z"
    }
   },
   "outputs": [
    {
     "data": {
      "text/plain": [
       "Timestamp('2014-05-01 00:00:00')"
      ]
     },
     "execution_count": 4,
     "metadata": {},
     "output_type": "execute_result"
    }
   ],
   "source": [
    "x = {}\n",
    "x['HRYEAR4'] = '2014'\n",
    "x['HRMONTH'] = 5\n",
    "import pandas as pd\n",
    "pd.to_datetime(f'{x[\"HRYEAR4\"]}-{x[\"HRMONTH\"]}-01')"
   ]
  },
  {
   "cell_type": "code",
   "execution_count": 5,
   "metadata": {
    "ExecuteTime": {
     "end_time": "2018-10-13T05:11:43.806075Z",
     "start_time": "2018-10-13T05:11:43.785897Z"
    }
   },
   "outputs": [
    {
     "data": {
      "text/plain": [
       "INDGRP\n",
       "Construction and mining                 15285618.0\n",
       "Education and health                    36402268.0\n",
       "Finance and business services           42169764.0\n",
       "Leisure and hospitality                 15622471.0\n",
       "Manufacturing                           16149860.0\n",
       "Public administration                    7604274.5\n",
       "Trade, transportation, and utilities    30398730.0\n",
       "Name: PWSSWGT, dtype: float32"
      ]
     },
     "execution_count": 5,
     "metadata": {},
     "output_type": "execute_result"
    }
   ],
   "source": [
    "(df.groupby(['INDGRP'])['PWSSWGT'].sum() / 9).drop('Armed forces')"
   ]
  },
  {
   "cell_type": "code",
   "execution_count": null,
   "metadata": {
    "ExecuteTime": {
     "end_time": "2018-10-12T00:43:38.084355Z",
     "start_time": "2018-10-12T00:43:38.072002Z"
    }
   },
   "outputs": [],
   "source": [
    "(df.groupby(['UNTYPE'])['PWSSWGT'].sum() / 8).drop('nan').values"
   ]
  }
 ],
 "metadata": {
  "kernelspec": {
   "display_name": "Python 3",
   "language": "python",
   "name": "python3"
  },
  "language_info": {
   "codemirror_mode": {
    "name": "ipython",
    "version": 3
   },
   "file_extension": ".py",
   "mimetype": "text/x-python",
   "name": "python",
   "nbconvert_exporter": "python",
   "pygments_lexer": "ipython3",
   "version": "3.6.6"
  }
 },
 "nbformat": 4,
 "nbformat_minor": 2
}
