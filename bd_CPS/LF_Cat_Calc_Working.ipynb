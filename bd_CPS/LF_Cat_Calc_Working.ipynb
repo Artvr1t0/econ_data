{
 "cells": [
  {
   "cell_type": "code",
   "execution_count": 1,
   "metadata": {
    "ExecuteTime": {
     "end_time": "2018-10-11T10:39:36.168656Z",
     "start_time": "2018-10-11T10:39:35.890188Z"
    }
   },
   "outputs": [],
   "source": [
    "import pandas as pd\n",
    "import numpy as np\n",
    "import os\n",
    "\n",
    "os.chdir('/home/brian/Documents/CPS/data/clean/')"
   ]
  },
  {
   "cell_type": "code",
   "execution_count": 2,
   "metadata": {
    "ExecuteTime": {
     "end_time": "2018-10-11T10:39:37.156972Z",
     "start_time": "2018-10-11T10:39:36.993503Z"
    }
   },
   "outputs": [],
   "source": [
    "df = pd.read_feather('cps2018.ft', nthreads=3)"
   ]
  },
  {
   "cell_type": "code",
   "execution_count": 4,
   "metadata": {
    "ExecuteTime": {
     "end_time": "2018-10-11T10:39:48.967385Z",
     "start_time": "2018-10-11T10:39:48.956577Z"
    }
   },
   "outputs": [
    {
     "data": {
      "text/plain": [
       "Index(['HRHHID', 'HRMONTH', 'HRYEAR4', 'HRMIS', 'HRHHID2', 'GTCBSA',\n",
       "       'GTMETSTA', 'AGE', 'PEEDUCA', 'PRDTRACE', 'PRDTHSP', 'PULINENO',\n",
       "       'PRMARSTA', 'PRCITSHP', 'PEMLR', 'PEHRUSL1', 'PEDWWNTO', 'PEJHRSN',\n",
       "       'PRCIVLF', 'PRDISC', 'PREMPNOT', 'PRFTLF', 'PRUNEDUR', 'PRUNTYPE',\n",
       "       'PRWKSTAT', 'PRWNTJOB', 'PUIODP1', 'PUIODP2', 'PEIO1COW', 'PEIO2COW',\n",
       "       'PRCOW1', 'PRDTIND1', 'PRDTOCC1', 'PRMJIND1', 'PRMJOCC1', 'PRSJMJ',\n",
       "       'PRERNHLY', 'PRERNWA', 'PEERNLAB', 'PENLFRET', 'PENLFACT', 'PWLGWGT',\n",
       "       'PWORWGT', 'PWSSWGT', 'PRCHLD', 'PWCMPWGT', 'PEIO1ICD', 'PEIO1OCD',\n",
       "       'PRDISFLG', 'FEMALE', 'STATE', 'EDUC', 'MARRIED', 'WBHAO', 'EMP',\n",
       "       'HRWAGE'],\n",
       "      dtype='object')"
      ]
     },
     "execution_count": 4,
     "metadata": {},
     "output_type": "execute_result"
    }
   ],
   "source": [
    "df.keys()"
   ]
  }
 ],
 "metadata": {
  "kernelspec": {
   "display_name": "Python 3",
   "language": "python",
   "name": "python3"
  },
  "language_info": {
   "codemirror_mode": {
    "name": "ipython",
    "version": 3
   },
   "file_extension": ".py",
   "mimetype": "text/x-python",
   "name": "python",
   "nbconvert_exporter": "python",
   "pygments_lexer": "ipython3",
   "version": "3.6.6"
  }
 },
 "nbformat": 4,
 "nbformat_minor": 2
}
