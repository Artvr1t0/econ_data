{
 "cells": [
  {
   "cell_type": "code",
   "execution_count": 6,
   "metadata": {
    "ExecuteTime": {
     "end_time": "2018-10-11T16:17:00.432668Z",
     "start_time": "2018-10-11T16:17:00.429862Z"
    }
   },
   "outputs": [],
   "source": [
    "import pandas as pd\n",
    "import numpy as np\n",
    "import os\n",
    "\n",
    "os.chdir('/home/brian/Documents/CPS/data/clean/')"
   ]
  },
  {
   "cell_type": "code",
   "execution_count": 9,
   "metadata": {
    "ExecuteTime": {
     "end_time": "2018-10-11T16:33:58.221985Z",
     "start_time": "2018-10-11T16:33:58.188736Z"
    }
   },
   "outputs": [],
   "source": [
    "df = pd.read_feather('cps2018.ft', nthreads=3)"
   ]
  },
  {
   "cell_type": "code",
   "execution_count": 10,
   "metadata": {
    "ExecuteTime": {
     "end_time": "2018-10-11T16:33:59.037364Z",
     "start_time": "2018-10-11T16:33:59.033710Z"
    }
   },
   "outputs": [
    {
     "data": {
      "text/plain": [
       "Index(['HRHHID', 'HRMONTH', 'HRYEAR4', 'HRMIS', 'HRHHID2', 'GTCBSA',\n",
       "       'GTMETSTA', 'AGE', 'PEEDUCA', 'PRDTRACE', 'PRDTHSP', 'PULINENO',\n",
       "       'PRCITSHP', 'PEMLR', 'PEHRUSL1', 'PEDWWNTO', 'PEJHRSN', 'PRCIVLF',\n",
       "       'PRDISC', 'PREMPNOT', 'PRFTLF', 'PRUNEDUR', 'PRWKSTAT', 'PRWNTJOB',\n",
       "       'PUIODP1', 'PUIODP2', 'PEIO1COW', 'PEIO2COW', 'PRCOW1', 'PRDTIND1',\n",
       "       'PRDTOCC1', 'PRMJIND1', 'PRMJOCC1', 'PRSJMJ', 'PEERNLAB', 'PENLFRET',\n",
       "       'PENLFACT', 'PWLGWGT', 'PWORWGT', 'PWSSWGT', 'PRCHLD', 'PWCMPWGT',\n",
       "       'PEIO1ICD', 'PEIO1OCD', 'PRDISFLG', 'FEMALE', 'STATE', 'EDUC',\n",
       "       'MARRIED', 'WBHAO', 'EMP', 'UNTYPE', 'WKWAGE', 'HRWAGE'],\n",
       "      dtype='object')"
      ]
     },
     "execution_count": 10,
     "metadata": {},
     "output_type": "execute_result"
    }
   ],
   "source": [
    "df.keys()"
   ]
  },
  {
   "cell_type": "code",
   "execution_count": 14,
   "metadata": {
    "ExecuteTime": {
     "end_time": "2018-10-11T16:39:13.930972Z",
     "start_time": "2018-10-11T16:39:13.903774Z"
    }
   },
   "outputs": [
    {
     "data": {
      "text/plain": [
       "UNTYPE\n",
       "Job Leaver     5.510211e+05\n",
       "Job Loser      2.139988e+06\n",
       "New Entrant    4.241024e+05\n",
       "Re-entrant     1.317416e+06\n",
       "nan            1.671581e+08\n",
       "Name: PWSSWGT, dtype: float32"
      ]
     },
     "execution_count": 14,
     "metadata": {},
     "output_type": "execute_result"
    }
   ],
   "source": [
    "(df.groupby(['UNTYPE'])['PWSSWGT'].sum() / 12)"
   ]
  }
 ],
 "metadata": {
  "kernelspec": {
   "display_name": "Python 3",
   "language": "python",
   "name": "python3"
  },
  "language_info": {
   "codemirror_mode": {
    "name": "ipython",
    "version": 3
   },
   "file_extension": ".py",
   "mimetype": "text/x-python",
   "name": "python",
   "nbconvert_exporter": "python",
   "pygments_lexer": "ipython3",
   "version": "3.6.6"
  }
 },
 "nbformat": 4,
 "nbformat_minor": 2
}
