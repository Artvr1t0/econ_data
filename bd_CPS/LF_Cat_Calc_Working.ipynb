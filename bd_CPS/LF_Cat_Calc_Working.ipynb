{
 "cells": [
  {
   "cell_type": "code",
   "execution_count": 2,
   "metadata": {
    "ExecuteTime": {
     "end_time": "2018-10-10T02:02:10.624113Z",
     "start_time": "2018-10-10T02:02:10.620016Z"
    }
   },
   "outputs": [],
   "source": [
    "import pandas as pd\n",
    "import numpy as np\n",
    "import os\n",
    "\n",
    "os.chdir('/home/brian/Documents/CPS/data/clean/')"
   ]
  },
  {
   "cell_type": "code",
   "execution_count": 3,
   "metadata": {
    "ExecuteTime": {
     "end_time": "2018-10-10T02:02:34.808155Z",
     "start_time": "2018-10-10T02:02:34.747097Z"
    }
   },
   "outputs": [],
   "source": [
    "df = pd.read_feather('cps2018.ft', nthreads=3)"
   ]
  },
  {
   "cell_type": "code",
   "execution_count": null,
   "metadata": {},
   "outputs": [],
   "source": [
    "E_FT_Gov = df['PEIO1COW'].isin([1, 2, 3])\n",
    "E_FT_PR_Goods = df['PEIO1COW'].isin([4, 5]) & df['']"
   ]
  },
  {
   "cell_type": "code",
   "execution_count": 4,
   "metadata": {
    "ExecuteTime": {
     "end_time": "2018-10-10T02:21:56.542354Z",
     "start_time": "2018-10-10T02:21:56.531889Z"
    }
   },
   "outputs": [
    {
     "data": {
      "text/plain": [
       "Index(['HRHHID', 'HRMONTH', 'HRYEAR4', 'HRMIS', 'HRHHID2', 'GTCBSA',\n",
       "       'GTMETSTA', 'PRTAGE', 'PESEX', 'PEEDUCA', 'PRDTRACE', 'PRDTHSP',\n",
       "       'PULINENO', 'PRMARSTA', 'PRCITSHP', 'PEMLR', 'PEHRUSL1', 'PEDWWNTO',\n",
       "       'PEJHRSN', 'PRCIVLF', 'PRDISC', 'PREMPNOT', 'PRFTLF', 'PRUNEDUR',\n",
       "       'PRUNTYPE', 'PRWKSTAT', 'PRWNTJOB', 'PUIODP1', 'PUIODP2', 'PEIO1COW',\n",
       "       'PEIO2COW', 'PRCOW1', 'PRDTIND1', 'PRDTOCC1', 'PRMJIND1', 'PRMJOCC1',\n",
       "       'PRSJMJ', 'PRERNHLY', 'PRERNWA', 'PEERNLAB', 'PENLFRET', 'PENLFACT',\n",
       "       'PWLGWGT', 'PWORWGT', 'PWSSWGT', 'PRCHLD', 'PWCMPWGT', 'PEIO1ICD',\n",
       "       'PEIO1OCD', 'PRDISFLG', 'STATE', 'EDUC', 'WBHAO', 'HRWAGE'],\n",
       "      dtype='object')"
      ]
     },
     "execution_count": 4,
     "metadata": {},
     "output_type": "execute_result"
    }
   ],
   "source": [
    "df.keys()"
   ]
  }
 ],
 "metadata": {
  "kernelspec": {
   "display_name": "Python 3",
   "language": "python",
   "name": "python3"
  },
  "language_info": {
   "codemirror_mode": {
    "name": "ipython",
    "version": 3
   },
   "file_extension": ".py",
   "mimetype": "text/x-python",
   "name": "python",
   "nbconvert_exporter": "python",
   "pygments_lexer": "ipython3",
   "version": "3.6.6"
  }
 },
 "nbformat": 4,
 "nbformat_minor": 2
}
