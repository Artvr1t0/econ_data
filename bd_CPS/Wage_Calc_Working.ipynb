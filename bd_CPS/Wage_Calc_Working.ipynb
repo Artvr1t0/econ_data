{
 "cells": [
  {
   "cell_type": "code",
   "execution_count": 1,
   "metadata": {
    "ExecuteTime": {
     "end_time": "2018-10-13T16:56:07.528795Z",
     "start_time": "2018-10-13T16:56:07.137626Z"
    }
   },
   "outputs": [],
   "source": [
    "import pandas as pd\n",
    "import numpy as np\n",
    "import os\n",
    "import requests\n",
    "import json\n",
    "import config\n",
    "\n",
    "os.chdir('/home/brian/Documents/CPS/data/clean/')"
   ]
  },
  {
   "cell_type": "code",
   "execution_count": 2,
   "metadata": {
    "ExecuteTime": {
     "end_time": "2018-10-13T05:17:39.860231Z",
     "start_time": "2018-10-13T05:17:36.917879Z"
    },
    "code_folding": [
     0
    ]
   },
   "outputs": [
    {
     "name": "stderr",
     "output_type": "stream",
     "text": [
      "/home/brian/miniconda3/envs/bdcps/lib/python3.6/site-packages/ipykernel_launcher.py:45: FutureWarning: set_value is deprecated and will be removed in a future release. Please use .at[] or .iat[] accessors instead\n"
     ]
    },
    {
     "name": "stdout",
     "output_type": "stream",
     "text": [
      "Post Request Status: REQUEST_SUCCEEDED\n"
     ]
    }
   ],
   "source": [
    "# Code to update CPI as needed\n",
    "api_url = 'https://api.bls.gov/publicAPI/v2/timeseries/data/'\n",
    "\n",
    "# API key in config.py which contains: bls_key = 'key'\n",
    "key = '?registrationkey={}'.format(config.bls_key)\n",
    "\n",
    "# Series stored as a dictionary\n",
    "series_dict = {'CUSR0000SA0': 'ALL',\n",
    "               'CUUR0100SA0': 'Northeast',\n",
    "               'CUUR0200SA0': 'Midwest',\n",
    "               'CUUR0300SA0': 'South',\n",
    "               'CUUR0400SA0': 'West'}\n",
    "\n",
    "# Start year and end year\n",
    "date_r = (1994, 2018)\n",
    "\n",
    "# Handle dates\n",
    "dates = [(str(date_r[0]), str(date_r[1]))]\n",
    "while int(dates[-1][1]) - int(dates[-1][0]) > 10:\n",
    "    dates = [(str(date_r[0]), str(date_r[0]+9))]\n",
    "    d1 = int(dates[-1][0])\n",
    "    while int(dates[-1][1]) < date_r[1]:\n",
    "        d1 = d1 + 10\n",
    "        d2 = min([date_r[1], d1+9])\n",
    "        dates.append((str(d1),(d2)))\n",
    "        \n",
    "df = pd.DataFrame()\n",
    "\n",
    "for start, end in dates:\n",
    "    # Submit the list of series as data\n",
    "    data = json.dumps({\n",
    "        \"seriesid\": list(series_dict.keys()),\n",
    "        \"startyear\": start, \"endyear\": end})\n",
    "\n",
    "    # Post request for the data\n",
    "    p = requests.post(\n",
    "        '{}{}'.format(api_url, key), \n",
    "        headers={'Content-type': 'application/json'}, \n",
    "        data=data).json()\n",
    "    for s in p['Results']['series']:\n",
    "        col = series_dict[s['seriesID']]\n",
    "        for r in s['data']:\n",
    "            date = pd.to_datetime('{} {}'.format(\n",
    "                r['periodName'], r['year']))\n",
    "            df.set_value(date, col, float(r['value']))\n",
    "df = df.sort_index()\n",
    "# Output results\n",
    "print('Post Request Status: {}'.format(p['status']))\n",
    "\n",
    "cpi = (df.iloc[-1] / df)\n",
    "cpi.to_csv('cpi.csv')"
   ]
  },
  {
   "cell_type": "code",
   "execution_count": 3,
   "metadata": {
    "ExecuteTime": {
     "end_time": "2018-10-13T14:53:30.898370Z",
     "start_time": "2018-10-13T14:53:30.872560Z"
    }
   },
   "outputs": [],
   "source": [
    "cpi = pd.read_csv('cpi.csv', index_col=[0], parse_dates=True)"
   ]
  },
  {
   "cell_type": "code",
   "execution_count": 7,
   "metadata": {
    "ExecuteTime": {
     "end_time": "2018-10-13T15:14:36.227649Z",
     "start_time": "2018-10-13T15:14:36.219553Z"
    }
   },
   "outputs": [
    {
     "data": {
      "text/plain": [
       "1.338681318681319"
      ]
     },
     "execution_count": 7,
     "metadata": {},
     "output_type": "execute_result"
    }
   ],
   "source": [
    "cpi['South'].loc[pd.to_datetime('2004-5-01')]"
   ]
  },
  {
   "cell_type": "code",
   "execution_count": null,
   "metadata": {
    "ExecuteTime": {
     "end_time": "2018-10-03T12:24:05.301038Z",
     "start_time": "2018-10-03T12:24:05.295563Z"
    }
   },
   "outputs": [],
   "source": [
    "# Federal minimum wage--update monthly\n",
    "fmw = pd.read_csv('fmw.csv', index_col=[0], parse_dates=True)"
   ]
  },
  {
   "cell_type": "code",
   "execution_count": 13,
   "metadata": {
    "ExecuteTime": {
     "end_time": "2018-10-13T18:05:22.510852Z",
     "start_time": "2018-10-13T18:05:22.425411Z"
    }
   },
   "outputs": [],
   "source": [
    "dft = (pd.read_feather('cps2018.ft', nthreads=3)\n",
    "         .query('HRMONTH == 5')\n",
    "         .filter(items=['RHRWAGE', 'PWORWGT'])\n",
    "         .query('RHRWAGE > 0')\n",
    "         .sort_values('RHRWAGE')\n",
    "         .assign(WAGE_RANGE = (\n",
    "             lambda x: pd.cut(x['RHRWAGE'], list(np.arange(0.125,200,0.25)), \n",
    "                              include_lowest=True)),\n",
    "                  CS = lambda x: x['PWORWGT'].cumsum()))"
   ]
  },
  {
   "cell_type": "code",
   "execution_count": 16,
   "metadata": {
    "ExecuteTime": {
     "end_time": "2018-10-13T18:14:07.027175Z",
     "start_time": "2018-10-13T18:14:07.020320Z"
    }
   },
   "outputs": [],
   "source": [
    "def binned_median(dfm):\n",
    "    \"\"\"Return BLS-styled binned median wage\"\"\"\n",
    "    wage_ranges = list(np.arange(0.125,200,0.25))\n",
    "    dft = (dfm.filter(items=['RHRWAGE', 'PWORWGT'])\n",
    "              .query('RHRWAGE > 0')\n",
    "              .sort_values('RHRWAGE')\n",
    "              .assign(WAGE_RANGE = (lambda x: \n",
    "                                    pd.cut(x['RHRWAGE'], wage_ranges, \n",
    "                                           include_lowest=True)),\n",
    "                      CS = lambda x: x['PWORWGT'].cumsum()))\n",
    "    midpt = dft['PWORWGT'].sum() * 0.5\n",
    "\n",
    "    mid_interval = dft.iloc[(dft['CS']-midpt).abs().argsort()[:1]].WAGE_RANGE.values[0]\n",
    "\n",
    "    wage_bins = list(dft['WAGE_RANGE'].unique())\n",
    "\n",
    "    mi_loc = wage_bins.index(mid_interval)\n",
    "    lowval = dft[dft['WAGE_RANGE'] == wage_bins[mi_loc-1]].iloc[-1].CS\n",
    "    highval = dft[dft['WAGE_RANGE'] == wage_bins[mi_loc]].iloc[-1].CS\n",
    "\n",
    "    binned_med = ((((midpt - lowval) / (highval - lowval)) * 0.5) + mid_interval.left)\n",
    "    \n",
    "    return(round(binned_med, 2))"
   ]
  },
  {
   "cell_type": "code",
   "execution_count": 15,
   "metadata": {
    "ExecuteTime": {
     "end_time": "2018-10-13T18:07:07.170107Z",
     "start_time": "2018-10-13T18:07:07.154599Z"
    }
   },
   "outputs": [
    {
     "name": "stdout",
     "output_type": "stream",
     "text": [
      "binned, weighted median: $ 18.48\n"
     ]
    }
   ],
   "source": [
    "    midpt = dft['PWORWGT'].sum() * 0.5\n",
    "\n",
    "    mid_interval = dft.iloc[(dft['CS']-midpt).abs().argsort()[:1]].WAGE_RANGE.values[0]\n",
    "\n",
    "    wage_bins = list(dft['WAGE_RANGE'].unique())\n",
    "\n",
    "    mi_loc = wage_bins.index(mid_interval)\n",
    "    lowval = dft[dft['WAGE_RANGE'] == wage_bins[mi_loc-1]].iloc[-1].CS\n",
    "    highval = dft[dft['WAGE_RANGE'] == wage_bins[mi_loc]].iloc[-1].CS\n",
    "\n",
    "    binned_med = ((((midpt - lowval) / (highval - lowval)) * 0.5) + mid_interval.left)\n",
    "\n",
    "print(f'binned, weighted median: ${binned_med: .2f}')"
   ]
  },
  {
   "cell_type": "code",
   "execution_count": 8,
   "metadata": {
    "ExecuteTime": {
     "end_time": "2018-10-13T16:59:21.838829Z",
     "start_time": "2018-10-13T16:59:21.715806Z"
    }
   },
   "outputs": [
    {
     "name": "stdout",
     "output_type": "stream",
     "text": [
      "binned, weighted median: $ 18.65\n"
     ]
    },
    {
     "name": "stderr",
     "output_type": "stream",
     "text": [
      "/home/brian/miniconda3/envs/bdcps/lib/python3.6/site-packages/pandas/io/feather_format.py:112: FutureWarning: `nthreads` argument is deprecated, pass `use_threads` instead\n",
      "  return feather.read_dataframe(path, nthreads=nthreads)\n"
     ]
    }
   ],
   "source": [
    "#fed_min_wage = 7.25\n",
    "\n",
    "data = (pd.read_feather('cps2018.ft', nthreads=3)\n",
    "          .filter(items=['RHRWAGE', 'PWORWGT', 'HRMONTH'])\n",
    "          .query(f'RHRWAGE > 0')\n",
    "          .sort_values('RHRWAGE')\n",
    "          .assign(WAGE_RANGE = lambda x: pd.cut(x['RHRWAGE'], \n",
    "                                                list(np.arange(0.125,200,0.25)), \n",
    "                                                include_lowest=True),\n",
    "                  CS = lambda x: x['PWORWGT'].cumsum()))\n",
    "\n",
    "midpt = data['PWORWGT'].sum() * 0.5\n",
    "\n",
    "mid_interval = data.iloc[(data['CS']-midpt).abs().argsort()[:1]].WAGE_RANGE.values[0]\n",
    "\n",
    "wage_bins = list(data['WAGE_RANGE'].unique())\n",
    "\n",
    "mi_loc = wage_bins.index(mid_interval)\n",
    "lowval = data[data['WAGE_RANGE'] == wage_bins[mi_loc-1]].iloc[-1].CS\n",
    "highval = data[data['WAGE_RANGE'] == wage_bins[mi_loc]].iloc[-1].CS\n",
    "\n",
    "binned_med = ((((midpt - lowval) / (highval - lowval)) * 0.5) + mid_interval.left)\n",
    "\n",
    "print(f'binned, weighted median: ${binned_med: .2f}')"
   ]
  },
  {
   "cell_type": "code",
   "execution_count": null,
   "metadata": {},
   "outputs": [],
   "source": []
  },
  {
   "cell_type": "code",
   "execution_count": null,
   "metadata": {
    "ExecuteTime": {
     "end_time": "2018-10-02T20:18:29.303864Z",
     "start_time": "2018-10-02T20:18:29.291133Z"
    }
   },
   "outputs": [],
   "source": [
    "data.iloc[(data['CS']-midpt).abs().argsort()[:1]].WAGE_RANGE.values[0]"
   ]
  },
  {
   "cell_type": "code",
   "execution_count": null,
   "metadata": {
    "ExecuteTime": {
     "end_time": "2018-10-02T20:12:02.445430Z",
     "start_time": "2018-10-02T20:12:02.435623Z"
    }
   },
   "outputs": [],
   "source": [
    "n = wage_bins.index(data.iloc[(data['CS']-midpt).abs().argsort()[:1]].WAGE_RANGE.values[0])\n",
    "lowval = data[data['WAGE_RANGE'] == wage_bins[n-1]].iloc[-1].CS\n",
    "highval = data[data['WAGE_RANGE'] == wage_bins[n]].iloc[-1].CS\n",
    "\n",
    "binned_med = ((((midpt - lowval) / (highval - lowval)) * 0.5) + \n",
    "                  data.iloc[(data['CS']-midpt).abs().argsort()[:1]].WAGE_RANGE.values[0].left)"
   ]
  },
  {
   "cell_type": "code",
   "execution_count": null,
   "metadata": {
    "ExecuteTime": {
     "end_time": "2018-10-02T20:12:03.527796Z",
     "start_time": "2018-10-02T20:12:03.523914Z"
    }
   },
   "outputs": [],
   "source": [
    "wage_bins[n-1]"
   ]
  },
  {
   "cell_type": "code",
   "execution_count": null,
   "metadata": {
    "ExecuteTime": {
     "end_time": "2018-10-02T20:12:04.466115Z",
     "start_time": "2018-10-02T20:12:04.456540Z"
    }
   },
   "outputs": [],
   "source": [
    "data.head()"
   ]
  },
  {
   "cell_type": "code",
   "execution_count": null,
   "metadata": {
    "ExecuteTime": {
     "end_time": "2018-10-02T20:12:14.431855Z",
     "start_time": "2018-10-02T20:12:14.422241Z"
    }
   },
   "outputs": [],
   "source": [
    "lowval = data[data['WAGE_RANGE'] == wage_bins[n-1]].iloc[-1].CS\n",
    "highval = data[data['WAGE_RANGE'] == wage_bins[n]].iloc[-1].CS\n",
    "\n",
    "binned_med = ((((midpt - lowval) / (highval - lowval)) * 0.5) + \n",
    "                  data.iloc[(data['CS']-midpt).abs().argsort()[:1]].WAGE_RANGE.values[0].left)"
   ]
  },
  {
   "cell_type": "code",
   "execution_count": null,
   "metadata": {
    "ExecuteTime": {
     "end_time": "2018-10-02T20:12:15.261184Z",
     "start_time": "2018-10-02T20:12:15.251627Z"
    }
   },
   "outputs": [],
   "source": [
    "binned_med = ((((midpt - lowval) / (highval - lowval)) * 0.5) + \n",
    "                  data.iloc[(data['CS']-midpt).abs().argsort()[:1]].WAGE_RANGE.values[0].left)"
   ]
  },
  {
   "cell_type": "code",
   "execution_count": null,
   "metadata": {
    "ExecuteTime": {
     "end_time": "2018-10-02T20:12:16.795645Z",
     "start_time": "2018-10-02T20:12:16.788508Z"
    }
   },
   "outputs": [],
   "source": [
    "binned_med"
   ]
  },
  {
   "cell_type": "code",
   "execution_count": null,
   "metadata": {
    "ExecuteTime": {
     "end_time": "2018-10-02T19:59:45.601060Z",
     "start_time": "2018-10-02T19:59:45.589779Z"
    }
   },
   "outputs": [],
   "source": [
    "data.iloc[(data['CS']-midpt).abs().argsort()[:1]].WAGE_RANGE.values[0]"
   ]
  },
  {
   "cell_type": "code",
   "execution_count": null,
   "metadata": {
    "ExecuteTime": {
     "end_time": "2018-10-02T19:53:34.188281Z",
     "start_time": "2018-10-02T19:53:33.408312Z"
    }
   },
   "outputs": [],
   "source": [
    "for month in list(data['HRMONTH'].unique()):\n",
    "    df = data[data['HRMONTH'] == month]\n",
    "    df['wage_range'] = pd.cut(df['HRWAGE'], list(np.arange(0.25,1000,0.5)), include_lowest=True)\n",
    "    df = df.sort_values('HRWAGE')#.dropna(subset=['wage_range'])\n",
    "    midpt = df['PWORWGT'].sum() * 0.5\n",
    "    df['cs'] = df['PWORWGT'].cumsum()\n",
    "    n = list(df['wage_range'].unique()).index(df.iloc[(df['cs']-midpt).abs().argsort()[:1]].wage_range.values[0])\n",
    "    lowval = df[df['wage_range'] == list(df['wage_range'].unique())[n-1]].iloc[-1].cs\n",
    "    highval = df[df['wage_range'] == list(df['wage_range'].unique())[n]].iloc[-1].cs\n",
    "    binned_med = ((((midpt - lowval) / (highval - lowval)) * 0.5) + \n",
    "                  df.iloc[(df['cs']-midpt).abs().argsort()[:1]].wage_range.values[0].left)\n",
    "    print(month)\n",
    "    print(f'binned, weighted median: ${binned_med: .2f}')"
   ]
  }
 ],
 "metadata": {
  "kernelspec": {
   "display_name": "Python 3",
   "language": "python",
   "name": "python3"
  },
  "language_info": {
   "codemirror_mode": {
    "name": "ipython",
    "version": 3
   },
   "file_extension": ".py",
   "mimetype": "text/x-python",
   "name": "python",
   "nbconvert_exporter": "python",
   "pygments_lexer": "ipython3",
   "version": "3.6.6"
  }
 },
 "nbformat": 4,
 "nbformat_minor": 2
}
