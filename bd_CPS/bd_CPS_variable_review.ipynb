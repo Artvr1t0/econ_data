{
 "cells": [
  {
   "cell_type": "markdown",
   "metadata": {},
   "source": [
    "## Variable review\n",
    "\n",
    "Possible drop:\n",
    "\n",
    "PRPERTYP (fix CERT in reader)\n",
    "PRCIVLF\n",
    "PWSSWGT\n",
    "PWCMPWGT\n",
    "PREMPNOT (after creating LFS)\n",
    "PRWKSTAT\n",
    "PRWNTJOB\n",
    "PEDWWNTO\n",
    "PEJHRSN\n",
    "PELKLWO\n",
    "PUIODP1\n",
    "PUIODP2\n",
    "\n",
    "Rename:\n",
    "\n",
    "HRMIS -> MIS\n",
    "HRHHID -> HHID\n",
    "HRHHID2 -> HHID2\n",
    "PWORWGT -> ORGWGT\n",
    "PEHRUSL1 -> HRUSL1\n",
    "PEHRACTT -> HRACTT\n",
    "PRFTLF -> FTLF\n",
    "\n",
    "Recode:\n",
    "\n",
    "PRFTLF (currently 1=FT, 2=PT, defined for PEMLR 1-4) -> FULLTIME (1 if full-time, 0 if part-time, nan if NA)  maybe\n",
    "\n",
    "\n",
    "\n",
    "Add:\n",
    "\n",
    "LFS (categorical: Employed, Unemployed, Not in Labor Force, use PREMPNOT except 3|4 == NILF)\n",
    "HRUSL2\n",
    "HRUSLT\n",
    "HRACT1\n",
    "HRACT2"
   ]
  },
  {
   "cell_type": "code",
   "execution_count": null,
   "metadata": {},
   "outputs": [],
   "source": []
  },
  {
   "cell_type": "code",
   "execution_count": 1,
   "metadata": {
    "ExecuteTime": {
     "end_time": "2019-01-31T16:36:53.344430Z",
     "start_time": "2019-01-31T16:36:52.978231Z"
    }
   },
   "outputs": [],
   "source": [
    "import pandas as pd\n",
    "import os\n",
    "\n",
    "os.chdir('/home/brian/Documents/CPS/data/clean')"
   ]
  },
  {
   "cell_type": "code",
   "execution_count": 3,
   "metadata": {
    "ExecuteTime": {
     "end_time": "2019-01-31T16:41:00.131774Z",
     "start_time": "2019-01-31T16:41:00.018823Z"
    }
   },
   "outputs": [],
   "source": [
    "df = pd.read_feather('cps2018.ft')"
   ]
  },
  {
   "cell_type": "code",
   "execution_count": 6,
   "metadata": {
    "ExecuteTime": {
     "end_time": "2019-01-31T16:42:06.641902Z",
     "start_time": "2019-01-31T16:42:06.637793Z"
    }
   },
   "outputs": [
    {
     "data": {
      "text/plain": [
       "Index(['HRHHID', 'MONTH', 'YEAR', 'HRMIS', 'HRHHID2', 'GTCBSA', 'GTMETSTA',\n",
       "       'GTCSA', 'AGE', 'PEEDUCA', 'PRDTRACE', 'PRDTHSP', 'PULINENO',\n",
       "       'PRMARSTA', 'PRPERTYP', 'PEMLR', 'PULAY', 'PEHRUSL1', 'PEHRACTT',\n",
       "       'PELKLWO', 'PEDWWNTO', 'PEJHRSN', 'PRCIVLF', 'PRDISC', 'PREMPNOT',\n",
       "       'PRFTLF', 'PRWKSTAT', 'PRWNTJOB', 'PUIODP1', 'PUIODP2', 'PEIO1COW',\n",
       "       'PEIO2COW', 'PRAGNA', 'PRCOW1', 'PRDTIND1', 'PRDTOCC1', 'PRMJIND1',\n",
       "       'PRMJOCC1', 'PRERNHLY', 'PEERNLAB', 'PEERNCOV', 'PENLFACT', 'PWLGWGT',\n",
       "       'PWORWGT', 'PWSSWGT', 'PRCHLD', 'PRNMCHLD', 'PWCMPWGT', 'PEIO1ICD',\n",
       "       'PEIO1OCD', 'PRDISFLG', 'FEMALE', 'STATE', 'EDUC', 'SCHENR', 'MARRIED',\n",
       "       'WBHAO', 'FORBORN', 'VETERAN', 'INDGRP', 'LMSTAT', 'EMP', 'MJH',\n",
       "       'UNEMPTYPE', 'UNEMPDUR', 'PTECON', 'WKWAGE', 'HRWAGE', 'OTTCAMT',\n",
       "       'RHRWAGE', 'RHRWAGE2', 'RWKWAGE', 'ROTTCAMT', 'BASICWGT', 'WBHAOM',\n",
       "       'CERT'],\n",
       "      dtype='object')"
      ]
     },
     "execution_count": 6,
     "metadata": {},
     "output_type": "execute_result"
    }
   ],
   "source": [
    "df.keys()"
   ]
  },
  {
   "cell_type": "code",
   "execution_count": 12,
   "metadata": {
    "ExecuteTime": {
     "end_time": "2019-01-31T16:43:54.715885Z",
     "start_time": "2019-01-31T16:43:54.689129Z"
    }
   },
   "outputs": [
    {
     "data": {
      "text/plain": [
       "PRPERTYP\n",
       "1    0.000000e+00\n",
       "2    2.834599e+09\n",
       "Name: BASICWGT, dtype: float32"
      ]
     },
     "execution_count": 12,
     "metadata": {},
     "output_type": "execute_result"
    }
   ],
   "source": [
    "df.groupby(['PRPERTYP']).BASICWGT.sum()"
   ]
  },
  {
   "cell_type": "code",
   "execution_count": null,
   "metadata": {},
   "outputs": [],
   "source": []
  }
 ],
 "metadata": {
  "kernelspec": {
   "display_name": "Python 3",
   "language": "python",
   "name": "python3"
  },
  "language_info": {
   "codemirror_mode": {
    "name": "ipython",
    "version": 3
   },
   "file_extension": ".py",
   "mimetype": "text/x-python",
   "name": "python",
   "nbconvert_exporter": "python",
   "pygments_lexer": "ipython3",
   "version": "3.7.1"
  }
 },
 "nbformat": 4,
 "nbformat_minor": 2
}
