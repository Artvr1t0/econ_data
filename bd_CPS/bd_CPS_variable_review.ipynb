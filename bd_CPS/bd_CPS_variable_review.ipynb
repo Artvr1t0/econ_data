{
 "cells": [
  {
   "cell_type": "markdown",
   "metadata": {},
   "source": [
    "## Variable review\n",
    "\n",
    "Possible drop:\n",
    "\n",
    "PRPERTYP (fix CERT in reader)\n",
    "PRCIVLF\n",
    "PWSSWGT\n",
    "PWCMPWGT\n",
    "PREMPNOT (after creating LFS)\n",
    "PRWKSTAT\n",
    "PRWNTJOB\n",
    "PEDWWNTO\n",
    "PEJHRSN\n",
    "PELKLWO\n",
    "PUIODP1\n",
    "PUIODP2\n",
    "\n",
    "Rename:\n",
    "\n",
    "HRMIS -> MIS\n",
    "HRHHID -> HHID\n",
    "HRHHID2 -> HHID2\n",
    "PWORWGT -> ORGWGT\n",
    "PEHRUSL1 -> HRUSL1\n",
    "PEHRACTT -> HRACTT\n",
    "PRFTLF -> FTLF\n",
    "\n",
    "Recode:\n",
    "\n",
    "PRFTLF (currently 1=FT, 2=PT, defined for PEMLR 1-4) -> FULLTIME (1 if full-time, 0 if part-time, nan if NA)  maybe\n",
    "\n",
    "\n",
    "\n",
    "Add:\n",
    "\n",
    "LFS (categorical: Employed, Unemployed, Not in Labor Force, use PREMPNOT except 3|4 == NILF)\n",
    "HRUSL2\n",
    "HRUSLT\n",
    "HRACT1\n",
    "HRACT2"
   ]
  },
  {
   "cell_type": "code",
   "execution_count": null,
   "metadata": {},
   "outputs": [],
   "source": []
  },
  {
   "cell_type": "code",
   "execution_count": 1,
   "metadata": {
    "ExecuteTime": {
     "end_time": "2019-02-01T20:59:35.769338Z",
     "start_time": "2019-02-01T20:59:35.544383Z"
    }
   },
   "outputs": [],
   "source": [
    "import pandas as pd\n",
    "import os\n",
    "\n",
    "os.chdir('/home/brian/Documents/CPS/data/clean')"
   ]
  },
  {
   "cell_type": "code",
   "execution_count": 2,
   "metadata": {
    "ExecuteTime": {
     "end_time": "2019-02-01T20:59:36.547424Z",
     "start_time": "2019-02-01T20:59:36.374657Z"
    }
   },
   "outputs": [],
   "source": [
    "df = pd.read_feather('cps2018.ft')"
   ]
  },
  {
   "cell_type": "code",
   "execution_count": 9,
   "metadata": {
    "ExecuteTime": {
     "end_time": "2019-02-01T21:00:18.713910Z",
     "start_time": "2019-02-01T21:00:18.708060Z"
    }
   },
   "outputs": [
    {
     "name": "stdout",
     "output_type": "stream",
     "text": [
      "HRHHID int64\n",
      "MONTH int8\n",
      "YEAR category\n",
      "HRMIS int8\n",
      "HRHHID2 int64\n",
      "GTCBSA int32\n",
      "GTMETSTA int8\n",
      "GTCSA int16\n",
      "AGE int8\n",
      "PEEDUCA int8\n",
      "PRDTRACE int8\n",
      "PRDTHSP int8\n",
      "PULINENO int8\n",
      "PRMARSTA int8\n",
      "PEMLR int8\n",
      "PEHRUSL1 int8\n",
      "PEHRACTT int16\n",
      "PEDWWNTO int8\n",
      "PRDISC int8\n",
      "PREMPNOT int8\n",
      "PRFTLF int8\n",
      "PRWKSTAT int8\n",
      "PRWNTJOB int8\n",
      "PEIO1COW int8\n",
      "PEIO2COW int8\n",
      "PRAGNA int8\n",
      "PRCOW1 int8\n",
      "PRDTIND1 int8\n",
      "PRDTOCC1 int8\n",
      "PRMJIND1 int8\n",
      "PRMJOCC1 int8\n",
      "PRERNHLY int16\n",
      "PEERNLAB int8\n",
      "PEERNCOV int8\n",
      "PENLFACT int8\n",
      "PWLGWGT float32\n",
      "PWORWGT float32\n",
      "PWSSWGT float32\n",
      "PRCHLD int8\n",
      "PRNMCHLD int8\n",
      "PWCMPWGT float32\n",
      "PEIO1ICD int16\n",
      "PEIO1OCD int16\n",
      "PRDISFLG int8\n",
      "FEMALE category\n",
      "STATE category\n",
      "REGION category\n",
      "EDUC category\n",
      "SCHENR category\n",
      "MARRIED category\n",
      "WBHAO category\n",
      "FORBORN category\n",
      "VETERAN category\n",
      "INDGRP category\n",
      "LMSTAT category\n",
      "EMP category\n",
      "MJH category\n",
      "UNEMPTYPE category\n",
      "UNEMPDUR int16\n",
      "PTECON category\n",
      "WKWAGE float64\n",
      "HRWAGE float64\n",
      "OTTCAMT float64\n",
      "RHRWAGE float64\n",
      "RHRWAGE2 float64\n",
      "RWKWAGE float64\n",
      "ROTTCAMT float64\n",
      "BASICWGT float32\n",
      "WBHAOM category\n",
      "CERT category\n"
     ]
    }
   ],
   "source": [
    "for key in df.keys():\n",
    "    print(key, df[key].dtypes)"
   ]
  },
  {
   "cell_type": "code",
   "execution_count": 12,
   "metadata": {
    "ExecuteTime": {
     "end_time": "2019-01-31T16:43:54.715885Z",
     "start_time": "2019-01-31T16:43:54.689129Z"
    }
   },
   "outputs": [
    {
     "data": {
      "text/plain": [
       "PRPERTYP\n",
       "1    0.000000e+00\n",
       "2    2.834599e+09\n",
       "Name: BASICWGT, dtype: float32"
      ]
     },
     "execution_count": 12,
     "metadata": {},
     "output_type": "execute_result"
    }
   ],
   "source": [
    "df.groupby(['PRPERTYP']).BASICWGT.sum()"
   ]
  },
  {
   "cell_type": "code",
   "execution_count": null,
   "metadata": {},
   "outputs": [],
   "source": []
  }
 ],
 "metadata": {
  "kernelspec": {
   "display_name": "Python 3",
   "language": "python",
   "name": "python3"
  },
  "language_info": {
   "codemirror_mode": {
    "name": "ipython",
    "version": 3
   },
   "file_extension": ".py",
   "mimetype": "text/x-python",
   "name": "python",
   "nbconvert_exporter": "python",
   "pygments_lexer": "ipython3",
   "version": "3.7.1"
  }
 },
 "nbformat": 4,
 "nbformat_minor": 2
}
