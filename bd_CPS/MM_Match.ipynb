{
 "cells": [
  {
   "cell_type": "markdown",
   "metadata": {},
   "source": []
  },
  {
   "cell_type": "code",
   "execution_count": 1,
   "metadata": {
    "ExecuteTime": {
     "end_time": "2019-02-13T03:11:45.698661Z",
     "start_time": "2019-02-13T03:11:45.468988Z"
    }
   },
   "outputs": [],
   "source": [
    "import pandas as pd\n",
    "import os\n",
    "\n",
    "os.chdir('/home/brian/Documents/CPS/data/clean')"
   ]
  },
  {
   "cell_type": "code",
   "execution_count": 2,
   "metadata": {
    "ExecuteTime": {
     "end_time": "2019-02-13T03:11:45.730104Z",
     "start_time": "2019-02-13T03:11:45.700293Z"
    },
    "code_folding": []
   },
   "outputs": [],
   "source": [
    "date_list = [(date_val.year, date_val.month) for date_val in \n",
    "             pd.date_range(start='1996-01-01', end='2018-12-01', freq='MS')]\n",
    "\n",
    "date_pairs = list(zip(date_list, date_list[1:]))"
   ]
  },
  {
   "cell_type": "code",
   "execution_count": 3,
   "metadata": {
    "ExecuteTime": {
     "end_time": "2019-02-13T03:11:45.935325Z",
     "start_time": "2019-02-13T03:11:45.731371Z"
    }
   },
   "outputs": [],
   "source": [
    "keep_cols = ['CPSID', 'PULINENO', 'AGE', 'FEMALE', 'WBHAO', 'BASICWGT',\n",
    "             'YEAR', 'MONTH', 'LFS', 'NILFREASON', 'MIS', 'HHID', 'HHID2', 'QSTNUM']\n",
    "df = pd.read_feather(f'cps2018.ft', columns=keep_cols)\n",
    "df = df.loc[df['CPSID'] > 0]"
   ]
  },
  {
   "cell_type": "code",
   "execution_count": 5,
   "metadata": {
    "ExecuteTime": {
     "end_time": "2019-02-13T03:11:58.641559Z",
     "start_time": "2019-02-13T03:11:58.598134Z"
    }
   },
   "outputs": [
    {
     "data": {
      "text/plain": [
       "9.079580754041672"
      ]
     },
     "execution_count": 5,
     "metadata": {},
     "output_type": "execute_result"
    }
   ],
   "source": [
    "mo_pair = date_pairs[0]\n",
    "\n",
    "mo1, mo2 = mo_pair[0], mo_pair[1]\n",
    "d1 = df.loc[(df['MONTH'] == mo1[1]) & (df['NILFREASON'] == 'Discouraged')]\n",
    "d1_tot = d1['BASICWGT'].sum()\n",
    "d2 = df.loc[(df['MONTH'] == mo2[1]) & (df['LFS'] == 'Employed')]\n",
    "\n",
    "merged = pd.merge(d1, d2, on=['CPSID', 'PULINENO'], how='inner')\n",
    "\n",
    "merged_tot = merged['BASICWGT_x'].sum()\n",
    "\n",
    "merged_tot / d1_tot  * 100.0"
   ]
  },
  {
   "cell_type": "code",
   "execution_count": null,
   "metadata": {},
   "outputs": [],
   "source": []
  },
  {
   "cell_type": "code",
   "execution_count": null,
   "metadata": {},
   "outputs": [],
   "source": []
  },
  {
   "cell_type": "code",
   "execution_count": null,
   "metadata": {},
   "outputs": [],
   "source": []
  }
 ],
 "metadata": {
  "kernelspec": {
   "display_name": "Python 3",
   "language": "python",
   "name": "python3"
  },
  "language_info": {
   "codemirror_mode": {
    "name": "ipython",
    "version": 3
   },
   "file_extension": ".py",
   "mimetype": "text/x-python",
   "name": "python",
   "nbconvert_exporter": "python",
   "pygments_lexer": "ipython3",
   "version": "3.7.1"
  }
 },
 "nbformat": 4,
 "nbformat_minor": 2
}
