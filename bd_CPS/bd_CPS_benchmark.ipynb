{
 "cells": [
  {
   "cell_type": "markdown",
   "metadata": {},
   "source": [
    "## bd econ CPS extract\n",
    "\n",
    "bd_CPS_benchmark.ipynb\n",
    "\n",
    "February 12, 2018\n",
    "\n",
    "Contact: Brian Dew, @bd_econ\n",
    "\n",
    "Requires: `cpsYYYY.ft` files for each year. The bd CPS files are generated bd_CPS_reader.ipynb\n",
    "\n",
    "-----\n",
    "\n",
    "See [readme](https://github.com/bdecon/econ_data/tree/master/bd_CPS) for documentation."
   ]
  },
  {
   "cell_type": "code",
   "execution_count": 1,
   "metadata": {
    "ExecuteTime": {
     "end_time": "2019-02-12T18:13:02.460654Z",
     "start_time": "2019-02-12T18:13:02.239515Z"
    }
   },
   "outputs": [
    {
     "name": "stdout",
     "output_type": "stream",
     "text": [
      "pandas: 0.24.1\n",
      "numpy: 1.15.4\n"
     ]
    }
   ],
   "source": [
    "import pandas as pd\n",
    "print('pandas:', pd.__version__)\n",
    "import numpy as np\n",
    "print('numpy:', np.__version__)\n",
    "import wquantiles\n",
    "import os\n",
    "\n",
    "os.chdir('/home/brian/Documents/CPS/data/clean/')"
   ]
  },
  {
   "cell_type": "markdown",
   "metadata": {},
   "source": [
    "### 1994-onward extracts"
   ]
  },
  {
   "cell_type": "markdown",
   "metadata": {},
   "source": [
    "#### Benchmark 1\n",
    "\n",
    "In October 1999, how many people were unemployed because of losing a job?\n",
    "\n",
    "BLS: LNU03023621: 2,162,000"
   ]
  },
  {
   "cell_type": "code",
   "execution_count": 2,
   "metadata": {
    "ExecuteTime": {
     "end_time": "2019-02-12T18:13:02.763305Z",
     "start_time": "2019-02-12T18:13:02.462292Z"
    }
   },
   "outputs": [
    {
     "data": {
      "text/plain": [
       "2161502.5"
      ]
     },
     "execution_count": 2,
     "metadata": {},
     "output_type": "execute_result"
    }
   ],
   "source": [
    "(pd.read_feather('cps1999.ft')\n",
    "   .query('MONTH==10 and UNEMPTYPE == \"Job Loser\"')\n",
    "   ['BASICWGT']).sum()"
   ]
  },
  {
   "cell_type": "markdown",
   "metadata": {},
   "source": [
    "#### Benchmark 2\n",
    "\n",
    "In February 2007, what share of age 25-54 women were employed?\n",
    "\n",
    "BLS: LNU02300062: 72.6"
   ]
  },
  {
   "cell_type": "code",
   "execution_count": 3,
   "metadata": {
    "ExecuteTime": {
     "end_time": "2019-02-12T18:13:03.091412Z",
     "start_time": "2019-02-12T18:13:02.764675Z"
    }
   },
   "outputs": [
    {
     "data": {
      "text/plain": [
       "0.72602457"
      ]
     },
     "execution_count": 3,
     "metadata": {},
     "output_type": "execute_result"
    }
   ],
   "source": [
    "df = (pd.read_feather('cps2007.ft')\n",
    "        .query('MONTH==2 and 25 <= AGE <= 54 and FEMALE==1')\n",
    "        .groupby('LFS')\n",
    "        .BASICWGT.sum())\n",
    "\n",
    "df['Employed'] / df.sum()"
   ]
  },
  {
   "cell_type": "markdown",
   "metadata": {},
   "source": [
    "#### Benchmark 3\n",
    "\n",
    "In May 2014, how many people have more than one job?\n",
    "\n",
    "BLS: LNU02026619: 7,305,000"
   ]
  },
  {
   "cell_type": "code",
   "execution_count": 4,
   "metadata": {
    "ExecuteTime": {
     "end_time": "2019-02-12T18:13:03.420255Z",
     "start_time": "2019-02-12T18:13:03.093235Z"
    }
   },
   "outputs": [
    {
     "data": {
      "text/plain": [
       "7304317.5"
      ]
     },
     "execution_count": 4,
     "metadata": {},
     "output_type": "execute_result"
    }
   ],
   "source": [
    "(pd.read_feather('cps2014.ft')\n",
    "   .query('MONTH==5 and MJH==1')\n",
    "   .BASICWGT).sum()"
   ]
  },
  {
   "cell_type": "markdown",
   "metadata": {},
   "source": [
    "#### Benchmark 4\n",
    "\n",
    "In 2017 Q1, what were the nominal median usual weekly earnings?\n",
    "\n",
    "BLS: LEU0252881500: $865"
   ]
  },
  {
   "cell_type": "code",
   "execution_count": 5,
   "metadata": {
    "ExecuteTime": {
     "end_time": "2019-02-12T18:13:03.704423Z",
     "start_time": "2019-02-12T18:13:03.440008Z"
    }
   },
   "outputs": [
    {
     "data": {
      "text/plain": [
       "865.3800048828125"
      ]
     },
     "execution_count": 5,
     "metadata": {},
     "output_type": "execute_result"
    }
   ],
   "source": [
    "df = (pd.read_feather('cps2017.ft')\n",
    "        .query('MONTH < 4 and WKWAGE > 0 and WORKFT == 1'))\n",
    "\n",
    "wquantiles.median(df['WKWAGE'], df['PWORWGT'])"
   ]
  },
  {
   "cell_type": "code",
   "execution_count": 6,
   "metadata": {
    "ExecuteTime": {
     "end_time": "2019-02-12T18:13:03.743107Z",
     "start_time": "2019-02-12T18:13:03.705663Z"
    },
    "code_folding": [
     0
    ],
    "run_control": {
     "marked": false
    }
   },
   "outputs": [
    {
     "data": {
      "text/plain": [
       "867.56760484129"
      ]
     },
     "execution_count": 6,
     "metadata": {},
     "output_type": "execute_result"
    }
   ],
   "source": [
    "# Sophisticated version\n",
    "def binned_wage(group):\n",
    "    \"\"\"Return BLS-styled binned median wage\"\"\"\n",
    "    weight = 'PWORWGT'\n",
    "    wage_var = 'WKWAGE'\n",
    "    percentile = 0.5\n",
    "    bin_size = 50\n",
    "    bins = list(np.arange(25, 3000, bin_size))\n",
    "    # Cut wage series according to bins of bin_size\n",
    "    bin_cut = lambda x: pd.cut(x[wage_var], bins, include_lowest=True)\n",
    "    \n",
    "    # Calculate cumulative sum for weight variable\n",
    "    cum_sum = lambda x: x[weight].cumsum()\n",
    "    \n",
    "    # Sort wages then apply bin_cut and cum_sum\n",
    "    df = (group.sort_values(wage_var)\n",
    "               .assign(WAGE_BIN = bin_cut, CS = cum_sum))\n",
    "    \n",
    "    # Find the weight at the percentile of interest\n",
    "    pct_wgt = df[weight].sum() * percentile\n",
    "\n",
    "    # Find wage bin for person nearest to weighted percentile\n",
    "    pct_bin = df.iloc[df['CS'].searchsorted(pct_wgt)].WAGE_BIN\n",
    "    \n",
    "    # Weight at bottom and top of bin\n",
    "    wgt_btm, wgt_top = (df.loc[df['WAGE_BIN'] == pct_bin, 'CS']\n",
    "                          .iloc[[0, -1]].values)\n",
    "    \n",
    "    # Find where in the bin the percentile is and return that value\n",
    "    pct_value = ((((pct_wgt - wgt_btm) / \n",
    "                   (wgt_top - wgt_btm)) * bin_size) + pct_bin.left)\n",
    "    return pct_value\n",
    "\n",
    "binned_wage(df)"
   ]
  },
  {
   "cell_type": "markdown",
   "metadata": {},
   "source": [
    "#### Benchmark 5\n",
    "\n",
    "In April 2007, what was the unemployment rate for native born Hispanic or latino people?\n",
    "\n",
    "BLS: LNU04073425: 5.6 "
   ]
  },
  {
   "cell_type": "code",
   "execution_count": 7,
   "metadata": {
    "ExecuteTime": {
     "end_time": "2019-02-12T18:13:04.006062Z",
     "start_time": "2019-02-12T18:13:03.744393Z"
    }
   },
   "outputs": [
    {
     "data": {
      "text/plain": [
       "0.055565815"
      ]
     },
     "execution_count": 7,
     "metadata": {},
     "output_type": "execute_result"
    }
   ],
   "source": [
    "df = (pd.read_feather('cps2007.ft')\n",
    "        .query('MONTH == 4 and FORBORN == 0 and WBHAO == \"Hispanic\"')\n",
    "        .groupby('LFS')\n",
    "        .BASICWGT.sum())\n",
    "\n",
    "df['Unemployed'].sum() / (df['Unemployed'].sum() + df['Employed'].sum())"
   ]
  },
  {
   "cell_type": "markdown",
   "metadata": {},
   "source": [
    "#### Benchmark 6\n",
    "\n",
    "In 2017, what was the union membership rate for black men?\n",
    "\n",
    "BLS: LUU0204905200: 13.7"
   ]
  },
  {
   "cell_type": "code",
   "execution_count": 8,
   "metadata": {
    "ExecuteTime": {
     "end_time": "2019-02-12T18:13:04.247720Z",
     "start_time": "2019-02-12T18:13:04.007076Z"
    }
   },
   "outputs": [
    {
     "data": {
      "text/plain": [
       "0.13706622"
      ]
     },
     "execution_count": 8,
     "metadata": {},
     "output_type": "execute_result"
    }
   ],
   "source": [
    "df = (pd.read_feather('cps2017.ft')\n",
    "        .query('PEERNLAB > 0 and WBHAOM == \"Black\" and FEMALE == 0')\n",
    "        .groupby('PEERNLAB')\n",
    "        .PWORWGT.sum())\n",
    "\n",
    "df[1] / df.sum()"
   ]
  },
  {
   "cell_type": "markdown",
   "metadata": {},
   "source": [
    "#### Benchmark 7\n",
    "\n",
    "In November 2015, on average, how many hours did usually employed full-time married (spouse present) men work?\n",
    "\n",
    "BLS: LNU02533629: 44.1\n",
    "\n",
    "EDIT: Tested and works (44.10250044951661) but removed because adds two variables."
   ]
  },
  {
   "cell_type": "code",
   "execution_count": 9,
   "metadata": {
    "ExecuteTime": {
     "end_time": "2019-02-12T18:13:04.253481Z",
     "start_time": "2019-02-12T18:13:04.249007Z"
    }
   },
   "outputs": [],
   "source": [
    "#df = (pd.read_feather('cps2015.ft')\n",
    "#        .query('MONTH == 11 and PRFTLF == 1 and PRMARSTA in [1, 2]'\n",
    "#               'and FEMALE == 0 and PRAGNA == 2 and HRSACTT > 0'))\n",
    "#\n",
    "#np.average(df['HRSACTT'], weights=df['BASICWGT'])"
   ]
  },
  {
   "cell_type": "markdown",
   "metadata": {},
   "source": [
    "#### Benchmark 8\n",
    "\n",
    "In 2017, what was the median hourly wage for 45 to 54 year old female wage and salary workers paid hourly rates?\n",
    "\n",
    "BLS: LEU0207640900: $15.16"
   ]
  },
  {
   "cell_type": "code",
   "execution_count": 10,
   "metadata": {
    "ExecuteTime": {
     "end_time": "2019-02-12T18:13:04.499897Z",
     "start_time": "2019-02-12T18:13:04.257737Z"
    }
   },
   "outputs": [
    {
     "data": {
      "text/plain": [
       "15.0"
      ]
     },
     "execution_count": 10,
     "metadata": {},
     "output_type": "execute_result"
    }
   ],
   "source": [
    "df = (pd.read_feather('cps2017.ft')\n",
    "        .query('45 <= AGE <54 and FEMALE == 1 and PRERNHLY > 0'\n",
    "               'and COW1 not in [\"Self-employed Incorporated\", \"Without Pay\"]')\n",
    "        .assign(HRWAGE_HRLY = lambda x: x['PRERNHLY'] / 100.0))\n",
    "\n",
    "wquantiles.median(df['HRWAGE_HRLY'], weights=df['PWORWGT'])"
   ]
  },
  {
   "cell_type": "code",
   "execution_count": 11,
   "metadata": {
    "ExecuteTime": {
     "end_time": "2019-02-12T18:13:04.554741Z",
     "start_time": "2019-02-12T18:13:04.501000Z"
    },
    "code_folding": [
     0
    ]
   },
   "outputs": [
    {
     "data": {
      "text/plain": [
       "15.144216310106446"
      ]
     },
     "execution_count": 11,
     "metadata": {},
     "output_type": "execute_result"
    }
   ],
   "source": [
    "# Sophisticated version\n",
    "def binned_wage(group):\n",
    "    \"\"\"Return BLS-styled binned median wage\"\"\"\n",
    "    weight = 'PWORWGT'\n",
    "    wage_var = 'HRWAGE_HRLY'\n",
    "    decile = 0.5\n",
    "    bin_size = 0.5\n",
    "    bins = list(np.arange(.25, 300, bin_size))\n",
    "    bin_cut = lambda x: pd.cut(x[wage_var], bins, include_lowest=True)\n",
    "    cum_sum = lambda x: x[weight].cumsum()\n",
    "    dft = (group.sort_values(wage_var)\n",
    "                .assign(WAGE_RANGE = bin_cut, CS = cum_sum))\n",
    "    dec_point = dft[weight].sum() * decile\n",
    "    dec_bin = (dft.iloc[(dft['CS'] - dec_point).abs().argsort()[:1]]\n",
    "                  .WAGE_RANGE.values[0])\n",
    "    wage_bins = list(dft['WAGE_RANGE'].unique())\n",
    "    dec_loc = wage_bins.index(dec_bin)\n",
    "    bin_below = dft[dft['WAGE_RANGE'] == wage_bins[dec_loc-1]].iloc[-1].CS\n",
    "    bin_above = dft[dft['WAGE_RANGE'] == wage_bins[dec_loc]].iloc[-1].CS\n",
    "    dec_value = ((((dec_point - bin_below) / \n",
    "                   (bin_above - bin_below)) * bin_size) + dec_bin.left)\n",
    "    return dec_value\n",
    "\n",
    "binned_wage(df)"
   ]
  },
  {
   "cell_type": "markdown",
   "metadata": {},
   "source": [
    "#### Benchmark 9\n",
    "\n",
    "In 2018, how many employed people had a professional certification or license?\n",
    "\n",
    "BLS [Table 48](https://www.bls.gov/cps/cpsaat49.htm): 37,556,000"
   ]
  },
  {
   "cell_type": "code",
   "execution_count": 12,
   "metadata": {
    "ExecuteTime": {
     "end_time": "2019-02-12T18:13:04.823199Z",
     "start_time": "2019-02-12T18:13:04.556023Z"
    }
   },
   "outputs": [
    {
     "data": {
      "text/plain": [
       "37523274.666666664"
      ]
     },
     "execution_count": 12,
     "metadata": {},
     "output_type": "execute_result"
    }
   ],
   "source": [
    "(pd.read_feather('cps2018.ft')\n",
    "   .query('LFS == \"Employed\" and CERT == 1')\n",
    "   .BASICWGT.sum() / 12.0)"
   ]
  },
  {
   "cell_type": "markdown",
   "metadata": {},
   "source": [
    "#### Benchmark 10\n",
    "\n",
    "In 2018, how many people were employed in Logging?\n",
    "\n",
    "BLS [Table 18](https://www.bls.gov/cps/cpsaat18.htm): 112,000"
   ]
  },
  {
   "cell_type": "code",
   "execution_count": 13,
   "metadata": {
    "ExecuteTime": {
     "end_time": "2019-02-12T18:13:05.024044Z",
     "start_time": "2019-02-12T18:13:04.826119Z"
    }
   },
   "outputs": [
    {
     "data": {
      "text/plain": [
       "118410.8125"
      ]
     },
     "execution_count": 13,
     "metadata": {},
     "output_type": "execute_result"
    }
   ],
   "source": [
    "(pd.read_feather('cps2018.ft')\n",
    "   .query('PEIO1ICD == 270')\n",
    "   .BASICWGT.sum() / 12.0)"
   ]
  },
  {
   "cell_type": "markdown",
   "metadata": {},
   "source": [
    "#### Benchmark 11\n",
    "\n",
    "In February 2012, what was the unemployment rate for veterans age 18+?\n",
    "\n",
    "BLS: LNU04049526: 7.0%"
   ]
  },
  {
   "cell_type": "code",
   "execution_count": 14,
   "metadata": {
    "ExecuteTime": {
     "end_time": "2019-02-12T18:13:05.357293Z",
     "start_time": "2019-02-12T18:13:05.025274Z"
    }
   },
   "outputs": [
    {
     "data": {
      "text/plain": [
       "0.069386184"
      ]
     },
     "execution_count": 14,
     "metadata": {},
     "output_type": "execute_result"
    }
   ],
   "source": [
    "df = (pd.read_feather('cps2012.ft')\n",
    "        .query('MONTH == 2 and AGE >= 18 and VETERAN == 1')\n",
    "        .groupby('LFS')\n",
    "        .BASICWGT.sum())\n",
    "\n",
    "df['Unemployed'] /  (df['Unemployed'].sum() + df['Employed'].sum())"
   ]
  },
  {
   "cell_type": "markdown",
   "metadata": {},
   "source": [
    "### 1989-93 Extracts"
   ]
  },
  {
   "cell_type": "markdown",
   "metadata": {},
   "source": [
    "#### Benchmark 1\n",
    "\n",
    "How many women age 20-24 were employed in June 1992?\n",
    "\n",
    "BLS: LNU02000038: 6,190,000"
   ]
  },
  {
   "cell_type": "code",
   "execution_count": 15,
   "metadata": {
    "ExecuteTime": {
     "end_time": "2019-02-12T18:13:05.593560Z",
     "start_time": "2019-02-12T18:13:05.358565Z"
    }
   },
   "outputs": [
    {
     "data": {
      "text/plain": [
       "6144925.0"
      ]
     },
     "execution_count": 15,
     "metadata": {},
     "output_type": "execute_result"
    }
   ],
   "source": [
    "(pd.read_feather('cps1992.ft')\n",
    "   .query('MONTH == 6 and FEMALE == 1 and 20 <= AGE <= 24'\n",
    "          'and LFSR in [1, 2]')).BASICWGT.sum()"
   ]
  },
  {
   "cell_type": "markdown",
   "metadata": {},
   "source": [
    "#### Benchmark 2\n",
    "\n",
    "What was the unemployment rate in Febuary 1989?\n",
    "\n",
    "BLS: LNU04000000: 5.6%"
   ]
  },
  {
   "cell_type": "code",
   "execution_count": 16,
   "metadata": {
    "ExecuteTime": {
     "end_time": "2019-02-12T18:13:05.770172Z",
     "start_time": "2019-02-12T18:13:05.596862Z"
    }
   },
   "outputs": [
    {
     "data": {
      "text/plain": [
       "0.05666313"
      ]
     },
     "execution_count": 16,
     "metadata": {},
     "output_type": "execute_result"
    }
   ],
   "source": [
    "df = (pd.read_feather('cps1989.ft')\n",
    "        .query('MONTH == 2 and AGE > 15')\n",
    "        .groupby('LFSR')\n",
    "        .BASICWGT.sum())\n",
    "\n",
    "df[2:4].sum() / df[0:4].sum()"
   ]
  },
  {
   "cell_type": "markdown",
   "metadata": {},
   "source": [
    "#### Benchmark 3\n",
    "\n",
    "In December 1990, what was the unemployment rate (U-2) if you only count people who lost jobs or completed temporary jobs?\n",
    "\n",
    "BLS: LNU04023621: 3.2%"
   ]
  },
  {
   "cell_type": "code",
   "execution_count": 17,
   "metadata": {
    "ExecuteTime": {
     "end_time": "2019-02-12T18:13:06.011582Z",
     "start_time": "2019-02-12T18:13:05.777539Z"
    }
   },
   "outputs": [
    {
     "data": {
      "text/plain": [
       "0.03193486"
      ]
     },
     "execution_count": 17,
     "metadata": {},
     "output_type": "execute_result"
    }
   ],
   "source": [
    "df = (pd.read_feather('cps1990.ft')\n",
    "        .query('MONTH == 12 and AGE > 15'))\n",
    "\n",
    "unjl = df.query('UNEMPTYPE==\"Job Loser\"').BASICWGT.sum()\n",
    "\n",
    "lf = df.query('LFSR in [1, 2, 3, 4]').BASICWGT.sum()\n",
    "\n",
    "unjl / lf"
   ]
  },
  {
   "cell_type": "markdown",
   "metadata": {},
   "source": [
    "#### Benchmark 4\n",
    "\n",
    "In 1991, what share of wage and salary workers were represented by a union?\n",
    "\n",
    "BLS: LUU0204899700: 18.1%"
   ]
  },
  {
   "cell_type": "code",
   "execution_count": 18,
   "metadata": {
    "ExecuteTime": {
     "end_time": "2019-02-12T18:13:06.313673Z",
     "start_time": "2019-02-12T18:13:06.030880Z"
    }
   },
   "outputs": [
    {
     "data": {
      "text/plain": [
       "0.18115489"
      ]
     },
     "execution_count": 18,
     "metadata": {},
     "output_type": "execute_result"
    }
   ],
   "source": [
    "df = (pd.read_feather('cps1991.ft')\n",
    "        .query('AGE > 15 and CLSWKR not in [-1, 5, 7, 8] and UNMEM > 0'))\n",
    "\n",
    "uncov = df.query('UNMEM == 1 or UNCOV == 1').PWORWGT.sum()\n",
    "\n",
    "total = df.PWORWGT.sum()\n",
    "\n",
    "uncov/total"
   ]
  },
  {
   "cell_type": "markdown",
   "metadata": {},
   "source": [
    "#### Benchmark 5\n",
    "\n",
    "In July 1989, how many people were unemployed for 27 weeks or more?\n",
    "\n",
    "BLS: LNU03008636: 616,000"
   ]
  },
  {
   "cell_type": "code",
   "execution_count": 19,
   "metadata": {
    "ExecuteTime": {
     "end_time": "2019-02-12T18:13:06.502556Z",
     "start_time": "2019-02-12T18:13:06.315156Z"
    }
   },
   "outputs": [
    {
     "data": {
      "text/plain": [
       "607400.75"
      ]
     },
     "execution_count": 19,
     "metadata": {},
     "output_type": "execute_result"
    }
   ],
   "source": [
    "(pd.read_feather('cps1989.ft')\n",
    "   .query('MONTH == 7 and UNEMPDUR >= 27')\n",
    "   .BASICWGT.sum())"
   ]
  },
  {
   "cell_type": "markdown",
   "metadata": {},
   "source": [
    "#### Benchmark 6\n",
    "\n",
    "In Q2 1992, what was the median usual weekly earnings?\n",
    "\n",
    "BLS: LEU0252881500: $436"
   ]
  },
  {
   "cell_type": "code",
   "execution_count": 20,
   "metadata": {
    "ExecuteTime": {
     "end_time": "2019-02-12T18:13:06.735895Z",
     "start_time": "2019-02-12T18:13:06.503838Z"
    }
   },
   "outputs": [
    {
     "data": {
      "text/plain": [
       "435.0"
      ]
     },
     "execution_count": 20,
     "metadata": {},
     "output_type": "execute_result"
    }
   ],
   "source": [
    "months = [4, 5, 6]\n",
    "\n",
    "df = (pd.read_feather('cps1992.ft')\n",
    "        .query('MONTH in @months and WKWAGE > 0 and WORKFT == 1'))\n",
    "\n",
    "wquantiles.median(df['WKWAGE'], df['PWORWGT'])"
   ]
  },
  {
   "cell_type": "code",
   "execution_count": 21,
   "metadata": {
    "ExecuteTime": {
     "end_time": "2019-02-12T18:13:06.787610Z",
     "start_time": "2019-02-12T18:13:06.746141Z"
    },
    "code_folding": [
     0
    ]
   },
   "outputs": [
    {
     "data": {
      "text/plain": [
       "436.6196248779963"
      ]
     },
     "execution_count": 21,
     "metadata": {},
     "output_type": "execute_result"
    }
   ],
   "source": [
    "# Sophisticated version\n",
    "def binned_wage(group):\n",
    "    \"\"\"Return BLS-styled binned median wage\"\"\"\n",
    "    weight = 'PWORWGT'\n",
    "    wage_var = 'WKWAGE'\n",
    "    percentile = 0.5\n",
    "    bin_size = 25\n",
    "    bins = list(np.arange(12.5, 3000, bin_size))\n",
    "    # Cut wage series according to bins of bin_size\n",
    "    bin_cut = lambda x: pd.cut(x[wage_var], bins, include_lowest=True)\n",
    "    \n",
    "    # Calculate cumulative sum for weight variable\n",
    "    cum_sum = lambda x: x[weight].cumsum()\n",
    "    \n",
    "    # Sort wages then apply bin_cut and cum_sum\n",
    "    df = (group.sort_values(wage_var)\n",
    "               .assign(WAGE_BIN = bin_cut, CS = cum_sum))\n",
    "    \n",
    "    # Find the weight at the percentile of interest\n",
    "    pct_wgt = df[weight].sum() * percentile\n",
    "\n",
    "    # Find wage bin for person nearest to weighted percentile\n",
    "    pct_bin = df.iloc[df['CS'].searchsorted(pct_wgt)].WAGE_BIN\n",
    "    \n",
    "    # Weight at bottom and top of bin\n",
    "    wgt_btm, wgt_top = (df.loc[df['WAGE_BIN'] == pct_bin, 'CS']\n",
    "                          .iloc[[0, -1]].values)\n",
    "    \n",
    "    # Find where in the bin the percentile is and return that value\n",
    "    pct_value = ((((pct_wgt - wgt_btm) / \n",
    "                   (wgt_top - wgt_btm)) * bin_size) + pct_bin.left)\n",
    "    return pct_value\n",
    "\n",
    "binned_wage(df)"
   ]
  },
  {
   "cell_type": "code",
   "execution_count": null,
   "metadata": {},
   "outputs": [],
   "source": []
  },
  {
   "cell_type": "code",
   "execution_count": null,
   "metadata": {},
   "outputs": [],
   "source": []
  },
  {
   "cell_type": "code",
   "execution_count": null,
   "metadata": {},
   "outputs": [],
   "source": []
  }
 ],
 "metadata": {
  "kernelspec": {
   "display_name": "Python 3",
   "language": "python",
   "name": "python3"
  },
  "language_info": {
   "codemirror_mode": {
    "name": "ipython",
    "version": 3
   },
   "file_extension": ".py",
   "mimetype": "text/x-python",
   "name": "python",
   "nbconvert_exporter": "python",
   "pygments_lexer": "ipython3",
   "version": "3.7.1"
  }
 },
 "nbformat": 4,
 "nbformat_minor": 2
}
