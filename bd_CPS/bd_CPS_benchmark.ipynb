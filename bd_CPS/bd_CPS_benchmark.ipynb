{
 "cells": [
  {
   "cell_type": "markdown",
   "metadata": {},
   "source": [
    "### bd econ CPS extract\n",
    "\n",
    "bd_CPS_benchmark.ipynb\n",
    "\n",
    "January 22, 2018\n",
    "\n",
    "Contact: Brian Dew, @bd_econ\n",
    "\n",
    "Requires: `cpsYYYY.ft` files for each year. The bd CPS files are generated bd_CPS_reader.ipynb\n",
    "\n",
    "-----\n",
    "\n",
    "See [readme](https://github.com/bdecon/econ_data/tree/master/bd_CPS) for documentation."
   ]
  },
  {
   "cell_type": "code",
   "execution_count": 1,
   "metadata": {
    "ExecuteTime": {
     "end_time": "2019-01-27T23:36:12.365020Z",
     "start_time": "2019-01-27T23:36:12.161018Z"
    }
   },
   "outputs": [],
   "source": [
    "import pandas as pd\n",
    "import numpy as np\n",
    "import wquantiles\n",
    "import os\n",
    "\n",
    "os.chdir('/home/brian/Documents/CPS/data/clean/')"
   ]
  },
  {
   "cell_type": "markdown",
   "metadata": {},
   "source": [
    "#### Benchmark 1\n",
    "\n",
    "In October 1999, how many people were unemployed because of losing a job?\n",
    "\n",
    "BLS: LNU03023621: 2,162,000"
   ]
  },
  {
   "cell_type": "code",
   "execution_count": 2,
   "metadata": {
    "ExecuteTime": {
     "end_time": "2019-01-27T23:36:12.618113Z",
     "start_time": "2019-01-27T23:36:12.366663Z"
    }
   },
   "outputs": [
    {
     "data": {
      "text/plain": [
       "2161502.5"
      ]
     },
     "execution_count": 2,
     "metadata": {},
     "output_type": "execute_result"
    }
   ],
   "source": [
    "(pd.read_feather('cps1999.ft')\n",
    "   .query('MONTH==10 and UNEMPTYPE == \"Job Loser\"')\n",
    "   ['PWCMPWGT']).sum()"
   ]
  },
  {
   "cell_type": "markdown",
   "metadata": {},
   "source": [
    "#### Benchmark 2\n",
    "\n",
    "In February 2007, what share of age 25-54 women were employed?\n",
    "\n",
    "BLS: LNU02300062: 72.6"
   ]
  },
  {
   "cell_type": "code",
   "execution_count": 3,
   "metadata": {
    "ExecuteTime": {
     "end_time": "2019-01-27T23:36:12.954959Z",
     "start_time": "2019-01-27T23:36:12.619698Z"
    }
   },
   "outputs": [
    {
     "data": {
      "text/plain": [
       "0.7260245741606125"
      ]
     },
     "execution_count": 3,
     "metadata": {},
     "output_type": "execute_result"
    }
   ],
   "source": [
    "df = (pd.read_feather('cps2007.ft')\n",
    "        .query('MONTH==2 and 25 <= AGE <= 54 and FEMALE==1')\n",
    "        .groupby('EMP')\n",
    "        .PWCMPWGT.sum())\n",
    "\n",
    "df[1] / df.sum()"
   ]
  },
  {
   "cell_type": "markdown",
   "metadata": {},
   "source": [
    "#### Benchmark 3\n",
    "\n",
    "In May 2014, how many people have more than one job?\n",
    "\n",
    "BLS: LNU02026619: 7,305,000"
   ]
  },
  {
   "cell_type": "code",
   "execution_count": 4,
   "metadata": {
    "ExecuteTime": {
     "end_time": "2019-01-27T23:36:13.207563Z",
     "start_time": "2019-01-27T23:36:12.960614Z"
    }
   },
   "outputs": [
    {
     "data": {
      "text/plain": [
       "7304317.5"
      ]
     },
     "execution_count": 4,
     "metadata": {},
     "output_type": "execute_result"
    }
   ],
   "source": [
    "(pd.read_feather('cps2014.ft')\n",
    "   .query('MONTH==5 and MJH==1')\n",
    "   .PWCMPWGT).sum()"
   ]
  },
  {
   "cell_type": "markdown",
   "metadata": {},
   "source": [
    "#### Benchmark 4\n",
    "\n",
    "In 2017 Q1, what were the nominal usual weekly earnings?\n",
    "\n",
    "BLS: $857"
   ]
  },
  {
   "cell_type": "code",
   "execution_count": 5,
   "metadata": {
    "ExecuteTime": {
     "end_time": "2019-01-27T23:36:13.410912Z",
     "start_time": "2019-01-27T23:36:13.209260Z"
    }
   },
   "outputs": [
    {
     "data": {
      "text/plain": [
       "865.0"
      ]
     },
     "execution_count": 5,
     "metadata": {},
     "output_type": "execute_result"
    }
   ],
   "source": [
    "df = (pd.read_feather('cps2017.ft')\n",
    "        .query('MONTH < 4 and WKWAGE > 0 and PRFTLF==1'))\n",
    "\n",
    "wquantiles.median(df['WKWAGE'], df['PWORWGT'])"
   ]
  },
  {
   "cell_type": "code",
   "execution_count": 6,
   "metadata": {
    "ExecuteTime": {
     "end_time": "2019-01-27T23:36:13.458471Z",
     "start_time": "2019-01-27T23:36:13.412177Z"
    },
    "code_folding": [
     0
    ],
    "run_control": {
     "marked": false
    }
   },
   "outputs": [
    {
     "data": {
      "text/plain": [
       "859.45054372651"
      ]
     },
     "execution_count": 6,
     "metadata": {},
     "output_type": "execute_result"
    }
   ],
   "source": [
    "# Sophisticated version\n",
    "def binned_wage(group):\n",
    "    \"\"\"Return BLS-styled binned median wage\"\"\"\n",
    "    weight = 'PWORWGT'\n",
    "    wage_var = 'WKWAGE'\n",
    "    decile = 0.5\n",
    "    bin_size = 50\n",
    "    bins = list(np.arange(25, 3000, bin_size))\n",
    "    bin_cut = lambda x: pd.cut(x[wage_var], bins, include_lowest=True)\n",
    "    cum_sum = lambda x: x[weight].cumsum()\n",
    "    dft = (group.sort_values(wage_var)\n",
    "                .assign(WAGE_RANGE = bin_cut, CS = cum_sum))\n",
    "    dec_point = dft[weight].sum() * decile\n",
    "    dec_bin = (dft.iloc[(dft['CS'] - dec_point).abs().argsort()[:1]]\n",
    "                  .WAGE_RANGE.values[0])\n",
    "    wage_bins = list(dft['WAGE_RANGE'].unique())\n",
    "    dec_loc = wage_bins.index(dec_bin)\n",
    "    bin_below = dft[dft['WAGE_RANGE'] == wage_bins[dec_loc-1]].iloc[-1].CS\n",
    "    bin_above = dft[dft['WAGE_RANGE'] == wage_bins[dec_loc]].iloc[-1].CS\n",
    "    dec_value = ((((dec_point - bin_below) / \n",
    "                   (bin_above - bin_below)) * bin_size) + dec_bin.left)\n",
    "    return dec_value\n",
    "\n",
    "binned_wage(df)"
   ]
  },
  {
   "cell_type": "markdown",
   "metadata": {},
   "source": [
    "#### Benchmark 5\n",
    "\n",
    "In April 2007, what was the unemployment rate for native born Hispanic or latino people?\n",
    "\n",
    "BLS: LNU04073425: 5.6 "
   ]
  },
  {
   "cell_type": "code",
   "execution_count": 7,
   "metadata": {
    "ExecuteTime": {
     "end_time": "2019-01-27T23:36:13.683983Z",
     "start_time": "2019-01-27T23:36:13.459886Z"
    }
   },
   "outputs": [
    {
     "data": {
      "text/plain": [
       "0.05556581205344538"
      ]
     },
     "execution_count": 7,
     "metadata": {},
     "output_type": "execute_result"
    }
   ],
   "source": [
    "df = (pd.read_feather('cps2007.ft')\n",
    "        .query('MONTH == 4 and FORBORN == 0 and WBHAO == \"Hispanic\"')\n",
    "        .groupby('PEMLR')\n",
    "        .BASICWGT.sum())\n",
    "\n",
    "df[3:5].sum() / df[1:5].sum()"
   ]
  },
  {
   "cell_type": "markdown",
   "metadata": {},
   "source": [
    "#### Benchmark 6\n",
    "\n",
    "In 2017, what was the union membership rate for black men?\n",
    "\n",
    "BLS: LUU0204905200: 13.7"
   ]
  },
  {
   "cell_type": "code",
   "execution_count": 8,
   "metadata": {
    "ExecuteTime": {
     "end_time": "2019-01-27T23:36:13.878345Z",
     "start_time": "2019-01-27T23:36:13.685205Z"
    }
   },
   "outputs": [
    {
     "data": {
      "text/plain": [
       "0.13706622"
      ]
     },
     "execution_count": 8,
     "metadata": {},
     "output_type": "execute_result"
    }
   ],
   "source": [
    "df = (pd.read_feather('cps2017.ft')\n",
    "        .query('PEERNLAB > 0 and WBHAOM == \"Black\" and FEMALE == 0')\n",
    "        .groupby('PEERNLAB')\n",
    "        .PWORWGT.sum())\n",
    "\n",
    "df[1] / df.sum()"
   ]
  },
  {
   "cell_type": "markdown",
   "metadata": {},
   "source": [
    "#### Benchmark 7\n",
    "\n",
    "In November 2015, on average, how many hours did usually employed full-time married (spouse present) men work?\n",
    "\n",
    "BLS: LNU02533629: 44.1"
   ]
  },
  {
   "cell_type": "code",
   "execution_count": 9,
   "metadata": {
    "ExecuteTime": {
     "end_time": "2019-01-27T23:36:14.075264Z",
     "start_time": "2019-01-27T23:36:13.880668Z"
    }
   },
   "outputs": [
    {
     "data": {
      "text/plain": [
       "44.10250044951661"
      ]
     },
     "execution_count": 9,
     "metadata": {},
     "output_type": "execute_result"
    }
   ],
   "source": [
    "df = (pd.read_feather('cps2015.ft')\n",
    "        .query('MONTH == 11 and PRFTLF == 1 and PRMARSTA in [1, 2]'\n",
    "               'and FEMALE == 0 and PRAGNA == 2 and PEHRACTT > 0'))\n",
    "\n",
    "np.average(df['PEHRACTT'], weights=df['BASICWGT'])"
   ]
  },
  {
   "cell_type": "markdown",
   "metadata": {},
   "source": [
    "#### Benchmark 8\n",
    "\n",
    "In 2017, what was the median hourly wage for 45 to 54 year old female wage and salary workers paid hourly rates?\n",
    "\n",
    "BLS: LEU0207640900: $15.16"
   ]
  },
  {
   "cell_type": "code",
   "execution_count": 10,
   "metadata": {
    "ExecuteTime": {
     "end_time": "2019-01-27T23:36:14.304092Z",
     "start_time": "2019-01-27T23:36:14.077584Z"
    }
   },
   "outputs": [
    {
     "data": {
      "text/plain": [
       "15.0"
      ]
     },
     "execution_count": 10,
     "metadata": {},
     "output_type": "execute_result"
    }
   ],
   "source": [
    "df = (pd.read_feather('cps2017.ft')\n",
    "        .query('45 <= AGE <54 and FEMALE == 1 and PRERNHLY > 0'\n",
    "               'and PEIO1COW not in [6, 8]')\n",
    "        .assign(HRWAGE_HRLY = lambda x: x['PRERNHLY'] / 100.0))\n",
    "\n",
    "wquantiles.median(df['HRWAGE_HRLY'], weights=df['PWORWGT'])"
   ]
  },
  {
   "cell_type": "code",
   "execution_count": 11,
   "metadata": {
    "ExecuteTime": {
     "end_time": "2019-01-27T23:36:14.360135Z",
     "start_time": "2019-01-27T23:36:14.305643Z"
    },
    "code_folding": [
     0
    ]
   },
   "outputs": [
    {
     "data": {
      "text/plain": [
       "15.144216310106446"
      ]
     },
     "execution_count": 11,
     "metadata": {},
     "output_type": "execute_result"
    }
   ],
   "source": [
    "# Sophisticated version\n",
    "def binned_wage(group):\n",
    "    \"\"\"Return BLS-styled binned median wage\"\"\"\n",
    "    weight = 'PWORWGT'\n",
    "    wage_var = 'HRWAGE_HRLY'\n",
    "    decile = 0.5\n",
    "    bin_size = 0.5\n",
    "    bins = list(np.arange(.25, 300, bin_size))\n",
    "    bin_cut = lambda x: pd.cut(x[wage_var], bins, include_lowest=True)\n",
    "    cum_sum = lambda x: x[weight].cumsum()\n",
    "    dft = (group.sort_values(wage_var)\n",
    "                .assign(WAGE_RANGE = bin_cut, CS = cum_sum))\n",
    "    dec_point = dft[weight].sum() * decile\n",
    "    dec_bin = (dft.iloc[(dft['CS'] - dec_point).abs().argsort()[:1]]\n",
    "                  .WAGE_RANGE.values[0])\n",
    "    wage_bins = list(dft['WAGE_RANGE'].unique())\n",
    "    dec_loc = wage_bins.index(dec_bin)\n",
    "    bin_below = dft[dft['WAGE_RANGE'] == wage_bins[dec_loc-1]].iloc[-1].CS\n",
    "    bin_above = dft[dft['WAGE_RANGE'] == wage_bins[dec_loc]].iloc[-1].CS\n",
    "    dec_value = ((((dec_point - bin_below) / \n",
    "                   (bin_above - bin_below)) * bin_size) + dec_bin.left)\n",
    "    return dec_value\n",
    "\n",
    "binned_wage(df)"
   ]
  },
  {
   "cell_type": "markdown",
   "metadata": {},
   "source": [
    "#### Benchmark 9\n",
    "\n",
    "How many women age 20-24 were employed in June 1992?\n",
    "\n",
    "BLS: LNU02000038: 6,190,000"
   ]
  },
  {
   "cell_type": "code",
   "execution_count": 12,
   "metadata": {
    "ExecuteTime": {
     "end_time": "2019-01-27T23:36:14.460838Z",
     "start_time": "2019-01-27T23:36:14.363553Z"
    }
   },
   "outputs": [
    {
     "data": {
      "text/plain": [
       "6144924.98"
      ]
     },
     "execution_count": 12,
     "metadata": {},
     "output_type": "execute_result"
    }
   ],
   "source": [
    "(pd.read_feather('cps1992.ft')\n",
    "   .query('MONTH == 6 and SEX == 2 and 20 <= AGE <= 24'\n",
    "          'and LFSR in [1, 2]')).FNLWGT.sum()"
   ]
  },
  {
   "cell_type": "markdown",
   "metadata": {},
   "source": [
    "#### Benchmark 10\n",
    "\n",
    "What was the unemployment rate in Febuary 1989?\n",
    "\n",
    "BLS: LNU04000000: 5.6%"
   ]
  },
  {
   "cell_type": "code",
   "execution_count": 13,
   "metadata": {
    "ExecuteTime": {
     "end_time": "2019-01-27T23:36:14.552074Z",
     "start_time": "2019-01-27T23:36:14.464433Z"
    }
   },
   "outputs": [
    {
     "data": {
      "text/plain": [
       "0.05666313114440966"
      ]
     },
     "execution_count": 13,
     "metadata": {},
     "output_type": "execute_result"
    }
   ],
   "source": [
    "df = (pd.read_feather('cps1989.ft')\n",
    "        .query('MONTH == 2 and AGE > 15')\n",
    "        .groupby('LFSR')\n",
    "        .FNLWGT.sum())\n",
    "\n",
    "df[2:4].sum() / df[0:4].sum()"
   ]
  }
 ],
 "metadata": {
  "kernelspec": {
   "display_name": "Python 3",
   "language": "python",
   "name": "python3"
  },
  "language_info": {
   "codemirror_mode": {
    "name": "ipython",
    "version": 3
   },
   "file_extension": ".py",
   "mimetype": "text/x-python",
   "name": "python",
   "nbconvert_exporter": "python",
   "pygments_lexer": "ipython3",
   "version": "3.7.1"
  }
 },
 "nbformat": 4,
 "nbformat_minor": 2
}
