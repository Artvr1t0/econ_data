{
 "cells": [
  {
   "cell_type": "markdown",
   "metadata": {},
   "source": [
    "### bd econ CPS extract\n",
    "\n",
    "bd_CPS_revisions_reader.ipynb\n",
    "\n",
    "January 24, 2019\n",
    "\n",
    "Contact: Brian Dew, @bd_econ\n",
    "\n",
    "-----\n",
    "\n",
    "Reads in Census revised data and stores it as feather files for merging with the bd CPS.\n",
    "\n",
    "**2000-based revised weights:**\n",
    "\n",
    "Requires: `2000-2extract.txt` data dictionary and unzipped 2000 Based Public Use Extracts from [Census](https://thedataweb.rm.census.gov/ftp/cps_ftp.html#cpsbasic_extract). \n",
    "\n",
    "**2001-2002 revised union data:**\n",
    "\n",
    "Requires: `2000-2extract.txt` data dictionary and unzipped 2000 Based Public Use Extracts from [Census](https://thedataweb.rm.census.gov/ftp/cps_ftp.html#cpsbasic_extract). \n",
    "\n",
    "**December 2007 revised weights:**\n",
    "\n",
    "Requires: `dec07revwgts_dd.txt` data dictionary and unzipped `dec07revwgts.dat` from [Census CPS FTP](https://thedataweb.rm.census.gov/ftp/cps_ftp.html). \n",
    "\n",
    "-----\n",
    "\n",
    "See [related GitHub issue](https://github.com/bdecon/econ_data/issues/82) for explanation."
   ]
  },
  {
   "cell_type": "code",
   "execution_count": 1,
   "metadata": {
    "ExecuteTime": {
     "end_time": "2019-01-24T20:27:43.894993Z",
     "start_time": "2019-01-24T20:27:43.668901Z"
    },
    "code_folding": [
     0
    ]
   },
   "outputs": [],
   "source": [
    "# Import relevant libraries (python 3.7)\n",
    "import os, re, struct\n",
    "import pandas as pd\n",
    "import numpy as np\n",
    "\n",
    "os.chdir('/home/brian/Documents/CPS/data')"
   ]
  },
  {
   "cell_type": "code",
   "execution_count": 2,
   "metadata": {
    "ExecuteTime": {
     "end_time": "2019-01-24T20:27:43.907245Z",
     "start_time": "2019-01-24T20:27:43.896509Z"
    },
    "code_folding": [
     0
    ],
    "run_control": {
     "marked": false
    }
   },
   "outputs": [],
   "source": [
    "# User-defined functions\n",
    "def id_dtype(size):\n",
    "    '''Return data type based on fixed-width size'''\n",
    "    size = int(size)\n",
    "    dtype = ('intp' if size > 9 \n",
    "             else 'int32' if size > 4 \n",
    "             else 'int16' if size > 2 \n",
    "             else 'int8')\n",
    "    return dtype\n",
    "\n",
    "def data_dict_reader(dd_file, var_names):\n",
    "    '''Read data dictionary and return variable locations'''\n",
    "    data_dict = open(dd_file, 'r', encoding='iso-8859-1').read()\n",
    "    p = f'({\"|\".join(var_names)})\\s+(\\d+)\\s+.*? \\s+.*?(\\d\\d*).*?(\\d\\d*)'\n",
    "    d = {s[0]: [int(s[2])-1, int(s[3]), f'{s[1]}s', id_dtype(s[1])]\n",
    "         for s in re.findall(p, data_dict)}\n",
    "    return d\n",
    "\n",
    "def struct_unpacker(d):\n",
    "    '''Return struct unpacker from variable locations'''\n",
    "    start, end, width, size = zip(*d.values())\n",
    "    skip = ([f'{s - e}x' for s, e in zip(start, [0] + list(end[:-1]))])\n",
    "    unpack_fmt = ''.join([j for i in zip(skip, width) for j in i])\n",
    "    return struct.Struct(unpack_fmt).unpack_from\n",
    "\n",
    "def data_file_reader(file, unpacker, dtypes, wgt):\n",
    "    '''Convert raw monthly file to dataframe'''\n",
    "    raw_data = open(file, 'rb')\n",
    "    data = [unpacker(row) for row in raw_data]\n",
    "    np_data = np.array(data, dtype=dtypes)\n",
    "    df = pd.DataFrame(np_data[np_data[wgt] > 0])\n",
    "    return df\n",
    "\n",
    "def df_adjuster(df, wgt_vars=None):\n",
    "    '''Adjust dataframe to match with bd CPS'''\n",
    "    rev_df = (df.rename({'HRYEAR4': 'YEAR', 'HRMONTH': 'MONTH'}, axis=1)\n",
    "                .assign(YEAR = lambda x: pd.Categorical(x['YEAR'])))\n",
    "    if wgt_vars != None:\n",
    "        rev_df[wgt_vars] = rev_df[wgt_vars] / 10000\n",
    "    return rev_df.reset_index(drop=True)"
   ]
  },
  {
   "cell_type": "markdown",
   "metadata": {},
   "source": [
    "#### Revised 2000-based weights"
   ]
  },
  {
   "cell_type": "code",
   "execution_count": 3,
   "metadata": {
    "ExecuteTime": {
     "end_time": "2019-01-24T20:27:51.366143Z",
     "start_time": "2019-01-24T20:27:43.908522Z"
    },
    "code_folding": [
     0
    ],
    "run_control": {
     "marked": false
    }
   },
   "outputs": [],
   "source": [
    "# Store 2000-based revised weights as feather file\n",
    "dd_file = '2000-2extract.txt'\n",
    "\n",
    "var_names = ['HRMONTH', 'HRYEAR4', 'QSTNUM', 'OCCURNUM', \n",
    "             'NWCMPWGT', 'NWORWGT', 'NWSSWGT']\n",
    "\n",
    "wgt_vars = ['NWCMPWGT', 'NWORWGT', 'NWSSWGT']\n",
    "\n",
    "filter_wgt = 'NWSSWGT'\n",
    "\n",
    "d = data_dict_reader(dd_file, var_names)\n",
    "\n",
    "dtypes = [(k, v[-1]) for k, v in d.items()]\n",
    "\n",
    "unpacker = struct_unpacker(d)\n",
    "\n",
    "rev_data_path = 'pubuse2000_2002/'\n",
    "\n",
    "file_names = os.listdir(rev_data_path)\n",
    "\n",
    "files = [rev_data_path + month_file for month_file in file_names]\n",
    "\n",
    "df = pd.concat([data_file_reader(file, unpacker, dtypes, filter_wgt) \n",
    "                for file in files])\n",
    "\n",
    "df = df_adjuster(df, wgt_vars=wgt_vars)\n",
    "\n",
    "df.to_feather('clean/cps_wgt_rev.ft')"
   ]
  },
  {
   "cell_type": "markdown",
   "metadata": {},
   "source": [
    "#### Revised union data (2001-2002)"
   ]
  },
  {
   "cell_type": "code",
   "execution_count": 4,
   "metadata": {
    "ExecuteTime": {
     "end_time": "2019-01-24T20:27:56.095476Z",
     "start_time": "2019-01-24T20:27:51.367929Z"
    },
    "code_folding": [
     0
    ]
   },
   "outputs": [],
   "source": [
    "# Store revised union data as feather file\n",
    "dd_file = '2000-2extract.txt'\n",
    "\n",
    "var_names = ['HRMONTH', 'HRYEAR4', 'QSTNUM', 'OCCURNUM', \n",
    "             'NEERNLAB', 'NEERNCOV', 'NWSSWGT']\n",
    "\n",
    "filter_wgt = 'NWSSWGT'\n",
    "\n",
    "d = data_dict_reader(dd_file, var_names)\n",
    "\n",
    "dtypes = [(k, v[-1]) for k, v in d.items()]\n",
    "\n",
    "unpacker = struct_unpacker(d)\n",
    "\n",
    "rev_data_path = 'pubuse2000_2002/'\n",
    "\n",
    "file_names = [file for file in os.listdir(rev_data_path) if file[3:5] != '00']\n",
    "\n",
    "files = [rev_data_path + month_file for month_file in file_names]\n",
    "\n",
    "df = pd.concat([data_file_reader(file, unpacker, dtypes, filter_wgt) \n",
    "                for file in files])\n",
    "\n",
    "df = df_adjuster(df).drop('NWSSWGT', axis=1)\n",
    "\n",
    "df.to_feather('clean/cps_union_rev.ft')"
   ]
  },
  {
   "cell_type": "markdown",
   "metadata": {},
   "source": [
    "#### Revised December 2007 weights"
   ]
  },
  {
   "cell_type": "code",
   "execution_count": 5,
   "metadata": {
    "ExecuteTime": {
     "end_time": "2019-01-24T20:27:56.357437Z",
     "start_time": "2019-01-24T20:27:56.099873Z"
    },
    "code_folding": [
     0
    ],
    "run_control": {
     "marked": false
    }
   },
   "outputs": [],
   "source": [
    "# Store revised union data as feather file\n",
    "dd_file = 'dec07revwgts_dd.txt'\n",
    "\n",
    "var_names = ['QSTNUM', 'OCCURNUM', 'PWSSWGT', 'PWCMPWGT']\n",
    "\n",
    "filter_wgt = 'PWSSWGT'\n",
    "\n",
    "d = data_dict_reader(dd_file, var_names)\n",
    "\n",
    "dtypes = [(k, v[-1]) for k, v in d.items()]\n",
    "\n",
    "unpacker = struct_unpacker(d)\n",
    "\n",
    "file = 'dec07revwgts.dat'\n",
    "\n",
    "# Special code to remove rows with only '.'\n",
    "with open(file, 'rb+') as f:\n",
    "    new_f = f.readlines()\n",
    "    f.seek(0)\n",
    "    for line in new_f:\n",
    "        if b'.' not in line:\n",
    "            f.write(line)\n",
    "    f.truncate()\n",
    "\n",
    "df = data_file_reader(file, unpacker, dtypes, filter_wgt) \n",
    "\n",
    "df[['PWSSWGT', 'PWCMPWGT']] = df[['PWSSWGT', 'PWCMPWGT']] / 10000\n",
    "\n",
    "df = df.rename({'PWSSWGT': 'NWSSWGT', 'PWCMPWGT': 'NWCMPWGT'}, axis=1)\n",
    "\n",
    "df.reset_index(drop=True).to_feather('clean/cps_dec07_rev.ft')"
   ]
  }
 ],
 "metadata": {
  "kernelspec": {
   "display_name": "Python 3",
   "language": "python",
   "name": "python3"
  },
  "language_info": {
   "codemirror_mode": {
    "name": "ipython",
    "version": 3
   },
   "file_extension": ".py",
   "mimetype": "text/x-python",
   "name": "python",
   "nbconvert_exporter": "python",
   "pygments_lexer": "ipython3",
   "version": "3.7.2"
  }
 },
 "nbformat": 4,
 "nbformat_minor": 2
}
