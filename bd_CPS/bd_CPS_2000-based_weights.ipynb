{
 "cells": [
  {
   "cell_type": "markdown",
   "metadata": {},
   "source": [
    "### bd econ CPS extract\n",
    "\n",
    "bd_CPS_2000-based_weights.ipynb\n",
    "\n",
    "January 23, 2019\n",
    "\n",
    "Contact: Brian Dew, @bd_econ\n",
    "\n",
    "Requires: `2000-2extract.txt` data dictionary and unzipped 2000 Based Public Use Extracts from [Census](https://thedataweb.rm.census.gov/ftp/cps_ftp.html#cpsbasic_extract). \n",
    "\n",
    "-----\n",
    "\n",
    "See [related GitHub issue](https://github.com/bdecon/econ_data/issues/82) for explanation."
   ]
  },
  {
   "cell_type": "code",
   "execution_count": 1,
   "metadata": {
    "ExecuteTime": {
     "end_time": "2019-01-24T00:13:45.830470Z",
     "start_time": "2019-01-24T00:13:45.643105Z"
    },
    "code_folding": [
     0
    ]
   },
   "outputs": [],
   "source": [
    "# Import relevant libraries (python 3.7)\n",
    "import os, re, struct\n",
    "import pandas as pd\n",
    "import numpy as np\n",
    "\n",
    "# Move to CPS data folder\n",
    "os.chdir('/home/brian/Documents/CPS/data')\n",
    "\n",
    "# Data dictionaries\n",
    "rev_dd = '2000-2extract.txt'\n",
    "\n",
    "# Data files\n",
    "rev_data = 'pubuse2000_2002/oct00pubuse_2000b.dat'"
   ]
  },
  {
   "cell_type": "code",
   "execution_count": 2,
   "metadata": {
    "ExecuteTime": {
     "end_time": "2019-01-24T00:13:45.838847Z",
     "start_time": "2019-01-24T00:13:45.831913Z"
    },
    "code_folding": [
     0
    ],
    "run_control": {
     "marked": false
    }
   },
   "outputs": [],
   "source": [
    "# Read data dictionary text file \n",
    "data_dict = open(rev_dd, 'r', encoding='iso-8859-1').read()\n",
    "\n",
    "# manually list out the IDs for series of interest \n",
    "var_names = ['HRMONTH', 'HRYEAR4', 'QSTNUM', 'OCCURNUM', \n",
    "             'NWCMPWGT', 'NWORWGT', 'NWSSWGT']\n",
    "\n",
    "# regular expression matching series name and data dict pattern\n",
    "p = f'({\"|\".join(var_names)})\\s+(\\d+)\\s+.*? \\s+.*?(\\d\\d*).*?(\\d\\d*)'\n",
    "\n",
    "# dictionary of variable name: [start, end, and length + 's']\n",
    "d = {s[0]: [int(s[2])-1, int(s[3]), f'{s[1]}s']\n",
    "     for s in re.findall(p, data_dict)}\n",
    "\n",
    "# lists of variable starts, ends, and lengths\n",
    "start, end, width = zip(*d.values())\n",
    "\n",
    "# create list of which characters to skip in each row\n",
    "skip = ([f'{s - e}x' for s, e in zip(start, [0] + list(end[:-1]))])\n",
    "\n",
    "# create format string by joining skip and variable segments\n",
    "unpack_fmt = ''.join([j for i in zip(skip, width) for j in i])\n",
    "\n",
    "# struct can interpret row bytes with the format string\n",
    "unpacker = struct.Struct(unpack_fmt).unpack_from"
   ]
  },
  {
   "cell_type": "code",
   "execution_count": 3,
   "metadata": {
    "ExecuteTime": {
     "end_time": "2019-01-24T00:14:03.506858Z",
     "start_time": "2019-01-24T00:13:45.840367Z"
    },
    "code_folding": [
     0
    ]
   },
   "outputs": [],
   "source": [
    "# Create feather file of revised weights and IDs\n",
    "rev_df = pd.DataFrame()\n",
    "rev_data_path = '/home/brian/Documents/CPS/data/pubuse2000_2002/'\n",
    "for file in os.listdir(rev_data_path):\n",
    "    # open file (read as binary) and read lines into \"raw_data\"\n",
    "    raw_data = open(f'{rev_data_path}{file}', 'rb').readlines()\n",
    "\n",
    "    wgt = d['NWSSWGT']  # Location of sample weight variable\n",
    "\n",
    "    # unpack and store data of interest if sample weight > 0\n",
    "    data = [[*map(int, unpacker(row))] for row in raw_data\n",
    "            if int(row[wgt[0]:wgt[1]]) > 0]\n",
    "\n",
    "    # Pandas dataframe of women age 25 to 54\n",
    "    df = pd.DataFrame(data, columns=d.keys())\n",
    "    rev_df = rev_df.append(df)\n",
    "rev_df = (rev_df.rename({'HRYEAR4': 'YEAR', 'HRMONTH': 'MONTH'}, axis=1)\n",
    "                .assign(YEAR = lambda x: pd.Categorical(x['YEAR'])))\n",
    "wgt_vars = ['NWCMPWGT', 'NWORWGT', 'NWSSWGT']\n",
    "rev_df[wgt_vars] = rev_df[wgt_vars] / 10000\n",
    "\n",
    "rev_df.reset_index(drop=True).to_feather('clean/cps_wgt_rev.ft')"
   ]
  }
 ],
 "metadata": {
  "kernelspec": {
   "display_name": "Python 3",
   "language": "python",
   "name": "python3"
  },
  "language_info": {
   "codemirror_mode": {
    "name": "ipython",
    "version": 3
   },
   "file_extension": ".py",
   "mimetype": "text/x-python",
   "name": "python",
   "nbconvert_exporter": "python",
   "pygments_lexer": "ipython3",
   "version": "3.7.2"
  }
 },
 "nbformat": 4,
 "nbformat_minor": 2
}
