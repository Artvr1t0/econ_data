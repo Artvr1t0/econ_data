{
 "cells": [
  {
   "cell_type": "markdown",
   "metadata": {},
   "source": [
    "### bd econ CPS extract\n",
    "\n",
    "bd_CPS_revisions_reader.ipynb\n",
    "\n",
    "January 24, 2019\n",
    "\n",
    "Contact: Brian Dew, @bd_econ\n",
    "\n",
    "-----\n",
    "\n",
    "Initial goals:\n",
    "\n",
    "1) Retrieve variable names and locations from data dictionary\n",
    "\n",
    "2) Get the basic variables: YEAR, MONTH, HHID, PERSON LINE, AGE, SEX, RACE\n",
    "\n",
    "3) Review basic variables and adjust to match 1994-onward\n",
    "\n",
    "4) Check that the results make sense and match to benchmarks\n",
    "\n",
    "5) Repeat with more variables: EMP, OCC, IND, LMSTAT, etc."
   ]
  },
  {
   "cell_type": "code",
   "execution_count": 1,
   "metadata": {
    "ExecuteTime": {
     "end_time": "2019-01-26T03:46:22.702476Z",
     "start_time": "2019-01-26T03:46:22.514417Z"
    }
   },
   "outputs": [],
   "source": [
    "import os, re, struct\n",
    "import numpy as np\n",
    "import pandas as pd\n",
    "\n",
    "os.chdir('/home/brian/Documents/CPS/data/')"
   ]
  },
  {
   "cell_type": "code",
   "execution_count": 2,
   "metadata": {
    "ExecuteTime": {
     "end_time": "2019-01-26T03:46:22.733999Z",
     "start_time": "2019-01-26T03:46:22.704008Z"
    },
    "code_folding": [
     0
    ],
    "run_control": {
     "marked": false
    }
   },
   "outputs": [],
   "source": [
    "# User-defined functions\n",
    "def id_dtype(size):\n",
    "    '''Return data type based on fixed-width size'''\n",
    "    size = int(size)\n",
    "    dtype = ('intp' if size > 9 \n",
    "             else 'int32' if size > 4 \n",
    "             else 'int16' if size > 2 \n",
    "             else 'int8')\n",
    "    return dtype\n",
    "\n",
    "def data_dict_reader(dd_file, var_list):\n",
    "    '''Read data dictionary and return variable locations'''\n",
    "    data_dict = open(dd_file, 'r', encoding='iso-8859-1').read()\n",
    "    p = ('(\\w{1,2}[\\$\\-%]\\w*|PADDING)\\s'\n",
    "         '*CHARACTER\\*(\\d{3})\\s*\\.{0,1}\\s*\\((\\d*):(\\d*)\\).*')\n",
    "    d = {s[0]: [int(s[2])-1, int(s[3]), f'{int(s[1])}s', id_dtype(s[1])]\n",
    "         for s in re.findall(p, data_dict) if s[0] in var_list}\n",
    "    return d\n",
    "\n",
    "def struct_unpacker(d):\n",
    "    '''Return struct unpacker from variable locations'''\n",
    "    start, end, width, size = zip(*d.values())\n",
    "    skip = ([f'{s - e}x' for s, e in zip(start, [0] + list(end[:-1]))])\n",
    "    unpack_fmt = ''.join([j for i in zip(skip, width) for j in i])\n",
    "    return struct.Struct(unpack_fmt).unpack_from\n",
    "\n",
    "def data_file_reader(file, unpacker, dtypes, wgt):\n",
    "    '''Convert raw monthly file to dataframe'''\n",
    "    raw_data = open(file, 'rb')\n",
    "    data = [unpacker(row) for row in raw_data if len(row) >= 405]\n",
    "    data = [tuple(int(i) if i.strip() else -1 for i in row) for row in data]\n",
    "    np_data = np.array(data, dtype=dtypes)\n",
    "    df = pd.DataFrame(np_data[np_data[wgt] > 0])\n",
    "    return df"
   ]
  },
  {
   "cell_type": "code",
   "execution_count": 3,
   "metadata": {
    "ExecuteTime": {
     "end_time": "2019-01-26T03:47:46.494209Z",
     "start_time": "2019-01-26T03:46:22.735330Z"
    },
    "code_folding": [],
    "run_control": {
     "marked": false
    }
   },
   "outputs": [
    {
     "name": "stdout",
     "output_type": "stream",
     "text": [
      "1989 Done: (1,713,347 records, 32 variables)\n",
      "1990 Done: (1,791,585 records, 32 variables)\n",
      "1991 Done: (1,774,232 records, 32 variables)\n",
      "1992 Done: (1,746,184 records, 32 variables)\n",
      "1993 Done: (1,722,398 records, 32 variables)\n"
     ]
    }
   ],
   "source": [
    "# Create annual feather files\n",
    "dd_files = {'cps89.ddf': [1989, 1990, 1991],\n",
    "            'cps92.ddf': [1992, 1993]}\n",
    "\n",
    "var_list = ['H-MONTH', 'H-YEAR', 'H-MIS', 'HG-FIPS', 'H-METSTA', 'A-VET'\n",
    "            'H-ID', 'A-LINENO', 'A-AGE', 'A-MARITL', 'A-SEX', 'A-HGA',\n",
    "            'A-RACE', 'A-MAJACT', 'A-IND', 'A-OCC', 'A-USLFT', 'A-CLSWKR',\n",
    "            'A-USLHRS', 'A-UNMEM', 'A-FTPT', 'A-REORGN', 'A-LFSR', 'A-ENRLW',\n",
    "            'A-UNTYPE', 'A-NLFREA', 'A-RCOW', 'A-FNLWGT', 'A-ERNLWT',\n",
    "            'A-HERNTP', 'A-WERNTP', 'A-HRS1', 'A-WKSLK', 'A-WANTJB']\n",
    "\n",
    "# Remove the first two characters from each variable name\n",
    "rename_list = {v: v[2:] for v in var_list if v[0:2] != 'HG'}\n",
    "rename_list['HG-FIPS'] = 'STATEFIPS'\n",
    "filter_wgt = 'A-FNLWGT'\n",
    "\n",
    "\n",
    "for ddf, year_list in dd_files.items():\n",
    "    \n",
    "    d = data_dict_reader(ddf, var_list)\n",
    "\n",
    "    dtypes = [(k, v[-1]) for k, v in d.items()]\n",
    "\n",
    "    unpacker = struct_unpacker(d)\n",
    "\n",
    "    for year in year_list:\n",
    "        file_list = [f for f in os.listdir() \n",
    "                    if f.startswith((f'cpsb{str(year)[2:]}')) \n",
    "                    and f.endswith('.dat')]\n",
    "\n",
    "        df = (pd.concat([data_file_reader(file, unpacker, dtypes, filter_wgt)\n",
    "                         for file in file_list]))\n",
    "\n",
    "        decimal_vars = ['A-FNLWGT', 'A-HERNTP', 'A-ERNLWT']\n",
    "        df[decimal_vars] = df[decimal_vars] / 100.0\n",
    "        df = df.rename(rename_list, axis=1)\n",
    "        df['YEAR'] = year\n",
    "        \n",
    "        df.reset_index(drop=True).to_feather(f'clean/cps{year}.ft')\n",
    "        print(f'{year} Done: ({len(df):,} records, {len(df.keys())} variables)')"
   ]
  }
 ],
 "metadata": {
  "kernelspec": {
   "display_name": "Python 3",
   "language": "python",
   "name": "python3"
  },
  "language_info": {
   "codemirror_mode": {
    "name": "ipython",
    "version": 3
   },
   "file_extension": ".py",
   "mimetype": "text/x-python",
   "name": "python",
   "nbconvert_exporter": "python",
   "pygments_lexer": "ipython3",
   "version": "3.7.1"
  }
 },
 "nbformat": 4,
 "nbformat_minor": 2
}
