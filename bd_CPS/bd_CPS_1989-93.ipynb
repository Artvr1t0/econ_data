{
 "cells": [
  {
   "cell_type": "markdown",
   "metadata": {},
   "source": [
    "### bd econ CPS extract\n",
    "\n",
    "bd_CPS_revisions_reader.ipynb\n",
    "\n",
    "January 28, 2019\n",
    "\n",
    "Contact: Brian Dew, @bd_econ\n",
    "\n",
    "-----\n",
    "\n",
    "Initial goals:\n",
    "\n",
    "1) Retrieve variable names and locations from data dictionary\n",
    "\n",
    "2) Get the basic variables: YEAR, MONTH, HHID, PERSON LINE, AGE, SEX, RACE\n",
    "\n",
    "3) Review basic variables and adjust to match 1994-onward\n",
    "\n",
    "4) Check that the results make sense and match to benchmarks\n",
    "\n",
    "5) Repeat with more variables: EMP, OCC, IND, LMSTAT, etc."
   ]
  },
  {
   "cell_type": "code",
   "execution_count": 1,
   "metadata": {
    "ExecuteTime": {
     "end_time": "2019-01-29T18:57:28.093197Z",
     "start_time": "2019-01-29T18:57:27.870975Z"
    }
   },
   "outputs": [],
   "source": [
    "import os, re, struct, pickle\n",
    "import numpy as np\n",
    "import pandas as pd\n",
    "\n",
    "os.chdir('/home/brian/Documents/CPS/data/')\n",
    "\n",
    "cpsdd = pickle.load(open('cps_basic_dd.pkl', 'rb'))"
   ]
  },
  {
   "cell_type": "code",
   "execution_count": 2,
   "metadata": {
    "ExecuteTime": {
     "end_time": "2019-01-29T18:57:28.103186Z",
     "start_time": "2019-01-29T18:57:28.094743Z"
    },
    "code_folding": [
     0
    ],
    "run_control": {
     "marked": false
    }
   },
   "outputs": [],
   "source": [
    "# User-defined functions\n",
    "def id_dtype(size):\n",
    "    '''Return data type based on fixed-width size'''\n",
    "    size = int(size)\n",
    "    dtype = ('intp' if size > 9 \n",
    "             else 'int32' if size > 4 \n",
    "             else 'int16' if size > 2 \n",
    "             else 'int8')\n",
    "    return dtype\n",
    "\n",
    "def data_dict_reader(dd_file, var_list):\n",
    "    '''Read data dictionary and return variable locations'''\n",
    "    data_dict = open(dd_file, 'r', encoding='iso-8859-1').read()\n",
    "    p = ('(\\w{1,2}[\\$\\-%]\\w*|PADDING)\\s'\n",
    "         '*CHARACTER\\*(\\d{3})\\s*\\.{0,1}\\s*\\((\\d*):(\\d*)\\).*')\n",
    "    d = {s[0]: [int(s[2])-1, int(s[3]), f'{int(s[1])}s', id_dtype(s[1])]\n",
    "         for s in re.findall(p, data_dict) if s[0] in var_list}\n",
    "    return d\n",
    "\n",
    "def struct_unpacker(d):\n",
    "    '''Return struct unpacker from variable locations'''\n",
    "    start, end, width, size = zip(*d.values())\n",
    "    skip = ([f'{s - e}x' for s, e in zip(start, [0] + list(end[:-1]))])\n",
    "    unpack_fmt = ''.join([j for i in zip(skip, width) for j in i])\n",
    "    return struct.Struct(unpack_fmt).unpack_from\n",
    "\n",
    "def data_file_reader(file, unpacker, dtypes, wgt):\n",
    "    '''Convert raw monthly file to dataframe'''\n",
    "    raw_data = open(file, 'rb')\n",
    "    data = [unpacker(row) for row in raw_data if len(row) >= 405]\n",
    "    data = [tuple(int(i) if i.strip() else -1 for i in row) for row in data]\n",
    "    np_data = np.array(data, dtype=dtypes)\n",
    "    df = pd.DataFrame(np_data[np_data[wgt] > 0])\n",
    "    return df"
   ]
  },
  {
   "cell_type": "code",
   "execution_count": 3,
   "metadata": {
    "ExecuteTime": {
     "end_time": "2019-01-29T18:59:10.607666Z",
     "start_time": "2019-01-29T18:57:28.104649Z"
    },
    "code_folding": [],
    "run_control": {
     "marked": false
    }
   },
   "outputs": [
    {
     "name": "stdout",
     "output_type": "stream",
     "text": [
      "1989 Done: (1,713,347 records, 36 variables)\n",
      "1990 Done: (1,791,585 records, 36 variables)\n",
      "1991 Done: (1,774,232 records, 36 variables)\n",
      "1992 Done: (1,746,184 records, 36 variables)\n",
      "1993 Done: (1,722,398 records, 36 variables)\n"
     ]
    }
   ],
   "source": [
    "# Create annual feather files\n",
    "dd_files = {'cps89.ddf': [1989, 1990, 1991],\n",
    "            'cps92.ddf': [1992, 1993]}\n",
    "\n",
    "var_list = ['H-MONTH', 'H-YEAR', 'H-MIS', 'HG-FIPS', 'H-METSTA', 'A-VET',\n",
    "            'H-ID', 'A-LINENO', 'A-AGE', 'A-MARITL', 'A-SEX', 'A-HGA',\n",
    "            'A-RACE', 'A-MAJACT', 'A-IND', 'A-OCC', 'A-USLFT', 'A-CLSWKR',\n",
    "            'A-USLHRS', 'A-UNMEM', 'A-FTPT', 'A-REORGN', 'A-LFSR', 'A-ENRLW',\n",
    "            'A-UNTYPE', 'A-NLFREA', 'A-RCOW', 'A-FNLWGT', 'A-ERNLWT',\n",
    "            'A-HERNTP', 'A-WERNTP', 'A-HRS1', 'A-WKSLK', 'A-WANTJB', \n",
    "            'A-UNCOV', 'A-HGC']\n",
    "\n",
    "# Remove the first two characters from each variable name\n",
    "rename_list = {v: v[2:] for v in var_list if v[0:2] != 'HG'}\n",
    "rename_list['HG-FIPS'] = 'STATEFIPS'\n",
    "rename_list['A-WKSLK'] = 'UNEMPDUR'\n",
    "filter_wgt = 'A-FNLWGT'\n",
    "\n",
    "# Map state FIPS codes to two letter codes\n",
    "state_codes = cpsdd['jan94_mar94_dd.txt']['map']['state']\n",
    "state = lambda x: pd.Categorical(x['STATEFIPS'].map(state_codes))\n",
    "\n",
    "# 1992-onward educ codes\n",
    "educ_codes = cpsdd['jan94_mar94_dd.txt']['map']['educ']\n",
    "educ = lambda x: pd.Categorical(x['HGA'].map(educ_codes))\n",
    "\n",
    "# Unemployment type recode\n",
    "unemptype = lambda x: (\n",
    "    pd.Categorical(np.where(x['UNTYPE'].isin([1, 2]), 'Job Loser',\n",
    "                   np.where(x['UNTYPE'] == 3, 'Job Leaver',\n",
    "                   np.where(x['UNTYPE'] == 4, 'Re-entrant',\n",
    "                   np.where(x['UNTYPE'] == 5, 'New Entrant', np.nan))))))\n",
    "\n",
    "# Map WBHAO codes for race/ethnicity\n",
    "hisp_map = cpsdd['jan94_mar94_dd.txt']['map']['hisp']\n",
    "race_map = cpsdd['jan94_mar94_dd.txt']['map']['race']\n",
    "wbhao = lambda x: (    # If not hispanic, map race to racial groups\n",
    "    pd.Categorical(np.where(x['REORGN'].isin(hisp_map), 'Hispanic', \n",
    "                            x['RACE'].map(race_map))))\n",
    "\n",
    "# bd CPS consistent variables\n",
    "female = lambda x: np.where(x['SEX'] == 2, 1, 0)\n",
    "veteran = lambda x: np.where(x['VET'].isin([1, 2, 3, 4, 5]), 1,\n",
    "                             np.where(x['VET'] == 6, 0, np.nan))\n",
    "married = lambda x: np.where(x['MARITL'].isin([1, 2, 3]), 1, \n",
    "                             np.where(x['MARITL'].isin([4,5,6,7]), 0, np.nan))\n",
    "emp = lambda x: np.where(x['LFSR'].isin([1,2]), 1, 0)\n",
    "\n",
    "\n",
    "for ddf, year_list in dd_files.items():\n",
    "    \n",
    "    d = data_dict_reader(ddf, var_list)\n",
    "\n",
    "    dtypes = [(k, v[-1]) for k, v in d.items()]\n",
    "\n",
    "    unpacker = struct_unpacker(d)\n",
    "\n",
    "    for year in year_list:\n",
    "        file_list = [f for f in os.listdir() \n",
    "                    if f.startswith((f'cpsb{str(year)[2:]}')) \n",
    "                    and f.endswith('.dat')]\n",
    "\n",
    "        df = (pd.concat([data_file_reader(file, unpacker, dtypes, filter_wgt)\n",
    "                         for file in file_list]))\n",
    "\n",
    "        decimal_vars = ['A-FNLWGT', 'A-HERNTP', 'A-ERNLWT']\n",
    "        df[decimal_vars] = df[decimal_vars] / 100.0\n",
    "        df = df.rename(rename_list, axis=1)\n",
    "        if year < 1992:\n",
    "            educ_map = {\n",
    "                'LTHS': (df['HGA'].between(1, 11)) | ((df['HGA']==12) & \n",
    "                                                      (df['HGC']==2)),\n",
    "                'HS': (df['HGA']==12) & (df['HGC']==1),\n",
    "                'SC': (df['HGA'].between(13,15)) | ((df['HGA']==16) & \n",
    "                                                    (df['HGC']==2)),\n",
    "                'COLL': ((df['HGA']==16) & (df['HGC']==1)) | (df['HGA']==17),\n",
    "                'ADV': (df['HGA'] >= 18)}\n",
    "            df['EDUC'] = np.select(educ_map.values(), educ_map.keys(), default=None)\n",
    "            df = df.drop(['HGA', 'HGC'], axis=1)\n",
    "        if year >= 1992:\n",
    "            df = df.assign(EDUC = educ).drop(['HGA'], axis=1)\n",
    "        df = (df.assign(STATE = state,\n",
    "                        FEMALE = female,\n",
    "                        WBHAO = wbhao,\n",
    "                        VETERAN = veteran,\n",
    "                        MARRIED = married,\n",
    "                        EMP = emp,\n",
    "                        UNEMPTYPE = unemptype)\n",
    "                .drop(['STATEFIPS', 'SEX', 'VET', 'MARITL', 'UNTYPE',\n",
    "                       'RACE', 'REORGN'], axis=1))\n",
    "        df['YEAR'] = year\n",
    "        df['BASICWGT'] = df['FNLWGT']\n",
    "        resize_vars = ['STATE', 'FEMALE', 'VETERAN', 'MARRIED', 'EMP', 'EDUC']\n",
    "        df[resize_vars] = df[resize_vars].astype('category')\n",
    "        \n",
    "        df.reset_index(drop=True).to_feather(f'clean/cps{year}.ft')\n",
    "        print(f'{year} Done: ({len(df):,} records, {len(df.keys())} variables)')"
   ]
  }
 ],
 "metadata": {
  "kernelspec": {
   "display_name": "Python 3",
   "language": "python",
   "name": "python3"
  },
  "language_info": {
   "codemirror_mode": {
    "name": "ipython",
    "version": 3
   },
   "file_extension": ".py",
   "mimetype": "text/x-python",
   "name": "python",
   "nbconvert_exporter": "python",
   "pygments_lexer": "ipython3",
   "version": "3.7.1"
  }
 },
 "nbformat": 4,
 "nbformat_minor": 2
}
