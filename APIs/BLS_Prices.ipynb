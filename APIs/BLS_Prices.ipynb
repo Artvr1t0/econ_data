{
 "cells": [
  {
   "cell_type": "markdown",
   "metadata": {
    "collapsed": true
   },
   "source": [
    "Bureau of Labor Statistics API with Python\n",
    "======\n",
    "\n",
    "## Unemployment rates by race/origin \n",
    "\n",
    "------\n",
    "\n",
    "*September 3, 2017*<br>\n",
    "*@bd_econ*\n",
    "\n",
    "BLS API documentation is [here](https://www.bls.gov/developers/)\n",
    "\n",
    "This example collects data on the unemployment rate for Whie, Black, and Hispanic populations in the US and plots the results."
   ]
  },
  {
   "cell_type": "code",
   "execution_count": 1,
   "metadata": {
    "collapsed": true
   },
   "outputs": [],
   "source": [
    "%matplotlib inline\n",
    "import pandas as pd\n",
    "import requests\n",
    "import json\n",
    "\n",
    "api_url = 'https://api.bls.gov/publicAPI/v2/timeseries/data/'\n",
    "\n",
    "# API key in config.py which contains: bls_key = 'key'\n",
    "import config\n",
    "key = '?registrationkey={}'.format(config.bls_key)"
   ]
  },
  {
   "cell_type": "markdown",
   "metadata": {},
   "source": [
    "## Parameters/ Date handling\n",
    "\n",
    "The BLS API limits how many years of data can be returned in a request. The small while loop below splits a date range into chunks that the BLS API will accept."
   ]
  },
  {
   "cell_type": "code",
   "execution_count": 2,
   "metadata": {
    "collapsed": true
   },
   "outputs": [],
   "source": [
    "# Series stored as a dictionary\n",
    "series_dict = {\n",
    "    'CUSR0000SA0': 'ALL', \n",
    "    'CUSR0000SA0L1E': 'CORE'}\n",
    "\n",
    "# Start year and end year\n",
    "date_r = (2005, 2017)\n",
    "\n",
    "# Handle dates\n",
    "dates = [(str(date_r[0]), str(date_r[1]))]\n",
    "while int(dates[-1][1]) - int(dates[-1][0]) > 10:\n",
    "    dates = [(str(date_r[0]), str(date_r[0]+9))]\n",
    "    d1 = int(dates[-1][0])\n",
    "    while int(dates[-1][1]) < date_r[1]:\n",
    "        d1 = d1 + 10\n",
    "        d2 = min([date_r[1], d1+9])\n",
    "        dates.append((str(d1),(d2))) "
   ]
  },
  {
   "cell_type": "markdown",
   "metadata": {},
   "source": [
    "## Get the data"
   ]
  },
  {
   "cell_type": "code",
   "execution_count": 3,
   "metadata": {},
   "outputs": [
    {
     "name": "stdout",
     "output_type": "stream",
     "text": [
      "Post Request Status: REQUEST_SUCCEEDED\n"
     ]
    },
    {
     "data": {
      "text/html": [
       "<div>\n",
       "<style>\n",
       "    .dataframe thead tr:only-child th {\n",
       "        text-align: right;\n",
       "    }\n",
       "\n",
       "    .dataframe thead th {\n",
       "        text-align: left;\n",
       "    }\n",
       "\n",
       "    .dataframe tbody tr th {\n",
       "        vertical-align: top;\n",
       "    }\n",
       "</style>\n",
       "<table border=\"1\" class=\"dataframe\">\n",
       "  <thead>\n",
       "    <tr style=\"text-align: right;\">\n",
       "      <th></th>\n",
       "      <th>ALL</th>\n",
       "      <th>CORE</th>\n",
       "    </tr>\n",
       "  </thead>\n",
       "  <tbody>\n",
       "    <tr>\n",
       "      <th>2016-08-01</th>\n",
       "      <td>1.084054</td>\n",
       "      <td>2.305626</td>\n",
       "    </tr>\n",
       "    <tr>\n",
       "      <th>2016-09-01</th>\n",
       "      <td>1.490312</td>\n",
       "      <td>2.218714</td>\n",
       "    </tr>\n",
       "    <tr>\n",
       "      <th>2016-10-01</th>\n",
       "      <td>1.640930</td>\n",
       "      <td>2.171353</td>\n",
       "    </tr>\n",
       "    <tr>\n",
       "      <th>2016-11-01</th>\n",
       "      <td>1.698908</td>\n",
       "      <td>2.146826</td>\n",
       "    </tr>\n",
       "    <tr>\n",
       "      <th>2016-12-01</th>\n",
       "      <td>2.091690</td>\n",
       "      <td>2.220941</td>\n",
       "    </tr>\n",
       "    <tr>\n",
       "      <th>2017-01-01</th>\n",
       "      <td>2.541725</td>\n",
       "      <td>2.263571</td>\n",
       "    </tr>\n",
       "    <tr>\n",
       "      <th>2017-02-01</th>\n",
       "      <td>2.795533</td>\n",
       "      <td>2.218471</td>\n",
       "    </tr>\n",
       "    <tr>\n",
       "      <th>2017-03-01</th>\n",
       "      <td>2.383253</td>\n",
       "      <td>2.003966</td>\n",
       "    </tr>\n",
       "    <tr>\n",
       "      <th>2017-04-01</th>\n",
       "      <td>2.197499</td>\n",
       "      <td>1.888308</td>\n",
       "    </tr>\n",
       "    <tr>\n",
       "      <th>2017-05-01</th>\n",
       "      <td>1.873313</td>\n",
       "      <td>1.741922</td>\n",
       "    </tr>\n",
       "    <tr>\n",
       "      <th>2017-06-01</th>\n",
       "      <td>1.646084</td>\n",
       "      <td>1.713092</td>\n",
       "    </tr>\n",
       "    <tr>\n",
       "      <th>2017-07-01</th>\n",
       "      <td>1.729902</td>\n",
       "      <td>1.699199</td>\n",
       "    </tr>\n",
       "    <tr>\n",
       "      <th>2017-08-01</th>\n",
       "      <td>1.930621</td>\n",
       "      <td>1.686726</td>\n",
       "    </tr>\n",
       "  </tbody>\n",
       "</table>\n",
       "</div>"
      ],
      "text/plain": [
       "                 ALL      CORE\n",
       "2016-08-01  1.084054  2.305626\n",
       "2016-09-01  1.490312  2.218714\n",
       "2016-10-01  1.640930  2.171353\n",
       "2016-11-01  1.698908  2.146826\n",
       "2016-12-01  2.091690  2.220941\n",
       "2017-01-01  2.541725  2.263571\n",
       "2017-02-01  2.795533  2.218471\n",
       "2017-03-01  2.383253  2.003966\n",
       "2017-04-01  2.197499  1.888308\n",
       "2017-05-01  1.873313  1.741922\n",
       "2017-06-01  1.646084  1.713092\n",
       "2017-07-01  1.729902  1.699199\n",
       "2017-08-01  1.930621  1.686726"
      ]
     },
     "execution_count": 3,
     "metadata": {},
     "output_type": "execute_result"
    }
   ],
   "source": [
    "df = pd.DataFrame()\n",
    "\n",
    "for start, end in dates:\n",
    "    # Submit the list of series as data\n",
    "    data = json.dumps({\n",
    "        \"seriesid\": list(series_dict.keys()),\n",
    "        \"startyear\": start, \"endyear\": end})\n",
    "\n",
    "    # Post request for the data\n",
    "    p = requests.post(\n",
    "        '{}{}'.format(api_url, key), \n",
    "        headers={'Content-type': 'application/json'}, \n",
    "        data=data).json()\n",
    "    for s in p['Results']['series']:\n",
    "        col = series_dict[s['seriesID']]\n",
    "        for r in s['data']:\n",
    "            date = pd.to_datetime('{} {}'.format(\n",
    "                r['periodName'], r['year']))\n",
    "            df.set_value(date, col, float(r['value']))\n",
    "df = df.sort_index().pct_change(12).dropna().multiply(100)\n",
    "# Output results\n",
    "print('Post Request Status: {}'.format(p['status']))\n",
    "df.tail(13)"
   ]
  },
  {
   "cell_type": "code",
   "execution_count": 7,
   "metadata": {
    "collapsed": true
   },
   "outputs": [],
   "source": [
    "df.to_csv('C:/Working/bdecon.github.io/d3/cpi.csv', index_label='DATE')"
   ]
  },
  {
   "cell_type": "markdown",
   "metadata": {},
   "source": [
    "## Plot the results"
   ]
  },
  {
   "cell_type": "code",
   "execution_count": 5,
   "metadata": {
    "collapsed": true
   },
   "outputs": [],
   "source": [
    "import matplotlib as mpl\n",
    "import matplotlib.pyplot as plt\n",
    "plt.style.use('seaborn-white')\n",
    "mpl.rc('axes', edgecolor='white') # Hide the axes\n",
    "plt.rc('axes', axisbelow=True)"
   ]
  },
  {
   "cell_type": "code",
   "execution_count": 6,
   "metadata": {},
   "outputs": [
    {
     "data": {
      "image/png": "[encoded data removed]",
      "text/plain": [
       "<matplotlib.figure.Figure at 0x1cc14b15d68>"
      ]
     },
     "metadata": {},
     "output_type": "display_data"
    }
   ],
   "source": [
    "df.plot(title='CPI, All-items vs. Core', figsize=(15, 5))\n",
    "\n",
    "# Shaded bars indicating recessions\n",
    "for i, v in pd.read_csv('rec_dates.csv').dropna().iterrows():\n",
    "    plt.axvspan(v['peak'], v['trough'], fill=True, \n",
    "                linewidth=0, color='gray', alpha=0.2)  "
   ]
  }
 ],
 "metadata": {
  "kernelspec": {
   "display_name": "Python [conda root]",
   "language": "python",
   "name": "conda-root-py"
  },
  "language_info": {
   "codemirror_mode": {
    "name": "ipython",
    "version": 2
   },
   "file_extension": ".py",
   "mimetype": "text/x-python",
   "name": "python",
   "nbconvert_exporter": "python",
   "pygments_lexer": "ipython2",
   "version": "2.7.12"
  }
 },
 "nbformat": 4,
 "nbformat_minor": 2
}
