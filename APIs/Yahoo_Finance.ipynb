{
 "cells": [
  {
   "cell_type": "markdown",
   "metadata": {},
   "source": [
    "Yahoo! Finance API with Python\n",
    "=====\n",
    "\n",
    "## Yahoo Finance dowload historical stock index data\n",
    "\n",
    "-----\n",
    "\n",
    "*September 3, 2017*<br>\n",
    "*@bd_econ* \n",
    "\n",
    "This example retrieves the adjusted daily closing price for the Dow Jones Industrial Average, S&P 500 and Nasdaq 100. "
   ]
  },
  {
   "cell_type": "code",
   "execution_count": 2,
   "metadata": {
    "ExecuteTime": {
     "end_time": "2018-06-09T18:16:15.756860Z",
     "start_time": "2018-06-09T18:16:15.753346Z"
    }
   },
   "outputs": [],
   "source": [
    "import requests\n",
    "import re\n",
    "import pandas as pd\n",
    "from io import StringIO\n",
    "import time "
   ]
  },
  {
   "cell_type": "markdown",
   "metadata": {},
   "source": [
    "## Parameters/Settings"
   ]
  },
  {
   "cell_type": "code",
   "execution_count": 3,
   "metadata": {
    "ExecuteTime": {
     "end_time": "2018-06-09T18:16:18.314632Z",
     "start_time": "2018-06-09T18:16:18.311623Z"
    }
   },
   "outputs": [],
   "source": [
    "tickers = ['^DJI', '^GSPC', '^IXIC']\n",
    "start = '1104537600'\n",
    "base = 'https://finance.yahoo.com/quote/'\n",
    "base2 = 'https://query1.finance.yahoo.com/v7/finance/download/'\n",
    "end = int(time.time())\n",
    "dates = '?period1={}&period2={}'.format(start, end)\n",
    "param = '&interval=1d&filter=history&frequency=1d'"
   ]
  },
  {
   "cell_type": "markdown",
   "metadata": {},
   "source": [
    "## Request Data"
   ]
  },
  {
   "cell_type": "code",
   "execution_count": 6,
   "metadata": {
    "ExecuteTime": {
     "end_time": "2018-06-09T18:17:58.955878Z",
     "start_time": "2018-06-09T18:17:55.435661Z"
    }
   },
   "outputs": [
    {
     "data": {
      "text/html": [
       "<div>\n",
       "<style scoped>\n",
       "    .dataframe tbody tr th:only-of-type {\n",
       "        vertical-align: middle;\n",
       "    }\n",
       "\n",
       "    .dataframe tbody tr th {\n",
       "        vertical-align: top;\n",
       "    }\n",
       "\n",
       "    .dataframe thead th {\n",
       "        text-align: right;\n",
       "    }\n",
       "</style>\n",
       "<table border=\"1\" class=\"dataframe\">\n",
       "  <thead>\n",
       "    <tr style=\"text-align: right;\">\n",
       "      <th></th>\n",
       "    </tr>\n",
       "  </thead>\n",
       "  <tbody>\n",
       "  </tbody>\n",
       "</table>\n",
       "</div>"
      ],
      "text/plain": [
       "Empty DataFrame\n",
       "Columns: []\n",
       "Index: []"
      ]
     },
     "execution_count": 6,
     "metadata": {},
     "output_type": "execute_result"
    }
   ],
   "source": [
    "d = {}\n",
    "for t in tickers:\n",
    "    url = '{}{}/history{}{}'.format(base, t, dates, param)\n",
    "    s = requests.Session()\n",
    "    r = s.get(url)\n",
    "    regex = '\"CrumbStore\":{\"crumb\":\"(.+?)\"},'\n",
    "    pattern = re.compile(regex)\n",
    "    crumb = re.findall(pattern, r.text)[0]\n",
    "    param2 = '{}{}&interval=1d&events=history&crumb={}/Q'.format(\n",
    "        t, dates, crumb)\n",
    "    url2 = '{}{}'.format(base2, param2)\n",
    "    data = s.post(url2)\n",
    "    csv = StringIO(data.text)\n",
    "    d[t[1:]] = pd.read_table(csv, sep=',',\n",
    "                             parse_dates=['Date']).set_index('Date')['Adj Close']\n",
    "pd.DataFrame(d).tail()"
   ]
  }
 ],
 "metadata": {
  "kernelspec": {
   "display_name": "Python 3",
   "language": "python",
   "name": "python3"
  },
  "language_info": {
   "codemirror_mode": {
    "name": "ipython",
    "version": 3
   },
   "file_extension": ".py",
   "mimetype": "text/x-python",
   "name": "python",
   "nbconvert_exporter": "python",
   "pygments_lexer": "ipython3",
   "version": "3.6.5"
  }
 },
 "nbformat": 4,
 "nbformat_minor": 2
}
