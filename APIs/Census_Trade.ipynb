{
 "cells": [
  {
   "cell_type": "markdown",
   "metadata": {},
   "source": [
    "### Census API: U.S. exports by partner\n",
    "\n",
    "\n",
    "*Brian Dew, @bd_econ, December 14, 2019*\n",
    "\n",
    "The Census Bureau allows API access to data on international trade. This example retrieves the June 2018 US export values by partner. Documentation for the Census international trade API is [here](https://www.census.gov/data/developers/data-sets/international-trade.html). The list of variables is [here](https://api.census.gov/data/timeseries/intltrade/exports/hs/variables.html)"
   ]
  },
  {
   "cell_type": "markdown",
   "metadata": {},
   "source": [
    "#### Requirements:\n",
    "\n",
    "Python (3.7 used), requests, pandas.\n",
    "\n",
    "Also requires API key, free from Census, which I've stored locally in a file called config.py."
   ]
  },
  {
   "cell_type": "code",
   "execution_count": 1,
   "metadata": {
    "ExecuteTime": {
     "end_time": "2018-08-24T03:25:59.097402Z",
     "start_time": "2018-08-24T03:25:58.659900Z"
    }
   },
   "outputs": [],
   "source": [
    "# import packages\n",
    "import requests\n",
    "import pandas as pd\n",
    "from config import census_key as key"
   ]
  },
  {
   "cell_type": "markdown",
   "metadata": {},
   "source": [
    "#### API Parameters/ Settings"
   ]
  },
  {
   "cell_type": "code",
   "execution_count": 2,
   "metadata": {
    "ExecuteTime": {
     "end_time": "2018-08-24T03:25:59.113024Z",
     "start_time": "2018-08-24T03:25:59.097402Z"
    }
   },
   "outputs": [],
   "source": [
    "# time series API: https://api.census.gov/data/timeseries.html\n",
    "base = 'https://api.census.gov/data/timeseries/'\n",
    "flow = 'intltrade/exports/hs'\n",
    "param = 'CTY_CODE,CTY_NAME,ALL_VAL_MO'\n",
    "\n",
    "# date needs manual update from release schedule:\n",
    "# https://www.census.gov/foreign-trade/reference/release_schedule.html\n",
    "time = '2020-02' \n",
    "\n",
    "url = f'{base}{flow}?get={param}&key={key}&time={time}'"
   ]
  },
  {
   "cell_type": "markdown",
   "metadata": {},
   "source": [
    "#### Request data from API"
   ]
  },
  {
   "cell_type": "code",
   "execution_count": 3,
   "metadata": {
    "ExecuteTime": {
     "end_time": "2018-08-24T03:25:59.550523Z",
     "start_time": "2018-08-24T03:25:59.113024Z"
    }
   },
   "outputs": [
    {
     "data": {
      "text/plain": [
       "[['CTY_CODE', 'CTY_NAME', 'ALL_VAL_MO', 'time'],\n",
       " ['-', 'TOTAL FOR ALL COUNTRIES', '132056617696', '2020-02'],\n",
       " ['0001', 'OPEC', '4020670574', '2020-02'],\n",
       " ['0003', 'EUROPEAN UNION', '22697237754', '2020-02'],\n",
       " ['0014', 'PACIFIC RIM COUNTRIES', '29941223815', '2020-02']]"
      ]
     },
     "execution_count": 3,
     "metadata": {},
     "output_type": "execute_result"
    }
   ],
   "source": [
    "# send request to census api and read response as json data\n",
    "r = requests.get(url).json()\n",
    "\n",
    "# print first five observations\n",
    "r[:5]"
   ]
  },
  {
   "cell_type": "markdown",
   "metadata": {
    "ExecuteTime": {
     "end_time": "2018-08-24T02:11:34.630167Z",
     "start_time": "2018-08-24T02:11:34.620351Z"
    }
   },
   "source": [
    "#### Clean the data\n",
    "\n",
    "The result is a list of observations, where each observation includes a country code, a country name, the value of exports, and the time period. I'm interested only in countries (not regional groupings) and the export value, so I select those two pieces of each observation's data, if the data cover a country (country code between 1000 and 8000)."
   ]
  },
  {
   "cell_type": "code",
   "execution_count": 4,
   "metadata": {
    "ExecuteTime": {
     "end_time": "2018-08-24T03:25:59.566148Z",
     "start_time": "2018-08-24T03:25:59.550523Z"
    }
   },
   "outputs": [
    {
     "data": {
      "text/plain": [
       "[['GREENLAND', 3.0124e-05],\n",
       " ['CANADA', 23.147053321],\n",
       " ['ST PIERRE AND MIQUELON', 0.0],\n",
       " ['MEXICO', 19.397470423],\n",
       " ['GUATEMALA', 0.683485417]]"
      ]
     },
     "execution_count": 4,
     "metadata": {},
     "output_type": "execute_result"
    }
   ],
   "source": [
    "# keep country name (pos 1) and export value in billions\n",
    "d = [[i[1], int(i[2]) / 1000000000] for i in r \n",
    "     if i[0].isdigit() \n",
    "     and int(i[0]) in range(1000, 8000)] # country codes\n",
    "\n",
    "d[:5]"
   ]
  },
  {
   "cell_type": "code",
   "execution_count": 5,
   "metadata": {
    "ExecuteTime": {
     "end_time": "2018-08-24T03:35:40.902628Z",
     "start_time": "2018-08-24T03:35:40.887005Z"
    }
   },
   "outputs": [
    {
     "data": {
      "text/plain": [
       "JAPAN              6.087824\n",
       "UNITED KINGDOM     6.486610\n",
       "CHINA              6.815003\n",
       "MEXICO            19.397470\n",
       "CANADA            23.147053\n",
       "dtype: float64"
      ]
     },
     "execution_count": 5,
     "metadata": {},
     "output_type": "execute_result"
    }
   ],
   "source": [
    "data = (pd.Series(dict(d)).sort_values())\n",
    "\n",
    "data.tail()"
   ]
  },
  {
   "cell_type": "markdown",
   "metadata": {},
   "source": [
    "#### Plot the top 20 partners by export volume\n",
    "\n",
    "I'm partial to very simple horizontal bar plots with no axis. Making these with matplotlib becomes intuitive after a bit of practice. Basically, I just add each element that I want to show: a title, country labels, blue bars in lengths according to the series values, series value labels, and a footer. "
   ]
  },
  {
   "cell_type": "code",
   "execution_count": 7,
   "metadata": {
    "ExecuteTime": {
     "end_time": "2018-08-24T03:47:08.854213Z",
     "start_time": "2018-08-24T03:47:08.666714Z"
    }
   },
   "outputs": [
    {
     "data": {
      "image/png": "[encoded data removed]",
      "text/plain": [
       "<Figure size 432x720 with 1 Axes>"
      ]
     },
     "metadata": {
      "needs_background": "light"
     },
     "output_type": "display_data"
    }
   ],
   "source": [
    "%matplotlib inline\n",
    "import matplotlib.pyplot as plt\n",
    "\n",
    "# plot top 20 partners\n",
    "s = data.tail(20)\n",
    "s.plot(kind='barh', figsize=(6,10), color='blue')\n",
    "\n",
    "# add value labels to ends of bars and country names to start of bars\n",
    "for i, val in enumerate(s):\n",
    "    plt.text(val+0.2, i-0.11, f'{val:.1f}')\n",
    "    plt.text(-0.5, i-0.11, s.index[i], ha='right')\n",
    "    \n",
    "# add title and footer\n",
    "plt.text(-10, 20, 'Top US goods export destinations, billions of USD, February 2020', \n",
    "          fontsize=13, weight='bold')\n",
    "plt.text(-10, -1.5, 'Source: Census Bureau')\n",
    "\n",
    "plt.axis('off')\n",
    "plt.show()"
   ]
  }
 ],
 "metadata": {
  "kernelspec": {
   "display_name": "Python 3",
   "language": "python",
   "name": "python3"
  },
  "language_info": {
   "codemirror_mode": {
    "name": "ipython",
    "version": 3
   },
   "file_extension": ".py",
   "mimetype": "text/x-python",
   "name": "python",
   "nbconvert_exporter": "python",
   "pygments_lexer": "ipython3",
   "version": "3.8.2"
  }
 },
 "nbformat": 4,
 "nbformat_minor": 2
}
