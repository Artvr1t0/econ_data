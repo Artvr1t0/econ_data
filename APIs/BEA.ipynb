{
 "cells": [
  {
   "cell_type": "markdown",
   "metadata": {},
   "source": [
    "Bureau of Economic Analysis API with Python\n",
    "=====\n",
    "\n",
    "## Composition of Construction Industry Gross Output\n",
    "\n",
    "\n",
    "Example of using the BEA's API to retrieve data on which series are available and to retrieve the values for those series.\n",
    "\n",
    "Updated: January 29, 2019 -- Added second example on contributions to PCE growth\n",
    "\n",
    "The BEA API documentation is available [here](https://www.bea.gov/API/bea_web_service_api_user_guide.htm)"
   ]
  },
  {
   "cell_type": "code",
   "execution_count": 1,
   "metadata": {
    "ExecuteTime": {
     "end_time": "2018-06-09T17:20:17.505593Z",
     "start_time": "2018-06-09T17:20:14.909330Z"
    }
   },
   "outputs": [],
   "source": [
    "import requests\n",
    "import pandas as pd\n",
    "import config   ## File with API key\n",
    "\n",
    "api_key = config.bea_key"
   ]
  },
  {
   "cell_type": "markdown",
   "metadata": {},
   "source": [
    "### Gather data on value parameters in order to make request"
   ]
  },
  {
   "cell_type": "code",
   "execution_count": 2,
   "metadata": {
    "ExecuteTime": {
     "end_time": "2018-06-09T17:20:17.510592Z",
     "start_time": "2018-06-09T17:20:17.506593Z"
    }
   },
   "outputs": [],
   "source": [
    "# Components of request\n",
    "base = 'https://apps.bea.gov/api/data/?&UserID={}'.format(api_key)\n",
    "get_param = '&method=GetParameterValues'\n",
    "dataset = '&DataSetName=GDPbyIndustry'\n",
    "param = 'TableID'"
   ]
  },
  {
   "cell_type": "code",
   "execution_count": 3,
   "metadata": {
    "ExecuteTime": {
     "end_time": "2018-06-09T17:20:17.776544Z",
     "start_time": "2018-06-09T17:20:17.511592Z"
    }
   },
   "outputs": [
    {
     "data": {
      "text/html": [
       "<div>\n",
       "<style scoped>\n",
       "    .dataframe tbody tr th:only-of-type {\n",
       "        vertical-align: middle;\n",
       "    }\n",
       "\n",
       "    .dataframe tbody tr th {\n",
       "        vertical-align: top;\n",
       "    }\n",
       "\n",
       "    .dataframe thead th {\n",
       "        text-align: right;\n",
       "    }\n",
       "</style>\n",
       "<table border=\"1\" class=\"dataframe\">\n",
       "  <thead>\n",
       "    <tr style=\"text-align: right;\">\n",
       "      <th></th>\n",
       "      <th>Desc</th>\n",
       "    </tr>\n",
       "    <tr>\n",
       "      <th>Key</th>\n",
       "      <th></th>\n",
       "    </tr>\n",
       "  </thead>\n",
       "  <tbody>\n",
       "    <tr>\n",
       "      <th>1</th>\n",
       "      <td>Value Added by Industry (A) (Q)</td>\n",
       "    </tr>\n",
       "    <tr>\n",
       "      <th>5</th>\n",
       "      <td>Value Added by Industry as a Percentage of Gro...</td>\n",
       "    </tr>\n",
       "    <tr>\n",
       "      <th>6</th>\n",
       "      <td>Components of Value Added by Industry (A)</td>\n",
       "    </tr>\n",
       "    <tr>\n",
       "      <th>7</th>\n",
       "      <td>Components of Value Added by Industry as a Per...</td>\n",
       "    </tr>\n",
       "    <tr>\n",
       "      <th>8</th>\n",
       "      <td>Chain-Type Quantity Indexes for Value Added by...</td>\n",
       "    </tr>\n",
       "    <tr>\n",
       "      <th>9</th>\n",
       "      <td>Percent Changes in Chain-Type Quantity Indexes...</td>\n",
       "    </tr>\n",
       "    <tr>\n",
       "      <th>10</th>\n",
       "      <td>Real Value Added by Industry (A) (Q)</td>\n",
       "    </tr>\n",
       "    <tr>\n",
       "      <th>11</th>\n",
       "      <td>Chain-Type Price Indexes for Value Added by In...</td>\n",
       "    </tr>\n",
       "    <tr>\n",
       "      <th>12</th>\n",
       "      <td>Percent Changes in Chain-Type Price Indexes fo...</td>\n",
       "    </tr>\n",
       "    <tr>\n",
       "      <th>13</th>\n",
       "      <td>Contributions to Percent Change in Real Gross ...</td>\n",
       "    </tr>\n",
       "    <tr>\n",
       "      <th>14</th>\n",
       "      <td>Contributions to Percent Change in the Chain-T...</td>\n",
       "    </tr>\n",
       "    <tr>\n",
       "      <th>15</th>\n",
       "      <td>Gross Output by Industry (A) (Q)</td>\n",
       "    </tr>\n",
       "    <tr>\n",
       "      <th>16</th>\n",
       "      <td>Chain-Type Quantity Indexes for Gross Output b...</td>\n",
       "    </tr>\n",
       "    <tr>\n",
       "      <th>17</th>\n",
       "      <td>Percent Changes in Chain-Type Quantity Indexes...</td>\n",
       "    </tr>\n",
       "    <tr>\n",
       "      <th>18</th>\n",
       "      <td>Chain-Type Price Indexes for Gross Output by I...</td>\n",
       "    </tr>\n",
       "    <tr>\n",
       "      <th>19</th>\n",
       "      <td>Percent Changes in Chain-Type Price Indexes fo...</td>\n",
       "    </tr>\n",
       "    <tr>\n",
       "      <th>20</th>\n",
       "      <td>Intermediate Inputs by Industry (A) (Q)</td>\n",
       "    </tr>\n",
       "    <tr>\n",
       "      <th>21</th>\n",
       "      <td>Chain-Type Quantity Indexes for Intermediate I...</td>\n",
       "    </tr>\n",
       "    <tr>\n",
       "      <th>22</th>\n",
       "      <td>Percent Changes in Chain-Type Quantity Indexes...</td>\n",
       "    </tr>\n",
       "    <tr>\n",
       "      <th>23</th>\n",
       "      <td>Chain-Type Price Indexes for Intermediate Inpu...</td>\n",
       "    </tr>\n",
       "    <tr>\n",
       "      <th>24</th>\n",
       "      <td>Percent Changes in Chain-Type Price Indexes fo...</td>\n",
       "    </tr>\n",
       "    <tr>\n",
       "      <th>25</th>\n",
       "      <td>Composition of Gross Output by Industry (A)</td>\n",
       "    </tr>\n",
       "    <tr>\n",
       "      <th>26</th>\n",
       "      <td>Shares of Gross Output by Industry (A)</td>\n",
       "    </tr>\n",
       "    <tr>\n",
       "      <th>27</th>\n",
       "      <td>Cost per Unit of Real Gross Output by Industry...</td>\n",
       "    </tr>\n",
       "    <tr>\n",
       "      <th>29</th>\n",
       "      <td>Contributions to Percent Change in Chain-Type ...</td>\n",
       "    </tr>\n",
       "    <tr>\n",
       "      <th>30</th>\n",
       "      <td>Contributions to Percent Change in Chain-Type ...</td>\n",
       "    </tr>\n",
       "    <tr>\n",
       "      <th>31</th>\n",
       "      <td>Chain-Type Quantity Indexes for Energy Inputs ...</td>\n",
       "    </tr>\n",
       "    <tr>\n",
       "      <th>32</th>\n",
       "      <td>Contributions to Percent Change by Industry in...</td>\n",
       "    </tr>\n",
       "    <tr>\n",
       "      <th>33</th>\n",
       "      <td>Chain-Type Price Indexes for Energy Inputs by ...</td>\n",
       "    </tr>\n",
       "    <tr>\n",
       "      <th>34</th>\n",
       "      <td>Contributions to Percent Change by Industry in...</td>\n",
       "    </tr>\n",
       "    <tr>\n",
       "      <th>35</th>\n",
       "      <td>Chain-Type Quantity Indexes for Materials Inpu...</td>\n",
       "    </tr>\n",
       "    <tr>\n",
       "      <th>36</th>\n",
       "      <td>Contributions to Percent Change by Industry in...</td>\n",
       "    </tr>\n",
       "    <tr>\n",
       "      <th>37</th>\n",
       "      <td>Chain-Type Price Indexes for Materials Inputs ...</td>\n",
       "    </tr>\n",
       "    <tr>\n",
       "      <th>38</th>\n",
       "      <td>Contributions to Percent Change by Industry in...</td>\n",
       "    </tr>\n",
       "    <tr>\n",
       "      <th>39</th>\n",
       "      <td>Chain-Type Quantity Indexes for Purchased Serv...</td>\n",
       "    </tr>\n",
       "    <tr>\n",
       "      <th>40</th>\n",
       "      <td>Contributions to Percent Change by Industry in...</td>\n",
       "    </tr>\n",
       "    <tr>\n",
       "      <th>41</th>\n",
       "      <td>Chain-Type Price Indexes for Purchased Service...</td>\n",
       "    </tr>\n",
       "    <tr>\n",
       "      <th>42</th>\n",
       "      <td>Contributions to Percent Change by Industry in...</td>\n",
       "    </tr>\n",
       "    <tr>\n",
       "      <th>208</th>\n",
       "      <td>Real Gross Output by Industry (A) (Q)</td>\n",
       "    </tr>\n",
       "    <tr>\n",
       "      <th>209</th>\n",
       "      <td>Real Intermediate Inputs by industry (A) (Q)</td>\n",
       "    </tr>\n",
       "  </tbody>\n",
       "</table>\n",
       "</div>"
      ],
      "text/plain": [
       "                                                  Desc\n",
       "Key                                                   \n",
       "1                      Value Added by Industry (A) (Q)\n",
       "5    Value Added by Industry as a Percentage of Gro...\n",
       "6            Components of Value Added by Industry (A)\n",
       "7    Components of Value Added by Industry as a Per...\n",
       "8    Chain-Type Quantity Indexes for Value Added by...\n",
       "9    Percent Changes in Chain-Type Quantity Indexes...\n",
       "10                Real Value Added by Industry (A) (Q)\n",
       "11   Chain-Type Price Indexes for Value Added by In...\n",
       "12   Percent Changes in Chain-Type Price Indexes fo...\n",
       "13   Contributions to Percent Change in Real Gross ...\n",
       "14   Contributions to Percent Change in the Chain-T...\n",
       "15                    Gross Output by Industry (A) (Q)\n",
       "16   Chain-Type Quantity Indexes for Gross Output b...\n",
       "17   Percent Changes in Chain-Type Quantity Indexes...\n",
       "18   Chain-Type Price Indexes for Gross Output by I...\n",
       "19   Percent Changes in Chain-Type Price Indexes fo...\n",
       "20             Intermediate Inputs by Industry (A) (Q)\n",
       "21   Chain-Type Quantity Indexes for Intermediate I...\n",
       "22   Percent Changes in Chain-Type Quantity Indexes...\n",
       "23   Chain-Type Price Indexes for Intermediate Inpu...\n",
       "24   Percent Changes in Chain-Type Price Indexes fo...\n",
       "25         Composition of Gross Output by Industry (A)\n",
       "26              Shares of Gross Output by Industry (A)\n",
       "27   Cost per Unit of Real Gross Output by Industry...\n",
       "29   Contributions to Percent Change in Chain-Type ...\n",
       "30   Contributions to Percent Change in Chain-Type ...\n",
       "31   Chain-Type Quantity Indexes for Energy Inputs ...\n",
       "32   Contributions to Percent Change by Industry in...\n",
       "33   Chain-Type Price Indexes for Energy Inputs by ...\n",
       "34   Contributions to Percent Change by Industry in...\n",
       "35   Chain-Type Quantity Indexes for Materials Inpu...\n",
       "36   Contributions to Percent Change by Industry in...\n",
       "37   Chain-Type Price Indexes for Materials Inputs ...\n",
       "38   Contributions to Percent Change by Industry in...\n",
       "39   Chain-Type Quantity Indexes for Purchased Serv...\n",
       "40   Contributions to Percent Change by Industry in...\n",
       "41   Chain-Type Price Indexes for Purchased Service...\n",
       "42   Contributions to Percent Change by Industry in...\n",
       "208              Real Gross Output by Industry (A) (Q)\n",
       "209       Real Intermediate Inputs by industry (A) (Q)"
      ]
     },
     "execution_count": 3,
     "metadata": {},
     "output_type": "execute_result"
    }
   ],
   "source": [
    "# Construct URL from parameters above\n",
    "url = '{}{}{}&ParameterName={}&ResultFormat=json'.format(base, get_param, dataset, param)\n",
    "\n",
    "# Request parameter information from BEA API\n",
    "r = requests.get(url).json()\n",
    "\n",
    "# Show the results as a table:\n",
    "pd.DataFrame(r['BEAAPI']['Results']['ParamValue']).set_index('Key')"
   ]
  },
  {
   "cell_type": "code",
   "execution_count": 4,
   "metadata": {
    "ExecuteTime": {
     "end_time": "2018-06-09T17:20:18.039453Z",
     "start_time": "2018-06-09T17:20:17.777544Z"
    }
   },
   "outputs": [
    {
     "data": {
      "text/html": [
       "<div>\n",
       "<style scoped>\n",
       "    .dataframe tbody tr th:only-of-type {\n",
       "        vertical-align: middle;\n",
       "    }\n",
       "\n",
       "    .dataframe tbody tr th {\n",
       "        vertical-align: top;\n",
       "    }\n",
       "\n",
       "    .dataframe thead th {\n",
       "        text-align: right;\n",
       "    }\n",
       "</style>\n",
       "<table border=\"1\" class=\"dataframe\">\n",
       "  <thead>\n",
       "    <tr style=\"text-align: right;\">\n",
       "      <th></th>\n",
       "      <th>Desc</th>\n",
       "    </tr>\n",
       "    <tr>\n",
       "      <th>Key</th>\n",
       "      <th></th>\n",
       "    </tr>\n",
       "  </thead>\n",
       "  <tbody>\n",
       "    <tr>\n",
       "      <th>GDP</th>\n",
       "      <td>Gross domestic product (A,Q)</td>\n",
       "    </tr>\n",
       "    <tr>\n",
       "      <th>II</th>\n",
       "      <td>All industries (A,Q)</td>\n",
       "    </tr>\n",
       "    <tr>\n",
       "      <th>PVT</th>\n",
       "      <td>Private industries (A,Q)</td>\n",
       "    </tr>\n",
       "    <tr>\n",
       "      <th>11</th>\n",
       "      <td>Agriculture, forestry, fishing, and hunting (A,Q)</td>\n",
       "    </tr>\n",
       "    <tr>\n",
       "      <th>111CA</th>\n",
       "      <td>Farms (A,Q)</td>\n",
       "    </tr>\n",
       "    <tr>\n",
       "      <th>...</th>\n",
       "      <td>...</td>\n",
       "    </tr>\n",
       "    <tr>\n",
       "      <th>GSLE</th>\n",
       "      <td>Government enterprises (A,Q)</td>\n",
       "    </tr>\n",
       "    <tr>\n",
       "      <th>NABI</th>\n",
       "      <td>Not allocated by industry [1] (A,Q)</td>\n",
       "    </tr>\n",
       "    <tr>\n",
       "      <th>PGOOD</th>\n",
       "      <td>Private goods-producing industries [2] (A,Q)</td>\n",
       "    </tr>\n",
       "    <tr>\n",
       "      <th>PSERV</th>\n",
       "      <td>Private services-producing industries [3] (A,Q)</td>\n",
       "    </tr>\n",
       "    <tr>\n",
       "      <th>ICT</th>\n",
       "      <td>Information-communications-technology-producin...</td>\n",
       "    </tr>\n",
       "  </tbody>\n",
       "</table>\n",
       "<p>103 rows × 1 columns</p>\n",
       "</div>"
      ],
      "text/plain": [
       "                                                    Desc\n",
       "Key                                                     \n",
       "GDP                         Gross domestic product (A,Q)\n",
       "II                                  All industries (A,Q)\n",
       "PVT                             Private industries (A,Q)\n",
       "11     Agriculture, forestry, fishing, and hunting (A,Q)\n",
       "111CA                                        Farms (A,Q)\n",
       "...                                                  ...\n",
       "GSLE                        Government enterprises (A,Q)\n",
       "NABI                 Not allocated by industry [1] (A,Q)\n",
       "PGOOD       Private goods-producing industries [2] (A,Q)\n",
       "PSERV    Private services-producing industries [3] (A,Q)\n",
       "ICT    Information-communications-technology-producin...\n",
       "\n",
       "[103 rows x 1 columns]"
      ]
     },
     "execution_count": 4,
     "metadata": {},
     "output_type": "execute_result"
    }
   ],
   "source": [
    "param = 'Industry'\n",
    "\n",
    "# Construct URL from parameters above\n",
    "url = '{}{}{}&ParameterName={}&ResultFormat=json'.format(base, get_param, dataset, param)\n",
    "\n",
    "# Request parameter information from BEA API\n",
    "r = requests.get(url).json()\n",
    "\n",
    "# Show the results as a table:\n",
    "pd.DataFrame(r['BEAAPI']['Results']['ParamValue']).set_index('Key')"
   ]
  },
  {
   "cell_type": "markdown",
   "metadata": {},
   "source": [
    "### Use parameters obtained above to request data from API"
   ]
  },
  {
   "cell_type": "code",
   "execution_count": 5,
   "metadata": {
    "ExecuteTime": {
     "end_time": "2018-06-09T17:20:18.043452Z",
     "start_time": "2018-06-09T17:20:18.040452Z"
    }
   },
   "outputs": [],
   "source": [
    "m = '&method=GetData'\n",
    "ind = '&TableId=25'\n",
    "freq = '&Frequency=A'\n",
    "year = '&Year=ALL'\n",
    "fmt = '&ResultFormat=json'\n",
    "indus = '&Industry=23'  # Construction Industry\n",
    "\n",
    "# Combined url for request\n",
    "url = '{}{}{}{}{}{}{}{}'.format(base, m, dataset, year, indus, ind, freq, fmt)"
   ]
  },
  {
   "cell_type": "code",
   "execution_count": 6,
   "metadata": {
    "ExecuteTime": {
     "end_time": "2018-06-09T17:20:18.265652Z",
     "start_time": "2018-06-09T17:20:18.045452Z"
    }
   },
   "outputs": [],
   "source": [
    "r = requests.get(url).json()"
   ]
  },
  {
   "cell_type": "code",
   "execution_count": 7,
   "metadata": {
    "ExecuteTime": {
     "end_time": "2018-06-09T17:20:18.304639Z",
     "start_time": "2018-06-09T17:20:18.266642Z"
    }
   },
   "outputs": [
    {
     "data": {
      "text/html": [
       "<div>\n",
       "<style scoped>\n",
       "    .dataframe tbody tr th:only-of-type {\n",
       "        vertical-align: middle;\n",
       "    }\n",
       "\n",
       "    .dataframe tbody tr th {\n",
       "        vertical-align: top;\n",
       "    }\n",
       "\n",
       "    .dataframe thead th {\n",
       "        text-align: right;\n",
       "    }\n",
       "</style>\n",
       "<table border=\"1\" class=\"dataframe\">\n",
       "  <thead>\n",
       "    <tr style=\"text-align: right;\">\n",
       "      <th>IndustrYDescription</th>\n",
       "      <th>Compensation of employees</th>\n",
       "      <th>Energy inputs</th>\n",
       "      <th>Gross Output</th>\n",
       "      <th>Gross operating surplus</th>\n",
       "      <th>Intermediate inputs</th>\n",
       "      <th>Materials inputs</th>\n",
       "      <th>Purchased-services inputs</th>\n",
       "      <th>Taxes on production and imports less subsidies</th>\n",
       "      <th>Value added</th>\n",
       "    </tr>\n",
       "    <tr>\n",
       "      <th>Year</th>\n",
       "      <th></th>\n",
       "      <th></th>\n",
       "      <th></th>\n",
       "      <th></th>\n",
       "      <th></th>\n",
       "      <th></th>\n",
       "      <th></th>\n",
       "      <th></th>\n",
       "      <th></th>\n",
       "    </tr>\n",
       "  </thead>\n",
       "  <tbody>\n",
       "    <tr>\n",
       "      <th>2013-01-01</th>\n",
       "      <td>388.0</td>\n",
       "      <td>39.4</td>\n",
       "      <td>1155.7</td>\n",
       "      <td>191.6</td>\n",
       "      <td>568.1</td>\n",
       "      <td>417.8</td>\n",
       "      <td>110.9</td>\n",
       "      <td>8.0</td>\n",
       "      <td>587.6</td>\n",
       "    </tr>\n",
       "    <tr>\n",
       "      <th>2014-01-01</th>\n",
       "      <td>422.4</td>\n",
       "      <td>35.3</td>\n",
       "      <td>1258.8</td>\n",
       "      <td>206.1</td>\n",
       "      <td>621.9</td>\n",
       "      <td>458.6</td>\n",
       "      <td>128.0</td>\n",
       "      <td>8.4</td>\n",
       "      <td>636.9</td>\n",
       "    </tr>\n",
       "    <tr>\n",
       "      <th>2015-01-01</th>\n",
       "      <td>458.4</td>\n",
       "      <td>30.2</td>\n",
       "      <td>1370.9</td>\n",
       "      <td>228.1</td>\n",
       "      <td>675.3</td>\n",
       "      <td>488.7</td>\n",
       "      <td>156.3</td>\n",
       "      <td>9.0</td>\n",
       "      <td>695.6</td>\n",
       "    </tr>\n",
       "    <tr>\n",
       "      <th>2016-01-01</th>\n",
       "      <td>485.9</td>\n",
       "      <td>31.7</td>\n",
       "      <td>1473.1</td>\n",
       "      <td>250.1</td>\n",
       "      <td>727.6</td>\n",
       "      <td>518.3</td>\n",
       "      <td>177.6</td>\n",
       "      <td>9.6</td>\n",
       "      <td>745.5</td>\n",
       "    </tr>\n",
       "    <tr>\n",
       "      <th>2017-01-01</th>\n",
       "      <td>516.5</td>\n",
       "      <td>36.3</td>\n",
       "      <td>1547.3</td>\n",
       "      <td>263.8</td>\n",
       "      <td>756.9</td>\n",
       "      <td>558.1</td>\n",
       "      <td>162.5</td>\n",
       "      <td>10.1</td>\n",
       "      <td>790.4</td>\n",
       "    </tr>\n",
       "  </tbody>\n",
       "</table>\n",
       "</div>"
      ],
      "text/plain": [
       "IndustrYDescription  Compensation of employees  Energy inputs  Gross Output  \\\n",
       "Year                                                                          \n",
       "2013-01-01                               388.0           39.4        1155.7   \n",
       "2014-01-01                               422.4           35.3        1258.8   \n",
       "2015-01-01                               458.4           30.2        1370.9   \n",
       "2016-01-01                               485.9           31.7        1473.1   \n",
       "2017-01-01                               516.5           36.3        1547.3   \n",
       "\n",
       "IndustrYDescription  Gross operating surplus  Intermediate inputs  \\\n",
       "Year                                                                \n",
       "2013-01-01                             191.6                568.1   \n",
       "2014-01-01                             206.1                621.9   \n",
       "2015-01-01                             228.1                675.3   \n",
       "2016-01-01                             250.1                727.6   \n",
       "2017-01-01                             263.8                756.9   \n",
       "\n",
       "IndustrYDescription  Materials inputs  Purchased-services inputs  \\\n",
       "Year                                                               \n",
       "2013-01-01                      417.8                      110.9   \n",
       "2014-01-01                      458.6                      128.0   \n",
       "2015-01-01                      488.7                      156.3   \n",
       "2016-01-01                      518.3                      177.6   \n",
       "2017-01-01                      558.1                      162.5   \n",
       "\n",
       "IndustrYDescription  Taxes on production and imports less subsidies  \\\n",
       "Year                                                                  \n",
       "2013-01-01                                                      8.0   \n",
       "2014-01-01                                                      8.4   \n",
       "2015-01-01                                                      9.0   \n",
       "2016-01-01                                                      9.6   \n",
       "2017-01-01                                                     10.1   \n",
       "\n",
       "IndustrYDescription  Value added  \n",
       "Year                              \n",
       "2013-01-01                 587.6  \n",
       "2014-01-01                 636.9  \n",
       "2015-01-01                 695.6  \n",
       "2016-01-01                 745.5  \n",
       "2017-01-01                 790.4  "
      ]
     },
     "execution_count": 7,
     "metadata": {},
     "output_type": "execute_result"
    }
   ],
   "source": [
    "df = pd.DataFrame(r['BEAAPI']['Results']['Data'])\n",
    "df = df.replace('Construction', 'Gross Output')\n",
    "df = df.set_index([pd.to_datetime(df['Year']), 'IndustrYDescription'])['DataValue'].unstack(1)\n",
    "df = df.apply(pd.to_numeric)\n",
    "df.tail()"
   ]
  },
  {
   "cell_type": "markdown",
   "metadata": {},
   "source": [
    "## Plot Employee share of gross profit"
   ]
  },
  {
   "cell_type": "code",
   "execution_count": 8,
   "metadata": {
    "ExecuteTime": {
     "end_time": "2018-06-09T17:20:19.690097Z",
     "start_time": "2018-06-09T17:20:18.305629Z"
    }
   },
   "outputs": [
    {
     "data": {
      "text/plain": [
       "<AxesSubplot:title={'center':'Employee & profit share of gross output'}, xlabel='Year'>"
      ]
     },
     "execution_count": 8,
     "metadata": {},
     "output_type": "execute_result"
    },
    {
     "data": {
      "image/png": "[encoded data removed]",
      "text/plain": [
       "<Figure size 432x288 with 1 Axes>"
      ]
     },
     "metadata": {
      "needs_background": "light"
     },
     "output_type": "display_data"
    }
   ],
   "source": [
    "df['Emp_sh'] = df['Compensation of employees'] / df['Gross Output']\n",
    "df['Surplus_sh'] = df['Gross operating surplus'] / df['Gross Output']\n",
    "\n",
    "%matplotlib inline\n",
    "df[['Emp_sh', 'Surplus_sh']].plot(title='Employee & profit share of gross output')"
   ]
  },
  {
   "cell_type": "markdown",
   "metadata": {},
   "source": [
    "### GDP Report Data - Real PCE by Major Type of Product\n",
    "\n",
    "REQUIRES PYTHON 3.6+"
   ]
  },
  {
   "cell_type": "code",
   "execution_count": 9,
   "metadata": {
    "ExecuteTime": {
     "end_time": "2019-01-29T20:56:56.829956Z",
     "start_time": "2019-01-29T20:56:56.471196Z"
    }
   },
   "outputs": [],
   "source": [
    "import requests\n",
    "import pandas as pd\n",
    "import config   ## File with API key"
   ]
  },
  {
   "cell_type": "code",
   "execution_count": 10,
   "metadata": {
    "ExecuteTime": {
     "end_time": "2019-01-30T03:33:05.978314Z",
     "start_time": "2019-01-30T03:33:05.975183Z"
    }
   },
   "outputs": [],
   "source": [
    "# Components of request\n",
    "base = f'https://apps.bea.gov/api/data/?&UserID={config.bea_key}'\n",
    "dset = '&method=GetData&datasetname=NIPA'\n",
    "tbl = 'T20306' # Real PCE by Major Type of Product: NIPA Table 2.3.6.\n",
    "freq = '&Frequency=Q'\n",
    "yr = ','.join(map(str, range(2000, 2021)))\n",
    "fmt = '&ResultFormat=json'\n",
    "url = f'{base}{dset}&TableName={tbl}{freq}&Year={yr}{fmt}'"
   ]
  },
  {
   "cell_type": "code",
   "execution_count": 11,
   "metadata": {
    "ExecuteTime": {
     "end_time": "2019-01-30T03:33:08.479809Z",
     "start_time": "2019-01-30T03:33:07.021471Z"
    }
   },
   "outputs": [],
   "source": [
    "# Request data\n",
    "r = requests.get(url).json()['BEAAPI']['Results']"
   ]
  },
  {
   "cell_type": "code",
   "execution_count": 12,
   "metadata": {
    "ExecuteTime": {
     "end_time": "2019-01-30T03:33:09.297048Z",
     "start_time": "2019-01-30T03:33:09.256912Z"
    }
   },
   "outputs": [],
   "source": [
    "d = {}\n",
    "\n",
    "for series in ['DPCERX', 'DDURRX', 'DNDGRX', 'DSERRX']:\n",
    "    data = [int(i['DataValue'].replace(',', ''))\n",
    "            for i in r['Data'] if i['SeriesCode'] == series]\n",
    "    index = [pd.to_datetime(i['TimePeriod'])\n",
    "             for i in r['Data'] if i['SeriesCode'] == series]\n",
    "    d[series] = pd.Series(data=data, index=index)"
   ]
  },
  {
   "cell_type": "code",
   "execution_count": 13,
   "metadata": {
    "ExecuteTime": {
     "end_time": "2019-01-30T03:33:10.096786Z",
     "start_time": "2019-01-30T03:33:10.085578Z"
    }
   },
   "outputs": [],
   "source": [
    "df = pd.DataFrame(d)\n",
    "dft = df.diff()\n",
    "dft = dft.div(dft['DPCERX'], axis=0)\n",
    "df = dft.multiply((((df['DPCERX'].pct_change() + 1) ** 4) - 1) * 100, axis=0)"
   ]
  },
  {
   "cell_type": "code",
   "execution_count": 14,
   "metadata": {
    "ExecuteTime": {
     "end_time": "2019-01-30T03:38:49.446885Z",
     "start_time": "2019-01-30T03:38:48.793524Z"
    }
   },
   "outputs": [
    {
     "data": {
      "image/png": "[encoded data removed]",
      "text/plain": [
       "<Figure size 864x360 with 1 Axes>"
      ]
     },
     "metadata": {
      "needs_background": "light"
     },
     "output_type": "display_data"
    }
   ],
   "source": [
    "def line_format(index):\n",
    "    label = ''\n",
    "    if index.month_name()[:3] == 'Jan':\n",
    "        label += f'{index.year}'\n",
    "    return label\n",
    "\n",
    "%matplotlib inline\n",
    "d = df[['DDURRX', 'DNDGRX', 'DSERRX']]\n",
    "ax = d.plot(kind='bar', stacked=True, figsize=(12, 5), \n",
    "            rot=0, color=['green', 'lightblue', 'blue'])\n",
    "ax.set_xticklabels(map(lambda x: line_format(x), df.index));"
   ]
  },
  {
   "cell_type": "code",
   "execution_count": null,
   "metadata": {},
   "outputs": [],
   "source": []
  }
 ],
 "metadata": {
  "kernelspec": {
   "display_name": "Python 3",
   "language": "python",
   "name": "python3"
  },
  "language_info": {
   "codemirror_mode": {
    "name": "ipython",
    "version": 3
   },
   "file_extension": ".py",
   "mimetype": "text/x-python",
   "name": "python",
   "nbconvert_exporter": "python",
   "pygments_lexer": "ipython3",
   "version": "3.8.5"
  }
 },
 "nbformat": 4,
 "nbformat_minor": 2
}
