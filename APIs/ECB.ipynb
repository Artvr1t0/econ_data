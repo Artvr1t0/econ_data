{
 "cells": [
  {
   "cell_type": "markdown",
   "metadata": {},
   "source": [
    "European Central Bank (ECB) API with Python\n",
    "=====\n",
    "\n",
    "## Data on Eurozone countries\n",
    "\n",
    "-----\n",
    "\n",
    "*December 14, 2019*<br>\n",
    "*@bd_econ*\n",
    "\n",
    "ECB API Documentation is [here](https://sdw-wsrest.ecb.europa.eu/help/)\n",
    "\n",
    "This example requests the interest rate by country on 10-year bonds over the period since 2012.\n",
    "\n",
    "You can read the output from the ECB API (as json data, so with some patience) in a web browser, to better understand what my code below is doing."
   ]
  },
  {
   "cell_type": "code",
   "execution_count": 1,
   "metadata": {
    "ExecuteTime": {
     "end_time": "2019-01-27T10:39:24.816117Z",
     "start_time": "2019-01-27T10:39:24.515883Z"
    }
   },
   "outputs": [],
   "source": [
    "import requests\n",
    "import pandas as pd"
   ]
  },
  {
   "cell_type": "markdown",
   "metadata": {},
   "source": [
    "## Parameters/Settings\n",
    "\n",
    "List of data sets is [here](https://sdw-wsrest.ecb.europa.eu/service/dataflow).\n",
    "\n",
    "You can also find the `series_key` from searching the [Statistics Data Warehouse](https://sdw.ecb.europa.eu/home.do)."
   ]
  },
  {
   "cell_type": "code",
   "execution_count": 2,
   "metadata": {
    "ExecuteTime": {
     "end_time": "2019-01-27T10:39:24.825032Z",
     "start_time": "2019-01-27T10:39:24.817735Z"
    }
   },
   "outputs": [],
   "source": [
    "# List of countries\n",
    "c_list = ['DE', \n",
    "          'FR', \n",
    "          'IT', \n",
    "          'ES', \n",
    "          'PT', \n",
    "          'GR', \n",
    "          'NL', \n",
    "          'BE', \n",
    "          'AT', \n",
    "          'IE']\n",
    "\n",
    "param = [('dataflow', 'IRS'),\n",
    "         ('freq', 'M'),\n",
    "         ('countries', '+'.join(c_list)),\n",
    "         ('series', 'L'),\n",
    "         ('trans type', 'L40'),\n",
    "         ('maturity cat', 'CI'),\n",
    "         ('counterpart', '0000'),\n",
    "         ('currency', 'EUR'),\n",
    "         ('business coverage', 'N'),\n",
    "         ('interest rate type', 'Z'),\n",
    "         ('start', '?startPeriod=2012-01-01')]\n",
    "\n",
    "param_joined = '.'.join(value for key, value in param[1:-1])\n",
    "\n",
    "series_key = '{}/{}{}'.format(param[0][1],\n",
    "                              param_joined,\n",
    "                              param[-1][1])"
   ]
  },
  {
   "cell_type": "code",
   "execution_count": 3,
   "metadata": {},
   "outputs": [
    {
     "name": "stdout",
     "output_type": "stream",
     "text": [
      "IRS/M.DE+FR+IT+ES+PT+GR+NL+BE+AT+IE.L.L40.CI.0000.EUR.N.Z?startPeriod=2012-01-01\n"
     ]
    }
   ],
   "source": [
    "print(series_key)"
   ]
  },
  {
   "cell_type": "markdown",
   "metadata": {},
   "source": [
    "## Request data"
   ]
  },
  {
   "cell_type": "code",
   "execution_count": 4,
   "metadata": {
    "ExecuteTime": {
     "end_time": "2019-01-27T10:39:25.793948Z",
     "start_time": "2019-01-27T10:39:24.826206Z"
    }
   },
   "outputs": [],
   "source": [
    "url = 'https://sdw-wsrest.ecb.europa.eu/service/data/'\n",
    "# headers used as content negotiation to return data in json format\n",
    "headers = {'Accept':'application/json'}\n",
    "r = requests.get('{}{}'.format(url, series_key), headers=headers).json()"
   ]
  },
  {
   "cell_type": "markdown",
   "metadata": {},
   "source": [
    "## Pandas DataFrame"
   ]
  },
  {
   "cell_type": "code",
   "execution_count": 5,
   "metadata": {
    "ExecuteTime": {
     "end_time": "2019-01-27T10:39:25.821367Z",
     "start_time": "2019-01-27T10:39:25.795579Z"
    }
   },
   "outputs": [
    {
     "data": {
      "text/html": [
       "<div>\n",
       "<style scoped>\n",
       "    .dataframe tbody tr th:only-of-type {\n",
       "        vertical-align: middle;\n",
       "    }\n",
       "\n",
       "    .dataframe tbody tr th {\n",
       "        vertical-align: top;\n",
       "    }\n",
       "\n",
       "    .dataframe thead th {\n",
       "        text-align: right;\n",
       "    }\n",
       "</style>\n",
       "<table border=\"1\" class=\"dataframe\">\n",
       "  <thead>\n",
       "    <tr style=\"text-align: right;\">\n",
       "      <th></th>\n",
       "      <th>Austria</th>\n",
       "      <th>Belgium</th>\n",
       "      <th>Germany</th>\n",
       "      <th>Spain</th>\n",
       "      <th>France</th>\n",
       "      <th>Greece</th>\n",
       "      <th>Ireland</th>\n",
       "      <th>Italy</th>\n",
       "      <th>Netherlands</th>\n",
       "      <th>Portugal</th>\n",
       "    </tr>\n",
       "  </thead>\n",
       "  <tbody>\n",
       "    <tr>\n",
       "      <th>2019-07-01</th>\n",
       "      <td>-0.1037</td>\n",
       "      <td>0.00</td>\n",
       "      <td>-0.39</td>\n",
       "      <td>0.354</td>\n",
       "      <td>-0.07</td>\n",
       "      <td>2.16</td>\n",
       "      <td>0.13</td>\n",
       "      <td>1.654</td>\n",
       "      <td>-0.206</td>\n",
       "      <td>0.443</td>\n",
       "    </tr>\n",
       "    <tr>\n",
       "      <th>2019-08-01</th>\n",
       "      <td>-0.3737</td>\n",
       "      <td>-0.28</td>\n",
       "      <td>-0.65</td>\n",
       "      <td>0.141</td>\n",
       "      <td>-0.34</td>\n",
       "      <td>1.98</td>\n",
       "      <td>-0.05</td>\n",
       "      <td>1.404</td>\n",
       "      <td>-0.499</td>\n",
       "      <td>0.173</td>\n",
       "    </tr>\n",
       "    <tr>\n",
       "      <th>2019-09-01</th>\n",
       "      <td>-0.3024</td>\n",
       "      <td>-0.24</td>\n",
       "      <td>-0.59</td>\n",
       "      <td>0.180</td>\n",
       "      <td>-0.28</td>\n",
       "      <td>1.50</td>\n",
       "      <td>-0.01</td>\n",
       "      <td>0.902</td>\n",
       "      <td>-0.427</td>\n",
       "      <td>0.204</td>\n",
       "    </tr>\n",
       "    <tr>\n",
       "      <th>2019-10-01</th>\n",
       "      <td>-0.1974</td>\n",
       "      <td>-0.16</td>\n",
       "      <td>-0.47</td>\n",
       "      <td>0.203</td>\n",
       "      <td>-0.16</td>\n",
       "      <td>1.34</td>\n",
       "      <td>0.02</td>\n",
       "      <td>1.004</td>\n",
       "      <td>-0.314</td>\n",
       "      <td>0.187</td>\n",
       "    </tr>\n",
       "    <tr>\n",
       "      <th>2019-11-01</th>\n",
       "      <td>-0.0861</td>\n",
       "      <td>-0.04</td>\n",
       "      <td>-0.35</td>\n",
       "      <td>0.386</td>\n",
       "      <td>-0.02</td>\n",
       "      <td>1.36</td>\n",
       "      <td>0.07</td>\n",
       "      <td>1.266</td>\n",
       "      <td>-0.192</td>\n",
       "      <td>0.349</td>\n",
       "    </tr>\n",
       "  </tbody>\n",
       "</table>\n",
       "</div>"
      ],
      "text/plain": [
       "            Austria  Belgium  Germany  Spain  France  Greece  Ireland  Italy  \\\n",
       "2019-07-01  -0.1037     0.00    -0.39  0.354   -0.07    2.16     0.13  1.654   \n",
       "2019-08-01  -0.3737    -0.28    -0.65  0.141   -0.34    1.98    -0.05  1.404   \n",
       "2019-09-01  -0.3024    -0.24    -0.59  0.180   -0.28    1.50    -0.01  0.902   \n",
       "2019-10-01  -0.1974    -0.16    -0.47  0.203   -0.16    1.34     0.02  1.004   \n",
       "2019-11-01  -0.0861    -0.04    -0.35  0.386   -0.02    1.36     0.07  1.266   \n",
       "\n",
       "            Netherlands  Portugal  \n",
       "2019-07-01       -0.206     0.443  \n",
       "2019-08-01       -0.499     0.173  \n",
       "2019-09-01       -0.427     0.204  \n",
       "2019-10-01       -0.314     0.187  \n",
       "2019-11-01       -0.192     0.349  "
      ]
     },
     "execution_count": 5,
     "metadata": {},
     "output_type": "execute_result"
    }
   ],
   "source": [
    "date_list = r['structure']['dimensions']['observation'][0]['values']\n",
    "dates = [date['start'][:10] for date in date_list]\n",
    "    \n",
    "areas = [v['name'] for v in r['structure']['dimensions']['series'][1]['values']]\n",
    "\n",
    "df = pd.DataFrame()\n",
    "for i, area in enumerate(areas):\n",
    "    s_key = '0:{}:0:0:0:0:0:0:0'.format(i)\n",
    "    s_list = r['dataSets'][0]['series'][s_key]['observations']\n",
    "    df[area] = pd.Series([s_list[val][0] for val in sorted(s_list, key=int)])\n",
    "df.index = dates\n",
    "df.tail()"
   ]
  },
  {
   "cell_type": "code",
   "execution_count": null,
   "metadata": {},
   "outputs": [],
   "source": []
  },
  {
   "cell_type": "code",
   "execution_count": null,
   "metadata": {},
   "outputs": [],
   "source": []
  },
  {
   "cell_type": "markdown",
   "metadata": {},
   "source": [
    "### Example 2: Population"
   ]
  },
  {
   "cell_type": "code",
   "execution_count": 6,
   "metadata": {},
   "outputs": [],
   "source": [
    "series_key2 = 'ENA/A.N.DE+FR+IT+ES+PT+GR+NL+BE+AT+IE.W0.S1.S1._Z.POP._Z._Z._Z.PS._Z.N'"
   ]
  },
  {
   "cell_type": "code",
   "execution_count": 7,
   "metadata": {},
   "outputs": [],
   "source": [
    "url = 'https://sdw-wsrest.ecb.europa.eu/service/data/'\n",
    "# headers used as content negotiation to return data in json format\n",
    "headers = {'Accept':'application/json'}\n",
    "r = requests.get('{}{}'.format(url, series_key2), headers=headers).json()"
   ]
  },
  {
   "cell_type": "code",
   "execution_count": 8,
   "metadata": {},
   "outputs": [
    {
     "data": {
      "text/html": [
       "<div>\n",
       "<style scoped>\n",
       "    .dataframe tbody tr th:only-of-type {\n",
       "        vertical-align: middle;\n",
       "    }\n",
       "\n",
       "    .dataframe tbody tr th {\n",
       "        vertical-align: top;\n",
       "    }\n",
       "\n",
       "    .dataframe thead th {\n",
       "        text-align: right;\n",
       "    }\n",
       "</style>\n",
       "<table border=\"1\" class=\"dataframe\">\n",
       "  <thead>\n",
       "    <tr style=\"text-align: right;\">\n",
       "      <th></th>\n",
       "      <th>Austria</th>\n",
       "      <th>Belgium</th>\n",
       "      <th>Germany</th>\n",
       "      <th>Spain</th>\n",
       "      <th>France</th>\n",
       "      <th>Greece</th>\n",
       "      <th>Ireland</th>\n",
       "      <th>Italy</th>\n",
       "      <th>Netherlands</th>\n",
       "      <th>Portugal</th>\n",
       "    </tr>\n",
       "  </thead>\n",
       "  <tbody>\n",
       "    <tr>\n",
       "      <th>2014</th>\n",
       "      <td>8543.932</td>\n",
       "      <td>11180</td>\n",
       "      <td>80983</td>\n",
       "      <td>46455.123</td>\n",
       "      <td>66312</td>\n",
       "      <td>10892.369</td>\n",
       "      <td>4652.459</td>\n",
       "      <td>60789.1</td>\n",
       "      <td>16865</td>\n",
       "      <td>10401.1</td>\n",
       "    </tr>\n",
       "    <tr>\n",
       "      <th>2015</th>\n",
       "      <td>8629.519</td>\n",
       "      <td>11238</td>\n",
       "      <td>81687</td>\n",
       "      <td>46410.149</td>\n",
       "      <td>66581</td>\n",
       "      <td>10820.964</td>\n",
       "      <td>4695.769</td>\n",
       "      <td>60730.6</td>\n",
       "      <td>16940</td>\n",
       "      <td>10358.1</td>\n",
       "    </tr>\n",
       "    <tr>\n",
       "      <th>2016</th>\n",
       "      <td>8739.806</td>\n",
       "      <td>11295</td>\n",
       "      <td>82349</td>\n",
       "      <td>46449.874</td>\n",
       "      <td>66828</td>\n",
       "      <td>10775.989</td>\n",
       "      <td>4748.994</td>\n",
       "      <td>60627.5</td>\n",
       "      <td>17030</td>\n",
       "      <td>10325.5</td>\n",
       "    </tr>\n",
       "    <tr>\n",
       "      <th>2017</th>\n",
       "      <td>8795.073</td>\n",
       "      <td>11349</td>\n",
       "      <td>82657</td>\n",
       "      <td>46532.869</td>\n",
       "      <td>67063</td>\n",
       "      <td>10754.701</td>\n",
       "      <td>4802.274</td>\n",
       "      <td>60536.7</td>\n",
       "      <td>17131</td>\n",
       "      <td>10300.3</td>\n",
       "    </tr>\n",
       "    <tr>\n",
       "      <th>2018</th>\n",
       "      <td>8837.707</td>\n",
       "      <td>11404</td>\n",
       "      <td>82906</td>\n",
       "      <td>46728.962</td>\n",
       "      <td>67274</td>\n",
       "      <td>10727.560</td>\n",
       "      <td>4860.650</td>\n",
       "      <td>60421.8</td>\n",
       "      <td>17232</td>\n",
       "      <td>10283.8</td>\n",
       "    </tr>\n",
       "  </tbody>\n",
       "</table>\n",
       "</div>"
      ],
      "text/plain": [
       "       Austria  Belgium  Germany      Spain  France     Greece   Ireland  \\\n",
       "2014  8543.932    11180    80983  46455.123   66312  10892.369  4652.459   \n",
       "2015  8629.519    11238    81687  46410.149   66581  10820.964  4695.769   \n",
       "2016  8739.806    11295    82349  46449.874   66828  10775.989  4748.994   \n",
       "2017  8795.073    11349    82657  46532.869   67063  10754.701  4802.274   \n",
       "2018  8837.707    11404    82906  46728.962   67274  10727.560  4860.650   \n",
       "\n",
       "        Italy  Netherlands  Portugal  \n",
       "2014  60789.1        16865   10401.1  \n",
       "2015  60730.6        16940   10358.1  \n",
       "2016  60627.5        17030   10325.5  \n",
       "2017  60536.7        17131   10300.3  \n",
       "2018  60421.8        17232   10283.8  "
      ]
     },
     "execution_count": 8,
     "metadata": {},
     "output_type": "execute_result"
    }
   ],
   "source": [
    "date_list = r['structure']['dimensions']['observation'][0]['values']\n",
    "dates = {i: v['id'] for i, v in enumerate(date_list)}    \n",
    "areas = [v['name'] for v in r['structure']['dimensions']['series'][2]['values']]\n",
    "\n",
    "df = pd.DataFrame()\n",
    "for i, area in enumerate(areas):\n",
    "    s_key = f'0:0:{i}:0:0:0:0:0:0:0:0:0:0:0'\n",
    "    s_list = r['dataSets'][0]['series'][s_key]['observations']\n",
    "    df[area] = pd.Series({dates[int(i)]: v[0] for i, v in s_list.items()})\n",
    "df.tail()"
   ]
  },
  {
   "cell_type": "code",
   "execution_count": null,
   "metadata": {},
   "outputs": [],
   "source": []
  },
  {
   "cell_type": "code",
   "execution_count": null,
   "metadata": {},
   "outputs": [],
   "source": []
  }
 ],
 "metadata": {
  "kernelspec": {
   "display_name": "Python 3",
   "language": "python",
   "name": "python3"
  },
  "language_info": {
   "codemirror_mode": {
    "name": "ipython",
    "version": 3
   },
   "file_extension": ".py",
   "mimetype": "text/x-python",
   "name": "python",
   "nbconvert_exporter": "python",
   "pygments_lexer": "ipython3",
   "version": "3.7.5"
  }
 },
 "nbformat": 4,
 "nbformat_minor": 2
}
