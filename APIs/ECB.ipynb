{
 "cells": [
  {
   "cell_type": "markdown",
   "metadata": {},
   "source": [
    "European Central Bank (ECB) API with Python\n",
    "=====\n",
    "\n",
    "## Data on Eurozone countries\n",
    "\n",
    "-----\n",
    "\n",
    "*September 3, 2017*<br>\n",
    "*@bd_econ*\n",
    "\n",
    "ECB API Documentation is [here](https://sdw-wsrest.ecb.europa.eu/web/generator/index.html)\n",
    "\n",
    "This example requests the interest rate by country on 10-year bonds over the period since 2012."
   ]
  },
  {
   "cell_type": "code",
   "execution_count": 1,
   "metadata": {
    "ExecuteTime": {
     "end_time": "2019-01-27T10:39:24.816117Z",
     "start_time": "2019-01-27T10:39:24.515883Z"
    }
   },
   "outputs": [],
   "source": [
    "import requests\n",
    "import pandas as pd"
   ]
  },
  {
   "cell_type": "markdown",
   "metadata": {},
   "source": [
    "## Parameters/Settings\n",
    "\n",
    "List of data sets is [here](https://sdw-wsrest.ecb.europa.eu/service/dataflow)"
   ]
  },
  {
   "cell_type": "code",
   "execution_count": 2,
   "metadata": {
    "ExecuteTime": {
     "end_time": "2019-01-27T10:39:24.825032Z",
     "start_time": "2019-01-27T10:39:24.817735Z"
    }
   },
   "outputs": [],
   "source": [
    "# List of countries\n",
    "c_list = ['DE', \n",
    "          'FR', \n",
    "          'IT', \n",
    "          'ES', \n",
    "          'PT', \n",
    "          'GR', \n",
    "          'NL', \n",
    "          'BE', \n",
    "          'AT', \n",
    "          'IE']\n",
    "\n",
    "param = [('dataflow', 'IRS'),\n",
    "         ('freq', 'M'),\n",
    "         ('countries', '+'.join(c_list)),\n",
    "         ('series', 'L'),\n",
    "         ('trans type', 'L40'),\n",
    "         ('maturity cat', 'CI'),\n",
    "         ('counterpart', '0000'),\n",
    "         ('currency', 'EUR'),\n",
    "         ('business coverage', 'N'),\n",
    "         ('interest rate type', 'Z'),\n",
    "         ('start', '?startPeriod=2012-01-01')]\n",
    "\n",
    "param_joined = '.'.join(value for key, value in param[1:-1])\n",
    "\n",
    "series_key = '{}/{}{}'.format(param[0][1],\n",
    "                              param_joined,\n",
    "                              param[-1][1])"
   ]
  },
  {
   "cell_type": "markdown",
   "metadata": {},
   "source": [
    "## Request data"
   ]
  },
  {
   "cell_type": "code",
   "execution_count": 3,
   "metadata": {
    "ExecuteTime": {
     "end_time": "2019-01-27T10:39:25.793948Z",
     "start_time": "2019-01-27T10:39:24.826206Z"
    }
   },
   "outputs": [],
   "source": [
    "url = 'https://sdw-wsrest.ecb.europa.eu/service/data/'\n",
    "# headers used as content negotiation to return data in json format\n",
    "headers = {'Accept':'application/json'}\n",
    "r = requests.get('{}{}'.format(url, series_key), headers=headers).json()"
   ]
  },
  {
   "cell_type": "markdown",
   "metadata": {},
   "source": [
    "## Pandas DataFrame"
   ]
  },
  {
   "cell_type": "code",
   "execution_count": 4,
   "metadata": {
    "ExecuteTime": {
     "end_time": "2019-01-27T10:39:25.821367Z",
     "start_time": "2019-01-27T10:39:25.795579Z"
    }
   },
   "outputs": [
    {
     "data": {
      "text/html": [
       "<div>\n",
       "<style scoped>\n",
       "    .dataframe tbody tr th:only-of-type {\n",
       "        vertical-align: middle;\n",
       "    }\n",
       "\n",
       "    .dataframe tbody tr th {\n",
       "        vertical-align: top;\n",
       "    }\n",
       "\n",
       "    .dataframe thead th {\n",
       "        text-align: right;\n",
       "    }\n",
       "</style>\n",
       "<table border=\"1\" class=\"dataframe\">\n",
       "  <thead>\n",
       "    <tr style=\"text-align: right;\">\n",
       "      <th></th>\n",
       "      <th>Austria</th>\n",
       "      <th>Belgium</th>\n",
       "      <th>Germany</th>\n",
       "      <th>Spain</th>\n",
       "      <th>France</th>\n",
       "      <th>Greece</th>\n",
       "      <th>Ireland</th>\n",
       "      <th>Italy</th>\n",
       "      <th>Netherlands</th>\n",
       "      <th>Portugal</th>\n",
       "    </tr>\n",
       "  </thead>\n",
       "  <tbody>\n",
       "    <tr>\n",
       "      <th>2018-08-01</th>\n",
       "      <td>0.5973</td>\n",
       "      <td>0.71</td>\n",
       "      <td>0.29</td>\n",
       "      <td>1.396</td>\n",
       "      <td>0.70</td>\n",
       "      <td>4.18</td>\n",
       "      <td>0.86</td>\n",
       "      <td>3.161</td>\n",
       "      <td>0.473</td>\n",
       "      <td>1.819</td>\n",
       "    </tr>\n",
       "    <tr>\n",
       "      <th>2018-09-01</th>\n",
       "      <td>0.6654</td>\n",
       "      <td>0.77</td>\n",
       "      <td>0.37</td>\n",
       "      <td>1.459</td>\n",
       "      <td>0.77</td>\n",
       "      <td>4.17</td>\n",
       "      <td>0.93</td>\n",
       "      <td>2.959</td>\n",
       "      <td>0.551</td>\n",
       "      <td>1.881</td>\n",
       "    </tr>\n",
       "    <tr>\n",
       "      <th>2018-10-01</th>\n",
       "      <td>0.6875</td>\n",
       "      <td>0.85</td>\n",
       "      <td>0.40</td>\n",
       "      <td>1.595</td>\n",
       "      <td>0.82</td>\n",
       "      <td>4.37</td>\n",
       "      <td>1.01</td>\n",
       "      <td>3.469</td>\n",
       "      <td>0.582</td>\n",
       "      <td>1.957</td>\n",
       "    </tr>\n",
       "    <tr>\n",
       "      <th>2018-11-01</th>\n",
       "      <td>0.6201</td>\n",
       "      <td>0.81</td>\n",
       "      <td>0.31</td>\n",
       "      <td>1.587</td>\n",
       "      <td>0.76</td>\n",
       "      <td>4.42</td>\n",
       "      <td>0.98</td>\n",
       "      <td>3.390</td>\n",
       "      <td>0.518</td>\n",
       "      <td>1.924</td>\n",
       "    </tr>\n",
       "    <tr>\n",
       "      <th>2018-12-01</th>\n",
       "      <td>0.5198</td>\n",
       "      <td>0.75</td>\n",
       "      <td>0.19</td>\n",
       "      <td>1.423</td>\n",
       "      <td>0.70</td>\n",
       "      <td>4.28</td>\n",
       "      <td>0.91</td>\n",
       "      <td>2.975</td>\n",
       "      <td>0.401</td>\n",
       "      <td>1.725</td>\n",
       "    </tr>\n",
       "  </tbody>\n",
       "</table>\n",
       "</div>"
      ],
      "text/plain": [
       "            Austria  Belgium  Germany  Spain  France  Greece  Ireland  Italy  \\\n",
       "2018-08-01   0.5973     0.71     0.29  1.396    0.70    4.18     0.86  3.161   \n",
       "2018-09-01   0.6654     0.77     0.37  1.459    0.77    4.17     0.93  2.959   \n",
       "2018-10-01   0.6875     0.85     0.40  1.595    0.82    4.37     1.01  3.469   \n",
       "2018-11-01   0.6201     0.81     0.31  1.587    0.76    4.42     0.98  3.390   \n",
       "2018-12-01   0.5198     0.75     0.19  1.423    0.70    4.28     0.91  2.975   \n",
       "\n",
       "            Netherlands  Portugal  \n",
       "2018-08-01        0.473     1.819  \n",
       "2018-09-01        0.551     1.881  \n",
       "2018-10-01        0.582     1.957  \n",
       "2018-11-01        0.518     1.924  \n",
       "2018-12-01        0.401     1.725  "
      ]
     },
     "execution_count": 4,
     "metadata": {},
     "output_type": "execute_result"
    }
   ],
   "source": [
    "date_list = r['structure']['dimensions']['observation'][0]['values']\n",
    "dates = [date['start'][:10] for date in date_list]\n",
    "    \n",
    "areas = [v['name'] for v in r['structure']['dimensions']['series'][1]['values']]\n",
    "\n",
    "df = pd.DataFrame()\n",
    "for i, area in enumerate(areas):\n",
    "    s_key = '0:{}:0:0:0:0:0:0:0'.format(i)\n",
    "    s_list = r['dataSets'][0]['series'][s_key]['observations']\n",
    "    df[area] = pd.Series([s_list[val][0] for val in sorted(s_list, key=int)])\n",
    "df.index = dates\n",
    "df.tail()"
   ]
  }
 ],
 "metadata": {
  "kernelspec": {
   "display_name": "Python 3",
   "language": "python",
   "name": "python3"
  },
  "language_info": {
   "codemirror_mode": {
    "name": "ipython",
    "version": 3
   },
   "file_extension": ".py",
   "mimetype": "text/x-python",
   "name": "python",
   "nbconvert_exporter": "python",
   "pygments_lexer": "ipython3",
   "version": "3.7.2"
  }
 },
 "nbformat": 4,
 "nbformat_minor": 2
}
