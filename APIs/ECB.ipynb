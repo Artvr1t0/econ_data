{
 "cells": [
  {
   "cell_type": "markdown",
   "metadata": {},
   "source": [
    "European Central Bank (ECB) API with Python\n",
    "=====\n",
    "\n",
    "## Data on Eurozone countries\n",
    "\n",
    "-----\n",
    "\n",
    "*December 14, 2019*<br>\n",
    "*@bd_econ*\n",
    "\n",
    "ECB API Documentation is [here](https://sdw-wsrest.ecb.europa.eu/help/)\n",
    "\n",
    "This example requests the interest rate by country on 10-year bonds over the period since 2012.\n",
    "\n",
    "You can read the output from the ECB API (as json data, so with some patience) in a web browser, to better understand what my code below is doing."
   ]
  },
  {
   "cell_type": "code",
   "execution_count": 1,
   "metadata": {
    "ExecuteTime": {
     "end_time": "2019-01-27T10:39:24.816117Z",
     "start_time": "2019-01-27T10:39:24.515883Z"
    }
   },
   "outputs": [],
   "source": [
    "import requests\n",
    "import pandas as pd"
   ]
  },
  {
   "cell_type": "markdown",
   "metadata": {},
   "source": [
    "## Parameters/Settings\n",
    "\n",
    "List of data sets is [here](https://sdw-wsrest.ecb.europa.eu/service/dataflow).\n",
    "\n",
    "You can also find the `series_key` from searching the [Statistics Data Warehouse](https://sdw.ecb.europa.eu/home.do)."
   ]
  },
  {
   "cell_type": "code",
   "execution_count": 2,
   "metadata": {
    "ExecuteTime": {
     "end_time": "2019-01-27T10:39:24.825032Z",
     "start_time": "2019-01-27T10:39:24.817735Z"
    }
   },
   "outputs": [],
   "source": [
    "# List of countries\n",
    "c_list = ['DE', \n",
    "          'FR', \n",
    "          'IT', \n",
    "          'ES', \n",
    "          'PT', \n",
    "          'GR', \n",
    "          'NL', \n",
    "          'BE', \n",
    "          'AT', \n",
    "          'IE']\n",
    "\n",
    "param = [('dataflow', 'IRS'),\n",
    "         ('freq', 'M'),\n",
    "         ('countries', '+'.join(c_list)),\n",
    "         ('series', 'L'),\n",
    "         ('trans type', 'L40'),\n",
    "         ('maturity cat', 'CI'),\n",
    "         ('counterpart', '0000'),\n",
    "         ('currency', 'EUR'),\n",
    "         ('business coverage', 'N'),\n",
    "         ('interest rate type', 'Z'),\n",
    "         ('start', '?startPeriod=2012-01-01')]\n",
    "\n",
    "param_joined = '.'.join(value for key, value in param[1:-1])\n",
    "\n",
    "series_key = '{}/{}{}'.format(param[0][1],\n",
    "                              param_joined,\n",
    "                              param[-1][1])"
   ]
  },
  {
   "cell_type": "code",
   "execution_count": 3,
   "metadata": {},
   "outputs": [
    {
     "name": "stdout",
     "output_type": "stream",
     "text": [
      "IRS/M.DE+FR+IT+ES+PT+GR+NL+BE+AT+IE.L.L40.CI.0000.EUR.N.Z?startPeriod=2012-01-01\n"
     ]
    }
   ],
   "source": [
    "print(series_key)"
   ]
  },
  {
   "cell_type": "markdown",
   "metadata": {},
   "source": [
    "## Request data"
   ]
  },
  {
   "cell_type": "code",
   "execution_count": 4,
   "metadata": {
    "ExecuteTime": {
     "end_time": "2019-01-27T10:39:25.793948Z",
     "start_time": "2019-01-27T10:39:24.826206Z"
    }
   },
   "outputs": [],
   "source": [
    "url = 'https://sdw-wsrest.ecb.europa.eu/service/data/'\n",
    "# headers used as content negotiation to return data in json format\n",
    "headers = {'Accept':'application/json'}\n",
    "r = requests.get('{}{}'.format(url, series_key), headers=headers).json()"
   ]
  },
  {
   "cell_type": "markdown",
   "metadata": {},
   "source": [
    "## Pandas DataFrame"
   ]
  },
  {
   "cell_type": "code",
   "execution_count": 5,
   "metadata": {
    "ExecuteTime": {
     "end_time": "2019-01-27T10:39:25.821367Z",
     "start_time": "2019-01-27T10:39:25.795579Z"
    }
   },
   "outputs": [
    {
     "data": {
      "text/html": [
       "<div>\n",
       "<style scoped>\n",
       "    .dataframe tbody tr th:only-of-type {\n",
       "        vertical-align: middle;\n",
       "    }\n",
       "\n",
       "    .dataframe tbody tr th {\n",
       "        vertical-align: top;\n",
       "    }\n",
       "\n",
       "    .dataframe thead th {\n",
       "        text-align: right;\n",
       "    }\n",
       "</style>\n",
       "<table border=\"1\" class=\"dataframe\">\n",
       "  <thead>\n",
       "    <tr style=\"text-align: right;\">\n",
       "      <th></th>\n",
       "      <th>Austria</th>\n",
       "      <th>Belgium</th>\n",
       "      <th>Germany</th>\n",
       "      <th>Spain</th>\n",
       "      <th>France</th>\n",
       "      <th>Greece</th>\n",
       "      <th>Ireland</th>\n",
       "      <th>Italy</th>\n",
       "      <th>Netherlands</th>\n",
       "      <th>Portugal</th>\n",
       "    </tr>\n",
       "  </thead>\n",
       "  <tbody>\n",
       "    <tr>\n",
       "      <th>2020-02-01</th>\n",
       "      <td>-0.2574</td>\n",
       "      <td>-0.13</td>\n",
       "      <td>-0.470</td>\n",
       "      <td>0.272</td>\n",
       "      <td>-0.18</td>\n",
       "      <td>1.07</td>\n",
       "      <td>-0.1310</td>\n",
       "      <td>0.955</td>\n",
       "      <td>-0.335</td>\n",
       "      <td>0.247</td>\n",
       "    </tr>\n",
       "    <tr>\n",
       "      <th>2020-03-01</th>\n",
       "      <td>-0.0938</td>\n",
       "      <td>-0.02</td>\n",
       "      <td>-0.540</td>\n",
       "      <td>0.523</td>\n",
       "      <td>-0.06</td>\n",
       "      <td>1.97</td>\n",
       "      <td>0.0700</td>\n",
       "      <td>1.551</td>\n",
       "      <td>-0.326</td>\n",
       "      <td>0.706</td>\n",
       "    </tr>\n",
       "    <tr>\n",
       "      <th>2020-04-01</th>\n",
       "      <td>0.0458</td>\n",
       "      <td>0.14</td>\n",
       "      <td>-0.450</td>\n",
       "      <td>0.824</td>\n",
       "      <td>0.06</td>\n",
       "      <td>2.05</td>\n",
       "      <td>0.2012</td>\n",
       "      <td>1.799</td>\n",
       "      <td>-0.218</td>\n",
       "      <td>0.968</td>\n",
       "    </tr>\n",
       "    <tr>\n",
       "      <th>2020-05-01</th>\n",
       "      <td>-0.0974</td>\n",
       "      <td>0.04</td>\n",
       "      <td>-0.516</td>\n",
       "      <td>0.742</td>\n",
       "      <td>-0.03</td>\n",
       "      <td>1.93</td>\n",
       "      <td>0.1072</td>\n",
       "      <td>1.762</td>\n",
       "      <td>-0.312</td>\n",
       "      <td>0.808</td>\n",
       "    </tr>\n",
       "    <tr>\n",
       "      <th>2020-06-01</th>\n",
       "      <td>-0.1309</td>\n",
       "      <td>-0.04</td>\n",
       "      <td>-0.434</td>\n",
       "      <td>0.511</td>\n",
       "      <td>-0.04</td>\n",
       "      <td>1.32</td>\n",
       "      <td>0.0835</td>\n",
       "      <td>1.455</td>\n",
       "      <td>-0.293</td>\n",
       "      <td>0.527</td>\n",
       "    </tr>\n",
       "  </tbody>\n",
       "</table>\n",
       "</div>"
      ],
      "text/plain": [
       "            Austria  Belgium  Germany  Spain  France  Greece  Ireland  Italy  \\\n",
       "2020-02-01  -0.2574    -0.13   -0.470  0.272   -0.18    1.07  -0.1310  0.955   \n",
       "2020-03-01  -0.0938    -0.02   -0.540  0.523   -0.06    1.97   0.0700  1.551   \n",
       "2020-04-01   0.0458     0.14   -0.450  0.824    0.06    2.05   0.2012  1.799   \n",
       "2020-05-01  -0.0974     0.04   -0.516  0.742   -0.03    1.93   0.1072  1.762   \n",
       "2020-06-01  -0.1309    -0.04   -0.434  0.511   -0.04    1.32   0.0835  1.455   \n",
       "\n",
       "            Netherlands  Portugal  \n",
       "2020-02-01       -0.335     0.247  \n",
       "2020-03-01       -0.326     0.706  \n",
       "2020-04-01       -0.218     0.968  \n",
       "2020-05-01       -0.312     0.808  \n",
       "2020-06-01       -0.293     0.527  "
      ]
     },
     "execution_count": 5,
     "metadata": {},
     "output_type": "execute_result"
    }
   ],
   "source": [
    "date_list = r['structure']['dimensions']['observation'][0]['values']\n",
    "dates = [date['start'][:10] for date in date_list]\n",
    "    \n",
    "areas = [v['name'] for v in r['structure']['dimensions']['series'][1]['values']]\n",
    "\n",
    "df = pd.DataFrame()\n",
    "for i, area in enumerate(areas):\n",
    "    s_key = '0:{}:0:0:0:0:0:0:0'.format(i)\n",
    "    s_list = r['dataSets'][0]['series'][s_key]['observations']\n",
    "    df[area] = pd.Series([s_list[val][0] for val in sorted(s_list, key=int)])\n",
    "df.index = dates\n",
    "df.tail()"
   ]
  },
  {
   "cell_type": "code",
   "execution_count": null,
   "metadata": {},
   "outputs": [],
   "source": []
  },
  {
   "cell_type": "code",
   "execution_count": null,
   "metadata": {},
   "outputs": [],
   "source": []
  },
  {
   "cell_type": "markdown",
   "metadata": {},
   "source": [
    "### Example 2: Population"
   ]
  },
  {
   "cell_type": "code",
   "execution_count": 6,
   "metadata": {},
   "outputs": [],
   "source": [
    "series_key2 = 'ENA/A.N.DE+FR+IT+ES+PT+GR+NL+BE+AT+IE.W0.S1.S1._Z.POP._Z._Z._Z.PS._Z.N'"
   ]
  },
  {
   "cell_type": "code",
   "execution_count": 7,
   "metadata": {},
   "outputs": [],
   "source": [
    "url = 'https://sdw-wsrest.ecb.europa.eu/service/data/'\n",
    "# headers used as content negotiation to return data in json format\n",
    "headers = {'Accept':'application/json'}\n",
    "r = requests.get(f'{url}{series_key2}', headers=headers).json()"
   ]
  },
  {
   "cell_type": "code",
   "execution_count": 8,
   "metadata": {},
   "outputs": [
    {
     "data": {
      "text/html": [
       "<div>\n",
       "<style scoped>\n",
       "    .dataframe tbody tr th:only-of-type {\n",
       "        vertical-align: middle;\n",
       "    }\n",
       "\n",
       "    .dataframe tbody tr th {\n",
       "        vertical-align: top;\n",
       "    }\n",
       "\n",
       "    .dataframe thead th {\n",
       "        text-align: right;\n",
       "    }\n",
       "</style>\n",
       "<table border=\"1\" class=\"dataframe\">\n",
       "  <thead>\n",
       "    <tr style=\"text-align: right;\">\n",
       "      <th></th>\n",
       "      <th>Austria</th>\n",
       "      <th>Belgium</th>\n",
       "      <th>Germany</th>\n",
       "      <th>Spain</th>\n",
       "      <th>France</th>\n",
       "      <th>Greece</th>\n",
       "      <th>Ireland</th>\n",
       "      <th>Italy</th>\n",
       "      <th>Netherlands</th>\n",
       "      <th>Portugal</th>\n",
       "    </tr>\n",
       "  </thead>\n",
       "  <tbody>\n",
       "    <tr>\n",
       "      <th>2015</th>\n",
       "      <td>8629.519</td>\n",
       "      <td>11274</td>\n",
       "      <td>81687</td>\n",
       "      <td>46410.149</td>\n",
       "      <td>66581</td>\n",
       "      <td>10820.964</td>\n",
       "      <td>4695.769</td>\n",
       "      <td>60730.6</td>\n",
       "      <td>16940</td>\n",
       "      <td>10358.1</td>\n",
       "    </tr>\n",
       "    <tr>\n",
       "      <th>2016</th>\n",
       "      <td>8739.806</td>\n",
       "      <td>11331</td>\n",
       "      <td>82349</td>\n",
       "      <td>46449.874</td>\n",
       "      <td>66831</td>\n",
       "      <td>10775.989</td>\n",
       "      <td>4748.994</td>\n",
       "      <td>60627.5</td>\n",
       "      <td>17030</td>\n",
       "      <td>10325.5</td>\n",
       "    </tr>\n",
       "    <tr>\n",
       "      <th>2017</th>\n",
       "      <td>8795.073</td>\n",
       "      <td>11375</td>\n",
       "      <td>82657</td>\n",
       "      <td>46532.869</td>\n",
       "      <td>67063</td>\n",
       "      <td>10754.701</td>\n",
       "      <td>4802.274</td>\n",
       "      <td>60536.7</td>\n",
       "      <td>17131</td>\n",
       "      <td>10300.3</td>\n",
       "    </tr>\n",
       "    <tr>\n",
       "      <th>2018</th>\n",
       "      <td>8837.707</td>\n",
       "      <td>11427</td>\n",
       "      <td>82906</td>\n",
       "      <td>46728.962</td>\n",
       "      <td>67265</td>\n",
       "      <td>10732.894</td>\n",
       "      <td>4860.650</td>\n",
       "      <td>60458.7</td>\n",
       "      <td>17232</td>\n",
       "      <td>10283.8</td>\n",
       "    </tr>\n",
       "    <tr>\n",
       "      <th>2019</th>\n",
       "      <td>8875.607</td>\n",
       "      <td>11484</td>\n",
       "      <td>83093</td>\n",
       "      <td>47100.396</td>\n",
       "      <td>67456</td>\n",
       "      <td>10711.722</td>\n",
       "      <td>4927.173</td>\n",
       "      <td>60375.2</td>\n",
       "      <td>17345</td>\n",
       "      <td>10286.3</td>\n",
       "    </tr>\n",
       "  </tbody>\n",
       "</table>\n",
       "</div>"
      ],
      "text/plain": [
       "       Austria  Belgium  Germany      Spain  France     Greece   Ireland  \\\n",
       "2015  8629.519    11274    81687  46410.149   66581  10820.964  4695.769   \n",
       "2016  8739.806    11331    82349  46449.874   66831  10775.989  4748.994   \n",
       "2017  8795.073    11375    82657  46532.869   67063  10754.701  4802.274   \n",
       "2018  8837.707    11427    82906  46728.962   67265  10732.894  4860.650   \n",
       "2019  8875.607    11484    83093  47100.396   67456  10711.722  4927.173   \n",
       "\n",
       "        Italy  Netherlands  Portugal  \n",
       "2015  60730.6        16940   10358.1  \n",
       "2016  60627.5        17030   10325.5  \n",
       "2017  60536.7        17131   10300.3  \n",
       "2018  60458.7        17232   10283.8  \n",
       "2019  60375.2        17345   10286.3  "
      ]
     },
     "execution_count": 8,
     "metadata": {},
     "output_type": "execute_result"
    }
   ],
   "source": [
    "date_list = r['structure']['dimensions']['observation'][0]['values']\n",
    "dates = {i: v['id'] for i, v in enumerate(date_list)}    \n",
    "areas = [v['name'] for v in r['structure']['dimensions']['series'][2]['values']]\n",
    "\n",
    "df = pd.DataFrame()\n",
    "for i, area in enumerate(areas):\n",
    "    s_key = f'0:0:{i}:0:0:0:0:0:0:0:0:0:0:0'\n",
    "    s_list = r['dataSets'][0]['series'][s_key]['observations']\n",
    "    df[area] = pd.Series({dates[int(i)]: v[0] for i, v in s_list.items()})\n",
    "df.tail()"
   ]
  },
  {
   "cell_type": "code",
   "execution_count": null,
   "metadata": {},
   "outputs": [],
   "source": []
  },
  {
   "cell_type": "markdown",
   "metadata": {},
   "source": [
    "### Unemployment Rate"
   ]
  },
  {
   "cell_type": "code",
   "execution_count": 9,
   "metadata": {},
   "outputs": [],
   "source": [
    "series_key3 = 'AME/A.DEU+FRA+ITA+ESP+PRT+GRC+NLD+BEL+AUT+IRL.1.0.0.0.ZUTN'\n",
    "url = 'https://sdw-wsrest.ecb.europa.eu/service/data/'\n",
    "# headers used as content negotiation to return data in json format\n",
    "headers = {'Accept':'application/json'}\n",
    "r = requests.get(f'{url}{series_key3}', headers=headers).json()"
   ]
  },
  {
   "cell_type": "code",
   "execution_count": 10,
   "metadata": {},
   "outputs": [
    {
     "data": {
      "text/html": [
       "<div>\n",
       "<style scoped>\n",
       "    .dataframe tbody tr th:only-of-type {\n",
       "        vertical-align: middle;\n",
       "    }\n",
       "\n",
       "    .dataframe tbody tr th {\n",
       "        vertical-align: top;\n",
       "    }\n",
       "\n",
       "    .dataframe thead th {\n",
       "        text-align: right;\n",
       "    }\n",
       "</style>\n",
       "<table border=\"1\" class=\"dataframe\">\n",
       "  <thead>\n",
       "    <tr style=\"text-align: right;\">\n",
       "      <th></th>\n",
       "      <th>Austria</th>\n",
       "      <th>Belgium</th>\n",
       "      <th>FR. Germany</th>\n",
       "      <th>Spain</th>\n",
       "      <th>France</th>\n",
       "      <th>Greece</th>\n",
       "      <th>Ireland</th>\n",
       "      <th>Italy</th>\n",
       "      <th>Netherlands</th>\n",
       "      <th>Portugal</th>\n",
       "    </tr>\n",
       "  </thead>\n",
       "  <tbody>\n",
       "    <tr>\n",
       "      <th>2016</th>\n",
       "      <td>6.0</td>\n",
       "      <td>7.8</td>\n",
       "      <td>4.1</td>\n",
       "      <td>19.6</td>\n",
       "      <td>10.1</td>\n",
       "      <td>23.6</td>\n",
       "      <td>8.4</td>\n",
       "      <td>11.7</td>\n",
       "      <td>6.0</td>\n",
       "      <td>11.2</td>\n",
       "    </tr>\n",
       "    <tr>\n",
       "      <th>2017</th>\n",
       "      <td>5.5</td>\n",
       "      <td>7.1</td>\n",
       "      <td>3.8</td>\n",
       "      <td>17.2</td>\n",
       "      <td>9.4</td>\n",
       "      <td>21.5</td>\n",
       "      <td>6.7</td>\n",
       "      <td>11.2</td>\n",
       "      <td>4.9</td>\n",
       "      <td>9.0</td>\n",
       "    </tr>\n",
       "    <tr>\n",
       "      <th>2018</th>\n",
       "      <td>4.8</td>\n",
       "      <td>6.4</td>\n",
       "      <td>3.5</td>\n",
       "      <td>15.6</td>\n",
       "      <td>9.0</td>\n",
       "      <td>19.6</td>\n",
       "      <td>5.6</td>\n",
       "      <td>10.7</td>\n",
       "      <td>3.9</td>\n",
       "      <td>7.1</td>\n",
       "    </tr>\n",
       "    <tr>\n",
       "      <th>2019</th>\n",
       "      <td>4.6</td>\n",
       "      <td>6.1</td>\n",
       "      <td>3.2</td>\n",
       "      <td>14.4</td>\n",
       "      <td>8.8</td>\n",
       "      <td>18.2</td>\n",
       "      <td>5.1</td>\n",
       "      <td>10.4</td>\n",
       "      <td>3.6</td>\n",
       "      <td>6.3</td>\n",
       "    </tr>\n",
       "    <tr>\n",
       "      <th>2020</th>\n",
       "      <td>4.4</td>\n",
       "      <td>5.9</td>\n",
       "      <td>3.0</td>\n",
       "      <td>13.3</td>\n",
       "      <td>8.4</td>\n",
       "      <td>16.9</td>\n",
       "      <td>4.9</td>\n",
       "      <td>10.0</td>\n",
       "      <td>3.6</td>\n",
       "      <td>5.9</td>\n",
       "    </tr>\n",
       "  </tbody>\n",
       "</table>\n",
       "</div>"
      ],
      "text/plain": [
       "      Austria  Belgium  FR. Germany  Spain  France  Greece  Ireland  Italy  \\\n",
       "2016      6.0      7.8          4.1   19.6    10.1    23.6      8.4   11.7   \n",
       "2017      5.5      7.1          3.8   17.2     9.4    21.5      6.7   11.2   \n",
       "2018      4.8      6.4          3.5   15.6     9.0    19.6      5.6   10.7   \n",
       "2019      4.6      6.1          3.2   14.4     8.8    18.2      5.1   10.4   \n",
       "2020      4.4      5.9          3.0   13.3     8.4    16.9      4.9   10.0   \n",
       "\n",
       "      Netherlands  Portugal  \n",
       "2016          6.0      11.2  \n",
       "2017          4.9       9.0  \n",
       "2018          3.9       7.1  \n",
       "2019          3.6       6.3  \n",
       "2020          3.6       5.9  "
      ]
     },
     "execution_count": 10,
     "metadata": {},
     "output_type": "execute_result"
    }
   ],
   "source": [
    "date_list = r['structure']['dimensions']['observation'][0]['values']\n",
    "dates = {i: v['id'] for i, v in enumerate(date_list)}    \n",
    "areas = [v['name'] for v in r['structure']['dimensions']['series'][1]['values']]\n",
    "\n",
    "df = pd.DataFrame()\n",
    "for i, area in enumerate(areas):\n",
    "    s_key = f'0:{i}:0:0:0:0:0'\n",
    "    s_list = r['dataSets'][0]['series'][s_key]['observations']\n",
    "    df[area] = pd.Series({dates[int(i)]: v[0] for i, v in s_list.items()})\n",
    "df.tail()"
   ]
  },
  {
   "cell_type": "code",
   "execution_count": null,
   "metadata": {},
   "outputs": [],
   "source": []
  }
 ],
 "metadata": {
  "kernelspec": {
   "display_name": "Python 3",
   "language": "python",
   "name": "python3"
  },
  "language_info": {
   "codemirror_mode": {
    "name": "ipython",
    "version": 3
   },
   "file_extension": ".py",
   "mimetype": "text/x-python",
   "name": "python",
   "nbconvert_exporter": "python",
   "pygments_lexer": "ipython3",
   "version": "3.8.5"
  }
 },
 "nbformat": 4,
 "nbformat_minor": 2
}
