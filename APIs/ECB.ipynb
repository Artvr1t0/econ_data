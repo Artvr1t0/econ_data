{
 "cells": [
  {
   "cell_type": "markdown",
   "metadata": {},
   "source": [
    "European Central Bank (ECB) API with Python\n",
    "=====\n",
    "\n",
    "## Data on Eurozone countries\n",
    "\n",
    "-----\n",
    "\n",
    "*September 3, 2017*<br>\n",
    "*@bd_econ*\n",
    "\n",
    "ECB API Documentation is [here](https://sdw-wsrest.ecb.europa.eu/web/generator/index.html)\n",
    "\n",
    "This example requests the interest rate by country on 10-year bonds over the period since 2012."
   ]
  },
  {
   "cell_type": "code",
   "execution_count": 1,
   "metadata": {
    "ExecuteTime": {
     "end_time": "2018-06-09T18:11:42.263663Z",
     "start_time": "2018-06-09T18:11:41.780779Z"
    }
   },
   "outputs": [],
   "source": [
    "import requests\n",
    "import pandas as pd"
   ]
  },
  {
   "cell_type": "markdown",
   "metadata": {},
   "source": [
    "## Parameters/Settings\n",
    "\n",
    "List of data sets is [here](https://sdw-wsrest.ecb.europa.eu/service/dataflow)"
   ]
  },
  {
   "cell_type": "code",
   "execution_count": 2,
   "metadata": {
    "ExecuteTime": {
     "end_time": "2018-06-09T18:11:42.273667Z",
     "start_time": "2018-06-09T18:11:42.264669Z"
    }
   },
   "outputs": [],
   "source": [
    "# List of countries\n",
    "c_list = ['DE', \n",
    "          'FR', \n",
    "          'IT', \n",
    "          'ES', \n",
    "          'PT', \n",
    "          'GR', \n",
    "          'NL', \n",
    "          'BE', \n",
    "          'AT', \n",
    "          'IE']\n",
    "\n",
    "param = [('dataflow', 'IRS'),\n",
    "         ('freq', 'M'),\n",
    "         ('countries', '+'.join(c_list)),\n",
    "         ('series', 'L'),\n",
    "         ('trans type', 'L40'),\n",
    "         ('maturity cat', 'CI'),\n",
    "         ('counterpart', '0000'),\n",
    "         ('currency', 'EUR'),\n",
    "         ('business coverage', 'N'),\n",
    "         ('interest rate type', 'Z'),\n",
    "         ('start', '?startPeriod=2012-01-01')]\n",
    "\n",
    "param_joined = '.'.join(value for key, value in param[1:-1])\n",
    "\n",
    "series_key = '{}/{}{}'.format(param[0][1],\n",
    "                              param_joined,\n",
    "                              param[-1][1])"
   ]
  },
  {
   "cell_type": "markdown",
   "metadata": {},
   "source": [
    "## Request data"
   ]
  },
  {
   "cell_type": "code",
   "execution_count": 3,
   "metadata": {
    "ExecuteTime": {
     "end_time": "2018-06-09T18:11:43.213072Z",
     "start_time": "2018-06-09T18:11:42.275657Z"
    }
   },
   "outputs": [],
   "source": [
    "url = 'https://sdw-wsrest.ecb.europa.eu/service/data/'\n",
    "# headers used as content negotiation to return data in json format\n",
    "headers = {'Accept':'application/json'}\n",
    "r = requests.get('{}{}'.format(url, series_key), headers=headers).json()"
   ]
  },
  {
   "cell_type": "markdown",
   "metadata": {},
   "source": [
    "## Pandas DataFrame"
   ]
  },
  {
   "cell_type": "code",
   "execution_count": 4,
   "metadata": {
    "ExecuteTime": {
     "end_time": "2018-06-09T18:11:43.248076Z",
     "start_time": "2018-06-09T18:11:43.214071Z"
    }
   },
   "outputs": [
    {
     "data": {
      "text/html": [
       "<div>\n",
       "<style scoped>\n",
       "    .dataframe tbody tr th:only-of-type {\n",
       "        vertical-align: middle;\n",
       "    }\n",
       "\n",
       "    .dataframe tbody tr th {\n",
       "        vertical-align: top;\n",
       "    }\n",
       "\n",
       "    .dataframe thead th {\n",
       "        text-align: right;\n",
       "    }\n",
       "</style>\n",
       "<table border=\"1\" class=\"dataframe\">\n",
       "  <thead>\n",
       "    <tr style=\"text-align: right;\">\n",
       "      <th></th>\n",
       "      <th>Austria</th>\n",
       "      <th>Belgium</th>\n",
       "      <th>Germany</th>\n",
       "      <th>Spain</th>\n",
       "      <th>France</th>\n",
       "      <th>Greece</th>\n",
       "      <th>Ireland</th>\n",
       "      <th>Italy</th>\n",
       "      <th>Netherlands</th>\n",
       "      <th>Portugal</th>\n",
       "    </tr>\n",
       "  </thead>\n",
       "  <tbody>\n",
       "    <tr>\n",
       "      <th>2017-12-01</th>\n",
       "      <td>0.5027</td>\n",
       "      <td>0.53</td>\n",
       "      <td>0.30</td>\n",
       "      <td>1.443</td>\n",
       "      <td>0.67</td>\n",
       "      <td>4.44</td>\n",
       "      <td>0.54</td>\n",
       "      <td>1.795</td>\n",
       "      <td>0.452</td>\n",
       "      <td>1.828</td>\n",
       "    </tr>\n",
       "    <tr>\n",
       "      <th>2018-01-01</th>\n",
       "      <td>0.6692</td>\n",
       "      <td>0.70</td>\n",
       "      <td>0.47</td>\n",
       "      <td>1.473</td>\n",
       "      <td>0.86</td>\n",
       "      <td>3.79</td>\n",
       "      <td>0.91</td>\n",
       "      <td>1.984</td>\n",
       "      <td>0.611</td>\n",
       "      <td>1.846</td>\n",
       "    </tr>\n",
       "    <tr>\n",
       "      <th>2018-02-01</th>\n",
       "      <td>0.8357</td>\n",
       "      <td>0.97</td>\n",
       "      <td>0.66</td>\n",
       "      <td>1.509</td>\n",
       "      <td>0.98</td>\n",
       "      <td>4.14</td>\n",
       "      <td>1.13</td>\n",
       "      <td>2.081</td>\n",
       "      <td>0.761</td>\n",
       "      <td>2.032</td>\n",
       "    </tr>\n",
       "    <tr>\n",
       "      <th>2018-03-01</th>\n",
       "      <td>0.8134</td>\n",
       "      <td>0.87</td>\n",
       "      <td>0.53</td>\n",
       "      <td>1.334</td>\n",
       "      <td>0.84</td>\n",
       "      <td>4.27</td>\n",
       "      <td>1.01</td>\n",
       "      <td>1.965</td>\n",
       "      <td>0.626</td>\n",
       "      <td>1.790</td>\n",
       "    </tr>\n",
       "    <tr>\n",
       "      <th>2018-04-01</th>\n",
       "      <td>0.7625</td>\n",
       "      <td>0.81</td>\n",
       "      <td>0.48</td>\n",
       "      <td>1.206</td>\n",
       "      <td>0.78</td>\n",
       "      <td>4.04</td>\n",
       "      <td>0.94</td>\n",
       "      <td>1.773</td>\n",
       "      <td>0.690</td>\n",
       "      <td>1.662</td>\n",
       "    </tr>\n",
       "  </tbody>\n",
       "</table>\n",
       "</div>"
      ],
      "text/plain": [
       "            Austria  Belgium  Germany  Spain  France  Greece  Ireland  Italy  \\\n",
       "2017-12-01   0.5027     0.53     0.30  1.443    0.67    4.44     0.54  1.795   \n",
       "2018-01-01   0.6692     0.70     0.47  1.473    0.86    3.79     0.91  1.984   \n",
       "2018-02-01   0.8357     0.97     0.66  1.509    0.98    4.14     1.13  2.081   \n",
       "2018-03-01   0.8134     0.87     0.53  1.334    0.84    4.27     1.01  1.965   \n",
       "2018-04-01   0.7625     0.81     0.48  1.206    0.78    4.04     0.94  1.773   \n",
       "\n",
       "            Netherlands  Portugal  \n",
       "2017-12-01        0.452     1.828  \n",
       "2018-01-01        0.611     1.846  \n",
       "2018-02-01        0.761     2.032  \n",
       "2018-03-01        0.626     1.790  \n",
       "2018-04-01        0.690     1.662  "
      ]
     },
     "execution_count": 4,
     "metadata": {},
     "output_type": "execute_result"
    }
   ],
   "source": [
    "date_list = r['structure']['dimensions']['observation'][0]['values']\n",
    "dates = [date['start'][:10] for date in date_list]\n",
    "    \n",
    "areas = [v['name'] for v in r['structure']['dimensions']['series'][1]['values']]\n",
    "\n",
    "df = pd.DataFrame()\n",
    "for i, area in enumerate(areas):\n",
    "    s_key = '0:{}:0:0:0:0:0:0:0'.format(i)\n",
    "    s_list = r['dataSets'][0]['series'][s_key]['observations']\n",
    "    df[area] = pd.Series([s_list[val][0] for val in sorted(s_list, key=int)])\n",
    "df.index = dates\n",
    "df.tail()"
   ]
  }
 ],
 "metadata": {
  "kernelspec": {
   "display_name": "Python 3",
   "language": "python",
   "name": "python3"
  },
  "language_info": {
   "codemirror_mode": {
    "name": "ipython",
    "version": 3
   },
   "file_extension": ".py",
   "mimetype": "text/x-python",
   "name": "python",
   "nbconvert_exporter": "python",
   "pygments_lexer": "ipython3",
   "version": "3.6.5"
  }
 },
 "nbformat": 4,
 "nbformat_minor": 2
}
