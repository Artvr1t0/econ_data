{
 "cells": [
  {
   "cell_type": "markdown",
   "metadata": {},
   "source": [
    "European Central Bank (ECB) API with Python 2.7\n",
    "=====\n",
    "\n",
    "## Data on Eurozone countries\n",
    "\n",
    "-----\n",
    "\n",
    "*September 3, 2017*<br>\n",
    "*@bd_econ*\n",
    "\n",
    "ECB API Documentation is [here](https://sdw-wsrest.ecb.europa.eu/web/generator/index.html)\n",
    "\n",
    "This example requests the interest rate by country on 10-year bonds over the period since 2012."
   ]
  },
  {
   "cell_type": "code",
   "execution_count": 1,
   "metadata": {
    "collapsed": true
   },
   "outputs": [],
   "source": [
    "import requests\n",
    "import pandas as pd"
   ]
  },
  {
   "cell_type": "markdown",
   "metadata": {},
   "source": [
    "## Parameters/Settings\n",
    "\n",
    "List of data sets is [here](https://sdw-wsrest.ecb.europa.eu/service/dataflow)"
   ]
  },
  {
   "cell_type": "code",
   "execution_count": 2,
   "metadata": {},
   "outputs": [],
   "source": [
    "# List of countries\n",
    "c_list = ['DE', \n",
    "          'FR', \n",
    "          'IT', \n",
    "          'ES', \n",
    "          'PT', \n",
    "          'GR', \n",
    "          'NL', \n",
    "          'BE', \n",
    "          'AT', \n",
    "          'IE']\n",
    "\n",
    "param = [('dataflow', 'IRS'),\n",
    "         ('freq', 'M'),\n",
    "         ('countries', '+'.join(c_list)),\n",
    "         ('series', 'L'),\n",
    "         ('trans type', 'L40'),\n",
    "         ('maturity cat', 'CI'),\n",
    "         ('counterpart', '0000'),\n",
    "         ('currency', 'EUR'),\n",
    "         ('business coverage', 'N'),\n",
    "         ('interest rate type', 'Z'),\n",
    "         ('start', '?startPeriod=2012-01-01')]\n",
    "\n",
    "param_joined = '.'.join(value for key, value in param[1:-1])\n",
    "\n",
    "series_key = '{}/{}{}'.format(param[0][1],\n",
    "                              param_joined,\n",
    "                              param[-1][1])"
   ]
  },
  {
   "cell_type": "markdown",
   "metadata": {},
   "source": [
    "## Request data"
   ]
  },
  {
   "cell_type": "code",
   "execution_count": 3,
   "metadata": {},
   "outputs": [],
   "source": [
    "url = 'https://sdw-wsrest.ecb.europa.eu/service/data/'\n",
    "# headers used as content negotiation to return data in json format\n",
    "headers = {'Accept':'application/json'}\n",
    "r = requests.get('{}{}'.format(url, series_key), headers=headers).json()"
   ]
  },
  {
   "cell_type": "markdown",
   "metadata": {},
   "source": [
    "## Pandas DataFrame"
   ]
  },
  {
   "cell_type": "code",
   "execution_count": 5,
   "metadata": {},
   "outputs": [
    {
     "data": {
      "text/html": [
       "<div>\n",
       "<style>\n",
       "    .dataframe thead tr:only-child th {\n",
       "        text-align: right;\n",
       "    }\n",
       "\n",
       "    .dataframe thead th {\n",
       "        text-align: left;\n",
       "    }\n",
       "\n",
       "    .dataframe tbody tr th {\n",
       "        vertical-align: top;\n",
       "    }\n",
       "</style>\n",
       "<table border=\"1\" class=\"dataframe\">\n",
       "  <thead>\n",
       "    <tr style=\"text-align: right;\">\n",
       "      <th></th>\n",
       "      <th>Austria</th>\n",
       "      <th>Belgium</th>\n",
       "      <th>Germany</th>\n",
       "      <th>Spain</th>\n",
       "      <th>France</th>\n",
       "      <th>Greece</th>\n",
       "      <th>Ireland</th>\n",
       "      <th>Italy</th>\n",
       "      <th>Netherlands</th>\n",
       "      <th>Portugal</th>\n",
       "    </tr>\n",
       "  </thead>\n",
       "  <tbody>\n",
       "    <tr>\n",
       "      <th>2017-03-01</th>\n",
       "      <td>0.5924</td>\n",
       "      <td>0.87</td>\n",
       "      <td>0.35</td>\n",
       "      <td>1.717</td>\n",
       "      <td>1.02</td>\n",
       "      <td>7.17</td>\n",
       "      <td>1.05</td>\n",
       "      <td>2.401</td>\n",
       "      <td>0.485</td>\n",
       "      <td>3.992</td>\n",
       "    </tr>\n",
       "    <tr>\n",
       "      <th>2017-04-01</th>\n",
       "      <td>0.4903</td>\n",
       "      <td>0.78</td>\n",
       "      <td>0.22</td>\n",
       "      <td>1.613</td>\n",
       "      <td>0.88</td>\n",
       "      <td>6.70</td>\n",
       "      <td>0.91</td>\n",
       "      <td>2.257</td>\n",
       "      <td>0.498</td>\n",
       "      <td>3.774</td>\n",
       "    </tr>\n",
       "    <tr>\n",
       "      <th>2017-05-01</th>\n",
       "      <td>0.6517</td>\n",
       "      <td>0.77</td>\n",
       "      <td>0.34</td>\n",
       "      <td>1.571</td>\n",
       "      <td>0.81</td>\n",
       "      <td>5.86</td>\n",
       "      <td>0.83</td>\n",
       "      <td>2.194</td>\n",
       "      <td>0.589</td>\n",
       "      <td>3.287</td>\n",
       "    </tr>\n",
       "    <tr>\n",
       "      <th>2017-06-01</th>\n",
       "      <td>0.5547</td>\n",
       "      <td>0.62</td>\n",
       "      <td>0.25</td>\n",
       "      <td>1.453</td>\n",
       "      <td>0.66</td>\n",
       "      <td>5.76</td>\n",
       "      <td>0.70</td>\n",
       "      <td>2.053</td>\n",
       "      <td>0.503</td>\n",
       "      <td>2.968</td>\n",
       "    </tr>\n",
       "    <tr>\n",
       "      <th>2017-07-01</th>\n",
       "      <td>0.7292</td>\n",
       "      <td>0.83</td>\n",
       "      <td>0.46</td>\n",
       "      <td>1.599</td>\n",
       "      <td>0.84</td>\n",
       "      <td>5.33</td>\n",
       "      <td>0.87</td>\n",
       "      <td>2.231</td>\n",
       "      <td>0.688</td>\n",
       "      <td>3.025</td>\n",
       "    </tr>\n",
       "  </tbody>\n",
       "</table>\n",
       "</div>"
      ],
      "text/plain": [
       "            Austria  Belgium  Germany  Spain  France  Greece  Ireland  Italy  \\\n",
       "2017-03-01   0.5924     0.87     0.35  1.717    1.02    7.17     1.05  2.401   \n",
       "2017-04-01   0.4903     0.78     0.22  1.613    0.88    6.70     0.91  2.257   \n",
       "2017-05-01   0.6517     0.77     0.34  1.571    0.81    5.86     0.83  2.194   \n",
       "2017-06-01   0.5547     0.62     0.25  1.453    0.66    5.76     0.70  2.053   \n",
       "2017-07-01   0.7292     0.83     0.46  1.599    0.84    5.33     0.87  2.231   \n",
       "\n",
       "            Netherlands  Portugal  \n",
       "2017-03-01        0.485     3.992  \n",
       "2017-04-01        0.498     3.774  \n",
       "2017-05-01        0.589     3.287  \n",
       "2017-06-01        0.503     2.968  \n",
       "2017-07-01        0.688     3.025  "
      ]
     },
     "execution_count": 5,
     "metadata": {},
     "output_type": "execute_result"
    }
   ],
   "source": [
    "date_list = r['structure']['dimensions']['observation'][0]['values']\n",
    "dates = [date['start'][:10] for date in date_list]\n",
    "    \n",
    "areas = [v['name'] for v in r['structure']['dimensions']['series'][1]['values']]\n",
    "\n",
    "df = pd.DataFrame()\n",
    "for i, area in enumerate(areas):\n",
    "    s_key = '0:{}:0:0:0:0:0:0:0'.format(i)\n",
    "    s_list = r['dataSets'][0]['series'][s_key]['observations']\n",
    "    df[area] = pd.Series([s_list[val][0] for val in sorted(s_list, key=int)])\n",
    "df.index = dates\n",
    "df.tail()"
   ]
  }
 ],
 "metadata": {
  "kernelspec": {
   "display_name": "Python [conda root]",
   "language": "python",
   "name": "conda-root-py"
  },
  "language_info": {
   "codemirror_mode": {
    "name": "ipython",
    "version": 2
   },
   "file_extension": ".py",
   "mimetype": "text/x-python",
   "name": "python",
   "nbconvert_exporter": "python",
   "pygments_lexer": "ipython2",
   "version": "2.7.12"
  }
 },
 "nbformat": 4,
 "nbformat_minor": 2
}
