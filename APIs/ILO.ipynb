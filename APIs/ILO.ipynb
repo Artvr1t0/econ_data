{
 "cells": [
  {
   "cell_type": "markdown",
   "metadata": {},
   "source": [
    "International Labour Organization API with Python\n",
    "=====\n",
    "\n",
    "## Canada unemployment rate\n",
    "\n",
    "*December 14, 2019*<br>\n",
    "*@bd_econ*\n",
    "\n",
    "-----\n",
    "\n",
    "\n",
    "ILO API Documentation is [here](https://www.ilo.org/ilostat-files/Documents/SDMX_User_Guide.pdf)\n"
   ]
  },
  {
   "cell_type": "code",
   "execution_count": 1,
   "metadata": {
    "ExecuteTime": {
     "end_time": "2019-01-27T15:27:55.561565Z",
     "start_time": "2019-01-27T15:27:55.282913Z"
    }
   },
   "outputs": [],
   "source": [
    "import requests\n",
    "import pandas as pd"
   ]
  },
  {
   "cell_type": "markdown",
   "metadata": {},
   "source": [
    "#### Parameters / Settings"
   ]
  },
  {
   "cell_type": "code",
   "execution_count": 2,
   "metadata": {
    "ExecuteTime": {
     "end_time": "2019-01-27T15:27:57.423380Z",
     "start_time": "2019-01-27T15:27:57.420548Z"
    }
   },
   "outputs": [],
   "source": [
    "base = 'https://www.ilo.org/sdmx/rest/data/ILO,'\n",
    "series = 'DF_STI_ALL_UNE_DEA1_SEX_AGE_RT'\n",
    "country = 'CAN'\n",
    "freq = 'M'\n",
    "start = '2005-01-01'\n",
    "details = f'?format=jsondata&startPeriod={start}&detail=dataonly'\n",
    "\n",
    "url = f'{base}{series}/.{country}.{freq}....{details}'"
   ]
  },
  {
   "cell_type": "code",
   "execution_count": 3,
   "metadata": {
    "ExecuteTime": {
     "end_time": "2019-01-27T15:28:06.737651Z",
     "start_time": "2019-01-27T15:28:04.805479Z"
    },
    "scrolled": true
   },
   "outputs": [
    {
     "name": "stdout",
     "output_type": "stream",
     "text": [
      "Request status: Success!\n"
     ]
    }
   ],
   "source": [
    "# Request data from API\n",
    "r = requests.get(url)\n",
    "\n",
    "# Did the request work?\n",
    "if r.status_code == 200:\n",
    "    print('Request status: Success!')\n",
    "    result = r.json()\n",
    "else:\n",
    "    print('Request status: Failure')"
   ]
  },
  {
   "cell_type": "markdown",
   "metadata": {},
   "source": [
    "#### Print series information"
   ]
  },
  {
   "cell_type": "code",
   "execution_count": 11,
   "metadata": {
    "ExecuteTime": {
     "end_time": "2019-01-27T15:28:36.093678Z",
     "start_time": "2019-01-27T15:28:36.071482Z"
    }
   },
   "outputs": [
    {
     "name": "stdout",
     "output_type": "stream",
     "text": [
      "Unemployment rate by sex and age, seasonally adjusted series (Sub-annual)\n",
      "Description:\n",
      "The unemployment rate is the number of persons who are unemployed as a percent of the total number of employed and unemployed persons (i.e., the labour force). For more information, refer to our resources on <a href=\"https://ilostat.ilo.org/resources/methods/\">methods</a>.\n",
      "Key position: 0\n",
      "Short-term labour force indicators (STLFS): 0\n",
      "Key position: 1\n",
      "Canada: 0\n",
      "Key position: 2\n",
      "Monthly: 0\n",
      "Key position: 3\n",
      "Unemployment rate, seasonally adjusted series: 0\n",
      "Key position: 4\n",
      "Total: 0\n",
      "Male: 1\n",
      "Female: 2\n",
      "Key position: 5\n",
      "Total: 0\n",
      "15-24: 1\n",
      "25-54: 2\n",
      "55-64: 3\n",
      "15+: 4\n",
      "15-64: 5\n",
      "15-24: 6\n"
     ]
    }
   ],
   "source": [
    "print(result['data']['structure']['name'])\n",
    "print('Description:')\n",
    "print(result['data']['structure']['description'])\n",
    "\n",
    "series = result['data']['structure']['dimensions']['series']\n",
    "obs = result['data']['structure']['dimensions']['observation'][0]['values']\n",
    "dates = [pd.to_datetime(o['start']) for o in obs]\n",
    "for s in series:\n",
    "    print(f'Key position: {s[\"keyPosition\"]}')\n",
    "    for i, v in enumerate(s['values']):\n",
    "        print(f\"{v['name']}: {i}\")"
   ]
  },
  {
   "cell_type": "markdown",
   "metadata": {},
   "source": [
    "Data returned by the API need to be matched with two things. First, the specific series of interest based on the keys above, for example, `0:0:0:0:0:2:4` represents the total (men and women) for all age groups. Next, the datapoint needs to be mapped to its corresponding date. Dates are returned by the API in the same order as the datapoints."
   ]
  },
  {
   "cell_type": "code",
   "execution_count": null,
   "metadata": {},
   "outputs": [],
   "source": []
  },
  {
   "cell_type": "code",
   "execution_count": 26,
   "metadata": {
    "ExecuteTime": {
     "end_time": "2019-01-27T15:31:45.470302Z",
     "start_time": "2019-01-27T15:31:45.466933Z"
    }
   },
   "outputs": [],
   "source": [
    "data_vals = result['data']['dataSets'][0]['series']\n",
    "data = data_vals['0:0:0:0:2:6']['observations']\n",
    "key_vals = [str(k) for k in sorted([int(i) for i in data.keys()])]\n",
    "final = [data[k][0] for k in key_vals]"
   ]
  },
  {
   "cell_type": "code",
   "execution_count": 27,
   "metadata": {
    "ExecuteTime": {
     "end_time": "2019-01-27T15:32:21.073052Z",
     "start_time": "2019-01-27T15:32:20.873474Z"
    }
   },
   "outputs": [
    {
     "data": {
      "image/png": "[encoded data removed]",
      "text/plain": [
       "<Figure size 432x288 with 1 Axes>"
      ]
     },
     "metadata": {
      "needs_background": "light"
     },
     "output_type": "display_data"
    }
   ],
   "source": [
    "%matplotlib inline\n",
    "title = 'Canada Unemployment Rate'\n",
    "pd.Series(data=final, index=dates).sort_index().plot(title=title);"
   ]
  }
 ],
 "metadata": {
  "kernelspec": {
   "display_name": "Python 3",
   "language": "python",
   "name": "python3"
  },
  "language_info": {
   "codemirror_mode": {
    "name": "ipython",
    "version": 3
   },
   "file_extension": ".py",
   "mimetype": "text/x-python",
   "name": "python",
   "nbconvert_exporter": "python",
   "pygments_lexer": "ipython3",
   "version": "3.8.2"
  }
 },
 "nbformat": 4,
 "nbformat_minor": 2
}
