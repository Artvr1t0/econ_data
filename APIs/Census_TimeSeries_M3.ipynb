{
 "cells": [
  {
   "cell_type": "markdown",
   "metadata": {},
   "source": [
    "### Census economic indicators time series\n",
    "\n",
    "Brian Dew, @bd_econ, March 23, 2018\n",
    "\n",
    "The documentation for retrieving these series from the API is [here](https://www.census.gov/data/developers/data-sets/economic-indicators.html). The example below retrieves the nondefense capital goods excluding aircraft new orders monthly percent change (basically a proxy for businesses new investment in equipment). Information on what is required to make the API call is [here](https://api.census.gov/data/timeseries/eits/m3/variables.html), and the list of individual series is [here](https://api.census.gov/data/timeseries/eits/eits_program_code_M3.xml)."
   ]
  },
  {
   "cell_type": "code",
   "execution_count": 1,
   "metadata": {
    "ExecuteTime": {
     "end_time": "2018-03-23T23:16:43.190898Z",
     "start_time": "2018-03-23T23:16:43.184381Z"
    }
   },
   "outputs": [],
   "source": [
    "import requests\n",
    "import pandas as pd\n",
    "import datetime as dt\n",
    "import config\n",
    "key = config.census_key\n",
    "\n",
    "from matplotlib import pyplot as plt\n",
    "\n",
    "%matplotlib inline"
   ]
  },
  {
   "cell_type": "code",
   "execution_count": 7,
   "metadata": {
    "ExecuteTime": {
     "end_time": "2018-03-23T23:05:46.625933Z",
     "start_time": "2018-03-23T23:05:46.621429Z"
    }
   },
   "outputs": [],
   "source": [
    "base = 'https://api.census.gov/data/timeseries/eits/advm3'\n",
    "param = 'cell_value,time_slot_id'\n",
    "time = '&time=from+2015'\n",
    "cat = '&category_code=NXA'\n",
    "dtc = '&data_type_code=MPCNO'\n",
    "oth = '&for=us&seasonally_adj=yes'\n",
    "\n",
    "url = f'{base}?get={param}&key={key}{cat}{dtc}{time}{oth}'"
   ]
  },
  {
   "cell_type": "code",
   "execution_count": 8,
   "metadata": {
    "ExecuteTime": {
     "end_time": "2018-03-23T23:05:48.268370Z",
     "start_time": "2018-03-23T23:05:47.580865Z"
    }
   },
   "outputs": [],
   "source": [
    "r = requests.get(url).json()"
   ]
  },
  {
   "cell_type": "code",
   "execution_count": 9,
   "metadata": {
    "ExecuteTime": {
     "end_time": "2018-03-23T23:19:00.204087Z",
     "start_time": "2018-03-23T23:19:00.200073Z"
    }
   },
   "outputs": [],
   "source": [
    "df = pd.DataFrame({'date': [f'{i[4]}-01' for i in r[1:]], \n",
    "                   'value': [float(i[0]) for i in r[1:]]}).sort_values('date')"
   ]
  },
  {
   "cell_type": "code",
   "execution_count": 11,
   "metadata": {
    "ExecuteTime": {
     "end_time": "2018-03-23T23:22:33.843292Z",
     "start_time": "2018-03-23T23:22:33.686143Z"
    }
   },
   "outputs": [
    {
     "data": {
      "image/png": "[encoded data removed]",
      "text/plain": [
       "<Figure size 720x360 with 1 Axes>"
      ]
     },
     "metadata": {
      "needs_background": "light"
     },
     "output_type": "display_data"
    }
   ],
   "source": [
    "plt.figure(figsize=(10,5))\n",
    "ax = plt.subplot(111)\n",
    "ax.bar(x=pd.to_datetime(df.date), height=df['value'], width=20)\n",
    "ax.xaxis_date()\n"
   ]
  }
 ],
 "metadata": {
  "kernelspec": {
   "display_name": "Python 3",
   "language": "python",
   "name": "python3"
  },
  "language_info": {
   "codemirror_mode": {
    "name": "ipython",
    "version": 3
   },
   "file_extension": ".py",
   "mimetype": "text/x-python",
   "name": "python",
   "nbconvert_exporter": "python",
   "pygments_lexer": "ipython3",
   "version": "3.8.5"
  },
  "varInspector": {
   "cols": {
    "lenName": 16,
    "lenType": 16,
    "lenVar": 40
   },
   "kernels_config": {
    "python": {
     "delete_cmd_postfix": "",
     "delete_cmd_prefix": "del ",
     "library": "var_list.py",
     "varRefreshCmd": "print(var_dic_list())"
    },
    "r": {
     "delete_cmd_postfix": ") ",
     "delete_cmd_prefix": "rm(",
     "library": "var_list.r",
     "varRefreshCmd": "cat(var_dic_list()) "
    }
   },
   "types_to_exclude": [
    "module",
    "function",
    "builtin_function_or_method",
    "instance",
    "_Feature"
   ],
   "window_display": false
  }
 },
 "nbformat": 4,
 "nbformat_minor": 2
}
