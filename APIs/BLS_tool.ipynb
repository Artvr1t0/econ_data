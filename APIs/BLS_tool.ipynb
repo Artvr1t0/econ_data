{
 "cells": [
  {
   "cell_type": "markdown",
   "metadata": {},
   "source": [
    "### BLS API retrieval tool"
   ]
  },
  {
   "cell_type": "code",
   "execution_count": 27,
   "metadata": {
    "ExecuteTime": {
     "end_time": "2018-07-31T19:29:01.909771Z",
     "start_time": "2018-07-31T19:29:01.900074Z"
    },
    "code_folding": []
   },
   "outputs": [],
   "source": [
    "# Import preliminaries\n",
    "import requests\n",
    "import pandas as pd\n",
    "import json\n",
    "\n",
    "# Local file with API key\n",
    "import config\n",
    "\n",
    "\n",
    "def api(series, date_range):\n",
    "    \"\"\"Collect list of series from BLS API for given dates\"\"\"\n",
    "    # The url for BLS API v2\n",
    "    url = 'https://api.bls.gov/publicAPI/v2/timeseries/data/'\n",
    "\n",
    "    # API key in config.py which contains: bls_key = 'key'\n",
    "    key = '?registrationkey={}'.format(config.bls_key)\n",
    "\n",
    "    # Handle dates\n",
    "    dates = [(str(date_range[0]), str(date_range[1]))]\n",
    "    while int(dates[-1][1]) - int(dates[-1][0]) > 10:\n",
    "        dates = [(str(date_range[0]), str(date_range[0] + 9))]\n",
    "        d1 = int(dates[-1][0])\n",
    "        while int(dates[-1][1]) < date_range[1]:\n",
    "            d1 = d1 + 10\n",
    "            d2 = min([date_range[1], d1 + 9])\n",
    "            dates.append((str(d1), (d2)))\n",
    "\n",
    "    df = pd.DataFrame()\n",
    "\n",
    "    for start, end in dates:\n",
    "        # Submit the list of series as data\n",
    "        data = json.dumps({\n",
    "            \"seriesid\": list(series.keys()),\n",
    "            \"startyear\": start, \"endyear\": end})\n",
    "\n",
    "        # Post request for the data\n",
    "        p = requests.post(\n",
    "            '{}{}'.format(url, key),\n",
    "            headers={'Content-type': 'application/json'},\n",
    "            data=data).json()\n",
    "        for s in p['Results']['series']:\n",
    "            col = series[s['seriesID']]\n",
    "            for r in s['data']:\n",
    "                date = pd.to_datetime('{} {}'.format(\n",
    "                    r['periodName'], r['year']))\n",
    "                df.at[date, col] = float(r['value'])\n",
    "    df = df.sort_index()\n",
    "    # Output results\n",
    "    print('Request Status: {}'.format(p['status']))\n",
    "    print(f'Columns: {df.shape[1]}, Rows: {df.shape[0]}')\n",
    "    print(f'Latest date: {df.index[-1].date()}')\n",
    "    \n",
    "    return df"
   ]
  },
  {
   "cell_type": "code",
   "execution_count": 28,
   "metadata": {
    "ExecuteTime": {
     "end_time": "2018-07-31T19:29:03.268924Z",
     "start_time": "2018-07-31T19:29:03.262385Z"
    }
   },
   "outputs": [],
   "source": [
    "# Series stored as {id: name}\n",
    "slist = {'LNS14023621': 'Loser',\n",
    "         'LNS14023705': 'Leaver',\n",
    "         'LNS14023557': 'Reentrant',\n",
    "         'LNS14023569': 'Newentrant',\n",
    "         'LNS14000000': 'Rate'}\n",
    "\n",
    "# Start year and end year\n",
    "dates = ('2012', '2018')"
   ]
  },
  {
   "cell_type": "code",
   "execution_count": 29,
   "metadata": {
    "ExecuteTime": {
     "end_time": "2018-07-31T19:29:05.869939Z",
     "start_time": "2018-07-31T19:29:05.199919Z"
    }
   },
   "outputs": [
    {
     "name": "stdout",
     "output_type": "stream",
     "text": [
      "Request Status: REQUEST_SUCCEEDED\n",
      "Columns: 5, Rows: 78\n",
      "Latest date: 2018-06-01\n"
     ]
    }
   ],
   "source": [
    "df = api(slist, dates)"
   ]
  },
  {
   "cell_type": "code",
   "execution_count": null,
   "metadata": {},
   "outputs": [],
   "source": []
  },
  {
   "cell_type": "code",
   "execution_count": null,
   "metadata": {},
   "outputs": [],
   "source": []
  },
  {
   "cell_type": "code",
   "execution_count": null,
   "metadata": {},
   "outputs": [],
   "source": []
  },
  {
   "cell_type": "code",
   "execution_count": null,
   "metadata": {},
   "outputs": [],
   "source": []
  }
 ],
 "metadata": {
  "kernelspec": {
   "display_name": "Python 3",
   "language": "python",
   "name": "python3"
  },
  "language_info": {
   "codemirror_mode": {
    "name": "ipython",
    "version": 3
   },
   "file_extension": ".py",
   "mimetype": "text/x-python",
   "name": "python",
   "nbconvert_exporter": "python",
   "pygments_lexer": "ipython3",
   "version": "3.6.6"
  }
 },
 "nbformat": 4,
 "nbformat_minor": 2
}
