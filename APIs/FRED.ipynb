{
 "cells": [
  {
   "cell_type": "markdown",
   "metadata": {},
   "source": [
    "FRED API with Python\n",
    "-----\n",
    "\n",
    "## Wage data example\n",
    "\n",
    "*July 23, 2017*<br>\n",
    "*@bd_econ*\n",
    "\n",
    "Retrieve data from FRED API using Python with the requests package. Use pandas for calculations and analysis. Create a dictionary of relevant results and present it as a table.\n",
    "\n",
    "FRED API Documentation is [here](https://research.stlouisfed.org/docs/api/fred/)"
   ]
  },
  {
   "cell_type": "code",
   "execution_count": 1,
   "metadata": {
    "ExecuteTime": {
     "end_time": "2018-06-09T18:12:33.075613Z",
     "start_time": "2018-06-09T18:12:32.609698Z"
    }
   },
   "outputs": [],
   "source": [
    "# Import preliminaries\n",
    "import requests\n",
    "import pandas as pd\n",
    "import config # file with api key"
   ]
  },
  {
   "cell_type": "markdown",
   "metadata": {},
   "source": [
    "## Parameters/ Settings"
   ]
  },
  {
   "cell_type": "code",
   "execution_count": 2,
   "metadata": {
    "ExecuteTime": {
     "end_time": "2018-06-09T18:12:33.081613Z",
     "start_time": "2018-06-09T18:12:33.077614Z"
    }
   },
   "outputs": [],
   "source": [
    "# The URL for the FRED API\n",
    "base = 'https://api.stlouisfed.org/fred/series/observations?series_id='\n",
    "\n",
    "# List of FRED series IDs and their description\n",
    "s_dict = {'CES3000000008': 'Manufacturing AHE, SA', \n",
    "          'CES1000000008': 'Mining and Logging AHE, SA',\n",
    "          'CES4000000008': 'Trade, Transportation, and Utilities AHE, SA',\n",
    "          'CES2000000008': 'Construction AHE, SA',\n",
    "          'CES5000000008': 'Information AHE, SA',\n",
    "          'CES5500000008': 'Financial Activities AHE, SA',\n",
    "          'CES6000000008': 'Professional and Business Services AHE, SA',\n",
    "          'CES6500000008': 'Education and Health Services AHE, SA',\n",
    "          'CES7000000008': 'Leisure and Hospitality AHE, SA',\n",
    "          'AHETPI': 'Total Private AHE, SA',\n",
    "          }\n",
    "\n",
    "# Include start date, API key from config.py file and file type json\n",
    "start_date = '1980-01-01'\n",
    "dates = '&observation_start={}'.format(start_date)\n",
    "api_key = '&api_key={}'.format(config.fred_key)\n",
    "ftype = '&file_type=json'"
   ]
  },
  {
   "cell_type": "markdown",
   "metadata": {},
   "source": [
    "## Make requests"
   ]
  },
  {
   "cell_type": "code",
   "execution_count": 3,
   "metadata": {
    "ExecuteTime": {
     "end_time": "2018-06-09T18:12:34.953731Z",
     "start_time": "2018-06-09T18:12:33.083612Z"
    }
   },
   "outputs": [
    {
     "data": {
      "text/html": [
       "<div>\n",
       "<style scoped>\n",
       "    .dataframe tbody tr th:only-of-type {\n",
       "        vertical-align: middle;\n",
       "    }\n",
       "\n",
       "    .dataframe tbody tr th {\n",
       "        vertical-align: top;\n",
       "    }\n",
       "\n",
       "    .dataframe thead th {\n",
       "        text-align: right;\n",
       "    }\n",
       "</style>\n",
       "<table border=\"1\" class=\"dataframe\">\n",
       "  <thead>\n",
       "    <tr style=\"text-align: right;\">\n",
       "      <th></th>\n",
       "      <th>Manufacturing AHE, SA</th>\n",
       "      <th>Mining and Logging AHE, SA</th>\n",
       "      <th>Trade, Transportation, and Utilities AHE, SA</th>\n",
       "      <th>Construction AHE, SA</th>\n",
       "      <th>Information AHE, SA</th>\n",
       "      <th>Financial Activities AHE, SA</th>\n",
       "      <th>Professional and Business Services AHE, SA</th>\n",
       "      <th>Education and Health Services AHE, SA</th>\n",
       "      <th>Leisure and Hospitality AHE, SA</th>\n",
       "      <th>Total Private AHE, SA</th>\n",
       "    </tr>\n",
       "  </thead>\n",
       "  <tbody>\n",
       "    <tr>\n",
       "      <th>2018-01-01</th>\n",
       "      <td>21.27</td>\n",
       "      <td>27.85</td>\n",
       "      <td>19.54</td>\n",
       "      <td>27.17</td>\n",
       "      <td>31.19</td>\n",
       "      <td>26.70</td>\n",
       "      <td>26.37</td>\n",
       "      <td>23.40</td>\n",
       "      <td>13.61</td>\n",
       "      <td>22.34</td>\n",
       "    </tr>\n",
       "    <tr>\n",
       "      <th>2018-02-01</th>\n",
       "      <td>21.32</td>\n",
       "      <td>27.77</td>\n",
       "      <td>19.54</td>\n",
       "      <td>27.41</td>\n",
       "      <td>31.18</td>\n",
       "      <td>26.74</td>\n",
       "      <td>26.40</td>\n",
       "      <td>23.41</td>\n",
       "      <td>13.63</td>\n",
       "      <td>22.39</td>\n",
       "    </tr>\n",
       "    <tr>\n",
       "      <th>2018-03-01</th>\n",
       "      <td>21.36</td>\n",
       "      <td>27.83</td>\n",
       "      <td>19.68</td>\n",
       "      <td>27.36</td>\n",
       "      <td>31.49</td>\n",
       "      <td>26.84</td>\n",
       "      <td>26.49</td>\n",
       "      <td>23.43</td>\n",
       "      <td>13.68</td>\n",
       "      <td>22.46</td>\n",
       "    </tr>\n",
       "    <tr>\n",
       "      <th>2018-04-01</th>\n",
       "      <td>21.43</td>\n",
       "      <td>27.94</td>\n",
       "      <td>19.76</td>\n",
       "      <td>27.49</td>\n",
       "      <td>31.29</td>\n",
       "      <td>26.89</td>\n",
       "      <td>26.54</td>\n",
       "      <td>23.45</td>\n",
       "      <td>13.73</td>\n",
       "      <td>22.52</td>\n",
       "    </tr>\n",
       "    <tr>\n",
       "      <th>2018-05-01</th>\n",
       "      <td>21.41</td>\n",
       "      <td>28.01</td>\n",
       "      <td>19.87</td>\n",
       "      <td>27.50</td>\n",
       "      <td>31.73</td>\n",
       "      <td>26.95</td>\n",
       "      <td>26.60</td>\n",
       "      <td>23.54</td>\n",
       "      <td>13.78</td>\n",
       "      <td>22.59</td>\n",
       "    </tr>\n",
       "  </tbody>\n",
       "</table>\n",
       "</div>"
      ],
      "text/plain": [
       "           Manufacturing AHE, SA Mining and Logging AHE, SA  \\\n",
       "2018-01-01                 21.27                      27.85   \n",
       "2018-02-01                 21.32                      27.77   \n",
       "2018-03-01                 21.36                      27.83   \n",
       "2018-04-01                 21.43                      27.94   \n",
       "2018-05-01                 21.41                      28.01   \n",
       "\n",
       "           Trade, Transportation, and Utilities AHE, SA Construction AHE, SA  \\\n",
       "2018-01-01                                        19.54                27.17   \n",
       "2018-02-01                                        19.54                27.41   \n",
       "2018-03-01                                        19.68                27.36   \n",
       "2018-04-01                                        19.76                27.49   \n",
       "2018-05-01                                        19.87                27.50   \n",
       "\n",
       "           Information AHE, SA Financial Activities AHE, SA  \\\n",
       "2018-01-01               31.19                        26.70   \n",
       "2018-02-01               31.18                        26.74   \n",
       "2018-03-01               31.49                        26.84   \n",
       "2018-04-01               31.29                        26.89   \n",
       "2018-05-01               31.73                        26.95   \n",
       "\n",
       "           Professional and Business Services AHE, SA  \\\n",
       "2018-01-01                                      26.37   \n",
       "2018-02-01                                      26.40   \n",
       "2018-03-01                                      26.49   \n",
       "2018-04-01                                      26.54   \n",
       "2018-05-01                                      26.60   \n",
       "\n",
       "           Education and Health Services AHE, SA  \\\n",
       "2018-01-01                                 23.40   \n",
       "2018-02-01                                 23.41   \n",
       "2018-03-01                                 23.43   \n",
       "2018-04-01                                 23.45   \n",
       "2018-05-01                                 23.54   \n",
       "\n",
       "           Leisure and Hospitality AHE, SA Total Private AHE, SA  \n",
       "2018-01-01                           13.61                 22.34  \n",
       "2018-02-01                           13.63                 22.39  \n",
       "2018-03-01                           13.68                 22.46  \n",
       "2018-04-01                           13.73                 22.52  \n",
       "2018-05-01                           13.78                 22.59  "
      ]
     },
     "execution_count": 3,
     "metadata": {},
     "output_type": "execute_result"
    }
   ],
   "source": [
    "df = pd.DataFrame()\n",
    "for code, name in s_dict.items():\n",
    "    url = '{}{}{}{}{}'.format(base, code, dates, api_key, ftype)\n",
    "    r = requests.get(url).json()['observations']\n",
    "    df[name] = [i['value'] for i in r]\n",
    "df.index = pd.to_datetime([i['date'] for i in r])\n",
    "df.tail()"
   ]
  },
  {
   "cell_type": "code",
   "execution_count": null,
   "metadata": {},
   "outputs": [],
   "source": []
  },
  {
   "cell_type": "markdown",
   "metadata": {},
   "source": [
    "## Non API example"
   ]
  },
  {
   "cell_type": "code",
   "execution_count": 1,
   "metadata": {
    "ExecuteTime": {
     "end_time": "2019-10-30T16:36:23.889783Z",
     "start_time": "2019-10-30T16:36:22.637073Z"
    }
   },
   "outputs": [
    {
     "data": {
      "image/png": "[encoded data removed]",
      "text/plain": [
       "<Figure size 432x288 with 1 Axes>"
      ]
     },
     "metadata": {
      "needs_background": "light"
     },
     "output_type": "display_data"
    }
   ],
   "source": [
    "%matplotlib inline\n",
    "import pandas as pd\n",
    "\n",
    "series = 'UNRATE'\n",
    "\n",
    "url = f'http://research.stlouisfed.org/fred2/series/{series}/downloaddata/{series}.csv'\n",
    "\n",
    "df = pd.read_csv(url, index_col='DATE', parse_dates=True)\n",
    "df.plot(title=series, legend=False);"
   ]
  },
  {
   "cell_type": "code",
   "execution_count": null,
   "metadata": {},
   "outputs": [],
   "source": []
  },
  {
   "cell_type": "code",
   "execution_count": null,
   "metadata": {},
   "outputs": [],
   "source": [
    "%matplotlib inline\n",
    "import pandas as pd\n",
    "\n",
    "series = 'UNRATE'\n",
    "\n",
    "url = f'http://research.stlouisfed.org/fred2/series/{series}/downloaddata/{series}.csv'\n",
    "\n",
    "df = pd.read_csv(url, index_col='DATE', parse_dates=True)\n",
    "df.plot(title=series, legend=False);"
   ]
  }
 ],
 "metadata": {
  "anaconda-cloud": {},
  "kernelspec": {
   "display_name": "Python 3",
   "language": "python",
   "name": "python3"
  },
  "language_info": {
   "codemirror_mode": {
    "name": "ipython",
    "version": 3
   },
   "file_extension": ".py",
   "mimetype": "text/x-python",
   "name": "python",
   "nbconvert_exporter": "python",
   "pygments_lexer": "ipython3",
   "version": "3.8.6"
  }
 },
 "nbformat": 4,
 "nbformat_minor": 1
}
