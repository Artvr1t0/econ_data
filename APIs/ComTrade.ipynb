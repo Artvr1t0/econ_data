{
 "cells": [
  {
   "cell_type": "markdown",
   "metadata": {
    "collapsed": true
   },
   "source": [
    "United Nations ComTrade\n",
    "=====\n",
    "\n",
    "## Bilateral trade data by product\n",
    "\n",
    "----\n",
    "\n",
    "*September 3, 2017*<br>\n",
    "*@bd_econ*\n",
    "\n",
    "This example retrieves annual data for the trade of a specific product by all countries for which data are available.\n",
    "\n",
    "[Documentation](https://comtrade.un.org/data/doc/api/) for the UN Comtrade API.\n",
    "\n",
    "This example uses a list of country codes stored as a csv file. "
   ]
  },
  {
   "cell_type": "code",
   "execution_count": null,
   "metadata": {
    "collapsed": true
   },
   "outputs": [],
   "source": [
    "import requests\n",
    "import pandas as pd\n",
    "import time\n",
    "\n",
    "# Used to loop over countries 5 at a time.\n",
    "def chunker(seq, size):\n",
    "    return (seq[pos:pos + size] for pos in xrange(0, len(seq), size))\n",
    "\n",
    "c_codes = pd.read_csv('codes/country_codes.csv').set_index('id')"
   ]
  },
  {
   "cell_type": "markdown",
   "metadata": {},
   "source": [
    "## Paramaters/ Settings for request"
   ]
  },
  {
   "cell_type": "code",
   "execution_count": null,
   "metadata": {},
   "outputs": [],
   "source": [
    "prod_type = 'C'  # Commodity\n",
    "freq = 'A'       # Annual \n",
    "classification = 'HS' # harmonized system\n",
    "prod = '440710'   # HS 6-digit production ID\n",
    "years = ['2005', '2010', '2015']\n",
    "base = 'http://comtrade.un.org/api/get?'\n",
    "url = '{}max=50000&type={}&freq={}&px={}'.format(\n",
    "    base, prod_type, freq, classification)\n",
    "df = pd.DataFrame(columns=['period', 'pt3ISO', 'rt3ISO', 'TradeValue'])"
   ]
  },
  {
   "cell_type": "code",
   "execution_count": null,
   "metadata": {},
   "outputs": [],
   "source": [
    "for n in chunker(c_codes.index.values[1:], 5):\n",
    "    req = '&ps={}&r=all&p={}&rg=2&cc={}'.format(\n",
    "        '%2C'.join(years), '%2C'.join(n), prod)\n",
    "    r = requests.get('{}{}'.format(url, req)).json()['dataset']\n",
    "    for f in r:\n",
    "        df = df.append([f['period'], f['pt3ISO'], f['rt3ISO'], f['TradeValue']])\n",
    "    time.sleep(5)"
   ]
  },
  {
   "cell_type": "code",
   "execution_count": null,
   "metadata": {},
   "outputs": [],
   "source": [
    "df.fillna(value='TWN', inplace=True)\n",
    "df.head()"
   ]
  },
  {
   "cell_type": "code",
   "execution_count": null,
   "metadata": {
    "collapsed": true
   },
   "outputs": [],
   "source": [
    "df.to_csv('440710.csv')"
   ]
  }
 ],
 "metadata": {
  "kernelspec": {
   "display_name": "Python 3",
   "language": "python",
   "name": "python3"
  },
  "language_info": {
   "codemirror_mode": {
    "name": "ipython",
    "version": 3
   },
   "file_extension": ".py",
   "mimetype": "text/x-python",
   "name": "python",
   "nbconvert_exporter": "python",
   "pygments_lexer": "ipython3",
   "version": "3.6.4"
  }
 },
 "nbformat": 4,
 "nbformat_minor": 2
}
