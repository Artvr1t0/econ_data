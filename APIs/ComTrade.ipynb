{
 "cells": [
  {
   "cell_type": "markdown",
   "metadata": {
    "collapsed": true
   },
   "source": [
    "United Nations ComTrade\n",
    "=====\n",
    "\n",
    "## Bilateral trade data by product\n",
    "\n",
    "----\n",
    "\n",
    "*September 3, 2017*<br>\n",
    "*@bd_econ*\n",
    "\n",
    "This example retrieves annual data for the trade of a specific product by all countries for which data are available. Despite being built with public money, most ComTrade features are limited to use by the well-heeled. To make the most of the few features that the UN allows plebians to have, the notebook runs very slowly (pausing for 5 seconds between requests) and can only be run once a day because of API limits. \n",
    "\n",
    "[Documentation](https://comtrade.un.org/data/doc/api/) for the UN Comtrade API.\n",
    "\n",
    "This example uses a list of country codes stored as a csv file. "
   ]
  },
  {
   "cell_type": "code",
   "execution_count": 1,
   "metadata": {
    "ExecuteTime": {
     "end_time": "2019-01-14T22:33:58.383815Z",
     "start_time": "2019-01-14T22:33:57.936970Z"
    }
   },
   "outputs": [],
   "source": [
    "import requests\n",
    "import pandas as pd\n",
    "import time\n",
    "\n",
    "# Used to loop over countries 5 at a time.\n",
    "def chunker(seq, size):\n",
    "    return (seq[pos:pos + size] for pos in range(0, len(seq), size))\n",
    "\n",
    "c_codes = pd.read_csv('codes/country_codes.csv').set_index('id')"
   ]
  },
  {
   "cell_type": "markdown",
   "metadata": {},
   "source": [
    "## Paramaters/ Settings for request"
   ]
  },
  {
   "cell_type": "code",
   "execution_count": 2,
   "metadata": {
    "ExecuteTime": {
     "end_time": "2019-01-14T22:33:58.393316Z",
     "start_time": "2019-01-14T22:33:58.385698Z"
    }
   },
   "outputs": [],
   "source": [
    "prod_type = 'C'  # Commodity\n",
    "freq = 'A'       # Annual \n",
    "classification = 'HS' # harmonized system\n",
    "prod = '440710'   # HS 6-digit production ID\n",
    "years = ['2005', '2010', '2015']\n",
    "base = 'http://comtrade.un.org/api/get?'\n",
    "url = '{}max=50000&type={}&freq={}&px={}'.format(\n",
    "    base, prod_type, freq, classification)\n",
    "df = pd.DataFrame(columns=['period', 'pt3ISO', 'rt3ISO', 'TradeValue'])"
   ]
  },
  {
   "cell_type": "code",
   "execution_count": 3,
   "metadata": {
    "ExecuteTime": {
     "end_time": "2019-01-14T22:55:49.100134Z",
     "start_time": "2019-01-14T22:33:58.394701Z"
    },
    "scrolled": true
   },
   "outputs": [
    {
     "name": "stderr",
     "output_type": "stream",
     "text": [
      "/home/brian/miniconda3/lib/python3.7/site-packages/pandas/core/indexes/api.py:107: RuntimeWarning: '<' not supported between instances of 'str' and 'int', sort order is undefined for incomparable objects\n",
      "  result = result.union(other)\n",
      "/home/brian/miniconda3/lib/python3.7/site-packages/pandas/core/indexing.py:1472: FutureWarning: \n",
      "Passing list-likes to .loc or [] with any missing label will raise\n",
      "KeyError in the future, you can use .reindex() as an alternative.\n",
      "\n",
      "See the documentation here:\n",
      "https://pandas.pydata.org/pandas-docs/stable/indexing.html#deprecate-loc-reindex-listlike\n",
      "  return self._getitem_tuple(key)\n"
     ]
    }
   ],
   "source": [
    "for n in chunker(c_codes.index.values[1:], 5):\n",
    "    req = '&ps={}&r=all&p={}&rg=2&cc={}'.format(\n",
    "        '%2C'.join(years), '%2C'.join(n), prod)\n",
    "    r = requests.get('{}{}'.format(url, req)).json()['dataset']\n",
    "    for f in r:\n",
    "        df = df.append([f['period'], f['pt3ISO'], f['rt3ISO'], f['TradeValue']])\n",
    "    time.sleep(5)"
   ]
  },
  {
   "cell_type": "code",
   "execution_count": 4,
   "metadata": {
    "ExecuteTime": {
     "end_time": "2019-01-14T22:55:49.165354Z",
     "start_time": "2019-01-14T22:55:49.104520Z"
    }
   },
   "outputs": [],
   "source": [
    "df.to_csv('440710.csv')"
   ]
  }
 ],
 "metadata": {
  "kernelspec": {
   "display_name": "Python 3",
   "language": "python",
   "name": "python3"
  },
  "language_info": {
   "codemirror_mode": {
    "name": "ipython",
    "version": 3
   },
   "file_extension": ".py",
   "mimetype": "text/x-python",
   "name": "python",
   "nbconvert_exporter": "python",
   "pygments_lexer": "ipython3",
   "version": "3.7.2"
  }
 },
 "nbformat": 4,
 "nbformat_minor": 2
}
