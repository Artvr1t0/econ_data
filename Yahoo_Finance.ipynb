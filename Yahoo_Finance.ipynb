{
 "cells": [
  {
   "cell_type": "markdown",
   "metadata": {},
   "source": [
    "Yahoo! Finance API with Python 2.7\n",
    "=====\n",
    "\n",
    "## Yahoo Finance dowload historical stock index data\n",
    "\n",
    "-----\n",
    "\n",
    "*September 3, 2017*<br>\n",
    "*@bd_econ* \n",
    "\n",
    "This example retrieves the adjusted daily closing price for the Dow Jones Industrial Average, S&P 500 and Nasdaq 100. "
   ]
  },
  {
   "cell_type": "code",
   "execution_count": 1,
   "metadata": {
    "collapsed": true
   },
   "outputs": [],
   "source": [
    "import requests\n",
    "import re\n",
    "import pandas as pd\n",
    "from StringIO import StringIO\n",
    "import time "
   ]
  },
  {
   "cell_type": "markdown",
   "metadata": {},
   "source": [
    "## Parameters/Settings"
   ]
  },
  {
   "cell_type": "code",
   "execution_count": 2,
   "metadata": {},
   "outputs": [],
   "source": [
    "tickers = ['^DJI', '^GSPC', '^IXIC']\n",
    "start = '1104537600'\n",
    "base = 'https://finance.yahoo.com/quote/'\n",
    "base2 = 'https://query1.finance.yahoo.com/v7/finance/download/'\n",
    "end = int(time.time())\n",
    "dates = '?period1={}&period2={}'.format(start, end)\n",
    "param = '&interval=1d&filter=history&frequency=1d'"
   ]
  },
  {
   "cell_type": "markdown",
   "metadata": {},
   "source": [
    "## Request Data"
   ]
  },
  {
   "cell_type": "code",
   "execution_count": 4,
   "metadata": {},
   "outputs": [
    {
     "data": {
      "text/html": [
       "<div>\n",
       "<style>\n",
       "    .dataframe thead tr:only-child th {\n",
       "        text-align: right;\n",
       "    }\n",
       "\n",
       "    .dataframe thead th {\n",
       "        text-align: left;\n",
       "    }\n",
       "\n",
       "    .dataframe tbody tr th {\n",
       "        vertical-align: top;\n",
       "    }\n",
       "</style>\n",
       "<table border=\"1\" class=\"dataframe\">\n",
       "  <thead>\n",
       "    <tr style=\"text-align: right;\">\n",
       "      <th></th>\n",
       "      <th>DJI</th>\n",
       "      <th>GSPC</th>\n",
       "      <th>IXIC</th>\n",
       "    </tr>\n",
       "    <tr>\n",
       "      <th>Date</th>\n",
       "      <th></th>\n",
       "      <th></th>\n",
       "      <th></th>\n",
       "    </tr>\n",
       "  </thead>\n",
       "  <tbody>\n",
       "    <tr>\n",
       "      <th>2017-08-28</th>\n",
       "      <td>21808.40</td>\n",
       "      <td>2444.24</td>\n",
       "      <td>6283.02</td>\n",
       "    </tr>\n",
       "    <tr>\n",
       "      <th>2017-08-29</th>\n",
       "      <td>21865.37</td>\n",
       "      <td>2446.30</td>\n",
       "      <td>6301.89</td>\n",
       "    </tr>\n",
       "    <tr>\n",
       "      <th>2017-08-30</th>\n",
       "      <td>21892.43</td>\n",
       "      <td>2457.59</td>\n",
       "      <td>6368.31</td>\n",
       "    </tr>\n",
       "    <tr>\n",
       "      <th>2017-08-31</th>\n",
       "      <td>21948.10</td>\n",
       "      <td>2471.65</td>\n",
       "      <td>6428.66</td>\n",
       "    </tr>\n",
       "    <tr>\n",
       "      <th>2017-09-01</th>\n",
       "      <td>21987.56</td>\n",
       "      <td>2476.55</td>\n",
       "      <td>6435.33</td>\n",
       "    </tr>\n",
       "  </tbody>\n",
       "</table>\n",
       "</div>"
      ],
      "text/plain": [
       "                 DJI     GSPC     IXIC\n",
       "Date                                  \n",
       "2017-08-28  21808.40  2444.24  6283.02\n",
       "2017-08-29  21865.37  2446.30  6301.89\n",
       "2017-08-30  21892.43  2457.59  6368.31\n",
       "2017-08-31  21948.10  2471.65  6428.66\n",
       "2017-09-01  21987.56  2476.55  6435.33"
      ]
     },
     "execution_count": 4,
     "metadata": {},
     "output_type": "execute_result"
    }
   ],
   "source": [
    "df = pd.DataFrame()\n",
    "\n",
    "for t in tickers:\n",
    "    url = '{}{}/history{}{}'.format(base, t, dates, param)\n",
    "    s = requests.Session()\n",
    "    r = s.get(url)\n",
    "    regex = '\"CrumbStore\":{\"crumb\":\"(.+?)\"},'\n",
    "    pattern = re.compile(regex)\n",
    "    crumb = re.findall(pattern, r.content)[0]\n",
    "    param2 = '{}{}&interval=1d&events=history&crumb={}/Q'.format(t, dates, crumb)\n",
    "    url2 = '{}{}'.format(base2, param2)\n",
    "    data = s.post(url2)\n",
    "    csv = StringIO(data.content)\n",
    "    df[t[1:]] = pd.read_table(csv, sep=',', \n",
    "                             parse_dates=['Date']).set_index('Date')['Adj Close'].round(2)\n",
    "df.tail()"
   ]
  }
 ],
 "metadata": {
  "kernelspec": {
   "display_name": "Python [conda root]",
   "language": "python",
   "name": "conda-root-py"
  },
  "language_info": {
   "codemirror_mode": {
    "name": "ipython",
    "version": 2
   },
   "file_extension": ".py",
   "mimetype": "text/x-python",
   "name": "python",
   "nbconvert_exporter": "python",
   "pygments_lexer": "ipython2",
   "version": "2.7.12"
  }
 },
 "nbformat": 4,
 "nbformat_minor": 2
}
