{
 "cells": [
  {
   "cell_type": "markdown",
   "id": "36a1e54c",
   "metadata": {},
   "source": [
    "### CBSA Map - splitting large metro areas\n",
    "\n",
    "Using the CPS to do anything below the state level starts to get tricky, with the exception of the major cities.\n",
    "\n",
    "In some cases, mapping CPS data to metro areas gives disappointing results. One example is the DC metro area, where the West Virginia observations aren't identified in the CPS public use microdata. The area includes DC itself, which has many observations and often different outcomes than the suburbs. "
   ]
  },
  {
   "cell_type": "code",
   "execution_count": 1,
   "id": "d83774e0",
   "metadata": {
    "ExecuteTime": {
     "end_time": "2021-05-07T10:20:11.796074Z",
     "start_time": "2021-05-07T10:20:11.344743Z"
    },
    "code_folding": [
     0
    ]
   },
   "outputs": [],
   "source": [
    "# Import packages\n",
    "%config Completer.use_jedi = False\n",
    "import pandas as pd\n",
    "import numpy as np\n",
    "from mpl_toolkits.basemap import Basemap\n",
    "from mpl_toolkits.axes_grid1.inset_locator import inset_axes\n",
    "import matplotlib.pyplot as plt\n",
    "from matplotlib.patches import Polygon\n",
    "import os\n",
    "import shapely.geometry as sg\n",
    "\n",
    "os.chdir('/home/brian/Documents/CPS/data/clean/')\n",
    "path = '/home/brian/Documents/econ_data/micro/shapefiles'"
   ]
  },
  {
   "cell_type": "code",
   "execution_count": 2,
   "id": "c3093316",
   "metadata": {
    "ExecuteTime": {
     "end_time": "2021-05-07T10:20:11.894094Z",
     "start_time": "2021-05-07T10:20:11.797326Z"
    }
   },
   "outputs": [
    {
     "data": {
      "text/html": [
       "<div>\n",
       "<style scoped>\n",
       "    .dataframe tbody tr th:only-of-type {\n",
       "        vertical-align: middle;\n",
       "    }\n",
       "\n",
       "    .dataframe tbody tr th {\n",
       "        vertical-align: top;\n",
       "    }\n",
       "\n",
       "    .dataframe thead th {\n",
       "        text-align: right;\n",
       "    }\n",
       "</style>\n",
       "<table border=\"1\" class=\"dataframe\">\n",
       "  <thead>\n",
       "    <tr style=\"text-align: right;\">\n",
       "      <th>LFS</th>\n",
       "      <th>Employed</th>\n",
       "      <th>NILF</th>\n",
       "      <th>Unemployed</th>\n",
       "      <th>nan</th>\n",
       "    </tr>\n",
       "    <tr>\n",
       "      <th>STATE</th>\n",
       "      <th></th>\n",
       "      <th></th>\n",
       "      <th></th>\n",
       "      <th></th>\n",
       "    </tr>\n",
       "  </thead>\n",
       "  <tbody>\n",
       "    <tr>\n",
       "      <th>MD</th>\n",
       "      <td>1778</td>\n",
       "      <td>868</td>\n",
       "      <td>64</td>\n",
       "      <td>0</td>\n",
       "    </tr>\n",
       "    <tr>\n",
       "      <th>VA</th>\n",
       "      <td>2545</td>\n",
       "      <td>1290</td>\n",
       "      <td>51</td>\n",
       "      <td>0</td>\n",
       "    </tr>\n",
       "    <tr>\n",
       "      <th>DC</th>\n",
       "      <td>5905</td>\n",
       "      <td>2942</td>\n",
       "      <td>290</td>\n",
       "      <td>0</td>\n",
       "    </tr>\n",
       "    <tr>\n",
       "      <th>WV</th>\n",
       "      <td>0</td>\n",
       "      <td>0</td>\n",
       "      <td>0</td>\n",
       "      <td>0</td>\n",
       "    </tr>\n",
       "  </tbody>\n",
       "</table>\n",
       "</div>"
      ],
      "text/plain": [
       "LFS    Employed  NILF  Unemployed  nan\n",
       "STATE                                 \n",
       "MD         1778   868          64    0\n",
       "VA         2545  1290          51    0\n",
       "DC         5905  2942         290    0\n",
       "WV            0     0           0    0"
      ]
     },
     "execution_count": 2,
     "metadata": {},
     "output_type": "execute_result"
    }
   ],
   "source": [
    "cols = ['CBSA', 'YEAR', 'MONTH', 'AGE', 'LFS', 'FEMALE',\n",
    "        'BASICWGT', 'STATE', 'WBHAO']\n",
    "CBSA_id = 47900\n",
    "states_list = ['MD', 'VA', 'DC', 'WV']\n",
    "\n",
    "df = (pd.read_feather(f'cps2019.ft', columns=cols)\n",
    "        .query('CBSA == @CBSA_id and 16 <= AGE and FEMALE == 1'))\n",
    "df.groupby(['STATE', 'LFS']).BASICWGT.count().unstack().loc[states_list]"
   ]
  },
  {
   "cell_type": "code",
   "execution_count": 3,
   "id": "e71d5101",
   "metadata": {
    "ExecuteTime": {
     "end_time": "2021-05-07T10:20:12.287212Z",
     "start_time": "2021-05-07T10:20:11.895389Z"
    }
   },
   "outputs": [
    {
     "data": {
      "image/png": "[encoded data removed]",
      "text/plain": [
       "<Figure size 432x288 with 1 Axes>"
      ]
     },
     "metadata": {},
     "output_type": "display_data"
    }
   ],
   "source": [
    "# Show DC Area in detail\n",
    "m = Basemap(llcrnrlon=-79.7, llcrnrlat=37.8, urcrnrlon=-75, urcrnrlat=40,\n",
    "            projection='lcc', lat_1=1, lat_2=0, lon_0=-95)\n",
    "\n",
    "fig, ax = plt.subplots()\n",
    "m.readshapefile(f'{path}/cb_2019_us_state_20m', 'states', \n",
    "                color='gray', linewidth=0.3)\n",
    "m.readshapefile(f'{path}/cb_2019_us_cbsa_20m', 'cbsa', drawbounds=False)\n",
    "\n",
    "seg = [shape for info, shape in zip(m.cbsa_info, m.cbsa) \n",
    "       if info['GEOID'] == str(CBSA_id)][0]\n",
    "ax.add_patch(Polygon(seg, fc='blue', ec='gray', lw=0.18, alpha=0.2))\n",
    "plt.show()"
   ]
  },
  {
   "cell_type": "code",
   "execution_count": 5,
   "id": "b5cf39b6",
   "metadata": {
    "ExecuteTime": {
     "end_time": "2021-05-07T12:11:28.526164Z",
     "start_time": "2021-05-07T12:11:28.360098Z"
    }
   },
   "outputs": [
    {
     "data": {
      "image/png": "[encoded data removed]",
      "text/plain": [
       "<Figure size 432x288 with 1 Axes>"
      ]
     },
     "metadata": {},
     "output_type": "display_data"
    }
   ],
   "source": [
    "d = {}\n",
    "for info, shape in zip(m.states_info, m.states):\n",
    "    if info['STUSPS'] in states_list: \n",
    "        d[info['STUSPS']] = sg.Polygon(seg).intersection(sg.Polygon(shape))\n",
    "        \n",
    "dseg = {}\n",
    "for st in states_list:\n",
    "    if type(d[st]) == sg.Polygon:\n",
    "        dseg[st] = d[st]\n",
    "    else:\n",
    "        dseg[st] = [i for i in d[st] if hasattr(i, 'exterior') == True][0]\n",
    "        \n",
    "# facecolor for each state\n",
    "fc = {'MD': 'green', 'VA': 'orange', 'DC': 'dodgerblue', 'WV': 'red'}\n",
    "\n",
    "# Show DC Area in detail\n",
    "fig, ax = plt.subplots()\n",
    "m.readshapefile(f'{path}/cb_2019_us_state_20m', 'states', \n",
    "                color='lightgray', linewidth=0.3)\n",
    "m.readshapefile(f'{path}/cb_2019_us_cbsa_20m', 'cbsa', \n",
    "                drawbounds=False)\n",
    "\n",
    "for k, shape in dseg.items():\n",
    "    ax.add_patch(Polygon(shape.exterior, fc=fc[k]))\n",
    "\n",
    "plt.show()"
   ]
  },
  {
   "cell_type": "code",
   "execution_count": null,
   "id": "31bd1c0b",
   "metadata": {},
   "outputs": [],
   "source": []
  },
  {
   "cell_type": "code",
   "execution_count": null,
   "id": "08ea5501",
   "metadata": {},
   "outputs": [],
   "source": []
  },
  {
   "cell_type": "code",
   "execution_count": null,
   "id": "68958ba8",
   "metadata": {},
   "outputs": [],
   "source": []
  }
 ],
 "metadata": {
  "kernelspec": {
   "display_name": "Python 3",
   "language": "python",
   "name": "python3"
  },
  "language_info": {
   "codemirror_mode": {
    "name": "ipython",
    "version": 3
   },
   "file_extension": ".py",
   "mimetype": "text/x-python",
   "name": "python",
   "nbconvert_exporter": "python",
   "pygments_lexer": "ipython3",
   "version": "3.8.8"
  }
 },
 "nbformat": 4,
 "nbformat_minor": 5
}
