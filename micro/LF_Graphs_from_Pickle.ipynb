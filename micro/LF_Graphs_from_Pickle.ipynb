{
 "cells": [
  {
   "cell_type": "markdown",
   "metadata": {},
   "source": [
    "### Looking behind changes to the labor force\n",
    "\n",
    "February 16, 2018 @bd_econ\n",
    "\n",
    "-----\n",
    "\n",
    "A guided example of Python for economic analysis of public use microdata."
   ]
  },
  {
   "cell_type": "code",
   "execution_count": 1,
   "metadata": {
    "ExecuteTime": {
     "end_time": "2018-02-19T05:09:28.076762Z",
     "start_time": "2018-02-19T05:09:27.639227Z"
    },
    "code_folding": [
     0
    ]
   },
   "outputs": [],
   "source": [
    "# Preliminaries--load packages and settings\n",
    "%matplotlib inline\n",
    "import matplotlib as mpl\n",
    "import matplotlib.pyplot as plt\n",
    "plt.style.use('seaborn-white')\n",
    "mpl.rc('axes', edgecolor='white') # Hide the axes\n",
    "plt.rc('axes', axisbelow=True)\n",
    "import pandas as pd\n",
    "import numpy as np\n",
    "import sqlite3\n",
    "import wquantiles\n",
    "\n",
    "# Connect to database containing monthly CPS data files\n",
    "conn = sqlite3.connect('data/cps.db')\n",
    "\n",
    "# Recession start and end months, from NBER\n",
    "rec_dt = [('2001-04-01', '2001-12-01'), ('2008-01-01', '2009-07-01')]"
   ]
  },
  {
   "cell_type": "code",
   "execution_count": 55,
   "metadata": {
    "ExecuteTime": {
     "end_time": "2018-02-19T05:44:31.994333Z",
     "start_time": "2018-02-19T05:44:31.728668Z"
    },
    "code_folding": [
     0,
     53
    ]
   },
   "outputs": [],
   "source": [
    "def get_cps_data(filters, calc_type, decile=0.5):\n",
    "    \"\"\"Filter the database and calculate labor market stat\"\"\"\n",
    "    data = pd.Series()\n",
    "    for year in range(1998, 2019):\n",
    "        d = pd.read_pickle(f'data/cps_{year}.pkl')\n",
    "        for month in range(1, 13):\n",
    "            df = d[(d['HRMONTH'] == month)]\n",
    "            if len(df) > 0:\n",
    "                df = df.query(filters)\n",
    "                if calc_type == 'epop':\n",
    "                    empl = np.where(df['PREMPNOT']==1, 1, 0)\n",
    "                    epop = np.average(empl, weights=df['PWCMPWGT'])\n",
    "                    data[pd.to_datetime(f'{year}-{month}-01')] = epop * 100\n",
    "                if calc_type == 'unemp':\n",
    "                    un = np.where(df['PREMPNOT']==2, 1, 0)\n",
    "                    lf = np.where(df['PREMPNOT'].isin([1, 2]), 1, 0)\n",
    "                    unrt = (df['PWCMPWGT'] * un).sum() / (df['PWCMPWGT'] * lf).sum()\n",
    "                    data[pd.to_datetime(f'{year}-{month}-01')] = unrt * 100\n",
    "                if calc_type == 'lfpr':\n",
    "                    lf = np.where(df['PREMPNOT'].isin([1, 2]), 1, 0)\n",
    "                    unrt = (df['PWCMPWGT'] * lf).sum() / (df['PWCMPWGT']).sum()\n",
    "                    data[pd.to_datetime(f'{year}-{month}-01')] = unrt * 100\n",
    "                if calc_type == 'disc':\n",
    "                    dw = np.where(df['PRDISC'].isin([1, 2]), 1, 0)\n",
    "                    dwrt = (df['PWCMPWGT'] * dw).sum() / (df['PWCMPWGT']).sum()\n",
    "                    data[pd.to_datetime(f'{year}-{month}-01')] = dwrt * 100\n",
    "                if calc_type == 'nilfsch':\n",
    "                    ns = np.where(df['PENLFACT']==3, 1, 0)\n",
    "                    scrt = (df['PWCMPWGT'] * ns).sum() / (df['PWCMPWGT']).sum()\n",
    "                    data[pd.to_datetime(f'{year}-{month}-01')] = scrt * 100   \n",
    "                if calc_type == 'disill':\n",
    "                    nd = np.where(df['PENLFACT'].isin([1, 2]), 1, 0)\n",
    "                    di = (df['PWCMPWGT'] * nd).sum() / (df['PWCMPWGT']).sum()\n",
    "                    data[pd.to_datetime(f'{year}-{month}-01')] = di * 100\n",
    "                if calc_type == 'care':\n",
    "                    care = np.where(df['PENLFACT']==4, 1, 0)\n",
    "                    ncare = (df['PWCMPWGT'] * care).sum() / (df['PWCMPWGT']).sum()\n",
    "                    data[pd.to_datetime(f'{year}-{month}-01')] = ncare * 100 \n",
    "                if calc_type == 'uwe':\n",
    "                    uwe = wquantiles.quantile(\n",
    "                        df['PRERNWA'], df['PWORWGT'].astype(float), decile) / 100.0\n",
    "                    data[pd.to_datetime(f'{year}-{month}-01')] = uwe\n",
    "                if calc_type == 'uhe':\n",
    "                    uhe = wquantiles.quantile(\n",
    "                        df['PRERNHLY'], df['PWORWGT'].astype(float), decile) / 100.0\n",
    "                    data[pd.to_datetime(f'{year}-{month}-01')] = uhe\n",
    "    # Growth if wage series\n",
    "    if calc_type in ['uwe', 'uhe']:\n",
    "        data = data.pct_change(12) * 100\n",
    "    \n",
    "    # Take one-year moving average to smooth out seasonality and noise\n",
    "    return data.rolling(12).mean().dropna()\n",
    "\n",
    "def labor_mkt_grapher(title, data, color):\n",
    "    \"\"\"Graph the labor market! \"\"\"\n",
    "    spcr, spcr2 = (data.max() - data.min()) / 18, (data.max() - data.min()) / 40\n",
    "    ax = data.plot(title=title, figsize=(5, 2.5), color=color)\n",
    "    ax = plt.scatter([data.index[-1]], [data[-1]], color=color)\n",
    "    for i, v in rec_dt:\n",
    "        ax = plt.axvspan(i, v, fill=True, linewidth=0, color='gray', alpha=0.2)  \n",
    "    ax = plt.annotate(f'  {data[-1]: .1f}%', (data.index[-1], data[-1]-spcr2))\n",
    "    ax = plt.annotate(f'{data.index[-1]:%b %Y}', (data.index[-1], data[-1]+spcr), \n",
    "                      fontweight='bold')\n",
    "    ax = plt.xlabel('Source: Current Population Survey')"
   ]
  },
  {
   "cell_type": "code",
   "execution_count": 54,
   "metadata": {
    "ExecuteTime": {
     "end_time": "2018-02-19T05:39:30.578796Z",
     "start_time": "2018-02-19T05:39:25.609055Z"
    },
    "code_folding": [
     0
    ]
   },
   "outputs": [
    {
     "data": {
      "image/png": "[encoded data removed]",
      "text/plain": [
       "<matplotlib.figure.Figure at 0x28165db1978>"
      ]
     },
     "metadata": {},
     "output_type": "display_data"
    }
   ],
   "source": [
    "# Weekly wage growth\n",
    "filters = 'PRTAGE > 24 and PRTAGE < 35 and PESEX == 1 and PRFTLF == 1 and PRERNWA > 0'\n",
    "calc_type = 'uwe'\n",
    "title = 'Bottom decile weekly wage growth men age 25-34'\n",
    "data = get_cps_data(filters, calc_type, decile=0.1)\n",
    "labor_mkt_grapher(title, data, 'darkgreen')"
   ]
  },
  {
   "cell_type": "code",
   "execution_count": 57,
   "metadata": {
    "ExecuteTime": {
     "end_time": "2018-02-19T05:46:32.345090Z",
     "start_time": "2018-02-19T05:46:27.375343Z"
    },
    "code_folding": [
     0
    ]
   },
   "outputs": [
    {
     "data": {
      "image/png": "[encoded data removed]",
      "text/plain": [
       "<matplotlib.figure.Figure at 0x28165cc34a8>"
      ]
     },
     "metadata": {},
     "output_type": "display_data"
    }
   ],
   "source": [
    "# Hourly wage growth\n",
    "filters = 'PRTAGE > 24 and PRTAGE < 35 and PESEX == 1 and PRFTLF == 1 and PRERNHLY > 0'\n",
    "calc_type = 'uhe'\n",
    "title = 'Bottom quartile hourly wage growth men age 25-34'\n",
    "data = get_cps_data(filters, calc_type, decile=0.25)\n",
    "labor_mkt_grapher(title, data, 'purple')"
   ]
  },
  {
   "cell_type": "code",
   "execution_count": null,
   "metadata": {
    "ExecuteTime": {
     "end_time": "2018-02-17T00:51:24.888930Z",
     "start_time": "2018-02-17T00:50:52.264014Z"
    },
    "code_folding": [
     0
    ]
   },
   "outputs": [],
   "source": [
    "# Weekly wage growth\n",
    "series = 'PRERNWA, PWORWGT'\n",
    "filters = \"and (PRTAGE between 25 and 34) and (PESEX = 2) and (PRFTLF = 1) and (PRERNWA > 0)\"\n",
    "calc_type = 'uwe'\n",
    "title = 'Median weekly wage, annual growth, women age 25-34'\n",
    "data = get_cps_data(series, filters, calc_type, decile=0.5)\n",
    "labor_mkt_grapher(title, data, 'limegreen')"
   ]
  },
  {
   "cell_type": "code",
   "execution_count": null,
   "metadata": {
    "ExecuteTime": {
     "end_time": "2018-02-17T01:24:50.229023Z",
     "start_time": "2018-02-17T01:24:14.804235Z"
    },
    "code_folding": [
     0
    ]
   },
   "outputs": [],
   "source": [
    "# Discouraged worker, or conditionally available\n",
    "series = 'PRDISC'\n",
    "filters = \"and (PRTAGE between 25 and 34) and (PESEX = 1)\"\n",
    "calc_type = 'disc'\n",
    "title = 'Discouraged, NILF, % of men age 25-34, 2000-present, 12M-MA'\n",
    "data = get_cps_data(series, filters, calc_type)\n",
    "labor_mkt_grapher(title, data, 'orange')"
   ]
  },
  {
   "cell_type": "markdown",
   "metadata": {},
   "source": [
    "The employment to population ratio calculates what share of the total population ($P$), has a job. It is calculated from the Current Population Survey (CPS)."
   ]
  },
  {
   "cell_type": "code",
   "execution_count": null,
   "metadata": {
    "ExecuteTime": {
     "end_time": "2018-02-19T04:07:55.567246Z",
     "start_time": "2018-02-19T04:07:33.611956Z"
    },
    "code_folding": [
     0
    ]
   },
   "outputs": [],
   "source": [
    "# Employment to Population Ratio\n",
    "filters = 'PRTAGE >= 25 and PRTAGE <= 34 and PESEX == 1'\n",
    "calc_type = 'epop'\n",
    "title = 'Percent of men age 25-34 with a job, 2000-present, 12M-MA'\n",
    "data = get_cps_data(filters, calc_type)\n",
    "labor_mkt_grapher(title, data, 'blue')"
   ]
  },
  {
   "cell_type": "code",
   "execution_count": null,
   "metadata": {
    "ExecuteTime": {
     "end_time": "2018-02-19T04:10:57.664904Z",
     "start_time": "2018-02-19T04:10:51.741613Z"
    }
   },
   "outputs": [],
   "source": [
    "title = 'Percent of men age 25-34 with a job'\n",
    "data = pd.Series()\n",
    "for year in range (1998, 2019):\n",
    "    df = pd.read_pickle(f'data/cps_{year}.pkl')\n",
    "    for month in range(1, 13):\n",
    "        dft = df.query(f'HRMONTH == {month} and PRTAGE >= 25 and PRTAGE <= 34 and PESEX == 1')\n",
    "        if len(dft) > 0: \n",
    "            empl = np.where(dft['PREMPNOT']==1, 1, 0)\n",
    "            epop = np.average(empl, weights=dft['PWCMPWGT'])\n",
    "            data[pd.to_datetime(f'{year}-{month}-01')] = epop * 100\n",
    "data2 = data.rolling(12).mean().dropna()\n",
    "labor_mkt_grapher(title, data2, 'blue')"
   ]
  },
  {
   "cell_type": "markdown",
   "metadata": {},
   "source": [
    "### The share of men age 25-34 with a job has not recovered from its 2000 peak\n",
    "\n",
    "There are essentially three labor force categories: employed, unemployed, and not in the labor force.\n",
    "\n",
    "$$Population = Employed + Unemployed + Not \\ in \\ Labor \\ Force$$\n",
    "\n",
    "The employment-population ratio (above) is therefore $\\frac{Employed}{Population}$. $Unemployed$ and $Not \\ in \\ Labor \\ Force$ are different; $Unemployed$ counts those actively looking for work or recently layed off. People can be outside the labor force for many reasons, some more subject to economic factors than others.\n",
    "\n",
    "The CPS gives 100,000 people a chance to tell their story each month, including why they are not in the labor force. We can use the survey responses to summarize trends across groups."
   ]
  },
  {
   "cell_type": "code",
   "execution_count": null,
   "metadata": {
    "ExecuteTime": {
     "end_time": "2018-02-17T03:11:12.563948Z",
     "start_time": "2018-02-17T03:10:36.855025Z"
    },
    "code_folding": [
     0
    ]
   },
   "outputs": [],
   "source": [
    "# Unemployment Rate\n",
    "series = 'PREMPNOT'\n",
    "filters = \"and (PRTAGE between 25 and 34) and (PESEX = 1)\"\n",
    "calc_type = 'unemp'\n",
    "title = 'Unemployment rate, men age 25-34'\n",
    "data = get_cps_data(series, filters, calc_type)\n",
    "labor_mkt_grapher(title, data, 'green')"
   ]
  },
  {
   "cell_type": "markdown",
   "metadata": {},
   "source": [
    "The unemployment rate has more or less recovered, unlike the employment to population ratio. It is calculated as the unemployed population divided by the labor force, $\\frac{Unemployed}{(Employed+Unemployed)}$. We can also look at the labor force participation rate, $\\frac{(Employed+Unemployed)}{Population}$, the least recovered of the three measures. "
   ]
  },
  {
   "cell_type": "code",
   "execution_count": null,
   "metadata": {
    "ExecuteTime": {
     "end_time": "2018-02-17T03:03:27.880509Z",
     "start_time": "2018-02-17T03:02:52.007418Z"
    },
    "code_folding": [
     0
    ]
   },
   "outputs": [],
   "source": [
    "# Labor force participation rate\n",
    "series = 'PREMPNOT'\n",
    "filters = \"and (PRTAGE between 25 and 34) and (PESEX = 1)\"\n",
    "calc_type = 'lfpr'\n",
    "title = 'Labor force participation rate, men age 25-34'\n",
    "data = get_cps_data(series, filters, calc_type)\n",
    "labor_mkt_grapher(title, data, 'red')"
   ]
  },
  {
   "cell_type": "markdown",
   "metadata": {},
   "source": [
    "### Women"
   ]
  },
  {
   "cell_type": "code",
   "execution_count": null,
   "metadata": {
    "ExecuteTime": {
     "end_time": "2018-02-17T00:28:56.827286Z",
     "start_time": "2018-02-17T00:28:21.632630Z"
    },
    "code_folding": [
     0
    ]
   },
   "outputs": [],
   "source": [
    "# Care for other, not in labor force\n",
    "series = 'PENLFACT'\n",
    "filters = \"and (PRTAGE between 25 and 34) and (PESEX = 2)\"\n",
    "calc_type = 'care'\n",
    "title = 'Caregiving, NILF, % of women age 25-34, 12-mo moving avg'\n",
    "data = get_cps_data(series, filters, calc_type)\n",
    "labor_mkt_grapher(title, data, 'blue')\n",
    "plt.savefig('caregiving.png', bbox_inches='tight', dpi=500)"
   ]
  },
  {
   "cell_type": "code",
   "execution_count": null,
   "metadata": {
    "ExecuteTime": {
     "end_time": "2018-02-17T01:46:04.986961Z",
     "start_time": "2018-02-17T01:45:29.105609Z"
    },
    "code_folding": [
     0
    ]
   },
   "outputs": [],
   "source": [
    "# Care for other, not in labor force\n",
    "series = 'PENLFACT'\n",
    "filters = \"and (PRTAGE between 35 and 44) and (PESEX = 2)\"\n",
    "calc_type = 'care'\n",
    "title = 'Caregiving, NILF, % of women age 35-44, 12-mo moving avg'\n",
    "data = get_cps_data(series, filters, calc_type)\n",
    "labor_mkt_grapher(title, data, 'blue')"
   ]
  },
  {
   "cell_type": "code",
   "execution_count": null,
   "metadata": {
    "ExecuteTime": {
     "end_time": "2018-02-17T01:47:23.800198Z",
     "start_time": "2018-02-17T01:46:47.936068Z"
    },
    "code_folding": [
     0
    ]
   },
   "outputs": [],
   "source": [
    "# Care for other, not in labor force\n",
    "series = 'PENLFACT'\n",
    "filters = \"and (PRTAGE between 45 and 54) and (PESEX = 2)\"\n",
    "calc_type = 'care'\n",
    "title = 'Caregiving, NILF, % of women age 45-54, 12-mo moving avg'\n",
    "data = get_cps_data(series, filters, calc_type)\n",
    "labor_mkt_grapher(title, data, 'blue')"
   ]
  },
  {
   "cell_type": "code",
   "execution_count": null,
   "metadata": {
    "ExecuteTime": {
     "end_time": "2018-02-17T00:31:37.929766Z",
     "start_time": "2018-02-17T00:31:02.964020Z"
    },
    "code_folding": [
     0
    ]
   },
   "outputs": [],
   "source": [
    "# Care for other, not in labor force\n",
    "series = 'PENLFACT'\n",
    "filters = \"and (PRTAGE between 25 and 34) and (PESEX = 1)\"\n",
    "calc_type = 'care'\n",
    "title = 'Caregiving, NILF, % of men age 25-34, 12-mo moving avg'\n",
    "data = get_cps_data(series, filters, calc_type)\n",
    "labor_mkt_grapher(title, data, 'darkorchid')\n",
    "plt.savefig('caregiving.png', bbox_inches='tight', dpi=500)"
   ]
  },
  {
   "cell_type": "code",
   "execution_count": null,
   "metadata": {
    "ExecuteTime": {
     "end_time": "2018-02-17T03:50:16.759639Z",
     "start_time": "2018-02-17T03:49:42.319338Z"
    },
    "code_folding": [
     0
    ]
   },
   "outputs": [],
   "source": [
    "# Disabled/Ill, not in labor force\n",
    "series = 'PENLFACT'\n",
    "filters = \"and (PRTAGE between 25 and 34) and (PESEX = 1)\"\n",
    "calc_type = 'disill'\n",
    "title = 'Disabled/Ill, NILF, % of men age 25-34'\n",
    "data = get_cps_data(series, filters, calc_type)\n",
    "labor_mkt_grapher(title, data, 'orange')"
   ]
  },
  {
   "cell_type": "code",
   "execution_count": null,
   "metadata": {
    "ExecuteTime": {
     "end_time": "2018-02-16T23:14:16.267053Z",
     "start_time": "2018-02-16T23:13:42.747443Z"
    },
    "code_folding": [
     0
    ]
   },
   "outputs": [],
   "source": [
    "# Disabled/Ill, not in labor force\n",
    "series = 'PENLFACT'\n",
    "filters = \"and (PRTAGE between 25 and 34) and (PESEX = 2)\"\n",
    "calc_type = 'disill'\n",
    "title = 'Disabled/Ill, NILF, % of women age 25-34, 2000-present, 12M-MA'\n",
    "data = get_cps_data(series, filters, calc_type)\n",
    "labor_mkt_grapher(title, data, 'midnightblue')"
   ]
  },
  {
   "cell_type": "code",
   "execution_count": null,
   "metadata": {
    "ExecuteTime": {
     "end_time": "2018-02-17T03:05:16.390786Z",
     "start_time": "2018-02-17T03:04:40.684804Z"
    },
    "code_folding": [
     0
    ]
   },
   "outputs": [],
   "source": [
    "# In school, not in labor force\n",
    "series = 'PENLFACT'\n",
    "filters = \"and (PRTAGE between 25 and 34) and (PESEX = 1)\"\n",
    "calc_type = 'nilfsch'\n",
    "title = 'In school, NILF, % of men age 25-34'\n",
    "data = get_cps_data(series, filters, calc_type)\n",
    "labor_mkt_grapher(title, data, 'red')"
   ]
  },
  {
   "cell_type": "code",
   "execution_count": null,
   "metadata": {
    "ExecuteTime": {
     "end_time": "2018-02-17T02:16:20.277034Z",
     "start_time": "2018-02-17T02:15:41.275091Z"
    },
    "code_folding": [
     0
    ]
   },
   "outputs": [],
   "source": [
    "# In school, not in labor force\n",
    "series = 'PENLFACT'\n",
    "filters = \"and (PRTAGE between 25 and 34) and (PESEX = 2)\"\n",
    "calc_type = 'nilfsch'\n",
    "title = 'In school, NILF, % of women age 25-34'\n",
    "data = get_cps_data(series, filters, calc_type)\n",
    "labor_mkt_grapher(title, data, 'green')"
   ]
  },
  {
   "cell_type": "code",
   "execution_count": null,
   "metadata": {
    "ExecuteTime": {
     "end_time": "2018-02-17T02:17:10.110877Z",
     "start_time": "2018-02-17T02:16:27.563029Z"
    },
    "code_folding": [
     0
    ]
   },
   "outputs": [],
   "source": [
    "# In school, not in labor force\n",
    "series = 'PENLFACT'\n",
    "filters = \"and (PRTAGE between 35 and 44) and (PESEX = 2)\"\n",
    "calc_type = 'nilfsch'\n",
    "title = 'In school, NILF, % of women age 35-44'\n",
    "data = get_cps_data(series, filters, calc_type)\n",
    "labor_mkt_grapher(title, data, 'purple')"
   ]
  },
  {
   "cell_type": "code",
   "execution_count": null,
   "metadata": {
    "ExecuteTime": {
     "end_time": "2018-02-17T02:22:32.643520Z",
     "start_time": "2018-02-17T02:21:54.258669Z"
    },
    "code_folding": [
     0
    ]
   },
   "outputs": [],
   "source": [
    "# Discouraged worker, or conditionally available\n",
    "series = 'PRDISC'\n",
    "filters = \"and (PRTAGE between 25 and 34) and (PESEX = 2)\"\n",
    "calc_type = 'disc'\n",
    "title = 'Discouraged, NILF, % of women age 25-34'\n",
    "data = get_cps_data(series, filters, calc_type)\n",
    "labor_mkt_grapher(title, data, 'orange')"
   ]
  },
  {
   "cell_type": "code",
   "execution_count": null,
   "metadata": {
    "ExecuteTime": {
     "end_time": "2018-02-17T02:19:18.745371Z",
     "start_time": "2018-02-17T02:18:40.164332Z"
    },
    "code_folding": [
     0
    ]
   },
   "outputs": [],
   "source": [
    "# Discouraged worker, or conditionally available\n",
    "series = 'PRDISC'\n",
    "filters = \"and (PRTAGE between 45 and 54) and (PESEX = 1)\"\n",
    "calc_type = 'disc'\n",
    "title = 'Discouraged, NILF, % of men age 45-54'\n",
    "data = get_cps_data(series, filters, calc_type)\n",
    "labor_mkt_grapher(title, data, 'darkblue')"
   ]
  },
  {
   "cell_type": "code",
   "execution_count": null,
   "metadata": {
    "ExecuteTime": {
     "end_time": "2018-02-16T21:58:53.140659Z",
     "start_time": "2018-02-16T21:58:19.896212Z"
    },
    "code_folding": [
     0
    ]
   },
   "outputs": [],
   "source": [
    "# Employment to Population Ratio\n",
    "series = 'PREMPNOT'\n",
    "filters = \"and (PRTAGE between 25 and 34) and (PESEX = 2)\"\n",
    "calc_type = 'epop'\n",
    "title = 'Percent of women age 25-34 with a job, 2000-present, 12M-MA'\n",
    "data = get_cps_data(series, filters, calc_type)\n",
    "labor_mkt_grapher(title, data, 'blue')"
   ]
  },
  {
   "cell_type": "code",
   "execution_count": null,
   "metadata": {
    "ExecuteTime": {
     "end_time": "2018-02-16T21:59:26.601304Z",
     "start_time": "2018-02-16T21:58:53.140659Z"
    },
    "code_folding": [
     0
    ]
   },
   "outputs": [],
   "source": [
    "# Unemployment Rate\n",
    "calc_type = 'unemp'\n",
    "title = 'Unemployment rate, women age 25-34, 2000-present, 12M-MA'\n",
    "data = get_cps_data(series, filters, calc_type)\n",
    "labor_mkt_grapher(title, data, 'green')"
   ]
  },
  {
   "cell_type": "code",
   "execution_count": null,
   "metadata": {
    "ExecuteTime": {
     "end_time": "2018-02-17T00:15:40.910181Z",
     "start_time": "2018-02-17T00:15:05.292299Z"
    },
    "code_folding": [
     0
    ]
   },
   "outputs": [],
   "source": [
    "# Labor force participation rate\n",
    "series = 'PREMPNOT'\n",
    "filters = \"and (PRTAGE between 25 and 34) and (PESEX = 2)\"\n",
    "calc_type = 'lfpr'\n",
    "title = 'Labor force participation rate, women age 25-34, 12M-MA'\n",
    "data = get_cps_data(series, filters, calc_type)\n",
    "labor_mkt_grapher(title, data, 'red')\n",
    "plt.savefig('lfpr.png', bbox_inches='tight', dpi=500)"
   ]
  },
  {
   "cell_type": "code",
   "execution_count": null,
   "metadata": {
    "ExecuteTime": {
     "end_time": "2018-02-16T22:24:59.121763Z",
     "start_time": "2018-02-16T22:24:27.636667Z"
    },
    "code_folding": [
     0
    ],
    "scrolled": false
   },
   "outputs": [],
   "source": [
    "# Employment to Population Ratio\n",
    "series = 'PREMPNOT'\n",
    "filters = \"and (PEEDUCA >= 43) and (PRTAGE between 25 and 34) and (PESEX = 1)\"\n",
    "calc_type = 'epop'\n",
    "title = 'Employed % of college+ men age 25-34, 2000-present, 12M-MA'\n",
    "data = get_cps_data(series, filters, calc_type)\n",
    "labor_mkt_grapher(title, data, 'blue')"
   ]
  },
  {
   "cell_type": "code",
   "execution_count": null,
   "metadata": {
    "ExecuteTime": {
     "end_time": "2018-02-17T03:44:21.729850Z",
     "start_time": "2018-02-17T03:43:48.836300Z"
    },
    "code_folding": [
     0
    ],
    "scrolled": true
   },
   "outputs": [],
   "source": [
    "# Unemployment Rate\n",
    "calc_type = 'unemp'\n",
    "title = 'Unemployment rate, college+ men age 25-34'\n",
    "data = get_cps_data(series, filters, calc_type)\n",
    "labor_mkt_grapher(title, data, 'green')"
   ]
  },
  {
   "cell_type": "code",
   "execution_count": null,
   "metadata": {
    "ExecuteTime": {
     "end_time": "2018-02-17T03:43:48.836300Z",
     "start_time": "2018-02-17T03:43:15.646017Z"
    },
    "code_folding": [
     0
    ],
    "scrolled": false
   },
   "outputs": [],
   "source": [
    "# Labor force participation rate\n",
    "series = 'PREMPNOT'\n",
    "filters = \"and (PEEDUCA >= 43) and (PRTAGE between 25 and 34) and (PESEX = 1)\"\n",
    "calc_type = 'lfpr'\n",
    "title = 'Labor force participation rate, college+ men age 25-34'\n",
    "data = get_cps_data(series, filters, calc_type)\n",
    "labor_mkt_grapher(title, data, 'red')"
   ]
  },
  {
   "cell_type": "code",
   "execution_count": null,
   "metadata": {
    "ExecuteTime": {
     "end_time": "2018-02-17T01:55:22.504373Z",
     "start_time": "2018-02-17T01:54:48.394052Z"
    },
    "code_folding": [
     0
    ],
    "scrolled": false
   },
   "outputs": [],
   "source": [
    "# Employment to Population Ratio\n",
    "series = 'PREMPNOT'\n",
    "filters = \"and (PEEDUCA >= 43) and (PRTAGE between 25 and 34) and (PESEX = 2)\"\n",
    "calc_type = 'epop'\n",
    "title = 'Employed % of college degree+ women age 25-34'\n",
    "data = get_cps_data(series, filters, calc_type)\n",
    "labor_mkt_grapher(title, data, 'blue')"
   ]
  },
  {
   "cell_type": "code",
   "execution_count": null,
   "metadata": {
    "ExecuteTime": {
     "end_time": "2018-02-17T01:59:58.490405Z",
     "start_time": "2018-02-17T01:59:24.012355Z"
    },
    "code_folding": [
     0
    ]
   },
   "outputs": [],
   "source": [
    "# Employment to Population Ratio\n",
    "series = 'PREMPNOT'\n",
    "filters = \"and (PEEDUCA >= 43) and (PRTAGE between 35 and 44) and (PESEX = 2)\"\n",
    "calc_type = 'epop'\n",
    "title = 'Employed % of college degree+ women age 35-44'\n",
    "data = get_cps_data(series, filters, calc_type)\n",
    "labor_mkt_grapher(title, data, 'blue')"
   ]
  },
  {
   "cell_type": "code",
   "execution_count": null,
   "metadata": {
    "ExecuteTime": {
     "end_time": "2018-02-17T02:00:32.421656Z",
     "start_time": "2018-02-17T01:59:58.492908Z"
    },
    "code_folding": [
     0
    ]
   },
   "outputs": [],
   "source": [
    "# Employment to Population Ratio\n",
    "series = 'PREMPNOT'\n",
    "filters = \"and (PEEDUCA >= 43) and (PRTAGE between 45 and 54) and (PESEX = 2)\"\n",
    "calc_type = 'epop'\n",
    "title = 'Employed % of college degree+ women age 45-54'\n",
    "data = get_cps_data(series, filters, calc_type)\n",
    "labor_mkt_grapher(title, data, 'blue')"
   ]
  },
  {
   "cell_type": "code",
   "execution_count": null,
   "metadata": {
    "ExecuteTime": {
     "end_time": "2018-02-17T01:53:11.598023Z",
     "start_time": "2018-02-17T01:52:37.452114Z"
    },
    "code_folding": [
     0
    ],
    "scrolled": true
   },
   "outputs": [],
   "source": [
    "# Unemployment Rate\n",
    "series = 'PREMPNOT'\n",
    "filters = \"and (PEEDUCA >= 43) and (PRTAGE between 25 and 34) and (PESEX = 2)\"\n",
    "calc_type = 'unemp'\n",
    "title = 'Unemployment rate, college+ women age 25-34'\n",
    "data = get_cps_data(series, filters, calc_type)\n",
    "labor_mkt_grapher(title, data, 'green')"
   ]
  },
  {
   "cell_type": "code",
   "execution_count": null,
   "metadata": {
    "ExecuteTime": {
     "end_time": "2018-02-17T02:03:14.486028Z",
     "start_time": "2018-02-17T02:02:39.594135Z"
    },
    "code_folding": [
     0
    ],
    "scrolled": true
   },
   "outputs": [],
   "source": [
    "# Labor force participation rate\n",
    "calc_type = 'lfpr'\n",
    "title = 'Labor force participation rate, college+ women age 25-34'\n",
    "data = get_cps_data(series, filters, calc_type)\n",
    "labor_mkt_grapher(title, data, 'red')"
   ]
  },
  {
   "cell_type": "code",
   "execution_count": null,
   "metadata": {
    "ExecuteTime": {
     "end_time": "2018-02-17T01:42:35.559217Z",
     "start_time": "2018-02-17T01:42:02.020636Z"
    },
    "code_folding": [
     0
    ]
   },
   "outputs": [],
   "source": [
    "# Weekly wage growth\n",
    "series = 'PRERNWA, PWORWGT'\n",
    "filters = \"and (PRTAGE between 25 and 34) and (PESEX = 2) and (PRFTLF = 1) and (PRERNWA > 0)\"\n",
    "calc_type = 'uwe'\n",
    "title = 'Bottom decile weekly wage growth women age 25-34, 12M-MA'\n",
    "data = get_cps_data(series, filters, calc_type, decile=0.1)\n",
    "labor_mkt_grapher(title, data, 'purple')"
   ]
  },
  {
   "cell_type": "code",
   "execution_count": null,
   "metadata": {
    "ExecuteTime": {
     "end_time": "2018-02-17T01:49:23.260581Z",
     "start_time": "2018-02-17T01:48:49.720581Z"
    },
    "code_folding": [
     0
    ]
   },
   "outputs": [],
   "source": [
    "# Weekly wage growth\n",
    "series = 'PRERNWA, PWORWGT'\n",
    "filters = \"and (PRTAGE between 35 and 44) and (PESEX = 2) and (PRFTLF = 1) and (PRERNWA > 0)\"\n",
    "calc_type = 'uwe'\n",
    "title = 'Bottom decile weekly wage growth women age 35-44'\n",
    "data = get_cps_data(series, filters, calc_type, decile=0.1)\n",
    "labor_mkt_grapher(title, data, 'purple')"
   ]
  },
  {
   "cell_type": "code",
   "execution_count": null,
   "metadata": {
    "ExecuteTime": {
     "end_time": "2018-02-17T01:49:57.054175Z",
     "start_time": "2018-02-17T01:49:23.263584Z"
    },
    "code_folding": [
     0
    ]
   },
   "outputs": [],
   "source": [
    "# Weekly wage growth\n",
    "series = 'PRERNWA, PWORWGT'\n",
    "filters = \"and (PRTAGE between 45 and 54) and (PESEX = 2) and (PRFTLF = 1) and (PRERNWA > 0)\"\n",
    "calc_type = 'uwe'\n",
    "title = 'Bottom decile weekly wage growth women age 45-54'\n",
    "data = get_cps_data(series, filters, calc_type, decile=0.1)\n",
    "labor_mkt_grapher(title, data, 'purple')"
   ]
  }
 ],
 "metadata": {
  "kernelspec": {
   "display_name": "Python 3",
   "language": "python",
   "name": "python3"
  },
  "language_info": {
   "codemirror_mode": {
    "name": "ipython",
    "version": 3
   },
   "file_extension": ".py",
   "mimetype": "text/x-python",
   "name": "python",
   "nbconvert_exporter": "python",
   "pygments_lexer": "ipython3",
   "version": "3.6.4"
  }
 },
 "nbformat": 4,
 "nbformat_minor": 2
}
