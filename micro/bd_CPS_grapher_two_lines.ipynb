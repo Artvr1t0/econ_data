{
 "cells": [
  {
   "cell_type": "markdown",
   "metadata": {},
   "source": [
    "### Towards grapher 0.3\n",
    "\n",
    "#### Sample bd CPS line plot with two lines\n",
    "\n",
    "January 15, 2019\n",
    "\n",
    "Brian Dew, brian.w.dew@gmail.com\n",
    "\n",
    "-----\n",
    "The goal here is to eventually parameterize this script and integrate it with the bd_CPS_grapher.ipynb file.\n",
    "\n",
    "To Do:\n",
    "\n",
    "Refactor the extremely long code that is used to space the end point labels."
   ]
  },
  {
   "cell_type": "code",
   "execution_count": 1,
   "metadata": {
    "ExecuteTime": {
     "end_time": "2019-09-14T23:02:27.439966Z",
     "start_time": "2019-09-14T23:02:26.979978Z"
    }
   },
   "outputs": [],
   "source": [
    "import pandas as pd\n",
    "import numpy as np\n",
    "import os\n",
    "from datetime import timedelta\n",
    "\n",
    "os.chdir('/home/brian/Documents/CPS/data/clean')\n",
    "\n",
    "%matplotlib inline\n",
    "import matplotlib as mpl\n",
    "import matplotlib.pyplot as plt\n",
    "plt.style.use('seaborn-white')\n",
    "mpl.rc('axes', edgecolor='white') # Hide the axes\n",
    "plt.rc('axes', axisbelow=True)\n",
    "plt.rcParams.update({'axes.titlesize': 'x-large'})\n",
    "\n",
    "# Recession start and end months, from NBER\n",
    "rec_dt = [('1990-08-01', '1991-04-01'), \n",
    "          ('2001-04-01', '2001-12-01'), \n",
    "          ('2008-01-01', '2009-07-01')]"
   ]
  },
  {
   "cell_type": "code",
   "execution_count": 2,
   "metadata": {
    "ExecuteTime": {
     "end_time": "2019-09-14T23:02:27.444386Z",
     "start_time": "2019-09-14T23:02:27.441526Z"
    }
   },
   "outputs": [],
   "source": [
    "keep_cols = ['MONTH', 'LFS', 'BASICWGT', 'AGE', 'STATE', 'WBHAO', 'FEMALE']\n",
    "state1 = ['KY', 'TN']\n",
    "state2 = ['OH', 'IN']\n",
    "calcs = [('Black', '25 <= AGE <= 44 and STATE == \"SC\" and WBHAO == \"Black\" and FEMALE == 1'),\n",
    "         ('White', '25 <= AGE <= 44 and STATE == \"SC\" and WBHAO == \"White\" and FEMALE == 1')]"
   ]
  },
  {
   "cell_type": "code",
   "execution_count": 3,
   "metadata": {
    "ExecuteTime": {
     "end_time": "2019-09-14T23:02:27.454498Z",
     "start_time": "2019-09-14T23:02:27.446400Z"
    }
   },
   "outputs": [],
   "source": [
    "emp = lambda x: np.where(x['LFS'] == 'Employed', 1, 0)\n",
    "wm = lambda x: np.average(x, weights=df.loc[x.index, 'BASICWGT']) * 100\n",
    "mask = ' or '.join([f'({c[1]})' for c in calcs])\n",
    "grouper = lambda x: pd.Categorical(\n",
    "    np.where(x.eval(calcs[0][1]), calcs[0][0], calcs[1][0]))"
   ]
  },
  {
   "cell_type": "code",
   "execution_count": 4,
   "metadata": {
    "ExecuteTime": {
     "end_time": "2019-09-14T23:02:30.008763Z",
     "start_time": "2019-09-14T23:02:27.455882Z"
    }
   },
   "outputs": [],
   "source": [
    "data = pd.DataFrame()\n",
    "for year in range(1989, 2021):\n",
    "    df = (pd.read_feather(f'cps{year}.ft', columns=keep_cols)\n",
    "            .query(mask)\n",
    "            .assign(GROUP = grouper, \n",
    "                    EMP = emp))\n",
    "    result = (df.groupby(['MONTH', 'GROUP'])\n",
    "                .agg({'EMP': wm})).unstack()['EMP']\n",
    "    result.index = pd.to_datetime([f'{year}-{i}-01' for i in result.index])\n",
    "    data = data.append(result)"
   ]
  },
  {
   "cell_type": "code",
   "execution_count": 5,
   "metadata": {
    "ExecuteTime": {
     "end_time": "2019-09-14T23:02:30.024318Z",
     "start_time": "2019-09-14T23:02:30.010085Z"
    },
    "code_folding": [
     0
    ]
   },
   "outputs": [],
   "source": [
    "# Handling possible overlap of end point labels\n",
    "srs = data.rolling(12).mean().dropna()\n",
    "max_gap = (data.max().max() - data.min().min()) / 10.0\n",
    "\n",
    "end_val0 = srs.iloc[-1, 0]\n",
    "label_end_val0 = srs.columns[0]\n",
    "end_val1 = srs.iloc[-1, 1]\n",
    "label_end_val1 = srs.columns[1]\n",
    "\n",
    "end_date = srs.index[-1]\n",
    "end_gap = abs(end_val0 - end_val1)\n",
    "\n",
    "if end_val0 > end_val1:\n",
    "    top = end_val0\n",
    "    top_txt = label_end_val0\n",
    "    bottom = end_val1\n",
    "    bottom_txt = label_end_val1\n",
    "elif end_val1 > end_val0:\n",
    "    top = end_val1\n",
    "    top_txt = label_end_val1\n",
    "    bottom = end_val0\n",
    "    bottom_txt = label_end_val0\n",
    "else:\n",
    "    top = end_val1\n",
    "    top_txt = label_end_val1\n",
    "    bottom = end_val0\n",
    "    bottom_txt = label_end_val0\n",
    "    print('special')\n",
    "    #special case\n",
    "\n",
    "if '\\n' not in top_txt:\n",
    "    max_gap = max_gap * 0.66\n",
    "    \n",
    "if end_gap > max_gap:\n",
    "    top_spacer = max_gap\n",
    "    bottom_spacer = max_gap\n",
    "    date_spacer = max_gap * 1.5\n",
    "else:\n",
    "    top_spacer = max_gap\n",
    "    bottom_spacer = 0\n",
    "    date_spacer = max_gap * 1.5\n",
    "\n",
    "\n",
    "top_label = f'{top_txt}:\\n{round(top, 1)}%'\n",
    "top_label_loc = (end_date + timedelta(days=120), top + top_spacer)\n",
    "bottom_label = f'{bottom_txt}:\\n{round(bottom, 1)}%'\n",
    "bottom_label_loc = (end_date + timedelta(days=120), bottom + bottom_spacer)"
   ]
  },
  {
   "cell_type": "code",
   "execution_count": 6,
   "metadata": {
    "ExecuteTime": {
     "end_time": "2019-09-14T23:02:30.044605Z",
     "start_time": "2019-09-14T23:02:30.025575Z"
    }
   },
   "outputs": [],
   "source": [
    "colors = ['blue', 'green']"
   ]
  },
  {
   "cell_type": "code",
   "execution_count": null,
   "metadata": {
    "ExecuteTime": {
     "end_time": "2019-09-14T23:02:30.345262Z",
     "start_time": "2019-09-14T23:02:30.046325Z"
    }
   },
   "outputs": [],
   "source": [
    "title = 'South Carolina: Employed share of women age 21 to 34, in percent'\n",
    "offset = pd.DateOffset(months=4)\n",
    "plot = srs.plot(figsize=(8, 4), color=colors, legend=None)\n",
    "ax = plt.xlim(data.index[0] - offset, data.index[-1] + offset)\n",
    "ax = plt.title(title, loc='left')\n",
    "\n",
    "# Recession bars\n",
    "for i, v in rec_dt:\n",
    "    ax = plt.axvspan(i, v, fill=True, linewidth=0, color='gray', alpha=0.2)\n",
    "    \n",
    "    \n",
    "ax = plt.scatter([srs.index[-1]] * 2, srs.iloc[-1].values, \n",
    "                 color=colors)\n",
    "\n",
    "\n",
    "ax = plt.annotate(f'{srs.index[-1]:%b %Y}', (end_date, top + date_spacer), \n",
    "                  fontweight='bold')\n",
    "ax = plt.annotate(top_label, top_label_loc, va='top')\n",
    "ax = plt.annotate(bottom_label, bottom_label_loc, va='top')\n",
    "\n",
    "ax = plt.xlabel('Source: Current Population Survey microdata, 12-month moving average', ha='left', x=0)"
   ]
  }
 ],
 "metadata": {
  "kernelspec": {
   "display_name": "Python 3",
   "language": "python",
   "name": "python3"
  },
  "language_info": {
   "codemirror_mode": {
    "name": "ipython",
    "version": 3
   },
   "file_extension": ".py",
   "mimetype": "text/x-python",
   "name": "python",
   "nbconvert_exporter": "python",
   "pygments_lexer": "ipython3",
   "version": "3.8.1"
  }
 },
 "nbformat": 4,
 "nbformat_minor": 2
}
