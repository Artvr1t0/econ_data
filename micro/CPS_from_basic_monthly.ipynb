{
 "cells": [
  {
   "cell_type": "markdown",
   "metadata": {},
   "source": [
    "Basic Monthly CPS Files: Reading, Adjusting, Benchmarking\n",
    "=====\n",
    "\n",
    "## Generate 2017 annual CPS early estimate from available basic monthly files\n",
    "\n",
    "-----\n",
    "\n",
    "*September 15, 2017*<br>\n",
    "*Brian Dew, dew@cepr.net*\n",
    "\n",
    "\n",
    "Census CPS Monthly files can be downloaded [here](http://thedataweb.rm.census.gov/ftp/cps_ftp.html). As of September 15, 2017, the latest available file is August 2017.\n",
    "\n",
    "The Data dictionary is found [here](http://thedataweb.rm.census.gov/pub/cps/basic/201701-/January_2017_Record_Layout.txt) and describes the variables and their range of possible values.\n",
    "\n",
    "To match the raw data to education categories use [this](http://ceprdata.org/wp-content/cps/programs/basic/cepr_basic_educ.do) file, which is the CEPR program file for basic CPS education variables."
   ]
  },
  {
   "cell_type": "code",
   "execution_count": 2,
   "metadata": {
    "collapsed": true
   },
   "outputs": [],
   "source": [
    "import pandas as pd\n",
    "import numpy as np\n",
    "import os\n",
    "\n",
    "os.chdir('/home/domestic-ra/Working/CPS_ORG/EPOPs/')"
   ]
  },
  {
   "cell_type": "markdown",
   "metadata": {},
   "source": [
    "The CPS data files are fixed width format, so specific variables are located in a specific range in each row. To make the basic monthly CPS file variable names correspond with names used in the CEPR uniform extract, I map the CEPR data values to the data contained in the combined CPS monthly files.\n",
    "\n",
    "Selected variables of interest from the data dictionary:\n",
    "\n",
    "Variable | Len | Title/Name | Location\n",
    " :---|:---:|:---|:---\n",
    "HRMONTH\t| 2 | MONTH OF INTERVIEW | 16-17 \n",
    "HRYEAR4 | 4 | YEAR OF INTERVIEW | 18-21\n",
    "PRTAGE | 2 | PERSONS AGE | 122-123\n",
    "PESEX | 2 | SEX (1 MALE, 2 FEMALE) | 129-130\n",
    "PEEDUCA | 2 | HIGHEST LEVEL OF SCHOOL COMPLETED OR DEGREE RECEIVED | 137-138\n",
    "PREMPNOT | 2 | MLR - EMPLOYED, UNEMPLOYED, OR NILF | 393-394\n",
    "PRFTLF | 2 | FULL TIME LABOR FORCE | 397-398\n",
    "PRERNWA | 8 | WEEKLY EARNINGS RECODE | 527-534\n",
    "PWORWGT | 10 | OUTGOING ROTATION WEIGHT | 603-612\n",
    "PWCMPWGT | 10 | COMPOSITED FINAL WEIGHT | 846-855"
   ]
  },
  {
   "cell_type": "code",
   "execution_count": 3,
   "metadata": {
    "collapsed": true
   },
   "outputs": [],
   "source": [
    "# Python numbering (subtract one from first number in range)\n",
    "colspecs = [(15,17), (17,21), (121,123), (128,130), (136,138), (392,394), (396,398), (526, 534), (602,612), (845,855)]\n",
    "colnames = ['month', 'year', 'age', 'PESEX', 'PEEDUCA', 'PREMPNOT', 'PRFTLF', 'PRERNWA', 'orgwgt', 'fnlwgt']\n",
    "\n",
    "educ_dict = {31: 'LTHS',\n",
    "             32: 'LTHS',\n",
    "             33: 'LTHS',\n",
    "             34: 'LTHS',\n",
    "             35: 'LTHS',\n",
    "             36: 'LTHS',\n",
    "             37: 'LTHS',\n",
    "             38: 'HS',\n",
    "             39: 'HS',\n",
    "             40: 'Some college',\n",
    "             41: 'Some college',\n",
    "             42: 'Some college',\n",
    "             43: 'College',\n",
    "             44: 'Advanced',\n",
    "             45: 'Advanced',\n",
    "             46: 'Advanced',\n",
    "            }\n",
    "\n",
    "gender_dict = {1: 0, 2: 1}\n",
    "\n",
    "empl_dict = {1: 1, 2: 0, 3: 0, 4: 0}"
   ]
  },
  {
   "cell_type": "markdown",
   "metadata": {},
   "source": [
    "Convert from fixed-width format to pandas dataframe. The source files are monthly .dat files with names such as: `jan17pub.dat`"
   ]
  },
  {
   "cell_type": "code",
   "execution_count": 4,
   "metadata": {},
   "outputs": [],
   "source": [
    "data = pd.DataFrame()   # This will be the combined annual df\n",
    "\n",
    "for file in os.listdir('Data/'):\n",
    "    if file.endswith('.dat'):\n",
    "        df = pd.read_fwf('Data/{}'.format(file), colspecs=colspecs, header=None)\n",
    "        # Set the values to match with CEPR extracts\n",
    "        df.columns = colnames\n",
    "        # Add the currently open monthly df to the combined annual df\n",
    "        data = data.append(df).dropna()"
   ]
  },
  {
   "cell_type": "markdown",
   "metadata": {},
   "source": [
    "Map basic monthly CPS values to CEPR extract values"
   ]
  },
  {
   "cell_type": "code",
   "execution_count": 5,
   "metadata": {
    "collapsed": true
   },
   "outputs": [],
   "source": [
    "data['educ'] = data['PEEDUCA'].map(educ_dict)\n",
    "data['female'] = data['PESEX'].map(gender_dict)\n",
    "data['empl'] = data['PREMPNOT'].map(empl_dict)\n",
    "data['weekpay'] = data['PRERNWA']"
   ]
  },
  {
   "cell_type": "markdown",
   "metadata": {},
   "source": [
    "### Benchmark 1:\n",
    "2017 EPOP for 25-54 year old women vs BLS estimate by month: [LNU02300062](https://data.bls.gov/timeseries/LNU02300062)"
   ]
  },
  {
   "cell_type": "code",
   "execution_count": 17,
   "metadata": {},
   "outputs": [
    {
     "name": "stdout",
     "output_type": "stream",
     "text": [
      "January 2017: Women, age 25-54: 71.3\n",
      "February 2017: Women, age 25-54: 71.8\n",
      "March 2017: Women, age 25-54: 72.2\n",
      "April 2017: Women, age 25-54: 72.3\n",
      "May 2017: Women, age 25-54: 72.0\n",
      "June 2017: Women, age 25-54: 71.5\n",
      "July 2017: Women, age 25-54: 71.4\n",
      "August 2017: Women, age 25-54: 71.4\n"
     ]
    }
   ],
   "source": [
    "for month in sorted(data['month'].unique()):\n",
    "    df = data[(data['female'] == 1) & \n",
    "              (data['age'].isin(range(25,55))) & # python equiv to 25-54\n",
    "              (data['month'] == month)].dropna()\n",
    "    # EPOP as numpy weighted average of the employed variable\n",
    "    epop = np.average(df['empl'].astype(float), weights=df['fnlwgt']) * 100\n",
    "    date = pd.to_datetime('{}-{}-01'.format(df['year'].values[0], month))\n",
    "    print('{:%B %Y}: Women, age 25-54: {:0.1f}'.format(date, epop))"
   ]
  },
  {
   "cell_type": "markdown",
   "metadata": {},
   "source": [
    "### Benchmark2:\n",
    "Full-time, 16+, Median Usual Weekly Earnings: [LEU0252881500](https://data.bls.gov/timeseries/LEU0252881500)"
   ]
  },
  {
   "cell_type": "code",
   "execution_count": 31,
   "metadata": {},
   "outputs": [
    {
     "name": "stdout",
     "output_type": "stream",
     "text": [
      "2017 Q1 Usual Weekly Earnings: $865.00\n"
     ]
    }
   ],
   "source": [
    "import wquantiles\n",
    "df = data[(data['PRERNWA'] > -1) & \n",
    "          (data['age'] >= 16) & \n",
    "          (data['PRFTLF'] == 1) &\n",
    "          (data['month'].isin([1, 2, 3]))].dropna()\n",
    "print('2017 Q1 Usual Weekly Earnings: ${0:,.2f}'.format(\n",
    "    # Weighted median using wquantiles package\n",
    "    wquantiles.median(df['PRERNWA'], df['orgwgt']) / 100.0))"
   ]
  },
  {
   "cell_type": "code",
   "execution_count": 4,
   "metadata": {
    "collapsed": true
   },
   "outputs": [],
   "source": [
    "data.to_stata('Data/cepr_org_2017.dta')"
   ]
  }
 ],
 "metadata": {
  "kernelspec": {
   "display_name": "Python 3",
   "language": "python",
   "name": "python3"
  },
  "language_info": {
   "codemirror_mode": {
    "name": "ipython",
    "version": 3
   },
   "file_extension": ".py",
   "mimetype": "text/x-python",
   "name": "python",
   "nbconvert_exporter": "python",
   "pygments_lexer": "ipython3",
   "version": "3.6.1"
  }
 },
 "nbformat": 4,
 "nbformat_minor": 2
}
