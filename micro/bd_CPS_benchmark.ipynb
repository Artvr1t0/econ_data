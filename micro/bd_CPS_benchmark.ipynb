{
 "cells": [
  {
   "cell_type": "markdown",
   "metadata": {},
   "source": [
    "## bd econ CPS extract\n",
    "\n",
    "bd_CPS_benchmark.ipynb\n",
    "\n",
    "March 8, 2019\n",
    "\n",
    "Contact: Brian Dew, @bd_econ\n",
    "\n",
    "Requires: `cpsYYYY.ft` files for each year. The bd CPS files are generated bd_CPS_reader.ipynb\n",
    "\n",
    "-----\n",
    "\n",
    "See [readme](https://github.com/bdecon/econ_data/tree/master/bd_CPS) for documentation."
   ]
  },
  {
   "cell_type": "code",
   "execution_count": 1,
   "metadata": {
    "ExecuteTime": {
     "end_time": "2019-03-09T01:29:59.433831Z",
     "start_time": "2019-03-09T01:29:59.084559Z"
    }
   },
   "outputs": [
    {
     "name": "stdout",
     "output_type": "stream",
     "text": [
      "pandas: 0.24.1\n",
      "numpy: 1.16.2\n"
     ]
    }
   ],
   "source": [
    "import pandas as pd\n",
    "print('pandas:', pd.__version__)\n",
    "import numpy as np\n",
    "print('numpy:', np.__version__)\n",
    "import wquantiles\n",
    "import os\n",
    "\n",
    "os.chdir('/home/brian/Documents/CPS/data/clean/')"
   ]
  },
  {
   "cell_type": "markdown",
   "metadata": {},
   "source": [
    "### 1994-onward extracts"
   ]
  },
  {
   "cell_type": "markdown",
   "metadata": {},
   "source": [
    "#### Benchmark 1\n",
    "\n",
    "In October 1999, how many people were unemployed because of losing a job?\n",
    "\n",
    "BLS: LNU03023621: 2,162,000"
   ]
  },
  {
   "cell_type": "code",
   "execution_count": 2,
   "metadata": {
    "ExecuteTime": {
     "end_time": "2019-03-08T15:02:43.449796Z",
     "start_time": "2019-03-08T15:02:43.178975Z"
    }
   },
   "outputs": [
    {
     "data": {
      "text/plain": [
       "2161502.5"
      ]
     },
     "execution_count": 2,
     "metadata": {},
     "output_type": "execute_result"
    }
   ],
   "source": [
    "(pd.read_feather('cps1999.ft')\n",
    "   .query('MONTH==10 and UNEMPTYPE == \"Job Loser\"')\n",
    "   ['BASICWGT']).sum()"
   ]
  },
  {
   "cell_type": "markdown",
   "metadata": {},
   "source": [
    "#### Benchmark 2\n",
    "\n",
    "In February 2007, what share of age 25-54 women were employed?\n",
    "\n",
    "BLS: LNU02300062: 72.6"
   ]
  },
  {
   "cell_type": "code",
   "execution_count": 3,
   "metadata": {
    "ExecuteTime": {
     "end_time": "2019-03-08T15:02:43.811668Z",
     "start_time": "2019-03-08T15:02:43.457503Z"
    }
   },
   "outputs": [
    {
     "data": {
      "text/plain": [
       "0.72602457"
      ]
     },
     "execution_count": 3,
     "metadata": {},
     "output_type": "execute_result"
    }
   ],
   "source": [
    "df = (pd.read_feather('cps2007.ft')\n",
    "        .query('MONTH==2 and 25 <= AGE <= 54 and FEMALE==1')\n",
    "        .groupby('LFS')\n",
    "        .BASICWGT.sum())\n",
    "\n",
    "df['Employed'] / df.sum()"
   ]
  },
  {
   "cell_type": "markdown",
   "metadata": {},
   "source": [
    "#### Benchmark 3\n",
    "\n",
    "In May 2014, how many people have more than one job?\n",
    "\n",
    "BLS: LNU02026619: 7,305,000"
   ]
  },
  {
   "cell_type": "code",
   "execution_count": 4,
   "metadata": {
    "ExecuteTime": {
     "end_time": "2019-03-08T15:02:44.105750Z",
     "start_time": "2019-03-08T15:02:43.816990Z"
    }
   },
   "outputs": [
    {
     "data": {
      "text/plain": [
       "7304317.5"
      ]
     },
     "execution_count": 4,
     "metadata": {},
     "output_type": "execute_result"
    }
   ],
   "source": [
    "(pd.read_feather('cps2014.ft')\n",
    "   .query('MONTH==5 and MJH==1')\n",
    "   .BASICWGT).sum()"
   ]
  },
  {
   "cell_type": "markdown",
   "metadata": {},
   "source": [
    "#### Benchmark 4\n",
    "\n",
    "In 2017 Q1, what were the nominal median usual weekly earnings?\n",
    "\n",
    "BLS: LEU0252881500: $865"
   ]
  },
  {
   "cell_type": "code",
   "execution_count": 5,
   "metadata": {
    "ExecuteTime": {
     "end_time": "2019-03-08T15:02:44.436244Z",
     "start_time": "2019-03-08T15:02:44.107613Z"
    }
   },
   "outputs": [
    {
     "data": {
      "text/plain": [
       "865.3800048828125"
      ]
     },
     "execution_count": 5,
     "metadata": {},
     "output_type": "execute_result"
    }
   ],
   "source": [
    "df = (pd.read_feather('cps2017.ft')\n",
    "        .query('MONTH < 4 and WKWAGE > 0 and WORKFT == 1'))\n",
    "\n",
    "wquantiles.median(df['WKWAGE'], df['PWORWGT'])"
   ]
  },
  {
   "cell_type": "code",
   "execution_count": 6,
   "metadata": {
    "ExecuteTime": {
     "end_time": "2019-03-08T15:02:44.480850Z",
     "start_time": "2019-03-08T15:02:44.439501Z"
    },
    "code_folding": [
     0
    ],
    "run_control": {
     "marked": false
    }
   },
   "outputs": [
    {
     "data": {
      "text/plain": [
       "867.56760484129"
      ]
     },
     "execution_count": 6,
     "metadata": {},
     "output_type": "execute_result"
    }
   ],
   "source": [
    "# Sophisticated version\n",
    "def binned_wage(group):\n",
    "    \"\"\"Return BLS-styled binned median wage\"\"\"\n",
    "    weight = 'PWORWGT'\n",
    "    wage_var = 'WKWAGE'\n",
    "    percentile = 0.5\n",
    "    bin_size = 50\n",
    "    bins = list(np.arange(25, 3000, bin_size))\n",
    "    # Cut wage series according to bins of bin_size\n",
    "    bin_cut = lambda x: pd.cut(x[wage_var], bins, include_lowest=True)\n",
    "    \n",
    "    # Calculate cumulative sum for weight variable\n",
    "    cum_sum = lambda x: x[weight].cumsum()\n",
    "    \n",
    "    # Sort wages then apply bin_cut and cum_sum\n",
    "    df = (group.sort_values(wage_var)\n",
    "               .assign(WAGE_BIN = bin_cut, CS = cum_sum))\n",
    "    \n",
    "    # Find the weight at the percentile of interest\n",
    "    pct_wgt = df[weight].sum() * percentile\n",
    "\n",
    "    # Find wage bin for person nearest to weighted percentile\n",
    "    pct_bin = df.iloc[df['CS'].searchsorted(pct_wgt)].WAGE_BIN\n",
    "    \n",
    "    # Weight at bottom and top of bin\n",
    "    wgt_btm, wgt_top = (df.loc[df['WAGE_BIN'] == pct_bin, 'CS']\n",
    "                          .iloc[[0, -1]].values)\n",
    "    \n",
    "    # Find where in the bin the percentile is and return that value\n",
    "    pct_value = ((((pct_wgt - wgt_btm) / \n",
    "                   (wgt_top - wgt_btm)) * bin_size) + pct_bin.left)\n",
    "    return pct_value\n",
    "\n",
    "binned_wage(df)"
   ]
  },
  {
   "cell_type": "markdown",
   "metadata": {},
   "source": [
    "#### Benchmark 5\n",
    "\n",
    "In April 2007, what was the unemployment rate for native born Hispanic or latino people?\n",
    "\n",
    "BLS: LNU04073425: 5.6 "
   ]
  },
  {
   "cell_type": "code",
   "execution_count": 7,
   "metadata": {
    "ExecuteTime": {
     "end_time": "2019-03-08T15:02:44.777858Z",
     "start_time": "2019-03-08T15:02:44.484382Z"
    }
   },
   "outputs": [
    {
     "data": {
      "text/plain": [
       "0.055565815"
      ]
     },
     "execution_count": 7,
     "metadata": {},
     "output_type": "execute_result"
    }
   ],
   "source": [
    "df = (pd.read_feather('cps2007.ft')\n",
    "        .query('MONTH == 4 and FORBORN == 0 and WBHAO == \"Hispanic\"')\n",
    "        .groupby('LFS')\n",
    "        .BASICWGT.sum())\n",
    "\n",
    "df['Unemployed'].sum() / (df['Unemployed'].sum() + df['Employed'].sum())"
   ]
  },
  {
   "cell_type": "markdown",
   "metadata": {},
   "source": [
    "#### Benchmark 6\n",
    "\n",
    "In 2017, what was the union membership rate for black men?\n",
    "\n",
    "BLS: LUU0204905200: 13.7"
   ]
  },
  {
   "cell_type": "code",
   "execution_count": 8,
   "metadata": {
    "ExecuteTime": {
     "end_time": "2019-03-08T15:02:45.080102Z",
     "start_time": "2019-03-08T15:02:44.786063Z"
    }
   },
   "outputs": [
    {
     "data": {
      "text/plain": [
       "0.13706622"
      ]
     },
     "execution_count": 8,
     "metadata": {},
     "output_type": "execute_result"
    }
   ],
   "source": [
    "df = (pd.read_feather('cps2017.ft')\n",
    "        .query('UNIONMEM >= 0 and WBHAOM == \"Black\" and FEMALE == 0')\n",
    "        .groupby('UNIONMEM')\n",
    "        .PWORWGT.sum())\n",
    "\n",
    "df[1] / df.sum()"
   ]
  },
  {
   "cell_type": "markdown",
   "metadata": {},
   "source": [
    "#### Benchmark 7\n",
    "\n",
    "In November 2015, on average, how many hours did usually employed full-time married (spouse present) men work?\n",
    "\n",
    "BLS: LNU02533629: 44.1\n",
    "\n",
    "EDIT: Tested and works (44.10250044951661) but removed because adds two variables."
   ]
  },
  {
   "cell_type": "code",
   "execution_count": 9,
   "metadata": {
    "ExecuteTime": {
     "end_time": "2019-03-08T15:02:45.085955Z",
     "start_time": "2019-03-08T15:02:45.082422Z"
    }
   },
   "outputs": [],
   "source": [
    "#df = (pd.read_feather('cps2015.ft')\n",
    "#        .query('MONTH == 11 and PRFTLF == 1 and PRMARSTA in [1, 2]'\n",
    "#               'and FEMALE == 0 and PRAGNA == 2 and HRSACTT > 0'))\n",
    "#\n",
    "#np.average(df['HRSACTT'], weights=df['BASICWGT'])"
   ]
  },
  {
   "cell_type": "markdown",
   "metadata": {},
   "source": [
    "#### Benchmark 8\n",
    "\n",
    "In 2017, what was the median hourly wage for 45 to 54 year old female wage and salary workers paid hourly rates?\n",
    "\n",
    "BLS: LEU0207640900: $15.16"
   ]
  },
  {
   "cell_type": "code",
   "execution_count": 10,
   "metadata": {
    "ExecuteTime": {
     "end_time": "2019-03-08T15:02:45.393027Z",
     "start_time": "2019-03-08T15:02:45.088203Z"
    }
   },
   "outputs": [
    {
     "data": {
      "text/plain": [
       "15.0"
      ]
     },
     "execution_count": 10,
     "metadata": {},
     "output_type": "execute_result"
    }
   ],
   "source": [
    "df = (pd.read_feather('cps2017.ft')\n",
    "        .query('45 <= AGE <54 and FEMALE == 1 and PAIDHRLY == 1'\n",
    "               'and COW1 not in [\"Self-employed Incorporated\", \"Without Pay\"]'))\n",
    "\n",
    "wquantiles.median(df['HRWAGE'], weights=df['PWORWGT'])"
   ]
  },
  {
   "cell_type": "code",
   "execution_count": 11,
   "metadata": {
    "ExecuteTime": {
     "end_time": "2019-03-08T15:02:45.467830Z",
     "start_time": "2019-03-08T15:02:45.394164Z"
    },
    "code_folding": [
     0
    ]
   },
   "outputs": [
    {
     "data": {
      "text/plain": [
       "15.146724733885172"
      ]
     },
     "execution_count": 11,
     "metadata": {},
     "output_type": "execute_result"
    }
   ],
   "source": [
    "# Sophisticated version\n",
    "def binned_wage(group):\n",
    "    \"\"\"Return BLS-styled binned median wage\"\"\"\n",
    "    weight = 'PWORWGT'\n",
    "    wage_var = 'HRWAGE'\n",
    "    decile = 0.5\n",
    "    bin_size = 0.5\n",
    "    bins = list(np.arange(.25, 300, bin_size))\n",
    "    bin_cut = lambda x: pd.cut(x[wage_var], bins, include_lowest=True)\n",
    "    cum_sum = lambda x: x[weight].cumsum()\n",
    "    dft = (group.sort_values(wage_var)\n",
    "                .assign(WAGE_RANGE = bin_cut, CS = cum_sum))\n",
    "    dec_point = dft[weight].sum() * decile\n",
    "    dec_bin = (dft.iloc[(dft['CS'] - dec_point).abs().argsort()[:1]]\n",
    "                  .WAGE_RANGE.values[0])\n",
    "    wage_bins = list(dft['WAGE_RANGE'].unique())\n",
    "    dec_loc = wage_bins.index(dec_bin)\n",
    "    bin_below = dft[dft['WAGE_RANGE'] == wage_bins[dec_loc-1]].iloc[-1].CS\n",
    "    bin_above = dft[dft['WAGE_RANGE'] == wage_bins[dec_loc]].iloc[-1].CS\n",
    "    dec_value = ((((dec_point - bin_below) / \n",
    "                   (bin_above - bin_below)) * bin_size) + dec_bin.left)\n",
    "    return dec_value\n",
    "\n",
    "binned_wage(df)"
   ]
  },
  {
   "cell_type": "markdown",
   "metadata": {},
   "source": [
    "#### Benchmark 9\n",
    "\n",
    "In 2018, how many employed people had a professional certification or license?\n",
    "\n",
    "BLS [Table 48](https://www.bls.gov/cps/cpsaat49.htm): 37,556,000"
   ]
  },
  {
   "cell_type": "code",
   "execution_count": 12,
   "metadata": {
    "ExecuteTime": {
     "end_time": "2019-03-08T15:02:45.785952Z",
     "start_time": "2019-03-08T15:02:45.471359Z"
    }
   },
   "outputs": [
    {
     "data": {
      "text/plain": [
       "37523274.666666664"
      ]
     },
     "execution_count": 12,
     "metadata": {},
     "output_type": "execute_result"
    }
   ],
   "source": [
    "(pd.read_feather('cps2018.ft')\n",
    "   .query('LFS == \"Employed\" and CERT == 1')\n",
    "   .BASICWGT.sum() / 12.0)"
   ]
  },
  {
   "cell_type": "markdown",
   "metadata": {},
   "source": [
    "#### Benchmark 10\n",
    "\n",
    "In 2018, how many people were employed in Logging?\n",
    "\n",
    "BLS [Table 18](https://www.bls.gov/cps/cpsaat18.htm): 112,000"
   ]
  },
  {
   "cell_type": "code",
   "execution_count": 13,
   "metadata": {
    "ExecuteTime": {
     "end_time": "2019-03-08T15:02:46.024702Z",
     "start_time": "2019-03-08T15:02:45.787779Z"
    }
   },
   "outputs": [
    {
     "data": {
      "text/plain": [
       "118410.8125"
      ]
     },
     "execution_count": 13,
     "metadata": {},
     "output_type": "execute_result"
    }
   ],
   "source": [
    "(pd.read_feather('cps2018.ft')\n",
    "   .query('IND == 270')\n",
    "   .BASICWGT.sum() / 12.0)"
   ]
  },
  {
   "cell_type": "markdown",
   "metadata": {},
   "source": [
    "#### Benchmark 11\n",
    "\n",
    "In February 2012, what was the unemployment rate for veterans age 18+?\n",
    "\n",
    "BLS: LNU04049526: 7.0%"
   ]
  },
  {
   "cell_type": "code",
   "execution_count": 14,
   "metadata": {
    "ExecuteTime": {
     "end_time": "2019-03-08T15:02:46.357807Z",
     "start_time": "2019-03-08T15:02:46.036531Z"
    }
   },
   "outputs": [
    {
     "data": {
      "text/plain": [
       "0.069386184"
      ]
     },
     "execution_count": 14,
     "metadata": {},
     "output_type": "execute_result"
    }
   ],
   "source": [
    "df = (pd.read_feather('cps2012.ft')\n",
    "        .query('MONTH == 2 and AGE >= 18 and VETERAN == 1')\n",
    "        .groupby('LFS')\n",
    "        .BASICWGT.sum())\n",
    "\n",
    "df['Unemployed'] /  (df['Unemployed'].sum() + df['Employed'].sum())"
   ]
  },
  {
   "cell_type": "markdown",
   "metadata": {},
   "source": [
    "#### Benchmark 12 (doesn't work)\n",
    "\n",
    "In November 2015, how many women moved from NILF to employed?\n",
    "\n",
    "BLS: LNU07200002: 2,264,000\n",
    "\n",
    "(from BLS: estimates use a weight calculated by BLS that is not publicly available.)"
   ]
  },
  {
   "cell_type": "code",
   "execution_count": 15,
   "metadata": {
    "ExecuteTime": {
     "end_time": "2019-03-08T15:02:47.125108Z",
     "start_time": "2019-03-08T15:02:46.370918Z"
    }
   },
   "outputs": [
    {
     "data": {
      "text/plain": [
       "2046516.1"
      ]
     },
     "execution_count": 15,
     "metadata": {},
     "output_type": "execute_result"
    }
   ],
   "source": [
    "df = (pd.read_feather('cps2015.ft').query('FEMALE == 1'))\n",
    "\n",
    "month1, month2 = 10, 11\n",
    "\n",
    "# Collect total population number to reweight later\n",
    "tot = df.query('MONTH == @month2').PWLGWGT.sum()\n",
    "d1 = df.loc[df['MONTH'] == month1]\n",
    "d2 = df.loc[df['MONTH'] == month2]\n",
    "m = pd.merge(d1, d2, on=['CPSID','PULINENO'], how='inner')\n",
    "m = m[(m['AGE_y'] >= m['AGE_x']) &\n",
    "      (m['AGE_x'] <= m['AGE_y'] + 1)]\n",
    "m_tot = m.PWLGWGT_y.sum()\n",
    "\n",
    "# Filter annual data to keep only revelant month's data\n",
    "d1 = df.loc[(df['MONTH'] == month1) & (df['LFS'] == 'NILF')]\n",
    "d2 = df.loc[(df['MONTH'] == month2) & (df['LFS'] == 'Employed')]\n",
    "\n",
    "# Combine the two months and check that the person matches\n",
    "m = pd.merge(d1, d2, on=['CPSID','PULINENO'], how='inner')\n",
    "m = m[(m['AGE_y'] >= m['AGE_x']) &\n",
    "      (m['AGE_x'] <= m['AGE_y'] + 1)]\n",
    "\n",
    "m['PWLGWGT_y'].sum() * (tot / m_tot)"
   ]
  },
  {
   "cell_type": "markdown",
   "metadata": {},
   "source": [
    "#### Benchmark 13\n",
    "\n",
    "In 2018, how many people age 16-64 were (on average) unemployed?\n",
    "\n",
    "[BLS](https://www.bls.gov/news.release/disabl.htm): 445,000"
   ]
  },
  {
   "cell_type": "code",
   "execution_count": 16,
   "metadata": {
    "ExecuteTime": {
     "end_time": "2019-03-08T15:02:47.351761Z",
     "start_time": "2019-03-08T15:02:47.126262Z"
    }
   },
   "outputs": [
    {
     "data": {
      "text/plain": [
       "443844.1666666667"
      ]
     },
     "execution_count": 16,
     "metadata": {},
     "output_type": "execute_result"
    }
   ],
   "source": [
    "(pd.read_feather('cps2018.ft')\n",
    "   .query('16 <= AGE <= 64 and DISABILITY == 1 and LFS == \"Unemployed\"')\n",
    "   .BASICWGT.sum() / 12)"
   ]
  },
  {
   "cell_type": "markdown",
   "metadata": {},
   "source": [
    "#### Benchmark 14\n",
    "\n",
    "How many people are not in the labor force in May 2012?\n",
    "\n",
    "[FRB PHL](https://www.phil.frb.org/-/media/research-and-data/publications/research-rap/2014/constructing-the-reason-for-nonparticipation-variable-using-the-monthly-cps-pdf.pdf?la=en): 87,698,000"
   ]
  },
  {
   "cell_type": "code",
   "execution_count": 17,
   "metadata": {
    "ExecuteTime": {
     "end_time": "2019-03-08T15:02:47.631496Z",
     "start_time": "2019-03-08T15:02:47.352887Z"
    }
   },
   "outputs": [
    {
     "data": {
      "text/plain": [
       "87967540.0"
      ]
     },
     "execution_count": 17,
     "metadata": {},
     "output_type": "execute_result"
    }
   ],
   "source": [
    "(pd.read_feather('cps2012.ft')\n",
    "   .query('LFS == \"NILF\" and AGE >= 16 and MONTH == 5')\n",
    "   .BASICWGT.sum())"
   ]
  },
  {
   "cell_type": "markdown",
   "metadata": {},
   "source": [
    "#### Benchmark 15\n",
    "\n",
    "In 2018, how many women age 25 and over are at or below the prevailing Federal minimum wage?\n",
    "\n",
    "[BLS](https://www.bls.gov/cps/cpsaat44.htm): 575,000"
   ]
  },
  {
   "cell_type": "code",
   "execution_count": 18,
   "metadata": {
    "ExecuteTime": {
     "end_time": "2019-03-08T15:02:47.930175Z",
     "start_time": "2019-03-08T15:02:47.634904Z"
    }
   },
   "outputs": [
    {
     "data": {
      "text/plain": [
       "556591.4166666666"
      ]
     },
     "execution_count": 18,
     "metadata": {},
     "output_type": "execute_result"
    }
   ],
   "source": [
    "(pd.read_feather('cps2018.ft')\n",
    "   .query('AGE >= 25 and FEMALE == 1 and MINWAGE == 1 and PAIDHRLY == 1')\n",
    "   .PWORWGT.sum() / 12)"
   ]
  },
  {
   "cell_type": "markdown",
   "metadata": {},
   "source": [
    "#### Benchmark 16\n",
    "\n",
    "In December 2018, how many 16-19 year olds were employed?\n",
    "\n",
    "BLS: LNU02000012: 5,023,000"
   ]
  },
  {
   "cell_type": "code",
   "execution_count": 19,
   "metadata": {
    "ExecuteTime": {
     "end_time": "2019-03-08T15:02:48.209670Z",
     "start_time": "2019-03-08T15:02:47.931419Z"
    }
   },
   "outputs": [
    {
     "data": {
      "text/plain": [
       "5022600.0"
      ]
     },
     "execution_count": 19,
     "metadata": {},
     "output_type": "execute_result"
    }
   ],
   "source": [
    "(pd.read_feather('cps2018.ft')\n",
    "   .query('LFS == \"Employed\" and 16 <= AGE <= 19 and MONTH == 12')\n",
    "   .BASICWGT.sum())"
   ]
  },
  {
   "cell_type": "markdown",
   "metadata": {
    "ExecuteTime": {
     "end_time": "2019-03-08T14:23:24.844439Z",
     "start_time": "2019-03-08T14:23:24.841256Z"
    }
   },
   "source": [
    "#### Benchmark 17\n",
    "\n",
    "In January 2001, how many people were part-time for economic reasons?\n",
    "\n",
    "BLS : LNU02032194: 3,732,000"
   ]
  },
  {
   "cell_type": "code",
   "execution_count": 20,
   "metadata": {
    "ExecuteTime": {
     "end_time": "2019-03-08T15:02:48.557171Z",
     "start_time": "2019-03-08T15:02:48.220422Z"
    }
   },
   "outputs": [
    {
     "data": {
      "text/plain": [
       "3731719.2"
      ]
     },
     "execution_count": 20,
     "metadata": {},
     "output_type": "execute_result"
    }
   ],
   "source": [
    "(pd.read_feather('cps2001.ft')\n",
    "   .query('PTECON == 1 and MONTH == 1')\n",
    "   .BASICWGT.sum())"
   ]
  },
  {
   "cell_type": "markdown",
   "metadata": {},
   "source": [
    "#### Benchmark 18\n",
    "\n",
    "In November 2017, how many people of Hispanic or Latino ethnicity were not in the labor force?\n",
    "\n",
    "BLS: LNU05000009: 14,272,000"
   ]
  },
  {
   "cell_type": "code",
   "execution_count": 21,
   "metadata": {
    "ExecuteTime": {
     "end_time": "2019-03-08T15:02:48.836791Z",
     "start_time": "2019-03-08T15:02:48.558516Z"
    }
   },
   "outputs": [
    {
     "data": {
      "text/plain": [
       "14271504.0"
      ]
     },
     "execution_count": 21,
     "metadata": {},
     "output_type": "execute_result"
    }
   ],
   "source": [
    "(pd.read_feather('cps2017.ft')\n",
    "   .query('WBHAO == \"Hispanic\" and MONTH == 11 and LFS==\"NILF\"')\n",
    "   .BASICWGT.sum())"
   ]
  },
  {
   "cell_type": "markdown",
   "metadata": {},
   "source": [
    "#### Benchmark 19\n",
    "\n",
    "In 2018 Q4, how many women were employed full-time in production occupations and what was their median usual weekly wage?\n",
    "\n",
    "BLS: LEU0254726500: 2,049,000\n",
    "\n",
    "BLS: LEU0254779900: $594.00"
   ]
  },
  {
   "cell_type": "code",
   "execution_count": 22,
   "metadata": {
    "ExecuteTime": {
     "end_time": "2019-03-08T15:02:49.114121Z",
     "start_time": "2019-03-08T15:02:48.838067Z"
    }
   },
   "outputs": [
    {
     "data": {
      "text/plain": [
       "2047336.1666666667"
      ]
     },
     "execution_count": 22,
     "metadata": {},
     "output_type": "execute_result"
    }
   ],
   "source": [
    "Q4 = [10, 11, 12]\n",
    "query = 'FEMALE == 1 and MONTH in @Q4 and HRSUSL1 >= 35 and OCCD == 21'\n",
    "df = pd.read_feather('cps2018.ft').query(query)\n",
    "   \n",
    "df.BASICWGT.sum() / 3"
   ]
  },
  {
   "cell_type": "code",
   "execution_count": 23,
   "metadata": {
    "ExecuteTime": {
     "end_time": "2019-03-08T15:02:49.156290Z",
     "start_time": "2019-03-08T15:02:49.115420Z"
    },
    "code_folding": [
     1
    ]
   },
   "outputs": [
    {
     "data": {
      "text/plain": [
       "597.1703455307022"
      ]
     },
     "execution_count": 23,
     "metadata": {},
     "output_type": "execute_result"
    }
   ],
   "source": [
    "# Sophisticated version\n",
    "def binned_wage(group):\n",
    "    \"\"\"Return BLS-styled binned median wage\"\"\"\n",
    "    weight = 'PWORWGT'\n",
    "    wage_var = 'WKWAGE'\n",
    "    percentile = 0.5\n",
    "    bin_size = 50\n",
    "    bins = list(np.arange(25, 3000, bin_size))\n",
    "    # Cut wage series according to bins of bin_size\n",
    "    bin_cut = lambda x: pd.cut(x[wage_var], bins, include_lowest=True)\n",
    "    \n",
    "    # Calculate cumulative sum for weight variable\n",
    "    cum_sum = lambda x: x[weight].cumsum()\n",
    "    \n",
    "    # Sort wages then apply bin_cut and cum_sum\n",
    "    df = (group.sort_values(wage_var)\n",
    "               .assign(WAGE_BIN = bin_cut, CS = cum_sum))\n",
    "    \n",
    "    # Find the weight at the percentile of interest\n",
    "    pct_wgt = df[weight].sum() * percentile\n",
    "\n",
    "    # Find wage bin for person nearest to weighted percentile\n",
    "    pct_bin = df.iloc[df['CS'].searchsorted(pct_wgt)].WAGE_BIN\n",
    "    \n",
    "    # Weight at bottom and top of bin\n",
    "    wgt_btm, wgt_top = (df.loc[df['WAGE_BIN'] == pct_bin, 'CS']\n",
    "                          .iloc[[0, -1]].values)\n",
    "    \n",
    "    # Find where in the bin the percentile is and return that value\n",
    "    pct_value = ((((pct_wgt - wgt_btm) / \n",
    "                   (wgt_top - wgt_btm)) * bin_size) + pct_bin.left)\n",
    "    return pct_value\n",
    "\n",
    "binned_wage(df)"
   ]
  },
  {
   "cell_type": "markdown",
   "metadata": {},
   "source": [
    "#### Benchmark 20\n",
    "\n",
    "In the year ending February 2018, how many people age 25-54 were not in the labor force because of disability?\n",
    "\n",
    "Tedeschi: 6,700,000"
   ]
  },
  {
   "cell_type": "code",
   "execution_count": 9,
   "metadata": {
    "ExecuteTime": {
     "end_time": "2019-03-09T01:34:56.358079Z",
     "start_time": "2019-03-09T01:34:55.824472Z"
    }
   },
   "outputs": [
    {
     "data": {
      "text/plain": [
       "6707834.666666667"
      ]
     },
     "execution_count": 9,
     "metadata": {},
     "output_type": "execute_result"
    }
   ],
   "source": [
    "(pd.read_feather('cps2017.ft')\n",
    "   .query('25 <= AGE <= 54 and NILFREASON == \"Disabled/Ill\" and MONTH > 2')\n",
    "   .append(pd.read_feather('cps2018.ft')\n",
    "   .query('25 <= AGE <= 54 and NILFREASON == \"Disabled/Ill\" and MONTH <= 2'))\n",
    "   .BASICWGT.sum() / 12)"
   ]
  },
  {
   "cell_type": "markdown",
   "metadata": {},
   "source": [
    "#### Benchmark 21\n",
    "\n",
    "In February 2018, how many discouraged workers were there?\n",
    "\n",
    "BLS: 373,000"
   ]
  },
  {
   "cell_type": "code",
   "execution_count": 12,
   "metadata": {
    "ExecuteTime": {
     "end_time": "2019-03-09T01:51:33.161816Z",
     "start_time": "2019-03-09T01:51:32.926470Z"
    }
   },
   "outputs": [
    {
     "data": {
      "text/plain": [
       "397784.2916666667"
      ]
     },
     "execution_count": 12,
     "metadata": {},
     "output_type": "execute_result"
    }
   ],
   "source": [
    "(pd.read_feather('cps2018.ft')\n",
    "   .query('NILFREASON == \"Discouraged\" and MONTH == 2')\n",
    "   .BASICWGT.sum() / 12)"
   ]
  },
  {
   "cell_type": "markdown",
   "metadata": {},
   "source": [
    "### 1989-93 Extracts"
   ]
  },
  {
   "cell_type": "markdown",
   "metadata": {},
   "source": [
    "#### Benchmark 1\n",
    "\n",
    "How many women age 20-24 were employed in June 1992?\n",
    "\n",
    "BLS: LNU02000038: 6,190,000"
   ]
  },
  {
   "cell_type": "code",
   "execution_count": 24,
   "metadata": {
    "ExecuteTime": {
     "end_time": "2019-03-08T15:02:49.385231Z",
     "start_time": "2019-03-08T15:02:49.159583Z"
    }
   },
   "outputs": [
    {
     "data": {
      "text/plain": [
       "6144925.0"
      ]
     },
     "execution_count": 24,
     "metadata": {},
     "output_type": "execute_result"
    }
   ],
   "source": [
    "(pd.read_feather('cps1992.ft')\n",
    "   .query('MONTH == 6 and FEMALE == 1 and 20 <= AGE <= 24'\n",
    "          'and LFS == \"Employed\"')).BASICWGT.sum()"
   ]
  },
  {
   "cell_type": "markdown",
   "metadata": {},
   "source": [
    "#### Benchmark 2\n",
    "\n",
    "What was the unemployment rate in Febuary 1989?\n",
    "\n",
    "BLS: LNU04000000: 5.6%"
   ]
  },
  {
   "cell_type": "code",
   "execution_count": 25,
   "metadata": {
    "ExecuteTime": {
     "end_time": "2019-03-08T15:02:49.609711Z",
     "start_time": "2019-03-08T15:02:49.386537Z"
    }
   },
   "outputs": [
    {
     "data": {
      "text/plain": [
       "0.05666313"
      ]
     },
     "execution_count": 25,
     "metadata": {},
     "output_type": "execute_result"
    }
   ],
   "source": [
    "df = (pd.read_feather('cps1989.ft')\n",
    "        .query('MONTH == 2 and AGE > 15')\n",
    "        .groupby('LFS')\n",
    "        .BASICWGT.sum())\n",
    "\n",
    "df['Unemployed'].sum() / (df['Unemployed'].sum() + df['Employed'].sum())"
   ]
  },
  {
   "cell_type": "markdown",
   "metadata": {},
   "source": [
    "#### Benchmark 3\n",
    "\n",
    "In December 1990, what was the unemployment rate (U-2) if you only count people who lost jobs or completed temporary jobs?\n",
    "\n",
    "BLS: LNU04023621: 3.2%"
   ]
  },
  {
   "cell_type": "code",
   "execution_count": 26,
   "metadata": {
    "ExecuteTime": {
     "end_time": "2019-03-08T15:02:49.858393Z",
     "start_time": "2019-03-08T15:02:49.610873Z"
    }
   },
   "outputs": [
    {
     "data": {
      "text/plain": [
       "0.03193486"
      ]
     },
     "execution_count": 26,
     "metadata": {},
     "output_type": "execute_result"
    }
   ],
   "source": [
    "df = (pd.read_feather('cps1990.ft')\n",
    "        .query('MONTH == 12 and AGE > 15'))\n",
    "\n",
    "unjl = df.query('UNEMPTYPE==\"Job Loser\"').BASICWGT.sum()\n",
    "\n",
    "lf = df.query('LFS in [\"Unemployed\", \"Employed\"]').BASICWGT.sum()\n",
    "\n",
    "unjl / lf"
   ]
  },
  {
   "cell_type": "markdown",
   "metadata": {},
   "source": [
    "#### Benchmark 4\n",
    "\n",
    "In 1991, what share of wage and salary workers were represented by a union?\n",
    "\n",
    "BLS: LUU0204899700: 18.1%"
   ]
  },
  {
   "cell_type": "code",
   "execution_count": 27,
   "metadata": {
    "ExecuteTime": {
     "end_time": "2019-03-08T15:02:50.113978Z",
     "start_time": "2019-03-08T15:02:49.860992Z"
    }
   },
   "outputs": [
    {
     "data": {
      "text/plain": [
       "0.18115489"
      ]
     },
     "execution_count": 27,
     "metadata": {},
     "output_type": "execute_result"
    }
   ],
   "source": [
    "df = (pd.read_feather('cps1991.ft')\n",
    "        .query('AGE > 15 and UNION >= 0'))\n",
    "\n",
    "uncov = df.query('UNION == 1').PWORWGT.sum()\n",
    "\n",
    "total = df.PWORWGT.sum()\n",
    "\n",
    "uncov/total"
   ]
  },
  {
   "cell_type": "markdown",
   "metadata": {},
   "source": [
    "#### Benchmark 5\n",
    "\n",
    "In July 1989, how many people were unemployed for 27 weeks or more?\n",
    "\n",
    "BLS: LNU03008636: 616,000"
   ]
  },
  {
   "cell_type": "code",
   "execution_count": 28,
   "metadata": {
    "ExecuteTime": {
     "end_time": "2019-03-08T15:02:50.314977Z",
     "start_time": "2019-03-08T15:02:50.116514Z"
    }
   },
   "outputs": [
    {
     "data": {
      "text/plain": [
       "607400.75"
      ]
     },
     "execution_count": 28,
     "metadata": {},
     "output_type": "execute_result"
    }
   ],
   "source": [
    "(pd.read_feather('cps1989.ft')\n",
    "   .query('MONTH == 7 and UNEMPDUR >= 27')\n",
    "   .BASICWGT.sum())"
   ]
  },
  {
   "cell_type": "markdown",
   "metadata": {},
   "source": [
    "#### Benchmark 6\n",
    "\n",
    "In Q2 1992, what was the median usual weekly earnings?\n",
    "\n",
    "BLS: LEU0252881500: $436"
   ]
  },
  {
   "cell_type": "code",
   "execution_count": 29,
   "metadata": {
    "ExecuteTime": {
     "end_time": "2019-03-08T15:02:50.551264Z",
     "start_time": "2019-03-08T15:02:50.316287Z"
    }
   },
   "outputs": [
    {
     "data": {
      "text/plain": [
       "435.0"
      ]
     },
     "execution_count": 29,
     "metadata": {},
     "output_type": "execute_result"
    }
   ],
   "source": [
    "months = [4, 5, 6]\n",
    "\n",
    "df = (pd.read_feather('cps1992.ft')\n",
    "        .query('MONTH in @months and WKWAGE > 0 and WORKFT == 1'))\n",
    "\n",
    "wquantiles.median(df['WKWAGE'], df['PWORWGT'])"
   ]
  },
  {
   "cell_type": "code",
   "execution_count": 30,
   "metadata": {
    "ExecuteTime": {
     "end_time": "2019-03-08T15:02:50.594215Z",
     "start_time": "2019-03-08T15:02:50.554439Z"
    },
    "code_folding": [
     0
    ]
   },
   "outputs": [
    {
     "data": {
      "text/plain": [
       "436.6196248779963"
      ]
     },
     "execution_count": 30,
     "metadata": {},
     "output_type": "execute_result"
    }
   ],
   "source": [
    "# Sophisticated version\n",
    "def binned_wage(group):\n",
    "    \"\"\"Return BLS-styled binned median wage\"\"\"\n",
    "    weight = 'PWORWGT'\n",
    "    wage_var = 'WKWAGE'\n",
    "    percentile = 0.5\n",
    "    bin_size = 25\n",
    "    bins = list(np.arange(12.5, 3000, bin_size))\n",
    "    # Cut wage series according to bins of bin_size\n",
    "    bin_cut = lambda x: pd.cut(x[wage_var], bins, include_lowest=True)\n",
    "    \n",
    "    # Calculate cumulative sum for weight variable\n",
    "    cum_sum = lambda x: x[weight].cumsum()\n",
    "    \n",
    "    # Sort wages then apply bin_cut and cum_sum\n",
    "    df = (group.sort_values(wage_var)\n",
    "               .assign(WAGE_BIN = bin_cut, CS = cum_sum))\n",
    "    \n",
    "    # Find the weight at the percentile of interest\n",
    "    pct_wgt = df[weight].sum() * percentile\n",
    "\n",
    "    # Find wage bin for person nearest to weighted percentile\n",
    "    pct_bin = df.iloc[df['CS'].searchsorted(pct_wgt)].WAGE_BIN\n",
    "    \n",
    "    # Weight at bottom and top of bin\n",
    "    wgt_btm, wgt_top = (df.loc[df['WAGE_BIN'] == pct_bin, 'CS']\n",
    "                          .iloc[[0, -1]].values)\n",
    "    \n",
    "    # Find where in the bin the percentile is and return that value\n",
    "    pct_value = ((((pct_wgt - wgt_btm) / \n",
    "                   (wgt_top - wgt_btm)) * bin_size) + pct_bin.left)\n",
    "    return pct_value\n",
    "\n",
    "binned_wage(df)"
   ]
  },
  {
   "cell_type": "markdown",
   "metadata": {},
   "source": [
    "#### Benchmark 7\n",
    "\n",
    "In September 1989, how many people were part-time for economic reasons?\n",
    "\n",
    "BLS: LNU02032194: 4,487,000"
   ]
  },
  {
   "cell_type": "code",
   "execution_count": 31,
   "metadata": {
    "ExecuteTime": {
     "end_time": "2019-03-08T15:02:50.784602Z",
     "start_time": "2019-03-08T15:02:50.597748Z"
    }
   },
   "outputs": [
    {
     "data": {
      "text/plain": [
       "4436614.5"
      ]
     },
     "execution_count": 31,
     "metadata": {},
     "output_type": "execute_result"
    }
   ],
   "source": [
    "(pd.read_feather('cps1989.ft')\n",
    "   .query('MONTH == 9 and PTECON == 1')\n",
    "   .BASICWGT.sum())"
   ]
  },
  {
   "cell_type": "markdown",
   "metadata": {},
   "source": [
    "#### Benchmark 8\n",
    "\n",
    "In December 1991, how many black or African-American people were not in the labor force?\n",
    "\n",
    "BLS: LNU05000006: 8,153,000\n",
    "\n",
    "**NOTE**: Issue here is because Hispanic blacks excluded from WBHAO == 'Black'\n",
    "\n",
    "When using RACE == 2, the result is 8119624.0"
   ]
  },
  {
   "cell_type": "code",
   "execution_count": 32,
   "metadata": {
    "ExecuteTime": {
     "end_time": "2019-03-08T15:02:51.009816Z",
     "start_time": "2019-03-08T15:02:50.787038Z"
    }
   },
   "outputs": [
    {
     "data": {
      "text/plain": [
       "7996622.0"
      ]
     },
     "execution_count": 32,
     "metadata": {},
     "output_type": "execute_result"
    }
   ],
   "source": [
    "(pd.read_feather('cps1991.ft')\n",
    "   .query('MONTH == 12 and WBHAO == \"Black\" and LFS == \"NILF\" and AGE > 15')\n",
    "   .BASICWGT.sum())"
   ]
  },
  {
   "cell_type": "markdown",
   "metadata": {},
   "source": [
    "#### Benchmark 9\n",
    "\n",
    "In February 1990, how many people were employed in service occupations?\n",
    "\n",
    "BLS: LNU02032204: 17,545,000"
   ]
  },
  {
   "cell_type": "code",
   "execution_count": 33,
   "metadata": {
    "ExecuteTime": {
     "end_time": "2019-03-08T15:02:51.234267Z",
     "start_time": "2019-03-08T15:02:51.012896Z"
    }
   },
   "outputs": [
    {
     "data": {
      "text/plain": [
       "17293907.99561884"
      ]
     },
     "execution_count": 33,
     "metadata": {},
     "output_type": "execute_result"
    }
   ],
   "source": [
    "(pd.read_feather('cps1990.ft')\n",
    "   .query('MONTH == 2 and LFS == \"Employed\" and OCC80M in [6, 7, 8]')\n",
    "   .BASICWGT.sum()) * (1 / 0.913) # BLS historical comparatability"
   ]
  },
  {
   "cell_type": "markdown",
   "metadata": {},
   "source": [
    "#### Benchmark 10 - CEPRdata\n",
    "\n",
    "In May 1993, how many Hispanic people were unemployed (using ORG sample)"
   ]
  },
  {
   "cell_type": "code",
   "execution_count": 34,
   "metadata": {
    "ExecuteTime": {
     "end_time": "2019-03-08T15:02:51.879455Z",
     "start_time": "2019-03-08T15:02:51.235462Z"
    }
   },
   "outputs": [
    {
     "data": {
      "text/plain": [
       "1354661.4"
      ]
     },
     "execution_count": 34,
     "metadata": {},
     "output_type": "execute_result"
    }
   ],
   "source": [
    "os.chdir('/home/brian/Documents/CPS/data/')\n",
    "\n",
    "keep_cols = ['month', 'wbhao', 'unem', 'orgwgt']\n",
    "(pd.read_stata('cepr_org_1993.dta', columns=keep_cols)\n",
    "   .query('month == 5 and wbhao == \"Hispanic\" and unem == 1')\n",
    "   .orgwgt.sum())"
   ]
  },
  {
   "cell_type": "code",
   "execution_count": 35,
   "metadata": {
    "ExecuteTime": {
     "end_time": "2019-03-08T15:02:52.112683Z",
     "start_time": "2019-03-08T15:02:51.881645Z"
    }
   },
   "outputs": [
    {
     "data": {
      "text/plain": [
       "1354661.2"
      ]
     },
     "execution_count": 35,
     "metadata": {},
     "output_type": "execute_result"
    }
   ],
   "source": [
    "(pd.read_feather('clean/cps1993.ft')\n",
    "   .query('MONTH == 5 and LFS == \"Unemployed\" and WBHAO == \"Hispanic\" and AGE > 15')\n",
    "   .PWORWGT.sum())"
   ]
  },
  {
   "cell_type": "code",
   "execution_count": null,
   "metadata": {},
   "outputs": [],
   "source": []
  },
  {
   "cell_type": "code",
   "execution_count": null,
   "metadata": {},
   "outputs": [],
   "source": []
  }
 ],
 "metadata": {
  "kernelspec": {
   "display_name": "Python 3",
   "language": "python",
   "name": "python3"
  },
  "language_info": {
   "codemirror_mode": {
    "name": "ipython",
    "version": 3
   },
   "file_extension": ".py",
   "mimetype": "text/x-python",
   "name": "python",
   "nbconvert_exporter": "python",
   "pygments_lexer": "ipython3",
   "version": "3.7.1"
  }
 },
 "nbformat": 4,
 "nbformat_minor": 2
}
