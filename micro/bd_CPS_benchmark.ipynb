{
 "cells": [
  {
   "cell_type": "markdown",
   "metadata": {},
   "source": [
    "# bd econ CPS extract\n",
    "\n",
    "bd_CPS_benchmark.ipynb\n",
    "\n",
    "April 16, 2019\n",
    "\n",
    "Contact: Brian Dew, @bd_econ\n",
    "\n",
    "Requires: `cpsYYYY.ft` files for each year. The bd CPS files are generated bd_CPS_reader.ipynb\n",
    "\n",
    "-----\n",
    "\n",
    "See [readme](https://github.com/bdecon/econ_data/tree/master/bd_CPS) for documentation."
   ]
  },
  {
   "cell_type": "code",
   "execution_count": 1,
   "metadata": {
    "ExecuteTime": {
     "end_time": "2020-09-03T01:10:01.503176Z",
     "start_time": "2020-09-03T01:10:01.306867Z"
    }
   },
   "outputs": [
    {
     "name": "stdout",
     "output_type": "stream",
     "text": [
      "pandas: 1.1.1\n",
      "numpy: 1.19.1\n"
     ]
    }
   ],
   "source": [
    "import pandas as pd\n",
    "print('pandas:', pd.__version__)\n",
    "import numpy as np\n",
    "print('numpy:', np.__version__)\n",
    "import wquantiles\n",
    "import os\n",
    "\n",
    "os.chdir('/home/brian/Documents/CPS/data/clean/')"
   ]
  },
  {
   "cell_type": "markdown",
   "metadata": {},
   "source": [
    "# 1994-onward extracts"
   ]
  },
  {
   "cell_type": "markdown",
   "metadata": {},
   "source": [
    "#### Benchmark 1\n",
    "\n",
    "In October 1999, how many people were unemployed because of losing a job?\n",
    "\n",
    "BLS: LNU03023621: 2,162,000"
   ]
  },
  {
   "cell_type": "code",
   "execution_count": 2,
   "metadata": {
    "ExecuteTime": {
     "end_time": "2020-09-03T01:08:14.090842Z",
     "start_time": "2020-09-03T01:08:13.828179Z"
    }
   },
   "outputs": [
    {
     "data": {
      "text/plain": [
       "2161502.5"
      ]
     },
     "execution_count": 2,
     "metadata": {},
     "output_type": "execute_result"
    }
   ],
   "source": [
    "(pd.read_feather('cps1999.ft')\n",
    "   .query('MONTH==10 and UNEMPTYPE == \"Job Loser\"')\n",
    "   ['BASICWGT']).sum()"
   ]
  },
  {
   "cell_type": "markdown",
   "metadata": {},
   "source": [
    "#### Benchmark 2\n",
    "\n",
    "In February 2007, what share of age 25-54 women were employed?\n",
    "\n",
    "BLS: LNU02300062: 72.6"
   ]
  },
  {
   "cell_type": "code",
   "execution_count": 3,
   "metadata": {
    "ExecuteTime": {
     "end_time": "2020-09-03T01:08:14.339085Z",
     "start_time": "2020-09-03T01:08:14.092135Z"
    }
   },
   "outputs": [
    {
     "data": {
      "text/plain": [
       "0.72602457"
      ]
     },
     "execution_count": 3,
     "metadata": {},
     "output_type": "execute_result"
    }
   ],
   "source": [
    "df = (pd.read_feather('cps2007.ft')\n",
    "        .query('MONTH==2 and 25 <= AGE <= 54 and FEMALE==1')\n",
    "        .groupby('LFS')\n",
    "        .BASICWGT.sum())\n",
    "\n",
    "df['Employed'] / df.sum()"
   ]
  },
  {
   "cell_type": "markdown",
   "metadata": {},
   "source": [
    "#### Benchmark 3\n",
    "\n",
    "In May 2014, how many people have more than one job?\n",
    "\n",
    "BLS: LNU02026619: 7,305,000"
   ]
  },
  {
   "cell_type": "code",
   "execution_count": 4,
   "metadata": {
    "ExecuteTime": {
     "end_time": "2020-09-03T01:08:14.579227Z",
     "start_time": "2020-09-03T01:08:14.340392Z"
    }
   },
   "outputs": [
    {
     "data": {
      "text/plain": [
       "7304317.5"
      ]
     },
     "execution_count": 4,
     "metadata": {},
     "output_type": "execute_result"
    }
   ],
   "source": [
    "(pd.read_feather('cps2014.ft')\n",
    "   .query('MONTH==5 and MJH==1')\n",
    "   .BASICWGT).sum()"
   ]
  },
  {
   "cell_type": "markdown",
   "metadata": {},
   "source": [
    "#### Benchmark 4\n",
    "\n",
    "In 2017 Q1, what were the nominal median usual weekly earnings?\n",
    "\n",
    "BLS: LEU0252881500: $865"
   ]
  },
  {
   "cell_type": "code",
   "execution_count": 5,
   "metadata": {
    "ExecuteTime": {
     "end_time": "2020-09-03T01:08:14.825987Z",
     "start_time": "2020-09-03T01:08:14.580229Z"
    }
   },
   "outputs": [
    {
     "data": {
      "text/plain": [
       "865.3800048828125"
      ]
     },
     "execution_count": 5,
     "metadata": {},
     "output_type": "execute_result"
    }
   ],
   "source": [
    "df = (pd.read_feather('cps2017.ft')\n",
    "        .query('MONTH < 4 and WKWAGE > 0 and WORKFT == 1'))\n",
    "\n",
    "wquantiles.median(df['WKWAGE'], df['PWORWGT'])"
   ]
  },
  {
   "cell_type": "code",
   "execution_count": 6,
   "metadata": {
    "ExecuteTime": {
     "end_time": "2020-09-03T01:08:14.852038Z",
     "start_time": "2020-09-03T01:08:14.827172Z"
    },
    "code_folding": [
     0
    ],
    "run_control": {
     "marked": false
    }
   },
   "outputs": [
    {
     "data": {
      "text/plain": [
       "867.567412248681"
      ]
     },
     "execution_count": 6,
     "metadata": {},
     "output_type": "execute_result"
    }
   ],
   "source": [
    "# Sophisticated version\n",
    "def binned_wage(group):\n",
    "    \"\"\"Return BLS-styled binned median wage\"\"\"\n",
    "    weight = 'PWORWGT'\n",
    "    wage_var = 'WKWAGE'\n",
    "    percentile = 0.5\n",
    "    bin_size = 50\n",
    "    bins = list(np.arange(25, 3000, bin_size))\n",
    "    # Cut wage series according to bins of bin_size\n",
    "    bin_cut = lambda x: pd.cut(x[wage_var], bins, include_lowest=True)\n",
    "    \n",
    "    # Calculate cumulative sum for weight variable\n",
    "    cum_sum = lambda x: x[weight].cumsum()\n",
    "    \n",
    "    # Sort wages then apply bin_cut and cum_sum\n",
    "    df = (group.sort_values(wage_var)\n",
    "               .assign(WAGE_BIN = bin_cut, CS = cum_sum))\n",
    "    \n",
    "    # Find the weight at the percentile of interest\n",
    "    pct_wgt = df[weight].sum() * percentile\n",
    "\n",
    "    # Find wage bin for person nearest to weighted percentile\n",
    "    pct_bin = df.iloc[df['CS'].searchsorted(pct_wgt)].WAGE_BIN\n",
    "    \n",
    "    # Weight at bottom and top of bin\n",
    "    wgt_btm, wgt_top = (df.loc[df['WAGE_BIN'] == pct_bin, 'CS']\n",
    "                          .iloc[[0, -1]].values)\n",
    "    \n",
    "    # Find where in the bin the percentile is and return that value\n",
    "    pct_value = ((((pct_wgt - wgt_btm) / \n",
    "                   (wgt_top - wgt_btm)) * bin_size) + pct_bin.left)\n",
    "    return pct_value\n",
    "\n",
    "binned_wage(df)"
   ]
  },
  {
   "cell_type": "markdown",
   "metadata": {},
   "source": [
    "#### Benchmark 5\n",
    "\n",
    "In April 2007, what was the unemployment rate for native born Hispanic or latino people?\n",
    "\n",
    "BLS: LNU04073425: 5.6 "
   ]
  },
  {
   "cell_type": "code",
   "execution_count": 7,
   "metadata": {
    "ExecuteTime": {
     "end_time": "2020-09-03T01:08:15.097235Z",
     "start_time": "2020-09-03T01:08:14.853012Z"
    }
   },
   "outputs": [
    {
     "data": {
      "text/plain": [
       "0.055565815"
      ]
     },
     "execution_count": 7,
     "metadata": {},
     "output_type": "execute_result"
    }
   ],
   "source": [
    "df = (pd.read_feather('cps2007.ft')\n",
    "        .query('MONTH == 4 and FORBORN == 0 and WBHAO == \"Hispanic\"')\n",
    "        .groupby('LFS')\n",
    "        .BASICWGT.sum())\n",
    "\n",
    "df['Unemployed'].sum() / (df['Unemployed'].sum() + df['Employed'].sum())"
   ]
  },
  {
   "cell_type": "markdown",
   "metadata": {},
   "source": [
    "#### Benchmark 6\n",
    "\n",
    "In 2017, what was the union membership rate for black men?\n",
    "\n",
    "BLS: LUU0204905200: 13.7"
   ]
  },
  {
   "cell_type": "code",
   "execution_count": 8,
   "metadata": {
    "ExecuteTime": {
     "end_time": "2020-09-03T01:08:15.328143Z",
     "start_time": "2020-09-03T01:08:15.098947Z"
    }
   },
   "outputs": [
    {
     "data": {
      "text/plain": [
       "0.13706622"
      ]
     },
     "execution_count": 8,
     "metadata": {},
     "output_type": "execute_result"
    }
   ],
   "source": [
    "df = (pd.read_feather('cps2017.ft')\n",
    "        .query('UNIONMEM >= 0 and WBHAOM == \"Black\" and FEMALE == 0')\n",
    "        .groupby('UNIONMEM')\n",
    "        .PWORWGT.sum())\n",
    "\n",
    "df[1] / df.sum()"
   ]
  },
  {
   "cell_type": "markdown",
   "metadata": {},
   "source": [
    "#### Benchmark 7\n",
    "\n",
    "In November 2015, on average, how many hours did usually employed full-time married (spouse present) men work?\n",
    "\n",
    "BLS: LNU02533629: 44.1\n",
    "\n",
    "EDIT: Tested and works (44.10250044951661) but removed because adds two variables."
   ]
  },
  {
   "cell_type": "code",
   "execution_count": 9,
   "metadata": {
    "ExecuteTime": {
     "end_time": "2020-09-03T01:08:15.331175Z",
     "start_time": "2020-09-03T01:08:15.329509Z"
    }
   },
   "outputs": [],
   "source": [
    "#df = (pd.read_feather('cps2015.ft')\n",
    "#        .query('MONTH == 11 and PRFTLF == 1 and PRMARSTA in [1, 2]'\n",
    "#               'and FEMALE == 0 and PRAGNA == 2 and HRSACTT > 0'))\n",
    "#\n",
    "#np.average(df['HRSACTT'], weights=df['BASICWGT'])"
   ]
  },
  {
   "cell_type": "markdown",
   "metadata": {},
   "source": [
    "#### Benchmark 8\n",
    "\n",
    "In 2017, what was the median hourly wage for 45 to 54 year old female wage and salary workers paid hourly rates?\n",
    "\n",
    "BLS: LEU0207640900: $15.16"
   ]
  },
  {
   "cell_type": "code",
   "execution_count": 10,
   "metadata": {
    "ExecuteTime": {
     "end_time": "2020-09-03T01:08:15.567239Z",
     "start_time": "2020-09-03T01:08:15.332106Z"
    }
   },
   "outputs": [
    {
     "data": {
      "text/plain": [
       "15.0"
      ]
     },
     "execution_count": 10,
     "metadata": {},
     "output_type": "execute_result"
    }
   ],
   "source": [
    "df = (pd.read_feather('cps2017.ft')\n",
    "        .query('45 <= AGE <54 and FEMALE == 1 and PAIDHRLY == 1'\n",
    "               'and COW1 not in [\"Self-employed Incorporated\", \"Without Pay\"]'))\n",
    "\n",
    "wquantiles.median(df['HRWAGE'], weights=df['PWORWGT'])"
   ]
  },
  {
   "cell_type": "code",
   "execution_count": 11,
   "metadata": {
    "ExecuteTime": {
     "end_time": "2020-09-03T01:08:15.634763Z",
     "start_time": "2020-09-03T01:08:15.568254Z"
    },
    "code_folding": [
     0
    ]
   },
   "outputs": [
    {
     "data": {
      "text/plain": [
       "15.14672342854756"
      ]
     },
     "execution_count": 11,
     "metadata": {},
     "output_type": "execute_result"
    }
   ],
   "source": [
    "# Sophisticated version\n",
    "def binned_wage(group):\n",
    "    \"\"\"Return BLS-styled binned median wage\"\"\"\n",
    "    weight = 'PWORWGT'\n",
    "    wage_var = 'HRWAGE'\n",
    "    decile = 0.5\n",
    "    bin_size = 0.5\n",
    "    bins = list(np.arange(.25, 300, bin_size))\n",
    "    bin_cut = lambda x: pd.cut(x[wage_var], bins, include_lowest=True)\n",
    "    cum_sum = lambda x: x[weight].cumsum()\n",
    "    dft = (group.sort_values(wage_var)\n",
    "                .assign(WAGE_RANGE = bin_cut, CS = cum_sum))\n",
    "    dec_point = dft[weight].sum() * decile\n",
    "    dec_bin = (dft.iloc[(dft['CS'] - dec_point).abs().argsort()[:1]]\n",
    "                  .WAGE_RANGE.values[0])\n",
    "    wage_bins = list(dft['WAGE_RANGE'].unique())\n",
    "    dec_loc = wage_bins.index(dec_bin)\n",
    "    bin_below = dft[dft['WAGE_RANGE'] == wage_bins[dec_loc-1]].iloc[-1].CS\n",
    "    bin_above = dft[dft['WAGE_RANGE'] == wage_bins[dec_loc]].iloc[-1].CS\n",
    "    dec_value = ((((dec_point - bin_below) / \n",
    "                   (bin_above - bin_below)) * bin_size) + dec_bin.left)\n",
    "    return dec_value\n",
    "\n",
    "binned_wage(df)"
   ]
  },
  {
   "cell_type": "markdown",
   "metadata": {},
   "source": [
    "#### Benchmark 9\n",
    "\n",
    "In 2018, how many employed people had a professional certification or license?\n",
    "\n",
    "BLS [Table 48](https://www.bls.gov/cps/cpsaat49.htm): 37,556,000"
   ]
  },
  {
   "cell_type": "code",
   "execution_count": 12,
   "metadata": {
    "ExecuteTime": {
     "end_time": "2020-09-03T01:08:15.902485Z",
     "start_time": "2020-09-03T01:08:15.635760Z"
    }
   },
   "outputs": [
    {
     "data": {
      "text/plain": [
       "37523269.333333336"
      ]
     },
     "execution_count": 12,
     "metadata": {},
     "output_type": "execute_result"
    }
   ],
   "source": [
    "(pd.read_feather('cps2018.ft')\n",
    "   .query('LFS == \"Employed\" and CERT == 1')\n",
    "   .BASICWGT.sum() / 12.0)"
   ]
  },
  {
   "cell_type": "markdown",
   "metadata": {},
   "source": [
    "#### Benchmark 10\n",
    "\n",
    "In 2018, how many people were employed in Logging?\n",
    "\n",
    "BLS [Table 18](https://www.bls.gov/cps/cpsaat18.htm): 112,000"
   ]
  },
  {
   "cell_type": "code",
   "execution_count": 13,
   "metadata": {
    "ExecuteTime": {
     "end_time": "2020-09-03T01:08:16.123535Z",
     "start_time": "2020-09-03T01:08:15.903471Z"
    }
   },
   "outputs": [
    {
     "data": {
      "text/plain": [
       "118410.82291666667"
      ]
     },
     "execution_count": 13,
     "metadata": {},
     "output_type": "execute_result"
    }
   ],
   "source": [
    "(pd.read_feather('cps2018.ft')\n",
    "   .query('IND == 270')\n",
    "   .BASICWGT.sum() / 12.0)"
   ]
  },
  {
   "cell_type": "markdown",
   "metadata": {},
   "source": [
    "#### Benchmark 11\n",
    "\n",
    "In February 2012, what was the unemployment rate for veterans age 18+?\n",
    "\n",
    "BLS: LNU04049526: 7.0%"
   ]
  },
  {
   "cell_type": "code",
   "execution_count": 14,
   "metadata": {
    "ExecuteTime": {
     "end_time": "2020-09-03T01:08:16.361981Z",
     "start_time": "2020-09-03T01:08:16.124501Z"
    }
   },
   "outputs": [
    {
     "data": {
      "text/plain": [
       "0.069386184"
      ]
     },
     "execution_count": 14,
     "metadata": {},
     "output_type": "execute_result"
    }
   ],
   "source": [
    "df = (pd.read_feather('cps2012.ft')\n",
    "        .query('MONTH == 2 and AGE >= 18 and VETERAN == 1')\n",
    "        .groupby('LFS')\n",
    "        .BASICWGT.sum())\n",
    "\n",
    "df['Unemployed'] /  (df['Unemployed'].sum() + df['Employed'].sum())"
   ]
  },
  {
   "cell_type": "markdown",
   "metadata": {},
   "source": [
    "#### Benchmark 12 (doesn't work)\n",
    "\n",
    "In November 2015, how many women moved from NILF to employed?\n",
    "\n",
    "BLS: LNU07200002: 2,264,000\n",
    "\n",
    "(from BLS: estimates use a weight calculated by BLS that is not publicly available.)"
   ]
  },
  {
   "cell_type": "code",
   "execution_count": 15,
   "metadata": {
    "ExecuteTime": {
     "end_time": "2020-09-03T01:08:16.975428Z",
     "start_time": "2020-09-03T01:08:16.363058Z"
    }
   },
   "outputs": [
    {
     "data": {
      "text/plain": [
       "2046456.1"
      ]
     },
     "execution_count": 15,
     "metadata": {},
     "output_type": "execute_result"
    }
   ],
   "source": [
    "df = (pd.read_feather('cps2015.ft').query('FEMALE == 1'))\n",
    "\n",
    "month1, month2 = 10, 11\n",
    "\n",
    "# Collect total population number to reweight later\n",
    "tot = df.query('MONTH == @month2').PWLGWGT.sum()\n",
    "d1 = df.loc[df['MONTH'] == month1]\n",
    "d2 = df.loc[df['MONTH'] == month2]\n",
    "m = pd.merge(d1, d2, on=['CPSID','PULINENO'], how='inner')\n",
    "m = m[(m['AGE_y'] >= m['AGE_x']) &\n",
    "      (m['AGE_x'] <= m['AGE_y'] + 1)]\n",
    "m_tot = m.PWLGWGT_y.sum()\n",
    "\n",
    "# Filter annual data to keep only revelant month's data\n",
    "d1 = df.loc[(df['MONTH'] == month1) & (df['LFS'] == 'NILF')]\n",
    "d2 = df.loc[(df['MONTH'] == month2) & (df['LFS'] == 'Employed')]\n",
    "\n",
    "# Combine the two months and check that the person matches\n",
    "m = pd.merge(d1, d2, on=['CPSID','PULINENO'], how='inner')\n",
    "m = m[(m['AGE_y'] >= m['AGE_x']) &\n",
    "      (m['AGE_x'] <= m['AGE_y'] + 1)]\n",
    "\n",
    "m['PWLGWGT_y'].sum() * (tot / m_tot)"
   ]
  },
  {
   "cell_type": "markdown",
   "metadata": {},
   "source": [
    "#### Benchmark 13\n",
    "\n",
    "In 2018, how many people age 16-64 were (on average) unemployed?\n",
    "\n",
    "[BLS](https://www.bls.gov/news.release/disabl.htm): 445,000"
   ]
  },
  {
   "cell_type": "code",
   "execution_count": 16,
   "metadata": {
    "ExecuteTime": {
     "end_time": "2020-09-03T01:08:17.205847Z",
     "start_time": "2020-09-03T01:08:16.976528Z"
    }
   },
   "outputs": [
    {
     "data": {
      "text/plain": [
       "443844.125"
      ]
     },
     "execution_count": 16,
     "metadata": {},
     "output_type": "execute_result"
    }
   ],
   "source": [
    "(pd.read_feather('cps2018.ft')\n",
    "   .query('16 <= AGE <= 64 and DISABILITY == 1 and LFS == \"Unemployed\"')\n",
    "   .BASICWGT.sum() / 12)"
   ]
  },
  {
   "cell_type": "markdown",
   "metadata": {},
   "source": [
    "#### Benchmark 14\n",
    "\n",
    "How many people are not in the labor force in May 2012?\n",
    "\n",
    "[FRB PHL](https://www.phil.frb.org/-/media/research-and-data/publications/research-rap/2014/constructing-the-reason-for-nonparticipation-variable-using-the-monthly-cps-pdf.pdf?la=en): 87,698,000"
   ]
  },
  {
   "cell_type": "code",
   "execution_count": 17,
   "metadata": {
    "ExecuteTime": {
     "end_time": "2020-09-03T01:08:17.446347Z",
     "start_time": "2020-09-03T01:08:17.206968Z"
    }
   },
   "outputs": [
    {
     "data": {
      "text/plain": [
       "87967540.0"
      ]
     },
     "execution_count": 17,
     "metadata": {},
     "output_type": "execute_result"
    }
   ],
   "source": [
    "(pd.read_feather('cps2012.ft')\n",
    "   .query('LFS == \"NILF\" and AGE >= 16 and MONTH == 5')\n",
    "   .BASICWGT.sum())"
   ]
  },
  {
   "cell_type": "markdown",
   "metadata": {},
   "source": [
    "#### Benchmark 15\n",
    "\n",
    "In 2018, how many women age 25 and over are at or below the prevailing Federal minimum wage?\n",
    "\n",
    "[BLS](https://www.bls.gov/cps/cpsaat44.htm): 575,000"
   ]
  },
  {
   "cell_type": "code",
   "execution_count": 18,
   "metadata": {
    "ExecuteTime": {
     "end_time": "2020-09-03T01:08:17.679603Z",
     "start_time": "2020-09-03T01:08:17.447337Z"
    }
   },
   "outputs": [
    {
     "data": {
      "text/plain": [
       "556591.4166666666"
      ]
     },
     "execution_count": 18,
     "metadata": {},
     "output_type": "execute_result"
    }
   ],
   "source": [
    "(pd.read_feather('cps2018.ft')\n",
    "   .query('AGE >= 25 and FEMALE == 1 and MINWAGE == 1 and PAIDHRLY == 1')\n",
    "   .PWORWGT.sum() / 12)"
   ]
  },
  {
   "cell_type": "markdown",
   "metadata": {},
   "source": [
    "#### Benchmark 16\n",
    "\n",
    "In December 2018, how many 16-19 year olds were employed?\n",
    "\n",
    "BLS: LNU02000012: 5,023,000"
   ]
  },
  {
   "cell_type": "code",
   "execution_count": 19,
   "metadata": {
    "ExecuteTime": {
     "end_time": "2020-09-03T01:08:17.924922Z",
     "start_time": "2020-09-03T01:08:17.680635Z"
    }
   },
   "outputs": [
    {
     "data": {
      "text/plain": [
       "5022600.0"
      ]
     },
     "execution_count": 19,
     "metadata": {},
     "output_type": "execute_result"
    }
   ],
   "source": [
    "(pd.read_feather('cps2018.ft')\n",
    "   .query('LFS == \"Employed\" and 16 <= AGE <= 19 and MONTH == 12')\n",
    "   .BASICWGT.sum())"
   ]
  },
  {
   "cell_type": "markdown",
   "metadata": {
    "ExecuteTime": {
     "end_time": "2019-03-08T14:23:24.844439Z",
     "start_time": "2019-03-08T14:23:24.841256Z"
    }
   },
   "source": [
    "#### Benchmark 17\n",
    "\n",
    "In January 2001, how many people were part-time for economic reasons?\n",
    "\n",
    "BLS : LNU02032194: 3,732,000"
   ]
  },
  {
   "cell_type": "code",
   "execution_count": 20,
   "metadata": {
    "ExecuteTime": {
     "end_time": "2020-09-03T01:08:18.197245Z",
     "start_time": "2020-09-03T01:08:17.926051Z"
    }
   },
   "outputs": [
    {
     "data": {
      "text/plain": [
       "3731719.2"
      ]
     },
     "execution_count": 20,
     "metadata": {},
     "output_type": "execute_result"
    }
   ],
   "source": [
    "(pd.read_feather('cps2001.ft')\n",
    "   .query('PTECON == 1 and MONTH == 1')\n",
    "   .BASICWGT.sum())"
   ]
  },
  {
   "cell_type": "markdown",
   "metadata": {},
   "source": [
    "#### Benchmark 18\n",
    "\n",
    "In November 2017, how many people of Hispanic or Latino ethnicity were not in the labor force?\n",
    "\n",
    "BLS: LNU05000009: 14,272,000"
   ]
  },
  {
   "cell_type": "code",
   "execution_count": 21,
   "metadata": {
    "ExecuteTime": {
     "end_time": "2020-09-03T01:08:18.445631Z",
     "start_time": "2020-09-03T01:08:18.198316Z"
    }
   },
   "outputs": [
    {
     "data": {
      "text/plain": [
       "14271504.0"
      ]
     },
     "execution_count": 21,
     "metadata": {},
     "output_type": "execute_result"
    }
   ],
   "source": [
    "(pd.read_feather('cps2017.ft')\n",
    "   .query('WBHAO == \"Hispanic\" and MONTH == 11 and LFS==\"NILF\"')\n",
    "   .BASICWGT.sum())"
   ]
  },
  {
   "cell_type": "markdown",
   "metadata": {},
   "source": [
    "#### Benchmark 19\n",
    "\n",
    "In 2018 Q4, how many women were employed full-time in production occupations and what was their median usual weekly wage?\n",
    "\n",
    "BLS: LEU0254726500: 2,049,000\n",
    "\n",
    "BLS: LEU0254779900: $594.00"
   ]
  },
  {
   "cell_type": "code",
   "execution_count": 22,
   "metadata": {
    "ExecuteTime": {
     "end_time": "2020-09-03T01:08:18.688543Z",
     "start_time": "2020-09-03T01:08:18.446594Z"
    }
   },
   "outputs": [
    {
     "data": {
      "text/plain": [
       "2047336.1666666667"
      ]
     },
     "execution_count": 22,
     "metadata": {},
     "output_type": "execute_result"
    }
   ],
   "source": [
    "Q4 = [10, 11, 12]\n",
    "query = 'FEMALE == 1 and MONTH in @Q4 and HRSUSL1 >= 35 and OCCD == 21'\n",
    "df = pd.read_feather('cps2018.ft').query(query)\n",
    "   \n",
    "df.BASICWGT.sum() / 3"
   ]
  },
  {
   "cell_type": "code",
   "execution_count": 23,
   "metadata": {
    "ExecuteTime": {
     "end_time": "2020-09-03T01:08:18.709473Z",
     "start_time": "2020-09-03T01:08:18.690793Z"
    },
    "code_folding": [
     1
    ]
   },
   "outputs": [
    {
     "data": {
      "text/plain": [
       "597.1703455307022"
      ]
     },
     "execution_count": 23,
     "metadata": {},
     "output_type": "execute_result"
    }
   ],
   "source": [
    "# Sophisticated version\n",
    "def binned_wage(group):\n",
    "    \"\"\"Return BLS-styled binned median wage\"\"\"\n",
    "    weight = 'PWORWGT'\n",
    "    wage_var = 'WKWAGE'\n",
    "    percentile = 0.5\n",
    "    bin_size = 50\n",
    "    bins = list(np.arange(25, 3000, bin_size))\n",
    "    # Cut wage series according to bins of bin_size\n",
    "    bin_cut = lambda x: pd.cut(x[wage_var], bins, include_lowest=True)\n",
    "    \n",
    "    # Calculate cumulative sum for weight variable\n",
    "    cum_sum = lambda x: x[weight].cumsum()\n",
    "    \n",
    "    # Sort wages then apply bin_cut and cum_sum\n",
    "    df = (group.sort_values(wage_var)\n",
    "               .assign(WAGE_BIN = bin_cut, CS = cum_sum))\n",
    "    \n",
    "    # Find the weight at the percentile of interest\n",
    "    pct_wgt = df[weight].sum() * percentile\n",
    "\n",
    "    # Find wage bin for person nearest to weighted percentile\n",
    "    pct_bin = df.iloc[df['CS'].searchsorted(pct_wgt)].WAGE_BIN\n",
    "    \n",
    "    # Weight at bottom and top of bin\n",
    "    wgt_btm, wgt_top = (df.loc[df['WAGE_BIN'] == pct_bin, 'CS']\n",
    "                          .iloc[[0, -1]].values)\n",
    "    \n",
    "    # Find where in the bin the percentile is and return that value\n",
    "    pct_value = ((((pct_wgt - wgt_btm) / \n",
    "                   (wgt_top - wgt_btm)) * bin_size) + pct_bin.left)\n",
    "    return pct_value\n",
    "\n",
    "binned_wage(df)"
   ]
  },
  {
   "cell_type": "markdown",
   "metadata": {},
   "source": [
    "#### Benchmark 20\n",
    "\n",
    "In the year ending February 2018, how many people age 25-54 were not in the labor force because of disability?\n",
    "\n",
    "Tedeschi: 6,700,000"
   ]
  },
  {
   "cell_type": "code",
   "execution_count": 24,
   "metadata": {
    "ExecuteTime": {
     "end_time": "2020-09-03T01:08:19.204732Z",
     "start_time": "2020-09-03T01:08:18.710609Z"
    }
   },
   "outputs": [
    {
     "data": {
      "text/plain": [
       "6707834.666666667"
      ]
     },
     "execution_count": 24,
     "metadata": {},
     "output_type": "execute_result"
    }
   ],
   "source": [
    "(pd.read_feather('cps2017.ft')\n",
    "   .query('25 <= AGE <= 54 and NILFREASON == \"Disabled/Ill\" and MONTH > 2')\n",
    "   .append(pd.read_feather('cps2018.ft')\n",
    "   .query('25 <= AGE <= 54 and NILFREASON == \"Disabled/Ill\" and MONTH <= 2'))\n",
    "   .BASICWGT.sum() / 12)"
   ]
  },
  {
   "cell_type": "markdown",
   "metadata": {},
   "source": [
    "#### Benchmark 21\n",
    "\n",
    "In February 2018, how many discouraged workers were there?\n",
    "\n",
    "BLS: 373,000"
   ]
  },
  {
   "cell_type": "code",
   "execution_count": 25,
   "metadata": {
    "ExecuteTime": {
     "end_time": "2020-09-03T01:08:19.427679Z",
     "start_time": "2020-09-03T01:08:19.205829Z"
    }
   },
   "outputs": [
    {
     "data": {
      "text/plain": [
       "397784.2916666667"
      ]
     },
     "execution_count": 25,
     "metadata": {},
     "output_type": "execute_result"
    }
   ],
   "source": [
    "(pd.read_feather('cps2018.ft')\n",
    "   .query('NILFREASON == \"Discouraged\" and MONTH == 2')\n",
    "   .BASICWGT.sum() / 12)"
   ]
  },
  {
   "cell_type": "markdown",
   "metadata": {},
   "source": [
    "#### Benchmark 22\n",
    "\n",
    "In 2017, how many families have own children under 18 years of age?\n",
    "\n",
    "[BLS](https://www.bls.gov/news.release/famee.t04.htm): 33,615,000\t"
   ]
  },
  {
   "cell_type": "code",
   "execution_count": 8,
   "metadata": {
    "ExecuteTime": {
     "end_time": "2020-09-03T01:14:15.793444Z",
     "start_time": "2020-09-03T01:14:15.762919Z"
    }
   },
   "outputs": [],
   "source": [
    "cols = ['CPSID', 'PRFAMNUM', 'AGE', 'PRNMCHLD', 'FEMALE', 'PWFMWGT', 'PWSSWGT']\n",
    "df = pd.read_feather('cps2017.ft', columns = cols)"
   ]
  },
  {
   "cell_type": "code",
   "execution_count": 16,
   "metadata": {
    "ExecuteTime": {
     "end_time": "2020-09-03T01:41:12.766471Z",
     "start_time": "2020-09-03T01:41:12.561954Z"
    }
   },
   "outputs": [
    {
     "data": {
      "text/plain": [
       "44350077.333333336"
      ]
     },
     "execution_count": 16,
     "metadata": {},
     "output_type": "execute_result"
    }
   ],
   "source": [
    "df.groupby(['CPSID', 'PRFAMNUM']).PWFMWGT.first().sum() / 12"
   ]
  },
  {
   "cell_type": "code",
   "execution_count": null,
   "metadata": {},
   "outputs": [],
   "source": []
  },
  {
   "cell_type": "code",
   "execution_count": null,
   "metadata": {},
   "outputs": [],
   "source": []
  },
  {
   "cell_type": "code",
   "execution_count": 12,
   "metadata": {
    "ExecuteTime": {
     "end_time": "2020-09-03T01:15:10.718367Z",
     "start_time": "2020-09-03T01:15:10.665278Z"
    }
   },
   "outputs": [
    {
     "data": {
      "text/plain": [
       "12834413.333333334"
      ]
     },
     "execution_count": 12,
     "metadata": {},
     "output_type": "execute_result"
    }
   ],
   "source": [
    "df[df['PRNMCHLD'] > 0].groupby(['CPSID', 'PRFAMNUM']).PWFMWGT.first().sum() / 12"
   ]
  },
  {
   "cell_type": "code",
   "execution_count": 6,
   "metadata": {
    "ExecuteTime": {
     "end_time": "2020-09-03T01:12:44.836267Z",
     "start_time": "2020-09-03T01:12:44.816850Z"
    }
   },
   "outputs": [
    {
     "data": {
      "text/html": [
       "<div>\n",
       "<style scoped>\n",
       "    .dataframe tbody tr th:only-of-type {\n",
       "        vertical-align: middle;\n",
       "    }\n",
       "\n",
       "    .dataframe tbody tr th {\n",
       "        vertical-align: top;\n",
       "    }\n",
       "\n",
       "    .dataframe thead th {\n",
       "        text-align: right;\n",
       "    }\n",
       "</style>\n",
       "<table border=\"1\" class=\"dataframe\">\n",
       "  <thead>\n",
       "    <tr style=\"text-align: right;\">\n",
       "      <th></th>\n",
       "      <th>CPSID</th>\n",
       "      <th>PRFAMNUM</th>\n",
       "      <th>AGE</th>\n",
       "      <th>PRNMCHLD</th>\n",
       "      <th>FEMALE</th>\n",
       "      <th>PWFMWGT</th>\n",
       "      <th>PWSSWGT</th>\n",
       "    </tr>\n",
       "  </thead>\n",
       "  <tbody>\n",
       "    <tr>\n",
       "      <th>0</th>\n",
       "      <td>161232240</td>\n",
       "      <td>1</td>\n",
       "      <td>71</td>\n",
       "      <td>0</td>\n",
       "      <td>0</td>\n",
       "      <td>1725.037598</td>\n",
       "      <td>1621.680054</td>\n",
       "    </tr>\n",
       "    <tr>\n",
       "      <th>1</th>\n",
       "      <td>161232240</td>\n",
       "      <td>1</td>\n",
       "      <td>72</td>\n",
       "      <td>0</td>\n",
       "      <td>1</td>\n",
       "      <td>1725.037598</td>\n",
       "      <td>1725.037598</td>\n",
       "    </tr>\n",
       "    <tr>\n",
       "      <th>2</th>\n",
       "      <td>161232240</td>\n",
       "      <td>1</td>\n",
       "      <td>24</td>\n",
       "      <td>0</td>\n",
       "      <td>1</td>\n",
       "      <td>2623.362305</td>\n",
       "      <td>2623.362305</td>\n",
       "    </tr>\n",
       "    <tr>\n",
       "      <th>3</th>\n",
       "      <td>151241802</td>\n",
       "      <td>1</td>\n",
       "      <td>49</td>\n",
       "      <td>0</td>\n",
       "      <td>1</td>\n",
       "      <td>2033.730835</td>\n",
       "      <td>2033.730835</td>\n",
       "    </tr>\n",
       "    <tr>\n",
       "      <th>4</th>\n",
       "      <td>151241802</td>\n",
       "      <td>1</td>\n",
       "      <td>30</td>\n",
       "      <td>0</td>\n",
       "      <td>0</td>\n",
       "      <td>2380.467041</td>\n",
       "      <td>2380.467041</td>\n",
       "    </tr>\n",
       "    <tr>\n",
       "      <th>...</th>\n",
       "      <td>...</td>\n",
       "      <td>...</td>\n",
       "      <td>...</td>\n",
       "      <td>...</td>\n",
       "      <td>...</td>\n",
       "      <td>...</td>\n",
       "      <td>...</td>\n",
       "    </tr>\n",
       "    <tr>\n",
       "      <th>1524807</th>\n",
       "      <td>170452667</td>\n",
       "      <td>0</td>\n",
       "      <td>59</td>\n",
       "      <td>0</td>\n",
       "      <td>1</td>\n",
       "      <td>338.805786</td>\n",
       "      <td>338.805786</td>\n",
       "    </tr>\n",
       "    <tr>\n",
       "      <th>1524808</th>\n",
       "      <td>170667832</td>\n",
       "      <td>1</td>\n",
       "      <td>37</td>\n",
       "      <td>2</td>\n",
       "      <td>1</td>\n",
       "      <td>327.595795</td>\n",
       "      <td>327.595795</td>\n",
       "    </tr>\n",
       "    <tr>\n",
       "      <th>1524809</th>\n",
       "      <td>170667832</td>\n",
       "      <td>1</td>\n",
       "      <td>38</td>\n",
       "      <td>2</td>\n",
       "      <td>0</td>\n",
       "      <td>327.595795</td>\n",
       "      <td>366.943695</td>\n",
       "    </tr>\n",
       "    <tr>\n",
       "      <th>1524810</th>\n",
       "      <td>170667832</td>\n",
       "      <td>1</td>\n",
       "      <td>7</td>\n",
       "      <td>0</td>\n",
       "      <td>0</td>\n",
       "      <td>205.485199</td>\n",
       "      <td>205.485199</td>\n",
       "    </tr>\n",
       "    <tr>\n",
       "      <th>1524811</th>\n",
       "      <td>170667832</td>\n",
       "      <td>1</td>\n",
       "      <td>7</td>\n",
       "      <td>0</td>\n",
       "      <td>1</td>\n",
       "      <td>445.614594</td>\n",
       "      <td>445.614594</td>\n",
       "    </tr>\n",
       "  </tbody>\n",
       "</table>\n",
       "<p>1524812 rows × 7 columns</p>\n",
       "</div>"
      ],
      "text/plain": [
       "             CPSID  PRFAMNUM  AGE  PRNMCHLD FEMALE      PWFMWGT      PWSSWGT\n",
       "0        161232240         1   71         0      0  1725.037598  1621.680054\n",
       "1        161232240         1   72         0      1  1725.037598  1725.037598\n",
       "2        161232240         1   24         0      1  2623.362305  2623.362305\n",
       "3        151241802         1   49         0      1  2033.730835  2033.730835\n",
       "4        151241802         1   30         0      0  2380.467041  2380.467041\n",
       "...            ...       ...  ...       ...    ...          ...          ...\n",
       "1524807  170452667         0   59         0      1   338.805786   338.805786\n",
       "1524808  170667832         1   37         2      1   327.595795   327.595795\n",
       "1524809  170667832         1   38         2      0   327.595795   366.943695\n",
       "1524810  170667832         1    7         0      0   205.485199   205.485199\n",
       "1524811  170667832         1    7         0      1   445.614594   445.614594\n",
       "\n",
       "[1524812 rows x 7 columns]"
      ]
     },
     "execution_count": 6,
     "metadata": {},
     "output_type": "execute_result"
    }
   ],
   "source": [
    "df[['CPSID', 'PRFAMNUM', 'AGE', 'PRNMCHLD', 'FEMALE', 'PWFMWGT', 'PWSSWGT']]"
   ]
  },
  {
   "cell_type": "code",
   "execution_count": null,
   "metadata": {},
   "outputs": [],
   "source": []
  },
  {
   "cell_type": "code",
   "execution_count": 5,
   "metadata": {
    "ExecuteTime": {
     "end_time": "2020-09-03T01:10:33.844263Z",
     "start_time": "2020-09-03T01:10:33.836160Z"
    }
   },
   "outputs": [
    {
     "data": {
      "text/plain": [
       "0          0\n",
       "1          0\n",
       "2          0\n",
       "3          0\n",
       "4          0\n",
       "          ..\n",
       "1524807    0\n",
       "1524808    2\n",
       "1524809    2\n",
       "1524810    0\n",
       "1524811    0\n",
       "Name: PRNMCHLD, Length: 1524812, dtype: int8"
      ]
     },
     "execution_count": 5,
     "metadata": {},
     "output_type": "execute_result"
    }
   ],
   "source": [
    "df['PRNMCHLD']"
   ]
  },
  {
   "cell_type": "code",
   "execution_count": null,
   "metadata": {},
   "outputs": [],
   "source": []
  },
  {
   "cell_type": "code",
   "execution_count": null,
   "metadata": {},
   "outputs": [],
   "source": []
  },
  {
   "cell_type": "code",
   "execution_count": null,
   "metadata": {},
   "outputs": [],
   "source": [
    "df"
   ]
  },
  {
   "cell_type": "code",
   "execution_count": 27,
   "metadata": {
    "ExecuteTime": {
     "end_time": "2020-09-03T01:08:19.929647Z",
     "start_time": "2020-09-03T01:08:19.650760Z"
    }
   },
   "outputs": [],
   "source": [
    "df['FAMSIZE'] = df.groupby(['CPSID', 'PRFAMNUM']).PWFMWGT.transform('count')\n",
    "df['PARENT'] = df.groupby(['CPSID', 'PRFAMNUM']).PRNMCHLD.transform('sum')"
   ]
  },
  {
   "cell_type": "code",
   "execution_count": 28,
   "metadata": {
    "ExecuteTime": {
     "end_time": "2020-09-03T01:08:20.163550Z",
     "start_time": "2020-09-03T01:08:19.930663Z"
    }
   },
   "outputs": [
    {
     "data": {
      "text/plain": [
       "12752940.0"
      ]
     },
     "execution_count": 28,
     "metadata": {},
     "output_type": "execute_result"
    }
   ],
   "source": [
    "df.loc[(df.FAMSIZE > 1) & (df.PARENT > 0)].groupby(['CPSID', 'PRFAMNUM']).PWFMWGT.nth(0).sum() / 12"
   ]
  },
  {
   "cell_type": "code",
   "execution_count": null,
   "metadata": {},
   "outputs": [],
   "source": []
  },
  {
   "cell_type": "code",
   "execution_count": null,
   "metadata": {},
   "outputs": [],
   "source": []
  },
  {
   "cell_type": "code",
   "execution_count": null,
   "metadata": {},
   "outputs": [],
   "source": []
  },
  {
   "cell_type": "markdown",
   "metadata": {},
   "source": [
    "--------\n",
    "\n",
    "\n",
    "\n",
    "\n",
    "# 1989-93 Extracts"
   ]
  },
  {
   "cell_type": "markdown",
   "metadata": {},
   "source": [
    "#### Benchmark 1\n",
    "\n",
    "How many women age 20-24 were employed in June 1992?\n",
    "\n",
    "BLS: LNU02000038: 6,190,000"
   ]
  },
  {
   "cell_type": "code",
   "execution_count": 29,
   "metadata": {
    "ExecuteTime": {
     "end_time": "2020-09-03T01:08:20.347446Z",
     "start_time": "2020-09-03T01:08:20.164743Z"
    }
   },
   "outputs": [
    {
     "data": {
      "text/plain": [
       "6144925.0"
      ]
     },
     "execution_count": 29,
     "metadata": {},
     "output_type": "execute_result"
    }
   ],
   "source": [
    "(pd.read_feather('cps1992.ft')\n",
    "   .query('MONTH == 6 and FEMALE == 1 and 20 <= AGE <= 24'\n",
    "          'and LFS == \"Employed\"')).BASICWGT.sum()"
   ]
  },
  {
   "cell_type": "markdown",
   "metadata": {},
   "source": [
    "#### Benchmark 2\n",
    "\n",
    "What was the unemployment rate in Febuary 1989?\n",
    "\n",
    "BLS: LNU04000000: 5.6%"
   ]
  },
  {
   "cell_type": "code",
   "execution_count": 30,
   "metadata": {
    "ExecuteTime": {
     "end_time": "2020-09-03T01:08:20.525848Z",
     "start_time": "2020-09-03T01:08:20.348591Z"
    }
   },
   "outputs": [
    {
     "data": {
      "text/plain": [
       "0.05666313"
      ]
     },
     "execution_count": 30,
     "metadata": {},
     "output_type": "execute_result"
    }
   ],
   "source": [
    "df = (pd.read_feather('cps1989.ft')\n",
    "        .query('MONTH == 2 and AGE > 15')\n",
    "        .groupby('LFS')\n",
    "        .BASICWGT.sum())\n",
    "\n",
    "df['Unemployed'].sum() / (df['Unemployed'].sum() + df['Employed'].sum())"
   ]
  },
  {
   "cell_type": "markdown",
   "metadata": {},
   "source": [
    "#### Benchmark 3\n",
    "\n",
    "In December 1990, what was the unemployment rate (U-2) if you only count people who lost jobs or completed temporary jobs?\n",
    "\n",
    "BLS: LNU04023621: 3.2%"
   ]
  },
  {
   "cell_type": "code",
   "execution_count": 31,
   "metadata": {
    "ExecuteTime": {
     "end_time": "2020-09-03T01:08:20.734553Z",
     "start_time": "2020-09-03T01:08:20.526730Z"
    }
   },
   "outputs": [
    {
     "data": {
      "text/plain": [
       "0.03193486"
      ]
     },
     "execution_count": 31,
     "metadata": {},
     "output_type": "execute_result"
    }
   ],
   "source": [
    "df = (pd.read_feather('cps1990.ft')\n",
    "        .query('MONTH == 12 and AGE > 15'))\n",
    "\n",
    "unjl = df.query('UNEMPTYPE==\"Job Loser\"').BASICWGT.sum()\n",
    "\n",
    "lf = df.query('LFS in [\"Unemployed\", \"Employed\"]').BASICWGT.sum()\n",
    "\n",
    "unjl / lf"
   ]
  },
  {
   "cell_type": "markdown",
   "metadata": {},
   "source": [
    "#### Benchmark 4\n",
    "\n",
    "In 1991, what share of wage and salary workers were represented by a union?\n",
    "\n",
    "BLS: LUU0204899700: 18.1%"
   ]
  },
  {
   "cell_type": "code",
   "execution_count": 32,
   "metadata": {
    "ExecuteTime": {
     "end_time": "2020-09-03T01:08:20.965240Z",
     "start_time": "2020-09-03T01:08:20.736836Z"
    }
   },
   "outputs": [
    {
     "data": {
      "text/plain": [
       "0.18115486"
      ]
     },
     "execution_count": 32,
     "metadata": {},
     "output_type": "execute_result"
    }
   ],
   "source": [
    "df = (pd.read_feather('cps1991.ft')\n",
    "        .query('AGE > 15 and UNION >= 0'))\n",
    "\n",
    "uncov = df.query('UNION == 1').PWORWGT.sum()\n",
    "\n",
    "total = df.PWORWGT.sum()\n",
    "\n",
    "uncov/total"
   ]
  },
  {
   "cell_type": "markdown",
   "metadata": {},
   "source": [
    "#### Benchmark 5\n",
    "\n",
    "In July 1989, how many people were unemployed for 27 weeks or more?\n",
    "\n",
    "BLS: LNU03008636: 616,000"
   ]
  },
  {
   "cell_type": "code",
   "execution_count": 33,
   "metadata": {
    "ExecuteTime": {
     "end_time": "2020-09-03T01:08:21.140538Z",
     "start_time": "2020-09-03T01:08:20.966266Z"
    }
   },
   "outputs": [
    {
     "data": {
      "text/plain": [
       "607400.75"
      ]
     },
     "execution_count": 33,
     "metadata": {},
     "output_type": "execute_result"
    }
   ],
   "source": [
    "(pd.read_feather('cps1989.ft')\n",
    "   .query('MONTH == 7 and UNEMPDUR >= 27')\n",
    "   .BASICWGT.sum())"
   ]
  },
  {
   "cell_type": "markdown",
   "metadata": {},
   "source": [
    "#### Benchmark 6\n",
    "\n",
    "In Q2 1992, what was the median usual weekly earnings?\n",
    "\n",
    "BLS: LEU0252881500: $436"
   ]
  },
  {
   "cell_type": "code",
   "execution_count": 34,
   "metadata": {
    "ExecuteTime": {
     "end_time": "2020-09-03T01:08:21.328040Z",
     "start_time": "2020-09-03T01:08:21.141992Z"
    }
   },
   "outputs": [
    {
     "data": {
      "text/plain": [
       "435.0"
      ]
     },
     "execution_count": 34,
     "metadata": {},
     "output_type": "execute_result"
    }
   ],
   "source": [
    "months = [4, 5, 6]\n",
    "\n",
    "df = (pd.read_feather('cps1992.ft')\n",
    "        .query('MONTH in @months and WKWAGE > 0 and WORKFT == 1'))\n",
    "\n",
    "wquantiles.median(df['WKWAGE'], df['PWORWGT'])"
   ]
  },
  {
   "cell_type": "code",
   "execution_count": 35,
   "metadata": {
    "ExecuteTime": {
     "end_time": "2020-09-03T01:08:21.352483Z",
     "start_time": "2020-09-03T01:08:21.328981Z"
    },
    "code_folding": [
     0
    ]
   },
   "outputs": [
    {
     "data": {
      "text/plain": [
       "436.6202889843269"
      ]
     },
     "execution_count": 35,
     "metadata": {},
     "output_type": "execute_result"
    }
   ],
   "source": [
    "# Sophisticated version\n",
    "def binned_wage(group):\n",
    "    \"\"\"Return BLS-styled binned median wage\"\"\"\n",
    "    weight = 'PWORWGT'\n",
    "    wage_var = 'WKWAGE'\n",
    "    percentile = 0.5\n",
    "    bin_size = 25\n",
    "    bins = list(np.arange(12.5, 3000, bin_size))\n",
    "    # Cut wage series according to bins of bin_size\n",
    "    bin_cut = lambda x: pd.cut(x[wage_var], bins, include_lowest=True)\n",
    "    \n",
    "    # Calculate cumulative sum for weight variable\n",
    "    cum_sum = lambda x: x[weight].cumsum()\n",
    "    \n",
    "    # Sort wages then apply bin_cut and cum_sum\n",
    "    df = (group.sort_values(wage_var)\n",
    "               .assign(WAGE_BIN = bin_cut, CS = cum_sum))\n",
    "    \n",
    "    # Find the weight at the percentile of interest\n",
    "    pct_wgt = df[weight].sum() * percentile\n",
    "\n",
    "    # Find wage bin for person nearest to weighted percentile\n",
    "    pct_bin = df.iloc[df['CS'].searchsorted(pct_wgt)].WAGE_BIN\n",
    "    \n",
    "    # Weight at bottom and top of bin\n",
    "    wgt_btm, wgt_top = (df.loc[df['WAGE_BIN'] == pct_bin, 'CS']\n",
    "                          .iloc[[0, -1]].values)\n",
    "    \n",
    "    # Find where in the bin the percentile is and return that value\n",
    "    pct_value = ((((pct_wgt - wgt_btm) / \n",
    "                   (wgt_top - wgt_btm)) * bin_size) + pct_bin.left)\n",
    "    return pct_value\n",
    "\n",
    "binned_wage(df)"
   ]
  },
  {
   "cell_type": "markdown",
   "metadata": {},
   "source": [
    "#### Benchmark 7\n",
    "\n",
    "In September 1989, how many people were part-time for economic reasons?\n",
    "\n",
    "BLS: LNU02032194: 4,487,000"
   ]
  },
  {
   "cell_type": "code",
   "execution_count": 36,
   "metadata": {
    "ExecuteTime": {
     "end_time": "2020-09-03T01:08:21.526488Z",
     "start_time": "2020-09-03T01:08:21.353331Z"
    }
   },
   "outputs": [
    {
     "data": {
      "text/plain": [
       "4436614.5"
      ]
     },
     "execution_count": 36,
     "metadata": {},
     "output_type": "execute_result"
    }
   ],
   "source": [
    "(pd.read_feather('cps1989.ft')\n",
    "   .query('MONTH == 9 and PTECON == 1')\n",
    "   .BASICWGT.sum())"
   ]
  },
  {
   "cell_type": "markdown",
   "metadata": {},
   "source": [
    "#### Benchmark 8\n",
    "\n",
    "In December 1991, how many black or African-American people were not in the labor force?\n",
    "\n",
    "BLS: LNU05000006: 8,153,000\n",
    "\n",
    "**NOTE**: Issue here is because Hispanic blacks excluded from WBHAO == 'Black'\n",
    "\n",
    "When using RACE == 2, the result is 8119624.0"
   ]
  },
  {
   "cell_type": "code",
   "execution_count": 37,
   "metadata": {
    "ExecuteTime": {
     "end_time": "2020-09-03T01:08:21.706820Z",
     "start_time": "2020-09-03T01:08:21.527424Z"
    }
   },
   "outputs": [
    {
     "data": {
      "text/plain": [
       "7996622.0"
      ]
     },
     "execution_count": 37,
     "metadata": {},
     "output_type": "execute_result"
    }
   ],
   "source": [
    "(pd.read_feather('cps1991.ft')\n",
    "   .query('MONTH == 12 and WBHAO == \"Black\" and LFS == \"NILF\" and AGE > 15')\n",
    "   .BASICWGT.sum())"
   ]
  },
  {
   "cell_type": "markdown",
   "metadata": {},
   "source": [
    "#### Benchmark 9\n",
    "\n",
    "In February 1990, how many people were employed in service occupations?\n",
    "\n",
    "BLS: LNU02032204: 17,545,000"
   ]
  },
  {
   "cell_type": "code",
   "execution_count": 38,
   "metadata": {
    "ExecuteTime": {
     "end_time": "2020-09-03T01:08:21.901492Z",
     "start_time": "2020-09-03T01:08:21.708433Z"
    }
   },
   "outputs": [
    {
     "data": {
      "text/plain": [
       "17293907.99561884"
      ]
     },
     "execution_count": 38,
     "metadata": {},
     "output_type": "execute_result"
    }
   ],
   "source": [
    "(pd.read_feather('cps1990.ft')\n",
    "   .query('MONTH == 2 and LFS == \"Employed\" and OCC80M in [6, 7, 8]')\n",
    "   .BASICWGT.sum()) * (1 / 0.913) # BLS historical comparatability"
   ]
  },
  {
   "cell_type": "markdown",
   "metadata": {},
   "source": [
    "#### Benchmark 10 - CEPRdata\n",
    "\n",
    "In May 1993, how many Hispanic people were unemployed (using ORG sample)"
   ]
  },
  {
   "cell_type": "code",
   "execution_count": 39,
   "metadata": {
    "ExecuteTime": {
     "end_time": "2020-09-03T01:08:22.296261Z",
     "start_time": "2020-09-03T01:08:21.902521Z"
    }
   },
   "outputs": [
    {
     "data": {
      "text/plain": [
       "1354661.4"
      ]
     },
     "execution_count": 39,
     "metadata": {},
     "output_type": "execute_result"
    }
   ],
   "source": [
    "os.chdir('/home/brian/Documents/CPS/data/')\n",
    "\n",
    "keep_cols = ['month', 'wbhao', 'unem', 'orgwgt']\n",
    "(pd.read_stata('cepr_org_1993.dta', columns=keep_cols)\n",
    "   .query('month == 5 and wbhao == \"Hispanic\" and unem == 1')\n",
    "   .orgwgt.sum())"
   ]
  },
  {
   "cell_type": "code",
   "execution_count": 40,
   "metadata": {
    "ExecuteTime": {
     "end_time": "2020-09-03T01:08:22.471266Z",
     "start_time": "2020-09-03T01:08:22.297224Z"
    }
   },
   "outputs": [
    {
     "data": {
      "text/plain": [
       "1354661.2"
      ]
     },
     "execution_count": 40,
     "metadata": {},
     "output_type": "execute_result"
    }
   ],
   "source": [
    "(pd.read_feather('clean/cps1993.ft')\n",
    "   .query('MONTH == 5 and LFS == \"Unemployed\" and WBHAO == \"Hispanic\" and AGE > 15')\n",
    "   .PWORWGT.sum())"
   ]
  },
  {
   "cell_type": "code",
   "execution_count": null,
   "metadata": {},
   "outputs": [],
   "source": []
  },
  {
   "cell_type": "code",
   "execution_count": null,
   "metadata": {},
   "outputs": [],
   "source": []
  }
 ],
 "metadata": {
  "kernelspec": {
   "display_name": "Python 3",
   "language": "python",
   "name": "python3"
  },
  "language_info": {
   "codemirror_mode": {
    "name": "ipython",
    "version": 3
   },
   "file_extension": ".py",
   "mimetype": "text/x-python",
   "name": "python",
   "nbconvert_exporter": "python",
   "pygments_lexer": "ipython3",
   "version": "3.8.5"
  }
 },
 "nbformat": 4,
 "nbformat_minor": 2
}
