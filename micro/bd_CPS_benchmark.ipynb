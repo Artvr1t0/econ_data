{
 "cells": [
  {
   "cell_type": "markdown",
   "metadata": {},
   "source": [
    "# bd econ CPS extract\n",
    "\n",
    "bd_CPS_benchmark.ipynb\n",
    "\n",
    "April 16, 2019\n",
    "\n",
    "Contact: Brian Dew, @bd_econ\n",
    "\n",
    "Requires: `cpsYYYY.ft` files for each year. The bd CPS files are generated bd_CPS_reader.ipynb\n",
    "\n",
    "-----\n",
    "\n",
    "See [readme](https://github.com/bdecon/econ_data/tree/master/bd_CPS) for documentation."
   ]
  },
  {
   "cell_type": "code",
   "execution_count": 1,
   "metadata": {
    "ExecuteTime": {
     "end_time": "2021-05-02T21:11:16.731226Z",
     "start_time": "2021-05-02T21:11:16.512643Z"
    }
   },
   "outputs": [
    {
     "name": "stdout",
     "output_type": "stream",
     "text": [
      "pandas: 1.2.4\n",
      "numpy: 1.20.2\n"
     ]
    }
   ],
   "source": [
    "import pandas as pd\n",
    "print('pandas:', pd.__version__)\n",
    "import numpy as np\n",
    "print('numpy:', np.__version__)\n",
    "import wquantiles\n",
    "import os\n",
    "\n",
    "os.chdir('/home/brian/Documents/CPS/data/clean/')"
   ]
  },
  {
   "cell_type": "markdown",
   "metadata": {},
   "source": [
    "# 1994-onward extracts"
   ]
  },
  {
   "cell_type": "markdown",
   "metadata": {},
   "source": [
    "#### Benchmark 1\n",
    "\n",
    "In October 1999, how many people were unemployed because of losing a job?\n",
    "\n",
    "BLS: LNU03023621: 2,162,000"
   ]
  },
  {
   "cell_type": "code",
   "execution_count": 2,
   "metadata": {
    "ExecuteTime": {
     "end_time": "2021-05-02T21:11:17.076967Z",
     "start_time": "2021-05-02T21:11:16.734900Z"
    }
   },
   "outputs": [
    {
     "data": {
      "text/plain": [
       "2161502.5"
      ]
     },
     "execution_count": 2,
     "metadata": {},
     "output_type": "execute_result"
    }
   ],
   "source": [
    "(pd.read_feather('cps1999.ft')\n",
    "   .query('MONTH==10 and UNEMPTYPE == \"Job Loser\"')\n",
    "   ['BASICWGT']).sum()"
   ]
  },
  {
   "cell_type": "markdown",
   "metadata": {},
   "source": [
    "#### Benchmark 2\n",
    "\n",
    "In February 2007, what share of age 25-54 women were employed?\n",
    "\n",
    "BLS: LNU02300062: 72.6"
   ]
  },
  {
   "cell_type": "code",
   "execution_count": 3,
   "metadata": {
    "ExecuteTime": {
     "end_time": "2021-05-02T21:11:17.407958Z",
     "start_time": "2021-05-02T21:11:17.078155Z"
    }
   },
   "outputs": [
    {
     "data": {
      "text/plain": [
       "0.72602457"
      ]
     },
     "execution_count": 3,
     "metadata": {},
     "output_type": "execute_result"
    }
   ],
   "source": [
    "df = (pd.read_feather('cps2007.ft')\n",
    "        .query('MONTH==2 and 25 <= AGE <= 54 and FEMALE==1')\n",
    "        .groupby('LFS')\n",
    "        .BASICWGT.sum())\n",
    "\n",
    "df['Employed'] / df.sum()"
   ]
  },
  {
   "cell_type": "markdown",
   "metadata": {},
   "source": [
    "#### Benchmark 3\n",
    "\n",
    "In May 2014, how many people have more than one job?\n",
    "\n",
    "BLS: LNU02026619: 7,305,000"
   ]
  },
  {
   "cell_type": "code",
   "execution_count": 4,
   "metadata": {
    "ExecuteTime": {
     "end_time": "2021-05-02T21:11:17.734966Z",
     "start_time": "2021-05-02T21:11:17.408941Z"
    }
   },
   "outputs": [
    {
     "data": {
      "text/plain": [
       "7304317.5"
      ]
     },
     "execution_count": 4,
     "metadata": {},
     "output_type": "execute_result"
    }
   ],
   "source": [
    "(pd.read_feather('cps2014.ft')\n",
    "   .query('MONTH==5 and MJH==1')\n",
    "   .BASICWGT).sum()"
   ]
  },
  {
   "cell_type": "markdown",
   "metadata": {},
   "source": [
    "#### Benchmark 4\n",
    "\n",
    "In 2017 Q1, what were the nominal median usual weekly earnings?\n",
    "\n",
    "BLS: LEU0252881500: $865"
   ]
  },
  {
   "cell_type": "code",
   "execution_count": 5,
   "metadata": {
    "ExecuteTime": {
     "end_time": "2021-05-02T21:11:18.068774Z",
     "start_time": "2021-05-02T21:11:17.735851Z"
    }
   },
   "outputs": [
    {
     "data": {
      "text/plain": [
       "865.3800048828125"
      ]
     },
     "execution_count": 5,
     "metadata": {},
     "output_type": "execute_result"
    }
   ],
   "source": [
    "df = (pd.read_feather('cps2017.ft')\n",
    "        .query('MONTH < 4 and WKEARN > 0 and USLFT == 1'))\n",
    "\n",
    "wquantiles.median(df['WKEARN'], df['PWORWGT'])"
   ]
  },
  {
   "cell_type": "code",
   "execution_count": 6,
   "metadata": {
    "ExecuteTime": {
     "end_time": "2021-05-02T21:11:18.082103Z",
     "start_time": "2021-05-02T21:11:18.070131Z"
    },
    "code_folding": [
     0
    ]
   },
   "outputs": [
    {
     "data": {
      "text/plain": [
       "864.7608044961352"
      ]
     },
     "execution_count": 6,
     "metadata": {},
     "output_type": "execute_result"
    }
   ],
   "source": [
    "def binned_wage(df, wage_var='WKEARN', perc=0.5, \n",
    "                bins=np.arange(-25, 3000, 50)):\n",
    "    '''\n",
    "    Returns wage estimate based on linear interpolation through \n",
    "    the bin containing the wage.\n",
    "    \n",
    "    perc = percentile of interest (0.5 is median)\n",
    "    bins = list of bin start locations\n",
    "    '''\n",
    "    cdf = (df.groupby(pd.cut(df[wage_var], bins))\n",
    "             .PWORWGT.sum().cumsum() / df.PWORWGT.sum())\n",
    "    \n",
    "    return np.interp(perc, cdf, bins[1:])\n",
    "\n",
    "binned_wage(df)"
   ]
  },
  {
   "cell_type": "markdown",
   "metadata": {},
   "source": [
    "#### Benchmark 5\n",
    "\n",
    "In April 2007, what was the unemployment rate for native born Hispanic or latino people?\n",
    "\n",
    "BLS: LNU04073425: 5.6 "
   ]
  },
  {
   "cell_type": "code",
   "execution_count": 7,
   "metadata": {
    "ExecuteTime": {
     "end_time": "2021-05-02T21:11:18.424436Z",
     "start_time": "2021-05-02T21:11:18.083025Z"
    }
   },
   "outputs": [
    {
     "data": {
      "text/plain": [
       "0.055565815"
      ]
     },
     "execution_count": 7,
     "metadata": {},
     "output_type": "execute_result"
    }
   ],
   "source": [
    "df = (pd.read_feather('cps2007.ft')\n",
    "        .query('MONTH == 4 and FORBORN == 0 and WBHAO == \"Hispanic\"')\n",
    "        .groupby('LFS')\n",
    "        .BASICWGT.sum())\n",
    "\n",
    "df['Unemployed'].sum() / (df['Unemployed'].sum() + df['Employed'].sum())"
   ]
  },
  {
   "cell_type": "markdown",
   "metadata": {},
   "source": [
    "#### Benchmark 6\n",
    "\n",
    "In 2017, what was the union membership rate for black men?\n",
    "\n",
    "BLS: LUU0204905200: 13.7"
   ]
  },
  {
   "cell_type": "code",
   "execution_count": 8,
   "metadata": {
    "ExecuteTime": {
     "end_time": "2021-05-02T21:11:18.778387Z",
     "start_time": "2021-05-02T21:11:18.426052Z"
    }
   },
   "outputs": [
    {
     "data": {
      "text/plain": [
       "0.13706622"
      ]
     },
     "execution_count": 8,
     "metadata": {},
     "output_type": "execute_result"
    }
   ],
   "source": [
    "df = (pd.read_feather('cps2017.ft')\n",
    "        .query('UNIONMEM >= 0 and WBHAOM == \"Black\" and FEMALE == 0')\n",
    "        .groupby('UNIONMEM')\n",
    "        .PWORWGT.sum())\n",
    "\n",
    "df[1] / df.sum()"
   ]
  },
  {
   "cell_type": "markdown",
   "metadata": {},
   "source": [
    "#### Benchmark 7\n",
    "\n",
    "In November 2015, on average, how many hours did usually employed full-time married (spouse present) men work?\n",
    "\n",
    "BLS: LNU02533629: 44.1\n",
    "\n",
    "EDIT: Tested and works (44.10250044951661) but removed because adds two variables."
   ]
  },
  {
   "cell_type": "code",
   "execution_count": 9,
   "metadata": {
    "ExecuteTime": {
     "end_time": "2021-05-02T21:11:18.781095Z",
     "start_time": "2021-05-02T21:11:18.779642Z"
    }
   },
   "outputs": [],
   "source": [
    "#df = (pd.read_feather('cps2015.ft')\n",
    "#        .query('MONTH == 11 and PRFTLF == 1 and PRMARSTA in [1, 2]'\n",
    "#               'and FEMALE == 0 and PRAGNA == 2 and HRSACTT > 0'))\n",
    "#\n",
    "#np.average(df['HRSACTT'], weights=df['BASICWGT'])"
   ]
  },
  {
   "cell_type": "markdown",
   "metadata": {},
   "source": [
    "#### Benchmark 8\n",
    "\n",
    "In 2017, what was the median hourly wage for 45 to 54 year old female wage and salary workers paid hourly rates?\n",
    "\n",
    "BLS: LEU0207640900: $15.16"
   ]
  },
  {
   "cell_type": "code",
   "execution_count": 10,
   "metadata": {
    "ExecuteTime": {
     "end_time": "2021-05-02T21:11:19.122106Z",
     "start_time": "2021-05-02T21:11:18.782141Z"
    }
   },
   "outputs": [
    {
     "data": {
      "text/plain": [
       "15.0"
      ]
     },
     "execution_count": 10,
     "metadata": {},
     "output_type": "execute_result"
    }
   ],
   "source": [
    "df = (pd.read_feather('cps2017.ft')\n",
    "        .query('45 <= AGE <= 54 and FEMALE == 1 and PAIDHRLY == 1 and HRWAGE > 0'))\n",
    "\n",
    "wquantiles.median(df['HRWAGE'], weights=df['PWORWGT'])"
   ]
  },
  {
   "cell_type": "code",
   "execution_count": 11,
   "metadata": {
    "ExecuteTime": {
     "end_time": "2021-05-02T21:11:19.149901Z",
     "start_time": "2021-05-02T21:11:19.123075Z"
    }
   },
   "outputs": [
    {
     "data": {
      "text/plain": [
       "15.126007296162156"
      ]
     },
     "execution_count": 11,
     "metadata": {},
     "output_type": "execute_result"
    }
   ],
   "source": [
    "binned_wage(df, wage_var='HRWAGE', bins=np.arange(0.25, 300, 0.5))"
   ]
  },
  {
   "cell_type": "code",
   "execution_count": null,
   "metadata": {},
   "outputs": [],
   "source": []
  },
  {
   "cell_type": "markdown",
   "metadata": {},
   "source": [
    "#### Benchmark 9\n",
    "\n",
    "In 2018, how many employed people had a professional certification or license?\n",
    "\n",
    "BLS [Table 48](https://www.bls.gov/cps/cpsaat49.htm): 37,556,000"
   ]
  },
  {
   "cell_type": "code",
   "execution_count": 12,
   "metadata": {
    "ExecuteTime": {
     "end_time": "2021-05-02T21:11:19.510385Z",
     "start_time": "2021-05-02T21:11:19.150992Z"
    }
   },
   "outputs": [
    {
     "data": {
      "text/plain": [
       "37523269.333333336"
      ]
     },
     "execution_count": 12,
     "metadata": {},
     "output_type": "execute_result"
    }
   ],
   "source": [
    "(pd.read_feather('cps2018.ft')\n",
    "   .query('LFS == \"Employed\" and CERT == 1')\n",
    "   .BASICWGT.sum() / 12.0)"
   ]
  },
  {
   "cell_type": "markdown",
   "metadata": {},
   "source": [
    "#### Benchmark 10\n",
    "\n",
    "In 2018, how many people were employed in Logging?\n",
    "\n",
    "BLS [Table 18](https://www.bls.gov/cps/cpsaat18.htm): 112,000"
   ]
  },
  {
   "cell_type": "code",
   "execution_count": 13,
   "metadata": {
    "ExecuteTime": {
     "end_time": "2021-05-02T21:11:19.827796Z",
     "start_time": "2021-05-02T21:11:19.511367Z"
    }
   },
   "outputs": [
    {
     "data": {
      "text/plain": [
       "118410.82291666667"
      ]
     },
     "execution_count": 13,
     "metadata": {},
     "output_type": "execute_result"
    }
   ],
   "source": [
    "(pd.read_feather('cps2018.ft')\n",
    "   .query('IND == 270')\n",
    "   .BASICWGT.sum() / 12.0)"
   ]
  },
  {
   "cell_type": "markdown",
   "metadata": {},
   "source": [
    "#### Benchmark 11\n",
    "\n",
    "In February 2012, what was the unemployment rate for veterans age 18+?\n",
    "\n",
    "BLS: LNU04049526: 7.0%"
   ]
  },
  {
   "cell_type": "code",
   "execution_count": 14,
   "metadata": {
    "ExecuteTime": {
     "end_time": "2021-05-02T21:11:20.180749Z",
     "start_time": "2021-05-02T21:11:19.828867Z"
    }
   },
   "outputs": [
    {
     "data": {
      "text/plain": [
       "0.069386184"
      ]
     },
     "execution_count": 14,
     "metadata": {},
     "output_type": "execute_result"
    }
   ],
   "source": [
    "df = (pd.read_feather('cps2012.ft')\n",
    "        .query('MONTH == 2 and AGE >= 18 and VETERAN == 1')\n",
    "        .groupby('LFS')\n",
    "        .BASICWGT.sum())\n",
    "\n",
    "df['Unemployed'] /  (df['Unemployed'].sum() + df['Employed'].sum())"
   ]
  },
  {
   "cell_type": "markdown",
   "metadata": {},
   "source": [
    "#### Benchmark 12 (doesn't work)\n",
    "\n",
    "In November 2015, how many women moved from NILF to employed?\n",
    "\n",
    "BLS: LNU07200002: 2,264,000\n",
    "\n",
    "(from BLS: estimates use a weight calculated by BLS that is not publicly available.)"
   ]
  },
  {
   "cell_type": "code",
   "execution_count": 15,
   "metadata": {
    "ExecuteTime": {
     "end_time": "2021-05-02T21:11:20.988344Z",
     "start_time": "2021-05-02T21:11:20.181666Z"
    }
   },
   "outputs": [
    {
     "data": {
      "text/plain": [
       "2046456.1"
      ]
     },
     "execution_count": 15,
     "metadata": {},
     "output_type": "execute_result"
    }
   ],
   "source": [
    "df = (pd.read_feather('cps2015.ft').query('FEMALE == 1'))\n",
    "\n",
    "month1, month2 = 10, 11\n",
    "\n",
    "# Collect total population number to reweight later\n",
    "tot = df.query('MONTH == @month2').PWLGWGT.sum()\n",
    "d1 = df.loc[df['MONTH'] == month1]\n",
    "d2 = df.loc[df['MONTH'] == month2]\n",
    "m = pd.merge(d1, d2, on=['CPSID','LINENO'], how='inner')\n",
    "m = m[(m['AGE_y'] >= m['AGE_x']) &\n",
    "      (m['AGE_x'] <= m['AGE_y'] + 1)]\n",
    "m_tot = m.PWLGWGT_y.sum()\n",
    "\n",
    "# Filter annual data to keep only revelant month's data\n",
    "d1 = df.loc[(df['MONTH'] == month1) & (df['LFS'] == 'NILF')]\n",
    "d2 = df.loc[(df['MONTH'] == month2) & (df['LFS'] == 'Employed')]\n",
    "\n",
    "# Combine the two months and check that the person matches\n",
    "m = pd.merge(d1, d2, on=['CPSID','LINENO'], how='inner')\n",
    "m = m[(m['AGE_y'] >= m['AGE_x']) &\n",
    "      (m['AGE_x'] <= m['AGE_y'] + 1)]\n",
    "\n",
    "m['PWLGWGT_y'].sum() * (tot / m_tot)"
   ]
  },
  {
   "cell_type": "markdown",
   "metadata": {},
   "source": [
    "#### Benchmark 13\n",
    "\n",
    "In 2018, how many persons with disabilities age 16-64 were (on average) unemployed?\n",
    "\n",
    "[BLS](https://www.bls.gov/news.release/disabl.htm): 445,000"
   ]
  },
  {
   "cell_type": "code",
   "execution_count": 16,
   "metadata": {
    "ExecuteTime": {
     "end_time": "2021-05-02T21:11:21.325268Z",
     "start_time": "2021-05-02T21:11:20.989620Z"
    }
   },
   "outputs": [
    {
     "data": {
      "text/plain": [
       "443844.125"
      ]
     },
     "execution_count": 16,
     "metadata": {},
     "output_type": "execute_result"
    }
   ],
   "source": [
    "(pd.read_feather('cps2018.ft')\n",
    "   .query('16 <= AGE <= 64 and DISABILITY == 1 and LFS == \"Unemployed\"')\n",
    "   .BASICWGT.sum() / 12)"
   ]
  },
  {
   "cell_type": "markdown",
   "metadata": {},
   "source": [
    "#### Benchmark 14\n",
    "\n",
    "How many people are not in the labor force in May 2012?\n",
    "\n",
    "[FRB PHL](https://www.phil.frb.org/-/media/research-and-data/publications/research-rap/2014/constructing-the-reason-for-nonparticipation-variable-using-the-monthly-cps-pdf.pdf?la=en): 87,698,000"
   ]
  },
  {
   "cell_type": "code",
   "execution_count": 17,
   "metadata": {
    "ExecuteTime": {
     "end_time": "2021-05-02T21:11:21.655547Z",
     "start_time": "2021-05-02T21:11:21.326287Z"
    }
   },
   "outputs": [
    {
     "data": {
      "text/plain": [
       "87967540.0"
      ]
     },
     "execution_count": 17,
     "metadata": {},
     "output_type": "execute_result"
    }
   ],
   "source": [
    "(pd.read_feather('cps2012.ft')\n",
    "   .query('LFS == \"NILF\" and AGE >= 16 and MONTH == 5')\n",
    "   .BASICWGT.sum())"
   ]
  },
  {
   "cell_type": "markdown",
   "metadata": {},
   "source": [
    "#### Benchmark 15\n",
    "\n",
    "In 2018, how many women age 25 and over are at or below the prevailing Federal minimum wage?\n",
    "\n",
    "[BLS](https://www.bls.gov/cps/cpsaat44.htm): 575,000"
   ]
  },
  {
   "cell_type": "code",
   "execution_count": 18,
   "metadata": {
    "ExecuteTime": {
     "end_time": "2021-05-02T21:11:21.968352Z",
     "start_time": "2021-05-02T21:11:21.656565Z"
    }
   },
   "outputs": [
    {
     "data": {
      "text/plain": [
       "556591.4166666666"
      ]
     },
     "execution_count": 18,
     "metadata": {},
     "output_type": "execute_result"
    }
   ],
   "source": [
    "(pd.read_feather('cps2018.ft')\n",
    "   .query('AGE >= 25 and FEMALE == 1 and MINWAGE == 1 and PAIDHRLY == 1')\n",
    "   .PWORWGT.sum() / 12)"
   ]
  },
  {
   "cell_type": "markdown",
   "metadata": {},
   "source": [
    "#### Benchmark 16\n",
    "\n",
    "In December 2018, how many 16-19 year olds were employed?\n",
    "\n",
    "BLS: LNU02000012: 5,023,000"
   ]
  },
  {
   "cell_type": "code",
   "execution_count": 19,
   "metadata": {
    "ExecuteTime": {
     "end_time": "2021-05-02T21:11:22.290277Z",
     "start_time": "2021-05-02T21:11:21.969191Z"
    }
   },
   "outputs": [
    {
     "data": {
      "text/plain": [
       "5022600.0"
      ]
     },
     "execution_count": 19,
     "metadata": {},
     "output_type": "execute_result"
    }
   ],
   "source": [
    "(pd.read_feather('cps2018.ft')\n",
    "   .query('LFS == \"Employed\" and 16 <= AGE <= 19 and MONTH == 12')\n",
    "   .BASICWGT.sum())"
   ]
  },
  {
   "cell_type": "markdown",
   "metadata": {
    "ExecuteTime": {
     "end_time": "2019-03-08T14:23:24.844439Z",
     "start_time": "2019-03-08T14:23:24.841256Z"
    }
   },
   "source": [
    "#### Benchmark 17\n",
    "\n",
    "In January 2001, how many people were part-time for economic reasons?\n",
    "\n",
    "BLS : LNU02032194: 3,732,000"
   ]
  },
  {
   "cell_type": "code",
   "execution_count": 20,
   "metadata": {
    "ExecuteTime": {
     "end_time": "2021-05-02T21:11:22.632156Z",
     "start_time": "2021-05-02T21:11:22.291290Z"
    }
   },
   "outputs": [
    {
     "data": {
      "text/plain": [
       "3731719.2"
      ]
     },
     "execution_count": 20,
     "metadata": {},
     "output_type": "execute_result"
    }
   ],
   "source": [
    "(pd.read_feather('cps2001.ft')\n",
    "   .query('PTECON == 1 and MONTH == 1')\n",
    "   .BASICWGT.sum())"
   ]
  },
  {
   "cell_type": "markdown",
   "metadata": {},
   "source": [
    "#### Benchmark 18\n",
    "\n",
    "In November 2017, how many people of Hispanic or Latino ethnicity were not in the labor force?\n",
    "\n",
    "BLS: LNU05000009: 14,272,000"
   ]
  },
  {
   "cell_type": "code",
   "execution_count": 21,
   "metadata": {
    "ExecuteTime": {
     "end_time": "2021-05-02T21:11:22.948375Z",
     "start_time": "2021-05-02T21:11:22.633096Z"
    }
   },
   "outputs": [
    {
     "data": {
      "text/plain": [
       "14271504.0"
      ]
     },
     "execution_count": 21,
     "metadata": {},
     "output_type": "execute_result"
    }
   ],
   "source": [
    "(pd.read_feather('cps2017.ft')\n",
    "   .query('WBHAO == \"Hispanic\" and MONTH == 11 and LFS==\"NILF\"')\n",
    "   .BASICWGT.sum())"
   ]
  },
  {
   "cell_type": "markdown",
   "metadata": {},
   "source": [
    "#### Benchmark 19\n",
    "\n",
    "In 2018 Q4, how many women were employed full-time in production occupations and what was their median usual weekly wage?\n",
    "\n",
    "BLS: LEU0254726500: 2,049,000\n",
    "\n",
    "BLS: LEU0254779900: $594.00"
   ]
  },
  {
   "cell_type": "code",
   "execution_count": 22,
   "metadata": {
    "ExecuteTime": {
     "end_time": "2021-05-02T21:11:23.259959Z",
     "start_time": "2021-05-02T21:11:22.949313Z"
    }
   },
   "outputs": [
    {
     "data": {
      "text/plain": [
       "2047336.1666666667"
      ]
     },
     "execution_count": 22,
     "metadata": {},
     "output_type": "execute_result"
    }
   ],
   "source": [
    "Q4 = [10, 11, 12]\n",
    "query = 'FEMALE == 1 and MONTH in @Q4 and HRSUSL1 >= 35 and OCCD == 21'\n",
    "df = pd.read_feather('cps2018.ft').query(query)\n",
    "   \n",
    "df.BASICWGT.sum() / 3"
   ]
  },
  {
   "cell_type": "code",
   "execution_count": 23,
   "metadata": {
    "ExecuteTime": {
     "end_time": "2021-05-02T21:11:23.271681Z",
     "start_time": "2021-05-02T21:11:23.262099Z"
    },
    "code_folding": []
   },
   "outputs": [
    {
     "data": {
      "text/plain": [
       "597.9858850242007"
      ]
     },
     "execution_count": 23,
     "metadata": {},
     "output_type": "execute_result"
    }
   ],
   "source": [
    "binned_wage(df)"
   ]
  },
  {
   "cell_type": "markdown",
   "metadata": {},
   "source": [
    "#### Benchmark 20\n",
    "\n",
    "In the year ending February 2018, how many people age 25-54 were not in the labor force because of disability?\n",
    "\n",
    "Tedeschi: 6,700,000"
   ]
  },
  {
   "cell_type": "code",
   "execution_count": 24,
   "metadata": {
    "ExecuteTime": {
     "end_time": "2021-05-02T21:11:23.961929Z",
     "start_time": "2021-05-02T21:11:23.273078Z"
    }
   },
   "outputs": [
    {
     "data": {
      "text/plain": [
       "6707834.666666667"
      ]
     },
     "execution_count": 24,
     "metadata": {},
     "output_type": "execute_result"
    }
   ],
   "source": [
    "(pd.read_feather('cps2017.ft')\n",
    "   .query('25 <= AGE <= 54 and NILFREASON == \"Disabled/Ill\" and MONTH > 2')\n",
    "   .append(pd.read_feather('cps2018.ft')\n",
    "   .query('25 <= AGE <= 54 and NILFREASON == \"Disabled/Ill\" and MONTH <= 2'))\n",
    "   .BASICWGT.sum() / 12)"
   ]
  },
  {
   "cell_type": "markdown",
   "metadata": {},
   "source": [
    "#### Benchmark 21\n",
    "\n",
    "In February 2018, how many discouraged workers were there?\n",
    "\n",
    "BLS: 373,000"
   ]
  },
  {
   "cell_type": "code",
   "execution_count": 25,
   "metadata": {
    "ExecuteTime": {
     "end_time": "2021-05-02T21:11:24.276495Z",
     "start_time": "2021-05-02T21:11:23.963039Z"
    }
   },
   "outputs": [
    {
     "data": {
      "text/plain": [
       "374302.94"
      ]
     },
     "execution_count": 25,
     "metadata": {},
     "output_type": "execute_result"
    }
   ],
   "source": [
    "(pd.read_feather('cps2018.ft')\n",
    "   .query('DWTYPE == \"Discouraged\" and MONTH == 2')\n",
    "   .BASICWGT.sum())"
   ]
  },
  {
   "cell_type": "markdown",
   "metadata": {},
   "source": [
    "#### Benchmark 22\n",
    "\n",
    "In 2017, how many families have own children under 18 years of age?\n",
    "\n",
    "[BLS](https://www.bls.gov/news.release/famee.t04.htm): 33,615,000\t"
   ]
  },
  {
   "cell_type": "code",
   "execution_count": 26,
   "metadata": {
    "ExecuteTime": {
     "end_time": "2021-05-02T21:11:24.411597Z",
     "start_time": "2021-05-02T21:11:24.277503Z"
    }
   },
   "outputs": [
    {
     "data": {
      "text/plain": [
       "34041320.0"
      ]
     },
     "execution_count": 26,
     "metadata": {},
     "output_type": "execute_result"
    }
   ],
   "source": [
    "cols = ['CPSID', 'FAMNUM', 'PRNMCHLD', 'PRCHLD', 'PWFMWGT', 'MONTH']\n",
    "df = pd.read_feather('cps2017.ft', columns = cols)\n",
    "df.drop_duplicates(subset=['CPSID', 'MONTH']).query('PRCHLD > 0').groupby('MONTH').PWFMWGT.sum().mean()"
   ]
  },
  {
   "cell_type": "markdown",
   "metadata": {},
   "source": [
    "#### Benchmark 23\n",
    "\n",
    "In 2018, what was the labor force participation rate for women with children under 3?\n",
    "\n",
    "BLS: FMUP1378869: 61.9%"
   ]
  },
  {
   "cell_type": "code",
   "execution_count": 27,
   "metadata": {
    "ExecuteTime": {
     "end_time": "2021-05-02T21:11:24.460889Z",
     "start_time": "2021-05-02T21:11:24.412645Z"
    }
   },
   "outputs": [
    {
     "data": {
      "text/plain": [
       "0.61880165"
      ]
     },
     "execution_count": 27,
     "metadata": {},
     "output_type": "execute_result"
    }
   ],
   "source": [
    "cols = ['PRCHLD', 'FEMALE', 'BASICWGT', 'MONTH', 'LFS']\n",
    "df = (pd.read_feather('cps2018.ft', columns = cols)\n",
    "        .query('FEMALE == 1 and PRCHLD in [1, 5, 6, 7, 11, 12, 13, 15]'))\n",
    "\n",
    "df.query('LFS in [\"Employed\", \"Unemployed\"]').BASICWGT.sum() / df.BASICWGT.sum()"
   ]
  },
  {
   "cell_type": "markdown",
   "metadata": {},
   "source": [
    "#### Benchmark 24\n",
    "\n",
    "In October 2019, how many people are marginally attached to the labor force?\n",
    "\n",
    "BLS: LNS15026642: 1,254,000"
   ]
  },
  {
   "cell_type": "code",
   "execution_count": 28,
   "metadata": {
    "ExecuteTime": {
     "end_time": "2021-05-02T21:11:24.763754Z",
     "start_time": "2021-05-02T21:11:24.461941Z"
    }
   },
   "outputs": [
    {
     "data": {
      "text/plain": [
       "1232621.9"
      ]
     },
     "execution_count": 28,
     "metadata": {},
     "output_type": "execute_result"
    }
   ],
   "source": [
    "(pd.read_feather('cps2019.ft')\n",
    "   .query('DWTYPE in [\"Marginally Attached\", \"Discouraged\"] and MONTH == 10')\n",
    "   .BASICWGT.sum())"
   ]
  },
  {
   "cell_type": "code",
   "execution_count": null,
   "metadata": {},
   "outputs": [],
   "source": []
  },
  {
   "cell_type": "code",
   "execution_count": null,
   "metadata": {},
   "outputs": [],
   "source": []
  },
  {
   "cell_type": "markdown",
   "metadata": {},
   "source": [
    "--------\n",
    "\n",
    "\n",
    "\n",
    "\n",
    "# 1989-93 Extracts"
   ]
  },
  {
   "cell_type": "markdown",
   "metadata": {},
   "source": [
    "#### Benchmark 1\n",
    "\n",
    "How many women age 20-24 were employed in June 1992?\n",
    "\n",
    "BLS: LNU02000038: 6,190,000"
   ]
  },
  {
   "cell_type": "code",
   "execution_count": 29,
   "metadata": {
    "ExecuteTime": {
     "end_time": "2021-05-02T21:11:24.978905Z",
     "start_time": "2021-05-02T21:11:24.764739Z"
    }
   },
   "outputs": [
    {
     "data": {
      "text/plain": [
       "6144925.0"
      ]
     },
     "execution_count": 29,
     "metadata": {},
     "output_type": "execute_result"
    }
   ],
   "source": [
    "(pd.read_feather('cps1992.ft')\n",
    "   .query('MONTH == 6 and FEMALE == 1 and 20 <= AGE <= 24'\n",
    "          'and LFS == \"Employed\"')).BASICWGT.sum()"
   ]
  },
  {
   "cell_type": "markdown",
   "metadata": {},
   "source": [
    "#### Benchmark 2\n",
    "\n",
    "What was the unemployment rate in Febuary 1989?\n",
    "\n",
    "BLS: LNU04000000: 5.6%"
   ]
  },
  {
   "cell_type": "code",
   "execution_count": 30,
   "metadata": {
    "ExecuteTime": {
     "end_time": "2021-05-02T21:11:25.215602Z",
     "start_time": "2021-05-02T21:11:24.979949Z"
    }
   },
   "outputs": [
    {
     "data": {
      "text/plain": [
       "0.05666313"
      ]
     },
     "execution_count": 30,
     "metadata": {},
     "output_type": "execute_result"
    }
   ],
   "source": [
    "df = (pd.read_feather('cps1989.ft')\n",
    "        .query('MONTH == 2 and AGE > 15')\n",
    "        .groupby('LFS')\n",
    "        .BASICWGT.sum())\n",
    "\n",
    "df['Unemployed'].sum() / (df['Unemployed'].sum() + df['Employed'].sum())"
   ]
  },
  {
   "cell_type": "markdown",
   "metadata": {},
   "source": [
    "#### Benchmark 3\n",
    "\n",
    "In December 1990, what was the unemployment rate (U-2) if you only count people who lost jobs or completed temporary jobs?\n",
    "\n",
    "BLS: LNU04023621: 3.2%"
   ]
  },
  {
   "cell_type": "code",
   "execution_count": 31,
   "metadata": {
    "ExecuteTime": {
     "end_time": "2021-05-02T21:11:25.466656Z",
     "start_time": "2021-05-02T21:11:25.216650Z"
    }
   },
   "outputs": [
    {
     "data": {
      "text/plain": [
       "0.03193486"
      ]
     },
     "execution_count": 31,
     "metadata": {},
     "output_type": "execute_result"
    }
   ],
   "source": [
    "df = (pd.read_feather('cps1990.ft')\n",
    "        .query('MONTH == 12 and AGE > 15'))\n",
    "\n",
    "unjl = df.query('UNEMPTYPE==\"Job Loser\"').BASICWGT.sum()\n",
    "\n",
    "lf = df.query('LFS in [\"Unemployed\", \"Employed\"]').BASICWGT.sum()\n",
    "\n",
    "unjl / lf"
   ]
  },
  {
   "cell_type": "markdown",
   "metadata": {},
   "source": [
    "#### Benchmark 4\n",
    "\n",
    "In 1991, what share of wage and salary workers were represented by a union?\n",
    "\n",
    "BLS: LUU0204899700: 18.1%"
   ]
  },
  {
   "cell_type": "code",
   "execution_count": 32,
   "metadata": {
    "ExecuteTime": {
     "end_time": "2021-05-02T21:11:25.712047Z",
     "start_time": "2021-05-02T21:11:25.467665Z"
    }
   },
   "outputs": [
    {
     "data": {
      "text/plain": [
       "0.18115486"
      ]
     },
     "execution_count": 32,
     "metadata": {},
     "output_type": "execute_result"
    }
   ],
   "source": [
    "df = (pd.read_feather('cps1991.ft')\n",
    "        .query('AGE > 15 and UNION >= 0'))\n",
    "\n",
    "uncov = df.query('UNION == 1').PWORWGT.sum()\n",
    "\n",
    "total = df.PWORWGT.sum()\n",
    "\n",
    "uncov/total"
   ]
  },
  {
   "cell_type": "markdown",
   "metadata": {},
   "source": [
    "#### Benchmark 5\n",
    "\n",
    "In July 1989, how many people were unemployed for 27 weeks or more?\n",
    "\n",
    "BLS: LNU03008636: 616,000"
   ]
  },
  {
   "cell_type": "code",
   "execution_count": 33,
   "metadata": {
    "ExecuteTime": {
     "end_time": "2021-05-02T21:11:25.911097Z",
     "start_time": "2021-05-02T21:11:25.713155Z"
    }
   },
   "outputs": [
    {
     "data": {
      "text/plain": [
       "607400.75"
      ]
     },
     "execution_count": 33,
     "metadata": {},
     "output_type": "execute_result"
    }
   ],
   "source": [
    "(pd.read_feather('cps1989.ft')\n",
    "   .query('MONTH == 7 and UNEMPDUR >= 27')\n",
    "   .BASICWGT.sum())"
   ]
  },
  {
   "cell_type": "markdown",
   "metadata": {},
   "source": [
    "#### Benchmark 6\n",
    "\n",
    "In Q2 1992, what was the median usual weekly earnings?\n",
    "\n",
    "BLS: LEU0252881500: $436"
   ]
  },
  {
   "cell_type": "code",
   "execution_count": 34,
   "metadata": {
    "ExecuteTime": {
     "end_time": "2021-05-02T21:11:26.134949Z",
     "start_time": "2021-05-02T21:11:25.912164Z"
    }
   },
   "outputs": [
    {
     "data": {
      "text/plain": [
       "436.0"
      ]
     },
     "execution_count": 34,
     "metadata": {},
     "output_type": "execute_result"
    }
   ],
   "source": [
    "months = [4, 5, 6]\n",
    "\n",
    "df = (pd.read_feather('cps1992.ft')\n",
    "        .query('MONTH in @months and WKEARN > 0 and USLFT == 1'))\n",
    "\n",
    "wquantiles.median(df['WKEARN'], df['PWORWGT'])"
   ]
  },
  {
   "cell_type": "code",
   "execution_count": 48,
   "metadata": {
    "ExecuteTime": {
     "end_time": "2021-05-02T21:13:02.372093Z",
     "start_time": "2021-05-02T21:13:02.350141Z"
    }
   },
   "outputs": [
    {
     "data": {
      "text/plain": [
       "435.08255307494363"
      ]
     },
     "execution_count": 48,
     "metadata": {},
     "output_type": "execute_result"
    }
   ],
   "source": [
    "binned_wage(df, bins=np.arange(5, 3000, 10))"
   ]
  },
  {
   "cell_type": "markdown",
   "metadata": {},
   "source": [
    "#### Benchmark 7\n",
    "\n",
    "In September 1989, how many people were part-time for economic reasons?\n",
    "\n",
    "BLS: LNU02032194: 4,487,000"
   ]
  },
  {
   "cell_type": "code",
   "execution_count": 36,
   "metadata": {
    "ExecuteTime": {
     "end_time": "2021-05-02T21:11:26.356787Z",
     "start_time": "2021-05-02T21:11:26.146620Z"
    }
   },
   "outputs": [
    {
     "data": {
      "text/plain": [
       "4436614.5"
      ]
     },
     "execution_count": 36,
     "metadata": {},
     "output_type": "execute_result"
    }
   ],
   "source": [
    "(pd.read_feather('cps1989.ft')\n",
    "   .query('MONTH == 9 and PTECON == 1')\n",
    "   .BASICWGT.sum())"
   ]
  },
  {
   "cell_type": "markdown",
   "metadata": {},
   "source": [
    "#### Benchmark 8\n",
    "\n",
    "In December 1991, how many black or African-American people were not in the labor force?\n",
    "\n",
    "BLS: LNU05000006: 8,153,000\n",
    "\n",
    "**NOTE**: Issue here is because Hispanic blacks excluded from WBHAO == 'Black'\n",
    "\n",
    "When using RACE == 2, the result is 8119624.0"
   ]
  },
  {
   "cell_type": "code",
   "execution_count": 37,
   "metadata": {
    "ExecuteTime": {
     "end_time": "2021-05-02T21:11:26.576137Z",
     "start_time": "2021-05-02T21:11:26.357733Z"
    }
   },
   "outputs": [
    {
     "data": {
      "text/plain": [
       "7996622.0"
      ]
     },
     "execution_count": 37,
     "metadata": {},
     "output_type": "execute_result"
    }
   ],
   "source": [
    "(pd.read_feather('cps1991.ft')\n",
    "   .query('MONTH == 12 and WBHAO == \"Black\" and LFS == \"NILF\" and AGE > 15')\n",
    "   .BASICWGT.sum())"
   ]
  },
  {
   "cell_type": "markdown",
   "metadata": {},
   "source": [
    "#### Benchmark 9\n",
    "\n",
    "In February 1990, how many people were employed in service occupations?\n",
    "\n",
    "BLS: LNU02032204: 17,545,000"
   ]
  },
  {
   "cell_type": "code",
   "execution_count": 38,
   "metadata": {
    "ExecuteTime": {
     "end_time": "2021-05-02T21:11:26.789190Z",
     "start_time": "2021-05-02T21:11:26.577079Z"
    }
   },
   "outputs": [
    {
     "data": {
      "text/plain": [
       "17293907.99561884"
      ]
     },
     "execution_count": 38,
     "metadata": {},
     "output_type": "execute_result"
    }
   ],
   "source": [
    "(pd.read_feather('cps1990.ft')\n",
    "   .query('MONTH == 2 and LFS == \"Employed\" and OCC80M in [6, 7, 8]')\n",
    "   .BASICWGT.sum()) * (1 / 0.913) # BLS historical comparatability"
   ]
  },
  {
   "cell_type": "markdown",
   "metadata": {},
   "source": [
    "#### Benchmark 10 - CEPRdata\n",
    "\n",
    "In May 1993, how many Hispanic people were unemployed (using ORG sample)"
   ]
  },
  {
   "cell_type": "code",
   "execution_count": 39,
   "metadata": {
    "ExecuteTime": {
     "end_time": "2021-05-02T21:11:27.309400Z",
     "start_time": "2021-05-02T21:11:26.790176Z"
    }
   },
   "outputs": [
    {
     "data": {
      "text/plain": [
       "1354661.4"
      ]
     },
     "execution_count": 39,
     "metadata": {},
     "output_type": "execute_result"
    }
   ],
   "source": [
    "os.chdir('/home/brian/Documents/CPS/data/')\n",
    "\n",
    "keep_cols = ['month', 'wbhao', 'unem', 'orgwgt']\n",
    "(pd.read_stata('cepr_org_1993.dta', columns=keep_cols)\n",
    "   .query('month == 5 and wbhao == \"Hispanic\" and unem == 1')\n",
    "   .orgwgt.sum())"
   ]
  },
  {
   "cell_type": "code",
   "execution_count": 40,
   "metadata": {
    "ExecuteTime": {
     "end_time": "2021-05-02T21:11:27.534213Z",
     "start_time": "2021-05-02T21:11:27.310336Z"
    }
   },
   "outputs": [
    {
     "data": {
      "text/plain": [
       "1354661.2"
      ]
     },
     "execution_count": 40,
     "metadata": {},
     "output_type": "execute_result"
    }
   ],
   "source": [
    "(pd.read_feather('clean/cps1993.ft')\n",
    "   .query('MONTH == 5 and LFS == \"Unemployed\" and WBHAO == \"Hispanic\" and AGE > 15')\n",
    "   .PWORWGT.sum())"
   ]
  },
  {
   "cell_type": "code",
   "execution_count": null,
   "metadata": {},
   "outputs": [],
   "source": []
  },
  {
   "cell_type": "code",
   "execution_count": null,
   "metadata": {},
   "outputs": [],
   "source": []
  }
 ],
 "metadata": {
  "kernelspec": {
   "display_name": "Python 3",
   "language": "python",
   "name": "python3"
  },
  "language_info": {
   "codemirror_mode": {
    "name": "ipython",
    "version": 3
   },
   "file_extension": ".py",
   "mimetype": "text/x-python",
   "name": "python",
   "nbconvert_exporter": "python",
   "pygments_lexer": "ipython3",
   "version": "3.8.8"
  }
 },
 "nbformat": 4,
 "nbformat_minor": 2
}
