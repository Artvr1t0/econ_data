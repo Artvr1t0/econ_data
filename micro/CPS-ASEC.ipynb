{
 "cells": [
  {
   "cell_type": "markdown",
   "metadata": {},
   "source": [
    "Working with the Current Population Survey (CPS) in Python\n",
    "=====\n",
    "\n",
    "### Annual Social and Economic Supplement (ASEC)\n",
    "\n",
    "-----\n",
    "\n",
    "*Update: February 13, 2018*<br>\n",
    "*Brian Dew*<br>\n",
    "*@bd_econ*\n",
    "\n",
    "The CPS ASEC, also called the March CPS, includes additional questions that cover income, poverty, health insurance coverage, and more. The [raw public use file](http://thedataweb.rm.census.gov/ftp/cps_ftp.html#cpsmarch) is fixed-width format and includes variables described in the associated data dictionary. \n",
    "\n",
    "**To do list**\n",
    "* Use variable information to convert CPS .dat file to human-readable form\n",
    "* From readable CPS, calculate the median household income for 2016\n",
    "\n",
    "\n",
    "Rely on the blog posts from Tom Augspurger: \n",
    "\n",
    "* [Part 1: Using Python to tackle the CPS](http://tomaugspurger.github.io/tackling%20the%20cps.html)\n",
    "* [Part 2: Using Python to tackle the CPS](http://tomaugspurger.github.io/tackling%20the%20cps%20%28part%202%29.html)\n",
    "* [Part 3: Using Python to tackle the CPS](http://tomaugspurger.github.io/tackling%20the%20cps%20%28part%203%29.html)\n",
    "* [Part 4: Using Python to tackle the CPS](http://tomaugspurger.github.io/tackling%20the%20cps%20%28part%204%29.html)\n"
   ]
  },
  {
   "cell_type": "markdown",
   "metadata": {},
   "source": [
    "### Import preliminaries"
   ]
  },
  {
   "cell_type": "code",
   "execution_count": 8,
   "metadata": {
    "ExecuteTime": {
     "end_time": "2018-03-11T16:14:16.790421Z",
     "start_time": "2018-03-11T16:14:16.786917Z"
    },
    "code_folding": [
     0
    ]
   },
   "outputs": [
    {
     "name": "stdout",
     "output_type": "stream",
     "text": [
      "pandas 0.22.0\n"
     ]
    }
   ],
   "source": [
    "# Import packages\n",
    "import pandas as pd\n",
    "print(f'pandas {pd.__version__}')\n",
    "import re, wquantiles"
   ]
  },
  {
   "cell_type": "markdown",
   "metadata": {},
   "source": [
    "### Data file and data dictionary from Census FTP site"
   ]
  },
  {
   "cell_type": "code",
   "execution_count": 9,
   "metadata": {
    "ExecuteTime": {
     "end_time": "2018-03-11T16:14:27.894018Z",
     "start_time": "2018-03-11T16:14:27.890515Z"
    },
    "code_folding": [
     0
    ]
   },
   "outputs": [],
   "source": [
    "# Data dictionary \n",
    "filename = 'data/asec2017_pubuse.dat'\n",
    "dd_txt = 'data/08ASEC2017_Data_Dict_Full.txt'\n",
    "dd = open(dd_txt, 'r', encoding='iso-8859-1').read()"
   ]
  },
  {
   "cell_type": "markdown",
   "metadata": {},
   "source": [
    "### Obtain column and variable information from data dictionary"
   ]
  },
  {
   "cell_type": "code",
   "execution_count": 3,
   "metadata": {
    "ExecuteTime": {
     "end_time": "2018-03-11T16:02:31.004312Z",
     "start_time": "2018-03-11T16:02:30.988279Z"
    },
    "code_folding": [
     0
    ]
   },
   "outputs": [],
   "source": [
    "# Retrieve column info from dictionary\n",
    "p = re.compile('D (\\w+)\\s+(\\d{1,2})\\s+(\\d+)\\s+')\n",
    "var_key = pd.DataFrame(p.findall(dd), columns=['Var', 'Len', 'Loc'])\n",
    "var_key = var_key.apply(pd.to_numeric, errors='ignore')\n",
    "\n",
    "# Filter out columns of interest\n",
    "s = ['H_SEQ', 'H_HHTYPE', 'H_TYPE', 'HRHTYPE','HTOTVAL', 'HSUP_WGT',\n",
    "     'PH_SEQ', 'P_STAT', 'A_AGE', 'A_SEX', 'MARSUPWT', 'PTOTVAL',\n",
    "     'GEREG']\n",
    "s_key = var_key[var_key['Var'].isin(s)]"
   ]
  },
  {
   "cell_type": "markdown",
   "metadata": {},
   "source": [
    "### Read file into memory"
   ]
  },
  {
   "cell_type": "code",
   "execution_count": 4,
   "metadata": {
    "ExecuteTime": {
     "end_time": "2018-03-11T16:02:36.964774Z",
     "start_time": "2018-03-11T16:02:31.005834Z"
    },
    "code_folding": [
     0
    ]
   },
   "outputs": [],
   "source": [
    "# Read raw fwf file\n",
    "data = pd.read_fwf(filename, header=None, names=list(s_key.Var),# nrows=1000,\n",
    "                 colspecs=list(zip(s_key.Loc-1, s_key.Loc + s_key.Len-1)))"
   ]
  },
  {
   "cell_type": "markdown",
   "metadata": {},
   "source": [
    "### Match median household income\n",
    "\n",
    "Estimate from Census: $59,039"
   ]
  },
  {
   "cell_type": "code",
   "execution_count": 5,
   "metadata": {
    "ExecuteTime": {
     "end_time": "2018-03-11T16:02:37.012321Z",
     "start_time": "2018-03-11T16:02:36.966276Z"
    },
    "code_folding": [
     0
    ]
   },
   "outputs": [
    {
     "name": "stdout",
     "output_type": "stream",
     "text": [
      "Number of Households: 126,223,685\n",
      "2016 Median HH Income: $59,000.00\n"
     ]
    }
   ],
   "source": [
    "# Median Household Income (Close)\n",
    "df = data[data['H_HHTYPE'] == 1]\n",
    "df = df.drop_duplicates(subset='H_SEQ', keep='first')\n",
    "df = df[df['H_TYPE'] <= 8]\n",
    "\n",
    "print(f\"Number of Households: {df.HSUP_WGT.sum()/100:,.0f}\")\n",
    "med_inc = wquantiles.median(df['HTOTVAL'], df['HSUP_WGT'])\n",
    "print(f\"2016 Median HH Income: ${med_inc:,.2f}\")"
   ]
  },
  {
   "cell_type": "code",
   "execution_count": 6,
   "metadata": {
    "ExecuteTime": {
     "end_time": "2018-03-11T16:02:37.061377Z",
     "start_time": "2018-03-11T16:02:37.013822Z"
    },
    "code_folding": [
     0
    ]
   },
   "outputs": [
    {
     "name": "stdout",
     "output_type": "stream",
     "text": [
      "Number of Households: 4,738,556,079\n",
      "2016 Median HH Income: $22,220.00\n",
      "Number of Households: 48,661,838\n",
      "2016 Median HH Income: $36,447.79\n",
      "Number of Households: 70,584,378\n",
      "2016 Median HH Income: $39,600.00\n",
      "Number of Households: 131,358,172\n",
      "2016 Median HH Income: $0.00\n"
     ]
    }
   ],
   "source": [
    "# By GEREG - weird results (not working)\n",
    "for gereg in [1, 2, 3, 4]:\n",
    "    dft = data[data['GEREG'] == gereg]\n",
    "    print(f\"Number of Households: {dft.HSUP_WGT.sum()/100:,.0f}\")\n",
    "    print(f\"2016 Median HH Income: ${wquantiles.median(dft['HTOTVAL'], dft['HSUP_WGT']):,.2f}\")"
   ]
  },
  {
   "cell_type": "markdown",
   "metadata": {
    "collapsed": true
   },
   "source": [
    "### Match median personal income\n",
    "\n",
    "Estimate from Census: $31,099"
   ]
  },
  {
   "cell_type": "code",
   "execution_count": 7,
   "metadata": {
    "ExecuteTime": {
     "end_time": "2018-03-11T16:02:37.214989Z",
     "start_time": "2018-03-11T16:02:37.062879Z"
    },
    "code_folding": [
     0
    ],
    "scrolled": true
   },
   "outputs": [
    {
     "name": "stdout",
     "output_type": "stream",
     "text": [
      "Number of People: 259,409,062\n",
      "With income: 228,239,369\n",
      "2016 Median Personal Income: $30,100.00\n"
     ]
    },
    {
     "name": "stderr",
     "output_type": "stream",
     "text": [
      "C:\\Users\\BDew\\Anaconda3\\lib\\site-packages\\ipykernel_launcher.py:2: SettingWithCopyWarning: \n",
      "A value is trying to be set on a copy of a slice from a DataFrame.\n",
      "Try using .loc[row_indexer,col_indexer] = value instead\n",
      "\n",
      "See the caveats in the documentation: http://pandas.pydata.org/pandas-docs/stable/indexing.html#indexing-view-versus-copy\n",
      "  \n"
     ]
    }
   ],
   "source": [
    "# Results not close enough!\n",
    "df = data[(data['A_AGE'] >=15)]\n",
    "df['MARSUPWT'] = df.MARSUPWT.astype('float')\n",
    "\n",
    "print(f\"Number of People: {df.MARSUPWT.sum()/100:,.0f}\")\n",
    "df = df[df['PTOTVAL'] > 0]\n",
    "print(f\"With income: {df.MARSUPWT.sum()/100:,.0f}\")\n",
    "med_inc = wquantiles.median(df['PTOTVAL'], df['MARSUPWT'])\n",
    "print(f\"2016 Median Personal Income: ${med_inc:,.2f}\")"
   ]
  }
 ],
 "metadata": {
  "kernelspec": {
   "display_name": "Python 3",
   "language": "python",
   "name": "python3"
  },
  "language_info": {
   "codemirror_mode": {
    "name": "ipython",
    "version": 3
   },
   "file_extension": ".py",
   "mimetype": "text/x-python",
   "name": "python",
   "nbconvert_exporter": "python",
   "pygments_lexer": "ipython3",
   "version": "3.6.4"
  }
 },
 "nbformat": 4,
 "nbformat_minor": 2
}
