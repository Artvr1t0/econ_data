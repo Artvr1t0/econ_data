{
 "cells": [
  {
   "cell_type": "markdown",
   "metadata": {},
   "source": [
    "Working with the Current Population Survey (CPS) in Python\n",
    "=====\n",
    "\n",
    "### Annual Social and Economic Supplement (ASEC)\n",
    "\n",
    "-----\n",
    "\n",
    "*Update: April 19, 2018*<br>\n",
    "*Brian Dew*<br>\n",
    "*@bd_econ*\n",
    "\n",
    "The CPS ASEC, also called the March CPS, includes additional questions that cover income, poverty, health insurance coverage, and more. The [raw public use file](http://thedataweb.rm.census.gov/ftp/cps_ftp.html#cpsmarch) is fixed-width format and includes variables described in the associated data dictionary. Unlike the basic monthly CPS, the March CPS records are hierarchical. Person rows are nested in family rows which are nested in household rows. The third character of person rows is 3. \n",
    "\n",
    "**To do list**\n",
    "* Emulate the published data technique for calculating income values in $2,500 bins.\n",
    "\n",
    "\n",
    "Useful blog posts from Tom Augspurger: \n",
    "\n",
    "* [Part 1: Using Python to tackle the CPS](http://tomaugspurger.github.io/tackling%20the%20cps.html)\n",
    "* [Part 2: Using Python to tackle the CPS](http://tomaugspurger.github.io/tackling%20the%20cps%20%28part%202%29.html)\n",
    "* [Part 3: Using Python to tackle the CPS](http://tomaugspurger.github.io/tackling%20the%20cps%20%28part%203%29.html)\n",
    "* [Part 4: Using Python to tackle the CPS](http://tomaugspurger.github.io/tackling%20the%20cps%20%28part%204%29.html)\n"
   ]
  },
  {
   "cell_type": "markdown",
   "metadata": {},
   "source": [
    "### Import preliminaries"
   ]
  },
  {
   "cell_type": "code",
   "execution_count": 49,
   "metadata": {
    "ExecuteTime": {
     "end_time": "2018-04-23T02:59:47.038372Z",
     "start_time": "2018-04-23T02:59:47.034876Z"
    },
    "code_folding": []
   },
   "outputs": [
    {
     "name": "stdout",
     "output_type": "stream",
     "text": [
      "pandas 0.22.0\n"
     ]
    }
   ],
   "source": [
    "# Import packages\n",
    "import pandas as pd\n",
    "print(f'pandas {pd.__version__}')\n",
    "import re, wquantiles"
   ]
  },
  {
   "cell_type": "markdown",
   "metadata": {},
   "source": [
    "### Data file and data dictionary from Census FTP site"
   ]
  },
  {
   "cell_type": "code",
   "execution_count": 50,
   "metadata": {
    "ExecuteTime": {
     "end_time": "2018-04-23T02:59:47.059890Z",
     "start_time": "2018-04-23T02:59:47.040372Z"
    },
    "code_folding": []
   },
   "outputs": [],
   "source": [
    "# Raw data from Census FTP site\n",
    "datafile = 'data/asec2017_pubuse.dat'\n",
    "\n",
    "# Data dictionary\n",
    "dd_txt = 'data/08ASEC2017_Data_Dict_Full.txt'\n",
    "dd = open(dd_txt, 'r', encoding='iso-8859-1').read()"
   ]
  },
  {
   "cell_type": "markdown",
   "metadata": {},
   "source": [
    "### Obtain column and variable information from data dictionary"
   ]
  },
  {
   "cell_type": "code",
   "execution_count": 51,
   "metadata": {
    "ExecuteTime": {
     "end_time": "2018-04-23T02:59:47.079909Z",
     "start_time": "2018-04-23T02:59:47.061892Z"
    }
   },
   "outputs": [],
   "source": [
    "# Retrieve column info from dictionary\n",
    "p = re.compile('D (\\w+\\-?\\w+?)\\s+(\\d{1,2})\\s+(\\d+)\\s+')\n",
    "var_key = pd.DataFrame(p.findall(dd), columns=['Var', 'Len', 'Loc'])\n",
    "var_key = var_key.apply(pd.to_numeric, errors='ignore')\n",
    "\n",
    "# Filter out columns of interest\n",
    "s = ['A_AGE', 'A_SEX', 'MARSUPWT', 'PRECORD', 'WEWKRS', 'MCAID']\n",
    "s_key = var_key[var_key['Var'].isin(s)]"
   ]
  },
  {
   "cell_type": "markdown",
   "metadata": {},
   "source": [
    "### Read file into memory"
   ]
  },
  {
   "cell_type": "code",
   "execution_count": 52,
   "metadata": {
    "ExecuteTime": {
     "end_time": "2018-04-23T02:59:51.172979Z",
     "start_time": "2018-04-23T02:59:47.081912Z"
    },
    "code_folding": []
   },
   "outputs": [],
   "source": [
    "# Read raw fwf file\n",
    "data = pd.read_fwf(datafile, header=None, names=list(s_key.Var),\n",
    "                 colspecs=list(zip(s_key.Loc-1, s_key.Loc + s_key.Len-1)))"
   ]
  },
  {
   "cell_type": "markdown",
   "metadata": {},
   "source": [
    "### Make calculation\n",
    "\n",
    "Estimate from census site: 7,639,000"
   ]
  },
  {
   "cell_type": "code",
   "execution_count": 53,
   "metadata": {
    "ExecuteTime": {
     "end_time": "2018-04-23T02:59:51.224052Z",
     "start_time": "2018-04-23T02:59:51.176487Z"
    }
   },
   "outputs": [],
   "source": [
    "# Keep the person records (3)\n",
    "df = data.loc[(data['PRECORD'] == 3) & \n",
    "              #(data['A_SEX'] == 2) & \n",
    "              (data['A_AGE'].between(25,54))]\n",
    "\n",
    "# Filter by age and calculate total\n",
    "total = int((df['MARSUPWT'].astype(float).sum() / 100.0).round(-3))\n",
    "\n",
    "# Filter by those who have health insurance through medicaid\n",
    "medicaid = int((df[(df['MCAID'] == 1)\n",
    "                  ]['MARSUPWT'].astype(float).sum() / 100.0).round(-3))\n",
    "\n",
    "# Filter those who worked full time full year and have medicaid\n",
    "workft = int((df[(df['WEWKRS'] == 1) & \n",
    "                  (df['MCAID'] == 1)\n",
    "                 ]['MARSUPWT'].astype(float).sum() / 100.0).round(-3))\n",
    "\n",
    "# Filter those who worked full time full year and have medicaid\n",
    "workaid = int((df[(df['WEWKRS'] != 5) & \n",
    "                  (df['MCAID'] == 1)\n",
    "                 ]['MARSUPWT'].astype(float).sum() / 100.0).round(-3))"
   ]
  },
  {
   "cell_type": "code",
   "execution_count": 54,
   "metadata": {
    "ExecuteTime": {
     "end_time": "2018-04-23T02:59:51.233062Z",
     "start_time": "2018-04-23T02:59:51.229059Z"
    }
   },
   "outputs": [
    {
     "data": {
      "text/plain": [
       "0.1456346033580583"
      ]
     },
     "execution_count": 54,
     "metadata": {},
     "output_type": "execute_result"
    }
   ],
   "source": [
    "medicaid / total"
   ]
  },
  {
   "cell_type": "code",
   "execution_count": 55,
   "metadata": {
    "ExecuteTime": {
     "end_time": "2018-04-23T02:59:51.266125Z",
     "start_time": "2018-04-23T02:59:51.234565Z"
    }
   },
   "outputs": [
    {
     "data": {
      "text/plain": [
       "0.5726477143012447"
      ]
     },
     "execution_count": 55,
     "metadata": {},
     "output_type": "execute_result"
    }
   ],
   "source": [
    "workaid / medicaid"
   ]
  },
  {
   "cell_type": "code",
   "execution_count": 56,
   "metadata": {
    "ExecuteTime": {
     "end_time": "2018-04-23T02:59:51.279638Z",
     "start_time": "2018-04-23T02:59:51.268126Z"
    }
   },
   "outputs": [
    {
     "data": {
      "text/plain": [
       "10535000"
      ]
     },
     "execution_count": 56,
     "metadata": {},
     "output_type": "execute_result"
    }
   ],
   "source": [
    "workaid"
   ]
  }
 ],
 "metadata": {
  "kernelspec": {
   "display_name": "Python 3",
   "language": "python",
   "name": "python3"
  },
  "language_info": {
   "codemirror_mode": {
    "name": "ipython",
    "version": 3
   },
   "file_extension": ".py",
   "mimetype": "text/x-python",
   "name": "python",
   "nbconvert_exporter": "python",
   "pygments_lexer": "ipython3",
   "version": "3.6.5"
  }
 },
 "nbformat": 4,
 "nbformat_minor": 2
}
