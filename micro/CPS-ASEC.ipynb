{
 "cells": [
  {
   "cell_type": "markdown",
   "metadata": {},
   "source": [
    "Working with the Current Population Survey (CPS) in Python\n",
    "=====\n",
    "\n",
    "### Annual Social and Economic Supplement (ASEC)\n",
    "\n",
    "-----\n",
    "\n",
    "*Update: May 20, 2018*<br>\n",
    "*Brian Dew*<br>\n",
    "*@bd_econ*\n",
    "\n",
    "The CPS ASEC, also called the March CPS, includes additional questions that cover income, poverty, health insurance coverage, and more. The [raw public use file](http://thedataweb.rm.census.gov/ftp/cps_ftp.html#cpsmarch) is fixed-width format and includes variables described in the associated data dictionary. Unlike the basic monthly CPS, the March CPS records are hierarchical. Person records are nested in family records which are nested in household records. Rows in the raw data that correspond to person records begin with 3. \n",
    "\n",
    "This example will look at teachers hours and income in 2006 and 2016 in both the US as a whole and separately among states with large teacher protests in 2018. \n",
    "\n",
    "Useful blog posts from Tom Augspurger: \n",
    "\n",
    "* [Part 1: Using Python to tackle the CPS](http://tomaugspurger.github.io/tackling%20the%20cps.html)\n",
    "* [Part 2: Using Python to tackle the CPS](http://tomaugspurger.github.io/tackling%20the%20cps%20%28part%202%29.html)\n",
    "* [Part 3: Using Python to tackle the CPS](http://tomaugspurger.github.io/tackling%20the%20cps%20%28part%203%29.html)\n",
    "* [Part 4: Using Python to tackle the CPS](http://tomaugspurger.github.io/tackling%20the%20cps%20%28part%204%29.html)\n"
   ]
  },
  {
   "cell_type": "markdown",
   "metadata": {},
   "source": [
    "### Import preliminaries"
   ]
  },
  {
   "cell_type": "code",
   "execution_count": 1,
   "metadata": {
    "ExecuteTime": {
     "end_time": "2018-05-21T10:48:08.574347Z",
     "start_time": "2018-05-21T10:48:06.261885Z"
    },
    "code_folding": []
   },
   "outputs": [
    {
     "name": "stdout",
     "output_type": "stream",
     "text": [
      "pandas 0.23.0\n"
     ]
    }
   ],
   "source": [
    "# Import packages\n",
    "import pandas as pd\n",
    "print(f'pandas {pd.__version__}')\n",
    "import numpy as np\n",
    "import re, wquantiles"
   ]
  },
  {
   "cell_type": "markdown",
   "metadata": {},
   "source": [
    "### Parameters"
   ]
  },
  {
   "cell_type": "code",
   "execution_count": 2,
   "metadata": {
    "ExecuteTime": {
     "end_time": "2018-05-21T10:48:08.589971Z",
     "start_time": "2018-05-21T10:48:08.574347Z"
    }
   },
   "outputs": [],
   "source": [
    "files = [('data/asec2007_pubuse_tax2.dat', 'data/cpsmar07.ddf', 2006),\n",
    "         ('data/asec2017_pubuse.dat', 'data/08ASEC2017_Data_Dict_Full.txt', 2016)]\n",
    "\n",
    "cpi =  1.19075"
   ]
  },
  {
   "cell_type": "markdown",
   "metadata": {},
   "source": [
    "### Loop over files and create summary statistics"
   ]
  },
  {
   "cell_type": "code",
   "execution_count": 3,
   "metadata": {
    "ExecuteTime": {
     "end_time": "2018-05-21T10:48:42.127514Z",
     "start_time": "2018-05-21T10:48:08.589971Z"
    },
    "code_folding": [
     0
    ]
   },
   "outputs": [
    {
     "name": "stderr",
     "output_type": "stream",
     "text": [
      "C:\\Users\\BDew\\Anaconda3\\lib\\site-packages\\ipykernel_launcher.py:45: SettingWithCopyWarning: \n",
      "A value is trying to be set on a copy of a slice from a DataFrame.\n",
      "Try using .loc[row_indexer,col_indexer] = value instead\n",
      "\n",
      "See the caveats in the documentation: http://pandas.pydata.org/pandas-docs/stable/indexing.html#indexing-view-versus-copy\n"
     ]
    }
   ],
   "source": [
    "# Blank dataframe to return with summary statistics\n",
    "stats = pd.DataFrame()\n",
    "\n",
    "for file in files:\n",
    "    # Raw data from Census FTP site\n",
    "    datafile = file[0]\n",
    "\n",
    "    # Data dictionary\n",
    "    dd_txt = file[1]\n",
    "    dd = open(dd_txt, 'r', encoding='iso-8859-1').read()\n",
    "\n",
    "    # Retrieve column info from dictionary\n",
    "    p = re.compile('D (\\w+\\-?\\w+?)\\s+(\\d{1,2})\\s+(\\d+)\\s+')\n",
    "    var_key = pd.DataFrame(p.findall(dd), columns=['Var', 'Len', 'Loc'])\n",
    "    var_key = var_key.apply(pd.to_numeric, errors='ignore')\n",
    "\n",
    "    # List of variables of interest to be extracted from full file\n",
    "    s = ['A_AGE', 'A_SEX', 'MARSUPWT', 'PRECORD', 'WEWKRS', 'WSAL_VAL', \n",
    "         'HRSWK', 'GESTFIPS', 'PEIOOCC', 'WKSWORK', 'A_CLSWKR',\n",
    "         'PEMOMTYP', 'PEDADTYP', 'ERN_VAL', 'A-AGE', 'A-SEX', 'WSAL-VAL',\n",
    "         'A-CLSWKR', 'ERN-VAL']\n",
    "    s_key = var_key[var_key['Var'].isin(s)]\n",
    "\n",
    "    # Read raw fwf file\n",
    "    data = pd.read_fwf(datafile, header=None, names=list(s_key.Var),\n",
    "                     colspecs=list(zip(s_key.Loc-1, s_key.Loc + s_key.Len-1)))\n",
    "\n",
    "    # Calculate annual hours (weeks * (hours/week))\n",
    "    data['ANN_HRS'] = data['WKSWORK'] * data['HRSWK']\n",
    "    \n",
    "    # States filled in (blank in early year person records)\n",
    "    if file[2] == 2006:\n",
    "        data['GESTFIPS'] = data['GESTFIPS'].replace(to_replace=0, method='ffill')\n",
    "        # Rename columns to later year variable format\n",
    "        data.columns = data.columns.str.replace('-', '_')\n",
    "        \n",
    "    if file[2] == 2016:\n",
    "        data['State'] = [d[1]['GESTFIPS'] if d[1]['PRECORD'] == 1 else 0 for d in data.iterrows()]\n",
    "        data['GESTFIPS'] = data['State'].replace(to_replace=0, method='ffill')\n",
    "\n",
    "    # Keep person records with wage data & 80+ hours worked \n",
    "    df = data.loc[(data['PRECORD'] == 3)]\n",
    "\n",
    "    # Convert weight variable to float\n",
    "    df['MARSUPWT'] = df['MARSUPWT'].astype(float)\n",
    "\n",
    "    # Keep only observations with a weight > 0\n",
    "    df = df[df['MARSUPWT'] > 0]\n",
    "    \n",
    "    # Hourly wage\n",
    "    df['HRLY_WAGE'] = df['ERN_VAL'] / df['ANN_HRS']\n",
    "\n",
    "    # Identify public school teachers working 3/4 year or more\n",
    "    pt = df[(df['PEIOOCC'].between(2200,2340)) & \n",
    "            (df['A_CLSWKR'].between(3,5)) & \n",
    "            #(df['ANN_HRS'] >= 1365) & \n",
    "            (df['A_AGE'].between(25, 54))]\n",
    "\n",
    "    # Identify subset in WV, OK, AZ, KY, NC, MS, and CO\n",
    "    pt2 = pt[pt['GESTFIPS'].isin([54, 40, 4, 21, 37, 28, 8])]\n",
    "\n",
    "    for g in [(pt, 'All States'), (pt2, 'Active States')]:\n",
    "        for p in [0.1, 0.25, 0.5, 0.75, 0.9]:\n",
    "            if file[2] == 2006:\n",
    "                stats.at[f'p{int(p * 100)}, wage', f'{g[1]}, {file[2]}'] = round(wquantiles.quantile(\n",
    "                    g[0]['HRLY_WAGE'], g[0]['MARSUPWT'], p) * cpi, 2)\n",
    "            else:\n",
    "                stats.at[f'p{int(p * 100)}, wage', f'{g[1]}, {file[2]}'] = round(wquantiles.quantile(\n",
    "                    g[0]['HRLY_WAGE'], g[0]['MARSUPWT'], p), 2)\n",
    "        tmp = g[0][g[0]['HRLY_WAGE'] > 0]\n",
    "        if file[2] == 2006:\n",
    "            stats.at[f'Mean', f'{g[1]}, {file[2]}'] = round(np.average(\n",
    "                     tmp['HRLY_WAGE'], weights=tmp['MARSUPWT']) * 1.19075, 2)\n",
    "        else:\n",
    "            stats.at[f'Mean', f'{g[1]}, {file[2]}'] = round(np.average(\n",
    "                     tmp['HRLY_WAGE'], weights=tmp['MARSUPWT']), 2)\n",
    "            \n",
    "        stats.at['n', f'{g[1]}, {file[2]}'] = len(g[0])\n",
    "        \n",
    "        stats.at['Weighed n', f'{g[1]}, {file[2]}'] = round(g[0]['MARSUPWT'].sum() / 100.0, -2)"
   ]
  },
  {
   "cell_type": "code",
   "execution_count": 4,
   "metadata": {
    "ExecuteTime": {
     "end_time": "2018-05-21T10:48:42.166499Z",
     "start_time": "2018-05-21T10:48:42.129513Z"
    }
   },
   "outputs": [
    {
     "data": {
      "text/html": [
       "<div>\n",
       "<style scoped>\n",
       "    .dataframe tbody tr th:only-of-type {\n",
       "        vertical-align: middle;\n",
       "    }\n",
       "\n",
       "    .dataframe tbody tr th {\n",
       "        vertical-align: top;\n",
       "    }\n",
       "\n",
       "    .dataframe thead th {\n",
       "        text-align: right;\n",
       "    }\n",
       "</style>\n",
       "<table border=\"1\" class=\"dataframe\">\n",
       "  <thead>\n",
       "    <tr style=\"text-align: right;\">\n",
       "      <th></th>\n",
       "      <th>All States, 2006</th>\n",
       "      <th>Active States, 2006</th>\n",
       "      <th>All States, 2016</th>\n",
       "      <th>Active States, 2016</th>\n",
       "    </tr>\n",
       "  </thead>\n",
       "  <tbody>\n",
       "    <tr>\n",
       "      <th>p10, wage</th>\n",
       "      <td>10.52</td>\n",
       "      <td>9.20</td>\n",
       "      <td>12.02</td>\n",
       "      <td>11.99</td>\n",
       "    </tr>\n",
       "    <tr>\n",
       "      <th>p25, wage</th>\n",
       "      <td>17.01</td>\n",
       "      <td>15.06</td>\n",
       "      <td>17.50</td>\n",
       "      <td>15.84</td>\n",
       "    </tr>\n",
       "    <tr>\n",
       "      <th>p50, wage</th>\n",
       "      <td>22.90</td>\n",
       "      <td>20.04</td>\n",
       "      <td>23.60</td>\n",
       "      <td>20.53</td>\n",
       "    </tr>\n",
       "    <tr>\n",
       "      <th>p75, wage</th>\n",
       "      <td>31.49</td>\n",
       "      <td>26.43</td>\n",
       "      <td>31.25</td>\n",
       "      <td>25.63</td>\n",
       "    </tr>\n",
       "    <tr>\n",
       "      <th>p90, wage</th>\n",
       "      <td>40.93</td>\n",
       "      <td>37.31</td>\n",
       "      <td>43.27</td>\n",
       "      <td>34.73</td>\n",
       "    </tr>\n",
       "    <tr>\n",
       "      <th>Mean</th>\n",
       "      <td>24.47</td>\n",
       "      <td>21.34</td>\n",
       "      <td>27.11</td>\n",
       "      <td>23.91</td>\n",
       "    </tr>\n",
       "    <tr>\n",
       "      <th>n</th>\n",
       "      <td>2594.00</td>\n",
       "      <td>256.00</td>\n",
       "      <td>2191.00</td>\n",
       "      <td>267.00</td>\n",
       "    </tr>\n",
       "    <tr>\n",
       "      <th>Weighed n</th>\n",
       "      <td>3570300.00</td>\n",
       "      <td>381000.00</td>\n",
       "      <td>3577900.00</td>\n",
       "      <td>388900.00</td>\n",
       "    </tr>\n",
       "  </tbody>\n",
       "</table>\n",
       "</div>"
      ],
      "text/plain": [
       "           All States, 2006  Active States, 2006  All States, 2016  \\\n",
       "p10, wage             10.52                 9.20             12.02   \n",
       "p25, wage             17.01                15.06             17.50   \n",
       "p50, wage             22.90                20.04             23.60   \n",
       "p75, wage             31.49                26.43             31.25   \n",
       "p90, wage             40.93                37.31             43.27   \n",
       "Mean                  24.47                21.34             27.11   \n",
       "n                   2594.00               256.00           2191.00   \n",
       "Weighed n        3570300.00            381000.00        3577900.00   \n",
       "\n",
       "           Active States, 2016  \n",
       "p10, wage                11.99  \n",
       "p25, wage                15.84  \n",
       "p50, wage                20.53  \n",
       "p75, wage                25.63  \n",
       "p90, wage                34.73  \n",
       "Mean                     23.91  \n",
       "n                       267.00  \n",
       "Weighed n            388900.00  "
      ]
     },
     "execution_count": 4,
     "metadata": {},
     "output_type": "execute_result"
    }
   ],
   "source": [
    "stats"
   ]
  },
  {
   "cell_type": "code",
   "execution_count": null,
   "metadata": {},
   "outputs": [],
   "source": []
  }
 ],
 "metadata": {
  "kernelspec": {
   "display_name": "Python 3",
   "language": "python",
   "name": "python3"
  },
  "language_info": {
   "codemirror_mode": {
    "name": "ipython",
    "version": 3
   },
   "file_extension": ".py",
   "mimetype": "text/x-python",
   "name": "python",
   "nbconvert_exporter": "python",
   "pygments_lexer": "ipython3",
   "version": "3.6.5"
  }
 },
 "nbformat": 4,
 "nbformat_minor": 2
}
