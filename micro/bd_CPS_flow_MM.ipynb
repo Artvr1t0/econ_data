{
 "cells": [
  {
   "cell_type": "markdown",
   "metadata": {},
   "source": [
    "### Matching month-to-month CPS observations\n",
    "\n",
    "February 18, 2019\n",
    "\n",
    "Brian Dew, @bd_econ"
   ]
  },
  {
   "cell_type": "code",
   "execution_count": 1,
   "metadata": {
    "ExecuteTime": {
     "end_time": "2019-10-10T13:42:46.855074Z",
     "start_time": "2019-10-10T13:42:46.851784Z"
    }
   },
   "outputs": [],
   "source": [
    "import pandas as pd\n",
    "import os\n",
    "\n",
    "os.chdir('/home/brian/Documents/CPS/data/clean')"
   ]
  },
  {
   "cell_type": "code",
   "execution_count": 2,
   "metadata": {
    "ExecuteTime": {
     "end_time": "2019-10-10T13:42:46.882162Z",
     "start_time": "2019-10-10T13:42:46.857351Z"
    },
    "code_folding": [],
    "run_control": {
     "marked": false
    }
   },
   "outputs": [],
   "source": [
    "# Identify which months should be matched\n",
    "date_list = [(date_val.year, date_val.month) for date_val in \n",
    "             pd.date_range(start='1989-02-01', end='2019-12-01', freq='MS')]\n",
    "\n",
    "date_pairs = list(zip(date_list, date_list[1:]))\n",
    "\n",
    "start_year = date_pairs[0][0][0]\n",
    "\n",
    "# Keep only the bd CPS columns needed for the analysis\n",
    "keep_cols = ['CPSID', 'PULINENO', 'AGE', 'FEMALE', 'WBHAO', 'BASICWGT',\n",
    "             'YEAR', 'MONTH', 'LFS']\n",
    "\n",
    "def read_year(year):\n",
    "    df = (pd.read_feather(f'cps{year}.ft', columns=keep_cols)\n",
    "            .query('BASICWGT > 0 and CPSID > 0'))\n",
    "    return df"
   ]
  },
  {
   "cell_type": "code",
   "execution_count": 3,
   "metadata": {
    "ExecuteTime": {
     "end_time": "2019-10-10T13:43:07.129665Z",
     "start_time": "2019-10-10T13:42:46.883861Z"
    },
    "code_folding": []
   },
   "outputs": [
    {
     "name": "stderr",
     "output_type": "stream",
     "text": [
      "<ipython-input-3-9260811da5e3>:2: DeprecationWarning: The default dtype for empty Series will be 'object' instead of 'float64' in a future version. Specify a dtype explicitly to silence this warning.\n",
      "  results = pd.Series()\n",
      "<ipython-input-3-9260811da5e3>:32: RuntimeWarning: invalid value encountered in float_scalars\n",
      "  results[date] = (nilf/ emp) * 100\n"
     ]
    }
   ],
   "source": [
    "# Match data and calculate flow\n",
    "results = pd.Series()\n",
    "\n",
    "df1 = read_year(start_year)\n",
    "df2 = df1\n",
    "\n",
    "# Handle the case where the second match month is the following year\n",
    "for (year1, month1), (year2, month2) in date_pairs:\n",
    "    if month2 == 1:\n",
    "        df2 = read_year(year2)\n",
    "    if month1 == 1 and year1 > start_year:\n",
    "        df1 = df2\n",
    "        \n",
    "    # Filter annual data to keep only revelant month's data\n",
    "    d1 = df1.loc[df1['MONTH'] == month1]\n",
    "    d2 = df2.loc[(df2['MONTH'] == month2) & \n",
    "                 (df2['LFS'] == 'Employed')]\n",
    "    \n",
    "    # Combine the two months and check that the person matches\n",
    "    m = pd.merge(d1, d2, on=['CPSID', 'PULINENO'], how='inner')\n",
    "    m = m[(m['WBHAO_x'] == m['WBHAO_y']) &\n",
    "          (m['FEMALE_x'] == m['FEMALE_y']) &\n",
    "          (m['AGE_y'] >= m['AGE_x']) &\n",
    "          (m['AGE_x'] <= m['AGE_y'] + 1)]\n",
    "    \n",
    "    # Calculate the newly employed total and share that were NILF\n",
    "    emp = m.loc[m['LFS_x'] != 'Employed', 'BASICWGT_y'].sum()\n",
    "    nilf = m.loc[m['LFS_x'] == 'NILF', 'BASICWGT_y'].sum()\n",
    "    \n",
    "    # Store results in dataframe\n",
    "    date = pd.to_datetime(f'{year2}-{month2}-01')\n",
    "    results[date] = (nilf/ emp) * 100"
   ]
  },
  {
   "cell_type": "code",
   "execution_count": 4,
   "metadata": {
    "ExecuteTime": {
     "end_time": "2019-10-10T13:43:07.139741Z",
     "start_time": "2019-10-10T13:43:07.130915Z"
    }
   },
   "outputs": [],
   "source": [
    "%matplotlib inline\n",
    "import matplotlib as mpl\n",
    "import matplotlib.pyplot as plt\n",
    "mpl.rc('axes', edgecolor='white') # Hide the axes\n",
    "plt.rc('axes', axisbelow=True)\n",
    "\n",
    "# Recession start and end months, from NBER\n",
    "rec_dt = [('1990-07-01', '1991-03-31'), \n",
    "          ('2001-03-01', '2001-11-30'), \n",
    "          ('2007-12-01', '2009-06-30')]"
   ]
  },
  {
   "cell_type": "code",
   "execution_count": 5,
   "metadata": {
    "ExecuteTime": {
     "end_time": "2019-10-10T13:43:07.355614Z",
     "start_time": "2019-10-10T13:43:07.140834Z"
    },
    "code_folding": []
   },
   "outputs": [
    {
     "data": {
      "image/png": "[encoded data removed]",
      "text/plain": [
       "<Figure size 504x288 with 1 Axes>"
      ]
     },
     "metadata": {
      "needs_background": "light"
     },
     "output_type": "display_data"
    }
   ],
   "source": [
    "# Set plot details and plot data\n",
    "offset = pd.DateOffset(months=4)\n",
    "result = results.rolling(12).mean()\n",
    "date_text = result.index[-1].strftime('%b %Y')\n",
    "val_text = f'{round(result[-1], 1)}%'\n",
    "result.plot(color='blue', legend=None, figsize=(7, 4), zorder=2)\n",
    "plt.xlim(result.index[0] - offset, result.index[-1] + offset)\n",
    "\n",
    "# Add recession bars\n",
    "for i, v in rec_dt:\n",
    "    ax = plt.axvspan(i, v, fill=True, linewidth=0, color='lightgray', \n",
    "                     alpha=0.2, zorder=1)\n",
    "    \n",
    "# Endpoint dot and label\n",
    "plt.scatter([result.index[-1]], [result.iloc[-1]], color='blue', s=25)\n",
    "plt.text(result.index[-1], result.iloc[-1] + 0.6, \n",
    "         f'{date_text}:\\n{val_text}', ha='center')\n",
    "\n",
    "# Axis labels\n",
    "plt.yticks([60.0, 65.0, 70.0], ['60', '65', '70%'])\n",
    "plt.xticks(['1990-01-01', '1995-01-01', '2000-01-01', '2005-01-01', \n",
    "            '2010-01-01', '2015-01-01'], \n",
    "           ['1990', '1995', '2000', '2005', '2010', '2015'], \n",
    "           ha='center', rotation=0) \n",
    "\n",
    "# Title and footer\n",
    "plt.text('1988-01-01', result.max() + 3, \n",
    "         'Newly employed, did not look for job last month', \n",
    "          fontsize=15, weight='bold')\n",
    "plt.text('1988-06-01', result.max() + 1.8, \n",
    "         \"Share of newly employed workers\", \n",
    "          fontsize=12)\n",
    "plt.text('1988-01-01', result.min() - 3, \n",
    "         \"Source: Author's calculations from basic monthly CPS microdata files. Twelve-\")\n",
    "plt.text('1988-06-01', result.min() - 4, \n",
    "         'month moving average applied to adjust for seasonality.')\n",
    "\n",
    "plt.show()"
   ]
  },
  {
   "cell_type": "code",
   "execution_count": null,
   "metadata": {},
   "outputs": [],
   "source": []
  },
  {
   "cell_type": "code",
   "execution_count": null,
   "metadata": {},
   "outputs": [],
   "source": []
  }
 ],
 "metadata": {
  "kernelspec": {
   "display_name": "Python 3",
   "language": "python",
   "name": "python3"
  },
  "language_info": {
   "codemirror_mode": {
    "name": "ipython",
    "version": 3
   },
   "file_extension": ".py",
   "mimetype": "text/x-python",
   "name": "python",
   "nbconvert_exporter": "python",
   "pygments_lexer": "ipython3",
   "version": "3.8.1"
  }
 },
 "nbformat": 4,
 "nbformat_minor": 2
}
