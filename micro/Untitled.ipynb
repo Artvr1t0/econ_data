{
 "cells": [
  {
   "cell_type": "markdown",
   "metadata": {},
   "source": [
    "### CPS ASEC - Retirement Income by Source\n",
    "\n",
    "June 6, 2018\n",
    "\n",
    "Brian Dew, @bd_econ\n",
    "\n",
    "----\n",
    "\n"
   ]
  },
  {
   "cell_type": "code",
   "execution_count": 1,
   "metadata": {
    "ExecuteTime": {
     "end_time": "2018-06-06T12:22:15.596928Z",
     "start_time": "2018-06-06T12:22:13.284645Z"
    }
   },
   "outputs": [
    {
     "name": "stdout",
     "output_type": "stream",
     "text": [
      "pandas 0.23.0\n"
     ]
    }
   ],
   "source": [
    "# Import packages\n",
    "import pandas as pd\n",
    "print(f'pandas {pd.__version__}')\n",
    "import numpy as np\n",
    "import re, wquantiles"
   ]
  },
  {
   "cell_type": "code",
   "execution_count": 2,
   "metadata": {
    "ExecuteTime": {
     "end_time": "2018-06-06T12:26:16.036469Z",
     "start_time": "2018-06-06T12:26:09.037082Z"
    }
   },
   "outputs": [],
   "source": [
    "# Raw data from Census FTP site\n",
    "datafile = 'data/asec2017_pubuse.dat'\n",
    "\n",
    "# Data dictionary\n",
    "dd_txt = 'data/08ASEC2017_Data_Dict_Full.txt'\n",
    "dd = open(dd_txt, 'r', encoding='iso-8859-1').read()\n",
    "\n",
    "# Retrieve column info from dictionary\n",
    "p = re.compile('D (\\w+\\-?\\w+?)\\s+(\\d{1,2})\\s+(\\d+)\\s+')\n",
    "var_key = pd.DataFrame(p.findall(dd), columns=['Var', 'Len', 'Loc'])\n",
    "var_key = var_key.apply(pd.to_numeric, errors='ignore')\n",
    "\n",
    "# List of variables of interest to be extracted from full file\n",
    "s = ['A_AGE', 'A_SEX', 'MARSUPWT', 'PRECORD', 'WEWKRS', 'WSAL_VAL', \n",
    "     'HRSWK', 'GESTFIPS', 'PEIOOCC', 'WKSWORK', 'A_CLSWKR',\n",
    "     'PEMOMTYP', 'PEDADTYP', 'ERN_VAL', 'A-AGE', 'A-SEX', 'WSAL-VAL',\n",
    "     'A-CLSWKR', 'ERN-VAL']\n",
    "s_key = var_key[var_key['Var'].isin(s)]\n",
    "\n",
    "# Read raw fwf file\n",
    "data = pd.read_fwf(datafile, header=None, names=list(s_key.Var),\n",
    "                 colspecs=list(zip(s_key.Loc-1, s_key.Loc + s_key.Len-1)))"
   ]
  },
  {
   "cell_type": "code",
   "execution_count": null,
   "metadata": {},
   "outputs": [],
   "source": []
  }
 ],
 "metadata": {
  "kernelspec": {
   "display_name": "Python 3",
   "language": "python",
   "name": "python3"
  },
  "language_info": {
   "codemirror_mode": {
    "name": "ipython",
    "version": 3
   },
   "file_extension": ".py",
   "mimetype": "text/x-python",
   "name": "python",
   "nbconvert_exporter": "python",
   "pygments_lexer": "ipython3",
   "version": "3.6.5"
  }
 },
 "nbformat": 4,
 "nbformat_minor": 2
}
