{
 "cells": [
  {
   "cell_type": "markdown",
   "metadata": {},
   "source": [
    "### CPS ASEC replicate Census Median HH Income Estimates\n",
    "\n",
    "Brian Dew, brian.w.dew@gmail.com\n",
    "\n",
    "December 28, 2019\n",
    "\n",
    "----\n",
    "\n",
    "Try to replicate the median household income statistics [published](https://www.census.gov/library/publications/2018/demo/p60-263.html) by Census, using a binned- and weighted-median.\n",
    "\n",
    "The number I want to get (at least very close) is $61,372.\n",
    "\n",
    "\n",
    "Also want to clean up the code a bit."
   ]
  },
  {
   "cell_type": "code",
   "execution_count": 1,
   "metadata": {
    "ExecuteTime": {
     "end_time": "2020-09-21T05:33:58.376536Z",
     "start_time": "2020-09-21T05:33:58.210665Z"
    }
   },
   "outputs": [],
   "source": [
    "import os, re, struct\n",
    "import pandas as pd\n",
    "import numpy as np\n",
    "\n",
    "os.chdir('/home/brian/Documents/ASEC/data/')"
   ]
  },
  {
   "cell_type": "code",
   "execution_count": 2,
   "metadata": {
    "ExecuteTime": {
     "end_time": "2019-07-07T14:33:04.628416Z",
     "start_time": "2019-07-07T14:33:04.622711Z"
    }
   },
   "outputs": [],
   "source": [
    "# read data dictionary text file \n",
    "pubuse_file = 'asec2018_pubuse.dat'\n",
    "dd_file = '08ASEC2018_Data_Dict_Full.txt'\n",
    "data_dict = open(dd_file, 'r', encoding='iso-8859-1').read()"
   ]
  },
  {
   "cell_type": "code",
   "execution_count": 3,
   "metadata": {
    "ExecuteTime": {
     "end_time": "2019-07-07T14:33:04.641313Z",
     "start_time": "2019-07-07T14:33:04.630186Z"
    }
   },
   "outputs": [],
   "source": [
    "# Retrieve column info from dictionary\n",
    "variables = ['HRECORD', 'HSUP_WGT', 'HTOTVAL']\n",
    "p = re.compile(f'D ({\"|\".join(variables)})\\s+(\\d{{1,2}})\\s+(\\d+)\\s+')\n",
    "cols = {name: (int(start) - 1, int(start) - 1 + int(length)) \n",
    "        for name, length, start in re.findall(p, data_dict)}"
   ]
  },
  {
   "cell_type": "code",
   "execution_count": 4,
   "metadata": {},
   "outputs": [],
   "source": [
    "# Read raw fwf file\n",
    "df = (pd.read_fwf(pubuse_file, \n",
    "                  colspecs=list(cols.values()), \n",
    "                  header=None, \n",
    "                  names=cols.keys())\n",
    "        .query('HRECORD == 1 and HSUP_WGT > 0'))"
   ]
  },
  {
   "cell_type": "code",
   "execution_count": 3,
   "metadata": {
    "ExecuteTime": {
     "end_time": "2020-09-21T05:34:32.341256Z",
     "start_time": "2020-09-21T05:34:32.325790Z"
    }
   },
   "outputs": [],
   "source": [
    "def binned_weighted_percentile(group, percentile=0.5, weight='HSUP_WGT', val_var='HTOTVAL'):\n",
    "    \"\"\"Return BLS-styled binned and weighted percentile\"\"\"\n",
    "    bin_size = 2500\n",
    "    bins = list(np.arange(-30000, 1250000, bin_size))\n",
    "    # Cut wage series according to bins of bin_size\n",
    "    bin_cut = lambda x: pd.cut(x[val_var], bins, include_lowest=True)\n",
    "    \n",
    "    # Calculate cumulative sum for weight variable\n",
    "    cum_sum = lambda x: x[weight].cumsum()\n",
    "    \n",
    "    # Sort wages then apply bin_cut and cum_sum\n",
    "    df = (group.sort_values(val_var)\n",
    "               .assign(WAGE_BIN = bin_cut, CS = cum_sum))\n",
    "    \n",
    "    # Find the weight at the percentile of interest\n",
    "    pct_wgt = df[weight].sum() * percentile\n",
    "\n",
    "    # Find wage bin for person nearest to weighted percentile\n",
    "    pct_bin = df.iloc[df['CS'].searchsorted(pct_wgt)].WAGE_BIN\n",
    "    \n",
    "    # Weight at bottom and top of bin\n",
    "    wgt_btm, wgt_top = (df.loc[df.WAGE_BIN == pct_bin, 'CS']\n",
    "                          .iloc[[0, -1]].values)\n",
    "    \n",
    "    # Find where in the bin the percentile is and return that value\n",
    "    pct_value = ((((pct_wgt - wgt_btm) / \n",
    "                   (wgt_top - wgt_btm)) * bin_size) + pct_bin.left)\n",
    "    return pct_value\n",
    "\n",
    "#binned_weighted_percentile(df)"
   ]
  },
  {
   "cell_type": "code",
   "execution_count": 4,
   "metadata": {
    "ExecuteTime": {
     "end_time": "2020-09-21T05:34:34.930854Z",
     "start_time": "2020-09-21T05:34:34.919120Z"
    }
   },
   "outputs": [],
   "source": [
    "def weighted_percentile(group, percentile=0.5, weight='HSUP_WGT', val_var='HTOTVAL'):\n",
    "    '''Return weighted percentile'''\n",
    "    cum_sum = lambda x: x[weight].cumsum()\n",
    "    \n",
    "    # Sort wages then apply bin_cut and cum_sum\n",
    "    df = (group.sort_values(val_var)\n",
    "               .assign(CS = cum_sum))\n",
    "    # Find the weight at the percentile of interest\n",
    "    pct_wgt = df[weight].sum() * percentile\n",
    "    # Find wage bin for person nearest to weighted percentile\n",
    "    pct_val = df.iloc[df['CS'].searchsorted(pct_wgt)][val_var]\n",
    "    \n",
    "    return pct_val"
   ]
  },
  {
   "cell_type": "code",
   "execution_count": 7,
   "metadata": {},
   "outputs": [
    {
     "data": {
      "text/plain": [
       "60810"
      ]
     },
     "execution_count": 7,
     "metadata": {},
     "output_type": "execute_result"
    }
   ],
   "source": [
    "weighted_percentile(df)"
   ]
  },
  {
   "cell_type": "code",
   "execution_count": null,
   "metadata": {},
   "outputs": [],
   "source": []
  },
  {
   "cell_type": "code",
   "execution_count": 5,
   "metadata": {
    "ExecuteTime": {
     "end_time": "2020-09-21T05:34:40.806187Z",
     "start_time": "2020-09-21T05:34:40.800304Z"
    }
   },
   "outputs": [],
   "source": [
    "datafile = 'asec2020_pubuse.dat'"
   ]
  },
  {
   "cell_type": "code",
   "execution_count": 6,
   "metadata": {
    "ExecuteTime": {
     "end_time": "2020-09-21T05:34:43.337788Z",
     "start_time": "2020-09-21T05:34:41.719577Z"
    }
   },
   "outputs": [],
   "source": [
    "# Retrieve column info from dictionary\n",
    "variables = ['PRECORD', 'MARSUPWT', 'PEARNVAL', 'ERN_VAL', 'PTOTVAL']\n",
    "dictfile = f'persfmt20.txt'\n",
    "dd = open(dictfile).read()\n",
    "p = f'({\"|\".join(variables)})\\s+(\\d+)\\s+(\\d+)\\s'\n",
    "cols = {name: (int(start) - 1, int(start) - 1 + int(length)) \n",
    "        for name, length, start in re.findall(p, dd)}\n",
    "\n",
    "# Read raw fwf file\n",
    "df = (pd.read_fwf(datafile, \n",
    "                  colspecs=list(cols.values()), \n",
    "                  header=None, \n",
    "                  names=list(cols.keys()))\n",
    "        .astype({'MARSUPWT': 'int'})\n",
    "        .query('PRECORD == 3 and MARSUPWT > 0'))"
   ]
  },
  {
   "cell_type": "code",
   "execution_count": 7,
   "metadata": {
    "ExecuteTime": {
     "end_time": "2020-09-21T05:34:45.905738Z",
     "start_time": "2020-09-21T05:34:44.362134Z"
    }
   },
   "outputs": [
    {
     "name": "stderr",
     "output_type": "stream",
     "text": [
      "<ipython-input-7-6fd8e1b41076>:1: DeprecationWarning: The default dtype for empty Series will be 'object' instead of 'float64' in a future version. Specify a dtype explicitly to silence this warning.\n",
      "  s = pd.Series()\n"
     ]
    }
   ],
   "source": [
    "s = pd.Series()\n",
    "\n",
    "for i in range(1, 101):\n",
    "    i = i / 100.0\n",
    "    val = weighted_percentile(df, percentile=i, weight='MARSUPWT', val_var='PTOTVAL') / 1000\n",
    "    if val > 100:\n",
    "        val = 100.0\n",
    "    s[i] = val"
   ]
  },
  {
   "cell_type": "code",
   "execution_count": 8,
   "metadata": {
    "ExecuteTime": {
     "end_time": "2020-09-21T05:34:48.517796Z",
     "start_time": "2020-09-21T05:34:47.266303Z"
    }
   },
   "outputs": [
    {
     "name": "stderr",
     "output_type": "stream",
     "text": [
      "<ipython-input-8-1e2fe3a0c479>:1: DeprecationWarning: The default dtype for empty Series will be 'object' instead of 'float64' in a future version. Specify a dtype explicitly to silence this warning.\n",
      "  s2 = pd.Series()\n"
     ]
    }
   ],
   "source": [
    "s2 = pd.Series()\n",
    "\n",
    "for i in range(1, 101):\n",
    "    i = i / 100.0\n",
    "    val = weighted_percentile(df, percentile=i, weight='MARSUPWT', val_var='PEARNVAL') / 1000\n",
    "    if val > 100:\n",
    "        val = 100.0\n",
    "    s2[i] = val"
   ]
  },
  {
   "cell_type": "code",
   "execution_count": 9,
   "metadata": {
    "ExecuteTime": {
     "end_time": "2020-09-21T05:34:48.778692Z",
     "start_time": "2020-09-21T05:34:48.518843Z"
    }
   },
   "outputs": [
    {
     "data": {
      "image/png": "[encoded data removed]",
      "text/plain": [
       "<Figure size 432x288 with 1 Axes>"
      ]
     },
     "metadata": {
      "needs_background": "light"
     },
     "output_type": "display_data"
    }
   ],
   "source": [
    "df = pd.DataFrame([s, s2, s-s2]).T\n",
    "df.columns = ['Total Income', 'Earnings', 'Other Income']\n",
    "df.index = df.index * 100.0\n",
    "df.to_csv('/home/brian/Documents/uschartbook/chartbook/data/pearn_dist.csv', index_label='percentile')\n",
    "df[['Earnings', 'Other Income']].plot(kind='area');"
   ]
  },
  {
   "cell_type": "code",
   "execution_count": null,
   "metadata": {},
   "outputs": [],
   "source": []
  },
  {
   "cell_type": "code",
   "execution_count": null,
   "metadata": {},
   "outputs": [],
   "source": []
  },
  {
   "cell_type": "code",
   "execution_count": 10,
   "metadata": {
    "ExecuteTime": {
     "end_time": "2020-09-21T05:34:55.641946Z",
     "start_time": "2020-09-21T05:34:55.617692Z"
    }
   },
   "outputs": [
    {
     "data": {
      "text/html": [
       "<div>\n",
       "<style scoped>\n",
       "    .dataframe tbody tr th:only-of-type {\n",
       "        vertical-align: middle;\n",
       "    }\n",
       "\n",
       "    .dataframe tbody tr th {\n",
       "        vertical-align: top;\n",
       "    }\n",
       "\n",
       "    .dataframe thead th {\n",
       "        text-align: right;\n",
       "    }\n",
       "</style>\n",
       "<table border=\"1\" class=\"dataframe\">\n",
       "  <thead>\n",
       "    <tr style=\"text-align: right;\">\n",
       "      <th></th>\n",
       "      <th>Total Income</th>\n",
       "      <th>Earnings</th>\n",
       "      <th>Other Income</th>\n",
       "    </tr>\n",
       "  </thead>\n",
       "  <tbody>\n",
       "    <tr>\n",
       "      <th>28.0</th>\n",
       "      <td>0.001</td>\n",
       "      <td>0.000</td>\n",
       "      <td>0.001</td>\n",
       "    </tr>\n",
       "    <tr>\n",
       "      <th>29.0</th>\n",
       "      <td>0.024</td>\n",
       "      <td>0.000</td>\n",
       "      <td>0.024</td>\n",
       "    </tr>\n",
       "    <tr>\n",
       "      <th>30.0</th>\n",
       "      <td>0.500</td>\n",
       "      <td>0.000</td>\n",
       "      <td>0.500</td>\n",
       "    </tr>\n",
       "    <tr>\n",
       "      <th>31.0</th>\n",
       "      <td>1.500</td>\n",
       "      <td>0.000</td>\n",
       "      <td>1.500</td>\n",
       "    </tr>\n",
       "    <tr>\n",
       "      <th>32.0</th>\n",
       "      <td>2.660</td>\n",
       "      <td>0.000</td>\n",
       "      <td>2.660</td>\n",
       "    </tr>\n",
       "    <tr>\n",
       "      <th>...</th>\n",
       "      <td>...</td>\n",
       "      <td>...</td>\n",
       "      <td>...</td>\n",
       "    </tr>\n",
       "    <tr>\n",
       "      <th>96.0</th>\n",
       "      <td>150.241</td>\n",
       "      <td>129.000</td>\n",
       "      <td>21.241</td>\n",
       "    </tr>\n",
       "    <tr>\n",
       "      <th>97.0</th>\n",
       "      <td>170.803</td>\n",
       "      <td>150.000</td>\n",
       "      <td>20.803</td>\n",
       "    </tr>\n",
       "    <tr>\n",
       "      <th>98.0</th>\n",
       "      <td>202.010</td>\n",
       "      <td>175.000</td>\n",
       "      <td>27.010</td>\n",
       "    </tr>\n",
       "    <tr>\n",
       "      <th>99.0</th>\n",
       "      <td>270.350</td>\n",
       "      <td>240.000</td>\n",
       "      <td>30.350</td>\n",
       "    </tr>\n",
       "    <tr>\n",
       "      <th>100.0</th>\n",
       "      <td>2085.704</td>\n",
       "      <td>2074.999</td>\n",
       "      <td>10.705</td>\n",
       "    </tr>\n",
       "  </tbody>\n",
       "</table>\n",
       "<p>73 rows × 3 columns</p>\n",
       "</div>"
      ],
      "text/plain": [
       "       Total Income  Earnings  Other Income\n",
       "28.0          0.001     0.000         0.001\n",
       "29.0          0.024     0.000         0.024\n",
       "30.0          0.500     0.000         0.500\n",
       "31.0          1.500     0.000         1.500\n",
       "32.0          2.660     0.000         2.660\n",
       "...             ...       ...           ...\n",
       "96.0        150.241   129.000        21.241\n",
       "97.0        170.803   150.000        20.803\n",
       "98.0        202.010   175.000        27.010\n",
       "99.0        270.350   240.000        30.350\n",
       "100.0      2085.704  2074.999        10.705\n",
       "\n",
       "[73 rows x 3 columns]"
      ]
     },
     "execution_count": 10,
     "metadata": {},
     "output_type": "execute_result"
    }
   ],
   "source": [
    "df[df['Total Income'] > 0]"
   ]
  },
  {
   "cell_type": "code",
   "execution_count": 19,
   "metadata": {
    "ExecuteTime": {
     "end_time": "2020-09-16T00:59:38.241519Z",
     "start_time": "2020-09-16T00:59:38.214837Z"
    }
   },
   "outputs": [
    {
     "data": {
      "text/html": [
       "<div>\n",
       "<style scoped>\n",
       "    .dataframe tbody tr th:only-of-type {\n",
       "        vertical-align: middle;\n",
       "    }\n",
       "\n",
       "    .dataframe tbody tr th {\n",
       "        vertical-align: top;\n",
       "    }\n",
       "\n",
       "    .dataframe thead th {\n",
       "        text-align: right;\n",
       "    }\n",
       "</style>\n",
       "<table border=\"1\" class=\"dataframe\">\n",
       "  <thead>\n",
       "    <tr style=\"text-align: right;\">\n",
       "      <th></th>\n",
       "      <th>Total Income</th>\n",
       "      <th>Earnings</th>\n",
       "      <th>Other Income</th>\n",
       "    </tr>\n",
       "  </thead>\n",
       "  <tbody>\n",
       "    <tr>\n",
       "      <th>28.0</th>\n",
       "      <td>0.001</td>\n",
       "      <td>0.0</td>\n",
       "      <td>0.001</td>\n",
       "    </tr>\n",
       "    <tr>\n",
       "      <th>29.0</th>\n",
       "      <td>0.024</td>\n",
       "      <td>0.0</td>\n",
       "      <td>0.024</td>\n",
       "    </tr>\n",
       "    <tr>\n",
       "      <th>30.0</th>\n",
       "      <td>0.500</td>\n",
       "      <td>0.0</td>\n",
       "      <td>0.500</td>\n",
       "    </tr>\n",
       "    <tr>\n",
       "      <th>31.0</th>\n",
       "      <td>1.500</td>\n",
       "      <td>0.0</td>\n",
       "      <td>1.500</td>\n",
       "    </tr>\n",
       "    <tr>\n",
       "      <th>32.0</th>\n",
       "      <td>2.660</td>\n",
       "      <td>0.0</td>\n",
       "      <td>2.660</td>\n",
       "    </tr>\n",
       "    <tr>\n",
       "      <th>...</th>\n",
       "      <td>...</td>\n",
       "      <td>...</td>\n",
       "      <td>...</td>\n",
       "    </tr>\n",
       "    <tr>\n",
       "      <th>96.0</th>\n",
       "      <td>100.000</td>\n",
       "      <td>100.0</td>\n",
       "      <td>0.000</td>\n",
       "    </tr>\n",
       "    <tr>\n",
       "      <th>97.0</th>\n",
       "      <td>100.000</td>\n",
       "      <td>100.0</td>\n",
       "      <td>0.000</td>\n",
       "    </tr>\n",
       "    <tr>\n",
       "      <th>98.0</th>\n",
       "      <td>100.000</td>\n",
       "      <td>100.0</td>\n",
       "      <td>0.000</td>\n",
       "    </tr>\n",
       "    <tr>\n",
       "      <th>99.0</th>\n",
       "      <td>100.000</td>\n",
       "      <td>100.0</td>\n",
       "      <td>0.000</td>\n",
       "    </tr>\n",
       "    <tr>\n",
       "      <th>100.0</th>\n",
       "      <td>100.000</td>\n",
       "      <td>100.0</td>\n",
       "      <td>0.000</td>\n",
       "    </tr>\n",
       "  </tbody>\n",
       "</table>\n",
       "<p>73 rows × 3 columns</p>\n",
       "</div>"
      ],
      "text/plain": [
       "       Total Income  Earnings  Other Income\n",
       "28.0          0.001       0.0         0.001\n",
       "29.0          0.024       0.0         0.024\n",
       "30.0          0.500       0.0         0.500\n",
       "31.0          1.500       0.0         1.500\n",
       "32.0          2.660       0.0         2.660\n",
       "...             ...       ...           ...\n",
       "96.0        100.000     100.0         0.000\n",
       "97.0        100.000     100.0         0.000\n",
       "98.0        100.000     100.0         0.000\n",
       "99.0        100.000     100.0         0.000\n",
       "100.0       100.000     100.0         0.000\n",
       "\n",
       "[73 rows x 3 columns]"
      ]
     },
     "execution_count": 19,
     "metadata": {},
     "output_type": "execute_result"
    }
   ],
   "source": [
    "df.loc[28:]"
   ]
  },
  {
   "cell_type": "code",
   "execution_count": null,
   "metadata": {},
   "outputs": [],
   "source": []
  }
 ],
 "metadata": {
  "kernelspec": {
   "display_name": "Python 3",
   "language": "python",
   "name": "python3"
  },
  "language_info": {
   "codemirror_mode": {
    "name": "ipython",
    "version": 3
   },
   "file_extension": ".py",
   "mimetype": "text/x-python",
   "name": "python",
   "nbconvert_exporter": "python",
   "pygments_lexer": "ipython3",
   "version": "3.8.6"
  }
 },
 "nbformat": 4,
 "nbformat_minor": 2
}
