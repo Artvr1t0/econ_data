{
 "cells": [
  {
   "cell_type": "markdown",
   "metadata": {},
   "source": [
    "# CPS Labor Force Nonparticipation by Reason\n",
    "\n",
    "Brian Dew, @bd_econ\n",
    "\n",
    "Replaces CPS_PrimeLF_Contrib.ipynb\n",
    "\n",
    "March 24, 2018\n",
    "\n",
    "Replication using python of very clever chart by Ernie Tedeschi (@ernietedeschi).\n",
    "\n",
    "[Definitions](https://www.frbatlanta.org/chcs/human-capital-currents/2015/0612-measuring-labor-market-status-using-basic-data.aspx) of labor market status come from the FRB of Atlanta."
   ]
  },
  {
   "cell_type": "markdown",
   "metadata": {},
   "source": [
    "#### Preliminaries"
   ]
  },
  {
   "cell_type": "code",
   "execution_count": 1,
   "metadata": {
    "ExecuteTime": {
     "end_time": "2018-04-09T01:29:31.102184Z",
     "start_time": "2018-04-09T01:29:30.587169Z"
    },
    "code_folding": [
     0
    ]
   },
   "outputs": [],
   "source": [
    "# Import preliminaries and connect to CPS database\n",
    "import pandas as pd\n",
    "import numpy as np\n",
    "import itertools\n",
    "\n",
    "%matplotlib inline\n",
    "import matplotlib as mpl\n",
    "import matplotlib.pyplot as plt\n",
    "plt.style.use('seaborn-white')\n",
    "mpl.rc('axes', edgecolor='white') # Hide the axes\n",
    "plt.rc('axes', axisbelow=True)"
   ]
  },
  {
   "cell_type": "markdown",
   "metadata": {},
   "source": [
    "#### Base Period Demographics"
   ]
  },
  {
   "cell_type": "code",
   "execution_count": 2,
   "metadata": {
    "ExecuteTime": {
     "end_time": "2018-04-09T01:29:31.110692Z",
     "start_time": "2018-04-09T01:29:31.106189Z"
    },
    "code_folding": [
     0
    ]
   },
   "outputs": [],
   "source": [
    "# Base period demographics\n",
    "def base_period_demographics(base_period):\n",
    "    \"\"\"Function calculates the demographic share each category has in a specific \n",
    "       Month and Year that is input as a tuple. It returns age, sex, and educ as\n",
    "       as share of the total population in a dictionary.\"\"\"\n",
    "    df = pd.read_feather(f'data/cps_{base_period[0]}.ft', nthreads=3)\n",
    "    df = df[(df['PRTAGE'].between(16, 80)) & (df['HRMONTH'] == base_period[1])]\n",
    "    #Calculate each category of age, sex, educ as share of total and store as dict\n",
    "    aged = (df.groupby('PRTAGE')['PWSSWGT'].sum() / df['PWSSWGT'].sum()).to_dict()\n",
    "    sexd = (df.groupby('PESEX')['PWSSWGT'].sum() / df['PWSSWGT'].sum()).to_dict()\n",
    "    educd = (df.groupby('PEEDUCA')['PWSSWGT'].sum() / df['PWSSWGT'].sum()).to_dict()\n",
    "    return {'da_age': aged, 'da_sex': sexd, 'da_educ': educd}"
   ]
  },
  {
   "cell_type": "markdown",
   "metadata": {},
   "source": [
    "#### Calculator Function"
   ]
  },
  {
   "cell_type": "code",
   "execution_count": 3,
   "metadata": {
    "ExecuteTime": {
     "end_time": "2018-04-09T01:29:31.132213Z",
     "start_time": "2018-04-09T01:29:31.112695Z"
    },
    "code_folding": [
     0
    ]
   },
   "outputs": [],
   "source": [
    "def nilf_calc(date, s, df, df2, dem_adj, adj=['age', 'sex']):\n",
    "    \"\"\"Take add month values to df2 for various NILF calculations\"\"\"\n",
    "    # Calculate adjustment value for each demographic adjustment group category\n",
    "    # Map the adjustment values to the actual people in the CPS\n",
    "    wgt = df['PWSSWGT']\n",
    "    if 'age' in adj:\n",
    "        d1 = (df.groupby('PRTAGE')['PWSSWGT'].sum() / df['PWSSWGT'].sum()).to_dict()\n",
    "        agec = {k: dem_adj['da_age'][k]/d1[k] for k in d1.keys() & dem_adj['da_age']}\n",
    "        age_adj = df['PRTAGE'].map(agec)\n",
    "        wgt = age_adj * wgt\n",
    "    if 'sex' in adj:\n",
    "        d1 = (df.groupby('PESEX')['PWSSWGT'].sum() / df['PWSSWGT'].sum()).to_dict()\n",
    "        sexc = {k: dem_adj['da_sex'][k]/d1[k] for k in dem_adj['da_sex']}\n",
    "        sex_adj = df['PESEX'].map(sexc)\n",
    "        wgt = sex_adj * wgt\n",
    "    if 'educ' in adj:\n",
    "        d1 = (df.groupby('PEEDUCA')['PWSSWGT'].sum() / df['PWSSWGT'].sum()).to_dict()\n",
    "        educc = {k: dem_adj['da_edc'][k]/d1[k] for k in educd}    \n",
    "        educ_adj = df['PRTAGE'].map(educ)\n",
    "        wgt = educ_adj * wgt\n",
    "        \n",
    "    # Start calculations, first calculate total population for df, then each NILF group\n",
    "    # Then calculate the demographic factor, and the residual as 'Other'\n",
    "    gpop = wgt.sum()\n",
    "    ratio = df['PWSSWGT'].sum() / gpop \n",
    "    df2.at[date, 'Population'] = gpop * ratio\n",
    "\n",
    "    # Disability or Illness\n",
    "    disill = (np.where(((df['PRWNTJOB']==2) & ((df['PEMLR']==6) | (df['PENLFACT'].isin([1, 2])))), 1, 0) * wgt).sum()\n",
    "    df2.at[date, 'Disabled/Ill'] = disill * ratio\n",
    "    \n",
    "    # Home/Family\n",
    "    fam = (np.where(((df['PRWNTJOB']==2) & (df['PENLFACT']==4)), 1, 0) * wgt).sum()\n",
    "    df2.at[date, 'Home/Family'] = fam * ratio    \n",
    "    \n",
    "    # Retired\n",
    "    ret = (np.where(((df['PRWNTJOB']==2) & ((df['PEMLR']==5) | (df['PENLFACT']==5))), 1, 0) * wgt).sum()\n",
    "    df2.at[date, 'Retired'] = ret * ratio\n",
    "    \n",
    "    # Enrolled in school\n",
    "    sch = (np.where(((df['PRWNTJOB']==2) & (df['PENLFACT']==3)), 1, 0) * wgt).sum()\n",
    "    df2.at[date, 'EnrolledSchool'] = sch * ratio\n",
    "    \n",
    "    # Discouraged\n",
    "    disc = (np.where((df['PEDWWNTO']==1), 1, 0) * wgt).sum()\n",
    "    df2.at[date, 'Discouraged'] = disc * ratio\n",
    "    \n",
    "    # Other\n",
    "    df2.at[date, 'Subtotal'] = df2.loc[date, s].sum(axis=0)\n",
    "    df2.at[date, 'NILF'] = (np.where(df['PEMLR'].isin([5, 6, 7]), 1, 0) * wgt).sum() * ratio\n",
    "    df2.at[date, 'Other'] = df2.loc[date, 'NILF'] - df2.loc[date, 'Subtotal']\n",
    "    \n",
    "    # Demographics \n",
    "    lfpr1 = (np.where(df['PEMLR'].isin([1, 2, 3, 4]), 1, 0) * wgt).sum() * ratio\n",
    "    lfpr2 = (np.where(df['PEMLR'].isin([1, 2, 3, 4]), 1, 0) * df['PWSSWGT']).sum()\n",
    "    df2.at[date, 'Demographics: Age & Sex'] = (lfpr1 - lfpr2)"
   ]
  },
  {
   "cell_type": "markdown",
   "metadata": {},
   "source": [
    "#### Parameters and Variables"
   ]
  },
  {
   "cell_type": "code",
   "execution_count": 4,
   "metadata": {
    "ExecuteTime": {
     "end_time": "2018-04-09T01:29:31.590155Z",
     "start_time": "2018-04-09T01:29:31.134715Z"
    },
    "code_folding": [
     0
    ]
   },
   "outputs": [],
   "source": [
    "# Parameters\n",
    "base_period = (2001, 3)\n",
    "\n",
    "# Get demographic adjustment data from the base period\n",
    "dem_adj = base_period_demographics(base_period)\n",
    "\n",
    "age = (25, 54) # Prime age population, or select other\n",
    "sex = ('Total', [1, 2]) # Men == 1, Women == 2\n",
    "r_e = [1, 2, 3, 4, 5]  # Any race / ethnicity\n",
    "# Variables to adjust\n",
    "ser = ['PWSSWGT', 'HRMONTH', 'PRTAGE', 'PESEX', 'PRWNTJOB',\n",
    "       'PENLFACT', 'PEMLR', 'PRDISC', 'PEEDUCA', 'PEDWWNTO', 'WBHAO']\n",
    "\n",
    "# List of series to look at later\n",
    "s = ['Disabled/Ill', 'Home/Family', 'Retired', 'EnrolledSchool', 'Discouraged']"
   ]
  },
  {
   "cell_type": "markdown",
   "metadata": {},
   "source": [
    "#### Make calculations "
   ]
  },
  {
   "cell_type": "code",
   "execution_count": 5,
   "metadata": {
    "ExecuteTime": {
     "end_time": "2018-04-09T01:29:49.373396Z",
     "start_time": "2018-04-09T01:29:31.591656Z"
    },
    "code_folding": [
     0
    ]
   },
   "outputs": [
    {
     "name": "stderr",
     "output_type": "stream",
     "text": [
      "C:\\Users\\BDew\\Anaconda3\\lib\\site-packages\\ipykernel_launcher.py:13: SettingWithCopyWarning: \n",
      "A value is trying to be set on a copy of a slice from a DataFrame.\n",
      "Try using .loc[row_indexer,col_indexer] = value instead\n",
      "\n",
      "See the caveats in the documentation: http://pandas.pydata.org/pandas-docs/stable/indexing.html#indexing-view-versus-copy\n",
      "  del sys.path[0]\n"
     ]
    }
   ],
   "source": [
    "# Calculate age and sex adjusted values\n",
    "df2 = pd.DataFrame()\n",
    "for year in list(range(2000, 2019)):\n",
    "    file = f'data/cps_{year}.ft'\n",
    "    for i, df in pd.read_feather(file, nthreads=3)[ser].groupby('HRMONTH'):\n",
    "        date = pd.to_datetime(f'{year}-{i}-01')\n",
    "        # Keep by age, and sex, and whether counted in labor force\n",
    "        df = df[(df['PRTAGE'].between(age[0], age[1])) & \n",
    "                 (df['PEMLR'].isin(list(range(1,8)))) & \n",
    "                 (df['PESEX'].isin(sex[1]) & \n",
    "                 (df['WBHAO'].isin(r_e)))]\n",
    "                 #(df['PEEDUCA'].between(42, 46))]\n",
    "        df['PWSSWGT'] = df['PWSSWGT'] / 1000.0 # Four implied decimal places\n",
    "        nilf_calc(date, s, df, df2, dem_adj, adj=['age', 'sex'])"
   ]
  },
  {
   "cell_type": "markdown",
   "metadata": {},
   "source": [
    "#### Example of Use"
   ]
  },
  {
   "cell_type": "code",
   "execution_count": 6,
   "metadata": {
    "ExecuteTime": {
     "end_time": "2018-04-09T01:29:49.631684Z",
     "start_time": "2018-04-09T01:29:49.374937Z"
    },
    "code_folding": [
     0
    ]
   },
   "outputs": [
    {
     "data": {
      "text/plain": [
       "<matplotlib.axes._subplots.AxesSubplot at 0x1781fc215f8>"
      ]
     },
     "execution_count": 6,
     "metadata": {},
     "output_type": "execute_result"
    },
    {
     "data": {
      "image/png": "[encoded data removed]",
      "text/plain": [
       "<Figure size 432x288 with 1 Axes>"
      ]
     },
     "metadata": {},
     "output_type": "display_data"
    }
   ],
   "source": [
    "# Plot change since start date\n",
    "\n",
    "# Add new values to list from earlier for full set of columns to plot\n",
    "s2 = s + ['Demographics: Age & Sex', 'Other']\n",
    "# Convert from nominal to share of population\n",
    "df3 = df2[s2].div(df2['Population'], axis=0) * 100\n",
    "# Calculate the difference from the base period\n",
    "data2 = (df3.rolling(12).mean().loc[f'{base_period[0]}-{base_period[1]}-01']\n",
    "         - df3.rolling(12).mean()).dropna()[3:]\n",
    "# Plot the results\n",
    "data2[s2].plot(title='Contribution to labor force participation rate since March 2001')"
   ]
  },
  {
   "cell_type": "code",
   "execution_count": null,
   "metadata": {},
   "outputs": [],
   "source": []
  },
  {
   "cell_type": "code",
   "execution_count": null,
   "metadata": {},
   "outputs": [],
   "source": []
  },
  {
   "cell_type": "code",
   "execution_count": null,
   "metadata": {},
   "outputs": [],
   "source": []
  },
  {
   "cell_type": "code",
   "execution_count": null,
   "metadata": {},
   "outputs": [],
   "source": []
  },
  {
   "cell_type": "code",
   "execution_count": null,
   "metadata": {},
   "outputs": [],
   "source": []
  }
 ],
 "metadata": {
  "kernelspec": {
   "display_name": "Python 3",
   "language": "python",
   "name": "python3"
  },
  "language_info": {
   "codemirror_mode": {
    "name": "ipython",
    "version": 3
   },
   "file_extension": ".py",
   "mimetype": "text/x-python",
   "name": "python",
   "nbconvert_exporter": "python",
   "pygments_lexer": "ipython3",
   "version": "3.6.5"
  }
 },
 "nbformat": 4,
 "nbformat_minor": 2
}
