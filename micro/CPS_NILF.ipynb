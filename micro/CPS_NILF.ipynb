{
 "cells": [
  {
   "cell_type": "markdown",
   "metadata": {},
   "source": [
    "# CPS Labor Force Nonparticipation by Reason\n",
    "\n",
    "Brian Dew, @bd_econ\n",
    "\n",
    "Replaces CPS_PrimeLF_Contrib.ipynb\n",
    "\n",
    "January 14, 2019\n",
    "\n",
    "Replication using python of a very clever chart by Ernie Tedeschi (@ernietedeschi).\n",
    "\n",
    "[Definitions](https://www.frbatlanta.org/chcs/human-capital-currents/2015/0612-measuring-labor-market-status-using-basic-data.aspx) of labor market status come from the FRB of Atlanta."
   ]
  },
  {
   "cell_type": "markdown",
   "metadata": {},
   "source": [
    "#### Preliminaries"
   ]
  },
  {
   "cell_type": "code",
   "execution_count": 1,
   "metadata": {
    "ExecuteTime": {
     "end_time": "2019-03-17T20:28:53.600830Z",
     "start_time": "2019-03-17T20:28:53.275706Z"
    },
    "code_folding": []
   },
   "outputs": [],
   "source": [
    "# Import preliminaries and connect to CPS database\n",
    "import pandas as pd\n",
    "import numpy as np\n",
    "import itertools\n",
    "\n",
    "import os\n",
    "\n",
    "os.chdir('/home/brian/Documents/CPS/data/clean/')\n",
    "\n",
    "%matplotlib inline\n",
    "import matplotlib as mpl\n",
    "import matplotlib.pyplot as plt\n",
    "plt.style.use('seaborn-white')\n",
    "mpl.rc('axes', edgecolor='white') # Hide the axes\n",
    "plt.rc('axes', axisbelow=True)"
   ]
  },
  {
   "cell_type": "markdown",
   "metadata": {},
   "source": [
    "#### Base Period Demographics"
   ]
  },
  {
   "cell_type": "code",
   "execution_count": 2,
   "metadata": {
    "ExecuteTime": {
     "end_time": "2019-03-17T20:28:53.607303Z",
     "start_time": "2019-03-17T20:28:53.602492Z"
    },
    "code_folding": []
   },
   "outputs": [],
   "source": [
    "# Base period demographics\n",
    "def base_period_demographics(base_period):\n",
    "    \"\"\"Function calculates the demographic share each category has in a specific \n",
    "       Month and Year that is input as a tuple. It returns age, sex, and educ as\n",
    "       as share of the total population in a dictionary.\"\"\"\n",
    "    df = pd.read_feather(f'cps{base_period[0]}.ft')\n",
    "    df = df[(df['AGE'].between(16, 80)) & (df['MONTH'] == base_period[1])]\n",
    "    #Calculate each category of age, sex, educ as share of total and store as dict\n",
    "    aged = (df.groupby('AGE')['BASICWGT'].sum() / df['BASICWGT'].sum()).to_dict()\n",
    "    sexd = (df.groupby('FEMALE')['BASICWGT'].sum() / df['BASICWGT'].sum()).to_dict()\n",
    "    educd = (df.groupby('EDUC')['BASICWGT'].sum() / df['BASICWGT'].sum()).to_dict()\n",
    "    return {'da_age': aged, 'da_sex': sexd, 'da_educ': educd}"
   ]
  },
  {
   "cell_type": "markdown",
   "metadata": {},
   "source": [
    "#### Calculator Function"
   ]
  },
  {
   "cell_type": "code",
   "execution_count": 3,
   "metadata": {
    "ExecuteTime": {
     "end_time": "2019-03-17T20:28:53.623675Z",
     "start_time": "2019-03-17T20:28:53.608626Z"
    },
    "code_folding": []
   },
   "outputs": [],
   "source": [
    "def nilf_calc(date, s, df, df2, dem_adj, adj=['age', 'sex']):\n",
    "    \"\"\"Take add month values to df2 for various NILF calculations\"\"\"\n",
    "    # Calculate adjustment value for each demographic adjustment group category\n",
    "    # Map the adjustment values to the actual people in the CPS\n",
    "    wgt = df['BASICWGT']\n",
    "    if 'age' in adj:\n",
    "        d1 = (df.groupby('AGE')['BASICWGT'].sum() / df['BASICWGT'].sum()).to_dict()\n",
    "        agec = {k: dem_adj['da_age'][k]/d1[k] for k in d1.keys() & dem_adj['da_age']}\n",
    "        age_adj = df['AGE'].map(agec)\n",
    "        wgt = age_adj * wgt\n",
    "    if 'sex' in adj:\n",
    "        d1 = (df.groupby('FEMALE')['BASICWGT'].sum() / df['BASICWGT'].sum()).to_dict()\n",
    "        sexc = {k: dem_adj['da_sex'][k]/d1[k] for k in d1.keys() & dem_adj['da_sex']}\n",
    "        sex_adj = df['FEMALE'].map(sexc)\n",
    "        wgt = sex_adj * wgt\n",
    "    if 'educ' in adj:\n",
    "        d1 = (df.groupby('EDUC')['BASICWGT'].sum() / df['BASICWGT'].sum()).to_dict()\n",
    "        educc = {k: dem_adj['da_educ'][k]/d1[k] for k in d1.keys() & dem_adj['da_educ']}    \n",
    "        educ_adj = df['EDUC'].map(educc)\n",
    "        wgt = educ_adj * wgt\n",
    "        \n",
    "    # Start calculations, first calculate total population for df, then each NILF group\n",
    "    # Then calculate the demographic factor, and the residual as 'Other'\n",
    "    gpop = wgt.sum()\n",
    "    ratio = df['BASICWGT'].sum() / gpop \n",
    "    df2.at[date, 'Population'] = gpop * ratio\n",
    "\n",
    "    # Disability or Illness\n",
    "    disill = (np.where(((df['PRWNTJOB']==2) & \n",
    "                        ((df['PEMLR']==6) | \n",
    "                         (df['PENLFACT'].isin([1, 2])))), 1, 0) * wgt).sum()\n",
    "    df2.at[date, 'Disabled/Ill'] = disill * ratio\n",
    "    \n",
    "    # Home/Family\n",
    "    fam = (np.where(((df['PRWNTJOB']==2) & (df['PENLFACT']==4)), 1, 0) * wgt).sum()\n",
    "    df2.at[date, 'Home/Family'] = fam * ratio    \n",
    "    \n",
    "    # Retired\n",
    "    ret = (np.where(((df['PRWNTJOB']==2) & \n",
    "                     ((df['PEMLR']==5) | \n",
    "                      (df['PENLFACT']==5))), 1, 0) * wgt).sum()\n",
    "    df2.at[date, 'Retired'] = ret * ratio\n",
    "    \n",
    "    # Enrolled in school\n",
    "    sch = (np.where(((df['PRWNTJOB']==2) & \n",
    "                     (df['PENLFACT']==3)), 1, 0) * wgt).sum()\n",
    "    df2.at[date, 'EnrolledSchool'] = sch * ratio\n",
    "    \n",
    "    # Discouraged\n",
    "    disc = (np.where((df['PEDWWNTO']==1), 1, 0) * wgt).sum()\n",
    "    df2.at[date, 'Discouraged'] = disc * ratio\n",
    "    \n",
    "    # Other\n",
    "    df2.at[date, 'Subtotal'] = df2.loc[date, s].sum(axis=0)\n",
    "    df2.at[date, 'NILF'] = (np.where(df['PEMLR'].isin([5, 6, 7]), 1, 0) * wgt).sum() * ratio\n",
    "    df2.at[date, 'Other'] = df2.loc[date, 'NILF'] - df2.loc[date, 'Subtotal']\n",
    "    \n",
    "    # Demographics \n",
    "    lfpr1 = (np.where(df['PEMLR'].isin([1, 2, 3, 4]), 1, 0) * wgt).sum() * ratio\n",
    "    lfpr2 = (np.where(df['PEMLR'].isin([1, 2, 3, 4]), 1, 0) * df['BASICWGT']).sum()\n",
    "    df2.at[date, 'Demographics: Age & Sex'] = (lfpr1 - lfpr2)"
   ]
  },
  {
   "cell_type": "markdown",
   "metadata": {},
   "source": [
    "#### Parameters and Variables"
   ]
  },
  {
   "cell_type": "code",
   "execution_count": 4,
   "metadata": {
    "ExecuteTime": {
     "end_time": "2019-03-17T20:28:53.956598Z",
     "start_time": "2019-03-17T20:28:53.625713Z"
    },
    "code_folding": []
   },
   "outputs": [],
   "source": [
    "# Parameters\n",
    "base_period = (2001, 3)\n",
    "\n",
    "# Get demographic adjustment data from the base period\n",
    "dem_adj = base_period_demographics(base_period)\n",
    "\n",
    "age = (25, 54) # Prime age population, or select other\n",
    "sex = ('Total', [0, 1]) # Men == 1, Women == 2\n",
    "#r_e = [1, 2, 3, 4, 5]  # Any race / ethnicity\n",
    "# Variables to adjust\n",
    "ser = ['BASICWGT', 'MONTH', 'AGE', 'FEMALE', 'PRWNTJOB',\n",
    "       'PENLFACT', 'PEMLR', 'PRDISC', 'EDUC', 'PEDWWNTO', 'WBHAO']\n",
    "\n",
    "# List of series to look at later\n",
    "s = ['Disabled/Ill', 'Home/Family', 'Retired', 'EnrolledSchool', 'Discouraged']"
   ]
  },
  {
   "cell_type": "markdown",
   "metadata": {},
   "source": [
    "#### Make calculations "
   ]
  },
  {
   "cell_type": "code",
   "execution_count": 5,
   "metadata": {
    "ExecuteTime": {
     "end_time": "2019-03-17T20:28:54.235306Z",
     "start_time": "2019-03-17T20:28:53.958033Z"
    },
    "code_folding": []
   },
   "outputs": [
    {
     "ename": "KeyError",
     "evalue": "\"['PRDISC', 'PRWNTJOB', 'PEDWWNTO', 'PENLFACT', 'PEMLR'] not in index\"",
     "output_type": "error",
     "traceback": [
      "\u001b[0;31m---------------------------------------------------------------------------\u001b[0m",
      "\u001b[0;31mKeyError\u001b[0m                                  Traceback (most recent call last)",
      "\u001b[0;32m<ipython-input-5-b09ce97e9778>\u001b[0m in \u001b[0;36m<module>\u001b[0;34m\u001b[0m\n\u001b[1;32m      3\u001b[0m \u001b[0;32mfor\u001b[0m \u001b[0myear\u001b[0m \u001b[0;32min\u001b[0m \u001b[0mlist\u001b[0m\u001b[0;34m(\u001b[0m\u001b[0mrange\u001b[0m\u001b[0;34m(\u001b[0m\u001b[0;36m2000\u001b[0m\u001b[0;34m,\u001b[0m \u001b[0;36m2019\u001b[0m\u001b[0;34m)\u001b[0m\u001b[0;34m)\u001b[0m\u001b[0;34m:\u001b[0m\u001b[0;34m\u001b[0m\u001b[0;34m\u001b[0m\u001b[0m\n\u001b[1;32m      4\u001b[0m     \u001b[0mfile\u001b[0m \u001b[0;34m=\u001b[0m \u001b[0;34mf'cps{year}.ft'\u001b[0m\u001b[0;34m\u001b[0m\u001b[0;34m\u001b[0m\u001b[0m\n\u001b[0;32m----> 5\u001b[0;31m     \u001b[0;32mfor\u001b[0m \u001b[0mi\u001b[0m\u001b[0;34m,\u001b[0m \u001b[0mdf\u001b[0m \u001b[0;32min\u001b[0m \u001b[0mpd\u001b[0m\u001b[0;34m.\u001b[0m\u001b[0mread_feather\u001b[0m\u001b[0;34m(\u001b[0m\u001b[0mfile\u001b[0m\u001b[0;34m)\u001b[0m\u001b[0;34m[\u001b[0m\u001b[0mser\u001b[0m\u001b[0;34m]\u001b[0m\u001b[0;34m.\u001b[0m\u001b[0mgroupby\u001b[0m\u001b[0;34m(\u001b[0m\u001b[0;34m'MONTH'\u001b[0m\u001b[0;34m)\u001b[0m\u001b[0;34m:\u001b[0m\u001b[0;34m\u001b[0m\u001b[0;34m\u001b[0m\u001b[0m\n\u001b[0m\u001b[1;32m      6\u001b[0m         \u001b[0mdate\u001b[0m \u001b[0;34m=\u001b[0m \u001b[0mpd\u001b[0m\u001b[0;34m.\u001b[0m\u001b[0mto_datetime\u001b[0m\u001b[0;34m(\u001b[0m\u001b[0;34mf'{year}-{i}-01'\u001b[0m\u001b[0;34m)\u001b[0m\u001b[0;34m\u001b[0m\u001b[0;34m\u001b[0m\u001b[0m\n\u001b[1;32m      7\u001b[0m         \u001b[0;31m# Keep by age, and sex, and whether counted in labor force\u001b[0m\u001b[0;34m\u001b[0m\u001b[0;34m\u001b[0m\u001b[0;34m\u001b[0m\u001b[0m\n",
      "\u001b[0;32m~/miniconda3/lib/python3.7/site-packages/pandas/core/frame.py\u001b[0m in \u001b[0;36m__getitem__\u001b[0;34m(self, key)\u001b[0m\n\u001b[1;32m   2932\u001b[0m                 \u001b[0mkey\u001b[0m \u001b[0;34m=\u001b[0m \u001b[0mlist\u001b[0m\u001b[0;34m(\u001b[0m\u001b[0mkey\u001b[0m\u001b[0;34m)\u001b[0m\u001b[0;34m\u001b[0m\u001b[0;34m\u001b[0m\u001b[0m\n\u001b[1;32m   2933\u001b[0m             indexer = self.loc._convert_to_indexer(key, axis=1,\n\u001b[0;32m-> 2934\u001b[0;31m                                                    raise_missing=True)\n\u001b[0m\u001b[1;32m   2935\u001b[0m \u001b[0;34m\u001b[0m\u001b[0m\n\u001b[1;32m   2936\u001b[0m         \u001b[0;31m# take() does not accept boolean indexers\u001b[0m\u001b[0;34m\u001b[0m\u001b[0;34m\u001b[0m\u001b[0;34m\u001b[0m\u001b[0m\n",
      "\u001b[0;32m~/miniconda3/lib/python3.7/site-packages/pandas/core/indexing.py\u001b[0m in \u001b[0;36m_convert_to_indexer\u001b[0;34m(self, obj, axis, is_setter, raise_missing)\u001b[0m\n\u001b[1;32m   1352\u001b[0m                 kwargs = {'raise_missing': True if is_setter else\n\u001b[1;32m   1353\u001b[0m                           raise_missing}\n\u001b[0;32m-> 1354\u001b[0;31m                 \u001b[0;32mreturn\u001b[0m \u001b[0mself\u001b[0m\u001b[0;34m.\u001b[0m\u001b[0m_get_listlike_indexer\u001b[0m\u001b[0;34m(\u001b[0m\u001b[0mobj\u001b[0m\u001b[0;34m,\u001b[0m \u001b[0maxis\u001b[0m\u001b[0;34m,\u001b[0m \u001b[0;34m**\u001b[0m\u001b[0mkwargs\u001b[0m\u001b[0;34m)\u001b[0m\u001b[0;34m[\u001b[0m\u001b[0;36m1\u001b[0m\u001b[0;34m]\u001b[0m\u001b[0;34m\u001b[0m\u001b[0;34m\u001b[0m\u001b[0m\n\u001b[0m\u001b[1;32m   1355\u001b[0m         \u001b[0;32melse\u001b[0m\u001b[0;34m:\u001b[0m\u001b[0;34m\u001b[0m\u001b[0;34m\u001b[0m\u001b[0m\n\u001b[1;32m   1356\u001b[0m             \u001b[0;32mtry\u001b[0m\u001b[0;34m:\u001b[0m\u001b[0;34m\u001b[0m\u001b[0;34m\u001b[0m\u001b[0m\n",
      "\u001b[0;32m~/miniconda3/lib/python3.7/site-packages/pandas/core/indexing.py\u001b[0m in \u001b[0;36m_get_listlike_indexer\u001b[0;34m(self, key, axis, raise_missing)\u001b[0m\n\u001b[1;32m   1159\u001b[0m         self._validate_read_indexer(keyarr, indexer,\n\u001b[1;32m   1160\u001b[0m                                     \u001b[0mo\u001b[0m\u001b[0;34m.\u001b[0m\u001b[0m_get_axis_number\u001b[0m\u001b[0;34m(\u001b[0m\u001b[0maxis\u001b[0m\u001b[0;34m)\u001b[0m\u001b[0;34m,\u001b[0m\u001b[0;34m\u001b[0m\u001b[0;34m\u001b[0m\u001b[0m\n\u001b[0;32m-> 1161\u001b[0;31m                                     raise_missing=raise_missing)\n\u001b[0m\u001b[1;32m   1162\u001b[0m         \u001b[0;32mreturn\u001b[0m \u001b[0mkeyarr\u001b[0m\u001b[0;34m,\u001b[0m \u001b[0mindexer\u001b[0m\u001b[0;34m\u001b[0m\u001b[0;34m\u001b[0m\u001b[0m\n\u001b[1;32m   1163\u001b[0m \u001b[0;34m\u001b[0m\u001b[0m\n",
      "\u001b[0;32m~/miniconda3/lib/python3.7/site-packages/pandas/core/indexing.py\u001b[0m in \u001b[0;36m_validate_read_indexer\u001b[0;34m(self, key, indexer, axis, raise_missing)\u001b[0m\n\u001b[1;32m   1250\u001b[0m             \u001b[0;32mif\u001b[0m \u001b[0;32mnot\u001b[0m\u001b[0;34m(\u001b[0m\u001b[0mself\u001b[0m\u001b[0;34m.\u001b[0m\u001b[0mname\u001b[0m \u001b[0;34m==\u001b[0m \u001b[0;34m'loc'\u001b[0m \u001b[0;32mand\u001b[0m \u001b[0;32mnot\u001b[0m \u001b[0mraise_missing\u001b[0m\u001b[0;34m)\u001b[0m\u001b[0;34m:\u001b[0m\u001b[0;34m\u001b[0m\u001b[0;34m\u001b[0m\u001b[0m\n\u001b[1;32m   1251\u001b[0m                 \u001b[0mnot_found\u001b[0m \u001b[0;34m=\u001b[0m \u001b[0mlist\u001b[0m\u001b[0;34m(\u001b[0m\u001b[0mset\u001b[0m\u001b[0;34m(\u001b[0m\u001b[0mkey\u001b[0m\u001b[0;34m)\u001b[0m \u001b[0;34m-\u001b[0m \u001b[0mset\u001b[0m\u001b[0;34m(\u001b[0m\u001b[0max\u001b[0m\u001b[0;34m)\u001b[0m\u001b[0;34m)\u001b[0m\u001b[0;34m\u001b[0m\u001b[0;34m\u001b[0m\u001b[0m\n\u001b[0;32m-> 1252\u001b[0;31m                 \u001b[0;32mraise\u001b[0m \u001b[0mKeyError\u001b[0m\u001b[0;34m(\u001b[0m\u001b[0;34m\"{} not in index\"\u001b[0m\u001b[0;34m.\u001b[0m\u001b[0mformat\u001b[0m\u001b[0;34m(\u001b[0m\u001b[0mnot_found\u001b[0m\u001b[0;34m)\u001b[0m\u001b[0;34m)\u001b[0m\u001b[0;34m\u001b[0m\u001b[0;34m\u001b[0m\u001b[0m\n\u001b[0m\u001b[1;32m   1253\u001b[0m \u001b[0;34m\u001b[0m\u001b[0m\n\u001b[1;32m   1254\u001b[0m             \u001b[0;31m# we skip the warning on Categorical/Interval\u001b[0m\u001b[0;34m\u001b[0m\u001b[0;34m\u001b[0m\u001b[0;34m\u001b[0m\u001b[0m\n",
      "\u001b[0;31mKeyError\u001b[0m: \"['PRDISC', 'PRWNTJOB', 'PEDWWNTO', 'PENLFACT', 'PEMLR'] not in index\""
     ]
    }
   ],
   "source": [
    "# Calculate age and sex adjusted values\n",
    "df2 = pd.DataFrame()\n",
    "for year in list(range(2000, 2019)):\n",
    "    file = f'cps{year}.ft'\n",
    "    for i, df in pd.read_feather(file)[ser].groupby('MONTH'):\n",
    "        date = pd.to_datetime(f'{year}-{i}-01')\n",
    "        # Keep by age, and sex, and whether counted in labor force\n",
    "        df = df[(df['AGE'].between(age[0], age[1])) & \n",
    "                 (df['PEMLR'].isin(list(range(1,8)))) & \n",
    "                 (df['FEMALE'].isin(sex[1]))]\n",
    "        df['BASICWGT'] = df['BASICWGT'] \n",
    "        nilf_calc(date, s, df, df2, dem_adj, adj=['age', 'sex'])"
   ]
  },
  {
   "cell_type": "code",
   "execution_count": null,
   "metadata": {
    "ExecuteTime": {
     "end_time": "2019-03-17T20:28:54.236762Z",
     "start_time": "2019-03-17T20:28:53.294Z"
    }
   },
   "outputs": [],
   "source": [
    "# Plot change since start date\n",
    "\n",
    "# Add new values to list from earlier for full set of columns to plot\n",
    "s2 = s + ['Demographics: Age & Sex', 'Other']\n",
    "# Convert from nominal to share of population\n",
    "df3 = df2[s2].div(df2['Population'], axis=0) * 100\n",
    "# Calculate the difference from the base period\n",
    "data2 = (df3.rolling(12).mean().loc[f'{base_period[0]}-{base_period[1]}-01']\n",
    "         - df3.rolling(12).mean()).dropna()[3:]\n",
    "# Plot the results\n",
    "data2[s2].plot(title='Contribution to labor force participation rate since March 2001')"
   ]
  }
 ],
 "metadata": {
  "kernelspec": {
   "display_name": "Python 3",
   "language": "python",
   "name": "python3"
  },
  "language_info": {
   "codemirror_mode": {
    "name": "ipython",
    "version": 3
   },
   "file_extension": ".py",
   "mimetype": "text/x-python",
   "name": "python",
   "nbconvert_exporter": "python",
   "pygments_lexer": "ipython3",
   "version": "3.7.2"
  }
 },
 "nbformat": 4,
 "nbformat_minor": 2
}
