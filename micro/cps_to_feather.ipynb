{
 "cells": [
  {
   "cell_type": "code",
   "execution_count": 1,
   "metadata": {
    "ExecuteTime": {
     "end_time": "2018-09-18T17:00:56.277722Z",
     "start_time": "2018-09-18T17:00:53.507905Z"
    },
    "code_folding": []
   },
   "outputs": [
    {
     "ename": "FileNotFoundError",
     "evalue": "[Errno 2] No such file or directory: 'E:/08_Other/Archive/cps_dictionaries.pkl'",
     "output_type": "error",
     "traceback": [
      "\u001b[1;31m---------------------------------------------------------------------------\u001b[0m",
      "\u001b[1;31mFileNotFoundError\u001b[0m                         Traceback (most recent call last)",
      "\u001b[1;32m<ipython-input-1-78869d060765>\u001b[0m in \u001b[0;36m<module>\u001b[1;34m()\u001b[0m\n\u001b[0;32m      9\u001b[0m \u001b[1;33m\u001b[0m\u001b[0m\n\u001b[0;32m     10\u001b[0m \u001b[1;31m# Open data dictionary\u001b[0m\u001b[1;33m\u001b[0m\u001b[1;33m\u001b[0m\u001b[0m\n\u001b[1;32m---> 11\u001b[1;33m \u001b[0mdd\u001b[0m \u001b[1;33m=\u001b[0m \u001b[0mpickle\u001b[0m\u001b[1;33m.\u001b[0m\u001b[0mload\u001b[0m\u001b[1;33m(\u001b[0m\u001b[0mopen\u001b[0m\u001b[1;33m(\u001b[0m\u001b[1;34mf'{path}cps_dictionaries.pkl'\u001b[0m\u001b[1;33m,\u001b[0m \u001b[1;34m'rb'\u001b[0m\u001b[1;33m)\u001b[0m\u001b[1;33m)\u001b[0m\u001b[1;33m\u001b[0m\u001b[0m\n\u001b[0m",
      "\u001b[1;31mFileNotFoundError\u001b[0m: [Errno 2] No such file or directory: 'E:/08_Other/Archive/cps_dictionaries.pkl'"
     ]
    }
   ],
   "source": [
    "# Import python packages\n",
    "import pandas as pd\n",
    "import numpy as np\n",
    "import struct, os\n",
    "import pickle \n",
    "\n",
    "# Data path\n",
    "path = 'E:/08_Other/Archive/'\n",
    "\n",
    "# Open data dictionary\n",
    "dd = pickle.load(open(f'{path}cps_dictionaries.pkl', 'rb'))"
   ]
  },
  {
   "cell_type": "code",
   "execution_count": 2,
   "metadata": {
    "ExecuteTime": {
     "end_time": "2018-08-27T13:37:19.902812Z",
     "start_time": "2018-08-27T13:37:19.887187Z"
    },
    "code_folding": []
   },
   "outputs": [],
   "source": [
    "# Parse external data dictionary file\n",
    "\n",
    "# Read externally created data dictionary\n",
    "d = {i[0]: [(i[1]-1), i[1]-1+i[2], f'{i[2]}s'] \n",
    "     for i in dd['January_2017_Record_Layout.txt']['vlist']}\n",
    "\n",
    "# Identify datatimes by variable length\n",
    "dtypes = [(k, 'int8' if int(v[2].replace('s', '')) < 3 \n",
    "           else 'int16' if int(v[2].replace('s', '')) < 6 \n",
    "           else 'int32' if int(v[2].replace('s', '')) < 15 \n",
    "           else 'object') for k, v in d.items()]"
   ]
  },
  {
   "cell_type": "code",
   "execution_count": 16,
   "metadata": {
    "ExecuteTime": {
     "end_time": "2018-08-27T14:30:09.178280Z",
     "start_time": "2018-08-27T14:30:09.147032Z"
    },
    "code_folding": []
   },
   "outputs": [],
   "source": [
    "# Functions for annual CPS feather files\n",
    "\n",
    "def cps_to_feather(path, year, data_dict, dtypes):\n",
    "    \"\"\"Convert combined data to feather format df\"\"\"\n",
    "    # Combine monthly data into one list\n",
    "    combined_monthly_files = combine_data(path, year, data_dict)\n",
    "    \n",
    "    # Read into numpy and set datatypes\n",
    "    np_annual_cps = np.array(combined_monthly_files, dtype=dtypes)\n",
    "    \n",
    "    # Convert to pandas dataframe\n",
    "    df = pd.DataFrame(np_annual_cps)\n",
    "\n",
    "    # Store as feather format file\n",
    "    df.to_feather(f'data/cps_{year}x.ft')\n",
    "    \n",
    "    print(f'{year} Complete ({len(df)} obs.): data/cps_{year}x.ft')\n",
    "\n",
    "def combine_data(path, year, data_dict):\n",
    "    \"\"\"Read and combine monthly CPS data for given year\"\"\"\n",
    "    # List of files from requested year\n",
    "    data_dir = os.listdir(f'{path}data/')\n",
    "    monthly_file_list = [mo_file for mo_file in data_dir\n",
    "         if mo_file.endswith(f'{year % 100}pub.dat')]\n",
    "    \n",
    "    unpacker = unpack(data_dict) # Create struct unpacker\n",
    "    \n",
    "    wgt = d['PWSSWGT']  # Location of sample weight variable\n",
    "    \n",
    "    # List to fill with monthly CPS dfs\n",
    "    combined_data = []\n",
    "    \n",
    "    # Loop over monthly files, read and add to combined_data\n",
    "    for file in monthly_file_list:\n",
    "        raw_monthly_data = open(f'{path}data/{file}', 'rb')\n",
    "        # Filter raw data to keep only valid sample weight obs\n",
    "        mo_data = [unpacker(row) for row in raw_monthly_data \n",
    "                   if row[wgt[0]:wgt[1]] != b'-1        ']\n",
    "        # Add current month to combined_data\n",
    "        combined_data.extend(mo_data)\n",
    "        \n",
    "    return(combined_data)\n",
    "\n",
    "def unpack(data_dict):\n",
    "    \"\"\"Creates struct unpacker from variable data\"\"\"\n",
    "    # lists of variable starts, ends, and lengths\n",
    "    start, end, width = zip(*data_dict.values())\n",
    "\n",
    "    # create list of which characters to skip in each row\n",
    "    skip = ([f'{st - en}x' if (st - en) > 0 else '' \n",
    "             for st, en in zip(start, [0] + list(end[:-1]))])\n",
    "\n",
    "    # create format string by joining skip and variable segments\n",
    "    unpack_fmt = ''.join([j for i in zip(skip, width) for j in i])\n",
    "\n",
    "    # struct can interpret row bytes with the format string\n",
    "    return(struct.Struct(unpack_fmt).unpack_from)"
   ]
  },
  {
   "cell_type": "code",
   "execution_count": 17,
   "metadata": {
    "ExecuteTime": {
     "end_time": "2018-08-27T14:30:32.975079Z",
     "start_time": "2018-08-27T14:30:11.787648Z"
    }
   },
   "outputs": [
    {
     "name": "stdout",
     "output_type": "stream",
     "text": [
      "2017 Complete (1530207 obs.): data/cps_2017x.ft\n"
     ]
    }
   ],
   "source": [
    "cps_to_feather(path, 2017, d, dtypes)"
   ]
  },
  {
   "cell_type": "code",
   "execution_count": null,
   "metadata": {},
   "outputs": [],
   "source": []
  },
  {
   "cell_type": "code",
   "execution_count": null,
   "metadata": {},
   "outputs": [],
   "source": []
  },
  {
   "cell_type": "code",
   "execution_count": 10,
   "metadata": {
    "ExecuteTime": {
     "end_time": "2018-08-27T14:27:02.819501Z",
     "start_time": "2018-08-27T14:27:02.803876Z"
    }
   },
   "outputs": [],
   "source": [
    "year = 2018"
   ]
  },
  {
   "cell_type": "code",
   "execution_count": 11,
   "metadata": {
    "ExecuteTime": {
     "end_time": "2018-08-27T14:27:08.178860Z",
     "start_time": "2018-08-27T14:27:08.147611Z"
    }
   },
   "outputs": [
    {
     "data": {
      "text/plain": [
       "18"
      ]
     },
     "execution_count": 11,
     "metadata": {},
     "output_type": "execute_result"
    }
   ],
   "source": [
    "year % 100"
   ]
  },
  {
   "cell_type": "code",
   "execution_count": null,
   "metadata": {},
   "outputs": [],
   "source": []
  },
  {
   "cell_type": "code",
   "execution_count": null,
   "metadata": {},
   "outputs": [],
   "source": []
  },
  {
   "cell_type": "code",
   "execution_count": null,
   "metadata": {},
   "outputs": [],
   "source": []
  },
  {
   "cell_type": "code",
   "execution_count": null,
   "metadata": {},
   "outputs": [],
   "source": []
  },
  {
   "cell_type": "code",
   "execution_count": null,
   "metadata": {},
   "outputs": [],
   "source": []
  },
  {
   "cell_type": "code",
   "execution_count": null,
   "metadata": {},
   "outputs": [],
   "source": []
  },
  {
   "cell_type": "code",
   "execution_count": null,
   "metadata": {},
   "outputs": [],
   "source": []
  },
  {
   "cell_type": "code",
   "execution_count": null,
   "metadata": {},
   "outputs": [],
   "source": []
  },
  {
   "cell_type": "code",
   "execution_count": null,
   "metadata": {
    "ExecuteTime": {
     "end_time": "2018-08-27T13:26:07.799862Z",
     "start_time": "2018-08-27T13:26:07.784237Z"
    }
   },
   "outputs": [],
   "source": [
    "def unpack(d):\n",
    "    \"\"\"Creates struct unpacker from variable data\"\"\"\n",
    "    # lists of variable starts, ends, and lengths\n",
    "    start, end, width = zip(*d.values())\n",
    "\n",
    "    # create list of which characters to skip in each row\n",
    "    skip = ([f'{s - e}x' if (s - e) > 0 else '' \n",
    "             for s, e in zip(start, [0] + list(end[:-1]))])\n",
    "\n",
    "    # create format string by joining skip and variable segments\n",
    "    unpack_fmt = ''.join([j for i in zip(skip, width) for j in i])\n",
    "\n",
    "    # struct can interpret row bytes with the format string\n",
    "    return(struct.Struct(unpack_fmt).unpack_from)"
   ]
  },
  {
   "cell_type": "code",
   "execution_count": null,
   "metadata": {
    "ExecuteTime": {
     "end_time": "2018-08-27T13:18:01.535793Z",
     "start_time": "2018-08-27T13:18:01.520168Z"
    }
   },
   "outputs": [],
   "source": [
    "def combine_data(path, year, d):\n",
    "    \"\"\"Read and combine monthly CPS data for given year\"\"\"\n",
    "    # List of files from requested year\n",
    "    flist = [f for f in os.listdir(f'{path}data/') \n",
    "         if f.endswith(f'{str(year)[2:]}pub.dat')]\n",
    "    \n",
    "    unpacker = unpack(d) # Create string format\n",
    "    \n",
    "    wgt = d['PWCMPWGT']  # Location of sample weight variable\n",
    "    \n",
    "    # List to fill with monthly CPS dfs\n",
    "    comb_data = []\n",
    "    \n",
    "    for file in flist:\n",
    "        raw_data = open(f'{path}data/{file}', 'rb')\n",
    "        \n",
    "        mo_data = [unpacker(row) for row in raw_data \n",
    "                   if row[wgt[0]:wgt[1]] != b'-1        ']\n",
    "        \n",
    "        comb_data.extend(mo_data)\n",
    "        \n",
    "    return(comb_data)"
   ]
  },
  {
   "cell_type": "code",
   "execution_count": null,
   "metadata": {
    "ExecuteTime": {
     "end_time": "2018-08-27T13:24:53.925099Z",
     "start_time": "2018-08-27T13:24:53.909473Z"
    }
   },
   "outputs": [],
   "source": [
    "def cps_to_feather(path, year, d, dtypes):\n",
    "    \"\"\"Convert combined data to feather format df\"\"\"\n",
    "    # Combine monthly data into one list\n",
    "    comb_data = combine_data(path, year, d)\n",
    "    \n",
    "    # Read into numpy and set datatypes\n",
    "    data = np.array(comb_data, dtype=dtypes)\n",
    "    \n",
    "    # Convert to pandas dataframe\n",
    "    df = pd.DataFrame(data)\n",
    "\n",
    "    # Store as feather format file\n",
    "    df.to_feather(f'data/cps_{year}x.ft')\n",
    "    \n",
    "    print(f'{year} Complete ({len(df)} obs.): data/cps_{year}x.ft')"
   ]
  },
  {
   "cell_type": "code",
   "execution_count": null,
   "metadata": {},
   "outputs": [],
   "source": []
  },
  {
   "cell_type": "code",
   "execution_count": null,
   "metadata": {},
   "outputs": [],
   "source": []
  },
  {
   "cell_type": "code",
   "execution_count": null,
   "metadata": {},
   "outputs": [],
   "source": []
  },
  {
   "cell_type": "code",
   "execution_count": null,
   "metadata": {},
   "outputs": [],
   "source": []
  },
  {
   "cell_type": "code",
   "execution_count": null,
   "metadata": {
    "ExecuteTime": {
     "end_time": "2018-08-27T13:04:14.885919Z",
     "start_time": "2018-08-27T13:04:14.870293Z"
    },
    "code_folding": []
   },
   "outputs": [],
   "source": [
    "def cps_reader(path, year, d):\n",
    "    # lists of variable starts, ends, and lengths\n",
    "    start, end, width = zip(*d.values())\n",
    "\n",
    "    # create list of which characters to skip in each row\n",
    "    skip = ([f'{s - e}x' if (s - e) > 0 else '' \n",
    "             for s, e in zip(start, [0] + list(end[:-1]))])\n",
    "\n",
    "    # create format string by joining skip and variable segments\n",
    "    unpack_fmt = ''.join([j for i in zip(skip, width) for j in i])\n",
    "\n",
    "    # struct can interpret row bytes with the format string\n",
    "    unpacker = struct.Struct(unpack_fmt).unpack_from\n",
    "    \n",
    "    # List of files from requested year\n",
    "    flist = [f for f in os.listdir(f'{path}data/') \n",
    "         if f.endswith(f'{str(year)[2:]}pub.dat')]\n",
    "    \n",
    "    wgt = d['PWCMPWGT']  # Location of sample weight variable\n",
    "    \n",
    "    # List to fill with monthly CPS dfs\n",
    "    comb_data = []\n",
    "    \n",
    "    for file in flist:\n",
    "        raw_data = open(f'{path}data/{file}', 'rb')\n",
    "        \n",
    "        mo_data = [unpacker(row) for row in raw_data \n",
    "                   if row[wgt[0]:wgt[1]] != b'-1        ']\n",
    "        \n",
    "        comb_data.extend(mo_data)   \n",
    "        \n",
    "    # Read into numpy and set datatypes\n",
    "    data = np.array(comb_data, dtype=dtypes)\n",
    "    \n",
    "    # Convert to pandas dataframe\n",
    "    df = pd.DataFrame(data)\n",
    "\n",
    "    # Store as feather format file\n",
    "    df.to_feather(f'data/cps_{year}x.ft')\n",
    "    \n",
    "    print(f'{year} Complete ({len(df)} obs.): data/cps_{year}x.ft')"
   ]
  },
  {
   "cell_type": "code",
   "execution_count": null,
   "metadata": {
    "ExecuteTime": {
     "end_time": "2018-08-27T13:04:28.901499Z",
     "start_time": "2018-08-27T13:04:17.245288Z"
    }
   },
   "outputs": [],
   "source": [
    "df = cps_reader(path, 2018, d)"
   ]
  },
  {
   "cell_type": "code",
   "execution_count": null,
   "metadata": {},
   "outputs": [],
   "source": []
  },
  {
   "cell_type": "code",
   "execution_count": null,
   "metadata": {},
   "outputs": [],
   "source": []
  },
  {
   "cell_type": "code",
   "execution_count": null,
   "metadata": {},
   "outputs": [],
   "source": []
  },
  {
   "cell_type": "code",
   "execution_count": null,
   "metadata": {},
   "outputs": [],
   "source": [
    "%load_ext line_profiler"
   ]
  },
  {
   "cell_type": "code",
   "execution_count": null,
   "metadata": {
    "ExecuteTime": {
     "end_time": "2018-08-27T06:20:38.477867Z",
     "start_time": "2018-08-27T06:20:24.897886Z"
    }
   },
   "outputs": [],
   "source": [
    "%lprun -f cps_reader cps_reader(path, 2018, d)"
   ]
  },
  {
   "cell_type": "code",
   "execution_count": null,
   "metadata": {
    "ExecuteTime": {
     "end_time": "2018-08-27T06:19:48.697895Z",
     "start_time": "2018-08-27T06:19:42.658133Z"
    }
   },
   "outputs": [],
   "source": [
    "df.to_feather('test.ft')"
   ]
  },
  {
   "cell_type": "code",
   "execution_count": null,
   "metadata": {
    "ExecuteTime": {
     "end_time": "2018-08-27T13:05:20.698208Z",
     "start_time": "2018-08-27T13:05:20.541960Z"
    }
   },
   "outputs": [],
   "source": [
    "len(pd.read_feather('data/cps_2018.ft'))"
   ]
  },
  {
   "cell_type": "code",
   "execution_count": null,
   "metadata": {
    "ExecuteTime": {
     "end_time": "2018-08-27T06:22:03.748609Z",
     "start_time": "2018-08-27T06:22:02.838415Z"
    }
   },
   "outputs": [],
   "source": [
    "df"
   ]
  },
  {
   "cell_type": "code",
   "execution_count": null,
   "metadata": {
    "ExecuteTime": {
     "end_time": "2018-08-27T06:10:59.107960Z",
     "start_time": "2018-08-27T06:10:59.077867Z"
    }
   },
   "outputs": [],
   "source": []
  },
  {
   "cell_type": "code",
   "execution_count": null,
   "metadata": {},
   "outputs": [],
   "source": []
  },
  {
   "cell_type": "code",
   "execution_count": null,
   "metadata": {},
   "outputs": [],
   "source": []
  },
  {
   "cell_type": "code",
   "execution_count": null,
   "metadata": {
    "ExecuteTime": {
     "end_time": "2018-08-27T05:21:08.705708Z",
     "start_time": "2018-08-27T05:21:08.685508Z"
    }
   },
   "outputs": [],
   "source": [
    "d = {i[0]: [(i[1]-1), i[1]-1+i[2], f'{i[2]}s'] \n",
    "     for i in dd['January_2017_Record_Layout.txt']['vlist']}\n",
    "\n",
    "dtypes = [(k, 'int8' if int(v[2].replace('s', '')) < 3 \n",
    "           else 'int16' if int(v[2].replace('s', '')) < 6 \n",
    "           else 'int32' if int(v[2].replace('s', '')) < 15 \n",
    "           else object) for k, v in d.items()]"
   ]
  },
  {
   "cell_type": "code",
   "execution_count": null,
   "metadata": {
    "ExecuteTime": {
     "end_time": "2018-08-27T05:21:19.105744Z",
     "start_time": "2018-08-27T05:21:19.085964Z"
    }
   },
   "outputs": [],
   "source": [
    "file = 'apr18pub.dat'\n",
    "year = 2018"
   ]
  },
  {
   "cell_type": "code",
   "execution_count": null,
   "metadata": {
    "ExecuteTime": {
     "end_time": "2018-08-27T05:37:39.780925Z",
     "start_time": "2018-08-27T05:37:39.771392Z"
    }
   },
   "outputs": [],
   "source": [
    "# lists of variable starts, ends, and lengths\n",
    "start, end, width = zip(*d.values())\n",
    "\n",
    "# create list of which characters to skip in each row\n",
    "skip = ([f'{s - e}x' if (s - e) > 0 else '' \n",
    "         for s, e in zip(start, [0] + list(end[:-1]))])\n",
    "\n",
    "# create format string by joining skip and variable segments\n",
    "unpack_fmt = ''.join([j for i in zip(skip, width) for j in i])\n",
    "\n",
    "# end buffer\n",
    "eb = f'{1001 - struct.calcsize(unpack_fmt)}x'\n",
    "unpack_fmt = ''.join([unpack_fmt, eb])\n",
    "\n",
    "# struct can interpret row bytes with the format string\n",
    "unpacker = struct.Struct(unpack_fmt).unpack_from\n",
    "    \n",
    "# List of files from requested year\n",
    "flist = [f for f in os.listdir(f'{path}data/') \n",
    "         if f.endswith(f'{str(year)[2:]}pub.dat')]\n",
    "    \n",
    "wgt = d['PWCMPWGT']  # Location of sample weight variable"
   ]
  },
  {
   "cell_type": "code",
   "execution_count": null,
   "metadata": {
    "ExecuteTime": {
     "end_time": "2018-08-27T05:36:12.261265Z",
     "start_time": "2018-08-27T05:36:12.251595Z"
    }
   },
   "outputs": [],
   "source": [
    "eb = f'{1001 - struct.calcsize(unpack_fmt)}x'"
   ]
  },
  {
   "cell_type": "code",
   "execution_count": null,
   "metadata": {
    "ExecuteTime": {
     "end_time": "2018-08-27T05:33:17.202098Z",
     "start_time": "2018-08-27T05:33:16.961686Z"
    }
   },
   "outputs": [],
   "source": [
    "[len(i) for i in open(f'{path}data/{file}', 'rb')]"
   ]
  },
  {
   "cell_type": "code",
   "execution_count": null,
   "metadata": {
    "ExecuteTime": {
     "end_time": "2018-08-27T05:32:18.691687Z",
     "start_time": "2018-08-27T05:32:18.681721Z"
    }
   },
   "outputs": [],
   "source": []
  },
  {
   "cell_type": "code",
   "execution_count": null,
   "metadata": {
    "ExecuteTime": {
     "end_time": "2018-08-27T05:57:46.740739Z",
     "start_time": "2018-08-27T05:57:46.320415Z"
    }
   },
   "outputs": [],
   "source": [
    "data = open(f'{path}data/{file}', 'rb')\n",
    "t = struct.unpack(unpack_fmt*length, data.read())"
   ]
  },
  {
   "cell_type": "code",
   "execution_count": null,
   "metadata": {
    "ExecuteTime": {
     "end_time": "2018-08-27T05:56:56.520716Z",
     "start_time": "2018-08-27T05:56:55.930499Z"
    }
   },
   "outputs": [],
   "source": [
    "data = open(f'{path}data/{file}', 'rb')\n",
    "t = [unpacker(row) for row in data]"
   ]
  },
  {
   "cell_type": "code",
   "execution_count": null,
   "metadata": {
    "ExecuteTime": {
     "end_time": "2018-08-27T05:57:49.120448Z",
     "start_time": "2018-08-27T05:57:48.824341Z"
    }
   },
   "outputs": [],
   "source": [
    "t = [t[x:x+55] for x in range(0, len(t), 55)]"
   ]
  },
  {
   "cell_type": "code",
   "execution_count": null,
   "metadata": {
    "ExecuteTime": {
     "end_time": "2018-08-27T05:57:51.960469Z",
     "start_time": "2018-08-27T05:57:50.830371Z"
    }
   },
   "outputs": [],
   "source": [
    "a = np.array(t, dtype=dtypes)"
   ]
  },
  {
   "cell_type": "code",
   "execution_count": null,
   "metadata": {
    "ExecuteTime": {
     "end_time": "2018-08-27T05:57:53.100506Z",
     "start_time": "2018-08-27T05:57:52.940306Z"
    }
   },
   "outputs": [],
   "source": [
    "pd.DataFrame(a)"
   ]
  },
  {
   "cell_type": "code",
   "execution_count": null,
   "metadata": {
    "ExecuteTime": {
     "end_time": "2018-08-27T05:44:13.146693Z",
     "start_time": "2018-08-27T05:44:12.896988Z"
    }
   },
   "outputs": [],
   "source": [
    "length = len(open(f'{path}data/{file}', 'rb').readlines())"
   ]
  },
  {
   "cell_type": "code",
   "execution_count": null,
   "metadata": {
    "ExecuteTime": {
     "end_time": "2018-08-27T05:44:39.626576Z",
     "start_time": "2018-08-27T05:44:39.597041Z"
    }
   },
   "outputs": [],
   "source": [
    "length"
   ]
  },
  {
   "cell_type": "code",
   "execution_count": null,
   "metadata": {
    "ExecuteTime": {
     "end_time": "2018-08-27T05:42:57.256771Z",
     "start_time": "2018-08-27T05:42:57.250748Z"
    }
   },
   "outputs": [],
   "source": [
    "data.readlines()"
   ]
  },
  {
   "cell_type": "code",
   "execution_count": null,
   "metadata": {
    "ExecuteTime": {
     "end_time": "2018-08-27T05:28:58.427427Z",
     "start_time": "2018-08-27T05:28:58.398982Z"
    }
   },
   "outputs": [],
   "source": [
    "open(f'{path}data/{file}', 'rb').read(1)"
   ]
  },
  {
   "cell_type": "code",
   "execution_count": null,
   "metadata": {},
   "outputs": [],
   "source": []
  },
  {
   "cell_type": "code",
   "execution_count": null,
   "metadata": {},
   "outputs": [],
   "source": []
  },
  {
   "cell_type": "code",
   "execution_count": null,
   "metadata": {},
   "outputs": [],
   "source": []
  },
  {
   "cell_type": "code",
   "execution_count": null,
   "metadata": {},
   "outputs": [],
   "source": []
  },
  {
   "cell_type": "code",
   "execution_count": null,
   "metadata": {},
   "outputs": [],
   "source": []
  },
  {
   "cell_type": "code",
   "execution_count": null,
   "metadata": {
    "ExecuteTime": {
     "end_time": "2018-08-27T03:19:20.840201Z",
     "start_time": "2018-08-27T03:19:20.699561Z"
    }
   },
   "outputs": [],
   "source": [
    "len(pd.read_feather('data/cps_2018.ft'))"
   ]
  },
  {
   "cell_type": "code",
   "execution_count": null,
   "metadata": {
    "ExecuteTime": {
     "end_time": "2018-08-27T03:47:03.100491Z",
     "start_time": "2018-08-27T03:47:03.084868Z"
    }
   },
   "outputs": [],
   "source": [
    "import re"
   ]
  },
  {
   "cell_type": "code",
   "execution_count": null,
   "metadata": {
    "ExecuteTime": {
     "end_time": "2018-08-27T03:48:33.537717Z",
     "start_time": "2018-08-27T03:48:33.428326Z"
    }
   },
   "outputs": [],
   "source": [
    "re.search(b'309025966210263', open(f'{path}data/{file}', 'rb').read())"
   ]
  },
  {
   "cell_type": "code",
   "execution_count": null,
   "metadata": {
    "ExecuteTime": {
     "end_time": "2018-08-27T03:50:13.178008Z",
     "start_time": "2018-08-27T03:50:13.146760Z"
    }
   },
   "outputs": [],
   "source": [
    "len(raw_data[0])"
   ]
  },
  {
   "cell_type": "code",
   "execution_count": null,
   "metadata": {
    "ExecuteTime": {
     "end_time": "2018-08-27T03:51:15.959057Z",
     "start_time": "2018-08-27T03:51:15.787184Z"
    }
   },
   "outputs": [],
   "source": [
    "unpacker(open(f'{path}data/{file}', 'rb').read()[3510507: 3511508])"
   ]
  },
  {
   "cell_type": "code",
   "execution_count": null,
   "metadata": {
    "ExecuteTime": {
     "end_time": "2018-08-27T03:45:06.241490Z",
     "start_time": "2018-08-27T03:45:06.163365Z"
    }
   },
   "outputs": [],
   "source": [
    "df[df['PWSSWGT']==0]"
   ]
  },
  {
   "cell_type": "code",
   "execution_count": null,
   "metadata": {
    "ExecuteTime": {
     "end_time": "2018-08-27T03:32:59.821939Z",
     "start_time": "2018-08-27T03:32:59.806315Z"
    }
   },
   "outputs": [],
   "source": [
    "unpack_wgt(raw_data[0])"
   ]
  },
  {
   "cell_type": "code",
   "execution_count": null,
   "metadata": {
    "ExecuteTime": {
     "end_time": "2018-08-27T03:22:47.120776Z",
     "start_time": "2018-08-27T03:22:47.105150Z"
    }
   },
   "outputs": [],
   "source": [
    "df.HRMONTH.unique()"
   ]
  },
  {
   "cell_type": "code",
   "execution_count": null,
   "metadata": {
    "ExecuteTime": {
     "end_time": "2018-08-27T03:03:24.981594Z",
     "start_time": "2018-08-27T03:03:24.950344Z"
    }
   },
   "outputs": [],
   "source": [
    "df.head()"
   ]
  },
  {
   "cell_type": "code",
   "execution_count": null,
   "metadata": {},
   "outputs": [],
   "source": [
    "b'          '"
   ]
  },
  {
   "cell_type": "code",
   "execution_count": null,
   "metadata": {
    "ExecuteTime": {
     "end_time": "2018-08-27T03:35:49.524522Z",
     "start_time": "2018-08-27T03:35:49.508896Z"
    }
   },
   "outputs": [],
   "source": [
    "'a' not in [b'0         ', b'-1        ']"
   ]
  },
  {
   "cell_type": "code",
   "execution_count": null,
   "metadata": {
    "ExecuteTime": {
     "end_time": "2018-08-27T03:23:46.823709Z",
     "start_time": "2018-08-27T03:23:46.808085Z"
    }
   },
   "outputs": [],
   "source": [
    "    flist = [f for f in os.listdir(f'{path}data/') \n",
    "         if f.endswith(f'{str(year)[2:]}pub.dat')]"
   ]
  },
  {
   "cell_type": "code",
   "execution_count": null,
   "metadata": {
    "ExecuteTime": {
     "end_time": "2018-08-27T03:23:50.495572Z",
     "start_time": "2018-08-27T03:23:50.479949Z"
    }
   },
   "outputs": [],
   "source": [
    "flist"
   ]
  },
  {
   "cell_type": "code",
   "execution_count": null,
   "metadata": {},
   "outputs": [],
   "source": []
  },
  {
   "cell_type": "code",
   "execution_count": null,
   "metadata": {
    "ExecuteTime": {
     "end_time": "2018-08-27T03:05:11.621893Z",
     "start_time": "2018-08-27T03:05:10.418760Z"
    }
   },
   "outputs": [],
   "source": [
    "df.to_feather(f'{path}cps_{year}x.ft')"
   ]
  },
  {
   "cell_type": "code",
   "execution_count": null,
   "metadata": {
    "ExecuteTime": {
     "end_time": "2018-08-27T03:06:40.878105Z",
     "start_time": "2018-08-27T03:06:40.846857Z"
    }
   },
   "outputs": [],
   "source": [
    "f'{path}cps_{year}x.ft'"
   ]
  },
  {
   "cell_type": "code",
   "execution_count": null,
   "metadata": {
    "ExecuteTime": {
     "end_time": "2018-08-27T03:13:19.054289Z",
     "start_time": "2018-08-27T03:13:19.038666Z"
    }
   },
   "outputs": [],
   "source": [
    "data[0][0].isdigit()"
   ]
  },
  {
   "cell_type": "code",
   "execution_count": null,
   "metadata": {
    "ExecuteTime": {
     "end_time": "2018-08-27T04:17:34.350841Z",
     "start_time": "2018-08-27T04:17:34.335216Z"
    }
   },
   "outputs": [],
   "source": [
    "%load_ext line_profiler"
   ]
  },
  {
   "cell_type": "code",
   "execution_count": null,
   "metadata": {
    "ExecuteTime": {
     "end_time": "2018-08-27T02:22:27.717067Z",
     "start_time": "2018-08-27T02:22:27.701445Z"
    }
   },
   "outputs": [],
   "source": [
    "file = 'apr18pub.dat'\n",
    "year = 2018"
   ]
  },
  {
   "cell_type": "code",
   "execution_count": null,
   "metadata": {
    "ExecuteTime": {
     "end_time": "2018-08-27T04:17:49.143310Z",
     "start_time": "2018-08-27T04:17:37.265776Z"
    }
   },
   "outputs": [],
   "source": [
    "%lprun -f cps_reader cps_reader(path, 2018, d)"
   ]
  },
  {
   "cell_type": "code",
   "execution_count": null,
   "metadata": {
    "ExecuteTime": {
     "end_time": "2018-08-27T02:26:51.653737Z",
     "start_time": "2018-08-27T02:26:51.356850Z"
    }
   },
   "outputs": [],
   "source": [
    "raw_data = open(f'{path}data/{file}', 'rb').readlines()"
   ]
  },
  {
   "cell_type": "code",
   "execution_count": null,
   "metadata": {
    "ExecuteTime": {
     "end_time": "2018-08-27T02:23:27.248127Z",
     "start_time": "2018-08-27T02:23:27.170001Z"
    }
   },
   "outputs": [],
   "source": [
    "# lists of variable starts, ends, and lengths\n",
    "start, end, width = zip(*d.values())\n",
    "\n",
    "# create list of which characters to skip in each row\n",
    "skip = ([f'{s - e}x' if (s - e) > 0 else '' \n",
    "         for s, e in zip(start, [0] + list(end[:-1]))])\n",
    "\n",
    "# create format string by joining skip and variable segments\n",
    "unpack_fmt = ''.join([j for i in zip(skip, width) for j in i])\n",
    "\n",
    "# struct can interpret row bytes with the format string\n",
    "unpacker = struct.Struct(unpack_fmt).unpack_from\n",
    "    \n",
    "# List of files from requested year\n",
    "flist = [f for f in os.listdir(f'{path}data/') \n",
    "         if f.endswith(f'{str(year)[2:]}pub.dat')]\n",
    "    \n",
    "wgt = d['PWCMPWGT']  # Location of sample weight variable\n",
    "    \n",
    "# Format to capture the sample weight\n",
    "wgt_unpack = f'{wgt[0]}x{wgt[2]}'\n",
    "\n",
    "# struct can interpret row bytes with the format string\n",
    "unpack_wgt = struct.Struct(wgt_unpack).unpack_from\n",
    "\n",
    "[unpacker(row) for row in raw_data if int(unpack_wgt(raw_data[0])[0]) > 0]"
   ]
  },
  {
   "cell_type": "code",
   "execution_count": null,
   "metadata": {
    "ExecuteTime": {
     "end_time": "2018-08-27T02:30:48.782375Z",
     "start_time": "2018-08-27T02:30:48.469874Z"
    }
   },
   "outputs": [],
   "source": [
    "data = [unpacker(row) for row in raw_data if int(unpack_wgt(row)[0]) > 0]"
   ]
  },
  {
   "cell_type": "code",
   "execution_count": null,
   "metadata": {
    "ExecuteTime": {
     "end_time": "2018-08-27T02:56:45.342248Z",
     "start_time": "2018-08-27T02:56:45.326622Z"
    }
   },
   "outputs": [],
   "source": [
    "[int(i[2].replace('s', '')) for i in d.values()]"
   ]
  },
  {
   "cell_type": "code",
   "execution_count": null,
   "metadata": {
    "ExecuteTime": {
     "end_time": "2018-08-27T02:59:15.060519Z",
     "start_time": "2018-08-27T02:59:14.185520Z"
    }
   },
   "outputs": [],
   "source": [
    "pd.DataFrame(np.array(data, dtype=dtypes))"
   ]
  },
  {
   "cell_type": "code",
   "execution_count": null,
   "metadata": {
    "ExecuteTime": {
     "end_time": "2018-08-27T02:58:48.466854Z",
     "start_time": "2018-08-27T02:58:48.451229Z"
    }
   },
   "outputs": [],
   "source": [
    "dtypes = [(k, np.int8 if int(v[2].replace('s', '')) < 3 \n",
    "           else np.int16 if int(v[2].replace('s', '')) < 6 \n",
    "           else np.int32 if int(v[2].replace('s', '')) < 15 \n",
    "           else object) for k, v in d.items()]"
   ]
  },
  {
   "cell_type": "code",
   "execution_count": null,
   "metadata": {},
   "outputs": [],
   "source": []
  },
  {
   "cell_type": "code",
   "execution_count": null,
   "metadata": {
    "ExecuteTime": {
     "end_time": "2018-08-27T02:37:43.707819Z",
     "start_time": "2018-08-27T02:37:42.942195Z"
    }
   },
   "outputs": [],
   "source": [
    "d = pd.DataFrame(data)"
   ]
  },
  {
   "cell_type": "code",
   "execution_count": null,
   "metadata": {
    "ExecuteTime": {
     "end_time": "2018-08-27T02:33:00.209076Z",
     "start_time": "2018-08-27T02:33:00.193454Z"
    }
   },
   "outputs": [],
   "source": [
    "int(data[0][0])"
   ]
  },
  {
   "cell_type": "code",
   "execution_count": null,
   "metadata": {
    "ExecuteTime": {
     "end_time": "2018-08-27T03:17:52.981092Z",
     "start_time": "2018-08-27T03:17:52.965468Z"
    }
   },
   "outputs": [],
   "source": [
    "b'-1'"
   ]
  },
  {
   "cell_type": "code",
   "execution_count": null,
   "metadata": {
    "ExecuteTime": {
     "end_time": "2018-08-27T02:34:42.276585Z",
     "start_time": "2018-08-27T02:34:42.260962Z"
    }
   },
   "outputs": [],
   "source": [
    "import numpy as np"
   ]
  },
  {
   "cell_type": "code",
   "execution_count": null,
   "metadata": {},
   "outputs": [],
   "source": []
  },
  {
   "cell_type": "code",
   "execution_count": null,
   "metadata": {
    "ExecuteTime": {
     "end_time": "2018-08-27T02:27:00.700568Z",
     "start_time": "2018-08-27T02:27:00.684945Z"
    }
   },
   "outputs": [],
   "source": [
    "int(unpack_wgt(raw_data[0])[0])"
   ]
  },
  {
   "cell_type": "code",
   "execution_count": null,
   "metadata": {
    "ExecuteTime": {
     "end_time": "2018-08-27T02:28:13.090962Z",
     "start_time": "2018-08-27T02:28:12.372228Z"
    }
   },
   "outputs": [],
   "source": [
    "[unpacker(row) for row in raw_data if int(unpack_wgt(raw))]"
   ]
  },
  {
   "cell_type": "code",
   "execution_count": null,
   "metadata": {},
   "outputs": [],
   "source": []
  },
  {
   "cell_type": "code",
   "execution_count": null,
   "metadata": {
    "ExecuteTime": {
     "end_time": "2018-08-27T00:30:42.791575Z",
     "start_time": "2018-08-27T00:30:42.771426Z"
    }
   },
   "outputs": [],
   "source": [
    "[unpacker(*raw_data)]"
   ]
  },
  {
   "cell_type": "code",
   "execution_count": null,
   "metadata": {
    "ExecuteTime": {
     "end_time": "2018-08-27T02:20:26.061206Z",
     "start_time": "2018-08-27T02:20:25.904959Z"
    }
   },
   "outputs": [],
   "source": [
    "raw_data"
   ]
  },
  {
   "cell_type": "code",
   "execution_count": null,
   "metadata": {
    "ExecuteTime": {
     "end_time": "2018-08-27T00:32:02.110944Z",
     "start_time": "2018-08-27T00:32:02.081266Z"
    }
   },
   "outputs": [],
   "source": [
    "raw_data[0]"
   ]
  },
  {
   "cell_type": "code",
   "execution_count": null,
   "metadata": {
    "ExecuteTime": {
     "end_time": "2018-08-27T01:23:56.007106Z",
     "start_time": "2018-08-27T01:23:54.607180Z"
    }
   },
   "outputs": [],
   "source": [
    "data = [[int(i) for i in unpacker(row)] for row in raw_data if int(row[wgt[0]:wgt[1]]) > 0]"
   ]
  },
  {
   "cell_type": "code",
   "execution_count": null,
   "metadata": {
    "ExecuteTime": {
     "end_time": "2018-08-27T01:24:50.237415Z",
     "start_time": "2018-08-27T01:24:49.127155Z"
    }
   },
   "outputs": [],
   "source": [
    "data = [[*map(int, unpacker(row))] for row in raw_data if int(row[wgt[0]:wgt[1]]) > 0]"
   ]
  },
  {
   "cell_type": "code",
   "execution_count": null,
   "metadata": {
    "ExecuteTime": {
     "end_time": "2018-08-27T01:24:52.197141Z",
     "start_time": "2018-08-27T01:24:51.767529Z"
    }
   },
   "outputs": [],
   "source": [
    "data"
   ]
  },
  {
   "cell_type": "code",
   "execution_count": null,
   "metadata": {},
   "outputs": [],
   "source": []
  },
  {
   "cell_type": "code",
   "execution_count": null,
   "metadata": {
    "ExecuteTime": {
     "end_time": "2018-08-27T01:28:08.207040Z",
     "start_time": "2018-08-27T01:28:08.187118Z"
    }
   },
   "outputs": [],
   "source": [
    "# Format to capture the sample weight\n",
    "wgt_unpack = f'{wgt[0]}x{wgt[2]}'\n",
    "\n",
    "# struct can interpret row bytes with the format string\n",
    "unpack_wgt = struct.Struct(wgt_unpack).unpack_from\n",
    "\n",
    "int(unpack_wgt(raw_data[0])[0]) > 0"
   ]
  },
  {
   "cell_type": "code",
   "execution_count": null,
   "metadata": {
    "ExecuteTime": {
     "end_time": "2018-08-27T01:29:01.137207Z",
     "start_time": "2018-08-27T01:29:01.117402Z"
    }
   },
   "outputs": [],
   "source": [
    "int(unpack_wgt(raw_data[0])[0]) > 0"
   ]
  },
  {
   "cell_type": "code",
   "execution_count": null,
   "metadata": {},
   "outputs": [],
   "source": []
  },
  {
   "cell_type": "code",
   "execution_count": null,
   "metadata": {
    "ExecuteTime": {
     "end_time": "2018-08-27T01:26:03.397378Z",
     "start_time": "2018-08-27T01:26:03.377544Z"
    }
   },
   "outputs": [],
   "source": [
    "wgt"
   ]
  },
  {
   "cell_type": "code",
   "execution_count": null,
   "metadata": {
    "ExecuteTime": {
     "end_time": "2018-08-27T01:01:52.128979Z",
     "start_time": "2018-08-27T01:01:50.888877Z"
    }
   },
   "outputs": [],
   "source": [
    "df = pd.DataFrame(data, columns=d.keys())"
   ]
  },
  {
   "cell_type": "code",
   "execution_count": null,
   "metadata": {
    "ExecuteTime": {
     "end_time": "2018-08-27T01:16:06.476840Z",
     "start_time": "2018-08-27T01:16:06.266862Z"
    }
   },
   "outputs": [],
   "source": [
    "df"
   ]
  },
  {
   "cell_type": "code",
   "execution_count": null,
   "metadata": {
    "ExecuteTime": {
     "end_time": "2018-08-27T00:38:44.362364Z",
     "start_time": "2018-08-27T00:38:44.342097Z"
    }
   },
   "outputs": [],
   "source": [
    "list(map(int, data))"
   ]
  },
  {
   "cell_type": "code",
   "execution_count": null,
   "metadata": {},
   "outputs": [],
   "source": [
    "open()"
   ]
  },
  {
   "cell_type": "code",
   "execution_count": null,
   "metadata": {
    "ExecuteTime": {
     "end_time": "2018-08-27T00:42:23.141429Z",
     "start_time": "2018-08-27T00:42:23.121331Z"
    }
   },
   "outputs": [],
   "source": [
    "[int.from_bytes(i) for i in data[0]]"
   ]
  },
  {
   "cell_type": "code",
   "execution_count": null,
   "metadata": {
    "ExecuteTime": {
     "end_time": "2018-08-27T00:48:52.020413Z",
     "start_time": "2018-08-27T00:48:52.000277Z"
    }
   },
   "outputs": [],
   "source": [
    "int(data[0][0])"
   ]
  },
  {
   "cell_type": "code",
   "execution_count": null,
   "metadata": {},
   "outputs": [],
   "source": []
  },
  {
   "cell_type": "code",
   "execution_count": null,
   "metadata": {},
   "outputs": [],
   "source": [
    "data = [[[*map(int, unpacker(row))]\n",
    "         for row in open(f'{path}data/{f}', 'rb').readlines() \n",
    "         if int(row[wgt[0]:wgt[1]]) > 0]\n",
    "        for f in flist]"
   ]
  },
  {
   "cell_type": "code",
   "execution_count": null,
   "metadata": {},
   "outputs": [],
   "source": [
    "    sel_data = [[*map(int, unpacker(row))] \n",
    "                for row in raw_data \n",
    "                if int(row[wgt[0]:wgt[1]]) > 0]"
   ]
  },
  {
   "cell_type": "code",
   "execution_count": null,
   "metadata": {},
   "outputs": [],
   "source": []
  },
  {
   "cell_type": "code",
   "execution_count": null,
   "metadata": {},
   "outputs": [],
   "source": []
  },
  {
   "cell_type": "code",
   "execution_count": null,
   "metadata": {
    "ExecuteTime": {
     "end_time": "2018-08-27T00:21:57.793095Z",
     "start_time": "2018-08-27T00:21:57.576713Z"
    }
   },
   "outputs": [],
   "source": [
    "df"
   ]
  },
  {
   "cell_type": "code",
   "execution_count": null,
   "metadata": {},
   "outputs": [],
   "source": []
  },
  {
   "cell_type": "code",
   "execution_count": null,
   "metadata": {
    "ExecuteTime": {
     "end_time": "2018-08-26T23:55:49.567473Z",
     "start_time": "2018-08-26T23:55:49.507425Z"
    }
   },
   "outputs": [],
   "source": [
    "# lists of variable starts, ends, and lengths\n",
    "start, end, width = zip(*d.values())\n",
    "\n",
    "# create list of which characters to skip in each row\n",
    "skip = ([f'{s - e}x' if (s - e) > 0 else '' \n",
    "         for s, e in zip(start, [0] + list(end[:-1]))])\n",
    "\n",
    "# create format string by joining skip and variable segments\n",
    "unpack_fmt = ''.join([j for i in zip(skip, width) for j in i])\n",
    "print(unpack_fmt)\n",
    "\n",
    "# struct can interpret row bytes with the format string\n",
    "unpacker = struct.Struct(unpack_fmt).unpack_from"
   ]
  },
  {
   "cell_type": "code",
   "execution_count": null,
   "metadata": {
    "ExecuteTime": {
     "end_time": "2018-08-26T23:55:34.387437Z",
     "start_time": "2018-08-26T23:55:34.377918Z"
    }
   },
   "outputs": [],
   "source": [
    "year = 2018\n",
    "flist = [f for f in os.listdir(f'{path}data/') \n",
    "         if f.endswith(f'{str(year)[2:]}pub.dat')]"
   ]
  },
  {
   "cell_type": "code",
   "execution_count": null,
   "metadata": {
    "ExecuteTime": {
     "end_time": "2018-08-26T23:55:41.187387Z",
     "start_time": "2018-08-26T23:55:41.171519Z"
    }
   },
   "outputs": [],
   "source": [
    "wgt = d['PWCMPWGT']  # Location of sample weight variable"
   ]
  },
  {
   "cell_type": "code",
   "execution_count": null,
   "metadata": {
    "ExecuteTime": {
     "end_time": "2018-08-26T23:30:35.855364Z",
     "start_time": "2018-08-26T23:30:15.105588Z"
    }
   },
   "outputs": [],
   "source": [
    "df = (pd.DataFrame([[*map(int, unpacker(row))] \n",
    "            for row in itertools.chain(*[open(f'{path}data/{f}', 'rb').readlines() for f in flist])\n",
    "            if int(row[wgt[0]:wgt[1]]) > 0], columns=d.keys(), dtypes=)"
   ]
  },
  {
   "cell_type": "code",
   "execution_count": null,
   "metadata": {},
   "outputs": [],
   "source": []
  },
  {
   "cell_type": "code",
   "execution_count": null,
   "metadata": {},
   "outputs": [],
   "source": [
    "def cps_reader(year, d):\n",
    "    "
   ]
  },
  {
   "cell_type": "code",
   "execution_count": null,
   "metadata": {},
   "outputs": [],
   "source": []
  },
  {
   "cell_type": "code",
   "execution_count": null,
   "metadata": {
    "ExecuteTime": {
     "end_time": "2018-08-27T00:13:12.569428Z",
     "start_time": "2018-08-27T00:13:02.429688Z"
    }
   },
   "outputs": [],
   "source": [
    "data = [[[*map(int, unpacker(row))]\n",
    "         for row in open(f'{path}data/{f}', 'rb').readlines() \n",
    "         if int(row[wgt[0]:wgt[1]]) > 0]\n",
    "        for f in flist]"
   ]
  },
  {
   "cell_type": "code",
   "execution_count": null,
   "metadata": {
    "ExecuteTime": {
     "end_time": "2018-08-27T00:13:16.790831Z",
     "start_time": "2018-08-27T00:13:13.829518Z"
    }
   },
   "outputs": [],
   "source": [
    "data"
   ]
  },
  {
   "cell_type": "code",
   "execution_count": null,
   "metadata": {},
   "outputs": [],
   "source": []
  },
  {
   "cell_type": "code",
   "execution_count": null,
   "metadata": {
    "ExecuteTime": {
     "end_time": "2018-08-26T23:36:55.058195Z",
     "start_time": "2018-08-26T23:36:54.828141Z"
    }
   },
   "outputs": [],
   "source": [
    "df"
   ]
  },
  {
   "cell_type": "code",
   "execution_count": null,
   "metadata": {},
   "outputs": [],
   "source": []
  },
  {
   "cell_type": "code",
   "execution_count": null,
   "metadata": {},
   "outputs": [],
   "source": []
  },
  {
   "cell_type": "code",
   "execution_count": null,
   "metadata": {},
   "outputs": [],
   "source": []
  },
  {
   "cell_type": "code",
   "execution_count": null,
   "metadata": {},
   "outputs": [],
   "source": []
  },
  {
   "cell_type": "code",
   "execution_count": null,
   "metadata": {},
   "outputs": [],
   "source": []
  },
  {
   "cell_type": "code",
   "execution_count": null,
   "metadata": {},
   "outputs": [],
   "source": []
  },
  {
   "cell_type": "code",
   "execution_count": null,
   "metadata": {},
   "outputs": [],
   "source": []
  },
  {
   "cell_type": "code",
   "execution_count": null,
   "metadata": {},
   "outputs": [],
   "source": []
  },
  {
   "cell_type": "code",
   "execution_count": null,
   "metadata": {},
   "outputs": [],
   "source": []
  },
  {
   "cell_type": "code",
   "execution_count": null,
   "metadata": {
    "ExecuteTime": {
     "end_time": "2018-08-26T23:27:38.728750Z",
     "start_time": "2018-08-26T23:27:34.439050Z"
    }
   },
   "outputs": [],
   "source": [
    "dlists = [open(f'{path}data/{f}', 'rb').readlines() for f in flist]\n",
    "\n",
    "data = list(itertools.chain(*[open(f'{path}data/{f}', 'rb').readlines() for f in flist]))"
   ]
  },
  {
   "cell_type": "code",
   "execution_count": null,
   "metadata": {},
   "outputs": [],
   "source": []
  },
  {
   "cell_type": "code",
   "execution_count": null,
   "metadata": {
    "ExecuteTime": {
     "end_time": "2018-08-26T23:28:56.627492Z",
     "start_time": "2018-08-26T23:28:47.397616Z"
    }
   },
   "outputs": [],
   "source": [
    "# Pandas dataframe of women age 25 to 54\n",
    "df = pd.DataFrame(sel_data, columns=d.keys())"
   ]
  },
  {
   "cell_type": "code",
   "execution_count": null,
   "metadata": {},
   "outputs": [],
   "source": [
    "columns = d[]"
   ]
  },
  {
   "cell_type": "code",
   "execution_count": null,
   "metadata": {},
   "outputs": [],
   "source": []
  },
  {
   "cell_type": "code",
   "execution_count": null,
   "metadata": {},
   "outputs": [],
   "source": []
  },
  {
   "cell_type": "code",
   "execution_count": null,
   "metadata": {},
   "outputs": [],
   "source": [
    "wgt = d['PWCMPWGT']  # Location of sample weight variable\n",
    "\n",
    "data = []\n",
    "\n",
    "# Loop over one year of files\n",
    "for f in flist:\n",
    "    # open file (read as binary) and read lines into \"raw_data\"\n",
    "    raw_data = open(f'{path}data/{f}', 'rb').readlines()\n",
    "    \n",
    "    # unpack and store data of interest if sample weight > 0\n",
    "    data.extend([[*map(int, unpacker(row))] for row in raw_data\n",
    "            if int(row[wgt[0]:wgt[1]]) > 0])"
   ]
  },
  {
   "cell_type": "code",
   "execution_count": null,
   "metadata": {},
   "outputs": [],
   "source": []
  },
  {
   "cell_type": "code",
   "execution_count": null,
   "metadata": {},
   "outputs": [],
   "source": []
  },
  {
   "cell_type": "code",
   "execution_count": null,
   "metadata": {},
   "outputs": [],
   "source": []
  },
  {
   "cell_type": "code",
   "execution_count": null,
   "metadata": {},
   "outputs": [],
   "source": []
  },
  {
   "cell_type": "code",
   "execution_count": null,
   "metadata": {},
   "outputs": [],
   "source": []
  },
  {
   "cell_type": "code",
   "execution_count": null,
   "metadata": {},
   "outputs": [],
   "source": []
  },
  {
   "cell_type": "code",
   "execution_count": null,
   "metadata": {},
   "outputs": [],
   "source": []
  },
  {
   "cell_type": "code",
   "execution_count": null,
   "metadata": {},
   "outputs": [],
   "source": []
  },
  {
   "cell_type": "code",
   "execution_count": null,
   "metadata": {},
   "outputs": [],
   "source": []
  },
  {
   "cell_type": "code",
   "execution_count": null,
   "metadata": {},
   "outputs": [],
   "source": []
  },
  {
   "cell_type": "code",
   "execution_count": null,
   "metadata": {
    "ExecuteTime": {
     "end_time": "2018-08-26T23:10:34.008399Z",
     "start_time": "2018-08-26T23:10:33.858405Z"
    }
   },
   "outputs": [],
   "source": [
    "dlists"
   ]
  },
  {
   "cell_type": "code",
   "execution_count": null,
   "metadata": {
    "ExecuteTime": {
     "end_time": "2018-08-26T23:14:22.054107Z",
     "start_time": "2018-08-26T23:14:21.933998Z"
    }
   },
   "outputs": [],
   "source": [
    "data = []\n",
    "list(map(data.extend, dlists))"
   ]
  },
  {
   "cell_type": "code",
   "execution_count": null,
   "metadata": {
    "ExecuteTime": {
     "end_time": "2018-08-26T23:15:40.662780Z",
     "start_time": "2018-08-26T23:15:40.622655Z"
    }
   },
   "outputs": [],
   "source": [
    "dlists[0]"
   ]
  },
  {
   "cell_type": "code",
   "execution_count": null,
   "metadata": {},
   "outputs": [],
   "source": []
  },
  {
   "cell_type": "code",
   "execution_count": null,
   "metadata": {},
   "outputs": [],
   "source": []
  },
  {
   "cell_type": "code",
   "execution_count": null,
   "metadata": {},
   "outputs": [],
   "source": []
  },
  {
   "cell_type": "code",
   "execution_count": null,
   "metadata": {},
   "outputs": [],
   "source": []
  },
  {
   "cell_type": "code",
   "execution_count": null,
   "metadata": {
    "ExecuteTime": {
     "end_time": "2018-08-26T22:51:20.556179Z",
     "start_time": "2018-08-26T22:51:19.616453Z"
    }
   },
   "outputs": [],
   "source": [
    "data = [[*map(int, unpacker(row))] \n",
    "        for row in (open(f'{path}data/{f}', 'rb').readlines() for f in flist)\n",
    "        if int(row[wgt[0]:wgt[1]]) > 0]"
   ]
  },
  {
   "cell_type": "code",
   "execution_count": null,
   "metadata": {
    "ExecuteTime": {
     "end_time": "2018-08-26T23:19:26.056797Z",
     "start_time": "2018-08-26T23:19:15.158628Z"
    }
   },
   "outputs": [],
   "source": [
    "wgt = d['PWCMPWGT']  # Location of sample weight variable\n",
    "\n",
    "data = []\n",
    "\n",
    "# Loop over one year of files\n",
    "for f in flist:\n",
    "    # open file (read as binary) and read lines into \"raw_data\"\n",
    "    raw_data = open(f'{path}data/{f}', 'rb').readlines()\n",
    "    \n",
    "    # unpack and store data of interest if sample weight > 0\n",
    "    data.extend([[*map(int, unpacker(row))] for row in raw_data\n",
    "            if int(row[wgt[0]:wgt[1]]) > 0])"
   ]
  },
  {
   "cell_type": "code",
   "execution_count": null,
   "metadata": {},
   "outputs": [],
   "source": [
    "data = []\n",
    "\n",
    "# Loop over one year of files\n",
    "for f in flist:\n",
    "    # open file (read as binary) and read lines into \"raw_data\"\n",
    "    raw_data = open(f'{path}data/{f}', 'rb').readlines()\n",
    "    \n",
    "    # unpack and store data of interest if sample weight > 0\n",
    "    data.extend([[*map(int, unpacker(row))] for row in raw_data\n",
    "            if int(row[wgt[0]:wgt[1]]) > 0])"
   ]
  },
  {
   "cell_type": "code",
   "execution_count": null,
   "metadata": {},
   "outputs": [],
   "source": [
    "[[*map(int, unpacker(row))] for row in open(f'{path}data/{f}', 'rb').readlines()\n",
    "            if int(row[wgt[0]:wgt[1]]) > 0]"
   ]
  },
  {
   "cell_type": "code",
   "execution_count": null,
   "metadata": {},
   "outputs": [],
   "source": []
  },
  {
   "cell_type": "code",
   "execution_count": null,
   "metadata": {},
   "outputs": [],
   "source": []
  },
  {
   "cell_type": "code",
   "execution_count": null,
   "metadata": {
    "ExecuteTime": {
     "end_time": "2018-08-26T23:19:33.038512Z",
     "start_time": "2018-08-26T23:19:32.598032Z"
    }
   },
   "outputs": [],
   "source": [
    "data"
   ]
  },
  {
   "cell_type": "code",
   "execution_count": null,
   "metadata": {},
   "outputs": [],
   "source": [
    "# open file (read as binary) and read lines into \"raw_data\"\n",
    "raw_data = open('apr17pub.dat', 'rb').readlines()\n",
    "\n",
    "wgt = d['PWCMPWGT']  # Location of sample weight variable\n",
    "\n",
    "# unpack and store data of interest if sample weight > 0\n",
    "data = [[*map(int, unpacker(row))] for row in raw_data\n",
    "        if int(row[wgt[0]:wgt[1]]) > 0]\n",
    "\n",
    "print(data[:5])"
   ]
  },
  {
   "cell_type": "code",
   "execution_count": null,
   "metadata": {
    "ExecuteTime": {
     "end_time": "2018-08-26T22:41:15.506180Z",
     "start_time": "2018-08-26T22:41:15.490560Z"
    }
   },
   "outputs": [],
   "source": [
    "d['PWCMPWGT']"
   ]
  },
  {
   "cell_type": "code",
   "execution_count": null,
   "metadata": {},
   "outputs": [],
   "source": [
    "wgt = d['PWCMPWGT']  # Location of sample weight variable"
   ]
  },
  {
   "cell_type": "code",
   "execution_count": null,
   "metadata": {
    "ExecuteTime": {
     "end_time": "2018-08-26T22:39:38.202342Z",
     "start_time": "2018-08-26T22:39:38.172427Z"
    }
   },
   "outputs": [],
   "source": [
    "flist"
   ]
  },
  {
   "cell_type": "code",
   "execution_count": null,
   "metadata": {
    "ExecuteTime": {
     "end_time": "2018-08-26T22:38:35.405208Z",
     "start_time": "2018-08-26T22:38:35.375066Z"
    }
   },
   "outputs": [],
   "source": [
    "flist"
   ]
  },
  {
   "cell_type": "code",
   "execution_count": null,
   "metadata": {},
   "outputs": [],
   "source": []
  },
  {
   "cell_type": "code",
   "execution_count": null,
   "metadata": {},
   "outputs": [],
   "source": []
  },
  {
   "cell_type": "code",
   "execution_count": null,
   "metadata": {},
   "outputs": [],
   "source": []
  },
  {
   "cell_type": "code",
   "execution_count": null,
   "metadata": {},
   "outputs": [],
   "source": []
  },
  {
   "cell_type": "code",
   "execution_count": null,
   "metadata": {},
   "outputs": [],
   "source": []
  },
  {
   "cell_type": "code",
   "execution_count": null,
   "metadata": {},
   "outputs": [],
   "source": [
    "         're4': {'race': ('PRDTRACE', [(1, [1]), \n",
    "                                       (2, [2, 6, 10, 11, 12, 16, 17, 18, 22, 23]), \n",
    "                                       (4, [4, 5, 8, 9, 13, 14, 15, 19, 20, 21, 24]), \n",
    "                                       (5, [3, 7, 25, 26])]),\n",
    "                 'hisp': ('PRDTHSP', (3, [1, 2, 3, 4, 5, 6, 7, 8])),\n",
    "                 'start': '2014-01-01',\n",
    "                 'end': '2018-12-01'}}"
   ]
  },
  {
   "cell_type": "code",
   "execution_count": null,
   "metadata": {},
   "outputs": [],
   "source": []
  },
  {
   "cell_type": "code",
   "execution_count": null,
   "metadata": {},
   "outputs": [],
   "source": []
  },
  {
   "cell_type": "code",
   "execution_count": null,
   "metadata": {},
   "outputs": [],
   "source": []
  },
  {
   "cell_type": "code",
   "execution_count": null,
   "metadata": {},
   "outputs": [],
   "source": []
  }
 ],
 "metadata": {
  "kernelspec": {
   "display_name": "Python 3",
   "language": "python",
   "name": "python3"
  },
  "language_info": {
   "codemirror_mode": {
    "name": "ipython",
    "version": 3
   },
   "file_extension": ".py",
   "mimetype": "text/x-python",
   "name": "python",
   "nbconvert_exporter": "python",
   "pygments_lexer": "ipython3",
   "version": "3.6.6"
  }
 },
 "nbformat": 4,
 "nbformat_minor": 2
}
