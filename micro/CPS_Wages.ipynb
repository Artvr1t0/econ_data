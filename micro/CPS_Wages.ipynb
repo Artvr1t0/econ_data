{
 "cells": [
  {
   "cell_type": "markdown",
   "metadata": {},
   "source": [
    "# Basic Monthly CPS Earnings\n",
    "\n",
    "Brian Dew, brian.w.dew@gmail.com\n",
    "\n",
    "May 1, 2021\n",
    "\n",
    "----\n",
    "\n",
    "\n",
    "## Part 1: Usual Weekly Earnings\n",
    "\n",
    "\n",
    "The earnings supplement to the monthly CPS microdata has many use cases, but can be challenging to actually use. This is a repository for notes on the usual weekly earnings data in the monthly CPS, drawn heavily from CPS documentation, CEPRdata documentation, EPI microdata documentation, IPUMS documentation, and discussions with John Schmitt. The notes mix background information, math, and graphs as a way to strengthen intuition around the concepts. Any feedback is much appreciated.\n",
    "\n",
    "## Topics\n",
    "* About the CPS earnings supplement\n",
    "* Background concepts\n",
    "    * Python code and data format\n",
    "* Overview of the data\n",
    "    * Survey design and response rates\n",
    "    * Data availability\n",
    "    * Distribution of the data (probability density)\n",
    "* Limitations of the data\n",
    "    * Topcoding, imputations, proxy responses\n",
    "* Descriptive statistics: percentile\n",
    "    * Weighted and unweighted median\n",
    "    * Clustering at rounded values and binned percentile\n",
    "* Descriptive statistics: mean\n",
    "    * Censoring of data at topcode\n",
    "    * Estimating the mean above topcode\n",
    "        * Assuming lognormal distribution of earnings\n",
    "        * Assuming Pareto distribution of top earnings\n",
    "    * Estimating the uncensored data mean\n",
    "* Comparing to other data\n",
    "    * Hourly wages times hours worked\n",
    "    * Comparing results over 2017--2020\n",
    "* Conclusion\n",
    "    \n",
    "\n",
    "## About the CPS earnings supplement\n",
    "\n",
    "Each month, the Current Population Survey (CPS) asks additional questions about earnings to a portion of survey respondents.\n",
    "\n",
    "Eligible respondents are asked about the usual weekly earnings of their main job, before taxes or other deductions and after overtime, tips, and commissions. Additionally, those paid hourly are asked about their hourly rate of pay, excluding overtime, tips, and commissions.\n",
    "\n",
    "The CPS interviews each household up to eight times over sixteen months. Households are interviewed for four months, not interviewed for eight months, then interviewed for another four months. The fourth and eighth interviews are known as the outgoing rotation group (ORG). Earnings questions are asked only to employed wage and salary workers in the outgoing rotation group. Self-employed people do not have earnings data in the CPS. \n",
    "\n",
    "## Background concepts\n",
    "\n",
    "Some background on the CPS survey itself is [here](https://www.bls.gov/cps/cps_over.htm).  \n",
    "\n",
    "There are a few concepts related to earnings data to cover before looking at the data. \n",
    "\n",
    "**OUTGOING ROTATION GROUP**: CPS households on their fourth and eighth interviews are eligible for additional questionsa about earnings, if they are age 16 or older. This group of survey respondents is called the outgoing rotation group (ORG).\n",
    "\n",
    "**USUAL**: Respondents have their own interpretation of the term usual. If they ask for clarification, respondents are instructed to provide their usual earnings based on the past 4 or 5 weeks.\n",
    "\n",
    "**PAY PERIODICITY**: Prior to 1994, CPS respondents were asked their usual weekly earnings. Starting in 1994, respondents were asked to report usual earnings using whatever pay periodicity is easiest. For example, if someone reports pay of \\\\$60,000 per year, the calculated weekly earnings in the CPS will be \\\\$1,153.84 (\\\\$60,000 / 52). \n",
    "\n",
    "**TOP CODING**: The public use data protect respondent identities in part by censoring the earnings of high-earners. This process replaces the actual earnings above a specific top-coded value with the top-coded value. Since 1998, the cutoff is \\\\$150,000 per year, or \\\\$2,884.61 per week. \n",
    "\n",
    "**ALLOCATIONS**: A large portion of the earnings data have one or more elements allocated (or imputed) by the Bureau of Labor Statistics (BLS). When responses needed to calculate earnings are missing or invalid, BLS may allocate a new response value. The allocations are based on matching respondents with missing or invalid responses to similar respondents with valid responses. \n",
    "\n",
    "**PROXY RESPONSES**: The CPS includes responses given by proxy. In some cases, one survey respondent provides information on the entire household, including proxy responses for people in the household other than the respondent.\n",
    "\n",
    "**MATCHING TO HOURLY RATES**: Separate CPS responses for hourly rates of pay will not necessarily match the usual weekly earnings for the same respondent. Usual weekly earnings allow interpretation of the term \"usual\" and include overtime, tips, and commissions. Measures of hourly rates will be discussed in a future notebook.\n",
    "\n",
    "See: https://www.bls.gov/cps/definitions.htm#earnings\n",
    "\n",
    "### Python code and data format\n",
    "\n",
    "The notebook uses python code to show examples. The packages listed in the the next block are required as well. The code also doesn't go into how to read CPS data with python, but uses a method that is explained [here](https://www.bd-econ.com/nbs/cps_read_basic.html), which is [based on](https://tomaugspurger.github.io/tackling%20the%20cps.html) blog posts from Tom Augsperger.\n",
    "\n",
    "To run the code, first [download](https://www.census.gov/data/datasets/time-series/demo/cps/cps-basic.2019.html) the October 2019 monthly CPS public use microdata file, `oct19pub.dat`, from the Census website and also download the associated data dictionary text file, `January_2017_Record_Layout.txt`. Some sections of the code require more months of CPS files. \n",
    "\n",
    "The public use microdata from the CPS are usually available as fixed-width format files. I've discussed previously how to work with these files. One note, however, is that these files do not include decimals but imply them. So the wage data reported in these files should be divided by 100 to covert to dollars. The data dictionary tells us there are two implied decimal places in the wage data."
   ]
  },
  {
   "cell_type": "code",
   "execution_count": 1,
   "metadata": {
    "ExecuteTime": {
     "end_time": "2021-05-02T23:09:38.510931Z",
     "start_time": "2021-05-02T23:09:38.029987Z"
    },
    "code_folding": [
     0
    ]
   },
   "outputs": [],
   "source": [
    "# Import preliminaries\n",
    "%config Completer.use_jedi = False\n",
    "import pandas as pd\n",
    "import numpy as np\n",
    "import os, re, struct\n",
    "from itertools import product\n",
    "from scipy.stats import norm, lognorm\n",
    "import matplotlib as mpl\n",
    "import matplotlib.pyplot as plt\n",
    "from matplotlib.patches import Rectangle\n",
    "\n",
    "# Graph default settings\n",
    "mpl.rcParams['axes.edgecolor'] = 'lightgray'\n",
    "\n",
    "os.chdir('/home/brian/Documents/CPS/data/')\n",
    "\n",
    "# Census data dictionary text file and PUMS file\n",
    "dd_file = 'January_2017_Record_Layout.txt'\n",
    "file = 'oct19pub.dat'"
   ]
  },
  {
   "cell_type": "code",
   "execution_count": 2,
   "metadata": {
    "ExecuteTime": {
     "end_time": "2021-05-02T23:09:38.542591Z",
     "start_time": "2021-05-02T23:09:38.512078Z"
    },
    "code_folding": [
     0
    ]
   },
   "outputs": [],
   "source": [
    "# Functions to read fixed with format files \n",
    "# See intro CPS with python blog post for details\n",
    "\n",
    "def cps_dd_reader(dd_file, var_names):\n",
    "    '''\n",
    "    Read Census data dictionary and find parts that match\n",
    "    the format captured by regular expression p\n",
    "    Return the variable {name: (width, start, end)}\n",
    "    '''\n",
    "    dd = open(dd_file, encoding='latin').read()\n",
    "    vlist = '|'.join(var_names)\n",
    "    p = f'\\n({vlist})\\s+(\\d+)\\s+.*?\\t+.*?(\\d\\d*).*?(\\d\\d+)'\n",
    "    m = re.findall(p, dd)\n",
    "    return [*zip(*m)][0], [*zip(*[*zip(*m)][1:])]\n",
    "\n",
    "\n",
    "def cps_unpacker(m):\n",
    "    '''\n",
    "    Variable information to fixed width format unpacker\n",
    "    unpack_fmt is a string [skip]x[keep]s...\n",
    "    '''\n",
    "    width, start, end = zip(*m)\n",
    "    prev_end = [0, *end[:-1]]\n",
    "    uf = lambda st, pe, w: f'{int(st)-int(pe)-1}x{int(w)}s'\n",
    "    ufs = ''.join([*map(uf, start, prev_end, width)])\n",
    "    return struct.Struct(ufs).unpack_from\n",
    "\n",
    "\n",
    "def cps_unpack_month(file, unpacker, cols):\n",
    "    '''\n",
    "    Unpack each row and convert to pandas dataframe\n",
    "    '''\n",
    "    data = [[*map(int, unpacker(row))] for row \n",
    "            in open(file, 'rb').readlines()]\n",
    "    return pd.DataFrame(data, columns=cols)\n",
    "\n",
    "\n",
    "def cps_decimal_adjust(df, wage_group):\n",
    "    '''\n",
    "    Adjust for implied decimal places in data\n",
    "    '''\n",
    "    for vl, adj_amt in wage_group:\n",
    "        df[vl] = (df[vl].replace(-1, np.nan) / adj_amt)\n",
    "    return df\n",
    "\n",
    "\n",
    "# Retrieve data from FRED \n",
    "def fred_download(series):\n",
    "    '''\n",
    "    Download csv of series from FRED and convert to df\n",
    "    '''\n",
    "    url = ('http://research.stlouisfed.org/fred2/series/'+\n",
    "           f'{series}/downloaddata/{series}.csv')\n",
    "    df = pd.read_csv(url, index_col='DATE', parse_dates=True)\n",
    "    return df"
   ]
  },
  {
   "cell_type": "code",
   "execution_count": 3,
   "metadata": {
    "ExecuteTime": {
     "end_time": "2021-05-02T23:09:39.778961Z",
     "start_time": "2021-05-02T23:09:38.543935Z"
    },
    "code_folding": [
     0
    ]
   },
   "outputs": [],
   "source": [
    "# Read CPS monthly public use file\n",
    "# Manually identify the IDs for series of interest \n",
    "earnvars = (['PRERNWA', 'PRERNHLY'], 100.)\n",
    "wgtvars = (['PWSSWGT', 'PWORWGT'], 10_000.)\n",
    "othvars = ['HRMONTH', 'HRYEAR4', 'HRINTSTA',\n",
    "           'HRMIS', 'PRTAGE', 'PESEX', 'PEIO1COW', \n",
    "           'PEMLR', 'PUSLFPRX', 'PRWERNAL', \n",
    "           'PTWK', 'PEERNHRY', 'PEERNPER', \n",
    "           'QSTNUM', 'PRWKSTAT', 'PEHRUSL1',\n",
    "           'PEHRFTPT', 'PEERNUOT', 'GEREG']\n",
    "var_names = othvars + earnvars[0] + wgtvars[0]\n",
    "\n",
    "# Collect variable info and unpack format from data dict\n",
    "cols, m = cps_dd_reader(dd_file, var_names)\n",
    "\n",
    "# Create pandas dataframe from data\n",
    "df = (cps_unpack_month(file, cps_unpacker(m), cols)\n",
    "      .pipe(cps_decimal_adjust, [earnvars, wgtvars]))"
   ]
  },
  {
   "cell_type": "code",
   "execution_count": 4,
   "metadata": {
    "ExecuteTime": {
     "end_time": "2021-05-02T23:09:39.788530Z",
     "start_time": "2021-05-02T23:09:39.779975Z"
    },
    "code_folding": [
     0
    ]
   },
   "outputs": [],
   "source": [
    "# Wage observations with normalized (sum=1) weights\n",
    "wage_obs = df.loc[df.PRERNWA > 0].copy()\n",
    "wage_obs['NORM_WGT'] = wage_obs.PWORWGT / wage_obs.PWORWGT.sum()\n",
    "wage_obs['NORM_SUM'] = 1 / len(wage_obs)\n",
    "\n",
    "# New variable puts usual weekly earnings in $50 bins\n",
    "bin_wage = lambda x: (round(x.PRERNWA / 50) * 50) + 25\n",
    "wage_obs = wage_obs.assign(BIN_WAGE = bin_wage)"
   ]
  },
  {
   "cell_type": "code",
   "execution_count": 5,
   "metadata": {
    "ExecuteTime": {
     "end_time": "2021-05-02T23:09:41.294443Z",
     "start_time": "2021-05-02T23:09:39.789613Z"
    },
    "code_folding": [
     0
    ]
   },
   "outputs": [],
   "source": [
    "# Download some comparison data from FRED\n",
    "slist = ['A576RC1', 'PAYEMS', 'LEU0252881500Q']\n",
    "fred = {s: fred_download(s) for s in slist}\n",
    "na = fred['A576RC1'] * 1_000_000 # Wage and salary income\n",
    "jn = fred['PAYEMS'] # Number of jobs\n",
    "fred['WSperworker'] = (na / jn) / 52 # quarterly to weekly"
   ]
  },
  {
   "cell_type": "markdown",
   "metadata": {},
   "source": [
    "## Overview of the data\n",
    "\n",
    "### Survey design and response rates\n",
    "\n",
    "The CPS is a non-random sample. Each month, a subset of geographic areas are selected, and around 70,000 housing units are selected for interview from within the geographic subset. \n",
    "\n",
    "In any given month, some housing units will be vacant or demolished or not inhabitable in some other way, for example under construction. Some households will refuse to respond or be absent during the interview period. These are considered non-interviews.\n",
    "\n",
    "The non-interviews are grouped into three categories:\n",
    "\n",
    "1. Type A: No one home, temporarily absent, refused interview, language barrier, ...\n",
    "2. Type B: Vacant, occupied by people with usual residence elsewhere, under construction, ...\n",
    "3. Type C: Demolished, converted into non-housing, house or trailer moved, condemned, ...\n",
    "\n",
    "The interview status for October 2019 is as follows:"
   ]
  },
  {
   "cell_type": "code",
   "execution_count": 6,
   "metadata": {
    "ExecuteTime": {
     "end_time": "2021-05-02T23:09:41.339314Z",
     "start_time": "2021-05-02T23:09:41.299627Z"
    },
    "code_folding": [
     0
    ]
   },
   "outputs": [
    {
     "name": "stdout",
     "output_type": "stream",
     "text": [
      "Total households selected: 70,120\n",
      "Interviewed households: 49,631 (70.8%)\n",
      "Type A non-interview: 10,037 (14.3%)\n",
      "Type B non-interview: 9,919 (14.1%)\n",
      "Type C non-interview: 533 (0.8%)\n"
     ]
    }
   ],
   "source": [
    "# Households and interview status\n",
    "hhs = df.drop_duplicates('QSTNUM')\n",
    "resp = hhs.groupby('HRINTSTA').HRINTSTA.count()\n",
    "resp_rt = (resp / len(hhs) * 100)\n",
    "\n",
    "print(f'Total households selected: {resp.sum():,.0f}')\n",
    "print(f'Interviewed households: {resp[1]:,.0f} ({resp_rt[1]:.1f}%)')\n",
    "print(f'Type A non-interview: {resp[2]:,.0f} ({resp_rt[2]:.1f}%)')\n",
    "print(f'Type B non-interview: {resp[3]:,.0f} ({resp_rt[3]:.1f}%)')\n",
    "print(f'Type C non-interview: {resp[4]:,.0f} ({resp_rt[4]:.1f}%)')"
   ]
  },
  {
   "cell_type": "markdown",
   "metadata": {},
   "source": [
    "Researchers should be aware that the people who are not captured in the survey are not necessarily represented by the people who are captured in the survey. BLS and Census provide sample weights in the CPS data that help to make the sample more representative of the population, along several geographic and personal characteristics. Still, even the weighted data undercount some groups. For example, the CPS doesn't adjust for the higher rate of [dropping out of the interview](https://www.ineteconomics.org/research/research-papers/masking-real-unemployment-the-overall-and-racial-impact-of-survey-non-response-on-measured-labor-market-outcomes) among those unemployed and out of the labor force (Cai and Baker, 2021).\n",
    "\n",
    "### Data Availability\n",
    "\n",
    "Among the households that are interviewed, only a subset are eligible for questions regarding earnings. "
   ]
  },
  {
   "cell_type": "code",
   "execution_count": 7,
   "metadata": {
    "ExecuteTime": {
     "end_time": "2021-05-02T23:09:41.360745Z",
     "start_time": "2021-05-02T23:09:41.341391Z"
    },
    "code_folding": [
     0
    ]
   },
   "outputs": [
    {
     "name": "stdout",
     "output_type": "stream",
     "text": [
      "Number of total observations (October 2019): 139,219\n",
      "Population equivalent: 324,682,975\n",
      "Therefore, a survey of one in 2,332\n",
      "\n",
      "Outgoing Rotation Group (ORG) is a quartersample \n",
      "asked only to those on interview 4 or 8;\n",
      "supplemental questions are asked only for those 16+\n",
      "Number of MIS 4 or 8 observations, age 16+: 24,292\n",
      "Population equivalent: 259,844,867\n",
      "Therefore, a survey of one in 10,697\n",
      "\n",
      "And only a portion of the sample/population is employed\n",
      "Number of usual weekly earnings observations: 12,934\n",
      "Population equivalent: 142,520,841\n",
      "Therefore, a survey of one in 11,019\n"
     ]
    }
   ],
   "source": [
    "# Overview of data\n",
    "obs = f'{len(df):,.0f}'\n",
    "print(f'Number of total observations (October 2019): {obs}')\n",
    "obs_pop = f'{df.PWSSWGT.sum():,.0f}'\n",
    "print(f'Population equivalent: {obs_pop}')\n",
    "obs_pp = df.PWSSWGT.sum() / len(df)\n",
    "print(f'Therefore, a survey of one in {obs_pp:,.0f}\\n')\n",
    "print('Outgoing Rotation Group (ORG) is a quartersample ')\n",
    "print('asked only to those on interview 4 or 8;')\n",
    "print('supplemental questions are asked only for those 16+')\n",
    "criteria = (df.HRMIS.isin([4,8])) & (df.PRTAGE >= 16)\n",
    "org_obs = f'{len(df[criteria]):,.0f}'\n",
    "print(f'Number of MIS 4 or 8 observations, age 16+: {org_obs}')\n",
    "org_pop = f'{df.PWORWGT.sum():,.0f}'\n",
    "print(f'Population equivalent: {org_pop}')\n",
    "org_pp = df.PWORWGT.sum() / len(df[criteria])\n",
    "print(f'Therefore, a survey of one in {org_pp:,.0f}\\n')\n",
    "print('And only a portion of the sample/population is employed')\n",
    "uwe_obs = f'{len(wage_obs):,.0f}'\n",
    "print(f'Number of usual weekly earnings observations: {uwe_obs}')\n",
    "uwe_pop = f'{wage_obs.PWORWGT.sum():,.0f}'\n",
    "print(f'Population equivalent: {uwe_pop}')\n",
    "wage_pp = wage_obs.PWORWGT.sum() / len(wage_obs)\n",
    "print(f'Therefore, a survey of one in {wage_pp:,.0f}')"
   ]
  },
  {
   "cell_type": "markdown",
   "metadata": {},
   "source": [
    "Wage data are only available for households in interviews 4 or 8, referred to as \"month in sample\" 4 or 8. In the microdata, \"month in sample\" is identified by the variable `HRMIS`. \n",
    "\n",
    "Earnings data are not reported for unemployed workers or for those who are self-employed or who work without pay. \n",
    "\n",
    "As a result of these limitations, usual weekly earnings are reported for 9.3 percent of survey respondents in October 2019 (table 1). Because the CPS is a non-random sample, a subgroup of interest may be more or less likely to be surveyed or to have wages, so the share of a subgroup with wage observations may be higher or lower than the overall rate. "
   ]
  },
  {
   "cell_type": "code",
   "execution_count": 8,
   "metadata": {
    "ExecuteTime": {
     "end_time": "2021-05-02T23:09:41.443292Z",
     "start_time": "2021-05-02T23:09:41.362346Z"
    },
    "code_folding": [
     0
    ]
   },
   "outputs": [
    {
     "name": "stdout",
     "output_type": "stream",
     "text": [
      "Table 1.\n",
      "Wage Observation Share of Worker Category,\n",
      "Full sample\n"
     ]
    },
    {
     "data": {
      "text/html": [
       "<div>\n",
       "<style scoped>\n",
       "    .dataframe tbody tr th:only-of-type {\n",
       "        vertical-align: middle;\n",
       "    }\n",
       "\n",
       "    .dataframe tbody tr th {\n",
       "        vertical-align: top;\n",
       "    }\n",
       "\n",
       "    .dataframe thead th {\n",
       "        text-align: right;\n",
       "    }\n",
       "</style>\n",
       "<table border=\"1\" class=\"dataframe\">\n",
       "  <thead>\n",
       "    <tr style=\"text-align: right;\">\n",
       "      <th>HRMIS</th>\n",
       "      <th>1</th>\n",
       "      <th>2</th>\n",
       "      <th>3</th>\n",
       "      <th>4</th>\n",
       "      <th>5</th>\n",
       "      <th>6</th>\n",
       "      <th>7</th>\n",
       "      <th>8</th>\n",
       "      <th>Total</th>\n",
       "    </tr>\n",
       "    <tr>\n",
       "      <th>Class_of_worker</th>\n",
       "      <th></th>\n",
       "      <th></th>\n",
       "      <th></th>\n",
       "      <th></th>\n",
       "      <th></th>\n",
       "      <th></th>\n",
       "      <th></th>\n",
       "      <th></th>\n",
       "      <th></th>\n",
       "    </tr>\n",
       "  </thead>\n",
       "  <tbody>\n",
       "    <tr>\n",
       "      <th>Federal government</th>\n",
       "      <td>-</td>\n",
       "      <td>-</td>\n",
       "      <td>-</td>\n",
       "      <td>95.4</td>\n",
       "      <td>-</td>\n",
       "      <td>-</td>\n",
       "      <td>-</td>\n",
       "      <td>93.7</td>\n",
       "      <td>25.0</td>\n",
       "    </tr>\n",
       "    <tr>\n",
       "      <th>State government</th>\n",
       "      <td>-</td>\n",
       "      <td>-</td>\n",
       "      <td>-</td>\n",
       "      <td>93.1</td>\n",
       "      <td>-</td>\n",
       "      <td>-</td>\n",
       "      <td>-</td>\n",
       "      <td>96.2</td>\n",
       "      <td>25.2</td>\n",
       "    </tr>\n",
       "    <tr>\n",
       "      <th>Local government</th>\n",
       "      <td>-</td>\n",
       "      <td>-</td>\n",
       "      <td>-</td>\n",
       "      <td>94.0</td>\n",
       "      <td>-</td>\n",
       "      <td>-</td>\n",
       "      <td>-</td>\n",
       "      <td>94.3</td>\n",
       "      <td>24.1</td>\n",
       "    </tr>\n",
       "    <tr>\n",
       "      <th>Private, for profit</th>\n",
       "      <td>-</td>\n",
       "      <td>-</td>\n",
       "      <td>-</td>\n",
       "      <td>92.4</td>\n",
       "      <td>-</td>\n",
       "      <td>-</td>\n",
       "      <td>-</td>\n",
       "      <td>92.6</td>\n",
       "      <td>24.1</td>\n",
       "    </tr>\n",
       "    <tr>\n",
       "      <th>Private, non-profit</th>\n",
       "      <td>-</td>\n",
       "      <td>-</td>\n",
       "      <td>-</td>\n",
       "      <td>93.7</td>\n",
       "      <td>-</td>\n",
       "      <td>-</td>\n",
       "      <td>-</td>\n",
       "      <td>94.6</td>\n",
       "      <td>25.0</td>\n",
       "    </tr>\n",
       "    <tr>\n",
       "      <th>Self-employed (incorporated)</th>\n",
       "      <td>-</td>\n",
       "      <td>-</td>\n",
       "      <td>-</td>\n",
       "      <td>-</td>\n",
       "      <td>-</td>\n",
       "      <td>-</td>\n",
       "      <td>-</td>\n",
       "      <td>-</td>\n",
       "      <td>-</td>\n",
       "    </tr>\n",
       "    <tr>\n",
       "      <th>Self-employed (unincorporated)</th>\n",
       "      <td>-</td>\n",
       "      <td>-</td>\n",
       "      <td>-</td>\n",
       "      <td>-</td>\n",
       "      <td>-</td>\n",
       "      <td>-</td>\n",
       "      <td>-</td>\n",
       "      <td>-</td>\n",
       "      <td>-</td>\n",
       "    </tr>\n",
       "    <tr>\n",
       "      <th>Without pay</th>\n",
       "      <td>-</td>\n",
       "      <td>-</td>\n",
       "      <td>-</td>\n",
       "      <td>-</td>\n",
       "      <td>-</td>\n",
       "      <td>-</td>\n",
       "      <td>-</td>\n",
       "      <td>-</td>\n",
       "      <td>-</td>\n",
       "    </tr>\n",
       "    <tr>\n",
       "      <th>Not in labor force or new entrant</th>\n",
       "      <td>-</td>\n",
       "      <td>-</td>\n",
       "      <td>-</td>\n",
       "      <td>-</td>\n",
       "      <td>-</td>\n",
       "      <td>-</td>\n",
       "      <td>-</td>\n",
       "      <td>-</td>\n",
       "      <td>-</td>\n",
       "    </tr>\n",
       "    <tr>\n",
       "      <th>Total</th>\n",
       "      <td>-</td>\n",
       "      <td>-</td>\n",
       "      <td>-</td>\n",
       "      <td>37.4</td>\n",
       "      <td>-</td>\n",
       "      <td>-</td>\n",
       "      <td>-</td>\n",
       "      <td>37.0</td>\n",
       "      <td>9.3</td>\n",
       "    </tr>\n",
       "  </tbody>\n",
       "</table>\n",
       "</div>"
      ],
      "text/plain": [
       "HRMIS                              1  2  3     4  5  6  7     8 Total\n",
       "Class_of_worker                                                      \n",
       "Federal government                 -  -  -  95.4  -  -  -  93.7  25.0\n",
       "State government                   -  -  -  93.1  -  -  -  96.2  25.2\n",
       "Local government                   -  -  -  94.0  -  -  -  94.3  24.1\n",
       "Private, for profit                -  -  -  92.4  -  -  -  92.6  24.1\n",
       "Private, non-profit                -  -  -  93.7  -  -  -  94.6  25.0\n",
       "Self-employed (incorporated)       -  -  -     -  -  -  -     -     -\n",
       "Self-employed (unincorporated)     -  -  -     -  -  -  -     -     -\n",
       "Without pay                        -  -  -     -  -  -  -     -     -\n",
       "Not in labor force or new entrant  -  -  -     -  -  -  -     -     -\n",
       "Total                              -  -  -  37.4  -  -  -  37.0   9.3"
      ]
     },
     "execution_count": 8,
     "metadata": {},
     "output_type": "execute_result"
    }
   ],
   "source": [
    "# Calculate wage data share of class of worker and month in sample\n",
    "cowmap = {1: 'Federal government', 2: 'State government', \n",
    "          3: 'Local government', 4: 'Private, for profit',\n",
    "          5: 'Private, non-profit', \n",
    "          6: 'Self-employed (incorporated)',\n",
    "          7: 'Self-employed (unincorporated)',\n",
    "          8: 'Without pay',\n",
    "          -1: 'Not in labor force or new entrant',\n",
    "         np.nan: 'Total'}\n",
    "\n",
    "df['Class_of_worker'] = df.PEIO1COW.map(cowmap)\n",
    "df['WCHECK'] = df.PRERNWA.notnull()\n",
    "\n",
    "print('Table 1.\\nWage Observation Share of Worker Category,\\nFull sample')\n",
    "\n",
    "(df.pivot_table(columns='HRMIS', index='Class_of_worker', \n",
    "                values='WCHECK', aggfunc='mean', \n",
    "                margins=True, margins_name='Total')\n",
    "   .multiply(100).round(1).replace(0, '-')\n",
    "   .reindex(cowmap.values()))"
   ]
  },
  {
   "cell_type": "markdown",
   "metadata": {},
   "source": [
    "In October 2019, usual weekly earnings cover about 22.5 percent of employed observations, and about 89 percent of employed observations in the outgoing rotation group (table 2). That said, a wage observation is available for every wage and salary worker in the outgoing rotation group."
   ]
  },
  {
   "cell_type": "code",
   "execution_count": 9,
   "metadata": {
    "ExecuteTime": {
     "end_time": "2021-05-02T23:09:41.501865Z",
     "start_time": "2021-05-02T23:09:41.444594Z"
    },
    "code_folding": [
     0
    ],
    "scrolled": false
   },
   "outputs": [
    {
     "name": "stdout",
     "output_type": "stream",
     "text": [
      "Table 2.\n",
      "Wage Observation Share of Worker Category,\n",
      "Employed only\n"
     ]
    },
    {
     "data": {
      "text/html": [
       "<div>\n",
       "<style scoped>\n",
       "    .dataframe tbody tr th:only-of-type {\n",
       "        vertical-align: middle;\n",
       "    }\n",
       "\n",
       "    .dataframe tbody tr th {\n",
       "        vertical-align: top;\n",
       "    }\n",
       "\n",
       "    .dataframe thead th {\n",
       "        text-align: right;\n",
       "    }\n",
       "</style>\n",
       "<table border=\"1\" class=\"dataframe\">\n",
       "  <thead>\n",
       "    <tr style=\"text-align: right;\">\n",
       "      <th>HRMIS</th>\n",
       "      <th>1</th>\n",
       "      <th>2</th>\n",
       "      <th>3</th>\n",
       "      <th>4</th>\n",
       "      <th>5</th>\n",
       "      <th>6</th>\n",
       "      <th>7</th>\n",
       "      <th>8</th>\n",
       "      <th>Total</th>\n",
       "    </tr>\n",
       "    <tr>\n",
       "      <th>Class_of_worker</th>\n",
       "      <th></th>\n",
       "      <th></th>\n",
       "      <th></th>\n",
       "      <th></th>\n",
       "      <th></th>\n",
       "      <th></th>\n",
       "      <th></th>\n",
       "      <th></th>\n",
       "      <th></th>\n",
       "    </tr>\n",
       "  </thead>\n",
       "  <tbody>\n",
       "    <tr>\n",
       "      <th>Federal government</th>\n",
       "      <td>-</td>\n",
       "      <td>-</td>\n",
       "      <td>-</td>\n",
       "      <td>100.0</td>\n",
       "      <td>-</td>\n",
       "      <td>-</td>\n",
       "      <td>-</td>\n",
       "      <td>100.0</td>\n",
       "      <td>25.9</td>\n",
       "    </tr>\n",
       "    <tr>\n",
       "      <th>State government</th>\n",
       "      <td>-</td>\n",
       "      <td>-</td>\n",
       "      <td>-</td>\n",
       "      <td>100.0</td>\n",
       "      <td>-</td>\n",
       "      <td>-</td>\n",
       "      <td>-</td>\n",
       "      <td>100.0</td>\n",
       "      <td>25.8</td>\n",
       "    </tr>\n",
       "    <tr>\n",
       "      <th>Local government</th>\n",
       "      <td>-</td>\n",
       "      <td>-</td>\n",
       "      <td>-</td>\n",
       "      <td>100.0</td>\n",
       "      <td>-</td>\n",
       "      <td>-</td>\n",
       "      <td>-</td>\n",
       "      <td>100.0</td>\n",
       "      <td>24.8</td>\n",
       "    </tr>\n",
       "    <tr>\n",
       "      <th>Private, for profit</th>\n",
       "      <td>-</td>\n",
       "      <td>-</td>\n",
       "      <td>-</td>\n",
       "      <td>100.0</td>\n",
       "      <td>-</td>\n",
       "      <td>-</td>\n",
       "      <td>-</td>\n",
       "      <td>100.0</td>\n",
       "      <td>25.2</td>\n",
       "    </tr>\n",
       "    <tr>\n",
       "      <th>Private, non-profit</th>\n",
       "      <td>-</td>\n",
       "      <td>-</td>\n",
       "      <td>-</td>\n",
       "      <td>100.0</td>\n",
       "      <td>-</td>\n",
       "      <td>-</td>\n",
       "      <td>-</td>\n",
       "      <td>100.0</td>\n",
       "      <td>25.8</td>\n",
       "    </tr>\n",
       "    <tr>\n",
       "      <th>Self-employed (incorporated)</th>\n",
       "      <td>-</td>\n",
       "      <td>-</td>\n",
       "      <td>-</td>\n",
       "      <td>-</td>\n",
       "      <td>-</td>\n",
       "      <td>-</td>\n",
       "      <td>-</td>\n",
       "      <td>-</td>\n",
       "      <td>-</td>\n",
       "    </tr>\n",
       "    <tr>\n",
       "      <th>Self-employed (unincorporated)</th>\n",
       "      <td>-</td>\n",
       "      <td>-</td>\n",
       "      <td>-</td>\n",
       "      <td>-</td>\n",
       "      <td>-</td>\n",
       "      <td>-</td>\n",
       "      <td>-</td>\n",
       "      <td>-</td>\n",
       "      <td>-</td>\n",
       "    </tr>\n",
       "    <tr>\n",
       "      <th>Without pay</th>\n",
       "      <td>-</td>\n",
       "      <td>-</td>\n",
       "      <td>-</td>\n",
       "      <td>-</td>\n",
       "      <td>-</td>\n",
       "      <td>-</td>\n",
       "      <td>-</td>\n",
       "      <td>-</td>\n",
       "      <td>-</td>\n",
       "    </tr>\n",
       "    <tr>\n",
       "      <th>Total</th>\n",
       "      <td>-</td>\n",
       "      <td>-</td>\n",
       "      <td>-</td>\n",
       "      <td>88.8</td>\n",
       "      <td>-</td>\n",
       "      <td>-</td>\n",
       "      <td>-</td>\n",
       "      <td>89.2</td>\n",
       "      <td>22.5</td>\n",
       "    </tr>\n",
       "  </tbody>\n",
       "</table>\n",
       "</div>"
      ],
      "text/plain": [
       "HRMIS                           1  2  3      4  5  6  7      8 Total\n",
       "Class_of_worker                                                     \n",
       "Federal government              -  -  -  100.0  -  -  -  100.0  25.9\n",
       "State government                -  -  -  100.0  -  -  -  100.0  25.8\n",
       "Local government                -  -  -  100.0  -  -  -  100.0  24.8\n",
       "Private, for profit             -  -  -  100.0  -  -  -  100.0  25.2\n",
       "Private, non-profit             -  -  -  100.0  -  -  -  100.0  25.8\n",
       "Self-employed (incorporated)    -  -  -      -  -  -  -      -     -\n",
       "Self-employed (unincorporated)  -  -  -      -  -  -  -      -     -\n",
       "Without pay                     -  -  -      -  -  -  -      -     -\n",
       "Total                           -  -  -   88.8  -  -  -   89.2  22.5"
      ]
     },
     "execution_count": 9,
     "metadata": {},
     "output_type": "execute_result"
    }
   ],
   "source": [
    "# Employed only\n",
    "print('Table 2.\\nWage Observation Share of Worker Category,\\nEmployed only')\n",
    "if -1 in cowmap.keys():\n",
    "    cowmap.pop(-1)\n",
    "(df.query('PEMLR in [1, 2]')\n",
    "   .pivot_table(columns='HRMIS', index='Class_of_worker', \n",
    "                values='WCHECK', aggfunc='mean', \n",
    "                margins=True, margins_name='Total')\n",
    "   .multiply(100).round(1).replace(0, '-')\n",
    "   .reindex(cowmap.values()))"
   ]
  },
  {
   "cell_type": "markdown",
   "metadata": {},
   "source": [
    "One last point here is that one might expect fewer observations in survey 8 than in survey 4, due to attrition, if the survey was based on individuals. Instead the survey is based on the housing unit, so if a family moves out during the year between survey 4 and survey 8, and a new family moves in, the interview will be instead be conducted with the new family. \n",
    "\n",
    "In the October 2019 data, there are actually slightly more responses from survey 8 than from survey 4. Though the difference in this case is not significant, it's worth noting that CPS response rates have been falling over time.\n",
    "\n",
    "### Distribution of data\n",
    "Next, let's look at the distribution of wage values. First, the minimum and maximum values."
   ]
  },
  {
   "cell_type": "code",
   "execution_count": 10,
   "metadata": {
    "ExecuteTime": {
     "end_time": "2021-05-02T23:09:41.505328Z",
     "start_time": "2021-05-02T23:09:41.502792Z"
    },
    "code_folding": [
     0
    ]
   },
   "outputs": [
    {
     "name": "stdout",
     "output_type": "stream",
     "text": [
      "Minimum non-zero value: $0.01\n",
      "Maximum (topcoded) value: $2,884.61\n"
     ]
    }
   ],
   "source": [
    "# Minimum and maximum\n",
    "minval = wage_obs.PRERNWA.min()\n",
    "tc = topval = wage_obs.PRERNWA.max()\n",
    "print(f'Minimum non-zero value: ${minval}')\n",
    "print(f'Maximum (topcoded) value: ${topval:,.2f}')"
   ]
  },
  {
   "cell_type": "markdown",
   "metadata": {},
   "source": [
    "The maximum value is the topcode, \\\\$2884.61, a topic that is discussed in depth later in this notebook. The minimum is one cent, which is an outlier for a week's worth of work. The max and min make the data look like a censored continuous random variable. \n",
    "\n",
    "We can get a better picture using a histogram. The first histogram plots the relative probability of a wage being within a \\\\$5 range. Each bar represents a \\\\$5 bin and the height is the number of people represented by the bin."
   ]
  },
  {
   "cell_type": "code",
   "execution_count": 11,
   "metadata": {
    "ExecuteTime": {
     "end_time": "2021-05-02T23:09:42.204043Z",
     "start_time": "2021-05-02T23:09:41.506217Z"
    },
    "code_folding": [
     0
    ]
   },
   "outputs": [
    {
     "data": {
      "image/png": "[encoded data removed]",
      "text/plain": [
       "<Figure size 864x216 with 1 Axes>"
      ]
     },
     "metadata": {
      "needs_background": "light"
     },
     "output_type": "display_data"
    }
   ],
   "source": [
    "# Histogram\n",
    "fig, ax = plt.subplots(figsize=(12, 3))\n",
    "weights = wage_obs['PWORWGT'] / 1_000_000\n",
    "plt.hist(wage_obs['PRERNWA'], weights=weights, \n",
    "         range=(0, 2886), bins=577, color='mediumblue')\n",
    "ax = plt.gca()\n",
    "plt.ylabel('Observations, millions of people')\n",
    "plt.xlabel('Usual Weekly Earnings')\n",
    "plt.text(0, 1.05, 'Usual Weekly Earnings: Histogram ($5 bin size)',  size=18,\n",
    "         transform = ax.transAxes);"
   ]
  },
  {
   "cell_type": "markdown",
   "metadata": {},
   "source": [
    "The first histogram shows a tendency for observations to be located at specific earnings values like \\\\$600 per week. This topic is discussed in more detail later. With the small wage bin of $5 is not easy to tell the relative probability of earning income in a certain range.\n",
    "\n",
    "A second histogram plots the relative probability of a wage being within a larger \\\\$50 range. Each bar represents a \\\\$50 bin and the height is the share of observations in the bin.\n",
    "\n",
    "The second histogram shows that values are right-skewed and often still clustered around rounded figures (for example \\\\$600 per week). Additionally, there are many observations located at the maximum value. This is because the data are topcoded at \\\\$150,000 per year (\\\\$2,884.61 per week). \n",
    "\n",
    "The next section will look at issues with the data, such as topcoding, and ways around this issue. A later section discusses some options for handling the clustering around rounded values."
   ]
  },
  {
   "cell_type": "code",
   "execution_count": 12,
   "metadata": {
    "ExecuteTime": {
     "end_time": "2021-05-02T23:09:42.366306Z",
     "start_time": "2021-05-02T23:09:42.205106Z"
    },
    "code_folding": [
     0
    ]
   },
   "outputs": [
    {
     "data": {
      "image/png": "[encoded data removed]",
      "text/plain": [
       "<Figure size 576x288 with 1 Axes>"
      ]
     },
     "metadata": {
      "needs_background": "light"
     },
     "output_type": "display_data"
    }
   ],
   "source": [
    "# Histogram\n",
    "fig, ax = plt.subplots(figsize=(8, 4))\n",
    "weights = wage_obs['PWORWGT'] / 1_000_000\n",
    "plt.hist(wage_obs['PRERNWA'], weights=weights, \n",
    "         bins=range(25, 2975, 50), color='mediumblue')\n",
    "plt.ylabel('Observations, millions of people')\n",
    "plt.xlabel('Usual Weekly Earnings')\n",
    "plt.text(1923.07, 2.6, '$100,000/year')\n",
    "plt.text(650, 7.2, '$600/week')\n",
    "plt.text(2800, 6.2, '$150,000\\nper year\\n(topcode)', ha='right')\n",
    "plt.text(1300, 4.5, 'Data clusters at\\nrounded values', size=12)\n",
    "title = 'Usual Weekly Earnings: Histogram ($50 bin size)'\n",
    "plt.text(-0.05, 1.05, title, size=18, transform=ax.transAxes);"
   ]
  },
  {
   "cell_type": "markdown",
   "metadata": {},
   "source": [
    "### Limitations of the Data\n",
    "\n",
    "Even for observations with available data, microdata users need to be aware of specific limitation of the data. For usual weekly earnings data, there are four potential concerns:\n",
    "\n",
    "1. Topcoded values\n",
    "2. BLS allocated values (imputed values)\n",
    "3. Proxy responses\n",
    "4. Outliers (a bigger issue with wage rate data)\n",
    "\n",
    "The previous histogram can be divided based on whether the observations reflect any of the first three issues. In the next series of graphs, the lighter area shows observations affected by an issue and the darker area shows the observations that are not affected."
   ]
  },
  {
   "cell_type": "code",
   "execution_count": 13,
   "metadata": {
    "ExecuteTime": {
     "end_time": "2021-05-02T23:09:43.282348Z",
     "start_time": "2021-05-02T23:09:42.367278Z"
    },
    "code_folding": [
     0
    ]
   },
   "outputs": [
    {
     "data": {
      "image/png": "[encoded data removed]",
      "text/plain": [
       "<Figure size 720x504 with 4 Axes>"
      ]
     },
     "metadata": {
      "needs_background": "light"
     },
     "output_type": "display_data"
    }
   ],
   "source": [
    "# Potential limitations to the data\n",
    "\n",
    "## Some new variables of interest\n",
    "proxy = lambda x: np.where(x.PUSLFPRX.isin([1, 3]), 0, 1)\n",
    "nonstd = lambda x: np.where((x.PROXY == 1) | \n",
    "                            (x.PRWERNAL == 1) | \n",
    "                            (x.PTWK == 1), 1, 0)\n",
    "wage_obs = wage_obs.assign(PROXY = proxy, NONSTD = nonstd)\n",
    "\n",
    "# Group categories of interest\n",
    "groups = [((1, 1), 'NONSTD', 'Allocated or Proxy or Topcoded', ['Standard', 'Any Change']),\n",
    "          ((0, 0), 'PTWK', 'Topcoded Values', ['Not topcoded', 'Topcoded']),\n",
    "          ((0, 1), 'PRWERNAL', 'BLS Allocated Values', ['Not allocated', 'BLS Allocated']),\n",
    "          ((1, 0), 'PROXY', 'Proxy Responses', ['Self-response', 'Proxy response']),]\n",
    "\n",
    "colors = ['mediumblue', 'skyblue']\n",
    "\n",
    "fig, axs = plt.subplots(2, 2, sharex=True, sharey=True, \n",
    "                        figsize=(10, 7), constrained_layout=True)\n",
    "\n",
    "for (x, y), grpvar, title, legend in groups:\n",
    "    ax = axs[x, y]\n",
    "    grps = [grp['PRERNWA'] for i, grp in wage_obs.groupby(grpvar)]\n",
    "    gwgts = [grp['PWORWGT'] / 1000000 for i, grp in wage_obs.groupby(grpvar)]\n",
    "    leg = [f'{legend[i]} ({len(grp):,.0f})' for i, grp in enumerate(grps)]\n",
    "    ax.hist(grps, weights=gwgts, stacked=True, bins=range(25, 2975, 50), color=colors)\n",
    "    ax.text(0, 1.04, title,  size=14, transform = ax.transAxes)\n",
    "    ax.legend(leg, loc=9)\n",
    "    \n",
    "fig.text(0.01, 1.02, 'Usual Weekly Earnings: Various Data Adjustments', size=18);"
   ]
  },
  {
   "cell_type": "markdown",
   "metadata": {},
   "source": [
    "As a result of these limitation, researchers may want to exclude some observations from their analysis. \n",
    "\n",
    "For example, allocated (or imputed) values from BLS come from actual values of other observations with matching characteristics. The match criteria are gender, age, race, education, occupation, hours worked, and receipt of overtime, tips, or commissions (Census 2019).\n",
    "\n",
    "Research concerning characteristics not included in the match criteria, such as union membership, should exclude imputed wages, because BLS [does not match](http://christopherbollinger.com/wp-content/uploads/2016/08/Match-Bias.pdf) missing and donor wage observations based on union membership. Some imputed wages for union member observations are actually a non-union wage, and some non-union-member observations have an imputed wage from a union member. For a discussion of this, see Hirsch and Schumacher (2004). "
   ]
  },
  {
   "cell_type": "markdown",
   "metadata": {},
   "source": [
    "#### Handling adjustments to the data\n",
    "\n",
    "It's unfortunate that nearly 140,000 person records only include 4,200 unaltered self-reported observations for the usual weekly earnings of wage and salary workers. But it's good that BLS and other researchers have filled in gaps and protect the identity of respondents. \n",
    "\n",
    "How a researcher uses the adjusted data will depend on the task at hand. Research that tries to find a causal relationship may want to use only the observations without BLS-imputed values. Research on overall trends may want to add even more imputations. There isn't one blanket response to the wage adjustments; but data users need to know they exist, before using the data.\n",
    "\n",
    "The next sections calculate descriptive statistics and show some areas where researchers may need to adjust the data or adjust the measurement technique in response to the issues mentioned above."
   ]
  },
  {
   "cell_type": "markdown",
   "metadata": {},
   "source": [
    "## Descriptive statistics: Percentile\n",
    "\n",
    "Researchers instead often calculate the usual wage at various points along the cumulative distribution. This tells us how many people earn below a certain wage. The BLS [published](https://www.bls.gov/news.release/wkyeng.toc.htm) wage statistics from the CPS use this approach. For example, the midpoint of the cumulative wage distribution is the median wage. \n",
    "\n",
    "### Weighted and unweighted median\n",
    "\n",
    "The 50th percentile or median wage is sometimes referred to as the typical wage. Half of earnings are below this point and half are above. "
   ]
  },
  {
   "cell_type": "code",
   "execution_count": 14,
   "metadata": {
    "ExecuteTime": {
     "end_time": "2021-05-02T23:09:43.287524Z",
     "start_time": "2021-05-02T23:09:43.283429Z"
    }
   },
   "outputs": [
    {
     "name": "stdout",
     "output_type": "stream",
     "text": [
      "Median wage: $800\n"
     ]
    }
   ],
   "source": [
    "print(f'Median wage: ${wage_obs.PRERNWA.median():.0f}')"
   ]
  },
  {
   "cell_type": "markdown",
   "metadata": {},
   "source": [
    "The CPS is a non-random sample, so researchers should utilize the sample weights, where possible. For wage data, the appropriate weight is the person outgoing rotation weight, `PWORWGT`. "
   ]
  },
  {
   "cell_type": "code",
   "execution_count": 15,
   "metadata": {
    "ExecuteTime": {
     "end_time": "2021-05-02T23:09:43.308876Z",
     "start_time": "2021-05-02T23:09:43.288548Z"
    },
    "code_folding": [
     0
    ]
   },
   "outputs": [
    {
     "name": "stdout",
     "output_type": "stream",
     "text": [
      "Weighted median wage: $800\n"
     ]
    }
   ],
   "source": [
    "# Generate cdf and interpolate over plist values\n",
    "def cdf_generator(data, wage_var, wgt_var='PWORWGT'):\n",
    "    '''\n",
    "    Create cdf from data and wage_var\n",
    "    '''\n",
    "    return (data.groupby(wage_var)[wgt_var].sum().cumsum() / \n",
    "            data[wgt_var].sum())\n",
    "\n",
    "\n",
    "def pct_interp(cdf, plist):\n",
    "    '''\n",
    "    Return list of x values for percentiles in plist\n",
    "    '''\n",
    "    X, PhiX = cdf.index.values, cdf.values\n",
    "    p = [np.interp(pct, PhiX, X) for pct in plist]\n",
    "    return p\n",
    "\n",
    "ecdf = cdf_generator(wage_obs, 'PRERNWA')\n",
    "median = pct_interp(ecdf, [0.5])[0]\n",
    "\n",
    "print(f'Weighted median wage: ${median:.0f}')"
   ]
  },
  {
   "cell_type": "markdown",
   "metadata": {},
   "source": [
    "Researchers also look at the wage at various percentiles of the wage distribution. For example, the 10th percentile wage, or first decile wage, is the wage at which 10 percent of wages are lower (and 90 percent are higher). \n",
    "\n",
    "The cumulative distribution below shows the value associated with each of several well-known percentiles. The median, or 50th percentile, is the most commonly used and is often considered the \"typical\" value. The graph also shows the first decile, or 10th percentile, the first quantile (25th percentile), third quantile (75th percentile), and ninth decile (90th percentile). The topcode shows up as a jump in cumulative distribution at the maximum value. "
   ]
  },
  {
   "cell_type": "code",
   "execution_count": 16,
   "metadata": {
    "ExecuteTime": {
     "end_time": "2021-05-02T23:09:43.490700Z",
     "start_time": "2021-05-02T23:09:43.310005Z"
    },
    "code_folding": [
     0
    ]
   },
   "outputs": [
    {
     "data": {
      "image/png": "[encoded data removed]",
      "text/plain": [
       "<Figure size 504x432 with 1 Axes>"
      ]
     },
     "metadata": {
      "needs_background": "light"
     },
     "output_type": "display_data"
    }
   ],
   "source": [
    "# Graph wage distribution\n",
    "fig, ax = plt.subplots(figsize=(7, 6))\n",
    "\n",
    "plist = [0.1, 0.25, 0.5, 0.75, 0.9]\n",
    "wlist = pct_interp(ecdf, plist)\n",
    "\n",
    "ecdf.plot(color='red', lw=3)\n",
    "ax.scatter(wlist, plist, edgecolor='blue', s=150, lw=2,\n",
    "           facecolors='none', alpha=1, zorder=3)\n",
    "\n",
    "for w, p in zip(wlist, plist):\n",
    "    plt.plot([w, w, p], [0, p, p], color='gray', lw=1)\n",
    "    ax.text(0, p-0.01, f'{p*100:.0f}', ha='right')\n",
    "    ax.text(w, -0.01, f'${w:,.0f}', ha='center', va='top')\n",
    "\n",
    "ax.text(10, 0.51, 'Median')\n",
    "title = 'Usual Weekly Earnings: Cumulative Distribution'\n",
    "ax.text(0, 1.04, title, size=18, transform = ax.transAxes)\n",
    "\n",
    "ax.plot([2884.61, 2884.61],[0, 1], ls='--', lw=1, c='lightgray')\n",
    "ax.text(2900, 0.84, 'Topcode ($a$):\\n$2,884.61')\n",
    "ax.text(-0.015, 0.5, 'Percentile', rotation=90, va='center', \n",
    "        ha='center', size=12, transform = ax.transAxes)\n",
    "ax.text(0.5, -0.04,  'Usual weekly earnings', va='center', \n",
    "        ha='center', size=12, transform = ax.transAxes)\n",
    "ax.axis('off');"
   ]
  },
  {
   "cell_type": "markdown",
   "metadata": {},
   "source": [
    "The cumulative distribution function using empirical data is pretty smooth in a zoomed out picture. Each blue circle marks the intersection between a specific percentile and the cumulative distribution function, and returns the wage that corresponds to that percentile, and vice versa. "
   ]
  },
  {
   "cell_type": "markdown",
   "metadata": {},
   "source": [
    "### Clustering of data and binned percentile\n",
    "\n",
    "As discussed above, CPS wage data show a tendency to cluster around rounded values. For example, here are is the frequency of earnings observations between \\\\$1,000 and \\\\$1,400 per week. The five most common are rounded values, such as \\\\$1,000 or \\\\$1,250, or values derived from rounded values, such as \\\\$1153.84, which is \\\\$60,000 per year, and \\\\$1346.15, which is \\\\$70,000 per year. "
   ]
  },
  {
   "cell_type": "code",
   "execution_count": 17,
   "metadata": {
    "ExecuteTime": {
     "end_time": "2021-05-02T23:09:43.498765Z",
     "start_time": "2021-05-02T23:09:43.491630Z"
    },
    "code_folding": [
     0
    ],
    "scrolled": true
   },
   "outputs": [
    {
     "data": {
      "text/plain": [
       "1000.00    238\n",
       "1250.00    167\n",
       "1153.84    140\n",
       "1346.15    108\n",
       "1200.00    100\n",
       "Name: PRERNWA, dtype: int64"
      ]
     },
     "execution_count": 17,
     "metadata": {},
     "output_type": "execute_result"
    }
   ],
   "source": [
    "# Five most common values between 1000-1400\n",
    "(wage_obs.query('1000 <= PRERNWA <= 1400')\n",
    "         .PRERNWA.value_counts().head())"
   ]
  },
  {
   "cell_type": "markdown",
   "metadata": {},
   "source": [
    "While the cumulative distribution function based on empirical data is fairly smooth in a zoomed-out view and compared to the probability density function, the zoomed-in view is less smooth. The clumping around rounded values shows up in the cumulative distribution function, just as it did in the first histogram. For example, 1.4 percent of all responses are exactly \\\\$800. This means the 49th percentile wage is also the 50th percentile wage. An even larger share of responses, 2.9 percent, are exactly \\\\$600."
   ]
  },
  {
   "cell_type": "code",
   "execution_count": 18,
   "metadata": {
    "ExecuteTime": {
     "end_time": "2021-05-02T23:09:43.508262Z",
     "start_time": "2021-05-02T23:09:43.499698Z"
    },
    "code_folding": [
     0
    ]
   },
   "outputs": [
    {
     "name": "stdout",
     "output_type": "stream",
     "text": [
      "Share reporting exactly $800 per week: 1.40%\n",
      "Share reporting exactly $600 per week: 2.87%\n"
     ]
    }
   ],
   "source": [
    "# Share of observations at specific wage\n",
    "def share_at_wage(group, wage_var, wage):\n",
    "    '''\n",
    "    Return share of observations with exact wage\n",
    "    '''\n",
    "    sh = group.loc[group[wage_var] == wage, 'NORM_WGT'].sum() \n",
    "    return sh * 100\n",
    "\n",
    "for wage_val in [800, 600]:\n",
    "    sh = share_at_wage(wage_obs, 'PRERNWA', wage_val)\n",
    "    print(f'Share reporting exactly ${wage_val} per week: {sh:.2f}%')"
   ]
  },
  {
   "cell_type": "markdown",
   "metadata": {},
   "source": [
    "This clustering can cause a measure like the median to return a certain value over many months even as the underlying distribution changes. The solution from BLS, also used by EPI, is shown in the second zoomed in chart. The gray shaded step-shaped-area in the background is the bar that represents each wage bin or interval. The purple line connects these bars and represents the smoothed cumulative distribution function. The intersection of the median and purple line is the green dot, which is the technique described by BLS and EPI, as I understand it."
   ]
  },
  {
   "cell_type": "code",
   "execution_count": 19,
   "metadata": {
    "ExecuteTime": {
     "end_time": "2021-05-02T23:09:43.813184Z",
     "start_time": "2021-05-02T23:09:43.509327Z"
    },
    "code_folding": [
     0
    ]
   },
   "outputs": [
    {
     "data": {
      "image/png": "[encoded data removed]",
      "text/plain": [
       "<Figure size 576x360 with 2 Axes>"
      ]
     },
     "metadata": {
      "needs_background": "light"
     },
     "output_type": "display_data"
    }
   ],
   "source": [
    "# Graph wage distribution in detail\n",
    "fig, axs = plt.subplots(1, 2, figsize=(8, 5), sharex=True, \n",
    "                        sharey=True, tight_layout=True)\n",
    "ymin, ymax = 0.46, 0.54\n",
    "xmin, xmax = 745, 890\n",
    "axs[0].set_ylim(ymin, ymax)\n",
    "axs[0].set_xlim(xmin, xmax)\n",
    "\n",
    "cdfu = cdf_generator(wage_obs, 'PRERNWA', wgt_var='NORM_SUM')\n",
    "cdfi = cdf_generator(wage_obs, 'BIN_WAGE')\n",
    "mediani = pct_interp(cdfi, [0.5])[0]\n",
    "\n",
    "for ax in axs:\n",
    "    ax.text(748, 0.5, 'Median', va='bottom')\n",
    "    color = 'red' if ax == axs[0] else 'gray'\n",
    "    lw = 3 if ax == axs[0] else 1\n",
    "    (ecdf.loc[(ecdf > 0.45) & (ecdf < 0.55)]\n",
    "         .plot(ax=ax, color=color, lw=lw, zorder=2))\n",
    "    ax.scatter(median, [0.5], color='blue', zorder=3)\n",
    "axs[0].plot([median, median, 0], [0, 0.5, 0.5], \n",
    "            color='gray', lw=1, zorder=1)\n",
    "(cdfu.loc[(cdfu > 0.45) & (cdfu < 0.55)]\n",
    "     .plot(ax=axs[0], color='gray', lw=2, zorder=1))\n",
    "\n",
    "axs[0].text(xmin*1.01, ymax*0.995, 'Weighted or \\nunweighted', \n",
    "            fontsize=12, va='top', ha='left')\n",
    "\n",
    "axs[0].text(850, 0.524, 'Weighted', color='red', \n",
    "            va='bottom', ha='right')\n",
    "axs[0].text(842, 0.514, 'Unweighted', color='gray', \n",
    "            va='bottom', ha='left')\n",
    "axs[0].set_ylabel('Percentile')\n",
    "axs[0].text(median + 2, 0.463, f'${median:.0f}', ha='left')\n",
    "\n",
    "# Ax2\n",
    "(cdfi.loc[(cdfi > 0.40) & (cdfi < 0.6)]\n",
    "     .plot(ax=axs[1], color='purple', lw=3, zorder=2))\n",
    "axs[1].scatter(mediani, [0.5], color='lawngreen', zorder=3)\n",
    "axs[1].plot([mediani, mediani, 0], [0, 0.5, 0.5], \n",
    "            color='gray', lw=1, zorder=1)\n",
    "for xval in [700, 750, 800, 850, 900]:\n",
    "    rect = Rectangle((xval-25, 0), 50, cdfi.loc[xval+25], \n",
    "                     zorder=0, alpha=0.1)\n",
    "    axs[1].add_patch(rect)\n",
    "    \n",
    "# BLS method\n",
    "axs[1].text(xmin*1.01, ymax*0.995, 'Binned and\\ninterpolated', \n",
    "            fontsize=12, va='top', ha='left') \n",
    "axs[1].text(mediani + 2, 0.463, f'${mediani:.0f}', ha='right')\n",
    "    \n",
    "title = 'Usual Weekly Earnings: Median using various measures'\n",
    "fig.text(0.02, 1.02, title, size=18)    \n",
    "\n",
    "footer = ('The binned and interpolated method (right) groups '\n",
    "          'wage responses into $50 bins and\\ncalculates the '+\n",
    "          'median at the intersection with the line that '+\n",
    "          'connects the bins before and\\nafter the interval '+\n",
    "          'where the median lies.')\n",
    "fig.text(0.03, -0.01, footer, size=12, va='top')    \n",
    "    \n",
    "plt.show()"
   ]
  },
  {
   "cell_type": "markdown",
   "metadata": {},
   "source": [
    "In published statistics from BLS, the median and other percentiles are calculated using a method that reduces the effect of clustering around rounded values. From the Usual Weekly Earnings [technical note](https://www.bls.gov/news.release/wkyeng.tn.htm):\n",
    "\n",
    "```\n",
    "The BLS procedure for estimating the median of an earnings distribution places each \n",
    "reported or calculated weekly earnings value into a $50-wide interval that is centered\n",
    "around a multiple of $50. The median is calculated through the linear interpolation of \n",
    "the interval in which the median lies.\n",
    "\n",
    "```\n",
    "\n",
    "Likewise, the Economic Policy Institute (EPI) also [use](https://www.epi.org/data/methodology/) binning and interpolation to smooth the cumulative distribution function. From EPI:\n",
    "\n",
    "```\n",
    "We then find the bins on either side of each decile and perform a weighted, linear interpolation to locate the wage cutoffs for each of the particular deciles. The weights for the interpolation are derived from differences in the cumulative percentages on either side of the decile.\n",
    "```\n",
    "#### Binned percentile example\n",
    "Let's work through an example of the binned and interpolated wage calculation for median usual weekly earnings in October 2019. \n",
    "\n",
    "Previously, we have grouped the data into bins that correspond to \\\\$50 intervals and are centered on multiples of \\\\$50. These groups were used to smooth the data in the histogram and the same approach applies here.\n",
    "\n",
    "Specifically, we group the data in groups with interval width $g$, starting at $n$ and going to $N$. \n",
    "\n",
    "$[n - \\frac{g}{2}, n + \\frac{g}{2})$ for $n$ in $[n, n+g, ..., N]$.\n",
    "\n",
    "We can create these groups using a function, $G(x)$ that returns the endpoint of the group containing wage value $x$, as:\n",
    "\n",
    "$G(x) = g\\lfloor \\frac{x}{g} + \\frac{1}{2} \\rfloor + \\frac{g}{2}$,\n",
    "\n",
    "where $\\lfloor x + \\frac{1}{2} \\rfloor$ is $x$ rounded to the nearest integer. Note these are not square brackets but the notation representing the floor function. The $\\frac{g}{2}$ term at the end adjusts so that the endpoint of the interval $[n - \\frac{g}{2}, n + \\frac{g}{2})$ is returned. \n",
    "\n",
    "So, for example, when $g = 50$, then $G(800) = 50\\lfloor \\frac{800}{50} + \\frac{1}{2} \\rfloor + \\frac{50}{2} = 825$. The function returns the endpoint of the interval containing 800."
   ]
  },
  {
   "cell_type": "code",
   "execution_count": 20,
   "metadata": {
    "ExecuteTime": {
     "end_time": "2021-05-02T23:09:43.816373Z",
     "start_time": "2021-05-02T23:09:43.814116Z"
    },
    "code_folding": [
     0
    ]
   },
   "outputs": [
    {
     "name": "stdout",
     "output_type": "stream",
     "text": [
      "G(800) = 825.0\n"
     ]
    }
   ],
   "source": [
    "# Function to create bin from x and bin size\n",
    "def G(x, g):\n",
    "    '''\n",
    "    Return the group or bin for x when groupsize is g\n",
    "    '''\n",
    "    G = g*round(x/g + 0.5)+(0.5*g)\n",
    "    return G\n",
    "\n",
    "print(f'G(800) = {G(800, 50)}')"
   ]
  },
  {
   "cell_type": "markdown",
   "metadata": {},
   "source": [
    "We use these groups to smooth out the cumulative distribution function. Since the bin for the value of the empirical median (\\\\$800) runs from $[775, 825)$, we use the share of people who earn \\\\$775 and \\\\$825. The cumulative distribution for these values (the share of observations with earnings in the bin or below it) is 0.483 and 0.513, respectively. \n",
    "\n",
    "Since we use the endpoints of the bins to know how many people have earnings in the bin or below, we can draw a line from the bin before the median to the bin after the median (the purple line above). The smoothed line runs from (775, 0.483) to (825, 0.513). \n",
    "\n",
    "The line, represented by these two endpoints $(x_1, y_1), (x_2, y_2)$, intersects with the median at wage value $x$ that is of interest to us--it is our estimate of the binned and interpolated median wage. We can use numpy to solve for this value, or use any of several mathematical techniques. For this example, I'll calculate the function represented by the line connecting our two bins of interest, then evaluate the function at the median ($y=0.5$).\n",
    "\n",
    "Let $y = mx + b$, where $y$ is the probability of earning a certain wage or less, $m$ is the slope of the line that plots the function, $x$ is the wage, and $b$ is the intercept or y value associated with a wage of 0 in the function. \n",
    "\n",
    "The slope, $m$, is the rate at which an increase in wages causes ones earnings to become greater than other peoples' earnings. We can solve for the slope using the rate of change in y divided by the rate of change in x, or\n",
    "\n",
    "$m = \\frac{y_2 - y_1}{x_2 - x_1} = \\frac{0.513 - 0.483}{825 - 775} = \\frac{0.03}{50} = 0.0006$\n",
    "\n",
    "Knowing $m$, we can solve for $b$ by plugging in the $x$ and $y$ from either of the two points. \n",
    "\n",
    "$b = 0.483 - (0.0006*(775)) = 0.018$\n",
    "\n",
    "Once we have $b$, we can evaluate where $y = 0.5$ for $x$, which rearranges to $x = \\frac{0.5 - b}{m}$. The estimated median using data binning and interpolation is given by:\n",
    "\n",
    "$x = \\frac{0.5 - 0.018}{0.0006} = 803.33$\n",
    "\n",
    "This is very close to the value calculated above, with minor differences from rounding. "
   ]
  },
  {
   "cell_type": "code",
   "execution_count": 21,
   "metadata": {
    "ExecuteTime": {
     "end_time": "2021-05-02T23:09:43.841276Z",
     "start_time": "2021-05-02T23:09:43.817220Z"
    },
    "code_folding": [],
    "scrolled": true
   },
   "outputs": [
    {
     "name": "stdout",
     "output_type": "stream",
     "text": [
      "Median from interpolation of bin: $803.50\n"
     ]
    }
   ],
   "source": [
    "# Python function returns percentile using interpolation\n",
    "def binned_wage(df, wage_var='PRERNWA', perc=0.5, \n",
    "                bins=np.arange(-25, 3000, 50)):\n",
    "    '''\n",
    "    Returns wage estimate based on linear interpolation through \n",
    "    the bin containing the wage.\n",
    "    \n",
    "    perc = percentile of interest (0.5 is median)\n",
    "    bins = list of bin start locations\n",
    "    '''\n",
    "    cdf = (df.groupby(pd.cut(df[wage_var], bins))\n",
    "             .PWORWGT.sum().cumsum() / df.PWORWGT.sum())\n",
    "    \n",
    "    return np.interp(perc, cdf, bins[1:])\n",
    "\n",
    "med = f'${binned_wage(wage_obs):.2f}'\n",
    "print(f'Median from interpolation of bin: {med}')"
   ]
  },
  {
   "cell_type": "markdown",
   "metadata": {},
   "source": [
    "#### Comparing results\n",
    "\n",
    "Comparing different calculations of the median earnings in October 2019 won't demonstrate the reason for smoothing the wage data. The issue is that wage percentile measures get stuck on rounded values. The best demonstration comes at the end of the notebook in the section that covers longer period of time, but for now let's add in two more months of CPS data for comparison. \n",
    "\n",
    "Adding the November 2019 and December 2019 data allows us to see if wages get stuck at rounded values over multiple months. If this happens, the percentile wage growth is zero over the period, even though the share of people earning the rounded value changes. "
   ]
  },
  {
   "cell_type": "code",
   "execution_count": 22,
   "metadata": {
    "ExecuteTime": {
     "end_time": "2021-05-02T23:09:47.336975Z",
     "start_time": "2021-05-02T23:09:43.842708Z"
    },
    "code_folding": [
     0
    ]
   },
   "outputs": [],
   "source": [
    "# Create new dataset with three months of observations\n",
    "\n",
    "# Usually work FT (35+ hours) for comparing to BLS stats\n",
    "uslft = lambda x: np.where((x.PEHRUSL1 >= 35) | (x.PEHRFTPT == 1), 1, 0)\n",
    "\n",
    "data = pd.DataFrame()\n",
    "for file in ['oct19pub.dat', 'nov19pub.dat', 'dec19pub.dat']:\n",
    "    dfm = (cps_unpack_month(file, cps_unpacker(m), cols)\n",
    "           .pipe(cps_decimal_adjust, [earnvars, wgtvars]))\n",
    "    wm = dfm.loc[dfm.PRERNWA > 0].copy()\n",
    "    wm = wm.assign(BIN_WAGE = bin_wage, USLFT = uslft)\n",
    "    data = data.append(wm)"
   ]
  },
  {
   "cell_type": "code",
   "execution_count": 23,
   "metadata": {
    "ExecuteTime": {
     "end_time": "2021-05-02T23:09:47.468292Z",
     "start_time": "2021-05-02T23:09:47.339082Z"
    },
    "code_folding": []
   },
   "outputs": [
    {
     "name": "stdout",
     "output_type": "stream",
     "text": [
      "Table 3.\n",
      "Median usual weekly earnings, usually full-time\n"
     ]
    },
    {
     "data": {
      "text/html": [
       "<style  type=\"text/css\" >\n",
       "</style><table id=\"T_354e7_\" ><thead>    <tr>        <th class=\"blank level0\" ></th>        <th class=\"col_heading level0 col0\" >Q4 `19</th>        <th class=\"col_heading level0 col1\" >Oct `19</th>        <th class=\"col_heading level0 col2\" >Nov `19</th>        <th class=\"col_heading level0 col3\" >Dec `19</th>    </tr></thead><tbody>\n",
       "                <tr>\n",
       "                        <th id=\"T_354e7_level0_row0\" class=\"row_heading level0 row0\" >Simple median</th>\n",
       "                        <td id=\"T_354e7_row0_col0\" class=\"data row0 col0\" >$960.26</td>\n",
       "                        <td id=\"T_354e7_row0_col1\" class=\"data row0 col1\" >$960.00</td>\n",
       "                        <td id=\"T_354e7_row0_col2\" class=\"data row0 col2\" >$961.00</td>\n",
       "                        <td id=\"T_354e7_row0_col3\" class=\"data row0 col3\" >$960.00</td>\n",
       "            </tr>\n",
       "            <tr>\n",
       "                        <th id=\"T_354e7_level0_row1\" class=\"row_heading level0 row1\" >Weighted median</th>\n",
       "                        <td id=\"T_354e7_row1_col0\" class=\"data row1 col0\" >$949.90</td>\n",
       "                        <td id=\"T_354e7_row1_col1\" class=\"data row1 col1\" >$942.28</td>\n",
       "                        <td id=\"T_354e7_row1_col2\" class=\"data row1 col2\" >$960.17</td>\n",
       "                        <td id=\"T_354e7_row1_col3\" class=\"data row1 col3\" >$936.58</td>\n",
       "            </tr>\n",
       "            <tr>\n",
       "                        <th id=\"T_354e7_level0_row2\" class=\"row_heading level0 row2\" >Binned and interpolated median</th>\n",
       "                        <td id=\"T_354e7_row2_col0\" class=\"data row2 col0\" >$935.81</td>\n",
       "                        <td id=\"T_354e7_row2_col1\" class=\"data row2 col1\" >$932.77</td>\n",
       "                        <td id=\"T_354e7_row2_col2\" class=\"data row2 col2\" >$946.92</td>\n",
       "                        <td id=\"T_354e7_row2_col3\" class=\"data row2 col3\" >$927.99</td>\n",
       "            </tr>\n",
       "            <tr>\n",
       "                        <th id=\"T_354e7_level0_row3\" class=\"row_heading level0 row3\" >BLS reported data (quarterly)</th>\n",
       "                        <td id=\"T_354e7_row3_col0\" class=\"data row3 col0\" >$936.00</td>\n",
       "                        <td id=\"T_354e7_row3_col1\" class=\"data row3 col1\" >-</td>\n",
       "                        <td id=\"T_354e7_row3_col2\" class=\"data row3 col2\" >-</td>\n",
       "                        <td id=\"T_354e7_row3_col3\" class=\"data row3 col3\" >-</td>\n",
       "            </tr>\n",
       "    </tbody></table>"
      ],
      "text/plain": [
       "<pandas.io.formats.style.Styler at 0x7fefb1dd81f0>"
      ]
     },
     "execution_count": 23,
     "metadata": {},
     "output_type": "execute_result"
    }
   ],
   "source": [
    "# Table showing results over time\n",
    "print('Table 3.\\nMedian usual weekly earnings, usually full-time')\n",
    "res = pd.DataFrame(dtype='float')\n",
    "groups = [('Q4 `19', [10, 11, 12]), ('Oct `19', [10]), \n",
    "          ('Nov `19', [11]), ('Dec `19', [12])]\n",
    "for mon, month in groups:\n",
    "    datam = data.query('HRMONTH in @month and USLFT == 1')\n",
    "    res.loc['Simple median', mon] = datam.PRERNWA.median()\n",
    "    cdfm = cdf_generator(datam, 'PRERNWA')\n",
    "    res.loc['Weighted median', mon] = pct_interp(cdfm, [0.5])[0]\n",
    "    cdfmi = cdf_generator(datam, 'BIN_WAGE')\n",
    "    name = 'Binned and interpolated median'\n",
    "    res.loc[name, mon] = binned_wage(datam)\n",
    "\n",
    "BLSval = fred['LEU0252881500Q'].loc['2019-10-01', 'VALUE']    \n",
    "res.loc['BLS reported data (quarterly)', groups[0][0]] = BLSval\n",
    "res.style.format('${:,.2f}', na_rep='-')"
   ]
  },
  {
   "cell_type": "markdown",
   "metadata": {},
   "source": [
    "While the clustering around rounded values is an issue, the solution is fairly straightforward and non-controversial. Statistical agencies err on the side of caution, so the BLS seal of approval for using the interpolated binned wage should be comforting.\n",
    "\n",
    "The next section covers a more challenging issue. The censoring of wage data above \\\\$150,000 per year complicates calculations of mean and variance.\n",
    "\n",
    "## Descriptive statistics: mean\n",
    "\n",
    "Estimates of average weekly earnings are complicated by topcoding in CPS data. CPS wage data are right-censored. The values in the right tail of the distribution, wages above \\\\$150,000 per year, are replaced with the topcode, equivalent to \\\\$150,000 per year. This means the average calculated from the censored data is below the true average.\n",
    "\n",
    "This section doesn't solve that problem. It calculates estimates of the mean by replacing the censored data with estimates of the average censored value. This is essentially a work-around for the specific problem of calculating a mean wage, but it won't work for solving other problems created by censored data. "
   ]
  },
  {
   "cell_type": "markdown",
   "metadata": {},
   "source": [
    "### Estimating the mean above the topcode\n",
    "\n",
    "Using assumptions about the distribution of usual weekly earnings, we can estimate the mean of the censored portion of the data, referred to as the mean above the topcode. Three techniques for doing so are discussed in this section. Depending on the use case, none of these approaches may be suitable, as they all apply a new censored value in place of the old censored value. \n",
    "\n",
    "#### Lognormal distribution\n",
    "\n",
    "First, let's examine the technique from John Schmitt (2003), used in the Center for Economic and Policy Research (CEPR) CPS ORG partial extracts, which assumes that usual weekly earnings are lognormally distributed (the natural log of usual weekly earnings is normally distributed). To start, let $x$ = usual weekly earnings and $y^* = ln(x)$. Values in the censored data, $y$, are topcoded at $a$, such that $y = a$ if $y^* > a$ else $y = y^*$.\n",
    "\n",
    "We know the mean of the censored data (E[$y$]). We also know the topcode ($a$), and what share of the data are not topcoded ($\\Phi$). Information on the topcoded share of observations is derived from CPS variable `PTWK`. In October 2019, about 95.9% of earnings observations are uncensored, meaning around 4.1% of observations are topcoded ($1 - \\Phi$).  \n",
    "\n",
    "Knowing $\\Phi$ tells us how many standard deviations the topcode is from the true mean. This is because the percent point function of $\\Phi$ returns ($\\alpha$), the distance from the mean, in standard deviations, for a standard normal distribution. The topcode's distance from mean also allows us to identify the probability density associated with the topcode (how relatively likely a value is to be near the topcode). "
   ]
  },
  {
   "cell_type": "code",
   "execution_count": 24,
   "metadata": {
    "ExecuteTime": {
     "end_time": "2021-05-02T23:09:47.476007Z",
     "start_time": "2021-05-02T23:09:47.469566Z"
    },
    "code_folding": [
     0
    ]
   },
   "outputs": [
    {
     "name": "stdout",
     "output_type": "stream",
     "text": [
      "Values below show natural log\n",
      "Censored data mean: 6.648\n",
      "Censored data standard deviation: 0.829\n",
      "Topcode: 7.967\n",
      "Topcoded share of data: 0.041\n",
      "Uncensored share of data: 0.959\n",
      "Topcode standard deviations from the mean: 1.734\n",
      "Probability density of topcode: 0.089\n"
     ]
    }
   ],
   "source": [
    "# Parameters of the censored data\n",
    "print('Values below show natural log')\n",
    "ys = np.log(wage_obs['PRERNWA'])\n",
    "weights = wage_obs['PWORWGT']\n",
    "mu_s = np.average(ys, weights=weights)\n",
    "print(f'Censored data mean: {mu_s:.3f}')\n",
    "sigma_s = np.sqrt(np.cov(ys, aweights=weights))\n",
    "print(f'Censored data standard deviation: {sigma_s:.3f}')\n",
    "a = np.log(2884.61) # topcode = 150,000 / 52\n",
    "print(f'Topcode: {a:.3f}')\n",
    "top_coded_share = (wage_obs.loc[wage_obs.PTWK == 1, 'PWORWGT'].sum() / \n",
    "                   wage_obs.PWORWGT.sum())\n",
    "print(f'Topcoded share of data: {top_coded_share:.3f}')\n",
    "Phi = 1 - top_coded_share\n",
    "print(f'Uncensored share of data: {Phi:.3f}')\n",
    "alpha = norm.ppf(Phi)\n",
    "print(f'Topcode standard deviations from the mean: {alpha:.3f}')\n",
    "pdf_a = norm.pdf(alpha)\n",
    "print(f'Probability density of topcode: {pdf_a:.3f}')"
   ]
  },
  {
   "cell_type": "markdown",
   "metadata": {},
   "source": [
    "To solve for the true mean, $\\mu$, and the standard deviation, $\\sigma$, we utilize certain properties of a censored normal variable. \n",
    "\n",
    "When the upper portion of the distribution is censored, the expected value of the censored distribution can be expressed as\n",
    "\n",
    "E$[y] = (1 - \\Phi)a + \\Phi(\\mu - \\sigma \\lambda)$, where\n",
    "\n",
    "$\\Phi(\\frac{a - \\mu}{\\sigma}) = \\Phi(\\alpha) = P(y^* < a) = \\Phi$, and \n",
    "\n",
    "$\\lambda = \\frac{\\phi(\\alpha)}{\\Phi(\\alpha)}$,\n",
    "\n",
    "where $\\phi(\\alpha)$ is the standard normal probability density function and $\\Phi(\\alpha)$ is the standard normal cumulative distribution function. \n",
    "\n",
    "The ratio represented by $\\lambda$ is the inverse Mill's ratio, and tells us the expected value of the censored area. In a standard normal probability density function, the inverse Mill's ratio is the height at the cutoff divided by the area under the curve and above the cutoff. \n",
    "\n",
    "The function for the expected value of a censored normal variable decomposes the censored data mean into the portion from the censored values and the uncensored portion, which is the true mean, and an adjustment for the expected value of the censored portion. In the case of topcoded CPS earnings, the mean of the censored data is below the true mean, so $\\lambda$ is negative. In other words, the expected value of the censored portion of wages is captured by the true mean, but not by the censored data mean. \n",
    "\n",
    "Rearranging and substituting:\n",
    "\n",
    "$\\sigma = \\frac{a - E[y]}{\\Phi (\\alpha - \\lambda)}$, and\n",
    "\n",
    "$\\mu = a - (\\alpha \\sigma)$\n",
    "\n",
    "Finally, the mean above the topcode is estimated as a truncated standard normal distribution, where\n",
    "\n",
    "E$[y^*|y>a] = \\mu + \\sigma\\frac{\\phi(\\alpha)}{1-\\Phi(\\alpha)}$."
   ]
  },
  {
   "cell_type": "code",
   "execution_count": 25,
   "metadata": {
    "ExecuteTime": {
     "end_time": "2021-05-02T23:09:47.485416Z",
     "start_time": "2021-05-02T23:09:47.477222Z"
    },
    "code_folding": [
     0
    ]
   },
   "outputs": [],
   "source": [
    "# Replicate math above with python function\n",
    "def mtc_cepr(data, weights, topcode, topcode_share):\n",
    "    '''\n",
    "    Estimate mean above topcode for lognormally distributed data\n",
    "    '''\n",
    "    a = np.log(topcode)\n",
    "    phi = 1 - topcode_share\n",
    "    y = np.log(data)\n",
    "    X = np.average(y, weights=weights)\n",
    "    alpha = norm.ppf(phi) \n",
    "    lmbda = -norm.pdf(alpha) / phi\n",
    "    sigma = (a - X) / (phi * (alpha - lmbda))\n",
    "    mu = a - (alpha * sigma)\n",
    "    hlambda = norm.pdf(alpha) / (1 - norm.cdf(alpha))\n",
    "    mtc = mu + sigma * hlambda\n",
    "    \n",
    "    return np.exp(mtc)"
   ]
  },
  {
   "cell_type": "code",
   "execution_count": 26,
   "metadata": {
    "ExecuteTime": {
     "end_time": "2021-05-02T23:09:47.497873Z",
     "start_time": "2021-05-02T23:09:47.486415Z"
    },
    "code_folding": [
     0
    ]
   },
   "outputs": [
    {
     "name": "stdout",
     "output_type": "stream",
     "text": [
      "Mean above topcode: $3,915.68\n",
      "Censored mean: $1,014.44\n",
      "Estimated true mean: $1,057.16\n"
     ]
    }
   ],
   "source": [
    "# Calculate mean above topcode and estimate true mean\n",
    "wages = wage_obs.PRERNWA.values\n",
    "wgts = wage_obs.PWORWGT.values\n",
    "\n",
    "# Topcoded share of wage group\n",
    "tc_share = (wage_obs.loc[wage_obs.PTWK == 1, 'PWORWGT'].sum() / \n",
    "            wage_obs.PWORWGT.sum())\n",
    "\n",
    "# Mean above topcode\n",
    "mtc = mtc_cepr(wages, wgts, 2884.61, tc_share)\n",
    "print(f'Mean above topcode: ${mtc:,.2f}')\n",
    "\n",
    "# Censored mean\n",
    "cm = np.average(wages, weights=wgts)\n",
    "print(f'Censored mean: ${cm:,.2f}')\n",
    "\n",
    "# Estimated true mean\n",
    "wage2 = (lambda x: np.where(x.PTWK == 1, \n",
    "                            mtc.round(2), \n",
    "                            x.PRERNWA))\n",
    "wages2 = wage_obs.assign(WAGE2 = wage2).WAGE2.values\n",
    "em = np.average(wages2, weights=wgts)\n",
    "print(f'Estimated true mean: ${em:,.2f}')"
   ]
  },
  {
   "cell_type": "markdown",
   "metadata": {},
   "source": [
    "#### Estimates for men and women, separately\n",
    "\n",
    "The CPS extracts from CEPR and EPI estimate the mean above the topcode separately for men and women. This breaks the cluster at the maximum value of the wage data into three separate values: those with usual weekly earnings of $150,000 per year (those not topcoded but actually earning the topcode), the new topcode for men, and the new topcode for women. Here's the estimates for men and women in October 2019:"
   ]
  },
  {
   "cell_type": "code",
   "execution_count": 27,
   "metadata": {
    "ExecuteTime": {
     "end_time": "2021-05-02T23:09:47.519548Z",
     "start_time": "2021-05-02T23:09:47.498823Z"
    },
    "code_folding": [
     0
    ]
   },
   "outputs": [
    {
     "name": "stdout",
     "output_type": "stream",
     "text": [
      "Mean above topcode, Men: $3,962.38\n",
      "Mean above topcode, Women: $3,790.32\n"
     ]
    }
   ],
   "source": [
    "# Calculate separate mean above topcode for men and women\n",
    "wage_obs['WAGE3'] = wage_obs['PRERNWA'].copy()\n",
    "for sex, sid in [('Men', 1), ('Women', 2)]:\n",
    "    wage_grp = wage_obs.query('PESEX == @sid')\n",
    "    wages = wage_grp.PRERNWA.values\n",
    "    wgts = wage_grp.PWORWGT.values\n",
    "    # Topcoded share of wage group\n",
    "    tc_share = (wage_grp.loc[wage_grp.PTWK == 1, 'PWORWGT'].sum() / \n",
    "                wage_grp.PWORWGT.sum())\n",
    "    # Mean above topcode\n",
    "    mtc = mtc_cepr(wages, wgts, 2884.61, tc_share)\n",
    "    print(f'Mean above topcode, {sex}: ${mtc:,.2f}')\n",
    "    wage_obs.loc[(wage_obs['PESEX'] == sid) & \n",
    "                 (wage_obs['PTWK'] == 1), 'WAGE3'] = mtc"
   ]
  },
  {
   "cell_type": "code",
   "execution_count": 28,
   "metadata": {
    "ExecuteTime": {
     "end_time": "2021-05-02T23:09:48.156472Z",
     "start_time": "2021-05-02T23:09:47.520859Z"
    },
    "code_folding": [
     0
    ],
    "scrolled": false
   },
   "outputs": [
    {
     "data": {
      "image/png": "[encoded data removed]",
      "text/plain": [
       "<Figure size 432x360 with 2 Axes>"
      ]
     },
     "metadata": {
      "needs_background": "light"
     },
     "output_type": "display_data"
    }
   ],
   "source": [
    "# Topcode adjusted vs unadjusted\n",
    "groups = [(0, 'PRERNWA', 'Original data'),\n",
    "          (1, 'WAGE3', 'Topcode replaced data')]\n",
    "\n",
    "colors = ['mediumblue', 'skyblue']\n",
    "\n",
    "fig, axs = plt.subplots(2, 1, sharey=True, sharex=True, \n",
    "                        figsize=(6, 5), constrained_layout=True)\n",
    "\n",
    "weights = wage_obs['PWORWGT']\n",
    "for x, wagevar, title, in groups:\n",
    "    ax = axs[x]\n",
    "    mu = np.average(wage_obs[wagevar], weights=weights)\n",
    "    sigma = np.sqrt(np.cov(wage_obs[wagevar], aweights=weights))\n",
    "    grps = [grp[wagevar] for i, grp in wage_obs.groupby('PTWK')]\n",
    "    gwgts = [grp['PWORWGT'] / 1000000 for i, grp in wage_obs.groupby('PTWK')]\n",
    "    ax.hist(grps, weights=gwgts, stacked=True, bins=range(25, 4025, 50), color=colors)\n",
    "    ax.text(0, 1.04, title,  size=14, transform=ax.transAxes)\n",
    "    ax.legend(['Not topcoded', 'Topcoded'], loc=1)\n",
    "    ax.axvline(mu, ls='--', color='red')\n",
    "    stats = f'$\\mu$ = \\${mu:,.0f}\\n$\\sigma$ = \\${sigma:,.0f}'\n",
    "    ax.text(mu + 100, 6.5, stats, size=11, ha='left')\n",
    "    \n",
    "fig.text(0.01, 1.05, 'Usual Weekly Earnings: Topcode replacement', size=18);"
   ]
  },
  {
   "cell_type": "markdown",
   "metadata": {},
   "source": [
    "Replacing the censored values with the new estimated mean above the topcode increases the mean wage and standard deviation. The mean is shown by the dashed red line on each plot. The new histogram is more-like the actual underlying data, but still suffers from most of the issues of the previous histogram. Primarily, there are now only two vales (representing men and women) above the topcode. The lack of variation above the topcode hinders efforts to explain usual weekly earnings based on personal characteristics other than gender.\n",
    "\n",
    "Separate estimates for men and women leads into the idea of using more characteristics about individuals to estimate their uncensored wage. Guides for handling missing data, such as *Applied Missing Data Analysis* by Craig Enders, discuss techniques that use a regression to estimate the censored values for individuals and then apply some random noise to make the variance more like the actual data. This is referred to as stochaistic regression imputation, and is used for data that is missing at random (MAR). More sophisticated models are not covered in this notebook. \n",
    "\n",
    "For practical purposes, I will take a look quickly at a version of the previous technique that creates eight estimates based on gender and additionally the four Census regions. This is the version I intend to implement in the bd CPS."
   ]
  },
  {
   "cell_type": "code",
   "execution_count": 29,
   "metadata": {
    "ExecuteTime": {
     "end_time": "2021-05-02T23:09:48.199691Z",
     "start_time": "2021-05-02T23:09:48.157503Z"
    },
    "code_folding": [
     0
    ]
   },
   "outputs": [
    {
     "name": "stdout",
     "output_type": "stream",
     "text": [
      "Mean above the topcode by group:\n",
      "  Northeast Region\n",
      "    Men:         $4,042.09\n",
      "    Women:       $3,871.50\n",
      "  Midwest Region\n",
      "    Men:         $3,821.16\n",
      "    Women:       $3,703.61\n",
      "  South Region\n",
      "    Men:         $3,893.06\n",
      "    Women:       $3,714.95\n",
      "  West Region\n",
      "    Men:         $4,097.52\n",
      "    Women:       $3,886.58\n"
     ]
    }
   ],
   "source": [
    "# Region and gender groups\n",
    "print('Mean above the topcode by group:')\n",
    "wage_obs['WAGE_'] = wage_obs['PRERNWA'].copy()\n",
    "dreg = {1: 'Northeast', 2: 'Midwest', 3: 'South', 4: 'West'}\n",
    "for region in [1, 2, 3, 4]:\n",
    "    print(f'  {dreg[region]} Region')\n",
    "    for sex, sid in [('Men:    ', 1), ('Women:  ', 2)]:\n",
    "        wage_grp = wage_obs.query('PESEX == @sid and GEREG == @region')\n",
    "        wages = wage_grp.PRERNWA.values\n",
    "        wgts = wage_grp.PWORWGT.values\n",
    "        # Topcoded share of wage group\n",
    "        tc_share = (wage_grp.loc[wage_grp.PTWK == 1, 'PWORWGT'].sum() / \n",
    "                    wage_grp.PWORWGT.sum())\n",
    "        # Mean above topcode\n",
    "        mtc = mtc_cepr(wages, wgts, 2884.61, tc_share)\n",
    "        print(f'    {sex}     ${mtc:,.2f}')\n",
    "        wage_obs.loc[(wage_obs['PESEX'] == sid) & \n",
    "                     (wage_obs['GEREG'] == region), 'WAGE_'] = mtc"
   ]
  },
  {
   "cell_type": "markdown",
   "metadata": {},
   "source": [
    "### Another approach assuming lognormal distribution\n",
    "\n",
    "There are multiple ways to estimate the mean above the topcode. Another option is to fit a lognormal distribution to the data and use the fitted distribution to calculate the mean above the topcode and estimate the true mean. Maximum likelihood estimation (MLE) provides the log-normal distribution shape and scale parameters that make the observed values the most likely sample among all possible samples. We then calculated the expected value for the area above the topcode and the expected value of the full uncensored distribution, using the fitted curve."
   ]
  },
  {
   "cell_type": "code",
   "execution_count": 30,
   "metadata": {
    "ExecuteTime": {
     "end_time": "2021-05-02T23:09:48.369094Z",
     "start_time": "2021-05-02T23:09:48.200640Z"
    },
    "code_folding": [
     0
    ]
   },
   "outputs": [
    {
     "name": "stdout",
     "output_type": "stream",
     "text": [
      "Mean above the topcode: $4,347.50\n",
      "Estimated true mean: $1,085.72\n"
     ]
    },
    {
     "data": {
      "image/png": "[encoded data removed]",
      "text/plain": [
       "<Figure size 576x360 with 1 Axes>"
      ]
     },
     "metadata": {
      "needs_background": "light"
     },
     "output_type": "display_data"
    }
   ],
   "source": [
    "# Fitting distribution to data\n",
    "def mtc_mle(data, topcode):\n",
    "    '''\n",
    "    MLE fitting log-normal distribution to sample\n",
    "    '''\n",
    "    s, loc, scale = lognorm.fit(data.PRERNWA, floc=0)\n",
    "    mean = lognorm.stats(s, scale=scale, moments='m')\n",
    "\n",
    "    mtc = lognorm.expect(lambda x: x, args=(s,), scale=scale, \n",
    "                         lb=topcode, conditional=True)\n",
    "    return mtc, mean, s, scale\n",
    "\n",
    "mtc, mean, s, scale = mtc_mle(wage_obs, 2884.61)\n",
    "print(f'Mean above the topcode: ${mtc:,.2f}')\n",
    "print(f'Estimated true mean: ${mean:,.2f}')\n",
    "\n",
    "# Graph of fitted and observed values\n",
    "fig, ax = plt.subplots(figsize=(8, 5))\n",
    "x = np.linspace(0, 8000, 10000)\n",
    "cdf = lognorm.cdf(x, s=s, scale=scale)\n",
    "plt.plot(x, cdf * 100, color='blue')\n",
    "\n",
    "# Plot data from ecdf above\n",
    "plt.scatter(ecdf.index.values, ecdf.values * 100, \n",
    "            color='red', s=2)\n",
    "plt.axvline(2884.61, color='lightgray', \n",
    "            lw=1, zorder=0)\n",
    "plt.text(2960, 10, 'topcode', color='gray')\n",
    "plt.text(620, 20, 'observed\\nvalues', color='red')\n",
    "plt.text(4000, 85, 'MLE-fitted\\ndistribution', \n",
    "         color='blue', ha='center')\n",
    "plt.text(-1000, 110, 'Usual Weekly Earnings: Fit to lognormal cdf', \n",
    "        size=18)\n",
    "plt.xlabel('Usual weekly earnings')\n",
    "plt.ylabel('Percentile');"
   ]
  },
  {
   "cell_type": "markdown",
   "metadata": {},
   "source": [
    "A lognormal distribution fits the uncensored wage data very well. Importantly, however, economists argue that the censored portion of the wage data have different characteristics from the uncensored data. Specifically, the top two or three percent of the wage distribution follows a Pareto distribution."
   ]
  },
  {
   "cell_type": "markdown",
   "metadata": {},
   "source": [
    "### Pareto distribution\n",
    "\n",
    "The Pareto distribution gives the probability of usual weekly earnings, $y$, is greater than $x$ as:\n",
    "\n",
    "$Pr(y>x) = (\\frac{k}{x})^{\\alpha}$,\n",
    "\n",
    "where $k$ is the minimum value where the Pareto distribution applies and $\\alpha$ is the parameter of interest and determines the shape of the distribution. As $x$ gets further away from the minimum value, it becomes less likely. the key step is estimating $\\alpha$, which determines the shape of this dropoff in density as $x$ moves further from the minimum value.\n",
    "\n",
    "The CPS extracts from the Economic Policy Institute (EPI) assume that topcoded wages follow a Pareto distribution, and use this assumption to estimate the mean above the topcode. The EPI extracts use the 80th percentile wage as $k$ and estimate $\\alpha$ based on the wage distribution for the top 20 percent of wage earners.\n",
    "\n",
    "Perhaps the best way to see this is with a log-log graph showing population below a certain wage value and the wage value. This type of graph takes the natural log of both variables, which allows us to see areas where the Pareto distribution fits the data as areas where the data are in a straight line. The slope of this line provides our estimate of $\\alpha$. \n",
    "\n",
    "The math behind this comes from taking the log of the probability density function above: \n",
    "\n",
    "$ln \\phi(x) = ln(\\alpha\\frac{k^{\\alpha}}{x^{\\alpha + 1}}) = ln(\\alpha k^{\\alpha}) - (\\alpha + 1)ln(x)$,\n",
    "\n",
    "which converts the function into a linear model that we can estimate using the data. \n",
    "\n",
    "Summed up, we want to know how the likelihood of someone having a certain income, $x$, falls as $x$ increases. We know how many high wage earners exist but don't know how their wages are distributed. If we assume the pattern or distribution in the group of people with income below them is the same as the pattern for their income, we can estimate their income. "
   ]
  },
  {
   "cell_type": "code",
   "execution_count": 31,
   "metadata": {
    "ExecuteTime": {
     "end_time": "2021-05-02T23:09:48.378009Z",
     "start_time": "2021-05-02T23:09:48.370107Z"
    },
    "code_folding": [
     0
    ]
   },
   "outputs": [],
   "source": [
    "# Function to calculate Pareto-imputed mean\n",
    "def mtc_pareto(df, threshold, topcode):\n",
    "    '''\n",
    "    Return Pareto-imputed mean above topcode\n",
    "    Also return data for graphing result\n",
    "    '''\n",
    "    #Separate 150k from topcode\n",
    "    split_tc = lambda x: np.where(x.PTWK == 1, \n",
    "                                  x.PRERNWA + 50, \n",
    "                                  x.PRERNWA)\n",
    "    df = df.assign(SPLIT_TC = split_tc)\n",
    "    data = df.SPLIT_TC\n",
    "    weights = df.PWORWGT\n",
    "    \n",
    "    # Value at threshold \n",
    "    cdf = cdf_generator(df, 'SPLIT_TC')\n",
    "    threshold_val = pct_interp(cdf, [threshold])[0]\n",
    "    \n",
    "    df['bin_wage'] = (data.divide(50).round()\n",
    "                          .multiply(50) + 25)\n",
    "\n",
    "    wg = pd.DataFrame()\n",
    "    wg['counts'] = (df.groupby('bin_wage')\n",
    "                      .PWORWGT.sum()\n",
    "                      .sort_index(ascending=False))\n",
    "    wg['cs'] = wg.cumsum()\n",
    "    \n",
    "    yf = np.log(wg['cs'].values)\n",
    "    xf = np.log(wg.index.values)\n",
    "    \n",
    "    # Above threshold only\n",
    "    pa = wg[wg.index >= round(threshold_val / 50)*50]\n",
    "    ln_pop_cs = np.log(pa['cs'].values)\n",
    "    ln_bin = np.log(pa.index.values)\n",
    "    \n",
    "    # OLS y = mx + b \n",
    "    y = ln_pop_cs\n",
    "    x = ln_bin\n",
    "    cov = np.cov(x, y)\n",
    "    cc = np.corrcoef(x, y)\n",
    "    m, b = np.polyfit(x, y, 1)\n",
    "    fn_text = f'$y = {b:.1f} - {abs(m):.3f}x$'\n",
    "    \n",
    "    # Mean above topcode\n",
    "    alpha = -m\n",
    "    mtc = topcode * (alpha / (alpha - 1))\n",
    "    \n",
    "    # Threshold as round number\n",
    "    tr = round((1 - threshold) * 100)\n",
    "    \n",
    "    d = {'yf': yf, 'xf': xf, 'y': y, 'x': x,\n",
    "         'm': m, 'b': b, 'fn_text': fn_text,\n",
    "         'mtc': mtc, 'threshold': threshold,\n",
    "         'threshold_val': threshold_val,\n",
    "         'topcode': topcode, 'cov': cov, \n",
    "         'cc': cc, 'tr': tr}\n",
    "    \n",
    "    return d"
   ]
  },
  {
   "cell_type": "code",
   "execution_count": 32,
   "metadata": {
    "ExecuteTime": {
     "end_time": "2021-05-02T23:09:48.590213Z",
     "start_time": "2021-05-02T23:09:48.379111Z"
    },
    "code_folding": [
     0
    ]
   },
   "outputs": [
    {
     "data": {
      "image/png": "[encoded data removed]",
      "text/plain": [
       "<Figure size 576x576 with 2 Axes>"
      ]
     },
     "metadata": {
      "needs_background": "light"
     },
     "output_type": "display_data"
    }
   ],
   "source": [
    "# Graph wage distribution\n",
    "fig, ax = plt.subplots(figsize=(8,8))\n",
    "d = mtc_pareto(wage_obs, 0.7, 2884.61)\n",
    "\n",
    "ax.scatter(d['xf'][:40], d['yf'][:40], color='gray', s=65)\n",
    "ax.text(-0.02, 1.02, 'Usual Weekly Earnings: log-log probability', \n",
    "        size=18, transform = ax.transAxes)\n",
    "\n",
    "left, bottom, width, height = [0.19, 0.16, 0.40, 0.22]\n",
    "ax2 = fig.add_axes([left, bottom, width, height])\n",
    "ax2.scatter(d['xf'], d['yf'], color='gray', s=2)\n",
    "\n",
    "# Custom tick marks for log-log\n",
    "axticks = [[1000, 1200, 1500, 2000, 2884], [6, 8, 12, 24, 40, 60]]\n",
    "ax2ticks = [[25, 200, 2884, 8000], [1, 10, 60, 150]]\n",
    "for axn, axnticks in [(ax, axticks), (ax2, ax2ticks)]:\n",
    "    xticks, xticklabels = zip(*[(np.log(i), f'${i:,.0f}') \n",
    "                                 for i in axnticks[0]])\n",
    "    yticks, yticklabels = zip(*[(np.log(i*1_000_000), f'{i}m')  \n",
    "                                 for i in axnticks[1]])\n",
    "    axn.set_yticks(yticks)\n",
    "    axn.set_yticklabels(yticklabels)\n",
    "    axn.set_xticks(xticks)\n",
    "    axn.set_xticklabels(xticklabels)\n",
    "\n",
    "xl, xh = ax.get_xlim()\n",
    "yl, yh = ax.get_ylim()\n",
    "sel_w = xh - xl\n",
    "sel_h = yh - yl\n",
    "sel_sp = (xl, yl)\n",
    "rect = Rectangle(sel_sp, sel_w, sel_h, linewidth=1, zorder=0,\n",
    "                         edgecolor='gray', facecolor='none')\n",
    "\n",
    "ax2ylim = ax2.get_ylim()\n",
    "ax2xlim = ax2.get_xlim()\n",
    "aoi_sp = (np.log(2884), ax2ylim[0])\n",
    "aoi_w = ax2xlim[1] - np.log(2884.61)\n",
    "aoi_h = d['yf'][0] - ax2ylim[0]\n",
    "aoi_c = (aoi_sp[0] + (aoi_w / 2), aoi_sp[1] + (aoi_h / 2))\n",
    "aoi_rect = Rectangle(aoi_sp, aoi_w, aoi_h, zorder=0, clip_on=True,\n",
    "                             ec='none', fc='gray', alpha=0.1)\n",
    "\n",
    "ax.set_ylim(yl, yh)\n",
    "ax.set_xlim(xl, xh)\n",
    "ax2.set_ylim(ax2ylim)\n",
    "ax2.set_xlim(ax2xlim)\n",
    "ky = ax.get_ylim()\n",
    "fit_settings = [(0.7, 'magenta', 1.2), \n",
    "                (0.8, 'blue', 1.0),  \n",
    "                (0.9, 'limegreen', 0.9)]\n",
    "for thresh, color, lwa in fit_settings: \n",
    "    d = mtc_pareto(wage_obs, thresh, 2884.61)\n",
    "    kx = np.log(d['threshold_val'])\n",
    "    x_vals = np.array((d['x'].min(), d['x'].max()))\n",
    "    y_vals = d['b'] + d['m'] * x_vals\n",
    "    text = f'k=${d[\"threshold_val\"]:,.0f}\\nTop {d[\"tr\"]}%\\n$\\\\alpha$={-d[\"m\"]:.3f}'\n",
    "    ax.text(kx+0.01, 17.95, text, \n",
    "            c=color, ha='left', va='top')\n",
    "    for axn in [ax, ax2]:\n",
    "        lw = 1 if axn == ax else 0.3\n",
    "        axn.plot([kx, kx], ky, c=color, lw=lw, zorder=0)\n",
    "        axn.plot(x_vals, y_vals, c=color, lw=lw*3*lwa, zorder=3)\n",
    "\n",
    "ax.set_ylabel('population with wage > x (log scale)')\n",
    "ax.set_xlabel('usual weekly earnings (log scale)')        \n",
    "        \n",
    "# Add the patch to the Axes\n",
    "ax2.add_patch(rect)\n",
    "ax2.add_patch(aoi_rect)\n",
    "aoi_txt = 'missing\\narea of\\ninterest'\n",
    "ax2.text(aoi_c[0], aoi_c[1], aoi_txt, size=9, ha='center', va='center')\n",
    "sel_text = 'area\\nshown\\nin detail'\n",
    "ax2.text(sel_sp[0] - 0.1, sel_sp[1] + (sel_h / 2), sel_text, size=9,\n",
    "         ha='right', va='center')\n",
    "ax2.text(0, 1.09, 'Zoomed-out picture', size=12, backgroundcolor='white',\n",
    "         ha='left', va='center', transform = ax2.transAxes)\n",
    "\n",
    "ax.text(np.log(2884.61 + 50), yl+0.09, 'topcoded\\ngroup', \n",
    "        size=9, ha='right', va='center')\n",
    "\n",
    "note = ('The best-fit line for each region determines $\\\\alpha$; the '+\n",
    "        'slope of the line is $-\\\\alpha$. The line\\nthen predicts the '+\n",
    "        'midpoint of the area of interest as the mean above the topcode.')\n",
    "\n",
    "ax.text(-0.05, -0.09, note, size=11, ha='left', va='top', transform = ax.transAxes)\n",
    "\n",
    "plt.show()"
   ]
  },
  {
   "cell_type": "markdown",
   "metadata": {},
   "source": [
    "The top 20--30 percent of wages seems to fit a Pareto distribution reasonably well, from the log-log plot above. The bottom 70 percent or so of wages do not (see zoomed out picture in inset graph). \n",
    "\n",
    "The graph shows the line that best approximates the distribution for each of three subgroups: 1) $k$, the minimum value of the area assumed to be Pareto distributed, is set to cover the top 30 percent of wages, those earning \\\\$1,200 per week or more; 2) the top 20 percent, earning \\\\$1,520 or more per week; and 3) the top 10 percent, earning \\\\$2,115 or more per week. The EPI model uses the second threshold, the top 20 percent, which seems to fit the data better than the larger group while using more data than the smaller group. \n",
    "\n",
    "The topcoded group is separated in the graph from the non-topcoded observations who report earning \\\\$150,000 per year. The x value for this group is incorrect, so the results from this procedure are affected by how the topcoded group itself is handled, in addition to the choice of cutoff. \n",
    "\n",
    "#### Pareto-imputed mean above topcode\n",
    "\n",
    "Using the estimate of $\\alpha$ derived above, we can estimate the mean above the topcode as\n",
    "\n",
    "$E[x] = \\frac{\\alpha}{\\alpha-1}a$\n",
    "\n",
    "Where $a$ is the topcode. In the graph above, this could be thought of as finding the midpoint of the missing area of interest, which ranges from the topcode to the maximum income and covers the roughly four percent of observerations that are topcoded."
   ]
  },
  {
   "cell_type": "code",
   "execution_count": 33,
   "metadata": {
    "ExecuteTime": {
     "end_time": "2021-05-02T23:09:48.611777Z",
     "start_time": "2021-05-02T23:09:48.591270Z"
    },
    "code_folding": [
     0
    ]
   },
   "outputs": [
    {
     "name": "stdout",
     "output_type": "stream",
     "text": [
      "Mean above topcode, based on top 30 percent: $5,193.09\n",
      "Mean above topcode, based on top 20 percent: $4,976.81\n",
      "Mean above topcode, based on top 10 percent: $4,816.98\n"
     ]
    }
   ],
   "source": [
    "# Pareto imputed mean above the topcode\n",
    "for thresh in [0.7, 0.8, 0.9]:\n",
    "    d = mtc_pareto(wage_obs, thresh, 2884.61)\n",
    "    mtc = d['mtc']\n",
    "    print(f'Mean above topcode, based on top {d[\"tr\"]} percent: ${mtc:,.2f}')"
   ]
  },
  {
   "cell_type": "markdown",
   "metadata": {},
   "source": [
    "Note, when comparing results to CEPR and EPI extracts, the methodology used above is the same, but I separate the topcoded group from those earning \\\\$150,000. This is done using a second variable, `PTWK`, because the data show both groups as \\\\$2,884.61 in `PRERNWA`. In periods prior to 1998, this was less of an issue, as the topcode value was much less common, such as \\\\$1,999. But many people report actually earning the topcode value, and there is no need to replace the wages for these people, as they are not topcoded.\n",
    "\n",
    "#### Comparing estimates of the mean above the topcode\n",
    "\n",
    "The results from these methods match the results found by Schmitt (2003). The estimated mean above the topcode is lower when assuming wages are log-normally distributed and higher when assuming top wages are Pareto distributed. Both methods provide plausible results and improve estimates of mean and standard deviation from CPS earnings data. \n",
    "\n",
    "The results for October 2019 are summarized in this section. Results are also discussed in the bigger context of changes over time in a later section.\n",
    "\n",
    "##### October 2019 Results Summary\n",
    "\n",
    "The estimated mean above the topcode is shown in table 4 for the total group of wage observations, as well as separate values for men and women. The table also shows the same calculations for non-hourly workers. Table 5 shows the estimate based on those with no BLS earnings allocations and for the fourth and eighth interview subgroups, separately. \n",
    "\n",
    "In table 6, the estimated uncensored data mean is shown for the three methods above, 1) log-normal distribution using parameters, 2) log-normal distribution using maximum likelihood estimation, and 3) pareto distribution with minimums set at the 70th, 80th, and 90th percentiles. \n",
    "\n",
    "Additionally, an estimate based on national accounts is included for comparison to aggregate data. The aggregate data estimate comes from wages and salaries, from the personal income and outlays report for October 2019, divided by the estimated number of wage and salary workers for the same period, from the CPS. "
   ]
  },
  {
   "cell_type": "code",
   "execution_count": 34,
   "metadata": {
    "ExecuteTime": {
     "end_time": "2021-05-02T23:09:49.073290Z",
     "start_time": "2021-05-02T23:09:48.612741Z"
    },
    "code_folding": [
     0
    ]
   },
   "outputs": [
    {
     "name": "stdout",
     "output_type": "stream",
     "text": [
      "Table 4. Mean above the topcode: Total, Men, Women\n"
     ]
    },
    {
     "data": {
      "text/html": [
       "<style  type=\"text/css\" >\n",
       "</style><table id=\"T_c1b14_\" ><thead>    <tr>        <th class=\"blank level0\" ></th>        <th class=\"col_heading level0 col0\" colspan=\"3\">Full sample</th>        <th class=\"col_heading level0 col3\" colspan=\"3\">Non-hourly only</th>    </tr>    <tr>        <th class=\"blank level1\" ></th>        <th class=\"col_heading level1 col0\" >Total</th>        <th class=\"col_heading level1 col1\" >Men</th>        <th class=\"col_heading level1 col2\" >Women</th>        <th class=\"col_heading level1 col3\" >Total</th>        <th class=\"col_heading level1 col4\" >Men</th>        <th class=\"col_heading level1 col5\" >Women</th>    </tr></thead><tbody>\n",
       "                <tr>\n",
       "                        <th id=\"T_c1b14_level0_row0\" class=\"row_heading level0 row0\" >Log-normal, based on PTWK</th>\n",
       "                        <td id=\"T_c1b14_row0_col0\" class=\"data row0 col0\" >$3,915.68</td>\n",
       "                        <td id=\"T_c1b14_row0_col1\" class=\"data row0 col1\" >$3,962.38</td>\n",
       "                        <td id=\"T_c1b14_row0_col2\" class=\"data row0 col2\" >$3,790.32</td>\n",
       "                        <td id=\"T_c1b14_row0_col3\" class=\"data row0 col3\" >$3,908.97</td>\n",
       "                        <td id=\"T_c1b14_row0_col4\" class=\"data row0 col4\" >$3,953.66</td>\n",
       "                        <td id=\"T_c1b14_row0_col5\" class=\"data row0 col5\" >$3,782.04</td>\n",
       "            </tr>\n",
       "            <tr>\n",
       "                        <th id=\"T_c1b14_level0_row1\" class=\"row_heading level0 row1\" >Log-normal, Schmitt/CEPR</th>\n",
       "                        <td id=\"T_c1b14_row1_col0\" class=\"data row1 col0\" >$3,975.34</td>\n",
       "                        <td id=\"T_c1b14_row1_col1\" class=\"data row1 col1\" >$4,032.35</td>\n",
       "                        <td id=\"T_c1b14_row1_col2\" class=\"data row1 col2\" >$3,835.95</td>\n",
       "                        <td id=\"T_c1b14_row1_col3\" class=\"data row1 col3\" >$3,997.46</td>\n",
       "                        <td id=\"T_c1b14_row1_col4\" class=\"data row1 col4\" >$4,059.38</td>\n",
       "                        <td id=\"T_c1b14_row1_col5\" class=\"data row1 col5\" >$3,846.36</td>\n",
       "            </tr>\n",
       "            <tr>\n",
       "                        <th id=\"T_c1b14_level0_row2\" class=\"row_heading level0 row2\" >Log-normal, fit with MLE</th>\n",
       "                        <td id=\"T_c1b14_row2_col0\" class=\"data row2 col0\" >$4,347.50</td>\n",
       "                        <td id=\"T_c1b14_row2_col1\" class=\"data row2 col1\" >$4,326.49</td>\n",
       "                        <td id=\"T_c1b14_row2_col2\" class=\"data row2 col2\" >$4,265.27</td>\n",
       "                        <td id=\"T_c1b14_row2_col3\" class=\"data row2 col3\" >$4,428.21</td>\n",
       "                        <td id=\"T_c1b14_row2_col4\" class=\"data row2 col4\" >$4,263.70</td>\n",
       "                        <td id=\"T_c1b14_row2_col5\" class=\"data row2 col5\" >$4,506.58</td>\n",
       "            </tr>\n",
       "            <tr>\n",
       "                        <th id=\"T_c1b14_level0_row3\" class=\"row_heading level0 row3\" >Pareto distribution, top 10% of wages</th>\n",
       "                        <td id=\"T_c1b14_row3_col0\" class=\"data row3 col0\" >$4,816.98</td>\n",
       "                        <td id=\"T_c1b14_row3_col1\" class=\"data row3 col1\" >$5,164.12</td>\n",
       "                        <td id=\"T_c1b14_row3_col2\" class=\"data row3 col2\" >$4,341.48</td>\n",
       "                        <td id=\"T_c1b14_row3_col3\" class=\"data row3 col3\" >-</td>\n",
       "                        <td id=\"T_c1b14_row3_col4\" class=\"data row3 col4\" >-</td>\n",
       "                        <td id=\"T_c1b14_row3_col5\" class=\"data row3 col5\" >$4,924.19</td>\n",
       "            </tr>\n",
       "            <tr>\n",
       "                        <th id=\"T_c1b14_level0_row4\" class=\"row_heading level0 row4\" >Pareto distribution, top 20% of wages</th>\n",
       "                        <td id=\"T_c1b14_row4_col0\" class=\"data row4 col0\" >$4,976.81</td>\n",
       "                        <td id=\"T_c1b14_row4_col1\" class=\"data row4 col1\" >$5,165.01</td>\n",
       "                        <td id=\"T_c1b14_row4_col2\" class=\"data row4 col2\" >$4,584.59</td>\n",
       "                        <td id=\"T_c1b14_row4_col3\" class=\"data row4 col3\" >$5,070.12</td>\n",
       "                        <td id=\"T_c1b14_row4_col4\" class=\"data row4 col4\" >$5,452.41</td>\n",
       "                        <td id=\"T_c1b14_row4_col5\" class=\"data row4 col5\" >$4,464.37</td>\n",
       "            </tr>\n",
       "            <tr>\n",
       "                        <th id=\"T_c1b14_level0_row5\" class=\"row_heading level0 row5\" >Pareto distribution, top 30% of wages</th>\n",
       "                        <td id=\"T_c1b14_row5_col0\" class=\"data row5 col0\" >$5,193.09</td>\n",
       "                        <td id=\"T_c1b14_row5_col1\" class=\"data row5 col1\" >$5,393.39</td>\n",
       "                        <td id=\"T_c1b14_row5_col2\" class=\"data row5 col2\" >$4,756.43</td>\n",
       "                        <td id=\"T_c1b14_row5_col3\" class=\"data row5 col3\" >$5,069.52</td>\n",
       "                        <td id=\"T_c1b14_row5_col4\" class=\"data row5 col4\" >$5,493.33</td>\n",
       "                        <td id=\"T_c1b14_row5_col5\" class=\"data row5 col5\" >$4,602.94</td>\n",
       "            </tr>\n",
       "    </tbody></table>"
      ],
      "text/plain": [
       "<pandas.io.formats.style.Styler at 0x7fefb2608940>"
      ]
     },
     "execution_count": 34,
     "metadata": {},
     "output_type": "execute_result"
    }
   ],
   "source": [
    "# Table 4. Mean above the topcode: Total, Men, Women\n",
    "print('Table 4. Mean above the topcode: Total, Men, Women')\n",
    "total = wage_obs\n",
    "men = wage_obs.query('PESEX == 1')\n",
    "women = wage_obs.query('PESEX == 2')\n",
    "\n",
    "groups = [('Total', total), ('Men', men), ('Women', women)]\n",
    "hrly = [('Full sample', [1, 2]), ('Non-hourly only', [2])]\n",
    "gnames = [i[0] for i in groups]\n",
    "hnames = [i[0] for i in hrly]\n",
    "coln = pd.MultiIndex.from_product([hnames, gnames])\n",
    "t4 = pd.DataFrame(columns=coln)\n",
    "for (name, group), (hn, h) in product(groups, hrly):\n",
    "    group = group.query('PEERNHRY in @h')\n",
    "    # CEPR Log-normal\n",
    "    wages = group.PRERNWA.values\n",
    "    wgts = group.PWORWGT.values\n",
    "    gteqtc = group.PRERNWA >= 2884.61\n",
    "    # Variation using PTWK\n",
    "    tc_share2 = (group.loc[(group.PTWK == 1), 'PWORWGT'].sum() / \n",
    "                 group.PWORWGT.sum())\n",
    "    mtc = mtc_cepr(wages, wgts, 2884.61, tc_share2)\n",
    "    cname = 'Log-normal, based on PTWK'\n",
    "    t4.loc[cname, (hn, name)] = mtc\n",
    "    # Original Schmitt/CEPR approach\n",
    "    tc_share = (group.loc[gteqtc, 'PWORWGT'].sum() / \n",
    "                group.PWORWGT.sum())\n",
    "    mtc = mtc_cepr(wages, wgts, 2884.61, tc_share)\n",
    "    cname = 'Log-normal, Schmitt/CEPR'\n",
    "    t4.loc[cname, (hn, name)] = mtc\n",
    "    # MLE Log-normal\n",
    "    mtc, mean, s, scale = mtc_mle(group, 2884.61)\n",
    "    cname = 'Log-normal, fit with MLE'\n",
    "    t4.loc[cname, (hn, name)] = mtc\n",
    "    # Pareto/EPI\n",
    "    for thresh in [0.9, 0.8, 0.7]:\n",
    "        if thresh < (1 - tc_share - 0.02):\n",
    "            mtcpd = mtc_pareto(group, thresh, 2884.61)\n",
    "            mtc = mtcpd['mtc']\n",
    "        else:\n",
    "            mtc = 0\n",
    "        ptitle = ('Pareto distribution, '+\n",
    "                  f'top {mtcpd[\"tr\"]}% of wages')\n",
    "        t4.loc[ptitle, (hn, name)] = mtc\n",
    "        \n",
    "t4.style.format('${:,.2f}', na_rep='-')"
   ]
  },
  {
   "cell_type": "markdown",
   "metadata": {},
   "source": [
    "Using an approach that assumes top wages are Pareto-distributed returns a substantially higher estimate for the mean above the topcode than an approach that assumes a log-normal distribution of wages. This is confirmed in the results in table 4, for all groups. \n",
    "\n",
    "Among the three approaches that assume a log-normal distribution, the first, which separates the group of wages at the topcode into those that are topcoded and those that actually earn the topcode, returns the lowest estimate. The approach that uses MLE to fit a lognormal distribution to the empirical data returns the highest estimate among the approaches that assume wages are log-normally distributed.\n",
    "\n",
    "Among the approaches that assume a Pareto-distribution of top wages, the estimate of the mean above the topcode falls as the estimate of $\\alpha$ increases as the subset of data used closes around the top wages. This can be seen using the previous graph. The slope of best-fit line is steeper for the top 10 percent wage group than for the top 30 percent wage group. \n",
    "\n",
    "For the non-hourly-only sample, more than 10 percent of mens' earnings are topcoded, so there is no data to compute the mean above the topcode in this case. The total of men and women is therefore also incorrect when calculated using the top 10 percent of earnings. \n",
    "\n",
    "One additional observation from table 4 is that the Pareto-distribution approach generates a wider gap between men and women's pay. Mens' estimated mean above the topcode is around 4-5 percent higher than womens' using the CEPR/Schmitt approach and 12-14 percent higher using the Pareto approach. "
   ]
  },
  {
   "cell_type": "markdown",
   "metadata": {},
   "source": [
    "#### Sensitivity of Estimates\n",
    "\n",
    "Here are the estimates for two subgroups that shouldn't have major differences, the interview 4 and interview 8 groups. Results are most consistent for the log-normal approaches from Schmitt and based on the topcode flag `PTWK`. The approach that fits a log-normal distribution to the data was less consistent, as was the approach that utilizes only the top 10 percent of wage observations. "
   ]
  },
  {
   "cell_type": "code",
   "execution_count": 35,
   "metadata": {
    "ExecuteTime": {
     "end_time": "2021-05-02T23:09:49.309697Z",
     "start_time": "2021-05-02T23:09:49.074321Z"
    },
    "code_folding": [
     0
    ]
   },
   "outputs": [
    {
     "name": "stdout",
     "output_type": "stream",
     "text": [
      "Table 5. Mean above the topcode: Subsamples\n"
     ]
    },
    {
     "data": {
      "text/html": [
       "<style  type=\"text/css\" >\n",
       "</style><table id=\"T_09762_\" ><thead>    <tr>        <th class=\"blank level0\" ></th>        <th class=\"col_heading level0 col0\" >Full sample</th>        <th class=\"col_heading level0 col1\" >Interview 4</th>        <th class=\"col_heading level0 col2\" >Interview 8</th>    </tr></thead><tbody>\n",
       "                <tr>\n",
       "                        <th id=\"T_09762_level0_row0\" class=\"row_heading level0 row0\" >Log-normal, based on PTWK</th>\n",
       "                        <td id=\"T_09762_row0_col0\" class=\"data row0 col0\" >$3,915.68</td>\n",
       "                        <td id=\"T_09762_row0_col1\" class=\"data row0 col1\" >$3,912.20</td>\n",
       "                        <td id=\"T_09762_row0_col2\" class=\"data row0 col2\" >$3,918.82</td>\n",
       "            </tr>\n",
       "            <tr>\n",
       "                        <th id=\"T_09762_level0_row1\" class=\"row_heading level0 row1\" >Log-normal, Schmitt/CEPR</th>\n",
       "                        <td id=\"T_09762_row1_col0\" class=\"data row1 col0\" >$3,975.34</td>\n",
       "                        <td id=\"T_09762_row1_col1\" class=\"data row1 col1\" >$3,977.88</td>\n",
       "                        <td id=\"T_09762_row1_col2\" class=\"data row1 col2\" >$3,972.24</td>\n",
       "            </tr>\n",
       "            <tr>\n",
       "                        <th id=\"T_09762_level0_row2\" class=\"row_heading level0 row2\" >Log-normal, fit with MLE</th>\n",
       "                        <td id=\"T_09762_row2_col0\" class=\"data row2 col0\" >$4,347.50</td>\n",
       "                        <td id=\"T_09762_row2_col1\" class=\"data row2 col1\" >$4,298.83</td>\n",
       "                        <td id=\"T_09762_row2_col2\" class=\"data row2 col2\" >$4,393.83</td>\n",
       "            </tr>\n",
       "            <tr>\n",
       "                        <th id=\"T_09762_level0_row3\" class=\"row_heading level0 row3\" >Pareto distribution, top 10% of wages</th>\n",
       "                        <td id=\"T_09762_row3_col0\" class=\"data row3 col0\" >$4,816.98</td>\n",
       "                        <td id=\"T_09762_row3_col1\" class=\"data row3 col1\" >$4,890.58</td>\n",
       "                        <td id=\"T_09762_row3_col2\" class=\"data row3 col2\" >$4,746.74</td>\n",
       "            </tr>\n",
       "            <tr>\n",
       "                        <th id=\"T_09762_level0_row4\" class=\"row_heading level0 row4\" >Pareto distribution, top 20% of wages</th>\n",
       "                        <td id=\"T_09762_row4_col0\" class=\"data row4 col0\" >$4,976.81</td>\n",
       "                        <td id=\"T_09762_row4_col1\" class=\"data row4 col1\" >$4,980.33</td>\n",
       "                        <td id=\"T_09762_row4_col2\" class=\"data row4 col2\" >$4,953.45</td>\n",
       "            </tr>\n",
       "            <tr>\n",
       "                        <th id=\"T_09762_level0_row5\" class=\"row_heading level0 row5\" >Pareto distribution, top 30% of wages</th>\n",
       "                        <td id=\"T_09762_row5_col0\" class=\"data row5 col0\" >$5,193.09</td>\n",
       "                        <td id=\"T_09762_row5_col1\" class=\"data row5 col1\" >$5,203.95</td>\n",
       "                        <td id=\"T_09762_row5_col2\" class=\"data row5 col2\" >$5,181.89</td>\n",
       "            </tr>\n",
       "    </tbody></table>"
      ],
      "text/plain": [
       "<pandas.io.formats.style.Styler at 0x7fefb1f82070>"
      ]
     },
     "execution_count": 35,
     "metadata": {},
     "output_type": "execute_result"
    }
   ],
   "source": [
    "# Table 5. Mean above the topcode: MIS, Allocations\n",
    "print('Table 5. Mean above the topcode: Subsamples')\n",
    "total = wage_obs\n",
    "mis4 = wage_obs.query('HRMIS == 4')\n",
    "mis8 = wage_obs.query('HRMIS == 8')\n",
    "\n",
    "groups = [('Full sample', total), ('Interview 4', mis4), \n",
    "          ('Interview 8', mis8)]\n",
    "t5 = pd.DataFrame()\n",
    "for (name, group) in groups:\n",
    "    # CEPR Log-normal\n",
    "    wages = group.PRERNWA.values\n",
    "    wgts = group.PWORWGT.values\n",
    "    gteqtc = group.PRERNWA >= 2884.61\n",
    "    # Variation using PTWK\n",
    "    tc_share2 = (group.loc[(group.PTWK == 1), 'PWORWGT'].sum() / \n",
    "                 group.PWORWGT.sum())\n",
    "    mtc = mtc_cepr(wages, wgts, 2884.61, tc_share2)\n",
    "    cname = 'Log-normal, based on PTWK'\n",
    "    t5.loc[cname, name] = mtc\n",
    "    # Original Schmitt/CEPR approach\n",
    "    tc_share = (group.loc[gteqtc, 'PWORWGT'].sum() / \n",
    "                group.PWORWGT.sum())\n",
    "    mtc = mtc_cepr(wages, wgts, 2884.61, tc_share)\n",
    "    cname = 'Log-normal, Schmitt/CEPR'\n",
    "    t5.loc[cname, name] = mtc\n",
    "    # MLE Log-normal\n",
    "    mtc, mean, s, scale = mtc_mle(group, 2884.61)\n",
    "    cname = 'Log-normal, fit with MLE'\n",
    "    t5.loc[cname, name] = mtc\n",
    "    # Pareto/EPI\n",
    "    for thresh in [0.9, 0.8, 0.7]:\n",
    "        if thresh < (1 - tc_share):\n",
    "            mtcpd = mtc_pareto(group, thresh, 2884.61)\n",
    "            mtc = mtcpd['mtc']\n",
    "        else:\n",
    "            mtc = 0\n",
    "        ptitle = ('Pareto distribution, '+\n",
    "                  f'top {mtcpd[\"tr\"]}% of wages')\n",
    "        t5.loc[ptitle, name] = mtc\n",
    "        \n",
    "t5.style.format('${:,.2f}')"
   ]
  },
  {
   "cell_type": "markdown",
   "metadata": {},
   "source": [
    "#### Results from different approaches\n",
    "\n",
    "Importantly, let's look at the estimated mean of the unadjusted (censored) data, truncated data (topcode observations removed), data adjusted using techniques above, and data esimated from aggregate published figures. \n",
    "\n",
    "There are three considerations when comparing the national-accounts-based estimate, derived from wages and salaries in the October 2019 personal income and outlays report, to other rows. First, the national accounts data are seasonally adjusted and the CPS estimates are not. Second, the CPS estimates ask only about a person's main job. The national accounts based estimate divides the aggregate total by the number of nonfarm payroll jobs. Third, the national accounts data report actual earnings while the CPS data report usual earnings."
   ]
  },
  {
   "cell_type": "code",
   "execution_count": 36,
   "metadata": {
    "ExecuteTime": {
     "end_time": "2021-05-02T23:09:49.339378Z",
     "start_time": "2021-05-02T23:09:49.310631Z"
    },
    "code_folding": [
     0
    ]
   },
   "outputs": [
    {
     "name": "stdout",
     "output_type": "stream",
     "text": [
      "Table 6. Results from different approaches\n"
     ]
    },
    {
     "data": {
      "text/html": [
       "<style  type=\"text/css\" >\n",
       "</style><table id=\"T_13fb9_\" ><thead>    <tr>        <th class=\"blank level0\" ></th>        <th class=\"col_heading level0 col0\" >Estimated Mean</th>    </tr></thead><tbody>\n",
       "                <tr>\n",
       "                        <th id=\"T_13fb9_level0_row0\" class=\"row_heading level0 row0\" >Unaltered full sample (censored data)</th>\n",
       "                        <td id=\"T_13fb9_row0_col0\" class=\"data row0 col0\" >$1,014.44</td>\n",
       "            </tr>\n",
       "            <tr>\n",
       "                        <th id=\"T_13fb9_level0_row1\" class=\"row_heading level0 row1\" >Truncated sample (topcoded removed)</th>\n",
       "                        <td id=\"T_13fb9_row1_col0\" class=\"data row1 col0\" >$933.61</td>\n",
       "            </tr>\n",
       "            <tr>\n",
       "                        <th id=\"T_13fb9_level0_row2\" class=\"row_heading level0 row2\" >Log-normal, based on PTWK</th>\n",
       "                        <td id=\"T_13fb9_row2_col0\" class=\"data row2 col0\" >$1,057.22</td>\n",
       "            </tr>\n",
       "            <tr>\n",
       "                        <th id=\"T_13fb9_level0_row3\" class=\"row_heading level0 row3\" >Log-normal, Schmitt/CEPR</th>\n",
       "                        <td id=\"T_13fb9_row3_col0\" class=\"data row3 col0\" >$1,059.85</td>\n",
       "            </tr>\n",
       "            <tr>\n",
       "                        <th id=\"T_13fb9_level0_row4\" class=\"row_heading level0 row4\" >Log-normal, fit with MLE</th>\n",
       "                        <td id=\"T_13fb9_row4_col0\" class=\"data row4 col0\" >$1,073.51</td>\n",
       "            </tr>\n",
       "            <tr>\n",
       "                        <th id=\"T_13fb9_level0_row5\" class=\"row_heading level0 row5\" >Pareto distribution, top 10% of wages</th>\n",
       "                        <td id=\"T_13fb9_row5_col0\" class=\"data row5 col0\" >$1,099.90</td>\n",
       "            </tr>\n",
       "            <tr>\n",
       "                        <th id=\"T_13fb9_level0_row6\" class=\"row_heading level0 row6\" >Pareto distribution, top 20% of wages</th>\n",
       "                        <td id=\"T_13fb9_row6_col0\" class=\"data row6 col0\" >$1,102.59</td>\n",
       "            </tr>\n",
       "            <tr>\n",
       "                        <th id=\"T_13fb9_level0_row7\" class=\"row_heading level0 row7\" >Pareto distribution, top 30% of wages</th>\n",
       "                        <td id=\"T_13fb9_row7_col0\" class=\"data row7 col0\" >$1,111.43</td>\n",
       "            </tr>\n",
       "            <tr>\n",
       "                        <th id=\"T_13fb9_level0_row8\" class=\"row_heading level0 row8\" >Wages and Salaries (National Accounts)</th>\n",
       "                        <td id=\"T_13fb9_row8_col0\" class=\"data row8 col0\" >$1,190.35</td>\n",
       "            </tr>\n",
       "    </tbody></table>"
      ],
      "text/plain": [
       "<pandas.io.formats.style.Styler at 0x7fefb21733a0>"
      ]
     },
     "execution_count": 36,
     "metadata": {},
     "output_type": "execute_result"
    }
   ],
   "source": [
    "# Table 6. Results from different approaches vs aggregate data\n",
    "print('Table 6. Results from different approaches')\n",
    "t6 = pd.Series(dtype='float')\n",
    "\n",
    "mu = np.average(wage_obs['PRERNWA'], weights=weights)\n",
    "t6['Unaltered full sample (censored data)'] = mu\n",
    "\n",
    "trunc_obs = wage_obs.query('PTWK == 0')\n",
    "mu = np.average(trunc_obs['PRERNWA'], weights=trunc_obs['PWORWGT'])\n",
    "t6['Truncated sample (topcoded removed)'] = mu\n",
    "\n",
    "# Loop over table 3 data\n",
    "for tech in t4.iterrows():\n",
    "    tname = tech[0]\n",
    "    mtc_men = tech[1]['Full sample']['Men']\n",
    "    mtc_women = tech[1]['Full sample']['Women']\n",
    "    # Estimated true mean\n",
    "    w = (lambda x: np.where((x.PTWK == 1) & (x.PESEX == 1), mtc_men, \n",
    "                   np.where((x.PTWK == 1) & (x.PESEX == 2), mtc_women, \n",
    "                            x.PRERNWA)))\n",
    "    wage_obs = wage_obs.assign(W = w)\n",
    "    mu = np.average(wage_obs['W'], weights=weights)\n",
    "    t6[tname] = mu    \n",
    "    \n",
    "# Compensation of employees received, wages and salaries\n",
    "# Divided by number of workers from nonfarm payrolls\n",
    "mu = fred['WSperworker'].loc['2019-10-01', 'VALUE']\n",
    "t6['Wages and Salaries (National Accounts)'] = mu\n",
    "\n",
    "t6 = pd.DataFrame(t6, columns=['Estimated Mean'])\n",
    "t6.style.format('${:,.2f}')"
   ]
  },
  {
   "cell_type": "code",
   "execution_count": 37,
   "metadata": {
    "ExecuteTime": {
     "end_time": "2021-05-02T23:09:49.463895Z",
     "start_time": "2021-05-02T23:09:49.340743Z"
    },
    "code_folding": [
     0
    ]
   },
   "outputs": [
    {
     "data": {
      "image/png": "[encoded data removed]",
      "text/plain": [
       "<Figure size 360x432 with 1 Axes>"
      ]
     },
     "metadata": {
      "needs_background": "light"
     },
     "output_type": "display_data"
    }
   ],
   "source": [
    "# Table 5 as a bar chart\n",
    "t6p = t6\n",
    "t6p.index = t6p.index.str.replace(', ', ',\\n')\n",
    "t6p.index = t6p.index.str.replace(' \\(', '\\n(', regex=True)\n",
    "title = 'Mean usual weekly earnings, different approaches,\\nOctober 2019'\n",
    "t6p.iloc[::-1].plot(kind='barh', legend=False, \n",
    "        width=0.75, color='blue', figsize=(5, 6))\n",
    "plt.text(-550, 9, title, fontsize=16)\n",
    "for i, val in enumerate(t6p.iloc[::-1]['Estimated Mean']):\n",
    "    plt.text(val - 20, i, f'${val:,.0f}', color='white', \n",
    "             ha='right', va='center', weight='bold')\n",
    "    \n",
    "plt.show()"
   ]
  },
  {
   "cell_type": "markdown",
   "metadata": {},
   "source": [
    "In picking a method, one should consider reliability in and out of sample, consistency over time, theoretical basis, goodness of fit, and many other factors. One major benefit of the CEPR approach, as discussed by Schmitt, is that it involves minimal decisions about which data to use, beyond the assumption that wages are log-normally distributed. \n",
    "\n",
    "The tables and above provide some guidance for this decision based on the October 2019 data, but a subsequent section of this notebook shows the consistency over 2017-2019. First, one more potential issue with the usual weekly earnings data is discussed."
   ]
  },
  {
   "cell_type": "markdown",
   "metadata": {},
   "source": [
    "## Comparing to other data\n",
    "\n",
    "This section discusses a potential issue based on documentation for the `EARNWEEK` variable from IPUMS. The IPUMS documentation says `EARNWEEK` uses the higher of usual weekly earnings or hourly pay times hours worked. \n",
    "\n",
    "Additionally, the data from 2017 to 2019 are graphed for various measures. Comparing across 36 observations shows how various adjustments affect and, hopefully, improve the results.\n",
    "\n",
    "### Comparing to hours worked times hourly wage\n",
    "\n",
    "The Minnesota Population Center and University of Minnesota's [IPUMS](https://ipums.org/mission-purpose) provides harmonized CPS extracts. The weekly pay variable is [described](https://cps.ipums.org/cps-action/variables/EARNWEEK#description_section) differently from my understanding of the usual weekly earnings recode variable `PRERNWA`. \n",
    "\n",
    "```\n",
    "The figure given in EARNWEEK is the higher of the values derived from these two sources: 1) the respondent's answer to the question, \"How much do you usually earn per week at this job before deductions?\" or 2) for workers paid by the hour (and coded as \"2\" in PAIDHOUR), the reported number of hours the respondent usually worked at the job, multiplied by the hourly wage rate given in HOURWAGE.\n",
    "```\n",
    "\n",
    "In other words, it sounds like IPUMS replaces some weekly earnings values with the earnings the hourly wage rate times usual hours worked. But in the actual data from IPUMS, this is not the case. The variable `EARNWEEK` exactly matches `PRERNWA`. \n",
    "\n",
    "Perhaps the recode variable `PRERNWA` is already the higher of the two calculations, but I haven't confirmed this in other documentation. As I understand, this *should* be the case, as the weekly earnings data includes overtime, tips, and commissions, while the hourly rate does not. There *shouldn't* be cases where usual weekly pay is lower than the value calculated from usual hours and the hourly rate. \n",
    "\n",
    "But in October 2019, about 15 percent of hourly workers, or around 8 percent of workers, have higher earnings if calculated using hourly wages multiplied by usual hours worked. Beyond something like wage theft, I don't have a good explanation for these observations. Replacing the usual weekly earnings of some, disproporationately low-wage, workers with a higher value will increase the average wage. "
   ]
  },
  {
   "cell_type": "code",
   "execution_count": 38,
   "metadata": {
    "ExecuteTime": {
     "end_time": "2021-05-02T23:09:49.636198Z",
     "start_time": "2021-05-02T23:09:49.464970Z"
    },
    "code_folding": [
     0
    ]
   },
   "outputs": [
    {
     "data": {
      "image/png": "[encoded data removed]",
      "text/plain": [
       "<Figure size 504x360 with 1 Axes>"
      ]
     },
     "metadata": {
      "needs_background": "light"
     },
     "output_type": "display_data"
    }
   ],
   "source": [
    "# Calculate weekly pay using hourly rate and usual hours\n",
    "weekpay = (lambda x: np.where((x.PEHRUSL1 > 0) & (x.PRERNHLY > 0)\n",
    "           & (x.PEERNHRY == 1), x.PRERNHLY * x.PEHRUSL1, np.nan))\n",
    "\n",
    "wkpay_ratio = lambda x: (x.PRERNWA / x.WEEKPAY) - 1\n",
    "\n",
    "wage_obs = wage_obs.assign(WEEKPAY = weekpay, \n",
    "                           WKPAY_RATIO = wkpay_ratio)\n",
    "\n",
    "bins = [-10, 0, 50]\n",
    "labels = ['Hours times wage greater', \n",
    "          'Weekly hours greater or equal']\n",
    "\n",
    "wage_obs['Ratio_cat'] = pd.cut(wage_obs.WKPAY_RATIO, \n",
    "                               bins=bins, labels=labels, \n",
    "                               right=False)\n",
    "\n",
    "plot_data = (wage_obs.dropna(subset=['WEEKPAY'])\n",
    "                     .sort_values(by='WKPAY_RATIO'))\n",
    "colors = {'Weekly hours greater or equal':'gray',\n",
    "          'Hours times wage greater':'magenta'}\n",
    "clist = plot_data['Ratio_cat'].apply(lambda x: colors[x]).values\n",
    "xvals = plot_data.WEEKPAY.values\n",
    "yvals = plot_data.PRERNWA.values\n",
    "\n",
    "ct = wage_obs.groupby('Ratio_cat').PWORWGT.count()\n",
    "ctsh = ct / ct.sum()\n",
    "\n",
    "fig, ax = plt.subplots(figsize=(7, 5))\n",
    "ax.scatter(xvals, yvals, s=2, c=clist, alpha=0.2)\n",
    "ax.set_ylabel('Usual weekly earnings')\n",
    "ax.set_xlabel('Hourly wage time usual hours worked')\n",
    "wwgeq = f'{ct[1]:,.0f} ({ctsh[1]*100:.1f}%)'\n",
    "name = ('Weekly hours greater or equal')\n",
    "ax.text(0.95, 0.1, f'{name}: {wwgeq}', \n",
    "        transform=ax.transAxes, ha='right')\n",
    "htwg = f'{ct[0]:,.0f} ({ctsh[0]*100:.1f}%)'\n",
    "ax.text(0.95, 0.05, f'Hours times wage greater: {htwg}', \n",
    "        transform=ax.transAxes, ha='right', color='magenta')\n",
    "ax.text(-0.1, 1.05, 'Comparing weekly wage measures for hourly workers', \n",
    "        transform=ax.transAxes, size=16);"
   ]
  },
  {
   "cell_type": "markdown",
   "metadata": {},
   "source": [
    "In October 2019, using the higher of the two measures raises the average wage by about \\\\$16 per week and raises the median wage by around \\\\$10 per week. If the cause for the gap between the two measures is indeed something like wage theft, it might not be good to artificially close the gap. If the gap is because of under-reporting of income, then it might make sense to use the higher of the two measures. \n",
    "\n",
    "As the scatterplot above shows, the cases affected (in magenta) are often earning less than \\\\$1,000 per week before deductions. Also, as shown further above, there is still a gap between aggregate-data-based estimates of mean earnings and the estimates that adjust for topcoding. Using the higher of the two measures would close the gap further. That said, I'm not sure why the IPUMS documentation and data are conflicting on this subject. If someone reads this and knows the answer, please send me an email."
   ]
  },
  {
   "cell_type": "code",
   "execution_count": 39,
   "metadata": {
    "ExecuteTime": {
     "end_time": "2021-05-02T23:09:49.648800Z",
     "start_time": "2021-05-02T23:09:49.637130Z"
    },
    "code_folding": [
     0
    ]
   },
   "outputs": [
    {
     "data": {
      "text/html": [
       "<style  type=\"text/css\" >\n",
       "</style><table id=\"T_78dd4_\" ><thead>    <tr>        <th class=\"blank level0\" ></th>        <th class=\"col_heading level0 col0\" >Median</th>        <th class=\"col_heading level0 col1\" >Average</th>    </tr></thead><tbody>\n",
       "                <tr>\n",
       "                        <th id=\"T_78dd4_level0_row0\" class=\"row_heading level0 row0\" >Higher of two measures used</th>\n",
       "                        <td id=\"T_78dd4_row0_col0\" class=\"data row0 col0\" >$810.62</td>\n",
       "                        <td id=\"T_78dd4_row0_col1\" class=\"data row0 col1\" >$1,030.46</td>\n",
       "            </tr>\n",
       "            <tr>\n",
       "                        <th id=\"T_78dd4_level0_row1\" class=\"row_heading level0 row1\" >Unadjusted</th>\n",
       "                        <td id=\"T_78dd4_row1_col0\" class=\"data row1 col0\" >$799.85</td>\n",
       "                        <td id=\"T_78dd4_row1_col1\" class=\"data row1 col1\" >$1,014.44</td>\n",
       "            </tr>\n",
       "    </tbody></table>"
      ],
      "text/plain": [
       "<pandas.io.formats.style.Styler at 0x7fefb22ab460>"
      ]
     },
     "execution_count": 39,
     "metadata": {},
     "output_type": "execute_result"
    }
   ],
   "source": [
    "# Create table summarizing change from using higher value\n",
    "wkearn = lambda x: np.where(x.WKPAY_RATIO < 0, x.WEEKPAY, x.PRERNWA)\n",
    "wage_obs = wage_obs.assign(WKEARN = wkearn)\n",
    "tbl = pd.DataFrame()\n",
    "for wage_var, name in [('WKEARN', 'Higher of two measures used'), ('PRERNWA', 'Unadjusted')]:\n",
    "    cdf = cdf_generator(wage_obs, wage_var, 'PWORWGT')\n",
    "    median = pct_interp(cdf, [0.5])[0]\n",
    "    tbl.loc[name, 'Median'] = median\n",
    "    vals = wage_obs[wage_var].values\n",
    "    avg = np.average(vals, weights=wage_obs.PWORWGT.values)\n",
    "    tbl.loc[name, 'Average'] = avg\n",
    "    \n",
    "tbl.style.format('${:,.2f}')"
   ]
  },
  {
   "cell_type": "markdown",
   "metadata": {},
   "source": [
    "\n",
    "### Comparing across 2017-2019"
   ]
  },
  {
   "cell_type": "markdown",
   "metadata": {},
   "source": [
    "As a last step, this section combines 36 monthly CPS files to compare data from 2017 through 2019. The left plot compares the mean wage using different adjustments to the topcoded portion of the data with the national accounts equivalent and the unadjusted data. The right plot shows the median wage calculated using different methods.\n",
    "\n",
    "When comparing currency values over time, researchers should always adjust for changes in the value of the currency. Doing so is straightforward and will be discussed in a later section, but for purposes of comparing these measures I'm going to use nominal values in the charts below (not adjusted for inflation). "
   ]
  },
  {
   "cell_type": "code",
   "execution_count": 40,
   "metadata": {
    "ExecuteTime": {
     "end_time": "2021-05-02T23:09:59.172959Z",
     "start_time": "2021-05-02T23:09:49.649781Z"
    },
    "code_folding": [
     0
    ]
   },
   "outputs": [],
   "source": [
    "# Create new dataset with three years of wage observations\n",
    "dates = pd.date_range('2017-01-01', '2019-12-01', freq='MS')\n",
    "files = [f'{date.strftime(\"%b%y\").lower()}pub.dat' for date in dates]\n",
    "\n",
    "def cps_unpack_wage(file, unpacker, cols):\n",
    "    '''\n",
    "    Unpack each row and convert to pandas dataframe\n",
    "    Only if weekly earnings > 0\n",
    "    '''\n",
    "    data = [[*map(int, unpacker(row))] for row \n",
    "            in open(file, 'rb').readlines()\n",
    "            if int(row[526:534]) > 0]\n",
    "    return pd.DataFrame(data, columns=cols)\n",
    "\n",
    "d3y = pd.concat([(cps_unpack_wage(file, cps_unpacker(m), cols)\n",
    "                  .pipe(cps_decimal_adjust, [earnvars, wgtvars])\n",
    "                  .query('PRERNWA > 0')\n",
    "                  .assign(BIN_WAGE = bin_wage, USLFT = uslft))\n",
    "                 for file in files])"
   ]
  },
  {
   "cell_type": "code",
   "execution_count": 41,
   "metadata": {
    "ExecuteTime": {
     "end_time": "2021-05-02T23:09:59.875515Z",
     "start_time": "2021-05-02T23:09:59.175090Z"
    },
    "code_folding": [
     0
    ]
   },
   "outputs": [],
   "source": [
    "# Average weekly earnings using various measures\n",
    "datecol = ['HRYEAR4', 'HRMONTH']\n",
    "mean_grp = pd.DataFrame()\n",
    "\n",
    "weighted_mean = lambda x: np.average(x.PRERNWA, weights=x.PWORWGT)\n",
    "mean_grp['weighted'] = d3y.groupby(datecol).apply(weighted_mean)\n",
    "\n",
    "mtcp = (d3y.groupby(datecol)\n",
    "           .apply(lambda x: mtc_pareto(x, 0.8, 2884.61)['mtc'])\n",
    "           .to_dict())\n",
    "\n",
    "# Pareto imputed mean above topcode\n",
    "d3y['PIMTC_WAGE'] = d3y.PRERNWA.copy()\n",
    "for (year, month), value in mtcp.items():\n",
    "    mask = (d3y.HRYEAR4 == year) & (d3y.HRMONTH == month) & (d3y.PTWK == 1)\n",
    "    d3y.loc[mask, 'PIMTC_WAGE'] = value\n",
    "pimtc_mean = lambda x: np.average(x.PIMTC_WAGE, weights=x.PWORWGT)\n",
    "mean_grp['pimtc'] = d3y.groupby(datecol).apply(pimtc_mean)    \n",
    "\n",
    "def mtc_cepr_spec(wage_obs):\n",
    "    '''CEPR mean above topcode approach for specific columns'''\n",
    "    wages = wage_obs.PRERNWA.values\n",
    "    wgts = wage_obs.PWORWGT.values\n",
    "    tc_share = (wage_obs.loc[wage_obs.PTWK == 1, 'PWORWGT'].sum() / \n",
    "                wage_obs.PWORWGT.sum())\n",
    "    return mtc_cepr(wages, wgts, 2884.61, tc_share)\n",
    "\n",
    "# Log-normal imputed mean above topcode\n",
    "mtcl = (d3y.groupby(datecol)\n",
    "           .apply(lambda x: mtc_cepr_spec(x))\n",
    "           .to_dict())\n",
    "d3y['LNIMTC_WAGE'] = d3y.PRERNWA.copy()\n",
    "for (year, month), value in mtcl.items():\n",
    "    mask = (d3y.HRYEAR4 == year) & (d3y.HRMONTH == month) & (d3y.PTWK == 1)\n",
    "    d3y.loc[mask, 'LNIMTC_WAGE'] = value\n",
    "lnimtc_mean = lambda x: np.average(x.LNIMTC_WAGE, weights=x.PWORWGT)\n",
    "mean_grp['lnimtc'] = d3y.groupby(datecol).apply(lnimtc_mean)    \n",
    "mean_grp.index = dates\n",
    "mean_grp.index.name = ''\n",
    "\n",
    "# BEA Aggregate data\n",
    "ws = fred['WSperworker']\n",
    "ws.index.name = ''"
   ]
  },
  {
   "cell_type": "code",
   "execution_count": 42,
   "metadata": {
    "ExecuteTime": {
     "end_time": "2021-05-02T23:10:00.178838Z",
     "start_time": "2021-05-02T23:09:59.876509Z"
    },
    "code_folding": [
     0
    ]
   },
   "outputs": [],
   "source": [
    "# Median weekly earnings for full-time workers, various measures\n",
    "d3yf = d3y.query('USLFT == 1')\n",
    "mdn_grp = pd.DataFrame()\n",
    "mdn_grp['Simple'] = d3y.groupby(datecol).PRERNWA.median()\n",
    "\n",
    "# Linear interpolated binned median wage\n",
    "binint = d3y.groupby(datecol).apply(lambda x: binned_wage(x))\n",
    "mdn_grp['Binned Interpolated'] = binint\n",
    "mdn_grp.index = dates"
   ]
  },
  {
   "cell_type": "code",
   "execution_count": 43,
   "metadata": {
    "ExecuteTime": {
     "end_time": "2021-05-02T23:10:00.590567Z",
     "start_time": "2021-05-02T23:10:00.179848Z"
    },
    "code_folding": [
     0
    ]
   },
   "outputs": [
    {
     "data": {
      "image/png": "[encoded data removed]",
      "text/plain": [
       "<Figure size 576x360 with 2 Axes>"
      ]
     },
     "metadata": {
      "needs_background": "light"
     },
     "output_type": "display_data"
    }
   ],
   "source": [
    "# Plot mean and median\n",
    "fig, (ax1, ax2) = plt.subplots(1, 2, figsize=(8, 5), \n",
    "                               constrained_layout=True)\n",
    "\n",
    "mean_grp.plot(ax=ax1, color=['blue', 'navy', 'skyblue'], legend=None)\n",
    "ws.loc['2017':'2019'].plot(ax=ax1, color='red', legend=None)\n",
    "ax1.text('2017-02-01', 1120, 'National\\nAccounts', color='red')\n",
    "ax1.text('2017-02-01', 1015, 'Pareto', color='navy')\n",
    "ax1.text('2017-02-01', 955, 'Lognormal', color='skyblue')\n",
    "ax1.text('2017-02-01', 920, 'Unadjusted', color='blue')\n",
    "ax1.text(0.0, 1.02, 'Average/Mean', size=14, transform=ax1.transAxes);\n",
    "\n",
    "mdn_grp.plot(ax=ax2, color=['blue', 'limegreen'], legend=None)\n",
    "ax2.text('2017-02-01', 764, 'simple\\nmedian', color='blue')\n",
    "ax2.text('2017-10-01', 730, 'binned and\\ninterpolated', \n",
    "         color='limegreen')\n",
    "\n",
    "ax2.text(0.0, 1.02, 'Median', size=14, transform=ax2.transAxes)\n",
    "\n",
    "title = 'Usual Weekly Earnings: Adjustments Overview 2017-2019'\n",
    "fig.text(0.01, 1.02, title, size=18)\n",
    "\n",
    "footer = ('Pareto and Lognormal describe data adjusted based on '+\n",
    "          'assumptions about the distribution.\\nSpecifically, the '+\n",
    "          'topcode is replaced with a higher value. The goal is to '+\n",
    "          'better approximate\\nthe estimates obtained using '+\n",
    "          'National Accounts, without introducing too much noise.\\n'+\n",
    "          'The right plot shows the tendency of the median to take on '+\n",
    "          'rounded values like \\\\$800. The\\n BLS approach '+\n",
    "          'for smoothing the data is approximated with '+\n",
    "          'the green line.')\n",
    "fig.text(0.03, -0.03, footer, size=12, va='top');"
   ]
  },
  {
   "cell_type": "markdown",
   "metadata": {},
   "source": [
    "## Conclusion\n",
    "\n",
    "Not all CPS households provide interviews and not all interviews provide wage information. Of the wage data that exists, much of it is either proxy responses or BLS-imputed values. Additionally, earnings above \\\\$150,000 per year are censored, and weekly earnings responses tend to cluster around rounded values (like $60,000 per year). \n",
    "\n",
    "As a result, researchers who want to study usual weekly earnings often use a subset of the data and/or use techniques to impute censored values. Techniques for estimating the mean earnings of the censored (topcoded) data suggest annual earnings for the top four percent of earners average between \\\\$200,000 and \\\\$275,000, in October 2019. Plugging that estimate in place of censored data can help with descriptive statistics and analysis of aggregate data. Researchers who want to study subgroups should be careful when replacing the topcoded values but can use these techniques to think about the missing data for the subgroup of interest.\n",
    "\n",
    "The tendency of earnings data to bunch up around rounded values may reflect a combination of real world pay and peoples' tendency to round their actual pay during the interview. The clustering can affect estimates of wage growth, for example. As a result, researchers, including BLS, group wage observations into $50 ranges and interpolate the wage value that would correspond to an exact percentile. This technique works well.\n",
    "\n",
    "Lastly, we can compare hourly workers' usual weekly earnings with their usual hours times rate of pay. I would like more documentation on this, but there are cases where individuals earnings calculated by usual hours times rate of pay are higher than the weekly total, which shouldn't be the case. It may be worth adjusting these cases.\n",
    "\n",
    "Overall, making some minor adjustments to the weekly earnings data produces more accurate estimates of average earnings. Additionally, using a modified technique to calculate the median or other percentile earnings can help with the clustering issue.\n",
    "\n",
    "#### Implications for bd CPS\n",
    "\n",
    "The bd CPS will include the original usual weekly earnings variable and a second, adjusted, variable. The adjusted variable will replace topcoded values with the estimated mean above the topcode for eight groups by Census region and gender. The estimate of the mean above the topcode will assume a log-normal distribution of earnings and utilize the topcode flag `PTWK` to calculate the topcoded share of observations. The estimate will be calculated separately for each month of CPS data. For 2017-2019 this is represented by the light blue line in the previous graph."
   ]
  },
  {
   "cell_type": "markdown",
   "metadata": {},
   "source": [
    "## References\n",
    "\n",
    "Bureau of Labor Statistics (2021). Usual Weekly Earnings Technical Note. [link](https://www.bls.gov/news.release/wkyeng.tn.htm)\n",
    "\n",
    "Cai, J. & Baker, D. (2021). Masking Real Unemployment: The Overall and Racial Impact of Survey Non-Response on Measured Labor Market Outcomes. Working Paper. [link](https://www.ineteconomics.org/research/research-papers/masking-real-unemployment-the-overall-and-racial-impact-of-survey-non-response-on-measured-labor-market-outcomes)\n",
    "\n",
    "Center for Economic and Policy Research (2020). CPS ORG Uniform Extracts, Version 2.5.\n",
    "\n",
    "CEPRdata CPS ORG FAQ. [link](https://ceprdata.org/cps-uniform-data-extracts/cps-outgoing-rotation-group/cps-org-faq/)\n",
    "\n",
    "CEPRdata CPS program for lognormal topcode [link](http://ceprdata.org/wp-content/cps/programs/org/cepr_org_topcode_lognormal.do)\n",
    "\n",
    "Economic Policy Institute (2019). Methodology for measuring wages and benefits. [link](https://www.epi.org/data/methodology/)\n",
    "\n",
    "Enders, C.K. (2010). *Applied Missing Data Analysis*. pp 46-48.\n",
    "\n",
    "EPI Microdata Extracts. Methodology for wage variables. [link](https://microdata.epi.org/methodology/wagevariables/)\n",
    "\n",
    "Flood, S., et. al. (2020) Integrated Public Use Microdata Series, Current Population Survey: Version 8.0. See [documentation](https://cps.ipums.org/cps-action/variables/EARNWEEK#description_section) for `EARNWEEK` variable. \n",
    "\n",
    "Greene, W.H. (2005). *Econometric Analysis*, 7th edition. See sections on Truncation and Censored Data.\n",
    "\n",
    "Hirsch, B. & Schumacher, E.J. (2004). Match Bias in Wage Gap Estimates Due to Earnings Imputation. *Journal of Labor Economics*, vol. 22, issue 3, 689–722. [link](https://www.journals.uchicago.edu/doi/abs/10.1086/383112)\n",
    "\n",
    "Rönkkö, M. (2020). Heckman sample selection model. YouTube video. [link](https://www.youtube.com/watch?v=dGLXUwGCu4A)\n",
    "\n",
    "Schmitt, J. (2003). Creating a consistent hourly wage series from the Current Population Survey's Outgoing Rotation Group, 1979–2002. Working Paper. [link](https://ceprdata.org/wp-content/cps/CEPR_ORG_Wages.pdf)\n",
    "\n",
    "Tobin, J. (1958). Estimation of Relationships for Limited Dependent Variables. *Econometrica*, vol. 26, issue 3, 24–36.\n",
    "\n",
    "U.S. Census Bureau. (2019). *Current Population Survey Design and Methodology Technical Paper 77*. [link (PDF)](https://www2.census.gov/programs-surveys/cps/methodology/CPS-Tech-Paper-77.pdf)"
   ]
  },
  {
   "cell_type": "markdown",
   "metadata": {},
   "source": [
    "## Future topics\n",
    "\n",
    "* Hourly rate of pay (**part 2**)\n",
    "    * Hourly vs nonhourly workers\n",
    "    * Descriptive statistics\n",
    "        * Topcoding, clumping, outliers\n",
    "    * Overtime, tips, commissions\n",
    "    * Usual hours vary\n",
    "        * Imputed usual hours\n",
    "    * Usual or actual?\n",
    "* Comparing data over time (**part 3**)\n",
    "    * Short periods\n",
    "        * Seasonal adjustment\n",
    "        * Clustering\n",
    "        * Breaks in data/methodology\n",
    "            * 1989\n",
    "            * 1994\n",
    "            * Later\n",
    "        * Matching observations\n",
    "            * Wage growth tracker\n",
    "    * Longer periods\n",
    "        * Real wages\n",
    "            * CPI-U-RS\n",
    "            * Regional CPI\n",
    "        * Pseudo-panel from birth cohorts\n",
    "* Family Income (**part 4**)\n",
    "    * Categorical Data\n",
    "    * Imputing data\n",
    "        * Self-employed earnings\n",
    "        * Unemployment income\n",
    "        * Other income (?)"
   ]
  }
 ],
 "metadata": {
  "kernelspec": {
   "display_name": "Python 3",
   "language": "python",
   "name": "python3"
  },
  "language_info": {
   "codemirror_mode": {
    "name": "ipython",
    "version": 3
   },
   "file_extension": ".py",
   "mimetype": "text/x-python",
   "name": "python",
   "nbconvert_exporter": "python",
   "pygments_lexer": "ipython3",
   "version": "3.8.8"
  }
 },
 "nbformat": 4,
 "nbformat_minor": 4
}
