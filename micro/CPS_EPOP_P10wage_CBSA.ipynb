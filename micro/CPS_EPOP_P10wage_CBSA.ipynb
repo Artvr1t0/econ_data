{
 "cells": [
  {
   "cell_type": "markdown",
   "metadata": {},
   "source": [
    "### Blog post on low wage work and employment rates\n",
    "\n",
    "January 23, 2019\n",
    "\n",
    "Brian Dew, @bd_econ"
   ]
  },
  {
   "cell_type": "code",
   "execution_count": 16,
   "metadata": {
    "ExecuteTime": {
     "end_time": "2019-07-09T21:02:04.761956Z",
     "start_time": "2019-07-09T21:02:03.814274Z"
    },
    "code_folding": [
     13,
     33,
     39,
     61,
     66,
     71
    ],
    "run_control": {
     "marked": false
    }
   },
   "outputs": [
    {
     "name": "stderr",
     "output_type": "stream",
     "text": [
      "/home/brian/miniconda3/lib/python3.7/site-packages/ipykernel_launcher.py:31: FutureWarning: The signature of `Series.to_csv` was aligned to that of `DataFrame.to_csv`, and argument 'header' will change its default value from False to True: please pass an explicit value to suppress this warning.\n"
     ]
    }
   ],
   "source": [
    "# Import packages\n",
    "import pandas as pd\n",
    "import numpy as np\n",
    "import matplotlib.pyplot as plt\n",
    "import os\n",
    "\n",
    "os.chdir('/home/brian/Documents/CPS/data/clean/')\n",
    "\n",
    "# Get names of CBSAs\n",
    "url = 'https://www.uspto.gov/web/offices/ac/ido/oeip/taf/cls_cbsa/cbsa_countyassoc.htm'\n",
    "cbsa_list = pd.read_html(url)[0]\n",
    "cbsas = cbsa_list.set_index('CBSA Code')['CBSA Title'].to_dict()\n",
    "# Fill in the gaps:\n",
    "d = {14010: 'Bloomington, IL',\n",
    "     15680: 'California-Lexington Park, MD',\n",
    "     16060: 'Carbondale-Marion, IL',\n",
    "     16540: 'Chambersburg-Waynesboro, PA',\n",
    "     19300: 'Daphne-Fairhope-Foley, AL',\n",
    "     20700: 'East Stroudsburg, PA',\n",
    "     25940: 'Hilton Head Island-Bluffton-Beaufort, SC',\n",
    "     27980: 'Kahului-Wailuku-Lahaina, HI',\n",
    "     29200: 'Lafayette-West Lafayette, IN',\n",
    "     31080: 'Los Angeles-Long Beach-Anaheim, CA',\n",
    "     42200: 'Santa Maria-Santa Barbara, CA',\n",
    "     46520: 'Urban Honolulu, HI',\n",
    "     48060: 'Watertown-Fort Drum, NY'}\n",
    "\n",
    "cbsa_dict = {**cbsas, **d}\n",
    "\n",
    "# Save CBSA names \n",
    "pd.Series(cbsa_dict).to_csv('CBSA_Names.csv')\n",
    "\n",
    "# Define various functions to apply to grouped data\n",
    "def epop(group):\n",
    "    \"\"\"Calculate epop for group\"\"\"\n",
    "    d = np.where(group['LFS'] == 'Employed', 1, 0)\n",
    "    w = group['BASICWGT']\n",
    "    return (d * w).sum() / w.sum() * 100.0\n",
    "\n",
    "def p10wage(group):\n",
    "    \"\"\"Return BLS-styled binned first decile wage\"\"\"\n",
    "    wage_var = 'RHRWAGE'\n",
    "    weight = 'PWORWGT'\n",
    "    group = group.query('PWORWGT > 0 and RHRWAGE > 0 and PRFTLF == 1')\n",
    "    bin_size = 0.5 #($0.50)\n",
    "    bins = list(np.arange(0.25, 300, bin_size))\n",
    "    bin_cut = lambda x: pd.cut(x[wage_var], bins, include_lowest=True)\n",
    "    cum_sum = lambda x: x[weight].cumsum()\n",
    "    dft = (group.sort_values(wage_var)\n",
    "                .assign(WAGE_RANGE = bin_cut, CS = cum_sum))\n",
    "    p10_point = dft[weight].sum() * 0.1\n",
    "    p10_bin = (dft.iloc[(dft['CS'] - p10_point).abs().argsort()[:1]]\n",
    "                  .WAGE_RANGE.values[0])\n",
    "    wage_bins = list(dft['WAGE_RANGE'].unique())\n",
    "    p10_loc = wage_bins.index(p10_bin)\n",
    "    bin_below = dft[dft['WAGE_RANGE'] == wage_bins[p10_loc-1]].iloc[-1].CS\n",
    "    bin_above = dft[dft['WAGE_RANGE'] == wage_bins[p10_loc]].iloc[-1].CS\n",
    "    p10_value = ((((p10_point - bin_below) / \n",
    "                   (bin_above - bin_below)) * bin_size) + p10_bin.left)\n",
    "    return p10_value\n",
    "\n",
    "def unionmem(group):\n",
    "    group = group.query('UNIONMEM in [0, 1]')\n",
    "    member = group[group['UNIONMEM']==1]\n",
    "    return member['PWORWGT'].sum() / group['PWORWGT'].sum() * 100.0\n",
    "\n",
    "def unemp(group):\n",
    "    group = group.query('LFS != \"NILF\"')\n",
    "    unemp = group[group['LFS'] == 'Unemployed']\n",
    "    return unemp['BASICWGT'].sum() / group['BASICWGT'].sum() * 100.0\n",
    "\n",
    "def groupsize(group):\n",
    "    group = group.query('PWORWGT > 0 and RHRWAGE > 0 and PRFTLF == 1')\n",
    "    return len(group)"
   ]
  },
  {
   "cell_type": "code",
   "execution_count": 17,
   "metadata": {
    "ExecuteTime": {
     "end_time": "2019-07-09T21:02:07.323113Z",
     "start_time": "2019-07-09T21:02:06.669690Z"
    },
    "code_folding": []
   },
   "outputs": [],
   "source": [
    "# Retrieve latest two years of CPS data\n",
    "keep_cols = ['YEAR', 'MONTH', 'AGE', 'BASICWGT', 'LFS', 'UNIONMEM',\n",
    "             'PRFTLF', 'PWORWGT', 'RHRWAGE', 'CBSA']\n",
    "keep_rows1 = '25 <= AGE <= 54'\n",
    "df2 = (pd.read_feather(f'cps2017.ft').filter(keep_cols).query(keep_rows1))\n",
    "df2['MONTH'] = df2['MONTH'].astype('int8')\n",
    "df3 = (pd.read_feather(f'cps2018.ft').filter(keep_cols).query(keep_rows1))\n",
    "df4 = (pd.read_feather(f'cps2019.ft').filter(keep_cols).query(keep_rows1))\n",
    "\n",
    "df = pd.concat([df2.query('MONTH > 5'), df3, df4])"
   ]
  },
  {
   "cell_type": "code",
   "execution_count": 18,
   "metadata": {
    "ExecuteTime": {
     "end_time": "2019-07-09T21:02:19.848646Z",
     "start_time": "2019-07-09T21:02:07.962306Z"
    },
    "code_folding": []
   },
   "outputs": [],
   "source": [
    "# Apply calculations and save results\n",
    "data = pd.DataFrame()\n",
    "data['Count'] = df.groupby('CBSA').apply(groupsize)\n",
    "data = data[data['Count'] > 300]\n",
    "data['EPOP'] = df.groupby('CBSA').apply(epop)\n",
    "data['P10wage'] = df.groupby('CBSA').apply(p10wage)\n",
    "data['Union'] = df.groupby('CBSA').apply(unionmem)\n",
    "data['Unemp'] = df.groupby('CBSA').apply(unemp)\n",
    "data['Name'] = data.index.map(cbsa_dict)\n",
    "data.to_csv('CBSA_2YR_Indicators.csv')"
   ]
  },
  {
   "cell_type": "code",
   "execution_count": 19,
   "metadata": {
    "ExecuteTime": {
     "end_time": "2019-07-09T21:02:29.139198Z",
     "start_time": "2019-07-09T21:02:28.740197Z"
    },
    "code_folding": []
   },
   "outputs": [
    {
     "data": {
      "image/png": "[encoded data removed]",
      "text/plain": [
       "<Figure size 432x432 with 1 Axes>"
      ]
     },
     "metadata": {
      "needs_background": "light"
     },
     "output_type": "display_data"
    }
   ],
   "source": [
    "# Scatter plot of epop and first decile wage\n",
    "y = data['P10wage']\n",
    "x = data['EPOP']\n",
    "\n",
    "r2 = np.corrcoef(x, y)[0, 1]**2\n",
    "fit = np.polyfit(x, y, 1)\n",
    "\n",
    "data.plot(kind='scatter', x='EPOP', y='P10wage', \n",
    "          zorder=2, color='green', figsize=(6, 6))\n",
    "plt.plot(x, np.poly1d(fit)(x), color='lightgray', zorder=1)\n",
    "text = f'$Y$ = {round(fit[1], 2)} + {round(fit[0], 2)}$X$\\n$R^2$ = {round(r2, 2)}'\n",
    "plt.text(x.min(), 14.5, text)\n",
    "plt.title('First decile real hourly wage and employment rate')\n",
    "plt.xlabel('Employed share of 25-54 year olds')\n",
    "plt.ylabel('First decile real wage, full-time 25-54 year olds')\n",
    "plt.savefig('CBSA_p10wage_epop.png')"
   ]
  }
 ],
 "metadata": {
  "kernelspec": {
   "display_name": "Python 3",
   "language": "python",
   "name": "python3"
  },
  "language_info": {
   "codemirror_mode": {
    "name": "ipython",
    "version": 3
   },
   "file_extension": ".py",
   "mimetype": "text/x-python",
   "name": "python",
   "nbconvert_exporter": "python",
   "pygments_lexer": "ipython3",
   "version": "3.7.4"
  }
 },
 "nbformat": 4,
 "nbformat_minor": 2
}
