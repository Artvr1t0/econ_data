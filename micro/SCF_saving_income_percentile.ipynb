{
 "cells": [
  {
   "cell_type": "markdown",
   "metadata": {},
   "source": [
    "## Survey of Consumer Finances\n",
    "\n",
    "Example using public microdata"
   ]
  },
  {
   "cell_type": "code",
   "execution_count": 1,
   "metadata": {
    "ExecuteTime": {
     "end_time": "2023-11-02T00:10:06.471120Z",
     "start_time": "2023-11-02T00:10:06.220874Z"
    }
   },
   "outputs": [],
   "source": [
    "%config Completer.use_jedi = False\n",
    "import pandas as pd\n",
    "import numpy as np\n",
    "\n",
    "path = '/home/brian/Documents/SCF/data/'"
   ]
  },
  {
   "cell_type": "code",
   "execution_count": 5,
   "metadata": {
    "ExecuteTime": {
     "end_time": "2023-11-02T00:11:14.008028Z",
     "start_time": "2023-11-02T00:11:13.831289Z"
    }
   },
   "outputs": [],
   "source": [
    "result = pd.DataFrame()\n",
    "for year in [2019, 2022]:\n",
    "    df = pd.read_stata(f'{path}rscfp{year}.dta').copy()\n",
    "    q = [0., 0.25, 0.5, 0.75, 0.9, 0.99, 1.]\n",
    "    weights = df.wgt\n",
    "    values = df.norminc\n",
    "    order = weights.iloc[values.argsort()].cumsum()\n",
    "    bins = pd.cut(order / order.iloc[-1], q)\n",
    "    df['inc_pct'] = bins.sort_index()\n",
    "\n",
    "    for i in df.inc_pct.cat.categories:\n",
    "        d = df[df.inc_pct == i]\n",
    "        val = (d.saved*d.wgt).sum()/d.wgt.sum()\n",
    "        name = f'{int(i.left * 100)}-{int(i.right * 100)}'\n",
    "        result.loc[name, year] = val"
   ]
  },
  {
   "cell_type": "code",
   "execution_count": 3,
   "metadata": {
    "ExecuteTime": {
     "end_time": "2023-11-01T12:48:37.271897Z",
     "start_time": "2023-11-01T12:48:36.858117Z"
    }
   },
   "outputs": [
    {
     "data": {
      "image/png": "[encoded data removed]",
      "text/plain": [
       "<Figure size 800x500 with 1 Axes>"
      ]
     },
     "metadata": {},
     "output_type": "display_data"
    }
   ],
   "source": [
    "names = {'0-25': 'Bottom 25\\npercent',\n",
    "         '25-50': 'Second 25\\npercent',\n",
    "         '50-75': 'Third 25\\npercent',\n",
    "         '75-90': '75th to 90th\\npercentiles',\n",
    "         '90-99': '90th to 99th\\npercentiles',\n",
    "         '99-100': 'Top one\\npercent'}\n",
    "title = 'Share of families saving, by income decile'\n",
    "result.rename(names).plot(kind='bar', title=title, rot=0, figsize=(8, 5));"
   ]
  },
  {
   "cell_type": "code",
   "execution_count": null,
   "metadata": {},
   "outputs": [],
   "source": []
  },
  {
   "cell_type": "code",
   "execution_count": null,
   "metadata": {},
   "outputs": [],
   "source": []
  },
  {
   "cell_type": "code",
   "execution_count": null,
   "metadata": {},
   "outputs": [],
   "source": []
  },
  {
   "cell_type": "code",
   "execution_count": null,
   "metadata": {},
   "outputs": [],
   "source": []
  },
  {
   "cell_type": "code",
   "execution_count": null,
   "metadata": {},
   "outputs": [],
   "source": []
  },
  {
   "cell_type": "code",
   "execution_count": null,
   "metadata": {},
   "outputs": [],
   "source": []
  },
  {
   "cell_type": "code",
   "execution_count": null,
   "metadata": {},
   "outputs": [],
   "source": []
  },
  {
   "cell_type": "markdown",
   "metadata": {},
   "source": [
    "### Share of Total Wealth Held by Each Decile"
   ]
  },
  {
   "cell_type": "code",
   "execution_count": 42,
   "metadata": {
    "ExecuteTime": {
     "end_time": "2023-11-02T01:00:48.233854Z",
     "start_time": "2023-11-02T01:00:48.009497Z"
    }
   },
   "outputs": [],
   "source": [
    "result = pd.DataFrame()\n",
    "for year in [2019, 2022]:\n",
    "    df = pd.read_stata(f'{path}rscfp{year}.dta').copy()\n",
    "    # Wealth deciles\n",
    "    q = [0., 0.1, 0.2, 0.3, 0.4, 0.5, 0.6, 0.7, 0.8, 0.9, 1.]\n",
    "    weights = df.wgt\n",
    "    values = df.networth\n",
    "    order = weights.iloc[values.argsort()].cumsum()\n",
    "    bins = pd.cut(order / order.iloc[-1], q)\n",
    "    df['nw_pct'] = bins.sort_index()\n",
    "    \n",
    "    # Calculate wealth in each decile\n",
    "    for i in df.nw_pct.cat.categories:\n",
    "        d = df[df.nw_pct == i]\n",
    "        val = ((d.networth * d.wgt).sum() / \n",
    "               (df.networth * df.wgt).sum()) * 100\n",
    "        name = f'{int(i.left * 100)}-{int(i.right * 100)}'\n",
    "        result.loc[name, year] = val\n",
    "\n",
    "# Store most recent result for use in chartbook        \n",
    "r22 = result[2022]\n",
    "r22.name = 'Share'\n",
    "r22.to_csv('results/wealth_dist.csv', index_label='pct')"
   ]
  },
  {
   "cell_type": "code",
   "execution_count": null,
   "metadata": {},
   "outputs": [],
   "source": []
  },
  {
   "cell_type": "code",
   "execution_count": null,
   "metadata": {},
   "outputs": [],
   "source": []
  },
  {
   "cell_type": "code",
   "execution_count": null,
   "metadata": {},
   "outputs": [],
   "source": []
  }
 ],
 "metadata": {
  "kernelspec": {
   "display_name": "Python 3 (ipykernel)",
   "language": "python",
   "name": "python3"
  },
  "language_info": {
   "codemirror_mode": {
    "name": "ipython",
    "version": 3
   },
   "file_extension": ".py",
   "mimetype": "text/x-python",
   "name": "python",
   "nbconvert_exporter": "python",
   "pygments_lexer": "ipython3",
   "version": "3.8.13"
  }
 },
 "nbformat": 4,
 "nbformat_minor": 4
}
