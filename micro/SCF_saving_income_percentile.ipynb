{
 "cells": [
  {
   "cell_type": "markdown",
   "metadata": {},
   "source": [
    "## Survey of Consumer Finances\n",
    "\n",
    "Example using public microdata"
   ]
  },
  {
   "cell_type": "code",
   "execution_count": 1,
   "metadata": {
    "ExecuteTime": {
     "end_time": "2021-04-14T23:42:59.983870Z",
     "start_time": "2021-04-14T23:42:59.824617Z"
    }
   },
   "outputs": [],
   "source": [
    "%config Completer.use_jedi = False\n",
    "import pandas as pd\n",
    "import numpy as np\n",
    "\n",
    "path = '/home/brian/Documents/SCF/data/'"
   ]
  },
  {
   "cell_type": "code",
   "execution_count": 55,
   "metadata": {
    "ExecuteTime": {
     "end_time": "2021-04-15T00:19:09.413351Z",
     "start_time": "2021-04-15T00:19:08.849024Z"
    }
   },
   "outputs": [],
   "source": [
    "result = pd.DataFrame()\n",
    "for year in [2016, 2019]:\n",
    "    df = pd.read_stata(f'{path}rscfp{year}.dta')\n",
    "    q = [0., 0.25, 0.5, 0.75, 0.9, 0.99, 1.]\n",
    "    weights = df.wgt\n",
    "    values = df.norminc\n",
    "    order = weights.iloc[values.argsort()].cumsum()\n",
    "    bins = pd.cut(order / order.iloc[-1], q)\n",
    "    df['inc_pct'] = bins.sort_index()\n",
    "\n",
    "    for i in df.inc_pct.cat.categories:\n",
    "        d = df[df.inc_pct == i]\n",
    "        val = (d.saved*d.wgt).sum()/d.wgt.sum()\n",
    "        name = f'{int(i.left * 100)}-{int(i.right * 100)}'\n",
    "        result.loc[name, year] = val"
   ]
  },
  {
   "cell_type": "code",
   "execution_count": 59,
   "metadata": {
    "ExecuteTime": {
     "end_time": "2021-04-15T00:19:47.128690Z",
     "start_time": "2021-04-15T00:19:46.987260Z"
    }
   },
   "outputs": [
    {
     "data": {
      "image/png": "[encoded data removed]",
      "text/plain": [
       "<Figure size 576x360 with 1 Axes>"
      ]
     },
     "metadata": {
      "needs_background": "light"
     },
     "output_type": "display_data"
    }
   ],
   "source": [
    "names = {'0-25': 'Bottom 25\\npercent',\n",
    "         '25-50': 'Second 25\\npercent',\n",
    "         '50-75': 'Third 25\\npercent',\n",
    "         '75-90': '75th to 90th\\npercentiles',\n",
    "         '90-99': '90th to 99th\\npercentiles',\n",
    "         '99-100': 'Top one\\npercent'}\n",
    "title = 'Share of families saving, by income decile'\n",
    "result.rename(names).plot(kind='bar', title=title, rot=0, figsize=(8, 5));"
   ]
  },
  {
   "cell_type": "code",
   "execution_count": null,
   "metadata": {},
   "outputs": [],
   "source": []
  },
  {
   "cell_type": "code",
   "execution_count": null,
   "metadata": {},
   "outputs": [],
   "source": []
  }
 ],
 "metadata": {
  "kernelspec": {
   "display_name": "Python 3",
   "language": "python",
   "name": "python3"
  },
  "language_info": {
   "codemirror_mode": {
    "name": "ipython",
    "version": 3
   },
   "file_extension": ".py",
   "mimetype": "text/x-python",
   "name": "python",
   "nbconvert_exporter": "python",
   "pygments_lexer": "ipython3",
   "version": "3.8.8"
  }
 },
 "nbformat": 4,
 "nbformat_minor": 4
}
