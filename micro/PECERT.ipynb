{
 "cells": [
  {
   "cell_type": "code",
   "execution_count": null,
   "metadata": {
    "collapsed": true
   },
   "outputs": [],
   "source": []
  },
  {
   "cell_type": "code",
   "execution_count": 1,
   "metadata": {},
   "outputs": [],
   "source": [
    "import pandas as pd\n",
    "import numpy as np\n",
    "import os\n",
    "import matplotlib as mpl\n",
    "import matplotlib.pyplot as plt\n",
    "from matplotlib.patches import Polygon\n",
    "from matplotlib.collections import PatchCollection\n",
    "from mpl_toolkits.basemap import Basemap as Basemap\n",
    "# Settings for the map\n",
    "\n",
    "os.chdir('C:/Working/econ_data/micro/')"
   ]
  },
  {
   "cell_type": "code",
   "execution_count": null,
   "metadata": {
    "collapsed": true
   },
   "outputs": [],
   "source": []
  },
  {
   "cell_type": "code",
   "execution_count": 2,
   "metadata": {},
   "outputs": [],
   "source": [
    "# Python numbering (subtract one from first number in range)\n",
    "colspecs = [(15,17), (17,21), (121,123), (128,130), (136,138), (92,94),\n",
    "            (392,394), (396,398), (526, 534), (602,612), (845,855),\n",
    "            (943,945)]\n",
    "colnames = ['month', 'year', 'age', 'PESEX', 'PEEDUCA', 'STATE',\n",
    "            'PREMPNOT', 'PRFTLF', 'PRERNWA', 'orgwgt', 'fnlwgt',\n",
    "            'PECERT']\n",
    "\n",
    "educ_dict = {31: 'LTHS',\n",
    "             32: 'LTHS',\n",
    "             33: 'LTHS',\n",
    "             34: 'LTHS',\n",
    "             35: 'LTHS',\n",
    "             36: 'LTHS',\n",
    "             37: 'LTHS',\n",
    "             38: 'HS',\n",
    "             39: 'HS',\n",
    "             40: 'Some college',\n",
    "             41: 'Some college',\n",
    "             42: 'Some college',\n",
    "             43: 'College',\n",
    "             44: 'Advanced',\n",
    "             45: 'Advanced',\n",
    "             46: 'Advanced',\n",
    "            }\n",
    "\n",
    "gender_dict = {1: 0, 2: 1}\n",
    "\n",
    "empl_dict = {1: 1, 2: 0, 3: 0, 4: 0}\n",
    "\n",
    "states = {1:'AL', 30: 'MT', 2:'AK', 31:'NE', 4:'AZ', 32:'NV', 5:'AR', 33:'NH',\n",
    "          6:'CA', 34:'NJ', 8:'CO', 35:'NM', 9:'CT', 36:'NY', 10:'DE', 37:'NC', \n",
    "          11:'DC', 38:'ND', 12:'FL', 39:'OH', 13:'GA', 40:'OK', 15:'HI', 41:'OR',\n",
    "          16:'ID', 42:'PA', 17:'IL', 44:'RI', 18:'IN', 45:'SC', 19:'IA', 46:'SD',\n",
    "          20:'KS', 47:'TN', 21:'KY', 48:'TX', 22:'LA', 49:'UT', 23:'ME', 50:'VT',\n",
    "          24:'MD', 51:'VA', 25:'MA', 53:'WA', 26:'MI', 54:'WV', 27:'MN', 55:'WI',\n",
    "          28:'MS', 56:'WY', 29:'MO'}"
   ]
  },
  {
   "cell_type": "code",
   "execution_count": null,
   "metadata": {
    "collapsed": true
   },
   "outputs": [],
   "source": []
  },
  {
   "cell_type": "code",
   "execution_count": 3,
   "metadata": {
    "collapsed": true
   },
   "outputs": [],
   "source": [
    "data = pd.DataFrame()   # This will be the combined annual df\n",
    "\n",
    "for file in os.listdir('Data/'):\n",
    "    if file.endswith('.dat'):\n",
    "        df = pd.read_fwf('Data/{}'.format(file), colspecs=colspecs, header=None)\n",
    "        # Set the values to match with CEPR extracts\n",
    "        df.columns = colnames\n",
    "        # Add the currently open monthly df to the combined annual df\n",
    "        data = data.append(df)"
   ]
  },
  {
   "cell_type": "code",
   "execution_count": null,
   "metadata": {
    "collapsed": true
   },
   "outputs": [],
   "source": []
  },
  {
   "cell_type": "code",
   "execution_count": 4,
   "metadata": {
    "collapsed": true
   },
   "outputs": [],
   "source": [
    "data['Cert'] = data['PECERT'] == 1\n",
    "data['cert'] = data['Cert'].map({True: 1, False: 0})\n",
    "data['educ'] = data['PEEDUCA'].map(educ_dict)\n",
    "data['female'] = data['PESEX'].map(gender_dict)\n",
    "data['empl'] = data['PREMPNOT'].map(empl_dict)\n",
    "data['weekpay'] = data['PRERNWA'].astype(float) / 100\n",
    "data['uhourse'] = data['PRFTLF'].replace(1, 40)"
   ]
  },
  {
   "cell_type": "code",
   "execution_count": null,
   "metadata": {
    "collapsed": true
   },
   "outputs": [],
   "source": []
  },
  {
   "cell_type": "code",
   "execution_count": 5,
   "metadata": {},
   "outputs": [],
   "source": [
    "swm = pd.DataFrame()\n",
    "for s in states.keys():\n",
    "    sid = states[s]\n",
    "    td = data[(data['STATE'] == s) & (data['age'] > 15) & (data['PRFTLF'] == 1)]\n",
    "    if (len(td) > 0) & (s > 0) & (s < 59) & (td['orgwgt'].sum() > 0):\n",
    "        swm.set_value(s, 'PECERT_w', np.average(td['cert'], weights=td['orgwgt'], axis=0))"
   ]
  },
  {
   "cell_type": "code",
   "execution_count": null,
   "metadata": {
    "collapsed": true
   },
   "outputs": [],
   "source": []
  },
  {
   "cell_type": "code",
   "execution_count": 6,
   "metadata": {},
   "outputs": [],
   "source": [
    "num_colors = 9\n",
    "values = swm['PECERT_w']\n",
    "cm = plt.get_cmap('summer')\n",
    "scheme = cm(1.*np.arange(num_colors)/num_colors)\n",
    "bins = np.linspace(values.min(), values.max(), num_colors)\n",
    "swm['bin'] = np.digitize(values, bins) - 1\n",
    "#mpl.style.use('seaborn-white')\n",
    "\n",
    "m = Basemap(llcrnrlon=-121, llcrnrlat=20, urcrnrlon=-64, urcrnrlat=49,\n",
    "            projection='lcc', lat_1=33, lat_2=45, lon_0=-95)\n",
    "\n",
    "plt.gcf()\n",
    "fig = plt.figure(figsize=(12,6))\n",
    "\n",
    "# Read the shapefile contained in the same folder (and the two related files)\n",
    "m.readshapefile('st99_d00', 'states', drawbounds=True, color='#ffffff')\n",
    "ax = plt.gca()\n",
    "ax.axis('off')\n",
    "\n",
    "for info, shape in zip(m.states_info, m.states):\n",
    "    s = int(info['STATE'])\n",
    "    if info['NAME'] in ['Alaska', 'Hawaii']:\n",
    "        # Only include the 8 main islands of Hawaii \n",
    "        if info['NAME'] == 'Hawaii' and float(info['AREA']) > 0.005:\n",
    "            shape = list(map(lambda (x,y): (x + 5200000, y-1400000), shape))\n",
    "        # Alaska is large. Rescale it.\n",
    "        elif info['NAME'] == 'Alaska':\n",
    "            shape = list(map(lambda (x,y): (0.35*x + 1100000, 0.35*y-1300000), shape))\n",
    "        poly = Polygon(shape, facecolor=scheme[int(swm.loc[s]['bin'])], edgecolor='#ffffff', linewidth=.5)\n",
    "        ax.add_patch(poly)\n",
    "        \n",
    "    if s not in swm.index:\n",
    "        color = '#dddddd'\n",
    "    else:\n",
    "        color = scheme[int(swm.loc[s]['bin'])]\n",
    "\n",
    "    patches = [Polygon(np.array(shape), True)]\n",
    "    pc = PatchCollection(patches, edgecolor='#ffffff', lw=.1, alpha=1.)\n",
    "    pc.set_facecolor(color)\n",
    "    ax.add_collection(pc)\n",
    "\n",
    "plt.savefig('test.pdf', bbox_inches='tight', pad_inches=.2, dpi=300)"
   ]
  }
 ],
 "metadata": {
  "kernelspec": {
   "display_name": "Python [conda root]",
   "language": "python",
   "name": "conda-root-py"
  },
  "language_info": {
   "codemirror_mode": {
    "name": "ipython",
    "version": 2
   },
   "file_extension": ".py",
   "mimetype": "text/x-python",
   "name": "python",
   "nbconvert_exporter": "python",
   "pygments_lexer": "ipython2",
   "version": "2.7.12"
  }
 },
 "nbformat": 4,
 "nbformat_minor": 2
}
