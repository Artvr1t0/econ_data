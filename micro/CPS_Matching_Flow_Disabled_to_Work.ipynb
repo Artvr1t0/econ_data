{
 "cells": [
  {
   "cell_type": "markdown",
   "metadata": {},
   "source": [
    "### Matching CPS observations over time\n",
    "\n",
    "##### Example with flow from disability to work\n",
    "\n",
    "---\n",
    "\n",
    "January 14, 2019\n",
    "\n",
    "Brian Dew, @bd_econ\n",
    "\n",
    "---\n",
    "\n",
    "Example uses CPS microdata that has already been cleaned and saved as feather format files, to calculate what percent of people age 25 to 54 who were not working the year before due to disability but are employed in the current month. "
   ]
  },
  {
   "cell_type": "code",
   "execution_count": 3,
   "metadata": {
    "ExecuteTime": {
     "end_time": "2019-01-14T23:04:23.784994Z",
     "start_time": "2019-01-14T23:04:23.782457Z"
    },
    "code_folding": []
   },
   "outputs": [],
   "source": [
    "# Import packages and set preliminaries\n",
    "import pandas as pd\n",
    "import numpy as np\n",
    "import os\n",
    "\n",
    "os.chdir('/home/brian/Documents/CPS/')"
   ]
  },
  {
   "cell_type": "code",
   "execution_count": 4,
   "metadata": {
    "ExecuteTime": {
     "end_time": "2019-01-14T23:05:40.900473Z",
     "start_time": "2019-01-14T23:04:23.789075Z"
    },
    "code_folding": [],
    "scrolled": true
   },
   "outputs": [
    {
     "name": "stderr",
     "output_type": "stream",
     "text": [
      "/home/brian/miniconda3/lib/python3.7/site-packages/ipykernel_launcher.py:98: RuntimeWarning: invalid value encountered in float_scalars\n"
     ]
    }
   ],
   "source": [
    "# Calculate disabled to work flow\n",
    "data = pd.DataFrame()\n",
    "\n",
    "# For each year calculate change over year before\n",
    "for year in list(range(1995, 2019)):\n",
    "\n",
    "    # Load year one\n",
    "    df1 = (pd.read_feather(f'data/clean/cps{year-1}.ft')\n",
    "             .query('HRMIS < 5 and 23 <= AGE <= 57'))\n",
    "\n",
    "    # Generate flow1 variable\n",
    "    df1['flow1'] = np.where(df1['PEMLR'].isin([3,4]), 1, 0)\n",
    "\n",
    "    # Generate unique ID\n",
    "    df1['UID'] = (df1['STATE'].astype(str) + \n",
    "                  df1['HRHHID'].astype(str) + \n",
    "                  df1['HRHHID2'].astype(str) + \n",
    "                  df1['PULINENO'].astype(str))\n",
    "\n",
    "    # Fix year if needed\n",
    "    if 'HRYEAR' in df1.keys():\n",
    "        df1['HRYEAR4'] = df1['HRYEAR'] + 1900\n",
    "\n",
    "    if year > 1998:\n",
    "    # Filter column-wise\n",
    "        df1 = df1[['UID','HRMONTH','HRYEAR4','HRMIS','AGE','flow1', \n",
    "                   'PWSSWGT', 'PWCMPWGT', 'FEMALE','WBHAO','STATE']]\n",
    "    else:\n",
    "        df1 = df1[['UID','HRMONTH','HRYEAR4','HRMIS','AGE','flow1', \n",
    "                   'PWSSWGT', 'FEMALE','WBHAO','STATE']]\n",
    "\n",
    "    # Load year two\n",
    "    df2 = (pd.read_feather(f'data/clean/cps{year}.ft')\n",
    "             .query('HRMIS > 4 and 23 <= AGE <= 57'))\n",
    "\n",
    "    # Generate flow2 variable\n",
    "    df2['flow2'] = np.where(df2['PEMLR'] < 3, 1, 0)\n",
    "\n",
    "    # Generate unique ID\n",
    "    df2['UID'] = (df2['STATE'].astype(str) + \n",
    "                  df2['HRHHID'].astype(str) + \n",
    "                  df2['HRHHID2'].astype(str) + \n",
    "                  df2['PULINENO'].astype(str))\n",
    "\n",
    "    # Fix year if needed\n",
    "    if 'HRYEAR' in df2.keys():\n",
    "        df2['HRYEAR4'] = df2['HRYEAR'] + 1900\n",
    "\n",
    "    if year > 1998:\n",
    "    # Filter column-wise\n",
    "        df2 = df2[['UID','HRMONTH','HRYEAR4','HRMIS','AGE','flow2', \n",
    "                   'PWSSWGT', 'PWCMPWGT', 'FEMALE','WBHAO','STATE']]\n",
    "    else:\n",
    "        df2 = df2[['UID','HRMONTH','HRYEAR4','HRMIS','AGE','flow2', \n",
    "                   'PWSSWGT', 'FEMALE','WBHAO','STATE']]\n",
    "\n",
    "    # List of months to loop over \n",
    "    mos = list(range(1, max(df2['HRMONTH']) + 1))\n",
    "\n",
    "    # Loop over the months\n",
    "    for mo in mos:\n",
    "\n",
    "        # Generate merge groups\n",
    "        g1 = df1[(df1['HRMONTH'] == mo) & (df1['HRMIS'] == 1)]\n",
    "        g5 = df2[(df2['HRMONTH'] == mo) & (df2['HRMIS'] == 5)]\n",
    "        g2 = df1[(df1['HRMONTH'] == mo) & (df1['HRMIS'] == 2)]\n",
    "        g6 = df2[(df2['HRMONTH'] == mo) & (df2['HRMIS'] == 6)]\n",
    "        g3 = df1[(df1['HRMONTH'] == mo) & (df1['HRMIS'] == 3)]\n",
    "        g7 = df2[(df2['HRMONTH'] == mo) & (df2['HRMIS'] == 7)]\n",
    "        g4 = df1[(df1['HRMONTH'] == mo) & (df1['HRMIS'] == 4)]\n",
    "        g8 = df2[(df2['HRMONTH'] == mo) & (df2['HRMIS'] == 8)]    \n",
    "\n",
    "        # Naive merge\n",
    "        naive = (pd.merge(g1, g5, on='UID', how='inner').append(\n",
    "                 pd.merge(g2, g6, on='UID', how='inner')).append(\n",
    "                 pd.merge(g3, g7, on='UID', how='inner')).append(\n",
    "                 pd.merge(g4, g8, on='UID', how='inner')))    \n",
    "\n",
    "        # Filter by SRA\n",
    "        mdata = naive[(naive['FEMALE_x'] == naive['FEMALE_y']) &\n",
    "                      (naive['WBHAO_x'] == naive['WBHAO_y']) &\n",
    "                      ((naive['AGE_x'] <= naive['AGE_y'] + 1) |\n",
    "                      (naive['AGE_y'] >= naive['AGE_x']))]   \n",
    "\n",
    "        mdata = mdata[mdata['AGE_y'].between(25, 54)]\n",
    "        if year > 1998:\n",
    "            mdata['WGT'] = mdata['PWCMPWGT_y']\n",
    "        else:\n",
    "            mdata['WGT'] = mdata['PWSSWGT_y']\n",
    "        \n",
    "        # Calculate outflow\n",
    "        of = mdata[(mdata['flow1']==1) & (mdata['flow2']==1)]['WGT'].sum()\n",
    "\n",
    "        # Calculate total\n",
    "        tot = mdata[(mdata['flow1']==1)]['WGT'].sum()\n",
    "\n",
    "        # Print share\n",
    "        data.at[pd.to_datetime(f'{year}-{mo}-01'), 'Share'] = (of/tot) * 100"
   ]
  },
  {
   "cell_type": "code",
   "execution_count": 5,
   "metadata": {
    "ExecuteTime": {
     "end_time": "2019-01-14T23:05:41.093080Z",
     "start_time": "2019-01-14T23:05:40.901843Z"
    },
    "scrolled": false
   },
   "outputs": [
    {
     "data": {
      "text/plain": [
       "<matplotlib.axes._subplots.AxesSubplot at 0x7f4f4c5bb1d0>"
      ]
     },
     "execution_count": 5,
     "metadata": {},
     "output_type": "execute_result"
    },
    {
     "data": {
      "image/png": "[encoded data removed]",
      "text/plain": [
       "<Figure size 432x288 with 1 Axes>"
      ]
     },
     "metadata": {
      "needs_background": "light"
     },
     "output_type": "display_data"
    }
   ],
   "source": [
    "%matplotlib inline\n",
    "data.rolling(12).mean().plot(color='blue', legend=None)"
   ]
  },
  {
   "cell_type": "code",
   "execution_count": null,
   "metadata": {},
   "outputs": [],
   "source": []
  },
  {
   "cell_type": "code",
   "execution_count": null,
   "metadata": {},
   "outputs": [],
   "source": []
  }
 ],
 "metadata": {
  "kernelspec": {
   "display_name": "Python 3",
   "language": "python",
   "name": "python3"
  },
  "language_info": {
   "codemirror_mode": {
    "name": "ipython",
    "version": 3
   },
   "file_extension": ".py",
   "mimetype": "text/x-python",
   "name": "python",
   "nbconvert_exporter": "python",
   "pygments_lexer": "ipython3",
   "version": "3.7.2"
  }
 },
 "nbformat": 4,
 "nbformat_minor": 2
}
