{
 "cells": [
  {
   "cell_type": "markdown",
   "metadata": {},
   "source": [
    "### Matching CPS observations over time\n",
    "\n",
    "##### Example with flow from disability to work\n",
    "\n",
    "---\n",
    "\n",
    "May 19, 2018\n",
    "\n",
    "Brian Dew, @bd_econ\n",
    "\n",
    "---\n",
    "\n",
    "Example uses CPS microdata that has already been cleaned and saved as feather format files, to calculate what percent of people age 25 to 54 who were not working the year before due to disability but are employed in the current month. "
   ]
  },
  {
   "cell_type": "code",
   "execution_count": 1,
   "metadata": {
    "ExecuteTime": {
     "end_time": "2018-06-11T00:01:42.913603Z",
     "start_time": "2018-06-11T00:01:42.443751Z"
    },
    "code_folding": []
   },
   "outputs": [],
   "source": [
    "# Import packages and set preliminaries\n",
    "import pandas as pd\n",
    "import numpy as np\n",
    "\n",
    "%matplotlib inline\n",
    "import matplotlib as mpl\n",
    "import matplotlib.pyplot as plt\n",
    "plt.style.use('seaborn-white')\n",
    "mpl.rc('axes', edgecolor='white') # Hide the axes\n",
    "mpl.rc('figure', figsize=[9, 4])\n",
    "plt.rc('axes', axisbelow=True)\n",
    "\n",
    "#tloc = 'C:/Working/Dropbox (CEPR)/homestata/Brian/SP02-College_Returns/data'"
   ]
  },
  {
   "cell_type": "code",
   "execution_count": 2,
   "metadata": {
    "ExecuteTime": {
     "end_time": "2018-06-11T00:03:09.977271Z",
     "start_time": "2018-06-11T00:01:42.915602Z"
    },
    "code_folding": [],
    "scrolled": true
   },
   "outputs": [
    {
     "name": "stderr",
     "output_type": "stream",
     "text": [
      "C:\\Users\\BDew\\Anaconda3\\lib\\site-packages\\ipykernel_launcher.py:93: RuntimeWarning: invalid value encountered in longlong_scalars\n"
     ]
    }
   ],
   "source": [
    "# Calculate disabled to work flow\n",
    "data = pd.DataFrame()\n",
    "\n",
    "# For each year calculate change over year before\n",
    "for year in list(range(1995, 2019)):\n",
    "\n",
    "    # Load year one\n",
    "    df1 = pd.read_feather(f'data/cps_{year-1}.ft', nthreads=3)\n",
    "\n",
    "    # Filter row-wise\n",
    "    df1 = df1[(df1['PRTAGE'].between(25, 54)) &\n",
    "              (df1['HRMIS'] < 5)]\n",
    "\n",
    "    # Generate flow1 variable\n",
    "    df1['flow1'] = np.where(((df1['PEMLR']==6) | (df1['PENLFACT'].isin([1, 2]))), 1, 0)\n",
    "#    df1['flow1'] = np.where(((df1['PRWNTJOB']==2) & \n",
    "#                            ((df1['PEMLR']==6) | \n",
    "#                            (df1['PENLFACT'].isin([1, 2])))), 1, 0)\n",
    "\n",
    "    # Generate unique ID\n",
    "    df1['UID'] = (df1['GESTFIPS'].astype(str) + \n",
    "                  df1['HRHHID'].astype(str) + \n",
    "                  df1['HRHHID2'].astype(str) + \n",
    "                  df1['PULINENO'].astype(str))\n",
    "\n",
    "    # Fix year if needed\n",
    "    if 'HRYEAR' in df1.keys():\n",
    "        df1['HRYEAR4'] = df1['HRYEAR'] + 1900\n",
    "\n",
    "    # Filter column-wise\n",
    "    df1 = df1[['UID','HRMONTH','HRYEAR4','HRMIS','PRTAGE','flow1', \n",
    "               'PWSSWGT','PESEX','PRDTRACE','GESTFIPS']]\n",
    "\n",
    "    # Load year two\n",
    "    df2 = pd.read_feather(f'data/cps_{year}.ft', nthreads=3)\n",
    "\n",
    "    # Filter row-wise\n",
    "    df2 = df2[(df2['PRTAGE'].between(25, 54)) &\n",
    "              (df2['HRMIS'] > 4)]\n",
    "\n",
    "    # Generate flow2 variable\n",
    "    df2['flow2'] = np.where(df2['PEMLR'].isin([1,2]), 1, 0)\n",
    "\n",
    "    # Generate unique ID\n",
    "    df2['UID'] = (df2['GESTFIPS'].astype(str) + \n",
    "                  df2['HRHHID'].astype(str) + \n",
    "                  df2['HRHHID2'].astype(str) + \n",
    "                  df2['PULINENO'].astype(str))\n",
    "\n",
    "    # Fix year if needed\n",
    "    if 'HRYEAR' in df2.keys():\n",
    "        df2['HRYEAR4'] = df2['HRYEAR'] + 1900\n",
    "\n",
    "    # Filter column-wise\n",
    "    df2 = df2[['UID','HRMONTH','HRYEAR4','HRMIS','PRTAGE','flow2', \n",
    "               'PWSSWGT','PESEX','PRDTRACE','GESTFIPS']]\n",
    "\n",
    "    # List of months to loop over \n",
    "    mos = list(range(1, max(df2['HRMONTH']) + 1))\n",
    "\n",
    "    # Loop over the months\n",
    "    for mo in mos:\n",
    "\n",
    "        # Generate merge groups\n",
    "        g1 = df1[(df1['HRMONTH'] == mo) & (df1['HRMIS'] == 1)]\n",
    "        g5 = df2[(df2['HRMONTH'] == mo) & (df2['HRMIS'] == 5)]\n",
    "        g2 = df1[(df1['HRMONTH'] == mo) & (df1['HRMIS'] == 2)]\n",
    "        g6 = df2[(df2['HRMONTH'] == mo) & (df2['HRMIS'] == 6)]\n",
    "        g3 = df1[(df1['HRMONTH'] == mo) & (df1['HRMIS'] == 3)]\n",
    "        g7 = df2[(df2['HRMONTH'] == mo) & (df2['HRMIS'] == 7)]\n",
    "        g4 = df1[(df1['HRMONTH'] == mo) & (df1['HRMIS'] == 4)]\n",
    "        g8 = df2[(df2['HRMONTH'] == mo) & (df2['HRMIS'] == 8)]    \n",
    "\n",
    "        # Naive merge\n",
    "        naive = (pd.merge(g1, g5, on='UID', how='inner').append(\n",
    "                 pd.merge(g2, g6, on='UID', how='inner')).append(\n",
    "                 pd.merge(g3, g7, on='UID', how='inner')).append(\n",
    "                 pd.merge(g4, g8, on='UID', how='inner')))    \n",
    "\n",
    "        # Filter by SRA\n",
    "        mdata = naive[(naive['PESEX_x'] == naive['PESEX_y']) &\n",
    "                      (naive['PRDTRACE_x'] == naive['PRDTRACE_y']) &\n",
    "                      (naive['PRTAGE_x'] <= naive['PRTAGE_y'] + 2) &\n",
    "                      (naive['PRTAGE_y'] >= naive['PRTAGE_x'])]   \n",
    "\n",
    "        # Calculate outflow\n",
    "        of = mdata[(mdata['flow1']==1) & (mdata['flow2']==1)]['PWSSWGT_y'].sum()\n",
    "\n",
    "        # Calculate total\n",
    "        tot = mdata[(mdata['flow1']==1)]['PWSSWGT_y'].sum()\n",
    "\n",
    "        # Print share\n",
    "        data.at[pd.to_datetime(f'{year}-{mo}-01'), 'Share'] = (of/tot) * 100"
   ]
  },
  {
   "cell_type": "code",
   "execution_count": 3,
   "metadata": {
    "ExecuteTime": {
     "end_time": "2018-06-11T00:03:10.244585Z",
     "start_time": "2018-06-11T00:03:09.978256Z"
    },
    "scrolled": false
   },
   "outputs": [
    {
     "data": {
      "text/plain": [
       "<matplotlib.axes._subplots.AxesSubplot at 0x1c8b514b978>"
      ]
     },
     "execution_count": 3,
     "metadata": {},
     "output_type": "execute_result"
    },
    {
     "data": {
      "image/png": "[encoded data removed]",
      "text/plain": [
       "<Figure size 432x288 with 1 Axes>"
      ]
     },
     "metadata": {},
     "output_type": "display_data"
    }
   ],
   "source": [
    "data.rolling(12).mean().loc['1998':].plot()"
   ]
  },
  {
   "cell_type": "code",
   "execution_count": null,
   "metadata": {},
   "outputs": [],
   "source": []
  },
  {
   "cell_type": "code",
   "execution_count": null,
   "metadata": {},
   "outputs": [],
   "source": []
  },
  {
   "cell_type": "code",
   "execution_count": null,
   "metadata": {},
   "outputs": [],
   "source": []
  },
  {
   "cell_type": "code",
   "execution_count": null,
   "metadata": {},
   "outputs": [],
   "source": []
  },
  {
   "cell_type": "code",
   "execution_count": null,
   "metadata": {},
   "outputs": [],
   "source": []
  }
 ],
 "metadata": {
  "kernelspec": {
   "display_name": "Python 3",
   "language": "python",
   "name": "python3"
  },
  "language_info": {
   "codemirror_mode": {
    "name": "ipython",
    "version": 3
   },
   "file_extension": ".py",
   "mimetype": "text/x-python",
   "name": "python",
   "nbconvert_exporter": "python",
   "pygments_lexer": "ipython3",
   "version": "3.6.5"
  }
 },
 "nbformat": 4,
 "nbformat_minor": 2
}
