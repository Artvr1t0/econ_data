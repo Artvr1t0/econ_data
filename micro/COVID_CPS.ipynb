{
 "cells": [
  {
   "cell_type": "markdown",
   "metadata": {},
   "source": [
    "#### COVID-19 Data example\n",
    "\n",
    "November 21, 2020\n",
    "\n",
    "Brian Dew, brian.w.dew@gmail.com"
   ]
  },
  {
   "cell_type": "code",
   "execution_count": 1,
   "metadata": {
    "ExecuteTime": {
     "end_time": "2020-11-24T16:42:40.003203Z",
     "start_time": "2020-11-24T16:42:39.826235Z"
    }
   },
   "outputs": [],
   "source": [
    "import pandas as pd\n",
    "import os\n",
    "\n",
    "os.chdir('/home/brian/Documents/CPS/data/clean')"
   ]
  },
  {
   "cell_type": "code",
   "execution_count": 2,
   "metadata": {
    "ExecuteTime": {
     "end_time": "2020-11-24T16:42:40.117996Z",
     "start_time": "2020-11-24T16:42:40.004267Z"
    }
   },
   "outputs": [],
   "source": [
    "cols = ['AGE', 'YEAR', 'MONTH', 'WBHAO', 'LFS', 'PTECON', 'UNEMPTYPE',\n",
    "        'FEMALE', 'EDUC', 'BASICWGT', 'PWSSWGT']\n",
    "\n",
    "covcols = cols + ['PTCOVID1', 'PTCOVID2', 'PTCOVID3', 'PTCOVID4']\n",
    "\n",
    "d20 = (pd.read_feather('cps2020.ft', columns=covcols)\n",
    "        .query('MONTH in [8, 9, 10] and AGE >= 25 and AGE <= 34 and FEMALE == 1'))\n",
    "\n",
    "d19 = (pd.read_feather('cps2019.ft', columns=cols)\n",
    "        .query('MONTH in [8, 9, 10] and AGE >= 25 and AGE <= 34 and FEMALE == 1'))"
   ]
  },
  {
   "cell_type": "code",
   "execution_count": 3,
   "metadata": {
    "ExecuteTime": {
     "end_time": "2020-11-24T16:42:40.130802Z",
     "start_time": "2020-11-24T16:42:40.119244Z"
    }
   },
   "outputs": [
    {
     "data": {
      "text/plain": [
       "PTCOVID2\n",
       "1    0.136502\n",
       "2    0.863497\n",
       "Name: BASICWGT, dtype: float32"
      ]
     },
     "execution_count": 3,
     "metadata": {},
     "output_type": "execute_result"
    }
   ],
   "source": [
    "df1 = d20.query('WBHAO == \"Black\" and EDUC == \"COLL\"')\n",
    "df1.groupby('PTCOVID2').BASICWGT.sum() / df1.BASICWGT.sum()"
   ]
  },
  {
   "cell_type": "code",
   "execution_count": 4,
   "metadata": {
    "ExecuteTime": {
     "end_time": "2020-11-24T16:42:40.138791Z",
     "start_time": "2020-11-24T16:42:40.131912Z"
    }
   },
   "outputs": [
    {
     "data": {
      "text/plain": [
       "PTCOVID2\n",
       "1    0.080773\n",
       "2    0.919228\n",
       "Name: BASICWGT, dtype: float32"
      ]
     },
     "execution_count": 4,
     "metadata": {},
     "output_type": "execute_result"
    }
   ],
   "source": [
    "df2 = d20.query('WBHAO == \"White\" and EDUC == \"HS\"')\n",
    "df2.groupby('PTCOVID2').BASICWGT.sum() / df2.BASICWGT.sum()"
   ]
  },
  {
   "cell_type": "code",
   "execution_count": 5,
   "metadata": {
    "ExecuteTime": {
     "end_time": "2020-11-24T16:42:40.143994Z",
     "start_time": "2020-11-24T16:42:40.139716Z"
    }
   },
   "outputs": [
    {
     "data": {
      "text/plain": [
       "LFS\n",
       "Employed      0.820260\n",
       "NILF          0.131046\n",
       "Unemployed    0.048694\n",
       "nan           0.000000\n",
       "Name: BASICWGT, dtype: float32"
      ]
     },
     "execution_count": 5,
     "metadata": {},
     "output_type": "execute_result"
    }
   ],
   "source": [
    "df1.groupby('LFS').BASICWGT.sum() / df1.BASICWGT.sum()"
   ]
  },
  {
   "cell_type": "code",
   "execution_count": 6,
   "metadata": {
    "ExecuteTime": {
     "end_time": "2020-11-24T16:42:40.152044Z",
     "start_time": "2020-11-24T16:42:40.144805Z"
    }
   },
   "outputs": [
    {
     "data": {
      "text/plain": [
       "LFS\n",
       "Employed      0.625746\n",
       "NILF          0.315726\n",
       "Unemployed    0.058528\n",
       "nan           0.000000\n",
       "Name: BASICWGT, dtype: float32"
      ]
     },
     "execution_count": 6,
     "metadata": {},
     "output_type": "execute_result"
    }
   ],
   "source": [
    "df2.groupby('LFS').BASICWGT.sum() / df2.BASICWGT.sum()"
   ]
  },
  {
   "cell_type": "code",
   "execution_count": 7,
   "metadata": {
    "ExecuteTime": {
     "end_time": "2020-11-24T16:42:40.157816Z",
     "start_time": "2020-11-24T16:42:40.153112Z"
    }
   },
   "outputs": [
    {
     "data": {
      "text/plain": [
       "PTECON\n",
       "0.0    0.793797\n",
       "1.0    0.026463\n",
       "Name: BASICWGT, dtype: float32"
      ]
     },
     "execution_count": 7,
     "metadata": {},
     "output_type": "execute_result"
    }
   ],
   "source": [
    "df1.groupby('PTECON').BASICWGT.sum() / df1.BASICWGT.sum()"
   ]
  },
  {
   "cell_type": "code",
   "execution_count": 8,
   "metadata": {
    "ExecuteTime": {
     "end_time": "2020-11-24T16:42:40.167495Z",
     "start_time": "2020-11-24T16:42:40.159144Z"
    }
   },
   "outputs": [
    {
     "data": {
      "text/plain": [
       "PTECON\n",
       "0.0    0.591466\n",
       "1.0    0.034281\n",
       "Name: BASICWGT, dtype: float32"
      ]
     },
     "execution_count": 8,
     "metadata": {},
     "output_type": "execute_result"
    }
   ],
   "source": [
    "df2.groupby('PTECON').BASICWGT.sum() / df2.BASICWGT.sum()"
   ]
  },
  {
   "cell_type": "code",
   "execution_count": 9,
   "metadata": {
    "ExecuteTime": {
     "end_time": "2020-11-24T16:42:40.178463Z",
     "start_time": "2020-11-24T16:42:40.168596Z"
    }
   },
   "outputs": [
    {
     "data": {
      "text/plain": [
       "PTCOVID3\n",
       "1    0.083241\n",
       "2    0.916759\n",
       "Name: BASICWGT, dtype: float32"
      ]
     },
     "execution_count": 9,
     "metadata": {},
     "output_type": "execute_result"
    }
   ],
   "source": [
    "df1 = d20.query('WBHAO == \"Black\" and EDUC == \"COLL\" and PTCOVID2 == 1')\n",
    "df1.groupby('PTCOVID3').BASICWGT.sum() / df1.BASICWGT.sum()"
   ]
  },
  {
   "cell_type": "code",
   "execution_count": 10,
   "metadata": {
    "ExecuteTime": {
     "end_time": "2020-11-24T16:42:40.187200Z",
     "start_time": "2020-11-24T16:42:40.179425Z"
    }
   },
   "outputs": [
    {
     "data": {
      "text/plain": [
       "PTCOVID3\n",
       "1    0.09266\n",
       "2    0.90734\n",
       "Name: BASICWGT, dtype: float32"
      ]
     },
     "execution_count": 10,
     "metadata": {},
     "output_type": "execute_result"
    }
   ],
   "source": [
    "df2 = d20.query('WBHAO == \"White\" and EDUC == \"HS\" and PTCOVID2 == 1')\n",
    "df2.groupby('PTCOVID3').BASICWGT.sum() / df2.BASICWGT.sum()"
   ]
  },
  {
   "cell_type": "code",
   "execution_count": 11,
   "metadata": {
    "ExecuteTime": {
     "end_time": "2020-11-24T16:42:40.196355Z",
     "start_time": "2020-11-24T16:42:40.188920Z"
    }
   },
   "outputs": [
    {
     "data": {
      "text/plain": [
       "PTCOVID4\n",
       "1    0.320237\n",
       "2    0.679763\n",
       "Name: BASICWGT, dtype: float32"
      ]
     },
     "execution_count": 11,
     "metadata": {},
     "output_type": "execute_result"
    }
   ],
   "source": [
    "df1 = d20.query('WBHAO == \"Black\" and EDUC == \"COLL\" and PTCOVID4 > 0')\n",
    "df1.groupby('PTCOVID4').BASICWGT.sum() / df1.BASICWGT.sum()"
   ]
  },
  {
   "cell_type": "code",
   "execution_count": 12,
   "metadata": {
    "ExecuteTime": {
     "end_time": "2020-11-24T16:42:40.205472Z",
     "start_time": "2020-11-24T16:42:40.197735Z"
    }
   },
   "outputs": [
    {
     "data": {
      "text/plain": [
       "PTCOVID4\n",
       "1    0.067293\n",
       "2    0.932707\n",
       "Name: BASICWGT, dtype: float32"
      ]
     },
     "execution_count": 12,
     "metadata": {},
     "output_type": "execute_result"
    }
   ],
   "source": [
    "df2 = d20.query('WBHAO == \"White\" and EDUC == \"HS\" and PTCOVID4 > 0')\n",
    "df2.groupby('PTCOVID4').BASICWGT.sum() / df2.BASICWGT.sum()"
   ]
  },
  {
   "cell_type": "code",
   "execution_count": null,
   "metadata": {
    "ExecuteTime": {
     "end_time": "2020-11-24T16:42:40.257410Z",
     "start_time": "2020-11-24T16:42:40.206412Z"
    }
   },
   "outputs": [],
   "source": []
  },
  {
   "cell_type": "code",
   "execution_count": null,
   "metadata": {},
   "outputs": [],
   "source": []
  },
  {
   "cell_type": "code",
   "execution_count": null,
   "metadata": {},
   "outputs": [],
   "source": []
  },
  {
   "cell_type": "code",
   "execution_count": null,
   "metadata": {},
   "outputs": [],
   "source": []
  },
  {
   "cell_type": "code",
   "execution_count": null,
   "metadata": {},
   "outputs": [],
   "source": []
  }
 ],
 "metadata": {
  "kernelspec": {
   "display_name": "Python 3",
   "language": "python",
   "name": "python3"
  },
  "language_info": {
   "codemirror_mode": {
    "name": "ipython",
    "version": 3
   },
   "file_extension": ".py",
   "mimetype": "text/x-python",
   "name": "python",
   "nbconvert_exporter": "python",
   "pygments_lexer": "ipython3",
   "version": "3.8.6"
  }
 },
 "nbformat": 4,
 "nbformat_minor": 4
}
