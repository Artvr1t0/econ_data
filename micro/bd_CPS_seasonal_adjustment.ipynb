{
 "cells": [
  {
   "cell_type": "markdown",
   "metadata": {},
   "source": [
    "### bd CPS seasonal adjustment\n",
    "\n",
    "----\n",
    "\n",
    "Brian Dew, @bd_econ\n",
    "\n",
    "August 22, 2019"
   ]
  },
  {
   "cell_type": "code",
   "execution_count": 1,
   "metadata": {
    "ExecuteTime": {
     "end_time": "2019-08-22T15:28:49.201768Z",
     "start_time": "2019-08-22T15:28:48.488410Z"
    }
   },
   "outputs": [],
   "source": [
    "import pandas as pd\n",
    "import statsmodels.api as sm\n",
    "import os\n",
    "os.environ['X13PATH'] = '/home/brian/Documents/x13asall_V1.1_B39/'\n",
    "\n",
    "os.chdir('/home/brian/Documents/CPS/data/clean/')"
   ]
  },
  {
   "cell_type": "code",
   "execution_count": 8,
   "metadata": {
    "ExecuteTime": {
     "end_time": "2019-08-22T15:31:04.115721Z",
     "start_time": "2019-08-22T15:31:04.112774Z"
    }
   },
   "outputs": [],
   "source": [
    "from statsmodels.tsa.x13 import (_find_x12, x13_arima_select_order,\n",
    "                                 x13_arima_analysis)"
   ]
  },
  {
   "cell_type": "markdown",
   "metadata": {},
   "source": [
    "First, let's look at some variables from the bd CPS:"
   ]
  },
  {
   "cell_type": "code",
   "execution_count": 2,
   "metadata": {
    "ExecuteTime": {
     "end_time": "2019-08-22T15:28:50.773817Z",
     "start_time": "2019-08-22T15:28:50.669741Z"
    }
   },
   "outputs": [
    {
     "data": {
      "text/html": [
       "<div>\n",
       "<style scoped>\n",
       "    .dataframe tbody tr th:only-of-type {\n",
       "        vertical-align: middle;\n",
       "    }\n",
       "\n",
       "    .dataframe tbody tr th {\n",
       "        vertical-align: top;\n",
       "    }\n",
       "\n",
       "    .dataframe thead th {\n",
       "        text-align: right;\n",
       "    }\n",
       "</style>\n",
       "<table border=\"1\" class=\"dataframe\">\n",
       "  <thead>\n",
       "    <tr style=\"text-align: right;\">\n",
       "      <th></th>\n",
       "      <th>MONTH</th>\n",
       "      <th>BASICWGT</th>\n",
       "      <th>AGE</th>\n",
       "      <th>FEMALE</th>\n",
       "      <th>MARRIED</th>\n",
       "      <th>WBHAO</th>\n",
       "      <th>LFS</th>\n",
       "    </tr>\n",
       "  </thead>\n",
       "  <tbody>\n",
       "    <tr>\n",
       "      <th>0</th>\n",
       "      <td>7</td>\n",
       "      <td>1637.476807</td>\n",
       "      <td>63</td>\n",
       "      <td>1</td>\n",
       "      <td>1</td>\n",
       "      <td>White</td>\n",
       "      <td>Employed</td>\n",
       "    </tr>\n",
       "    <tr>\n",
       "      <th>1</th>\n",
       "      <td>7</td>\n",
       "      <td>1649.725464</td>\n",
       "      <td>65</td>\n",
       "      <td>0</td>\n",
       "      <td>1</td>\n",
       "      <td>White</td>\n",
       "      <td>NILF</td>\n",
       "    </tr>\n",
       "    <tr>\n",
       "      <th>2</th>\n",
       "      <td>7</td>\n",
       "      <td>1734.040649</td>\n",
       "      <td>80</td>\n",
       "      <td>1</td>\n",
       "      <td>0</td>\n",
       "      <td>White</td>\n",
       "      <td>NILF</td>\n",
       "    </tr>\n",
       "    <tr>\n",
       "      <th>3</th>\n",
       "      <td>7</td>\n",
       "      <td>1916.892456</td>\n",
       "      <td>51</td>\n",
       "      <td>1</td>\n",
       "      <td>1</td>\n",
       "      <td>White</td>\n",
       "      <td>Employed</td>\n",
       "    </tr>\n",
       "    <tr>\n",
       "      <th>4</th>\n",
       "      <td>7</td>\n",
       "      <td>1811.555542</td>\n",
       "      <td>51</td>\n",
       "      <td>0</td>\n",
       "      <td>1</td>\n",
       "      <td>White</td>\n",
       "      <td>Employed</td>\n",
       "    </tr>\n",
       "    <tr>\n",
       "      <th>5</th>\n",
       "      <td>7</td>\n",
       "      <td>0.000000</td>\n",
       "      <td>12</td>\n",
       "      <td>0</td>\n",
       "      <td>0</td>\n",
       "      <td>White</td>\n",
       "      <td>nan</td>\n",
       "    </tr>\n",
       "    <tr>\n",
       "      <th>6</th>\n",
       "      <td>7</td>\n",
       "      <td>1586.036499</td>\n",
       "      <td>19</td>\n",
       "      <td>0</td>\n",
       "      <td>0</td>\n",
       "      <td>White</td>\n",
       "      <td>Employed</td>\n",
       "    </tr>\n",
       "    <tr>\n",
       "      <th>7</th>\n",
       "      <td>7</td>\n",
       "      <td>2624.587646</td>\n",
       "      <td>49</td>\n",
       "      <td>0</td>\n",
       "      <td>1</td>\n",
       "      <td>Black</td>\n",
       "      <td>Employed</td>\n",
       "    </tr>\n",
       "    <tr>\n",
       "      <th>8</th>\n",
       "      <td>7</td>\n",
       "      <td>2028.514648</td>\n",
       "      <td>59</td>\n",
       "      <td>1</td>\n",
       "      <td>0</td>\n",
       "      <td>Black</td>\n",
       "      <td>NILF</td>\n",
       "    </tr>\n",
       "    <tr>\n",
       "      <th>9</th>\n",
       "      <td>7</td>\n",
       "      <td>1565.000000</td>\n",
       "      <td>64</td>\n",
       "      <td>0</td>\n",
       "      <td>1</td>\n",
       "      <td>White</td>\n",
       "      <td>NILF</td>\n",
       "    </tr>\n",
       "  </tbody>\n",
       "</table>\n",
       "</div>"
      ],
      "text/plain": [
       "   MONTH     BASICWGT  AGE FEMALE MARRIED  WBHAO       LFS\n",
       "0      7  1637.476807   63      1       1  White  Employed\n",
       "1      7  1649.725464   65      0       1  White      NILF\n",
       "2      7  1734.040649   80      1       0  White      NILF\n",
       "3      7  1916.892456   51      1       1  White  Employed\n",
       "4      7  1811.555542   51      0       1  White  Employed\n",
       "5      7     0.000000   12      0       0  White       nan\n",
       "6      7  1586.036499   19      0       0  White  Employed\n",
       "7      7  2624.587646   49      0       1  Black  Employed\n",
       "8      7  2028.514648   59      1       0  Black      NILF\n",
       "9      7  1565.000000   64      0       1  White      NILF"
      ]
     },
     "execution_count": 2,
     "metadata": {},
     "output_type": "execute_result"
    }
   ],
   "source": [
    "cols = ['MONTH', 'BASICWGT', 'AGE', 'LFS', 'FEMALE', 'MARRIED', 'WBHAO']\n",
    "pd.read_feather('cps2019.ft', columns=cols).head(10)"
   ]
  },
  {
   "cell_type": "markdown",
   "metadata": {},
   "source": [
    "I'd like to look at labor force participation rates for some unpublished subgroups. For example, unmarried white or black women age 25-54. "
   ]
  },
  {
   "cell_type": "code",
   "execution_count": 3,
   "metadata": {
    "ExecuteTime": {
     "end_time": "2019-08-22T15:28:53.071812Z",
     "start_time": "2019-08-22T15:28:53.068965Z"
    }
   },
   "outputs": [],
   "source": [
    "lfpr = lambda x: 1 - (x.loc[x['LFS'] == 'NILF', 'BASICWGT'].sum() / x.BASICWGT.sum())\n",
    "wb = ['White', 'Black']"
   ]
  },
  {
   "cell_type": "code",
   "execution_count": 4,
   "metadata": {
    "ExecuteTime": {
     "end_time": "2019-08-22T15:28:56.940819Z",
     "start_time": "2019-08-22T15:28:54.028625Z"
    }
   },
   "outputs": [],
   "source": [
    "d = {}\n",
    "for year in range(1989, 2020):\n",
    "    df = (pd.read_feather(f'cps{year}.ft', columns=cols)\n",
    "            .query('25 <= AGE <=54 and MARRIED == 0 and WBHAO in @wb'))\n",
    "    res = df.groupby('MONTH').apply(lfpr)\n",
    "    for month, rate in res.iteritems():\n",
    "        d[f'{year}-{str(month).zfill(2)}-01'] = rate"
   ]
  },
  {
   "cell_type": "code",
   "execution_count": 5,
   "metadata": {
    "ExecuteTime": {
     "end_time": "2019-08-22T15:28:57.338353Z",
     "start_time": "2019-08-22T15:28:56.942194Z"
    }
   },
   "outputs": [
    {
     "data": {
      "text/plain": [
       "<matplotlib.axes._subplots.AxesSubplot at 0x7f15193476d8>"
      ]
     },
     "execution_count": 5,
     "metadata": {},
     "output_type": "execute_result"
    },
    {
     "data": {
      "image/png": "[encoded data removed]",
      "text/plain": [
       "<Figure size 432x288 with 1 Axes>"
      ]
     },
     "metadata": {
      "needs_background": "light"
     },
     "output_type": "display_data"
    }
   ],
   "source": [
    "%matplotlib inline\n",
    "data = pd.Series(d, index=pd.to_datetime(list(d.keys())))\n",
    "data.plot()"
   ]
  },
  {
   "cell_type": "markdown",
   "metadata": {},
   "source": [
    "There seems to be a cyclical component that has picked up since 2014. To isolate trends, particularly in recent months, one option is to apply a moving average. "
   ]
  },
  {
   "cell_type": "code",
   "execution_count": 6,
   "metadata": {
    "ExecuteTime": {
     "end_time": "2019-08-22T15:28:59.698853Z",
     "start_time": "2019-08-22T15:28:59.483901Z"
    }
   },
   "outputs": [
    {
     "data": {
      "text/plain": [
       "<matplotlib.axes._subplots.AxesSubplot at 0x7f15191e02e8>"
      ]
     },
     "execution_count": 6,
     "metadata": {},
     "output_type": "execute_result"
    },
    {
     "data": {
      "image/png": "[encoded data removed]",
      "text/plain": [
       "<Figure size 432x288 with 1 Axes>"
      ]
     },
     "metadata": {
      "needs_background": "light"
     },
     "output_type": "display_data"
    }
   ],
   "source": [
    "data.rolling(12).mean().plot()"
   ]
  },
  {
   "cell_type": "markdown",
   "metadata": {},
   "source": [
    "Because the latest data in the moving average represents only 1/12th of the latest datapoint, and I am interested in the latest datapoint having more weight, another option is to apply seasonal adjustment."
   ]
  },
  {
   "cell_type": "code",
   "execution_count": 9,
   "metadata": {
    "ExecuteTime": {
     "end_time": "2019-08-22T15:31:15.462828Z",
     "start_time": "2019-08-22T15:31:14.653739Z"
    }
   },
   "outputs": [
    {
     "ename": "CalledProcessError",
     "evalue": "Command '/home/brian/Documents/x13asall_V1.1_B39/x13as' died with <Signals.SIGSEGV: 11>.",
     "output_type": "error",
     "traceback": [
      "\u001b[0;31m---------------------------------------------------------------------------\u001b[0m",
      "\u001b[0;31mCalledProcessError\u001b[0m                        Traceback (most recent call last)",
      "\u001b[0;32m<ipython-input-9-d94fb667f777>\u001b[0m in \u001b[0;36m<module>\u001b[0;34m\u001b[0m\n\u001b[0;32m----> 1\u001b[0;31m \u001b[0mx13_arima_analysis\u001b[0m\u001b[0;34m(\u001b[0m\u001b[0mdata\u001b[0m\u001b[0;34m)\u001b[0m\u001b[0;34m\u001b[0m\u001b[0;34m\u001b[0m\u001b[0m\n\u001b[0m",
      "\u001b[0;32m~/miniconda3/lib/python3.7/site-packages/statsmodels/tsa/x13.py\u001b[0m in \u001b[0;36mx13_arima_analysis\u001b[0;34m(endog, maxorder, maxdiff, diff, exog, log, outlier, trading, forecast_years, retspec, speconly, start, freq, print_stdout, x12path, prefer_x13)\u001b[0m\n\u001b[1;32m    412\u001b[0m     \u001b[0mback\u001b[0m \u001b[0;32min\u001b[0m\u001b[0;34m.\u001b[0m\u001b[0;34m\u001b[0m\u001b[0;34m\u001b[0m\u001b[0m\n\u001b[1;32m    413\u001b[0m     \"\"\"\n\u001b[0;32m--> 414\u001b[0;31m     \u001b[0mx12path\u001b[0m \u001b[0;34m=\u001b[0m \u001b[0m_check_x12\u001b[0m\u001b[0;34m(\u001b[0m\u001b[0mx12path\u001b[0m\u001b[0;34m)\u001b[0m\u001b[0;34m\u001b[0m\u001b[0;34m\u001b[0m\u001b[0m\n\u001b[0m\u001b[1;32m    415\u001b[0m \u001b[0;34m\u001b[0m\u001b[0m\n\u001b[1;32m    416\u001b[0m     \u001b[0;32mif\u001b[0m \u001b[0;32mnot\u001b[0m \u001b[0misinstance\u001b[0m\u001b[0;34m(\u001b[0m\u001b[0mendog\u001b[0m\u001b[0;34m,\u001b[0m \u001b[0;34m(\u001b[0m\u001b[0mpd\u001b[0m\u001b[0;34m.\u001b[0m\u001b[0mDataFrame\u001b[0m\u001b[0;34m,\u001b[0m \u001b[0mpd\u001b[0m\u001b[0;34m.\u001b[0m\u001b[0mSeries\u001b[0m\u001b[0;34m)\u001b[0m\u001b[0;34m)\u001b[0m\u001b[0;34m:\u001b[0m\u001b[0;34m\u001b[0m\u001b[0;34m\u001b[0m\u001b[0m\n",
      "\u001b[0;32m~/miniconda3/lib/python3.7/site-packages/statsmodels/tsa/x13.py\u001b[0m in \u001b[0;36m_check_x12\u001b[0;34m(x12path)\u001b[0m\n\u001b[1;32m     82\u001b[0m \u001b[0;34m\u001b[0m\u001b[0m\n\u001b[1;32m     83\u001b[0m \u001b[0;32mdef\u001b[0m \u001b[0m_check_x12\u001b[0m\u001b[0;34m(\u001b[0m\u001b[0mx12path\u001b[0m\u001b[0;34m=\u001b[0m\u001b[0;32mNone\u001b[0m\u001b[0;34m)\u001b[0m\u001b[0;34m:\u001b[0m\u001b[0;34m\u001b[0m\u001b[0;34m\u001b[0m\u001b[0m\n\u001b[0;32m---> 84\u001b[0;31m     \u001b[0mx12path\u001b[0m \u001b[0;34m=\u001b[0m \u001b[0m_find_x12\u001b[0m\u001b[0;34m(\u001b[0m\u001b[0mx12path\u001b[0m\u001b[0;34m)\u001b[0m\u001b[0;34m\u001b[0m\u001b[0;34m\u001b[0m\u001b[0m\n\u001b[0m\u001b[1;32m     85\u001b[0m     \u001b[0;32mif\u001b[0m \u001b[0;32mnot\u001b[0m \u001b[0mx12path\u001b[0m\u001b[0;34m:\u001b[0m\u001b[0;34m\u001b[0m\u001b[0;34m\u001b[0m\u001b[0m\n\u001b[1;32m     86\u001b[0m         raise X13NotFoundError(\"x12a and x13as not found on path. Give the \"\n",
      "\u001b[0;32m~/miniconda3/lib/python3.7/site-packages/statsmodels/tsa/x13.py\u001b[0m in \u001b[0;36m_find_x12\u001b[0;34m(x12path, prefer_x13)\u001b[0m\n\u001b[1;32m     72\u001b[0m         \u001b[0;32mtry\u001b[0m\u001b[0;34m:\u001b[0m\u001b[0;34m\u001b[0m\u001b[0;34m\u001b[0m\u001b[0m\n\u001b[1;32m     73\u001b[0m             subprocess.check_call(x12, stdout=subprocess.PIPE,\n\u001b[0;32m---> 74\u001b[0;31m                                   stderr=subprocess.PIPE)\n\u001b[0m\u001b[1;32m     75\u001b[0m             \u001b[0;32mreturn\u001b[0m \u001b[0mx12\u001b[0m\u001b[0;34m\u001b[0m\u001b[0;34m\u001b[0m\u001b[0m\n\u001b[1;32m     76\u001b[0m         \u001b[0;32mexcept\u001b[0m \u001b[0mOSError\u001b[0m\u001b[0;34m:\u001b[0m\u001b[0;34m\u001b[0m\u001b[0;34m\u001b[0m\u001b[0m\n",
      "\u001b[0;32m~/miniconda3/lib/python3.7/subprocess.py\u001b[0m in \u001b[0;36mcheck_call\u001b[0;34m(*popenargs, **kwargs)\u001b[0m\n\u001b[1;32m    345\u001b[0m         \u001b[0;32mif\u001b[0m \u001b[0mcmd\u001b[0m \u001b[0;32mis\u001b[0m \u001b[0;32mNone\u001b[0m\u001b[0;34m:\u001b[0m\u001b[0;34m\u001b[0m\u001b[0;34m\u001b[0m\u001b[0m\n\u001b[1;32m    346\u001b[0m             \u001b[0mcmd\u001b[0m \u001b[0;34m=\u001b[0m \u001b[0mpopenargs\u001b[0m\u001b[0;34m[\u001b[0m\u001b[0;36m0\u001b[0m\u001b[0;34m]\u001b[0m\u001b[0;34m\u001b[0m\u001b[0;34m\u001b[0m\u001b[0m\n\u001b[0;32m--> 347\u001b[0;31m         \u001b[0;32mraise\u001b[0m \u001b[0mCalledProcessError\u001b[0m\u001b[0;34m(\u001b[0m\u001b[0mretcode\u001b[0m\u001b[0;34m,\u001b[0m \u001b[0mcmd\u001b[0m\u001b[0;34m)\u001b[0m\u001b[0;34m\u001b[0m\u001b[0;34m\u001b[0m\u001b[0m\n\u001b[0m\u001b[1;32m    348\u001b[0m     \u001b[0;32mreturn\u001b[0m \u001b[0;36m0\u001b[0m\u001b[0;34m\u001b[0m\u001b[0;34m\u001b[0m\u001b[0m\n\u001b[1;32m    349\u001b[0m \u001b[0;34m\u001b[0m\u001b[0m\n",
      "\u001b[0;31mCalledProcessError\u001b[0m: Command '/home/brian/Documents/x13asall_V1.1_B39/x13as' died with <Signals.SIGSEGV: 11>."
     ]
    }
   ],
   "source": [
    "\n",
    "\n",
    "sm = x13_arima_analysis(data)"
   ]
  },
  {
   "cell_type": "code",
   "execution_count": null,
   "metadata": {},
   "outputs": [],
   "source": []
  },
  {
   "cell_type": "code",
   "execution_count": 11,
   "metadata": {
    "ExecuteTime": {
     "end_time": "2019-08-22T15:37:37.343427Z",
     "start_time": "2019-08-22T15:37:36.519738Z"
    }
   },
   "outputs": [
    {
     "ename": "CalledProcessError",
     "evalue": "Command '/home/brian/Documents/x13asall_V1.1_B39/x13as' died with <Signals.SIGSEGV: 11>.",
     "output_type": "error",
     "traceback": [
      "\u001b[0;31m---------------------------------------------------------------------------\u001b[0m",
      "\u001b[0;31mCalledProcessError\u001b[0m                        Traceback (most recent call last)",
      "\u001b[0;32m<ipython-input-11-edb2d58b1ba1>\u001b[0m in \u001b[0;36m<module>\u001b[0;34m\u001b[0m\n\u001b[1;32m      6\u001b[0m                                  x13_arima_analysis)\n\u001b[1;32m      7\u001b[0m \u001b[0;34m\u001b[0m\u001b[0m\n\u001b[0;32m----> 8\u001b[0;31m \u001b[0mx13path\u001b[0m \u001b[0;34m=\u001b[0m \u001b[0m_find_x12\u001b[0m\u001b[0;34m(\u001b[0m\u001b[0;34m)\u001b[0m\u001b[0;34m\u001b[0m\u001b[0;34m\u001b[0m\u001b[0m\n\u001b[0m\u001b[1;32m      9\u001b[0m \u001b[0;34m\u001b[0m\u001b[0m\n\u001b[1;32m     10\u001b[0m pytestmark = pytest.mark.skipif(x13path is False,\n",
      "\u001b[0;32m~/miniconda3/lib/python3.7/site-packages/statsmodels/tsa/x13.py\u001b[0m in \u001b[0;36m_find_x12\u001b[0;34m(x12path, prefer_x13)\u001b[0m\n\u001b[1;32m     72\u001b[0m         \u001b[0;32mtry\u001b[0m\u001b[0;34m:\u001b[0m\u001b[0;34m\u001b[0m\u001b[0;34m\u001b[0m\u001b[0m\n\u001b[1;32m     73\u001b[0m             subprocess.check_call(x12, stdout=subprocess.PIPE,\n\u001b[0;32m---> 74\u001b[0;31m                                   stderr=subprocess.PIPE)\n\u001b[0m\u001b[1;32m     75\u001b[0m             \u001b[0;32mreturn\u001b[0m \u001b[0mx12\u001b[0m\u001b[0;34m\u001b[0m\u001b[0;34m\u001b[0m\u001b[0m\n\u001b[1;32m     76\u001b[0m         \u001b[0;32mexcept\u001b[0m \u001b[0mOSError\u001b[0m\u001b[0;34m:\u001b[0m\u001b[0;34m\u001b[0m\u001b[0;34m\u001b[0m\u001b[0m\n",
      "\u001b[0;32m~/miniconda3/lib/python3.7/subprocess.py\u001b[0m in \u001b[0;36mcheck_call\u001b[0;34m(*popenargs, **kwargs)\u001b[0m\n\u001b[1;32m    345\u001b[0m         \u001b[0;32mif\u001b[0m \u001b[0mcmd\u001b[0m \u001b[0;32mis\u001b[0m \u001b[0;32mNone\u001b[0m\u001b[0;34m:\u001b[0m\u001b[0;34m\u001b[0m\u001b[0;34m\u001b[0m\u001b[0m\n\u001b[1;32m    346\u001b[0m             \u001b[0mcmd\u001b[0m \u001b[0;34m=\u001b[0m \u001b[0mpopenargs\u001b[0m\u001b[0;34m[\u001b[0m\u001b[0;36m0\u001b[0m\u001b[0;34m]\u001b[0m\u001b[0;34m\u001b[0m\u001b[0;34m\u001b[0m\u001b[0m\n\u001b[0;32m--> 347\u001b[0;31m         \u001b[0;32mraise\u001b[0m \u001b[0mCalledProcessError\u001b[0m\u001b[0;34m(\u001b[0m\u001b[0mretcode\u001b[0m\u001b[0;34m,\u001b[0m \u001b[0mcmd\u001b[0m\u001b[0;34m)\u001b[0m\u001b[0;34m\u001b[0m\u001b[0;34m\u001b[0m\u001b[0m\n\u001b[0m\u001b[1;32m    348\u001b[0m     \u001b[0;32mreturn\u001b[0m \u001b[0;36m0\u001b[0m\u001b[0;34m\u001b[0m\u001b[0;34m\u001b[0m\u001b[0m\n\u001b[1;32m    349\u001b[0m \u001b[0;34m\u001b[0m\u001b[0m\n",
      "\u001b[0;31mCalledProcessError\u001b[0m: Command '/home/brian/Documents/x13asall_V1.1_B39/x13as' died with <Signals.SIGSEGV: 11>."
     ]
    }
   ],
   "source": [
    "import pandas as pd\n",
    "import pytest\n",
    "\n",
    "from statsmodels.datasets import macrodata, co2\n",
    "from statsmodels.tsa.x13 import (_find_x12, x13_arima_select_order,\n",
    "                                 x13_arima_analysis)\n",
    "\n",
    "x13path = _find_x12()\n",
    "\n",
    "pytestmark = pytest.mark.skipif(x13path is False,\n",
    "                                reason='X13/X12 not available')\n",
    "\n",
    "dta = macrodata.load_pandas().data\n",
    "index = pd.period_range(start='1959Q1', end='2009Q3', freq='Q')\n",
    "dta.index = index\n",
    "quarterly_data = dta.dropna()\n",
    "\n",
    "dta = co2.load_pandas().data\n",
    "dta['co2'] = dta.co2.interpolate()\n",
    "monthly_data = dta.resample('M')\n",
    "# change in pandas 0.18 resample is deferred object\n",
    "if not isinstance(monthly_data, (pd.DataFrame, pd.Series)):\n",
    "    monthly_data = monthly_data.mean()\n",
    "\n",
    "monthly_start_data = dta.resample('MS')\n",
    "if not isinstance(monthly_start_data, (pd.DataFrame, pd.Series)):\n",
    "    monthly_start_data = monthly_start_data.mean()\n",
    "\n",
    "data = (monthly_data, monthly_start_data, monthly_data.co2,\n",
    "        monthly_start_data.co2, quarterly_data.realgdp,\n",
    "        quarterly_data[['realgdp']])\n",
    "ids = ('monthly', 'monthly_start', 'monthly_co2', 'monthly_start_co2',\n",
    "       'series', 'dataframe')\n",
    "\n",
    "\n",
    "@pytest.fixture(params=data, ids=ids)\n",
    "def dataset(request):\n",
    "    return request.param\n",
    "\n",
    "\n",
    "def test_x13_arima_select_order(dataset):\n",
    "    res = x13_arima_select_order(dataset)\n",
    "    assert isinstance(res.order, tuple)\n",
    "    assert isinstance(res.sorder, tuple)\n",
    "\n",
    "\n",
    "@pytest.mark.matplotlib\n",
    "def test_x13_arima_plot(dataset):\n",
    "    res = x13_arima_analysis(dataset)\n",
    "    res.plot()"
   ]
  },
  {
   "cell_type": "code",
   "execution_count": null,
   "metadata": {},
   "outputs": [],
   "source": []
  },
  {
   "cell_type": "code",
   "execution_count": null,
   "metadata": {
    "ExecuteTime": {
     "end_time": "2019-08-22T14:45:44.554101Z",
     "start_time": "2019-08-22T14:45:44.547929Z"
    }
   },
   "outputs": [],
   "source": [
    "for month, rate in res.iteritems():\n",
    "    d[f'{year}-{month}-01'] = rate"
   ]
  },
  {
   "cell_type": "code",
   "execution_count": null,
   "metadata": {
    "ExecuteTime": {
     "end_time": "2019-08-22T14:52:25.931742Z",
     "start_time": "2019-08-22T14:52:25.927280Z"
    }
   },
   "outputs": [],
   "source": [
    "pd.to_datetime(list(d.keys()))"
   ]
  },
  {
   "cell_type": "code",
   "execution_count": null,
   "metadata": {
    "ExecuteTime": {
     "end_time": "2019-08-22T14:17:58.795418Z",
     "start_time": "2019-08-22T14:17:58.791284Z"
    }
   },
   "outputs": [],
   "source": [
    "columns = ['MONTH', 'BASICWGT', 'LFS', 'WBHAO', 'AGE', 'FEMALE', 'MARRIED']\n",
    "wb = ['White', 'Black']"
   ]
  },
  {
   "cell_type": "code",
   "execution_count": null,
   "metadata": {
    "ExecuteTime": {
     "end_time": "2019-08-22T14:26:04.151440Z",
     "start_time": "2019-08-22T14:26:04.093194Z"
    }
   },
   "outputs": [],
   "source": [
    "df = (pd.read_feather('cps1998.ft', columns=columns)\n",
    "        .query('25 <= AGE <=54 and FEMALE == 1 and MARRIED == 1 and WBHAO in @wb'))"
   ]
  },
  {
   "cell_type": "code",
   "execution_count": null,
   "metadata": {
    "ExecuteTime": {
     "end_time": "2019-08-22T14:26:06.148490Z",
     "start_time": "2019-08-22T14:26:06.140642Z"
    }
   },
   "outputs": [],
   "source": [
    "round((1 - (df.groupby('LFS').BASICWGT.sum() / df.BASICWGT.sum()).NILF) * 100, 1)"
   ]
  },
  {
   "cell_type": "code",
   "execution_count": null,
   "metadata": {},
   "outputs": [],
   "source": []
  },
  {
   "cell_type": "code",
   "execution_count": null,
   "metadata": {},
   "outputs": [],
   "source": []
  },
  {
   "cell_type": "code",
   "execution_count": null,
   "metadata": {},
   "outputs": [],
   "source": []
  }
 ],
 "metadata": {
  "kernelspec": {
   "display_name": "Python 3",
   "language": "python",
   "name": "python3"
  },
  "language_info": {
   "codemirror_mode": {
    "name": "ipython",
    "version": 3
   },
   "file_extension": ".py",
   "mimetype": "text/x-python",
   "name": "python",
   "nbconvert_exporter": "python",
   "pygments_lexer": "ipython3",
   "version": "3.7.3"
  }
 },
 "nbformat": 4,
 "nbformat_minor": 2
}
