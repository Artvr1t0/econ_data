{
 "cells": [
  {
   "cell_type": "markdown",
   "metadata": {},
   "source": [
    "### Longitudinal matching in the CPS\n",
    "\n",
    "https://www.ncbi.nlm.nih.gov/pmc/articles/PMC4477847/"
   ]
  },
  {
   "cell_type": "code",
   "execution_count": 2,
   "metadata": {
    "ExecuteTime": {
     "end_time": "2018-02-25T22:48:33.209406Z",
     "start_time": "2018-02-25T22:48:31.678042Z"
    }
   },
   "outputs": [],
   "source": [
    "import pandas as pd"
   ]
  },
  {
   "cell_type": "markdown",
   "metadata": {},
   "source": [
    "April 2016, 43 year old woman, "
   ]
  },
  {
   "cell_type": "code",
   "execution_count": null,
   "metadata": {},
   "outputs": [],
   "source": [
    "'111090278273850111'\n"
   ]
  },
  {
   "cell_type": "code",
   "execution_count": 34,
   "metadata": {
    "ExecuteTime": {
     "end_time": "2018-02-25T23:47:44.115314Z",
     "start_time": "2018-02-25T23:47:43.662152Z"
    }
   },
   "outputs": [],
   "source": [
    "df = pd.read_pickle('data/cps_2016.pkl')\n",
    "df = df.append(pd.read_pickle('data/cps_2017.pkl'))"
   ]
  },
  {
   "cell_type": "code",
   "execution_count": 40,
   "metadata": {
    "ExecuteTime": {
     "end_time": "2018-02-25T23:55:39.201827Z",
     "start_time": "2018-02-25T23:55:39.123695Z"
    }
   },
   "outputs": [
    {
     "data": {
      "text/html": [
       "<div>\n",
       "<style scoped>\n",
       "    .dataframe tbody tr th:only-of-type {\n",
       "        vertical-align: middle;\n",
       "    }\n",
       "\n",
       "    .dataframe tbody tr th {\n",
       "        vertical-align: top;\n",
       "    }\n",
       "\n",
       "    .dataframe thead th {\n",
       "        text-align: right;\n",
       "    }\n",
       "</style>\n",
       "<table border=\"1\" class=\"dataframe\">\n",
       "  <thead>\n",
       "    <tr style=\"text-align: right;\">\n",
       "      <th></th>\n",
       "      <th>HRHHID</th>\n",
       "      <th>HRMONTH</th>\n",
       "      <th>HRYEAR4</th>\n",
       "      <th>HRMIS</th>\n",
       "      <th>HRHHID2</th>\n",
       "      <th>GESTFIPS</th>\n",
       "      <th>GTMETSTA</th>\n",
       "      <th>PRTAGE</th>\n",
       "      <th>PESEX</th>\n",
       "      <th>PEEDUCA</th>\n",
       "      <th>...</th>\n",
       "      <th>PRMJIND1</th>\n",
       "      <th>PRMJOCC1</th>\n",
       "      <th>PRSJMJ</th>\n",
       "      <th>PRERNHLY</th>\n",
       "      <th>PRERNWA</th>\n",
       "      <th>PENLFRET</th>\n",
       "      <th>PENLFACT</th>\n",
       "      <th>PWORWGT</th>\n",
       "      <th>PWSSWGT</th>\n",
       "      <th>PWCMPWGT</th>\n",
       "    </tr>\n",
       "  </thead>\n",
       "  <tbody>\n",
       "    <tr>\n",
       "      <th>34</th>\n",
       "      <td>110902782738</td>\n",
       "      <td>4</td>\n",
       "      <td>2016</td>\n",
       "      <td>1</td>\n",
       "      <td>5011</td>\n",
       "      <td>1</td>\n",
       "      <td>1</td>\n",
       "      <td>28</td>\n",
       "      <td>2</td>\n",
       "      <td>43</td>\n",
       "      <td>...</td>\n",
       "      <td>10</td>\n",
       "      <td>2</td>\n",
       "      <td>1</td>\n",
       "      <td>-1</td>\n",
       "      <td>-1</td>\n",
       "      <td>-1</td>\n",
       "      <td>-1</td>\n",
       "      <td>0</td>\n",
       "      <td>21376668</td>\n",
       "      <td>20926795</td>\n",
       "    </tr>\n",
       "  </tbody>\n",
       "</table>\n",
       "<p>1 rows × 33 columns</p>\n",
       "</div>"
      ],
      "text/plain": [
       "          HRHHID  HRMONTH  HRYEAR4  HRMIS  HRHHID2  GESTFIPS  GTMETSTA  \\\n",
       "34  110902782738        4     2016      1     5011         1         1   \n",
       "\n",
       "    PRTAGE  PESEX  PEEDUCA    ...     PRMJIND1  PRMJOCC1  PRSJMJ  PRERNHLY  \\\n",
       "34      28      2       43    ...           10         2       1        -1   \n",
       "\n",
       "    PRERNWA  PENLFRET  PENLFACT  PWORWGT   PWSSWGT  PWCMPWGT  \n",
       "34       -1        -1        -1        0  21376668  20926795  \n",
       "\n",
       "[1 rows x 33 columns]"
      ]
     },
     "execution_count": 40,
     "metadata": {},
     "output_type": "execute_result"
    }
   ],
   "source": [
    "df[(df['HRMIS'] == 1) & (df['GESTFIPS'] == 1) & (df['HRHHID'] == 110902782738)\n",
    "   & (df['HRHHID2'] == 5011) & (df['PULINENO'] == 1)]"
   ]
  },
  {
   "cell_type": "code",
   "execution_count": 8,
   "metadata": {
    "ExecuteTime": {
     "end_time": "2018-02-25T22:54:00.894458Z",
     "start_time": "2018-02-25T22:54:00.878831Z"
    }
   },
   "outputs": [
    {
     "data": {
      "text/plain": [
       "0          1\n",
       "1          1\n",
       "2          1\n",
       "3          1\n",
       "4          1\n",
       "5          1\n",
       "6          1\n",
       "7          1\n",
       "8          1\n",
       "9          1\n",
       "10         1\n",
       "11         1\n",
       "12         1\n",
       "13         1\n",
       "14         1\n",
       "15         1\n",
       "16         1\n",
       "17         1\n",
       "18         1\n",
       "19         1\n",
       "20         1\n",
       "21         1\n",
       "22         1\n",
       "23         1\n",
       "24         1\n",
       "25         1\n",
       "26         1\n",
       "27         1\n",
       "28         1\n",
       "29         1\n",
       "          ..\n",
       "105278    56\n",
       "105279    56\n",
       "105280    56\n",
       "105281    56\n",
       "105282    56\n",
       "105283    56\n",
       "105284    56\n",
       "105285    56\n",
       "105286    56\n",
       "105287    56\n",
       "105288    56\n",
       "105289    56\n",
       "105290    56\n",
       "105291    56\n",
       "105292    56\n",
       "105293    56\n",
       "105294    56\n",
       "105295    56\n",
       "105296    56\n",
       "105297    56\n",
       "105298    56\n",
       "105299    56\n",
       "105300    56\n",
       "105301    56\n",
       "105302    56\n",
       "105303    56\n",
       "105304    56\n",
       "105305    56\n",
       "105306    56\n",
       "105307    56\n",
       "Name: GESTFIPS, Length: 1238834, dtype: int8"
      ]
     },
     "execution_count": 8,
     "metadata": {},
     "output_type": "execute_result"
    }
   ],
   "source": [
    "df['GESTFIPS']"
   ]
  },
  {
   "cell_type": "code",
   "execution_count": 12,
   "metadata": {
    "ExecuteTime": {
     "end_time": "2018-02-25T22:58:21.729451Z",
     "start_time": "2018-02-25T22:58:21.698208Z"
    }
   },
   "outputs": [
    {
     "ename": "TypeError",
     "evalue": "string indices must be integers",
     "output_type": "error",
     "traceback": [
      "\u001b[1;31m---------------------------------------------------------------------------\u001b[0m",
      "\u001b[1;31mTypeError\u001b[0m                                 Traceback (most recent call last)",
      "\u001b[1;32m<ipython-input-12-ed279ccf5e22>\u001b[0m in \u001b[0;36m<module>\u001b[1;34m()\u001b[0m\n\u001b[1;32m----> 1\u001b[1;33m \u001b[0mdf\u001b[0m\u001b[1;33m[\u001b[0m\u001b[1;34m'id'\u001b[0m\u001b[1;33m]\u001b[0m \u001b[1;33m=\u001b[0m \u001b[1;33m[\u001b[0m\u001b[1;34mf\"{v['GESTFIPS']}{v['HRHHID']}{v['HRHHID2']}{v['PULINENO']}\"\u001b[0m \u001b[1;32mfor\u001b[0m \u001b[0mv\u001b[0m \u001b[1;32min\u001b[0m \u001b[0mdf\u001b[0m\u001b[1;33m]\u001b[0m\u001b[1;33m\u001b[0m\u001b[0m\n\u001b[0m",
      "\u001b[1;32m<ipython-input-12-ed279ccf5e22>\u001b[0m in \u001b[0;36m<listcomp>\u001b[1;34m(.0)\u001b[0m\n\u001b[1;32m----> 1\u001b[1;33m \u001b[0mdf\u001b[0m\u001b[1;33m[\u001b[0m\u001b[1;34m'id'\u001b[0m\u001b[1;33m]\u001b[0m \u001b[1;33m=\u001b[0m \u001b[1;33m[\u001b[0m\u001b[1;34mf\"{v['GESTFIPS']}{v['HRHHID']}{v['HRHHID2']}{v['PULINENO']}\"\u001b[0m \u001b[1;32mfor\u001b[0m \u001b[0mv\u001b[0m \u001b[1;32min\u001b[0m \u001b[0mdf\u001b[0m\u001b[1;33m]\u001b[0m\u001b[1;33m\u001b[0m\u001b[0m\n\u001b[0m",
      "\u001b[1;31mTypeError\u001b[0m: string indices must be integers"
     ]
    }
   ],
   "source": [
    "df['id'] = [df['GESTFIPS'].str + }{v['HRHHID']}{v['HRHHID2']}{v['PULINENO']}\" for v in df]"
   ]
  },
  {
   "cell_type": "code",
   "execution_count": 18,
   "metadata": {
    "ExecuteTime": {
     "end_time": "2018-02-25T23:01:28.933700Z",
     "start_time": "2018-02-25T23:01:28.918074Z"
    }
   },
   "outputs": [],
   "source": [
    "ids = ['GESTFIPS', 'HRHHID', 'HRHHID2', 'PULINENO']"
   ]
  },
  {
   "cell_type": "code",
   "execution_count": 21,
   "metadata": {
    "ExecuteTime": {
     "end_time": "2018-02-25T23:21:45.439518Z",
     "start_time": "2018-02-25T23:21:24.887042Z"
    }
   },
   "outputs": [
    {
     "data": {
      "text/plain": [
       "0              18071509518730111\n",
       "1              18071509518730112\n",
       "2             111007088597530111\n",
       "3             111007088597530112\n",
       "4             111010076205631111\n",
       "5             111010076205631112\n",
       "6             111010076205630111\n",
       "7             111010775585630111\n",
       "8             111010775585630112\n",
       "9             111011679216350111\n",
       "10            111011679216350112\n",
       "11            111018451028630111\n",
       "12            111019213228531111\n",
       "13            111019213228531112\n",
       "14            111020659338150111\n",
       "15            111020659338150112\n",
       "16            111020659338150115\n",
       "17            111020659338150114\n",
       "18            111026748055251111\n",
       "19            111027088590550111\n",
       "20            111028481568051111\n",
       "21            111028481568051112\n",
       "22            111030278276850111\n",
       "23            111030278276850112\n",
       "24            111030278276850114\n",
       "25            111033993545341111\n",
       "26            111035127813450111\n",
       "27            111036151751551111\n",
       "28            111036151751551112\n",
       "29            111036556495350111\n",
       "                   ...          \n",
       "105278    5690551703861001540111\n",
       "105279    5690551703861001540112\n",
       "105280    5690551703861001540114\n",
       "105281    5690551703861001540113\n",
       "105282    5690623770126050441111\n",
       "105283    5690651625461027741111\n",
       "105284    5690651625461027761111\n",
       "105285    5690651625461027761112\n",
       "105286    5690651625761067740111\n",
       "105287    5690651625761067740112\n",
       "105288    5690652625661077750111\n",
       "105289    5691126100675021960111\n",
       "105290    5691126100675021960112\n",
       "105291    5691623890184150960111\n",
       "105292    5691623890184150960112\n",
       "105293    5693673910155050440111\n",
       "105294    5693673910155050440112\n",
       "105295    5695196800715064860111\n",
       "105296    5695196800715064860113\n",
       "105297    5695196800715064860112\n",
       "105298    5695196800715064860114\n",
       "105299    5695672930159150751111\n",
       "105300    5695672930159150751112\n",
       "105301    5696556810070572850111\n",
       "105302    5696556810090571840121\n",
       "105303    5699667880145050140111\n",
       "105304    5699667880145050140112\n",
       "105305    5699667880145050140113\n",
       "105306    5699667880145050140114\n",
       "105307    5699667880145050160111\n",
       "Length: 1238834, dtype: object"
      ]
     },
     "execution_count": 21,
     "metadata": {},
     "output_type": "execute_result"
    }
   ],
   "source": [
    "df[['GESTFIPS', 'HRHHID', 'HRHHID2', 'PULINENO']].astype(str).apply(lambda x: ''.join(x), axis=1)"
   ]
  },
  {
   "cell_type": "code",
   "execution_count": 17,
   "metadata": {
    "ExecuteTime": {
     "end_time": "2018-02-25T23:00:34.976387Z",
     "start_time": "2018-02-25T23:00:34.351340Z"
    }
   },
   "outputs": [
    {
     "data": {
      "text/plain": [
       "0          1\n",
       "1          1\n",
       "2          1\n",
       "3          1\n",
       "4          1\n",
       "5          1\n",
       "6          1\n",
       "7          1\n",
       "8          1\n",
       "9          1\n",
       "10         1\n",
       "11         1\n",
       "12         1\n",
       "13         1\n",
       "14         1\n",
       "15         1\n",
       "16         1\n",
       "17         1\n",
       "18         1\n",
       "19         1\n",
       "20         1\n",
       "21         1\n",
       "22         1\n",
       "23         1\n",
       "24         1\n",
       "25         1\n",
       "26         1\n",
       "27         1\n",
       "28         1\n",
       "29         1\n",
       "          ..\n",
       "105278    56\n",
       "105279    56\n",
       "105280    56\n",
       "105281    56\n",
       "105282    56\n",
       "105283    56\n",
       "105284    56\n",
       "105285    56\n",
       "105286    56\n",
       "105287    56\n",
       "105288    56\n",
       "105289    56\n",
       "105290    56\n",
       "105291    56\n",
       "105292    56\n",
       "105293    56\n",
       "105294    56\n",
       "105295    56\n",
       "105296    56\n",
       "105297    56\n",
       "105298    56\n",
       "105299    56\n",
       "105300    56\n",
       "105301    56\n",
       "105302    56\n",
       "105303    56\n",
       "105304    56\n",
       "105305    56\n",
       "105306    56\n",
       "105307    56\n",
       "Name: GESTFIPS, Length: 1238834, dtype: object"
      ]
     },
     "execution_count": 17,
     "metadata": {},
     "output_type": "execute_result"
    }
   ],
   "source": [
    "[df[id].astype(str)"
   ]
  },
  {
   "cell_type": "code",
   "execution_count": 7,
   "metadata": {
    "ExecuteTime": {
     "end_time": "2018-02-25T22:53:38.220864Z",
     "start_time": "2018-02-25T22:53:38.173995Z"
    }
   },
   "outputs": [
    {
     "data": {
      "text/plain": [
       "0             80715098200\n",
       "1             80715098201\n",
       "2            110070888988\n",
       "3            110070888989\n",
       "4            110100765169\n",
       "5            110100765170\n",
       "6            110100765069\n",
       "7            110107758869\n",
       "8            110107758870\n",
       "9            110116797176\n",
       "10           110116797177\n",
       "11           110184513299\n",
       "12           110192135398\n",
       "13           110192135399\n",
       "14           110206598394\n",
       "15           110206598395\n",
       "16           110206598398\n",
       "17           110206598397\n",
       "18           110267485665\n",
       "19           110270890918\n",
       "20           110284820793\n",
       "21           110284820794\n",
       "22           110302787781\n",
       "23           110302787782\n",
       "24           110302787784\n",
       "25           110339939566\n",
       "26           110351283147\n",
       "27           110361522628\n",
       "28           110361522629\n",
       "29           110365569966\n",
       "               ...       \n",
       "105278    905517038614083\n",
       "105279    905517038614084\n",
       "105280    905517038614086\n",
       "105281    905517038614085\n",
       "105282    906237701264672\n",
       "105283    906516254614445\n",
       "105284    906516254616445\n",
       "105285    906516254616446\n",
       "105286    906516257614745\n",
       "105287    906516257614746\n",
       "105288    906526256615845\n",
       "105289    911261006756287\n",
       "105290    911261006756288\n",
       "105291    916238901847577\n",
       "105292    916238901847578\n",
       "105293    936739101554572\n",
       "105294    936739101554573\n",
       "105295    951968007156716\n",
       "105296    951968007156718\n",
       "105297    951968007156717\n",
       "105298    951968007156719\n",
       "105299    956729301596675\n",
       "105300    956729301596676\n",
       "105301    965568100710796\n",
       "105302    965568100909787\n",
       "105303    996678801454569\n",
       "105304    996678801454570\n",
       "105305    996678801454571\n",
       "105306    996678801454572\n",
       "105307    996678801456569\n",
       "Name: id, Length: 1238834, dtype: int64"
      ]
     },
     "execution_count": 7,
     "metadata": {},
     "output_type": "execute_result"
    }
   ],
   "source": [
    "df['id']"
   ]
  },
  {
   "cell_type": "code",
   "execution_count": null,
   "metadata": {},
   "outputs": [],
   "source": []
  }
 ],
 "metadata": {
  "kernelspec": {
   "display_name": "Python 3",
   "language": "python",
   "name": "python3"
  },
  "language_info": {
   "codemirror_mode": {
    "name": "ipython",
    "version": 3
   },
   "file_extension": ".py",
   "mimetype": "text/x-python",
   "name": "python",
   "nbconvert_exporter": "python",
   "pygments_lexer": "ipython3",
   "version": "3.6.4"
  }
 },
 "nbformat": 4,
 "nbformat_minor": 2
}
