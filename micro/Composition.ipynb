{
 "cells": [
  {
   "cell_type": "markdown",
   "metadata": {},
   "source": [
    "#### Short blog post on the age composition of full-time workers in the CPS over time\n",
    "\n",
    "Brian Dew, @bd_econ\n",
    "\n",
    "May 10, 2018\n",
    "\n",
    "-----\n",
    "\n",
    "\n",
    "TO DO: \n",
    "\n",
    "- Generate single line chart - PA share of total since 1994\n",
    "- Generate horizontal bar chart - change since 2014"
   ]
  },
  {
   "cell_type": "code",
   "execution_count": 1,
   "metadata": {
    "ExecuteTime": {
     "end_time": "2018-05-11T12:30:40.568238Z",
     "start_time": "2018-05-11T12:30:37.606350Z"
    }
   },
   "outputs": [],
   "source": [
    "import pandas as pd\n",
    "import numpy as np\n",
    "import glob, os\n",
    "\n",
    "%matplotlib inline"
   ]
  },
  {
   "cell_type": "code",
   "execution_count": 2,
   "metadata": {
    "ExecuteTime": {
     "end_time": "2018-05-11T12:31:13.166836Z",
     "start_time": "2018-05-11T12:30:43.068032Z"
    }
   },
   "outputs": [],
   "source": [
    "path = 'C:/Working/econ_data/micro/data/'\n",
    "\n",
    "files = glob.glob(os.path.join(path, \"*.ft\"))\n",
    "\n",
    "df = pd.concat((pd.read_feather(f, nthreads=3) for f in files))\n",
    "\n",
    "df = df[(df['PEMLR'].isin([1, 2])) & (df['PRFTLF'] == 1)]\n",
    "\n",
    "age_cutoffs = [15, 20, 25, 30, 35, 40, 45, 50, 55, 60, 65, 70, 75, 100]\n",
    "df['AGE'] = pd.cut(df['PRTAGE'], age_cutoffs)\n",
    "\n",
    "df['PA'] = np.where(df['PRTAGE'].between(25,54), 1, 0)\n",
    "\n",
    "grouped = df.groupby(['HRYEAR4', 'HRMONTH'])"
   ]
  },
  {
   "cell_type": "code",
   "execution_count": 3,
   "metadata": {
    "ExecuteTime": {
     "end_time": "2018-05-11T12:31:26.600074Z",
     "start_time": "2018-05-11T12:31:22.799533Z"
    }
   },
   "outputs": [],
   "source": [
    "data = pd.DataFrame()\n",
    "for name, group in grouped:\n",
    "    date = pd.to_datetime(f'{name[0]}-{name[1]}-01')\n",
    "    data.at[date, 'PA_sh'] = np.average(group.PA, weights=group.PWSSWGT)"
   ]
  },
  {
   "cell_type": "code",
   "execution_count": 4,
   "metadata": {
    "ExecuteTime": {
     "end_time": "2018-05-11T12:31:28.228144Z",
     "start_time": "2018-05-11T12:31:27.783344Z"
    }
   },
   "outputs": [
    {
     "data": {
      "text/plain": [
       "<matplotlib.axes._subplots.AxesSubplot at 0x214aa439e10>"
      ]
     },
     "execution_count": 4,
     "metadata": {},
     "output_type": "execute_result"
    },
    {
     "data": {
      "image/png": "[encoded data removed]",
      "text/plain": [
       "<Figure size 432x288 with 1 Axes>"
      ]
     },
     "metadata": {},
     "output_type": "display_data"
    }
   ],
   "source": [
    "data.rolling(12).mean().plot()"
   ]
  },
  {
   "cell_type": "code",
   "execution_count": null,
   "metadata": {},
   "outputs": [],
   "source": []
  },
  {
   "cell_type": "code",
   "execution_count": 13,
   "metadata": {
    "ExecuteTime": {
     "end_time": "2018-05-11T12:54:43.252366Z",
     "start_time": "2018-05-11T12:54:42.600252Z"
    }
   },
   "outputs": [],
   "source": [
    "dft14 = df[((df['HRYEAR4'] == 2013) & (df['HRMONTH'] > 3)) | ((df['HRYEAR4'] == 2014) & (df['HRMONTH'] <= 3))]\n",
    "dft16 = df[((df['HRYEAR4'] == 2015) & (df['HRMONTH'] > 3)) | ((df['HRYEAR4'] == 2016) & (df['HRMONTH'] <= 3))]\n",
    "dft18 = df[((df['HRYEAR4'] == 2017) & (df['HRMONTH'] > 3)) | (df['HRYEAR4'] == 2018)]"
   ]
  },
  {
   "cell_type": "code",
   "execution_count": 14,
   "metadata": {
    "ExecuteTime": {
     "end_time": "2018-05-11T12:54:44.435987Z",
     "start_time": "2018-05-11T12:54:44.295354Z"
    }
   },
   "outputs": [
    {
     "data": {
      "text/plain": [
       "<matplotlib.axes._subplots.AxesSubplot at 0x2148243a7f0>"
      ]
     },
     "execution_count": 14,
     "metadata": {},
     "output_type": "execute_result"
    },
    {
     "data": {
      "image/png": "[encoded data removed]",
      "text/plain": [
       "<Figure size 432x288 with 1 Axes>"
      ]
     },
     "metadata": {},
     "output_type": "display_data"
    }
   ],
   "source": [
    "(((dft18.groupby(['AGE'])['PWCMPWGT'].sum() / \n",
    " dft18['PWCMPWGT'].sum()) - \n",
    " (dft16.groupby(['AGE'])['PWCMPWGT'].sum() / \n",
    "  dft16['PWCMPWGT'].sum())) * 100).plot(kind='barh', color=['blue'])"
   ]
  },
  {
   "cell_type": "code",
   "execution_count": null,
   "metadata": {},
   "outputs": [],
   "source": []
  },
  {
   "cell_type": "code",
   "execution_count": null,
   "metadata": {},
   "outputs": [],
   "source": []
  },
  {
   "cell_type": "code",
   "execution_count": null,
   "metadata": {},
   "outputs": [],
   "source": []
  },
  {
   "cell_type": "code",
   "execution_count": null,
   "metadata": {},
   "outputs": [],
   "source": []
  },
  {
   "cell_type": "code",
   "execution_count": null,
   "metadata": {},
   "outputs": [],
   "source": []
  },
  {
   "cell_type": "code",
   "execution_count": null,
   "metadata": {},
   "outputs": [],
   "source": []
  },
  {
   "cell_type": "code",
   "execution_count": null,
   "metadata": {
    "ExecuteTime": {
     "end_time": "2018-05-11T02:32:26.543645Z",
     "start_time": "2018-05-11T02:32:04.667772Z"
    }
   },
   "outputs": [],
   "source": [
    "files = glob.glob(os.path.join(path, \"*.ft\"))\n",
    "\n",
    "df = pd.concat((pd.read_feather(f, nthreads=3) for f in files))"
   ]
  },
  {
   "cell_type": "code",
   "execution_count": null,
   "metadata": {
    "ExecuteTime": {
     "end_time": "2018-05-11T02:33:20.475889Z",
     "start_time": "2018-05-11T02:33:14.214830Z"
    }
   },
   "outputs": [],
   "source": [
    "df = df[(df['PEMLR'].isin([1, 2])) & (df['PRFTLF'] == 1)]"
   ]
  },
  {
   "cell_type": "code",
   "execution_count": null,
   "metadata": {
    "ExecuteTime": {
     "end_time": "2018-05-11T02:35:01.969250Z",
     "start_time": "2018-05-11T02:35:01.342204Z"
    }
   },
   "outputs": [],
   "source": [
    "age_cutoffs = [15, 20, 25, 30, 35, 40, 45, 50, 55, 60, 65, 70, 75, 100]\n",
    "df['AGE'] = pd.cut(df['PRTAGE'], age_cutoffs)"
   ]
  },
  {
   "cell_type": "code",
   "execution_count": null,
   "metadata": {
    "ExecuteTime": {
     "end_time": "2018-05-11T02:39:35.857625Z",
     "start_time": "2018-05-11T02:39:35.696970Z"
    }
   },
   "outputs": [],
   "source": [
    "df['PA'] = np.where(df['PRTAGE'].between(25,54), 1, 0)"
   ]
  },
  {
   "cell_type": "code",
   "execution_count": null,
   "metadata": {
    "ExecuteTime": {
     "end_time": "2018-05-11T02:58:01.897030Z",
     "start_time": "2018-05-11T02:58:01.893536Z"
    }
   },
   "outputs": [],
   "source": [
    "grouped = df.groupby(['HRYEAR4', 'HRMONTH'])"
   ]
  },
  {
   "cell_type": "code",
   "execution_count": null,
   "metadata": {
    "ExecuteTime": {
     "end_time": "2018-05-11T03:04:48.153539Z",
     "start_time": "2018-05-11T03:04:48.143029Z"
    }
   },
   "outputs": [],
   "source": [
    "data = pd.DataFrame()\n",
    "for name, group in grouped:\n",
    "    date = f'{name[0]}-{name[1]}-01'\n",
    "    data.at[date, 'PA_sh'] = (group.PA * group.PWCMPWGT).sum()"
   ]
  },
  {
   "cell_type": "code",
   "execution_count": null,
   "metadata": {
    "ExecuteTime": {
     "end_time": "2018-05-11T02:53:25.584550Z",
     "start_time": "2018-05-11T02:53:25.573049Z"
    }
   },
   "outputs": [],
   "source": [
    "(months['PA'] * months['PWCMPWGT']).sum()"
   ]
  },
  {
   "cell_type": "code",
   "execution_count": null,
   "metadata": {},
   "outputs": [],
   "source": []
  },
  {
   "cell_type": "code",
   "execution_count": null,
   "metadata": {},
   "outputs": [],
   "source": []
  },
  {
   "cell_type": "code",
   "execution_count": null,
   "metadata": {
    "ExecuteTime": {
     "end_time": "2018-05-07T00:17:52.018029Z",
     "start_time": "2018-05-07T00:17:49.596259Z"
    }
   },
   "outputs": [],
   "source": [
    "df = pd.read_feather('data/cps_2017.ft', nthreads=3)\n",
    "df2 = pd.read_feather('data/cps_2016.ft', nthreads=3)\n",
    "dft14 = df2[(df2['PEMLR'].isin([1, 2])) & (df2['HRMONTH'] > 3)].append(\n",
    "    df[(df['PEMLR'].isin([1, 2])) & (df2['HRMONTH'] < 4)])\n",
    "\n",
    "dft14['AGE'] = pd.cut(dft14['PRTAGE'], [15, 20, 25, 30, 35, 40, 45, 50, 55, 60, 65, 70, 75, 100])\n",
    "dft14['JOB'] = (dft14['PRDTIND1'] * 100) + dft14['PRDTOCC1']\n",
    "\n",
    "df = pd.read_feather('data/cps_2018.ft', nthreads=3)\n",
    "df2 = pd.read_feather('data/cps_2017.ft', nthreads=3)\n",
    "dft18 = df2[(df2['PEMLR'].isin([1, 2])) & (df2['HRMONTH'] > 3)].append(\n",
    "    df[df['PEMLR'].isin([1, 2])])\n",
    "\n",
    "dft18['AGE'] = pd.cut(dft18['PRTAGE'], [15, 20, 25, 30, 35, 40, 45, 50, 55, 60, 65, 70, 75, 100])\n",
    "dft18['JOB'] = (dft18['PRDTIND1'] * 100) + dft18['PRDTOCC1']"
   ]
  },
  {
   "cell_type": "code",
   "execution_count": null,
   "metadata": {
    "ExecuteTime": {
     "end_time": "2018-05-07T00:17:53.518172Z",
     "start_time": "2018-05-07T00:17:53.238970Z"
    }
   },
   "outputs": [],
   "source": [
    "(((dft18.groupby(['AGE'])['PWCMPWGT'].sum() / \n",
    " dft18['PWCMPWGT'].sum()) - \n",
    " (dft14.groupby(['AGE'])['PWCMPWGT'].sum() / \n",
    "  dft14['PWCMPWGT'].sum())) * 100).plot(kind='barh', color=['blue'])"
   ]
  },
  {
   "cell_type": "code",
   "execution_count": null,
   "metadata": {},
   "outputs": [],
   "source": []
  },
  {
   "cell_type": "code",
   "execution_count": null,
   "metadata": {},
   "outputs": [],
   "source": []
  },
  {
   "cell_type": "code",
   "execution_count": null,
   "metadata": {},
   "outputs": [],
   "source": []
  },
  {
   "cell_type": "code",
   "execution_count": null,
   "metadata": {
    "ExecuteTime": {
     "end_time": "2018-05-06T21:49:31.183085Z",
     "start_time": "2018-05-06T21:49:30.866273Z"
    }
   },
   "outputs": [],
   "source": [
    "df = pd.read_feather('data/cps_2018.ft', nthreads=3)\n",
    "df2 = pd.read_feather('data/cps_2017.ft', nthreads=3)\n",
    "dft18 = df2[(df2['PEMLR'].isin([1, 2])) & (df2['HRMONTH'] > 3)].append(\n",
    "    df[df['PEMLR'].isin([1, 2])])\n",
    "\n",
    "dft18['AGE'] = pd.cut(dft18['PRTAGE'], [15, 20, 25, 30, 35, 40, 45, 50, 55, 60, 65, 70, 75, 100])"
   ]
  },
  {
   "cell_type": "code",
   "execution_count": null,
   "metadata": {},
   "outputs": [],
   "source": []
  },
  {
   "cell_type": "code",
   "execution_count": 4,
   "metadata": {
    "ExecuteTime": {
     "end_time": "2018-05-11T03:06:52.533771Z",
     "start_time": "2018-05-11T03:06:52.529276Z"
    }
   },
   "outputs": [
    {
     "data": {
      "text/plain": [
       "Index(['GESTFIPS', 'GTMETSTA', 'HRHHID', 'HRHHID2', 'HRMIS', 'HRMONTH',\n",
       "       'HRYEAR4', 'PEDWWNTO', 'PEEDUCA', 'PEERNLAB', 'PEHRUSL1', 'PEIO1COW',\n",
       "       'PEJHRSN', 'PEMLR', 'PENLFACT', 'PENLFRET', 'PESEX', 'PRCHLD',\n",
       "       'PRCITSHP', 'PRCIVLF', 'PRCOW1', 'PRDISC', 'PRDTHSP', 'PRDTIND1',\n",
       "       'PRDTOCC1', 'PRDTRACE', 'PREMPNOT', 'PRERNHLY', 'PRERNWA', 'PRFTLF',\n",
       "       'PRMARSTA', 'PRMJIND1', 'PRMJOCC1', 'PRORIGIN', 'PRSJMJ', 'PRTAGE',\n",
       "       'PRUNEDUR', 'PRUNTYPE', 'PRWKSTAT', 'PRWNTJOB', 'PUIODP1', 'PUIODP2',\n",
       "       'PULINENO', 'PWCMPWGT', 'PWORWGT', 'PWSSWGT', 'WBHAO', 'AGE', 'PA'],\n",
       "      dtype='object')"
      ]
     },
     "execution_count": 4,
     "metadata": {},
     "output_type": "execute_result"
    }
   ],
   "source": [
    "df.keys()"
   ]
  },
  {
   "cell_type": "code",
   "execution_count": null,
   "metadata": {},
   "outputs": [],
   "source": []
  },
  {
   "cell_type": "code",
   "execution_count": null,
   "metadata": {},
   "outputs": [],
   "source": []
  },
  {
   "cell_type": "code",
   "execution_count": null,
   "metadata": {},
   "outputs": [],
   "source": []
  },
  {
   "cell_type": "code",
   "execution_count": null,
   "metadata": {},
   "outputs": [],
   "source": []
  },
  {
   "cell_type": "code",
   "execution_count": null,
   "metadata": {},
   "outputs": [],
   "source": []
  },
  {
   "cell_type": "code",
   "execution_count": null,
   "metadata": {},
   "outputs": [],
   "source": []
  },
  {
   "cell_type": "code",
   "execution_count": null,
   "metadata": {
    "ExecuteTime": {
     "end_time": "2018-05-06T21:38:37.433881Z",
     "start_time": "2018-05-06T21:38:37.329780Z"
    }
   },
   "outputs": [],
   "source": [
    "df[(df['PUIODP1'] == 1)]['PRCOW1']"
   ]
  },
  {
   "cell_type": "code",
   "execution_count": null,
   "metadata": {},
   "outputs": [],
   "source": []
  },
  {
   "cell_type": "code",
   "execution_count": null,
   "metadata": {},
   "outputs": [],
   "source": []
  },
  {
   "cell_type": "code",
   "execution_count": null,
   "metadata": {},
   "outputs": [],
   "source": []
  },
  {
   "cell_type": "code",
   "execution_count": null,
   "metadata": {
    "ExecuteTime": {
     "end_time": "2018-05-06T14:01:26.430564Z",
     "start_time": "2018-05-06T14:01:25.758627Z"
    }
   },
   "outputs": [],
   "source": [
    "df2 = pd.read_feather('data/cps_2013.ft', nthreads=3)"
   ]
  },
  {
   "cell_type": "code",
   "execution_count": null,
   "metadata": {
    "ExecuteTime": {
     "end_time": "2018-05-06T13:59:55.076799Z",
     "start_time": "2018-05-06T13:59:54.920541Z"
    }
   },
   "outputs": [],
   "source": [
    "dft18 = df2[(df2['PEMLR'].isin([1, 2])) & (df2['HRMONTH'] > 3)].append(df[df['PEMLR'].isin([1, 2])])"
   ]
  },
  {
   "cell_type": "code",
   "execution_count": null,
   "metadata": {
    "ExecuteTime": {
     "end_time": "2018-05-06T14:01:28.977687Z",
     "start_time": "2018-05-06T14:01:28.524540Z"
    }
   },
   "outputs": [],
   "source": [
    "dft14 = df2[(df2['PEMLR'].isin([1, 2])) & (df2['HRMONTH'] > 3)].append(df[(df['PEMLR'].isin([1, 2])) & (df2['HRMONTH'] < 4)])"
   ]
  },
  {
   "cell_type": "code",
   "execution_count": null,
   "metadata": {},
   "outputs": [],
   "source": []
  },
  {
   "cell_type": "code",
   "execution_count": null,
   "metadata": {
    "ExecuteTime": {
     "end_time": "2018-05-06T21:48:12.804512Z",
     "start_time": "2018-05-06T21:48:12.798506Z"
    }
   },
   "outputs": [],
   "source": [
    "%matplotlib inline"
   ]
  },
  {
   "cell_type": "code",
   "execution_count": null,
   "metadata": {
    "ExecuteTime": {
     "end_time": "2018-05-06T21:50:13.780004Z",
     "start_time": "2018-05-06T21:50:13.606344Z"
    }
   },
   "outputs": [],
   "source": [
    "((dft18.groupby(['AGE'])['PWCMPWGT'].sum() / \n",
    " dft18['PWCMPWGT'].sum()) - \n",
    " (dft14.groupby(['AGE'])['PWCMPWGT'].sum() / \n",
    "  dft14['PWCMPWGT'].sum())).plot(kind='barh')"
   ]
  },
  {
   "cell_type": "code",
   "execution_count": null,
   "metadata": {},
   "outputs": [],
   "source": []
  },
  {
   "cell_type": "code",
   "execution_count": null,
   "metadata": {},
   "outputs": [],
   "source": []
  },
  {
   "cell_type": "code",
   "execution_count": null,
   "metadata": {
    "ExecuteTime": {
     "end_time": "2018-05-06T15:09:32.444125Z",
     "start_time": "2018-05-06T15:09:32.381618Z"
    }
   },
   "outputs": [],
   "source": [
    "pd.cut(dft['PRTAGE'], [15, 20, 25, 30, 35, 40, 45, 50, 55, 60, 65, 70, 75, 100])"
   ]
  },
  {
   "cell_type": "code",
   "execution_count": null,
   "metadata": {},
   "outputs": [],
   "source": []
  },
  {
   "cell_type": "code",
   "execution_count": null,
   "metadata": {},
   "outputs": [],
   "source": []
  },
  {
   "cell_type": "code",
   "execution_count": null,
   "metadata": {
    "ExecuteTime": {
     "end_time": "2018-05-06T13:14:29.223987Z",
     "start_time": "2018-05-06T13:14:29.114617Z"
    },
    "scrolled": true
   },
   "outputs": [],
   "source": [
    "df[df['PEMLR'].isin([1, 2])]"
   ]
  },
  {
   "cell_type": "code",
   "execution_count": null,
   "metadata": {
    "ExecuteTime": {
     "end_time": "2018-05-06T13:17:29.333469Z",
     "start_time": "2018-05-06T13:17:29.317854Z"
    }
   },
   "outputs": [],
   "source": [
    "df['PRMJOCC1']"
   ]
  },
  {
   "cell_type": "code",
   "execution_count": null,
   "metadata": {},
   "outputs": [],
   "source": []
  },
  {
   "cell_type": "code",
   "execution_count": null,
   "metadata": {},
   "outputs": [],
   "source": []
  }
 ],
 "metadata": {
  "kernelspec": {
   "display_name": "Python 3",
   "language": "python",
   "name": "python3"
  },
  "language_info": {
   "codemirror_mode": {
    "name": "ipython",
    "version": 3
   },
   "file_extension": ".py",
   "mimetype": "text/x-python",
   "name": "python",
   "nbconvert_exporter": "python",
   "pygments_lexer": "ipython3",
   "version": "3.6.5"
  }
 },
 "nbformat": 4,
 "nbformat_minor": 2
}
