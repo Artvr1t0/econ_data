{
 "cells": [
  {
   "cell_type": "markdown",
   "metadata": {},
   "source": [
    "# Codebook\n",
    "\n",
    "## bd CPS list of variables and possible values\n",
    "\n",
    "April 29, 2019\n",
    "\n",
    "Brian Dew, @bd_econ, brianwdew@gmail.com\n",
    "\n",
    "-----\n",
    "\n",
    "Store a list of bd CPS variables and their datatype, availability, average coverage, and list of possible entries."
   ]
  },
  {
   "cell_type": "code",
   "execution_count": 1,
   "metadata": {
    "ExecuteTime": {
     "end_time": "2022-07-13T21:53:47.592478Z",
     "start_time": "2022-07-13T21:53:47.320006Z"
    },
    "code_folding": [
     0
    ],
    "run_control": {
     "marked": false
    }
   },
   "outputs": [],
   "source": [
    "# Preliminaries\n",
    "import pandas as pd\n",
    "import numpy as np\n",
    "import sys\n",
    "old_stdout = sys.stdout\n",
    "sys.stdout = open('/home/brian/Documents/econ_data/bd_CPS/codebook.txt', 'w')\n",
    "\n",
    "import os\n",
    "os.chdir('/home/brian/Documents/econ_data/bd_CPS/')\n",
    "\n",
    "from bd_CPS_details import CodebookNotes, ValueLabels\n",
    "\n",
    "os.chdir('/home/brian/Documents/CPS/data/clean/')"
   ]
  },
  {
   "cell_type": "code",
   "execution_count": 2,
   "metadata": {
    "ExecuteTime": {
     "end_time": "2022-07-13T21:56:29.037535Z",
     "start_time": "2022-07-13T21:53:47.593660Z"
    },
    "code_folding": [
     0
    ],
    "run_control": {
     "marked": false
    }
   },
   "outputs": [],
   "source": [
    "# Go through data and store requested details\n",
    "d = {}\n",
    "\n",
    "for year in range(1989, 2023):\n",
    "    data = pd.read_feather(f'cps{year}.ft')\n",
    "    for month, df in data.groupby('MONTH'):\n",
    "        date = pd.to_datetime(f'{year}-{month}-01')\n",
    "        variables = list(df.keys())\n",
    "        for var in variables:\n",
    "            \n",
    "            values_list = list(df[var].dropna().unique())\n",
    "            \n",
    "            if (var in d.keys()) and (len(values_list) > 1):\n",
    "\n",
    "                date_list = d[var]['avail']\n",
    "                date_list.append(date)\n",
    "                \n",
    "                dtypes = d[var]['dtype']\n",
    "                if df[var].dtype.name not in dtypes:\n",
    "                    if len(dtypes) > 0:\n",
    "                        d[var]['breaks'].append(date)\n",
    "                    dtypes.append(df[var].dtype.name)\n",
    "                    \n",
    "                if len(values_list) < 100 and 'HHID2' not in var and 'OTC' not in var and 'PRICE' not in var:\n",
    "                    values = d[var]['values']\n",
    "                    for value in values_list:\n",
    "                        if value not in values:\n",
    "                            values.append(value)\n",
    "                else:\n",
    "                    loc_max = sorted(values_list)[-1]\n",
    "                    loc_min = sorted(values_list)[0]\n",
    "                    if d[var]['max_val'] == None:\n",
    "                        max_val = loc_max\n",
    "                        min_val = loc_min\n",
    "                    if d[var]['max_val'] != None:\n",
    "                        max_val = d[var]['max_val']\n",
    "                        min_val = d[var]['min_val']\n",
    "\n",
    "                    if loc_max >= max_val:\n",
    "                        d[var]['max_val'] = loc_max\n",
    "                    if loc_min <= min_val:\n",
    "                        d[var]['min_val'] = loc_min\n",
    "                          \n",
    "            if (var not in d.keys()) and (len(values_list) > 1):\n",
    "                d[var] = {}\n",
    "                d[var]['breaks'] = []\n",
    "                d[var]['max_val'] = None\n",
    "                d[var]['min_val'] = None\n",
    "                d[var]['avail'] = [date]\n",
    "                d[var]['dtype'] = [df[var].dtype.name]\n",
    "                if len(values_list) < 100 and len(values_list) > 0:\n",
    "                    d[var]['values'] = values_list\n",
    "                else:\n",
    "                    d[var]['values'] = []\n",
    "                    \n",
    "for key, values in d.items():\n",
    "    avail = sorted(values['avail'])\n",
    "    max_date = avail[-1].strftime('%Y-%m')\n",
    "    values['date_max'] = max_date\n",
    "    min_date = avail[0].strftime('%Y-%m')\n",
    "    values['date_min'] = min_date                    "
   ]
  },
  {
   "cell_type": "markdown",
   "metadata": {},
   "source": [
    "## Print Codebook"
   ]
  },
  {
   "cell_type": "code",
   "execution_count": 3,
   "metadata": {
    "ExecuteTime": {
     "end_time": "2022-07-13T21:56:29.047586Z",
     "start_time": "2022-07-13T21:56:29.038481Z"
    },
    "code_folding": [
     0
    ],
    "run_control": {
     "marked": false
    },
    "scrolled": false
   },
   "outputs": [],
   "source": [
    "# Print out the bd CPS codebook\n",
    "print('\\n========================\\n\\n    bd CPS Codebook'\n",
    "      '\\n\\n========================\\n')\n",
    "today = pd.to_datetime('today').strftime('%B %d, %Y')\n",
    "print(f'updated: {today}\\n\\nvariables:\\n')\n",
    "for key, values in d.items():\n",
    "    if key in CodebookNotes.keys():\n",
    "        print(f'{key} - {CodebookNotes[key][\"Name\"]}')\n",
    "        print(f'    Notes: {CodebookNotes[key][\"Notes\"]}')\n",
    "    else:\n",
    "        print(f'{key}')\n",
    "    print(f'    Data types: {values[\"dtype\"]}')\n",
    "    print(f'    Available from: {values[\"date_min\"]} to: {values[\"date_max\"]}')\n",
    "    if len(values['breaks']) > 0:\n",
    "          print(f'    Breaks in dtype: {values[\"breaks\"]}')\n",
    "    print('    Value range: ')\n",
    "    if len(sorted(values['values'])) > 0:\n",
    "        print(sorted(values['values']))\n",
    "    else:\n",
    "        print(f'{values[\"min_val\"]} to {values[\"max_val\"]}')\n",
    "    print('\\n\\n')\n",
    "print('\\n==============================\\n\\n    Variable value labels'\n",
    "      '\\n\\n==============================\\n\\n')\n",
    "print('2018 Occupation codes (OCC18):\\n')\n",
    "for key, value in ValueLabels['OCC18'].items():\n",
    "    print(f'{key}     {value}')\n",
    "              \n",
    "print('\\n\\n2010 Occupation detailed recodes (OCC03D):\\n')\n",
    "for key, value in ValueLabels['OCC03D'].items():\n",
    "    print(f'{key}     {value}')\n",
    "              \n",
    "print('\\n\\n2010 Occupation major recodes (OCC03M):\\n')\n",
    "for key, value in ValueLabels['OCC03M'].items():\n",
    "    print(f'{key}     {value}')\n",
    "              \n",
    "print('\\n\\n\\n2017 Industry codes (IND17):\\n')\n",
    "for key, value in ValueLabels['IND17'].items():\n",
    "    print(f'{key}     {value}')\n",
    "              \n",
    "print('\\n\\n2012 Industry detailed recodes (IND03D):\\n')\n",
    "for key, value in ValueLabels['IND03D'].items():\n",
    "    print(f'{key}     {value}')\n",
    "              \n",
    "print('\\n\\n2012 Industry major recodes (IND03M):\\n')\n",
    "for key, value in ValueLabels['IND03M'].items():\n",
    "    print(f'{key}     {value}')\n",
    "              \n",
    "print('\\n\\nCore-based statistical areas (CBSA):\\n')\n",
    "for key, value in ValueLabels['CBSA'].items():\n",
    "    print(f'{key}     {value}')\n",
    "              \n",
    "print('\\n\\nConsolidated statistical areas (CSA):\\n')\n",
    "for key, value in ValueLabels['CSA'].items():\n",
    "    print(f'{key}     {value}')\n",
    "              \n",
    "print('\\n\\nCounties (COUNTY):\\n')\n",
    "for key, value in ValueLabels['COUNTY'].items():\n",
    "    print(f'{key}     {value}')"
   ]
  },
  {
   "cell_type": "code",
   "execution_count": 4,
   "metadata": {
    "ExecuteTime": {
     "end_time": "2022-07-13T21:56:29.069107Z",
     "start_time": "2022-07-13T21:56:29.048843Z"
    },
    "code_folding": []
   },
   "outputs": [],
   "source": [
    "#sys.stdout = old_stdout\n",
    "\n",
    "#codebook = open('/home/brian/Documents/econ_data/bd_CPS/codebook.txt', 'r').read()\n",
    "#print(codebook)"
   ]
  }
 ],
 "metadata": {
  "kernelspec": {
   "display_name": "Python 3 (ipykernel)",
   "language": "python",
   "name": "python3"
  },
  "language_info": {
   "codemirror_mode": {
    "name": "ipython",
    "version": 3
   },
   "file_extension": ".py",
   "mimetype": "text/x-python",
   "name": "python",
   "nbconvert_exporter": "python",
   "pygments_lexer": "ipython3",
   "version": "3.8.8"
  }
 },
 "nbformat": 4,
 "nbformat_minor": 2
}
