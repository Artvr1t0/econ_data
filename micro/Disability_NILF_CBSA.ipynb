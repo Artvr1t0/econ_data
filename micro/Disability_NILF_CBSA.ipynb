{
 "cells": [
  {
   "cell_type": "code",
   "execution_count": 1,
   "metadata": {
    "ExecuteTime": {
     "end_time": "2018-11-15T21:02:01.829000Z",
     "start_time": "2018-11-15T21:02:01.495325Z"
    }
   },
   "outputs": [],
   "source": [
    "# Import python packages\n",
    "import pandas as pd\n",
    "import numpy as np\n",
    "import calendar"
   ]
  },
  {
   "cell_type": "code",
   "execution_count": null,
   "metadata": {},
   "outputs": [],
   "source": []
  },
  {
   "cell_type": "code",
   "execution_count": 2,
   "metadata": {
    "ExecuteTime": {
     "end_time": "2018-11-15T21:02:01.842091Z",
     "start_time": "2018-11-15T21:02:01.831818Z"
    }
   },
   "outputs": [],
   "source": [
    "# Generate a list of file names matching the Census microdata files\n",
    "latest_month = '10/1/2018'\n",
    "cps_files = [f'{calendar.month_abbr[m.month].lower()}{m.year % 100}pub.dat' \n",
    "               for m in pd.date_range(end=latest_month, periods=24, freq='MS')]"
   ]
  },
  {
   "cell_type": "code",
   "execution_count": 3,
   "metadata": {
    "ExecuteTime": {
     "end_time": "2018-11-15T21:02:01.850766Z",
     "start_time": "2018-11-15T21:02:01.844310Z"
    }
   },
   "outputs": [],
   "source": [
    "# Microdata files are fixed-width\n",
    "# The variable locations are from the data dictionary\n",
    "cps_vars = [('GTCBSA', 95, 100),     # CBSA (geo area)\n",
    "            ('PRTAGE', 121, 123),    # Person's age\n",
    "            ('PEMLR', 179, 181),     # Person's labor market status\n",
    "            ('PWCMPWGT', 845, 855)]  # Person's composite weight\n",
    "\n",
    "path = '/home/brian/Documents/CPS/data'  # Location of microdata files"
   ]
  },
  {
   "cell_type": "code",
   "execution_count": 4,
   "metadata": {
    "ExecuteTime": {
     "end_time": "2018-11-15T21:02:41.614393Z",
     "start_time": "2018-11-15T21:02:01.853831Z"
    }
   },
   "outputs": [],
   "source": [
    "d = {} # Empty dictionary to store monthly files\n",
    "for file in cps_files:\n",
    "    d[file] = (pd.read_fwf(f'{path}/{file}', \n",
    "                          colspecs=[[v[1], v[2]] for v in cps_vars],\n",
    "                          names=[v[0] for v in cps_vars])\n",
    "               .query('PEMLR != -1 and PWCMPWGT > 0 and GTCBSA > 0 '\n",
    "                      'and PRTAGE > 15 and PRTAGE < 65'))\n",
    "\n",
    "df = pd.concat(d, ignore_index=True)     # Combine into one dataframe"
   ]
  },
  {
   "cell_type": "code",
   "execution_count": 5,
   "metadata": {
    "ExecuteTime": {
     "end_time": "2018-11-15T21:02:41.695900Z",
     "start_time": "2018-11-15T21:02:41.617020Z"
    }
   },
   "outputs": [
    {
     "name": "stdout",
     "output_type": "stream",
     "text": [
      "Between 516 and 80148 observations per CBSA\n"
     ]
    }
   ],
   "source": [
    "# Check sample size to make sure I have at least 500 observations\n",
    "min_obs = df.groupby('GTCBSA')['PEMLR'].agg('count').min()\n",
    "max_obs = df.groupby('GTCBSA')['PEMLR'].agg('count').max()\n",
    "\n",
    "print(f'Between {min_obs} and {max_obs} observations per CBSA')"
   ]
  },
  {
   "cell_type": "code",
   "execution_count": 6,
   "metadata": {
    "ExecuteTime": {
     "end_time": "2018-11-15T21:02:41.740639Z",
     "start_time": "2018-11-15T21:02:41.698079Z"
    }
   },
   "outputs": [
    {
     "data": {
      "text/plain": [
       "GTCBSA\n",
       "47220      516\n",
       "13980      581\n",
       "16060      656\n",
       "12020      705\n",
       "40980      705\n",
       "27780      723\n",
       "48140      735\n",
       "36780      735\n",
       "14020      798\n",
       "47580      821\n",
       "31420      866\n",
       "35660      878\n",
       "12700      886\n",
       "27500      893\n",
       "22500      897\n",
       "29200      914\n",
       "15680      946\n",
       "48660      953\n",
       "42020      965\n",
       "40220      970\n",
       "14010      980\n",
       "10180      997\n",
       "25940     1003\n",
       "47380     1010\n",
       "34740     1011\n",
       "16540     1015\n",
       "24020     1031\n",
       "39140     1037\n",
       "23580     1044\n",
       "39820     1045\n",
       "         ...  \n",
       "12580    11391\n",
       "16740    11528\n",
       "41620    11997\n",
       "41180    12620\n",
       "19740    12655\n",
       "28140    12778\n",
       "14260    13117\n",
       "45300    13170\n",
       "41740    14062\n",
       "10740    14787\n",
       "38900    16539\n",
       "33460    16765\n",
       "29820    17885\n",
       "40140    18698\n",
       "46520    19055\n",
       "19820    19259\n",
       "42660    19297\n",
       "38060    20053\n",
       "41860    20192\n",
       "39300    20779\n",
       "33100    24513\n",
       "12060    25139\n",
       "26420    27239\n",
       "19100    29597\n",
       "37980    32647\n",
       "14460    35310\n",
       "16980    40957\n",
       "47900    55994\n",
       "31080    60165\n",
       "35620    80148\n",
       "Name: PEMLR, Length: 260, dtype: int64"
      ]
     },
     "execution_count": 6,
     "metadata": {},
     "output_type": "execute_result"
    }
   ],
   "source": [
    "df.groupby('GTCBSA')['PEMLR'].agg('count').sort_values()"
   ]
  },
  {
   "cell_type": "code",
   "execution_count": 7,
   "metadata": {
    "ExecuteTime": {
     "end_time": "2018-11-15T21:02:41.947036Z",
     "start_time": "2018-11-15T21:02:41.742777Z"
    }
   },
   "outputs": [],
   "source": [
    "# Calculate disabled NILF share of age group, by CBSA\n",
    "dis = lambda x: np.average(np.where(x['PEMLR'] == 6, 1, 0), weights=x['PWCMPWGT'])\n",
    "dis_list = df.groupby('GTCBSA').apply(dis)\n",
    "dis_list.index = dis_list.index.map(str)"
   ]
  },
  {
   "cell_type": "code",
   "execution_count": 8,
   "metadata": {
    "ExecuteTime": {
     "end_time": "2018-11-15T21:02:41.956101Z",
     "start_time": "2018-11-15T21:02:41.948956Z"
    }
   },
   "outputs": [],
   "source": [
    "# Decide where to split the color codes for the map\n",
    "bins = [0.01, 0.02, 0.04, 0.06, 0.08, 0.1, 0.12, 0.2]\n",
    "colors = ['#4d9221', '#a1d76a', '#e6f5d0', '#f7f7f7', '#fde0ef', '#e9a3c9', '#c51b7d']\n",
    "colormap = pd.cut(dis_list, bins, labels=colors).to_dict()"
   ]
  },
  {
   "cell_type": "code",
   "execution_count": null,
   "metadata": {},
   "outputs": [],
   "source": []
  },
  {
   "cell_type": "code",
   "execution_count": 9,
   "metadata": {
    "ExecuteTime": {
     "end_time": "2018-11-15T21:02:42.304992Z",
     "start_time": "2018-11-15T21:02:41.958274Z"
    }
   },
   "outputs": [],
   "source": [
    "%matplotlib inline\n",
    "from mpl_toolkits.basemap import Basemap\n",
    "from mpl_toolkits.axes_grid1.inset_locator import inset_axes\n",
    "import matplotlib.pyplot as plt\n",
    "from matplotlib.patches import Polygon"
   ]
  },
  {
   "cell_type": "code",
   "execution_count": 10,
   "metadata": {
    "ExecuteTime": {
     "end_time": "2018-11-15T21:02:43.089930Z",
     "start_time": "2018-11-15T21:02:42.307382Z"
    }
   },
   "outputs": [],
   "source": [
    "# Show contiguous US (and move Hawaii, no data for Alaska):\n",
    "m = Basemap(llcrnrlon=-121, llcrnrlat=20, urcrnrlon=-64, urcrnrlat=49,\n",
    "            projection='lcc', lat_1=33, lat_2=45, lon_0=-95)"
   ]
  },
  {
   "cell_type": "code",
   "execution_count": 12,
   "metadata": {
    "ExecuteTime": {
     "end_time": "2018-11-15T21:04:02.881216Z",
     "start_time": "2018-11-15T21:03:47.181898Z"
    }
   },
   "outputs": [
    {
     "ename": "TypeError",
     "evalue": "get_tightbbox() got an unexpected keyword argument 'bbox_extra_artists'",
     "output_type": "error",
     "traceback": [
      "\u001b[0;31m---------------------------------------------------------------------------\u001b[0m",
      "\u001b[0;31mTypeError\u001b[0m                                 Traceback (most recent call last)",
      "\u001b[0;32m<ipython-input-12-de2b63f99e71>\u001b[0m in \u001b[0;36m<module>\u001b[0;34m\u001b[0m\n\u001b[1;32m     42\u001b[0m \u001b[0max_inset\u001b[0m\u001b[0;34m.\u001b[0m\u001b[0mtext\u001b[0m\u001b[0;34m(\u001b[0m\u001b[0;34m-\u001b[0m\u001b[0;36m25\u001b[0m\u001b[0;34m,\u001b[0m \u001b[0;36m7\u001b[0m\u001b[0;34m,\u001b[0m \u001b[0;34m'Value     Count'\u001b[0m\u001b[0;34m)\u001b[0m\u001b[0;34m\u001b[0m\u001b[0;34m\u001b[0m\u001b[0m\n\u001b[1;32m     43\u001b[0m \u001b[0;34m\u001b[0m\u001b[0m\n\u001b[0;32m---> 44\u001b[0;31m \u001b[0mplt\u001b[0m\u001b[0;34m.\u001b[0m\u001b[0msavefig\u001b[0m\u001b[0;34m(\u001b[0m\u001b[0;34m'dis_map.svg'\u001b[0m\u001b[0;34m,\u001b[0m \u001b[0mbbox_inches\u001b[0m\u001b[0;34m=\u001b[0m\u001b[0;34m'tight'\u001b[0m\u001b[0;34m,\u001b[0m \u001b[0mdpi\u001b[0m\u001b[0;34m=\u001b[0m\u001b[0;36m500\u001b[0m\u001b[0;34m)\u001b[0m\u001b[0;34m\u001b[0m\u001b[0;34m\u001b[0m\u001b[0m\n\u001b[0m\u001b[1;32m     45\u001b[0m \u001b[0mplt\u001b[0m\u001b[0;34m.\u001b[0m\u001b[0mshow\u001b[0m\u001b[0;34m(\u001b[0m\u001b[0;34m)\u001b[0m\u001b[0;34m\u001b[0m\u001b[0;34m\u001b[0m\u001b[0m\n",
      "\u001b[0;32m~/miniconda3/envs/bdcps/lib/python3.7/site-packages/matplotlib/pyplot.py\u001b[0m in \u001b[0;36msavefig\u001b[0;34m(*args, **kwargs)\u001b[0m\n\u001b[1;32m    687\u001b[0m \u001b[0;32mdef\u001b[0m \u001b[0msavefig\u001b[0m\u001b[0;34m(\u001b[0m\u001b[0;34m*\u001b[0m\u001b[0margs\u001b[0m\u001b[0;34m,\u001b[0m \u001b[0;34m**\u001b[0m\u001b[0mkwargs\u001b[0m\u001b[0;34m)\u001b[0m\u001b[0;34m:\u001b[0m\u001b[0;34m\u001b[0m\u001b[0;34m\u001b[0m\u001b[0m\n\u001b[1;32m    688\u001b[0m     \u001b[0mfig\u001b[0m \u001b[0;34m=\u001b[0m \u001b[0mgcf\u001b[0m\u001b[0;34m(\u001b[0m\u001b[0;34m)\u001b[0m\u001b[0;34m\u001b[0m\u001b[0;34m\u001b[0m\u001b[0m\n\u001b[0;32m--> 689\u001b[0;31m     \u001b[0mres\u001b[0m \u001b[0;34m=\u001b[0m \u001b[0mfig\u001b[0m\u001b[0;34m.\u001b[0m\u001b[0msavefig\u001b[0m\u001b[0;34m(\u001b[0m\u001b[0;34m*\u001b[0m\u001b[0margs\u001b[0m\u001b[0;34m,\u001b[0m \u001b[0;34m**\u001b[0m\u001b[0mkwargs\u001b[0m\u001b[0;34m)\u001b[0m\u001b[0;34m\u001b[0m\u001b[0;34m\u001b[0m\u001b[0m\n\u001b[0m\u001b[1;32m    690\u001b[0m     \u001b[0mfig\u001b[0m\u001b[0;34m.\u001b[0m\u001b[0mcanvas\u001b[0m\u001b[0;34m.\u001b[0m\u001b[0mdraw_idle\u001b[0m\u001b[0;34m(\u001b[0m\u001b[0;34m)\u001b[0m   \u001b[0;31m# need this if 'transparent=True' to reset colors\u001b[0m\u001b[0;34m\u001b[0m\u001b[0;34m\u001b[0m\u001b[0m\n\u001b[1;32m    691\u001b[0m     \u001b[0;32mreturn\u001b[0m \u001b[0mres\u001b[0m\u001b[0;34m\u001b[0m\u001b[0;34m\u001b[0m\u001b[0m\n",
      "\u001b[0;32m~/miniconda3/envs/bdcps/lib/python3.7/site-packages/matplotlib/figure.py\u001b[0m in \u001b[0;36msavefig\u001b[0;34m(self, fname, frameon, transparent, **kwargs)\u001b[0m\n\u001b[1;32m   2092\u001b[0m             \u001b[0mself\u001b[0m\u001b[0;34m.\u001b[0m\u001b[0mset_frameon\u001b[0m\u001b[0;34m(\u001b[0m\u001b[0mframeon\u001b[0m\u001b[0;34m)\u001b[0m\u001b[0;34m\u001b[0m\u001b[0;34m\u001b[0m\u001b[0m\n\u001b[1;32m   2093\u001b[0m \u001b[0;34m\u001b[0m\u001b[0m\n\u001b[0;32m-> 2094\u001b[0;31m         \u001b[0mself\u001b[0m\u001b[0;34m.\u001b[0m\u001b[0mcanvas\u001b[0m\u001b[0;34m.\u001b[0m\u001b[0mprint_figure\u001b[0m\u001b[0;34m(\u001b[0m\u001b[0mfname\u001b[0m\u001b[0;34m,\u001b[0m \u001b[0;34m**\u001b[0m\u001b[0mkwargs\u001b[0m\u001b[0;34m)\u001b[0m\u001b[0;34m\u001b[0m\u001b[0;34m\u001b[0m\u001b[0m\n\u001b[0m\u001b[1;32m   2095\u001b[0m \u001b[0;34m\u001b[0m\u001b[0m\n\u001b[1;32m   2096\u001b[0m         \u001b[0;32mif\u001b[0m \u001b[0mframeon\u001b[0m\u001b[0;34m:\u001b[0m\u001b[0;34m\u001b[0m\u001b[0;34m\u001b[0m\u001b[0m\n",
      "\u001b[0;32m~/miniconda3/envs/bdcps/lib/python3.7/site-packages/matplotlib/backend_bases.py\u001b[0m in \u001b[0;36mprint_figure\u001b[0;34m(self, filename, dpi, facecolor, edgecolor, orientation, format, bbox_inches, **kwargs)\u001b[0m\n\u001b[1;32m   2051\u001b[0m                     \u001b[0mbbox_artists\u001b[0m \u001b[0;34m=\u001b[0m \u001b[0mkwargs\u001b[0m\u001b[0;34m.\u001b[0m\u001b[0mpop\u001b[0m\u001b[0;34m(\u001b[0m\u001b[0;34m\"bbox_extra_artists\"\u001b[0m\u001b[0;34m,\u001b[0m \u001b[0;32mNone\u001b[0m\u001b[0;34m)\u001b[0m\u001b[0;34m\u001b[0m\u001b[0;34m\u001b[0m\u001b[0m\n\u001b[1;32m   2052\u001b[0m                     bbox_inches = self.figure.get_tightbbox(renderer,\n\u001b[0;32m-> 2053\u001b[0;31m                             bbox_extra_artists=bbox_artists)\n\u001b[0m\u001b[1;32m   2054\u001b[0m                     \u001b[0mpad\u001b[0m \u001b[0;34m=\u001b[0m \u001b[0mkwargs\u001b[0m\u001b[0;34m.\u001b[0m\u001b[0mpop\u001b[0m\u001b[0;34m(\u001b[0m\u001b[0;34m\"pad_inches\"\u001b[0m\u001b[0;34m,\u001b[0m \u001b[0;32mNone\u001b[0m\u001b[0;34m)\u001b[0m\u001b[0;34m\u001b[0m\u001b[0;34m\u001b[0m\u001b[0m\n\u001b[1;32m   2055\u001b[0m                     \u001b[0;32mif\u001b[0m \u001b[0mpad\u001b[0m \u001b[0;32mis\u001b[0m \u001b[0;32mNone\u001b[0m\u001b[0;34m:\u001b[0m\u001b[0;34m\u001b[0m\u001b[0;34m\u001b[0m\u001b[0m\n",
      "\u001b[0;32m~/miniconda3/envs/bdcps/lib/python3.7/site-packages/matplotlib/figure.py\u001b[0m in \u001b[0;36mget_tightbbox\u001b[0;34m(self, renderer, bbox_extra_artists)\u001b[0m\n\u001b[1;32m   2274\u001b[0m         bb.extend(\n\u001b[1;32m   2275\u001b[0m             \u001b[0max\u001b[0m\u001b[0;34m.\u001b[0m\u001b[0mget_tightbbox\u001b[0m\u001b[0;34m(\u001b[0m\u001b[0mrenderer\u001b[0m\u001b[0;34m,\u001b[0m \u001b[0mbbox_extra_artists\u001b[0m\u001b[0;34m=\u001b[0m\u001b[0mbbox_extra_artists\u001b[0m\u001b[0;34m)\u001b[0m\u001b[0;34m\u001b[0m\u001b[0;34m\u001b[0m\u001b[0m\n\u001b[0;32m-> 2276\u001b[0;31m             for ax in self.axes if ax.get_visible())\n\u001b[0m\u001b[1;32m   2277\u001b[0m \u001b[0;34m\u001b[0m\u001b[0m\n\u001b[1;32m   2278\u001b[0m         \u001b[0;32mif\u001b[0m \u001b[0mlen\u001b[0m\u001b[0;34m(\u001b[0m\u001b[0mbb\u001b[0m\u001b[0;34m)\u001b[0m \u001b[0;34m==\u001b[0m \u001b[0;36m0\u001b[0m\u001b[0;34m:\u001b[0m\u001b[0;34m\u001b[0m\u001b[0;34m\u001b[0m\u001b[0m\n",
      "\u001b[0;32m~/miniconda3/envs/bdcps/lib/python3.7/site-packages/matplotlib/figure.py\u001b[0m in \u001b[0;36m<genexpr>\u001b[0;34m(.0)\u001b[0m\n\u001b[1;32m   2274\u001b[0m         bb.extend(\n\u001b[1;32m   2275\u001b[0m             \u001b[0max\u001b[0m\u001b[0;34m.\u001b[0m\u001b[0mget_tightbbox\u001b[0m\u001b[0;34m(\u001b[0m\u001b[0mrenderer\u001b[0m\u001b[0;34m,\u001b[0m \u001b[0mbbox_extra_artists\u001b[0m\u001b[0;34m=\u001b[0m\u001b[0mbbox_extra_artists\u001b[0m\u001b[0;34m)\u001b[0m\u001b[0;34m\u001b[0m\u001b[0;34m\u001b[0m\u001b[0m\n\u001b[0;32m-> 2276\u001b[0;31m             for ax in self.axes if ax.get_visible())\n\u001b[0m\u001b[1;32m   2277\u001b[0m \u001b[0;34m\u001b[0m\u001b[0m\n\u001b[1;32m   2278\u001b[0m         \u001b[0;32mif\u001b[0m \u001b[0mlen\u001b[0m\u001b[0;34m(\u001b[0m\u001b[0mbb\u001b[0m\u001b[0;34m)\u001b[0m \u001b[0;34m==\u001b[0m \u001b[0;36m0\u001b[0m\u001b[0;34m:\u001b[0m\u001b[0;34m\u001b[0m\u001b[0;34m\u001b[0m\u001b[0m\n",
      "\u001b[0;31mTypeError\u001b[0m: get_tightbbox() got an unexpected keyword argument 'bbox_extra_artists'"
     ]
    },
    {
     "data": {
      "text/plain": [
       "<Figure size 432x288 with 0 Axes>"
      ]
     },
     "metadata": {},
     "output_type": "display_data"
    },
    {
     "ename": "TypeError",
     "evalue": "get_tightbbox() got an unexpected keyword argument 'bbox_extra_artists'",
     "output_type": "error",
     "traceback": [
      "\u001b[0;31m---------------------------------------------------------------------------\u001b[0m",
      "\u001b[0;31mTypeError\u001b[0m                                 Traceback (most recent call last)",
      "\u001b[0;32m~/miniconda3/envs/bdcps/lib/python3.7/site-packages/IPython/core/formatters.py\u001b[0m in \u001b[0;36m__call__\u001b[0;34m(self, obj)\u001b[0m\n\u001b[1;32m    339\u001b[0m                 \u001b[0;32mpass\u001b[0m\u001b[0;34m\u001b[0m\u001b[0;34m\u001b[0m\u001b[0m\n\u001b[1;32m    340\u001b[0m             \u001b[0;32melse\u001b[0m\u001b[0;34m:\u001b[0m\u001b[0;34m\u001b[0m\u001b[0;34m\u001b[0m\u001b[0m\n\u001b[0;32m--> 341\u001b[0;31m                 \u001b[0;32mreturn\u001b[0m \u001b[0mprinter\u001b[0m\u001b[0;34m(\u001b[0m\u001b[0mobj\u001b[0m\u001b[0;34m)\u001b[0m\u001b[0;34m\u001b[0m\u001b[0;34m\u001b[0m\u001b[0m\n\u001b[0m\u001b[1;32m    342\u001b[0m             \u001b[0;31m# Finally look for special method names\u001b[0m\u001b[0;34m\u001b[0m\u001b[0;34m\u001b[0m\u001b[0;34m\u001b[0m\u001b[0m\n\u001b[1;32m    343\u001b[0m             \u001b[0mmethod\u001b[0m \u001b[0;34m=\u001b[0m \u001b[0mget_real_method\u001b[0m\u001b[0;34m(\u001b[0m\u001b[0mobj\u001b[0m\u001b[0;34m,\u001b[0m \u001b[0mself\u001b[0m\u001b[0;34m.\u001b[0m\u001b[0mprint_method\u001b[0m\u001b[0;34m)\u001b[0m\u001b[0;34m\u001b[0m\u001b[0;34m\u001b[0m\u001b[0m\n",
      "\u001b[0;32m~/miniconda3/envs/bdcps/lib/python3.7/site-packages/IPython/core/pylabtools.py\u001b[0m in \u001b[0;36m<lambda>\u001b[0;34m(fig)\u001b[0m\n\u001b[1;32m    242\u001b[0m \u001b[0;34m\u001b[0m\u001b[0m\n\u001b[1;32m    243\u001b[0m     \u001b[0;32mif\u001b[0m \u001b[0;34m'png'\u001b[0m \u001b[0;32min\u001b[0m \u001b[0mformats\u001b[0m\u001b[0;34m:\u001b[0m\u001b[0;34m\u001b[0m\u001b[0;34m\u001b[0m\u001b[0m\n\u001b[0;32m--> 244\u001b[0;31m         \u001b[0mpng_formatter\u001b[0m\u001b[0;34m.\u001b[0m\u001b[0mfor_type\u001b[0m\u001b[0;34m(\u001b[0m\u001b[0mFigure\u001b[0m\u001b[0;34m,\u001b[0m \u001b[0;32mlambda\u001b[0m \u001b[0mfig\u001b[0m\u001b[0;34m:\u001b[0m \u001b[0mprint_figure\u001b[0m\u001b[0;34m(\u001b[0m\u001b[0mfig\u001b[0m\u001b[0;34m,\u001b[0m \u001b[0;34m'png'\u001b[0m\u001b[0;34m,\u001b[0m \u001b[0;34m**\u001b[0m\u001b[0mkwargs\u001b[0m\u001b[0;34m)\u001b[0m\u001b[0;34m)\u001b[0m\u001b[0;34m\u001b[0m\u001b[0;34m\u001b[0m\u001b[0m\n\u001b[0m\u001b[1;32m    245\u001b[0m     \u001b[0;32mif\u001b[0m \u001b[0;34m'retina'\u001b[0m \u001b[0;32min\u001b[0m \u001b[0mformats\u001b[0m \u001b[0;32mor\u001b[0m \u001b[0;34m'png2x'\u001b[0m \u001b[0;32min\u001b[0m \u001b[0mformats\u001b[0m\u001b[0;34m:\u001b[0m\u001b[0;34m\u001b[0m\u001b[0;34m\u001b[0m\u001b[0m\n\u001b[1;32m    246\u001b[0m         \u001b[0mpng_formatter\u001b[0m\u001b[0;34m.\u001b[0m\u001b[0mfor_type\u001b[0m\u001b[0;34m(\u001b[0m\u001b[0mFigure\u001b[0m\u001b[0;34m,\u001b[0m \u001b[0;32mlambda\u001b[0m \u001b[0mfig\u001b[0m\u001b[0;34m:\u001b[0m \u001b[0mretina_figure\u001b[0m\u001b[0;34m(\u001b[0m\u001b[0mfig\u001b[0m\u001b[0;34m,\u001b[0m \u001b[0;34m**\u001b[0m\u001b[0mkwargs\u001b[0m\u001b[0;34m)\u001b[0m\u001b[0;34m)\u001b[0m\u001b[0;34m\u001b[0m\u001b[0;34m\u001b[0m\u001b[0m\n",
      "\u001b[0;32m~/miniconda3/envs/bdcps/lib/python3.7/site-packages/IPython/core/pylabtools.py\u001b[0m in \u001b[0;36mprint_figure\u001b[0;34m(fig, fmt, bbox_inches, **kwargs)\u001b[0m\n\u001b[1;32m    126\u001b[0m \u001b[0;34m\u001b[0m\u001b[0m\n\u001b[1;32m    127\u001b[0m     \u001b[0mbytes_io\u001b[0m \u001b[0;34m=\u001b[0m \u001b[0mBytesIO\u001b[0m\u001b[0;34m(\u001b[0m\u001b[0;34m)\u001b[0m\u001b[0;34m\u001b[0m\u001b[0;34m\u001b[0m\u001b[0m\n\u001b[0;32m--> 128\u001b[0;31m     \u001b[0mfig\u001b[0m\u001b[0;34m.\u001b[0m\u001b[0mcanvas\u001b[0m\u001b[0;34m.\u001b[0m\u001b[0mprint_figure\u001b[0m\u001b[0;34m(\u001b[0m\u001b[0mbytes_io\u001b[0m\u001b[0;34m,\u001b[0m \u001b[0;34m**\u001b[0m\u001b[0mkw\u001b[0m\u001b[0;34m)\u001b[0m\u001b[0;34m\u001b[0m\u001b[0;34m\u001b[0m\u001b[0m\n\u001b[0m\u001b[1;32m    129\u001b[0m     \u001b[0mdata\u001b[0m \u001b[0;34m=\u001b[0m \u001b[0mbytes_io\u001b[0m\u001b[0;34m.\u001b[0m\u001b[0mgetvalue\u001b[0m\u001b[0;34m(\u001b[0m\u001b[0;34m)\u001b[0m\u001b[0;34m\u001b[0m\u001b[0;34m\u001b[0m\u001b[0m\n\u001b[1;32m    130\u001b[0m     \u001b[0;32mif\u001b[0m \u001b[0mfmt\u001b[0m \u001b[0;34m==\u001b[0m \u001b[0;34m'svg'\u001b[0m\u001b[0;34m:\u001b[0m\u001b[0;34m\u001b[0m\u001b[0;34m\u001b[0m\u001b[0m\n",
      "\u001b[0;32m~/miniconda3/envs/bdcps/lib/python3.7/site-packages/matplotlib/backend_bases.py\u001b[0m in \u001b[0;36mprint_figure\u001b[0;34m(self, filename, dpi, facecolor, edgecolor, orientation, format, bbox_inches, **kwargs)\u001b[0m\n\u001b[1;32m   2051\u001b[0m                     \u001b[0mbbox_artists\u001b[0m \u001b[0;34m=\u001b[0m \u001b[0mkwargs\u001b[0m\u001b[0;34m.\u001b[0m\u001b[0mpop\u001b[0m\u001b[0;34m(\u001b[0m\u001b[0;34m\"bbox_extra_artists\"\u001b[0m\u001b[0;34m,\u001b[0m \u001b[0;32mNone\u001b[0m\u001b[0;34m)\u001b[0m\u001b[0;34m\u001b[0m\u001b[0;34m\u001b[0m\u001b[0m\n\u001b[1;32m   2052\u001b[0m                     bbox_inches = self.figure.get_tightbbox(renderer,\n\u001b[0;32m-> 2053\u001b[0;31m                             bbox_extra_artists=bbox_artists)\n\u001b[0m\u001b[1;32m   2054\u001b[0m                     \u001b[0mpad\u001b[0m \u001b[0;34m=\u001b[0m \u001b[0mkwargs\u001b[0m\u001b[0;34m.\u001b[0m\u001b[0mpop\u001b[0m\u001b[0;34m(\u001b[0m\u001b[0;34m\"pad_inches\"\u001b[0m\u001b[0;34m,\u001b[0m \u001b[0;32mNone\u001b[0m\u001b[0;34m)\u001b[0m\u001b[0;34m\u001b[0m\u001b[0;34m\u001b[0m\u001b[0m\n\u001b[1;32m   2055\u001b[0m                     \u001b[0;32mif\u001b[0m \u001b[0mpad\u001b[0m \u001b[0;32mis\u001b[0m \u001b[0;32mNone\u001b[0m\u001b[0;34m:\u001b[0m\u001b[0;34m\u001b[0m\u001b[0;34m\u001b[0m\u001b[0m\n",
      "\u001b[0;32m~/miniconda3/envs/bdcps/lib/python3.7/site-packages/matplotlib/figure.py\u001b[0m in \u001b[0;36mget_tightbbox\u001b[0;34m(self, renderer, bbox_extra_artists)\u001b[0m\n\u001b[1;32m   2274\u001b[0m         bb.extend(\n\u001b[1;32m   2275\u001b[0m             \u001b[0max\u001b[0m\u001b[0;34m.\u001b[0m\u001b[0mget_tightbbox\u001b[0m\u001b[0;34m(\u001b[0m\u001b[0mrenderer\u001b[0m\u001b[0;34m,\u001b[0m \u001b[0mbbox_extra_artists\u001b[0m\u001b[0;34m=\u001b[0m\u001b[0mbbox_extra_artists\u001b[0m\u001b[0;34m)\u001b[0m\u001b[0;34m\u001b[0m\u001b[0;34m\u001b[0m\u001b[0m\n\u001b[0;32m-> 2276\u001b[0;31m             for ax in self.axes if ax.get_visible())\n\u001b[0m\u001b[1;32m   2277\u001b[0m \u001b[0;34m\u001b[0m\u001b[0m\n\u001b[1;32m   2278\u001b[0m         \u001b[0;32mif\u001b[0m \u001b[0mlen\u001b[0m\u001b[0;34m(\u001b[0m\u001b[0mbb\u001b[0m\u001b[0;34m)\u001b[0m \u001b[0;34m==\u001b[0m \u001b[0;36m0\u001b[0m\u001b[0;34m:\u001b[0m\u001b[0;34m\u001b[0m\u001b[0;34m\u001b[0m\u001b[0m\n",
      "\u001b[0;32m~/miniconda3/envs/bdcps/lib/python3.7/site-packages/matplotlib/figure.py\u001b[0m in \u001b[0;36m<genexpr>\u001b[0;34m(.0)\u001b[0m\n\u001b[1;32m   2274\u001b[0m         bb.extend(\n\u001b[1;32m   2275\u001b[0m             \u001b[0max\u001b[0m\u001b[0;34m.\u001b[0m\u001b[0mget_tightbbox\u001b[0m\u001b[0;34m(\u001b[0m\u001b[0mrenderer\u001b[0m\u001b[0;34m,\u001b[0m \u001b[0mbbox_extra_artists\u001b[0m\u001b[0;34m=\u001b[0m\u001b[0mbbox_extra_artists\u001b[0m\u001b[0;34m)\u001b[0m\u001b[0;34m\u001b[0m\u001b[0;34m\u001b[0m\u001b[0m\n\u001b[0;32m-> 2276\u001b[0;31m             for ax in self.axes if ax.get_visible())\n\u001b[0m\u001b[1;32m   2277\u001b[0m \u001b[0;34m\u001b[0m\u001b[0m\n\u001b[1;32m   2278\u001b[0m         \u001b[0;32mif\u001b[0m \u001b[0mlen\u001b[0m\u001b[0;34m(\u001b[0m\u001b[0mbb\u001b[0m\u001b[0;34m)\u001b[0m \u001b[0;34m==\u001b[0m \u001b[0;36m0\u001b[0m\u001b[0;34m:\u001b[0m\u001b[0;34m\u001b[0m\u001b[0;34m\u001b[0m\u001b[0m\n",
      "\u001b[0;31mTypeError\u001b[0m: get_tightbbox() got an unexpected keyword argument 'bbox_extra_artists'"
     ]
    },
    {
     "data": {
      "text/plain": [
       "<Figure size 1152x576 with 2 Axes>"
      ]
     },
     "metadata": {},
     "output_type": "display_data"
    }
   ],
   "source": [
    "plt.gcf()\n",
    "plt.figure(figsize=(16,8))\n",
    "\n",
    "# Read the shapefiles contained in the Shape folder\n",
    "m.readshapefile('Shape/st99_d00', 'states', drawbounds=True, color='gray')\n",
    "m.readshapefile('Shape/tl_2013_us_cbsa', 'cbsa', drawbounds=False)\n",
    "ax = plt.gca()\n",
    "\n",
    "for info, shape in zip(m.states_info, m.states):\n",
    "    seg = shape\n",
    "    if info['NAME'] == 'Hawaii' and float(info['AREA']) > 0.005:\n",
    "        seg = [[x + 5200000, y-1400000] for x,y in shape]\n",
    "    ax.add_patch(Polygon(seg, facecolor='white', edgecolor='gray', linewidth=0.5))\n",
    "\n",
    "for info, shape in zip(m.cbsa_info, m.cbsa):\n",
    "    if info['GEOID'] in colormap.keys(): \n",
    "        color = colormap[info['GEOID']]\n",
    "        seg = shape\n",
    "        if info['NAME'][-2:] == 'HI' and info['RINGNUM'] == 1:\n",
    "            seg = [[x + 5200000, y-1400000] for x,y in shape]\n",
    "        ax.add_patch(Polygon(seg, facecolor=color, edgecolor=color))   \n",
    "\n",
    "plt.title('Share of age 16-64 population that is out of work due to disability', \n",
    "          fontsize=16, fontweight=800, loc='left', color='dimgrey')\n",
    "plt.annotate('Source: Current Population Survey microdata, November 2016 to October 2018',\n",
    "             (0,0), (0, 0), fontsize=10, xycoords='axes fraction',\n",
    "             textcoords='offset points', va='top')\n",
    "\n",
    "ax.axis('off')\n",
    "\n",
    "ax_inset = inset_axes(ax, width=\"16%\", height=\"26%\", loc=3, borderpad=3.6)\n",
    "bars = list(pd.cut(dis_list, bins).reset_index().groupby(0)['GTCBSA'].nunique().values)\n",
    "labels = [f'{int(x.left*100)} – {int(x.right*100)}%' \n",
    "          for x in pd.cut(dis_list, bins).sort_values().unique()[:-1]]\n",
    "labels.append('12%+')\n",
    "ax_inset.barh(list(range(0, len(bars))), bars, align='center', color=colors)\n",
    "ax_inset.axis('off')\n",
    "for i, bar in enumerate(bars):\n",
    "    ax_inset.text(bar+2, i, bar, fontsize=9, va='center')\n",
    "for i, label in enumerate(labels):\n",
    "    ax_inset.text(-2, i, label, fontsize=9, va='center', ha='right')\n",
    "ax_inset.text(-25, 7, 'Value     Count')\n",
    "\n",
    "plt.savefig('dis_map.svg', bbox_inches='tight', dpi=500)\n",
    "plt.show()"
   ]
  },
  {
   "cell_type": "code",
   "execution_count": null,
   "metadata": {},
   "outputs": [],
   "source": []
  },
  {
   "cell_type": "code",
   "execution_count": null,
   "metadata": {
    "ExecuteTime": {
     "end_time": "2018-11-14T20:58:39.430619Z",
     "start_time": "2018-11-14T20:58:39.423834Z"
    }
   },
   "outputs": [],
   "source": [
    "cbsas = {c['GEOID']: c['NAME'] for c in m.cbsa_info}\n",
    "for cbsa, val in dis_list.sort_values().iteritems():\n",
    "    print(f'{cbsas[str(cbsa)]}: {round(val * 100, 1)}%')"
   ]
  },
  {
   "cell_type": "code",
   "execution_count": null,
   "metadata": {},
   "outputs": [],
   "source": []
  },
  {
   "cell_type": "code",
   "execution_count": null,
   "metadata": {},
   "outputs": [],
   "source": []
  },
  {
   "cell_type": "code",
   "execution_count": null,
   "metadata": {},
   "outputs": [],
   "source": []
  },
  {
   "cell_type": "code",
   "execution_count": null,
   "metadata": {},
   "outputs": [],
   "source": []
  },
  {
   "cell_type": "code",
   "execution_count": null,
   "metadata": {},
   "outputs": [],
   "source": []
  },
  {
   "cell_type": "code",
   "execution_count": null,
   "metadata": {},
   "outputs": [],
   "source": []
  },
  {
   "cell_type": "code",
   "execution_count": null,
   "metadata": {},
   "outputs": [],
   "source": []
  },
  {
   "cell_type": "code",
   "execution_count": null,
   "metadata": {},
   "outputs": [],
   "source": []
  },
  {
   "cell_type": "code",
   "execution_count": null,
   "metadata": {},
   "outputs": [],
   "source": []
  },
  {
   "cell_type": "code",
   "execution_count": null,
   "metadata": {},
   "outputs": [],
   "source": []
  },
  {
   "cell_type": "code",
   "execution_count": null,
   "metadata": {
    "ExecuteTime": {
     "end_time": "2018-08-14T19:42:11.914278Z",
     "start_time": "2018-08-14T19:42:11.898654Z"
    },
    "scrolled": true
   },
   "outputs": [],
   "source": [
    "bars = list(pd.cut(dis_list, bins).reset_index().groupby(0)['GTCBSA'].nunique().values)\n",
    "labels = [f'{round(x.left*100,0)}-{round(x.right*100,0)}%' for x in pd.cut(dis_list, bins).sort_values().unique()[:-1]]"
   ]
  },
  {
   "cell_type": "code",
   "execution_count": null,
   "metadata": {
    "ExecuteTime": {
     "end_time": "2018-08-14T19:36:28.930342Z",
     "start_time": "2018-08-14T19:36:28.914719Z"
    }
   },
   "outputs": [],
   "source": [
    "bars = pd.Series(colormap).reset_index().groupby(0)['index'].nunique().reset_index()"
   ]
  },
  {
   "cell_type": "code",
   "execution_count": null,
   "metadata": {
    "ExecuteTime": {
     "end_time": "2018-08-14T19:42:50.273603Z",
     "start_time": "2018-08-14T19:42:50.257980Z"
    }
   },
   "outputs": [],
   "source": [
    "list(range(0, len(bars)))"
   ]
  },
  {
   "cell_type": "code",
   "execution_count": null,
   "metadata": {
    "ExecuteTime": {
     "end_time": "2018-08-14T20:13:35.232165Z",
     "start_time": "2018-08-14T20:13:35.216540Z"
    }
   },
   "outputs": [],
   "source": [
    "from mpl_toolkits.axes_grid1.inset_locator import inset_axes"
   ]
  },
  {
   "cell_type": "code",
   "execution_count": null,
   "metadata": {
    "ExecuteTime": {
     "end_time": "2018-08-14T20:03:42.157863Z",
     "start_time": "2018-08-14T20:03:42.048490Z"
    }
   },
   "outputs": [],
   "source": [
    "bars = list(pd.cut(dis_list, bins).reset_index().groupby(0)['GTCBSA'].nunique().values)\n",
    "labels = [f'{int(x.left*100)} - {int(x.right*100)}%' for x in pd.cut(dis_list, bins).sort_values().unique()[:-1]]\n",
    "labels.append('12%+')\n",
    "plt.gcf()\n",
    "plt.figure(figsize=(3,3))\n",
    "plt.barh(list(range(0, len(bars))), bars, align='center', color=colors)\n",
    "plt.axis('off')\n",
    "for i, bar in enumerate(bars):\n",
    "    plt.text(bar+2, i, bar, fontsize=10, verticalalignment='center')\n",
    "for i, label in enumerate(labels):\n",
    "    plt.text(-1, i, label, fontsize=9, verticalalignment='center', horizontalalignment='right')"
   ]
  },
  {
   "cell_type": "code",
   "execution_count": null,
   "metadata": {
    "ExecuteTime": {
     "end_time": "2018-08-14T19:58:23.471571Z",
     "start_time": "2018-08-14T19:58:23.440321Z"
    }
   },
   "outputs": [],
   "source": [
    "labels = [f'{round(x.left*100,0)}-{round(x.right*100,0)}%' for x in pd.cut(dis_list, bins).sort_values().unique()[:-1]]"
   ]
  },
  {
   "cell_type": "code",
   "execution_count": null,
   "metadata": {
    "ExecuteTime": {
     "end_time": "2018-08-14T19:58:32.112184Z",
     "start_time": "2018-08-14T19:58:32.096560Z"
    }
   },
   "outputs": [],
   "source": [
    "labels"
   ]
  },
  {
   "cell_type": "code",
   "execution_count": null,
   "metadata": {
    "ExecuteTime": {
     "end_time": "2018-08-14T19:58:30.143437Z",
     "start_time": "2018-08-14T19:58:30.127811Z"
    }
   },
   "outputs": [],
   "source": [
    "labels.append('12%+')"
   ]
  },
  {
   "cell_type": "code",
   "execution_count": null,
   "metadata": {
    "ExecuteTime": {
     "end_time": "2018-08-14T19:54:43.737476Z",
     "start_time": "2018-08-14T19:54:43.721851Z"
    }
   },
   "outputs": [],
   "source": [
    "[[s.left, s.right] for s in pd.cut(dis_list, bins).sort_values().unique()]"
   ]
  },
  {
   "cell_type": "code",
   "execution_count": null,
   "metadata": {
    "ExecuteTime": {
     "end_time": "2018-08-14T19:40:36.492526Z",
     "start_time": "2018-08-14T19:40:36.476899Z"
    }
   },
   "outputs": [],
   "source": [
    "bars.sort_values(by=0)"
   ]
  },
  {
   "cell_type": "code",
   "execution_count": null,
   "metadata": {
    "ExecuteTime": {
     "end_time": "2018-08-14T19:38:04.570845Z",
     "start_time": "2018-08-14T19:38:04.539594Z"
    }
   },
   "outputs": [],
   "source": [
    "bars"
   ]
  },
  {
   "cell_type": "code",
   "execution_count": null,
   "metadata": {},
   "outputs": [],
   "source": []
  },
  {
   "cell_type": "code",
   "execution_count": null,
   "metadata": {},
   "outputs": [],
   "source": []
  },
  {
   "cell_type": "code",
   "execution_count": null,
   "metadata": {
    "ExecuteTime": {
     "end_time": "2018-08-14T17:56:37.912011Z",
     "start_time": "2018-08-14T17:56:37.896383Z"
    }
   },
   "outputs": [],
   "source": [
    "# cbsas = {c['GEOID']: c['NAME'] for c in m.cbsa_info}\n",
    "# for cbsa, val in dis_list.iteritems():\n",
    "#     print(f'{cbsas[str(cbsa)]}: {round(val * 100, 1)}%')\n",
    "\n",
    "# bins = pd.IntervalIndex.from_tuples([(0, 0.02), \n",
    "#                                      (0.02, 0.04), \n",
    "#                                      (0.04, 0.06), \n",
    "#                                      (0.06, 0.08), \n",
    "#                                      (0.08, 0.10), \n",
    "#                                      (0.10, 0.12), \n",
    "#                                      (0.12, 0.2)])\n",
    "\n",
    "bins = [0, 0.02, 0.04, 0.06, 0.08, 0.1, 0.12, 0.2]\n",
    "colors = ['#4d9221', '#a1d76a', '#e6f5d0', '#f7f7f7', '#fde0ef', '#e9a3c9', '#c51b7d']\n",
    "colormap = pd.cut(dis_list, bins, labels=colors).to_dict()"
   ]
  },
  {
   "cell_type": "code",
   "execution_count": null,
   "metadata": {
    "ExecuteTime": {
     "end_time": "2018-08-14T17:47:15.132833Z",
     "start_time": "2018-08-14T17:47:15.101579Z"
    }
   },
   "outputs": [],
   "source": [
    "dis_list"
   ]
  },
  {
   "cell_type": "code",
   "execution_count": null,
   "metadata": {},
   "outputs": [],
   "source": []
  },
  {
   "cell_type": "code",
   "execution_count": null,
   "metadata": {},
   "outputs": [],
   "source": []
  },
  {
   "cell_type": "code",
   "execution_count": null,
   "metadata": {},
   "outputs": [],
   "source": []
  },
  {
   "cell_type": "code",
   "execution_count": null,
   "metadata": {},
   "outputs": [],
   "source": []
  },
  {
   "cell_type": "code",
   "execution_count": null,
   "metadata": {
    "ExecuteTime": {
     "end_time": "2018-08-14T19:11:53.106422Z",
     "start_time": "2018-08-14T19:11:53.090796Z"
    }
   },
   "outputs": [],
   "source": [
    "m(3990140.533171402, 2005714.2148839906)"
   ]
  },
  {
   "cell_type": "code",
   "execution_count": null,
   "metadata": {},
   "outputs": [],
   "source": []
  },
  {
   "cell_type": "code",
   "execution_count": null,
   "metadata": {
    "ExecuteTime": {
     "end_time": "2018-08-14T19:10:43.042695Z",
     "start_time": "2018-08-14T19:10:19.448525Z"
    }
   },
   "outputs": [],
   "source": [
    "m.cbsa"
   ]
  },
  {
   "cell_type": "code",
   "execution_count": null,
   "metadata": {},
   "outputs": [],
   "source": []
  },
  {
   "cell_type": "code",
   "execution_count": null,
   "metadata": {
    "ExecuteTime": {
     "end_time": "2018-08-14T15:09:02.078147Z",
     "start_time": "2018-08-14T15:09:01.937524Z"
    }
   },
   "outputs": [],
   "source": [
    "%matplotlib inline\n",
    "dis_list.hist()"
   ]
  },
  {
   "cell_type": "code",
   "execution_count": null,
   "metadata": {},
   "outputs": [],
   "source": []
  },
  {
   "cell_type": "code",
   "execution_count": null,
   "metadata": {
    "ExecuteTime": {
     "end_time": "2018-08-14T16:27:41.900577Z",
     "start_time": "2018-08-14T16:27:41.884952Z"
    }
   },
   "outputs": [],
   "source": [
    "%matplotlib inline\n",
    "from mpl_toolkits.basemap import Basemap\n",
    "import matplotlib.pyplot as plt\n",
    "from matplotlib.patches import Polygon\n",
    "from matplotlib.collections import PatchCollection\n",
    "from matplotlib.patches import PathPatch"
   ]
  },
  {
   "cell_type": "code",
   "execution_count": null,
   "metadata": {
    "ExecuteTime": {
     "end_time": "2018-08-14T15:53:01.446312Z",
     "start_time": "2018-08-14T15:53:01.040049Z"
    }
   },
   "outputs": [],
   "source": [
    "# Show full US:\n",
    "m = Basemap(llcrnrlon=-121, llcrnrlat=20, urcrnrlon=-64, urcrnrlat=49,\n",
    "            projection='lcc', lat_1=33, lat_2=45, lon_0=-95)"
   ]
  },
  {
   "cell_type": "code",
   "execution_count": null,
   "metadata": {
    "ExecuteTime": {
     "end_time": "2018-08-14T17:33:28.925678Z",
     "start_time": "2018-08-14T17:33:21.050695Z"
    }
   },
   "outputs": [],
   "source": [
    "plt.gcf()\n",
    "fig = plt.figure(figsize=(16,8))\n",
    "\n",
    "# Read the shapefile contained in the same folder (and the two related files)\n",
    "m.readshapefile('Shape/st99_d00', 'states', drawbounds=True, color='grey')\n",
    "m.readshapefile('Shape/tl_2013_us_cbsa', 'cbsa', drawbounds=False, color='grey')\n",
    "ax = plt.gca()\n",
    "\n",
    "for shape in m.states_info:\n",
    "    sh_num = int(shape['SHAPENUM'] - 1)\n",
    "    if shape['NAME'] == 'Hawaii' and float(shape['AREA']) > 0.005:\n",
    "        seg = [tuple([x + 5200000, y-1400000]) for x,y in m.states[sh_num]]\n",
    "    elif shape['NAME'] == 'Alaska' and float(shape['AREA']) > 0.0005:\n",
    "        seg = [tuple([0.35*x + 1100000, 0.35*y-1300000]) for x,y in m.states[sh_num]]\n",
    "    poly = Polygon(seg, facecolor='white', edgecolor='gray', linewidth=.5)\n",
    "    ax.add_patch(poly) \n",
    "\n",
    "for info, shape in zip(m.cbsa_info, m.cbsa):\n",
    "    if info['GEOID'] in list(dis_list[:5].index.astype('str')):\n",
    "        ax.add_patch(Polygon(shape, facecolor='blue'))    \n",
    "    \n",
    "# vlow = []\n",
    "# for info, shape in zip(m.cbsa_info, m.cbsa):\n",
    "#     if info['GEOID'] in list(dis_list[:5].index.astype('str')):\n",
    "#         vlow.append(Polygon(np.array(shape), True))\n",
    "#     if info ['NAME'][-2:] == 'HI' and info['RINGNUM'] == 1:\n",
    "#         poly = Polygon(np.array([tuple([x + 5200000, y-1400000]) for x,y in shape]), True)\n",
    "#         vlow.append(poly)\n",
    "#     if info ['NAME'][-2:] == 'AK' and info['RINGNUM'] == 1:\n",
    "#         poly = Polygon(np.array([tuple([0.35*x + 1100000, 0.35*y-1300000]) for x,y in shape]), True)\n",
    "#         vlow.append(poly)\n",
    "    \n",
    "# ax.add_collection(\n",
    "#     PatchCollection(vlow, facecolor='#4d9221', edgecolor='gray', \n",
    "#                     alpha=0.8, zorder=2))\n",
    "\n",
    "ax.axis('off')\n",
    "plt.show()"
   ]
  },
  {
   "cell_type": "code",
   "execution_count": null,
   "metadata": {
    "ExecuteTime": {
     "end_time": "2018-08-14T17:28:51.707549Z",
     "start_time": "2018-08-14T17:28:51.691924Z"
    }
   },
   "outputs": [],
   "source": [
    "vlow"
   ]
  },
  {
   "cell_type": "code",
   "execution_count": null,
   "metadata": {
    "ExecuteTime": {
     "end_time": "2018-08-14T17:28:46.160687Z",
     "start_time": "2018-08-14T17:28:46.145061Z"
    }
   },
   "outputs": [],
   "source": [
    "PatchCollection(vlow, facecolor='#4d9221', edgecolor='gray', \n",
    "                    alpha=0.8, zorder=2)"
   ]
  },
  {
   "cell_type": "code",
   "execution_count": null,
   "metadata": {
    "ExecuteTime": {
     "end_time": "2018-08-14T17:11:39.595407Z",
     "start_time": "2018-08-14T17:11:39.579782Z"
    }
   },
   "outputs": [],
   "source": [
    "list(dis_list[:5].index.astype('str'))"
   ]
  },
  {
   "cell_type": "code",
   "execution_count": null,
   "metadata": {
    "ExecuteTime": {
     "end_time": "2018-08-14T16:53:00.493009Z",
     "start_time": "2018-08-14T16:53:00.289883Z"
    }
   },
   "outputs": [],
   "source": [
    "m.cbsa_info"
   ]
  },
  {
   "cell_type": "code",
   "execution_count": null,
   "metadata": {
    "ExecuteTime": {
     "end_time": "2018-08-14T16:01:32.300009Z",
     "start_time": "2018-08-14T16:01:32.284386Z"
    }
   },
   "outputs": [],
   "source": [
    "cbsas = {c['GEOID']: c['NAME'] for c in m.cbsa_info}\n",
    "for cbsa, val in dis_list.iteritems():\n",
    "    print(f'{cbsas[str(cbsa)]}: {round(val * 100, 1)}%')"
   ]
  },
  {
   "cell_type": "code",
   "execution_count": null,
   "metadata": {
    "ExecuteTime": {
     "end_time": "2018-08-14T16:39:24.663282Z",
     "start_time": "2018-08-14T16:39:24.647658Z"
    }
   },
   "outputs": [],
   "source": [
    "cbsas = {c['GEOID']: c['NAME'] for c in m.cbsa_info}"
   ]
  },
  {
   "cell_type": "code",
   "execution_count": null,
   "metadata": {
    "ExecuteTime": {
     "end_time": "2018-08-14T16:42:53.041244Z",
     "start_time": "2018-08-14T16:42:53.025618Z"
    }
   },
   "outputs": [],
   "source": [
    "list(set([c['GEOID'] for c in m.cbsa_info if c['NAME'][-2:] == 'HI']))"
   ]
  },
  {
   "cell_type": "code",
   "execution_count": null,
   "metadata": {
    "ExecuteTime": {
     "end_time": "2018-08-14T15:49:20.946792Z",
     "start_time": "2018-08-14T15:49:20.931167Z"
    }
   },
   "outputs": [],
   "source": [
    "cbsas = {c['GEOID']: c['NAME'] for c in m.cbsa_info}\n",
    "for cbsa, val in dis_list.iteritems():\n",
    "    print(f'{cbsas[str(cbsa)]}: {round(val * 100, 1)}%')\n",
    "\n",
    "bins = pd.IntervalIndex.from_tuples([(0, 0.02), \n",
    "                                     (0.02, 0.04), \n",
    "                                     (0.04, 0.06), \n",
    "                                     (0.06, 0.08), \n",
    "                                     (0.08, 0.10), \n",
    "                                     (0.10, 0.12), \n",
    "                                     (0.12, 0.2)])\n",
    "\n",
    "pd.cut(dis_list, bins)"
   ]
  },
  {
   "cell_type": "code",
   "execution_count": null,
   "metadata": {
    "ExecuteTime": {
     "end_time": "2018-08-14T17:22:20.010070Z",
     "start_time": "2018-08-14T17:22:19.994445Z"
    }
   },
   "outputs": [],
   "source": [
    "pd.cut(dis_list, bins)"
   ]
  },
  {
   "cell_type": "code",
   "execution_count": null,
   "metadata": {
    "ExecuteTime": {
     "end_time": "2018-08-14T15:46:28.428732Z",
     "start_time": "2018-08-14T15:46:28.413107Z"
    }
   },
   "outputs": [],
   "source": [
    "dis_list"
   ]
  },
  {
   "cell_type": "code",
   "execution_count": null,
   "metadata": {},
   "outputs": [],
   "source": []
  },
  {
   "cell_type": "code",
   "execution_count": null,
   "metadata": {
    "ExecuteTime": {
     "end_time": "2018-08-14T16:55:43.717406Z",
     "start_time": "2018-08-14T16:55:20.570819Z"
    }
   },
   "outputs": [],
   "source": [
    "m.cbsa"
   ]
  },
  {
   "cell_type": "code",
   "execution_count": null,
   "metadata": {},
   "outputs": [],
   "source": []
  },
  {
   "cell_type": "code",
   "execution_count": null,
   "metadata": {},
   "outputs": [],
   "source": []
  },
  {
   "cell_type": "code",
   "execution_count": null,
   "metadata": {},
   "outputs": [],
   "source": []
  },
  {
   "cell_type": "code",
   "execution_count": null,
   "metadata": {},
   "outputs": [],
   "source": []
  },
  {
   "cell_type": "code",
   "execution_count": null,
   "metadata": {},
   "outputs": [],
   "source": []
  },
  {
   "cell_type": "code",
   "execution_count": null,
   "metadata": {},
   "outputs": [],
   "source": []
  },
  {
   "cell_type": "code",
   "execution_count": null,
   "metadata": {
    "ExecuteTime": {
     "end_time": "2018-08-14T14:41:53.732346Z",
     "start_time": "2018-08-14T14:41:39.154250Z"
    }
   },
   "outputs": [],
   "source": [
    "df = pd.DataFrame()  # Empty dataframe to fill with monthly data\n",
    "for cps_file in cps_files:\n",
    "    df = df.append(pd.read_fwf(f'{path}/{cps_file}', \n",
    "                      colspecs=[tuple([v[1], v[2]]) for v in cps_vars],\n",
    "                      names=[v[0] for v in cps_vars])\n",
    "                   .query('PEMLR != -1 and PWCMPWGT > 0 and GTCBSA > 0 '\n",
    "                          'and PRTAGE > 15 and PRTAGE < 65'))"
   ]
  },
  {
   "cell_type": "code",
   "execution_count": null,
   "metadata": {
    "ExecuteTime": {
     "end_time": "2018-08-14T14:25:08.450752Z",
     "start_time": "2018-08-14T14:25:08.278878Z"
    }
   },
   "outputs": [],
   "source": [
    "dis = lambda x: np.average(np.where(x['PEMLR'] == 6, 1, 0), weights=x['PWCMPWGT'])\n",
    "dis_list = df.query('PRTAGE > 15 and PRTAGE < 65').groupby('GTCBSA').apply(dis).sort_values()"
   ]
  },
  {
   "cell_type": "code",
   "execution_count": null,
   "metadata": {
    "ExecuteTime": {
     "end_time": "2018-08-14T14:25:09.435124Z",
     "start_time": "2018-08-14T14:25:09.419500Z"
    }
   },
   "outputs": [],
   "source": [
    "dis_list"
   ]
  },
  {
   "cell_type": "code",
   "execution_count": null,
   "metadata": {
    "ExecuteTime": {
     "end_time": "2018-08-14T06:20:23.351760Z",
     "start_time": "2018-08-14T06:20:23.211136Z"
    }
   },
   "outputs": [],
   "source": [
    "dis = lambda x: np.average(np.where(x['PEMLR'] == 6, 1, 0), weights=x['PWCMPWGT'])\n",
    "dis_list = df.query('PRTAGE > 24 and PRTAGE < 55').groupby('GTCBSA').apply(dis).sort_values()\n",
    "#dislist = list((dis2014 * 100)[-80:].index)"
   ]
  },
  {
   "cell_type": "code",
   "execution_count": null,
   "metadata": {
    "ExecuteTime": {
     "end_time": "2018-08-14T06:20:29.164248Z",
     "start_time": "2018-08-14T06:20:29.133000Z"
    }
   },
   "outputs": [],
   "source": [
    "dch = (dis2017 - dis2014).dropna()"
   ]
  },
  {
   "cell_type": "code",
   "execution_count": null,
   "metadata": {
    "ExecuteTime": {
     "end_time": "2018-08-14T06:20:35.086109Z",
     "start_time": "2018-08-14T06:20:35.070486Z"
    }
   },
   "outputs": [],
   "source": [
    "dkgreen = [str(cbsa) for cbsa, value in list(zip(dch.keys(), dch.values)) if value <= -0.05]\n",
    "mdgreen = [str(cbsa) for cbsa, value in list(zip(dch.keys(), dch.values)) if value <= -0.025 and value > -0.005]\n",
    "ltgreen = [str(cbsa) for cbsa, value in list(zip(dch.keys(), dch.values)) if value <= -0.005 and value > -0.025]\n",
    "neutral = [str(cbsa) for cbsa, value in list(zip(dch.keys(), dch.values)) if value < 0.005 and value >= -0.005]\n",
    "ltpink = [str(cbsa) for cbsa, value in list(zip(dch.keys(), dch.values)) if value < 0.025 and value >= 0.005]\n",
    "mdpink = [str(cbsa) for cbsa, value in list(zip(dch.keys(), dch.values)) if value < 0.05 and value >= 0.025]\n",
    "dkpink = [str(cbsa) for cbsa, value in list(zip(dch.keys(), dch.values)) if value >= 0.05]"
   ]
  },
  {
   "cell_type": "code",
   "execution_count": null,
   "metadata": {},
   "outputs": [],
   "source": []
  },
  {
   "cell_type": "code",
   "execution_count": null,
   "metadata": {
    "ExecuteTime": {
     "end_time": "2018-08-14T05:22:59.039954Z",
     "start_time": "2018-08-14T05:22:59.024328Z"
    }
   },
   "outputs": [],
   "source": [
    "blist = [str(i) for i in (dis2016 - dis2014).dropna().sort_values()[0:20].index]"
   ]
  },
  {
   "cell_type": "markdown",
   "metadata": {},
   "source": [
    "# Map"
   ]
  },
  {
   "cell_type": "code",
   "execution_count": null,
   "metadata": {
    "ExecuteTime": {
     "end_time": "2018-08-14T05:07:52.992597Z",
     "start_time": "2018-08-14T05:07:52.976970Z"
    }
   },
   "outputs": [],
   "source": [
    "%matplotlib inline\n",
    "from mpl_toolkits.basemap import Basemap\n",
    "import matplotlib.pyplot as plt\n",
    "from matplotlib.patches import Polygon\n",
    "from matplotlib.collections import PatchCollection\n",
    "from matplotlib.patches import PathPatch"
   ]
  },
  {
   "cell_type": "code",
   "execution_count": null,
   "metadata": {
    "ExecuteTime": {
     "end_time": "2018-08-14T04:34:22.284769Z",
     "start_time": "2018-08-14T04:34:21.878505Z"
    }
   },
   "outputs": [],
   "source": [
    "# Show full US:\n",
    "m = Basemap(llcrnrlon=-121, llcrnrlat=20, urcrnrlon=-64, urcrnrlat=49,\n",
    "            projection='lcc', lat_1=33, lat_2=45, lon_0=-95)"
   ]
  },
  {
   "cell_type": "code",
   "execution_count": null,
   "metadata": {
    "ExecuteTime": {
     "end_time": "2018-08-14T16:26:53.400686Z",
     "start_time": "2018-08-14T16:26:53.369435Z"
    }
   },
   "outputs": [],
   "source": [
    "plt.gcf()\n",
    "fig = plt.figure(figsize=(16,8))\n",
    "\n",
    "# Read the shapefile contained in the same folder (and the two related files)\n",
    "m.readshapefile('Shape/st99_d00', 'states', drawbounds=True, color='grey')\n",
    "m.readshapefile('Shape/tl_2013_us_cbsa', 'cbsa', drawbounds=False, color='grey')\n",
    "ax = plt.gca()\n",
    "\n",
    "for shape in m.states_info:\n",
    "    sh_num = int(shape['SHAPENUM'] - 1)\n",
    "    if shape['NAME'] == 'Hawaii' and float(shape['AREA']) > 0.005:\n",
    "        seg = [tuple([x + 5200000, y-1400000]) for x,y in m.states[sh_num]]\n",
    "    elif shape['NAME'] == 'Alaska' and float(shape['AREA']) > 0.0005:\n",
    "        seg = [tuple([0.35*x + 1100000, 0.35*y-1300000]) for x,y in m.states[sh_num]]\n",
    "    poly = Polygon(seg, facecolor='white', edgecolor='gray', linewidth=.5)\n",
    "    ax.add_patch(poly)\n",
    "\n",
    "vlow, mlow, llow, neu, lhi, mhi, vhi = ([] for i in range(7))\n",
    "for info, shape in zip(m.cbsa_info, m.cbsa):\n",
    "    if info['GEOID'] in dkgreen:\n",
    "        vlow.append(Polygon(np.array(shape), True))\n",
    "    if info['GEOID'] in mdgreen:\n",
    "        mlow.append(Polygon(np.array(shape), True))\n",
    "    if info['GEOID'] in ltgreen:\n",
    "        llow.append(Polygon(np.array(shape), True))\n",
    "    if info['GEOID'] in neutral:\n",
    "        neu.append(Polygon(np.array(shape), True))\n",
    "    if info['GEOID'] in ltpink:\n",
    "        lhi.append(Polygon(np.array(shape), True))\n",
    "    if info['GEOID'] in mdpink:\n",
    "        mhi.append(Polygon(np.array(shape), True))\n",
    "    if info['GEOID'] in dkpink:\n",
    "        vhi.append(Polygon(np.array(shape), True))\n",
    "\n",
    "ax.add_collection(\n",
    "    PatchCollection(vlow, facecolor='#4d9221', edgecolor='gray', \n",
    "                    alpha=0.8, zorder=2))\n",
    "ax.add_collection(\n",
    "    PatchCollection(mlow, facecolor='#a1d76a', edgecolor='gray', \n",
    "                    alpha=0.8, zorder=2))\n",
    "ax.add_collection(\n",
    "    PatchCollection(llow, facecolor='#fde0ef', edgecolor='gray', \n",
    "                    alpha=0.8, zorder=2))\n",
    "ax.add_collection(\n",
    "    PatchCollection(neu, facecolor='#f7f7f7', edgecolor='gray', \n",
    "                    alpha=0.8, zorder=2))\n",
    "ax.add_collection(\n",
    "    PatchCollection(lhi, facecolor='#e6f5d0', edgecolor='gray', \n",
    "                    alpha=0.8, zorder=2))\n",
    "ax.add_collection(\n",
    "    PatchCollection(mhi, facecolor='#a1d76a', edgecolor='gray', \n",
    "                    alpha=0.8, zorder=2))\n",
    "ax.add_collection(\n",
    "    PatchCollection(vhi, facecolor='#c51b7d', edgecolor='gray', \n",
    "                    alpha=0.8, zorder=2))\n",
    "    \n",
    "ax.axis('off')\n",
    "plt.show()"
   ]
  },
  {
   "cell_type": "code",
   "execution_count": null,
   "metadata": {
    "ExecuteTime": {
     "end_time": "2018-08-14T04:41:32.384041Z",
     "start_time": "2018-08-14T04:41:32.368416Z"
    }
   },
   "outputs": [],
   "source": [
    "for shape in m.states_info:\n",
    "    sh_num = int(shape['SHAPENUM'] - 1)\n",
    "    if shape['NAME'] == 'Hawaii' and float(shape['AREA']) > 0.005:\n",
    "        seg = [tuple([x + 5200000, y-1400000]) for x,y in m.states[sh_num]]\n",
    "    elif shapedict['NAME'] == 'Alaska':\n",
    "        seg = [tuple([0.35*x + 1100000, 0.35*y-1300000]) for x,y in m.states[sh_num]]\n",
    "    poly = Polygon(seg, facecolor='white', edgecolor='gray', linewidth=.5)\n",
    "    ax.add_patch(poly)\n",
    "        #    seg = list(map(lambda (x,y): (x + 5200000, y-1400000), seg))"
   ]
  },
  {
   "cell_type": "code",
   "execution_count": null,
   "metadata": {
    "ExecuteTime": {
     "end_time": "2018-08-14T16:37:57.272853Z",
     "start_time": "2018-08-14T16:37:57.257227Z"
    }
   },
   "outputs": [],
   "source": [
    "list(set([v['GEOID'] for v in m.cbsa_info if v['NAME'][-2:] == 'HI']))"
   ]
  },
  {
   "cell_type": "code",
   "execution_count": null,
   "metadata": {
    "ExecuteTime": {
     "end_time": "2018-08-14T11:57:23.344537Z",
     "start_time": "2018-08-14T11:57:23.324213Z"
    }
   },
   "outputs": [],
   "source": [
    "m.cbsa_info[0]['NAME'][-2:]"
   ]
  },
  {
   "cell_type": "code",
   "execution_count": null,
   "metadata": {
    "ExecuteTime": {
     "end_time": "2018-08-14T05:04:50.052545Z",
     "start_time": "2018-08-14T05:04:50.021298Z"
    }
   },
   "outputs": [],
   "source": [
    "patches = []\n",
    "\n",
    "for info, shape in zip(m.cbsa_info, m.cbsa):\n",
    "    if info['GEOID'] == '40380':\n",
    "        patches.append(Polygon(np.array(shape), True))\n",
    "        \n",
    "ax.add_collection(PatchCollection(patches, facecolor='blue', edgecolor='darkgray', alpha=0.8, linewidths=1., zorder=2))"
   ]
  },
  {
   "cell_type": "code",
   "execution_count": null,
   "metadata": {
    "ExecuteTime": {
     "end_time": "2018-08-14T04:41:55.811773Z",
     "start_time": "2018-08-14T04:41:55.780524Z"
    }
   },
   "outputs": [],
   "source": [
    "list(map(lambda (x,y): (x + 5200000, y-1400000), seg))"
   ]
  },
  {
   "cell_type": "code",
   "execution_count": null,
   "metadata": {
    "ExecuteTime": {
     "end_time": "2018-08-14T04:45:24.027685Z",
     "start_time": "2018-08-14T04:45:24.012061Z"
    }
   },
   "outputs": [],
   "source": [
    "[tuple([x + 5200000, y-1400000]) for x,y in m.states[sh_num]]"
   ]
  },
  {
   "cell_type": "code",
   "execution_count": null,
   "metadata": {},
   "outputs": [],
   "source": [
    "# Thanks to stackexchange for this solution to include Alaska and Hawaii\n",
    "for i, shapedict in enumerate(m.states_info):\n",
    "    # Translate the noncontiguous states:\n",
    "    if shapedict['NAME'] in ['Alaska', 'Hawaii']:\n",
    "        seg = m.states[int(shapedict['SHAPENUM'] - 1)]\n",
    "        # Only include the 8 main islands of Hawaii \n",
    "        if shapedict['NAME'] == 'Hawaii' and float(shapedict['AREA']) > 0.005:\n",
    "            seg = list(map(lambda (x,y): (x + 5200000, y-1400000), seg))\n",
    "        # Alaska is large. Rescale it.\n",
    "        elif shapedict['NAME'] == 'Alaska':\n",
    "            seg = list(map(lambda (x,y): (0.35*x + 1100000, 0.35*y-1300000), seg))\n",
    "        poly = Polygon(seg, facecolor='white', edgecolor='gray', linewidth=.5)\n",
    "        ax.add_patch(poly)\n"
   ]
  },
  {
   "cell_type": "code",
   "execution_count": null,
   "metadata": {},
   "outputs": [],
   "source": [
    "from mpl_toolkits.basemap import Basemap\n",
    "import matplotlib.pyplot as plt\n",
    "from matplotlib.patches import Polygon\n",
    "from matplotlib.collections import PatchCollection\n",
    "from matplotlib.patches import PathPatch\n",
    "import numpy as np\n",
    "\n",
    "plt.gcf()\n",
    "fig = plt.figure(figsize=(16,12))\n",
    "\n",
    "# Read the shapefile contained in the same folder (and the two related files)\n",
    "m.readshapefile('st99_d00', 'states', drawbounds=True, color='grey')\n",
    "m.readshapefile('roadtrl020', 'roads', drawbounds=False)\n",
    "m.readshapefile('cb_2016_us_csa_500k', 'msa', drawbounds=False, color='grey')\n",
    "#m.drawlsmask(land_color='#F2F3F4',ocean_color='white', resolution='i')\n",
    "m.fillcontinents(color='#F2F3F4')\n",
    "ax = plt.gca()\n",
    "\n",
    "for info, shape in zip(m.roads_info, m.roads):\n",
    "    if 'Highway' in info['FEATURE']:\n",
    "        x, y = zip(*shape) \n",
    "        m.plot(x, y, marker=None,color='lightgray')\n",
    "\n",
    "patches   = []\n",
    "\n",
    "for info, shape in zip(m.msa_info, m.msa):\n",
    "    if info['NAME'] == 'Washington-Baltimore-Arlington, DC-MD-VA-WV-PA':\n",
    "        patches.append( Polygon(np.array(shape), True) )\n",
    "        \n",
    "ax.add_collection(PatchCollection(patches, facecolor= 'blue', edgecolor='k', alpha=0.1, linewidths=1., zorder=2))\n",
    "\n",
    "# Plot each location, value, and color as identified in the previous section        \n",
    "for index, row in unemp_list.iterrows():\n",
    "    m.plot(row['x'], row['y'], marker='o', color=row['color'], alpha=0.5, \n",
    "           markersize = row['size'], markeredgecolor='Black', markeredgewidth=.25)\n",
    "\n",
    "ax.axis('off')    # Remove default border\n",
    "plt.title('One-year Change in Unemployment Rate, as of ' + date)\n",
    "plt.annotate('Data Source: U.S. Bureau of Labor Statistics, Local Area Unemployment Statistics; \\n' \\\n",
    "             'Code: https://github.com/bdecon/Python/tree/master/Unemp_Map',\n",
    "             (0,0), (0, 0), fontsize=9, xycoords='axes fraction', textcoords='offset points', va='top')\n",
    "\n",
    "# Legend \n",
    "l1 = plt.scatter([],[], marker='o',color='Limegreen', alpha=0.5, \n",
    "              s = 130, edgecolors='Black', linewidth=.25)\n",
    "l2 = plt.scatter([],[], marker='o',color='Red', alpha=0.5, \n",
    "              s = 130, edgecolors='Black', linewidth=.25)\n",
    "\n",
    "labels = [\"$-$1%\", \"+1%\"]\n",
    "\n",
    "leg = plt.legend([l1, l2], labels, ncol=1, frameon=False, fontsize=10,\n",
    "    handlelength=2, loc = 2, borderpad = 1.8,\n",
    "    handletextpad=1, title='Legend', scatterpoints = 1)\n",
    "plt.savefig('C:\\Users\\BDew\\Dropbox (CEPR)\\homestata\\Brian\\For_Alan\\State_Labor\\Graphics\\unemp_map.pdf', bbox_inches='tight', dpi=500)\n",
    "plt.show()"
   ]
  },
  {
   "cell_type": "code",
   "execution_count": null,
   "metadata": {},
   "outputs": [],
   "source": []
  },
  {
   "cell_type": "code",
   "execution_count": null,
   "metadata": {},
   "outputs": [],
   "source": []
  }
 ],
 "metadata": {
  "kernelspec": {
   "display_name": "Python 3",
   "language": "python",
   "name": "python3"
  },
  "language_info": {
   "codemirror_mode": {
    "name": "ipython",
    "version": 3
   },
   "file_extension": ".py",
   "mimetype": "text/x-python",
   "name": "python",
   "nbconvert_exporter": "python",
   "pygments_lexer": "ipython3",
   "version": "3.7.1"
  }
 },
 "nbformat": 4,
 "nbformat_minor": 2
}
