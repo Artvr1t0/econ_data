{
 "cells": [
  {
   "cell_type": "code",
   "execution_count": 1,
   "metadata": {
    "ExecuteTime": {
     "end_time": "2018-08-15T21:22:08.522134Z",
     "start_time": "2018-08-15T21:22:06.365847Z"
    }
   },
   "outputs": [],
   "source": [
    "# Import python packages\n",
    "import pandas as pd\n",
    "import numpy as np\n",
    "import calendar"
   ]
  },
  {
   "cell_type": "code",
   "execution_count": null,
   "metadata": {},
   "outputs": [],
   "source": []
  },
  {
   "cell_type": "code",
   "execution_count": 2,
   "metadata": {
    "ExecuteTime": {
     "end_time": "2018-08-15T21:22:08.537756Z",
     "start_time": "2018-08-15T21:22:08.522134Z"
    }
   },
   "outputs": [],
   "source": [
    "# Generate a list of file names matching the Census microdata files\n",
    "latest_month = '7/1/2018'\n",
    "cps_files = [f'{calendar.month_abbr[m.month].lower()}{m.year % 100}pub.dat' \n",
    "               for m in pd.date_range(end=latest_month, periods=24, freq='MS')]"
   ]
  },
  {
   "cell_type": "code",
   "execution_count": 3,
   "metadata": {
    "ExecuteTime": {
     "end_time": "2018-08-15T21:22:08.569009Z",
     "start_time": "2018-08-15T21:22:08.537756Z"
    }
   },
   "outputs": [],
   "source": [
    "# Microdata files are fixed-width\n",
    "# The variable locations are from the data dictionary\n",
    "cps_vars = [('GTCBSA', 95, 100),     # CBSA (geo area)\n",
    "            ('PRTAGE', 121, 123),    # Person's age\n",
    "            ('PEMLR', 179, 181),     # Person's labor market status\n",
    "            ('PWCMPWGT', 845, 855)]  # Person's composite weight\n",
    "\n",
    "path = 'E:/08_Other/Archive/data'  # Location of microdata files"
   ]
  },
  {
   "cell_type": "code",
   "execution_count": 4,
   "metadata": {
    "ExecuteTime": {
     "end_time": "2018-08-15T21:22:40.381424Z",
     "start_time": "2018-08-15T21:22:08.569009Z"
    }
   },
   "outputs": [],
   "source": [
    "d = {} # Empty dictionary to store monthly files\n",
    "for file in cps_files:\n",
    "    d[file] = (pd.read_fwf(f'{path}/{file}', \n",
    "                          colspecs=[[v[1], v[2]] for v in cps_vars],\n",
    "                          names=[v[0] for v in cps_vars])\n",
    "               .query('PEMLR != -1 and PWCMPWGT > 0 and GTCBSA > 0 '\n",
    "                      'and PRTAGE > 15 and PRTAGE < 65'))\n",
    "\n",
    "df = pd.concat(d, ignore_index=True)     # Combine into one dataframe"
   ]
  },
  {
   "cell_type": "code",
   "execution_count": 5,
   "metadata": {
    "ExecuteTime": {
     "end_time": "2018-08-15T21:22:40.475175Z",
     "start_time": "2018-08-15T21:22:40.381424Z"
    }
   },
   "outputs": [
    {
     "name": "stdout",
     "output_type": "stream",
     "text": [
      "Between 535 and 81063 observations per CBSA\n"
     ]
    }
   ],
   "source": [
    "# Check sample size to make sure I have at least 500 observations\n",
    "min_obs = df.groupby('GTCBSA')['PEMLR'].agg('count').min()\n",
    "max_obs = df.groupby('GTCBSA')['PEMLR'].agg('count').max()\n",
    "\n",
    "print(f'Between {min_obs} and {max_obs} observations per CBSA')"
   ]
  },
  {
   "cell_type": "code",
   "execution_count": 6,
   "metadata": {
    "ExecuteTime": {
     "end_time": "2018-08-15T21:22:54.696241Z",
     "start_time": "2018-08-15T21:22:54.633741Z"
    }
   },
   "outputs": [
    {
     "data": {
      "text/plain": [
       "GTCBSA\n",
       "47220      535\n",
       "13980      586\n",
       "16060      656\n",
       "12020      711\n",
       "27780      713\n",
       "36780      730\n",
       "48140      745\n",
       "40980      770\n",
       "14020      775\n",
       "47580      804\n",
       "12700      823\n",
       "35660      859\n",
       "22500      865\n",
       "31420      866\n",
       "27500      893\n",
       "29200      900\n",
       "42020      971\n",
       "48660      976\n",
       "40220      978\n",
       "15680      987\n",
       "34740      992\n",
       "10180     1006\n",
       "14010     1008\n",
       "39820     1018\n",
       "48700     1022\n",
       "25940     1024\n",
       "16540     1029\n",
       "49020     1040\n",
       "47380     1045\n",
       "39140     1052\n",
       "         ...  \n",
       "12580    11380\n",
       "16740    11658\n",
       "41620    11965\n",
       "41180    12673\n",
       "19740    12895\n",
       "28140    12961\n",
       "14260    13224\n",
       "45300    13229\n",
       "41740    14268\n",
       "10740    15070\n",
       "38900    16749\n",
       "33460    16928\n",
       "29820    17977\n",
       "40140    18892\n",
       "19820    19319\n",
       "42660    19397\n",
       "46520    19525\n",
       "38060    20040\n",
       "41860    20410\n",
       "39300    20990\n",
       "33100    24878\n",
       "12060    25285\n",
       "26420    27044\n",
       "19100    29861\n",
       "37980    33243\n",
       "14460    35476\n",
       "16980    41676\n",
       "47900    56892\n",
       "31080    60308\n",
       "35620    81063\n",
       "Name: PEMLR, Length: 260, dtype: int64"
      ]
     },
     "execution_count": 6,
     "metadata": {},
     "output_type": "execute_result"
    }
   ],
   "source": [
    "df.groupby('GTCBSA')['PEMLR'].agg('count').sort_values()"
   ]
  },
  {
   "cell_type": "code",
   "execution_count": 6,
   "metadata": {
    "ExecuteTime": {
     "end_time": "2018-08-14T20:58:11.553903Z",
     "start_time": "2018-08-14T20:58:11.350775Z"
    }
   },
   "outputs": [],
   "source": [
    "# Calculate disabled NILF share of age group, by CBSA\n",
    "dis = lambda x: np.average(np.where(x['PEMLR'] == 6, 1, 0), weights=x['PWCMPWGT'])\n",
    "dis_list = df.groupby('GTCBSA').apply(dis)\n",
    "dis_list.index = dis_list.index.map(str)"
   ]
  },
  {
   "cell_type": "code",
   "execution_count": 15,
   "metadata": {
    "ExecuteTime": {
     "end_time": "2018-08-14T21:03:11.006642Z",
     "start_time": "2018-08-14T21:03:10.991018Z"
    }
   },
   "outputs": [],
   "source": [
    "# Decide where to split the color codes for the map\n",
    "bins = [0.01, 0.02, 0.04, 0.06, 0.08, 0.1, 0.12, 0.2]\n",
    "colors = ['#4d9221', '#a1d76a', '#e6f5d0', '#f7f7f7', '#fde0ef', '#e9a3c9', '#c51b7d']\n",
    "colormap = pd.cut(dis_list, bins, labels=colors).to_dict()"
   ]
  },
  {
   "cell_type": "code",
   "execution_count": null,
   "metadata": {},
   "outputs": [],
   "source": []
  },
  {
   "cell_type": "code",
   "execution_count": 12,
   "metadata": {
    "ExecuteTime": {
     "end_time": "2018-08-14T20:59:18.241315Z",
     "start_time": "2018-08-14T20:59:18.210066Z"
    }
   },
   "outputs": [],
   "source": [
    "%matplotlib inline\n",
    "from mpl_toolkits.basemap import Basemap\n",
    "from mpl_toolkits.axes_grid1.inset_locator import inset_axes\n",
    "import matplotlib.pyplot as plt\n",
    "from matplotlib.patches import Polygon"
   ]
  },
  {
   "cell_type": "code",
   "execution_count": 16,
   "metadata": {
    "ExecuteTime": {
     "end_time": "2018-08-14T21:03:13.287889Z",
     "start_time": "2018-08-14T21:03:12.725390Z"
    }
   },
   "outputs": [],
   "source": [
    "# Show contiguous US (and move Hawaii, no data for Alaska):\n",
    "m = Basemap(llcrnrlon=-121, llcrnrlat=20, urcrnrlon=-64, urcrnrlat=49,\n",
    "            projection='lcc', lat_1=33, lat_2=45, lon_0=-95)"
   ]
  },
  {
   "cell_type": "code",
   "execution_count": 20,
   "metadata": {
    "ExecuteTime": {
     "end_time": "2018-08-14T21:08:53.528644Z",
     "start_time": "2018-08-14T21:08:42.044283Z"
    }
   },
   "outputs": [
    {
     "data": {
      "text/plain": [
       "<Figure size 432x288 with 0 Axes>"
      ]
     },
     "metadata": {},
     "output_type": "display_data"
    },
    {
     "data": {
      "image/png": "[encoded data removed]",
      "text/plain": [
       "<Figure size 1152x576 with 2 Axes>"
      ]
     },
     "metadata": {},
     "output_type": "display_data"
    }
   ],
   "source": [
    "plt.gcf()\n",
    "plt.figure(figsize=(16,8))\n",
    "\n",
    "# Read the shapefiles contained in the Shape folder\n",
    "m.readshapefile('Shape/st99_d00', 'states', drawbounds=True, color='gray')\n",
    "m.readshapefile('Shape/tl_2013_us_cbsa', 'cbsa', drawbounds=False)\n",
    "ax = plt.gca()\n",
    "\n",
    "for info, shape in zip(m.states_info, m.states):\n",
    "    seg = shape\n",
    "    if info['NAME'] == 'Hawaii' and float(info['AREA']) > 0.005:\n",
    "        seg = [[x + 5200000, y-1400000] for x,y in shape]\n",
    "    ax.add_patch(Polygon(seg, facecolor='white', edgecolor='gray', linewidth=0.5))\n",
    "\n",
    "for info, shape in zip(m.cbsa_info, m.cbsa):\n",
    "    if info['GEOID'] in colormap.keys(): \n",
    "        color = colormap[info['GEOID']]\n",
    "        seg = shape\n",
    "        if info['NAME'][-2:] == 'HI' and info['RINGNUM'] == 1:\n",
    "            seg = [[x + 5200000, y-1400000] for x,y in shape]\n",
    "        ax.add_patch(Polygon(seg, facecolor=color, edgecolor=color))   \n",
    "\n",
    "plt.title('Share of age 16-64 population that is out of work due to disability', \n",
    "          fontsize=16, fontweight=800, loc='left', color='dimgrey')\n",
    "plt.annotate('Source: Current Population Survey microdata, August 2016 to July 2018',\n",
    "             (0,0), (0, 0), fontsize=10, xycoords='axes fraction',\n",
    "             textcoords='offset points', va='top')\n",
    "\n",
    "ax.axis('off')\n",
    "\n",
    "ax_inset = inset_axes(ax, width=\"16%\", height=\"26%\", loc=3, borderpad=3.6)\n",
    "bars = list(pd.cut(dis_list, bins).reset_index().groupby(0)['GTCBSA'].nunique().values)\n",
    "labels = [f'{int(x.left*100)} – {int(x.right*100)}%' \n",
    "          for x in pd.cut(dis_list, bins).sort_values().unique()[:-1]]\n",
    "labels.append('12%+')\n",
    "ax_inset.barh(list(range(0, len(bars))), bars, align='center', color=colors)\n",
    "ax_inset.axis('off')\n",
    "for i, bar in enumerate(bars):\n",
    "    ax_inset.text(bar+2, i, bar, fontsize=9, va='center')\n",
    "for i, label in enumerate(labels):\n",
    "    ax_inset.text(-2, i, label, fontsize=9, va='center', ha='right')\n",
    "ax_inset.text(-25, 7, 'Value     Count')\n",
    "\n",
    "plt.savefig('dis_map.svg', bbox_inches='tight', dpi=500)\n",
    "plt.show()"
   ]
  },
  {
   "cell_type": "code",
   "execution_count": null,
   "metadata": {},
   "outputs": [],
   "source": []
  },
  {
   "cell_type": "code",
   "execution_count": 14,
   "metadata": {
    "ExecuteTime": {
     "end_time": "2018-08-14T20:59:46.288154Z",
     "start_time": "2018-08-14T20:59:46.178780Z"
    }
   },
   "outputs": [
    {
     "name": "stdout",
     "output_type": "stream",
     "text": [
      "Iowa City, IA: 1.6%\n",
      "Provo-Orem, UT: 1.6%\n",
      "College Station-Bryan, TX: 1.6%\n",
      "Wausau, WI: 1.7%\n",
      "Boulder, CO: 1.9%\n",
      "Santa Maria-Santa Barbara, CA: 1.9%\n",
      "Springfield, IL: 2.1%\n",
      "Madison, WI: 2.1%\n",
      "Bridgeport-Stamford-Norwalk, CT: 2.2%\n",
      "Austin-Round Rock, TX: 2.2%\n",
      "Bend-Redmond, OR: 2.3%\n",
      "Oshkosh-Neenah, WI: 2.3%\n",
      "Washington-Arlington-Alexandria, DC-VA-MD-WV: 2.3%\n",
      "Salt Lake City, UT: 2.5%\n",
      "Laredo, TX: 2.7%\n",
      "Hilton Head Island-Bluffton-Beaufort, SC: 2.7%\n",
      "San Francisco-Oakland-Hayward, CA: 2.9%\n",
      "Fargo, ND-MN: 2.9%\n",
      "Minneapolis-St. Paul-Bloomington, MN-WI: 2.9%\n",
      "Fort Collins, CO: 3.0%\n",
      "Denver-Aurora-Lakewood, CO: 3.0%\n",
      "Santa Cruz-Watsonville, CA: 3.1%\n",
      "San Jose-Sunnyvale-Santa Clara, CA: 3.1%\n",
      "Appleton, WI: 3.2%\n",
      "Dallas-Fort Worth-Arlington, TX: 3.2%\n",
      "Ann Arbor, MI: 3.2%\n",
      "Burlington-South Burlington, VT: 3.2%\n",
      "Lexington-Fayette, KY: 3.2%\n",
      "Lancaster, PA: 3.3%\n",
      "Urban Honolulu, HI: 3.3%\n",
      "Miami-Fort Lauderdale-West Palm Beach, FL: 3.4%\n",
      "Houston-The Woodlands-Sugar Land, TX: 3.4%\n",
      "Kahului-Wailuku-Lahaina, HI: 3.4%\n",
      "Gainesville, GA: 3.4%\n",
      "Green Bay, WI: 3.4%\n",
      "Atlanta-Sandy Springs-Roswell, GA: 3.4%\n",
      "Oxnard-Thousand Oaks-Ventura, CA: 3.4%\n",
      "Ogden-Clearfield, UT: 3.5%\n",
      "Sioux Falls, SD: 3.5%\n",
      "Billings, MT: 3.5%\n",
      "Bloomington, IL: 3.5%\n",
      "Omaha-Council Bluffs, NE-IA: 3.6%\n",
      "Champaign-Urbana, IL: 3.6%\n",
      "Raleigh, NC: 3.6%\n",
      "Des Moines-West Des Moines, IA: 3.6%\n",
      "Los Angeles-Long Beach-Anaheim, CA: 3.6%\n",
      "Greeley, CO: 3.7%\n",
      "Seattle-Tacoma-Bellevue, WA: 3.7%\n",
      "Boise City, ID: 3.7%\n",
      "Warner Robins, GA: 3.9%\n",
      "Bloomington, IN: 3.9%\n",
      "New York-Newark-Jersey City, NY-NJ-PA: 3.9%\n",
      "Boston-Cambridge-Newton, MA-NH: 4.0%\n",
      "St. George, UT: 4.0%\n",
      "Topeka, KS: 4.0%\n",
      "Charlotte-Concord-Gastonia, NC-SC: 4.0%\n",
      "Chicago-Naperville-Elgin, IL-IN-WI: 4.0%\n",
      "Jacksonville, FL: 4.0%\n",
      "Kalamazoo-Portage, MI: 4.1%\n",
      "Barnstable Town, MA: 4.1%\n",
      "Fayetteville-Springdale-Rogers, AR-MO: 4.1%\n",
      "San Diego-Carlsbad, CA: 4.1%\n",
      "Colorado Springs, CO: 4.2%\n",
      "Portland-Vancouver-Hillsboro, OR-WA: 4.3%\n",
      "Las Vegas-Henderson-Paradise, NV: 4.3%\n",
      "Yuma, AZ: 4.4%\n",
      "Davenport-Moline-Rock Island, IA-IL: 4.4%\n",
      "Naples-Immokalee-Marco Island, FL: 4.5%\n",
      "Cape Coral-Fort Myers, FL: 4.6%\n",
      "Panama City, FL: 4.6%\n",
      "North Port-Sarasota-Bradenton, FL: 4.6%\n",
      "Brownsville-Harlingen, TX: 4.6%\n",
      "Durham-Chapel Hill, NC: 4.6%\n",
      "Phoenix-Mesa-Scottsdale, AZ: 4.6%\n",
      "Odessa, TX: 4.7%\n",
      "Winchester, VA-WV: 4.8%\n",
      "Sacramento--Roseville--Arden-Arcade, CA: 4.8%\n",
      "Nashville-Davidson--Murfreesboro--Franklin, TN: 4.9%\n",
      "Wichita, KS: 4.9%\n",
      "Kansas City, MO-KS: 4.9%\n",
      "Santa Rosa, CA: 5.0%\n",
      "Idaho Falls, ID: 5.0%\n",
      "Richmond, VA: 5.0%\n",
      "Cedar Rapids, IA: 5.0%\n",
      "Baltimore-Columbia-Towson, MD: 5.0%\n",
      "Elkhart-Goshen, IN: 5.1%\n",
      "Morgantown, WV: 5.1%\n",
      "Blacksburg-Christiansburg-Radford, VA: 5.1%\n",
      "Amarillo, TX: 5.1%\n",
      "Tampa-St. Petersburg-Clearwater, FL: 5.1%\n",
      "San Antonio-New Braunfels, TX: 5.1%\n",
      "Milwaukee-Waukesha-West Allis, WI: 5.2%\n",
      "Canton-Massillon, OH: 5.3%\n",
      "Manchester-Nashua, NH: 5.3%\n",
      "Oklahoma City, OK: 5.3%\n",
      "Orlando-Kissimmee-Sanford, FL: 5.3%\n",
      "Cincinnati, OH-KY-IN: 5.4%\n",
      "New Haven-Milford, CT: 5.4%\n",
      "Salinas, CA: 5.4%\n",
      "Portland-South Portland, ME: 5.4%\n",
      "Allentown-Bethlehem-Easton, PA-NJ: 5.5%\n",
      "Vallejo-Fairfield, CA: 5.5%\n",
      "Riverside-San Bernardino-Ontario, CA: 5.5%\n",
      "El Paso, TX: 5.5%\n",
      "Harrisburg-Carlisle, PA: 5.5%\n",
      "Asheville, NC: 5.6%\n",
      "Peoria, IL: 5.6%\n",
      "Hartford-West Hartford-East Hartford, CT: 5.7%\n",
      "St. Louis, MO-IL: 5.7%\n",
      "Grand Rapids-Wyoming, MI: 5.7%\n",
      "Pittsburgh, PA: 5.7%\n",
      "Ocala, FL: 5.7%\n",
      "Tallahassee, FL: 5.7%\n",
      "Charlottesville, VA: 5.8%\n",
      "Coeur d'Alene, ID: 5.8%\n",
      "Monroe, MI: 5.8%\n",
      "Medford, OR: 5.8%\n",
      "California-Lexington Park, MD: 5.8%\n",
      "Chambersburg-Waynesboro, PA: 5.8%\n",
      "Akron, OH: 5.8%\n",
      "Virginia Beach-Norfolk-Newport News, VA-NC: 5.8%\n",
      "Winston-Salem, NC: 5.9%\n",
      "Killeen-Temple, TX: 5.9%\n",
      "Kennewick-Richland, WA: 5.9%\n",
      "Stockton-Lodi, CA: 5.9%\n",
      "Indianapolis-Carmel-Anderson, IN: 5.9%\n",
      "Tulsa, OK: 5.9%\n",
      "Waterloo-Cedar Falls, IA: 6.0%\n",
      "Trenton, NJ: 6.0%\n",
      "McAllen-Edinburg-Mission, TX: 6.0%\n",
      "Pensacola-Ferry Pass-Brent, FL: 6.0%\n",
      "Port St. Lucie, FL: 6.0%\n",
      "Knoxville, TN: 6.0%\n",
      "Atlantic City-Hammonton, NJ: 6.1%\n",
      "Bowling Green, KY: 6.1%\n",
      "Detroit-Warren-Dearborn, MI: 6.1%\n",
      "Springfield, MO: 6.3%\n",
      "Columbia, SC: 6.4%\n",
      "Cleveland-Elyria, OH: 6.4%\n",
      "Tucson, AZ: 6.4%\n",
      "Santa Fe, NM: 6.4%\n",
      "Philadelphia-Camden-Wilmington, PA-NJ-DE-MD: 6.4%\n",
      "Palm Bay-Melbourne-Titusville, FL: 6.4%\n",
      "Lansing-East Lansing, MI: 6.5%\n",
      "Worcester, MA-CT: 6.5%\n",
      "Savannah, GA: 6.6%\n",
      "Beaumont-Port Arthur, TX: 6.7%\n",
      "Reading, PA: 6.7%\n",
      "Fort Wayne, IN: 6.7%\n",
      "Chattanooga, TN-GA: 6.7%\n",
      "Toledo, OH: 6.8%\n",
      "Spokane-Spokane Valley, WA: 6.8%\n",
      "Rockford, IL: 6.8%\n",
      "New Orleans-Metairie, LA: 6.8%\n",
      "Little Rock-North Little Rock-Conway, AR: 6.8%\n",
      "Daphne-Fairhope-Foley, AL: 6.9%\n",
      "Dayton, OH: 6.9%\n",
      "Huntsville, AL: 6.9%\n",
      "Memphis, TN-MS-AR: 6.9%\n",
      "Salem, OR: 7.0%\n",
      "Albuquerque, NM: 7.0%\n",
      "Janesville-Beloit, WI: 7.0%\n",
      "Las Cruces, NM: 7.0%\n",
      "Tyler, TX: 7.0%\n",
      "Lafayette-West Lafayette, IN: 7.0%\n",
      "Lubbock, TX: 7.1%\n",
      "Watertown-Fort Drum, NY: 7.1%\n",
      "Syracuse, NY: 7.1%\n",
      "Charleston-North Charleston, SC: 7.1%\n",
      "York-Hanover, PA: 7.1%\n",
      "Louisville/Jefferson County, KY-IN: 7.1%\n",
      "Lake Charles, LA: 7.2%\n",
      "Columbus, OH: 7.2%\n",
      "Carbondale-Marion, IL: 7.2%\n",
      "Farmington, NM: 7.2%\n",
      "Modesto, CA: 7.2%\n",
      "Wichita Falls, TX: 7.3%\n",
      "Baton Rouge, LA: 7.3%\n",
      "Lakeland-Winter Haven, FL: 7.4%\n",
      "Greenville-Anderson-Mauldin, SC: 7.4%\n",
      "Jackson, MS: 7.5%\n",
      "Jackson, MI: 7.5%\n",
      "Abilene, TX: 7.6%\n",
      "Evansville, IN-KY: 7.6%\n",
      "Hagerstown-Martinsburg, MD-WV: 7.8%\n",
      "Fresno, CA: 7.8%\n",
      "Auburn-Opelika, AL: 7.8%\n",
      "Norwich-New London, CT: 7.9%\n",
      "Greensboro-High Point, NC: 7.9%\n",
      "Greenville, NC: 7.9%\n",
      "Visalia-Porterville, CA: 7.9%\n",
      "East Stroudsburg, PA: 7.9%\n",
      "Jacksonville, NC: 8.0%\n",
      "San Luis Obispo-Paso Robles-Arroyo Grande, CA: 8.0%\n",
      "Vineland-Bridgeton, NJ: 8.0%\n",
      "Monroe, LA: 8.1%\n",
      "Albany-Schenectady-Troy, NY: 8.1%\n",
      "Buffalo-Cheektowaga-Niagara Falls, NY: 8.1%\n",
      "Binghamton, NY: 8.1%\n",
      "Johnson City, TN: 8.1%\n",
      "Longview, TX: 8.2%\n",
      "Dover, DE: 8.2%\n",
      "Mount Vernon-Anacortes, WA: 8.2%\n",
      "Deltona-Daytona Beach-Ormond Beach, FL: 8.3%\n",
      "Eugene, OR: 8.3%\n",
      "Montgomery, AL: 8.3%\n",
      "Bakersfield, CA: 8.3%\n",
      "Erie, PA: 8.5%\n",
      "Providence-Warwick, RI-MA: 8.6%\n",
      "Waco, TX: 8.7%\n",
      "Salisbury, MD-DE: 8.7%\n",
      "Racine, WI: 8.8%\n",
      "Terre Haute, IN: 8.8%\n",
      "Gainesville, FL: 8.8%\n",
      "Clarksville, TN-KY: 8.8%\n",
      "Athens-Clarke County, GA: 8.8%\n",
      "Battle Creek, MI: 8.8%\n",
      "Macon, GA: 9.0%\n",
      "Spartanburg, SC: 9.0%\n",
      "Fort Smith, AR-OK: 9.1%\n",
      "Corpus Christi, TX: 9.1%\n",
      "Augusta-Richmond County, GA-SC: 9.2%\n",
      "Hanford-Corcoran, CA: 9.2%\n",
      "Springfield, MA: 9.3%\n",
      "Rochester, NY: 9.3%\n",
      "Lewiston-Auburn, ME: 9.4%\n",
      "Birmingham-Hoover, AL: 9.4%\n",
      "Burlington, NC: 9.6%\n",
      "Shreveport-Bossier City, LA: 9.8%\n",
      "Prescott, AZ: 9.8%\n",
      "Saginaw, MI: 9.8%\n",
      "Lafayette, LA: 9.9%\n",
      "Niles-Benton Harbor, MI: 9.9%\n",
      "Scranton--Wilkes-Barre--Hazleton, PA: 9.9%\n",
      "Flint, MI: 10.1%\n",
      "Fayetteville, NC: 10.1%\n",
      "Myrtle Beach-Conway-North Myrtle Beach, SC-NC: 10.2%\n",
      "Redding, CA: 10.3%\n",
      "Huntington-Ashland, WV-KY-OH: 10.5%\n",
      "Roanoke, VA: 10.5%\n",
      "Williamsport, PA: 10.5%\n",
      "Charleston, WV: 10.5%\n",
      "Goldsboro, NC: 10.9%\n",
      "Cleveland, TN: 11.0%\n",
      "Florence-Muscle Shoals, AL: 11.0%\n",
      "Johnstown, PA: 11.0%\n",
      "Mobile, AL: 11.3%\n",
      "Bangor, ME: 11.3%\n",
      "Utica-Rome, NY: 11.5%\n",
      "Chico, CA: 11.6%\n",
      "Hickory-Lenoir-Morganton, NC: 11.6%\n",
      "Muskegon, MI: 11.8%\n",
      "Kingsport-Bristol-Bristol, TN-VA: 12.0%\n",
      "Sherman-Denison, TX: 12.0%\n",
      "South Bend-Mishawaka, IN-MI: 12.3%\n",
      "Florence, SC: 12.4%\n",
      "Glens Falls, NY: 13.4%\n",
      "Youngstown-Warren-Boardman, OH-PA: 14.2%\n",
      "Columbus, GA-AL: 14.6%\n",
      "Pine Bluff, AR: 14.8%\n"
     ]
    }
   ],
   "source": [
    "cbsas = {c['GEOID']: c['NAME'] for c in m.cbsa_info}\n",
    "for cbsa, val in dis_list.sort_values().iteritems():\n",
    "    print(f'{cbsas[str(cbsa)]}: {round(val * 100, 1)}%')"
   ]
  },
  {
   "cell_type": "code",
   "execution_count": null,
   "metadata": {},
   "outputs": [],
   "source": []
  },
  {
   "cell_type": "code",
   "execution_count": null,
   "metadata": {},
   "outputs": [],
   "source": []
  },
  {
   "cell_type": "code",
   "execution_count": null,
   "metadata": {},
   "outputs": [],
   "source": []
  },
  {
   "cell_type": "code",
   "execution_count": null,
   "metadata": {},
   "outputs": [],
   "source": []
  },
  {
   "cell_type": "code",
   "execution_count": null,
   "metadata": {},
   "outputs": [],
   "source": []
  },
  {
   "cell_type": "code",
   "execution_count": null,
   "metadata": {},
   "outputs": [],
   "source": []
  },
  {
   "cell_type": "code",
   "execution_count": null,
   "metadata": {},
   "outputs": [],
   "source": []
  },
  {
   "cell_type": "code",
   "execution_count": null,
   "metadata": {},
   "outputs": [],
   "source": []
  },
  {
   "cell_type": "code",
   "execution_count": null,
   "metadata": {},
   "outputs": [],
   "source": []
  },
  {
   "cell_type": "code",
   "execution_count": null,
   "metadata": {},
   "outputs": [],
   "source": []
  },
  {
   "cell_type": "code",
   "execution_count": null,
   "metadata": {
    "ExecuteTime": {
     "end_time": "2018-08-14T19:42:11.914278Z",
     "start_time": "2018-08-14T19:42:11.898654Z"
    },
    "scrolled": true
   },
   "outputs": [],
   "source": [
    "bars = list(pd.cut(dis_list, bins).reset_index().groupby(0)['GTCBSA'].nunique().values)\n",
    "labels = [f'{round(x.left*100,0)}-{round(x.right*100,0)}%' for x in pd.cut(dis_list, bins).sort_values().unique()[:-1]]"
   ]
  },
  {
   "cell_type": "code",
   "execution_count": null,
   "metadata": {
    "ExecuteTime": {
     "end_time": "2018-08-14T19:36:28.930342Z",
     "start_time": "2018-08-14T19:36:28.914719Z"
    }
   },
   "outputs": [],
   "source": [
    "bars = pd.Series(colormap).reset_index().groupby(0)['index'].nunique().reset_index()"
   ]
  },
  {
   "cell_type": "code",
   "execution_count": null,
   "metadata": {
    "ExecuteTime": {
     "end_time": "2018-08-14T19:42:50.273603Z",
     "start_time": "2018-08-14T19:42:50.257980Z"
    }
   },
   "outputs": [],
   "source": [
    "list(range(0, len(bars)))"
   ]
  },
  {
   "cell_type": "code",
   "execution_count": null,
   "metadata": {
    "ExecuteTime": {
     "end_time": "2018-08-14T20:13:35.232165Z",
     "start_time": "2018-08-14T20:13:35.216540Z"
    }
   },
   "outputs": [],
   "source": [
    "from mpl_toolkits.axes_grid1.inset_locator import inset_axes"
   ]
  },
  {
   "cell_type": "code",
   "execution_count": null,
   "metadata": {
    "ExecuteTime": {
     "end_time": "2018-08-14T20:03:42.157863Z",
     "start_time": "2018-08-14T20:03:42.048490Z"
    }
   },
   "outputs": [],
   "source": [
    "bars = list(pd.cut(dis_list, bins).reset_index().groupby(0)['GTCBSA'].nunique().values)\n",
    "labels = [f'{int(x.left*100)} - {int(x.right*100)}%' for x in pd.cut(dis_list, bins).sort_values().unique()[:-1]]\n",
    "labels.append('12%+')\n",
    "plt.gcf()\n",
    "plt.figure(figsize=(3,3))\n",
    "plt.barh(list(range(0, len(bars))), bars, align='center', color=colors)\n",
    "plt.axis('off')\n",
    "for i, bar in enumerate(bars):\n",
    "    plt.text(bar+2, i, bar, fontsize=10, verticalalignment='center')\n",
    "for i, label in enumerate(labels):\n",
    "    plt.text(-1, i, label, fontsize=9, verticalalignment='center', horizontalalignment='right')"
   ]
  },
  {
   "cell_type": "code",
   "execution_count": null,
   "metadata": {
    "ExecuteTime": {
     "end_time": "2018-08-14T19:58:23.471571Z",
     "start_time": "2018-08-14T19:58:23.440321Z"
    }
   },
   "outputs": [],
   "source": [
    "labels = [f'{round(x.left*100,0)}-{round(x.right*100,0)}%' for x in pd.cut(dis_list, bins).sort_values().unique()[:-1]]"
   ]
  },
  {
   "cell_type": "code",
   "execution_count": null,
   "metadata": {
    "ExecuteTime": {
     "end_time": "2018-08-14T19:58:32.112184Z",
     "start_time": "2018-08-14T19:58:32.096560Z"
    }
   },
   "outputs": [],
   "source": [
    "labels"
   ]
  },
  {
   "cell_type": "code",
   "execution_count": null,
   "metadata": {
    "ExecuteTime": {
     "end_time": "2018-08-14T19:58:30.143437Z",
     "start_time": "2018-08-14T19:58:30.127811Z"
    }
   },
   "outputs": [],
   "source": [
    "labels.append('12%+')"
   ]
  },
  {
   "cell_type": "code",
   "execution_count": null,
   "metadata": {
    "ExecuteTime": {
     "end_time": "2018-08-14T19:54:43.737476Z",
     "start_time": "2018-08-14T19:54:43.721851Z"
    }
   },
   "outputs": [],
   "source": [
    "[[s.left, s.right] for s in pd.cut(dis_list, bins).sort_values().unique()]"
   ]
  },
  {
   "cell_type": "code",
   "execution_count": null,
   "metadata": {
    "ExecuteTime": {
     "end_time": "2018-08-14T19:40:36.492526Z",
     "start_time": "2018-08-14T19:40:36.476899Z"
    }
   },
   "outputs": [],
   "source": [
    "bars.sort_values(by=0)"
   ]
  },
  {
   "cell_type": "code",
   "execution_count": null,
   "metadata": {
    "ExecuteTime": {
     "end_time": "2018-08-14T19:38:04.570845Z",
     "start_time": "2018-08-14T19:38:04.539594Z"
    }
   },
   "outputs": [],
   "source": [
    "bars"
   ]
  },
  {
   "cell_type": "code",
   "execution_count": null,
   "metadata": {},
   "outputs": [],
   "source": []
  },
  {
   "cell_type": "code",
   "execution_count": null,
   "metadata": {},
   "outputs": [],
   "source": []
  },
  {
   "cell_type": "code",
   "execution_count": null,
   "metadata": {
    "ExecuteTime": {
     "end_time": "2018-08-14T17:56:37.912011Z",
     "start_time": "2018-08-14T17:56:37.896383Z"
    }
   },
   "outputs": [],
   "source": [
    "# cbsas = {c['GEOID']: c['NAME'] for c in m.cbsa_info}\n",
    "# for cbsa, val in dis_list.iteritems():\n",
    "#     print(f'{cbsas[str(cbsa)]}: {round(val * 100, 1)}%')\n",
    "\n",
    "# bins = pd.IntervalIndex.from_tuples([(0, 0.02), \n",
    "#                                      (0.02, 0.04), \n",
    "#                                      (0.04, 0.06), \n",
    "#                                      (0.06, 0.08), \n",
    "#                                      (0.08, 0.10), \n",
    "#                                      (0.10, 0.12), \n",
    "#                                      (0.12, 0.2)])\n",
    "\n",
    "bins = [0, 0.02, 0.04, 0.06, 0.08, 0.1, 0.12, 0.2]\n",
    "colors = ['#4d9221', '#a1d76a', '#e6f5d0', '#f7f7f7', '#fde0ef', '#e9a3c9', '#c51b7d']\n",
    "colormap = pd.cut(dis_list, bins, labels=colors).to_dict()"
   ]
  },
  {
   "cell_type": "code",
   "execution_count": null,
   "metadata": {
    "ExecuteTime": {
     "end_time": "2018-08-14T17:47:15.132833Z",
     "start_time": "2018-08-14T17:47:15.101579Z"
    }
   },
   "outputs": [],
   "source": [
    "dis_list"
   ]
  },
  {
   "cell_type": "code",
   "execution_count": null,
   "metadata": {},
   "outputs": [],
   "source": []
  },
  {
   "cell_type": "code",
   "execution_count": null,
   "metadata": {},
   "outputs": [],
   "source": []
  },
  {
   "cell_type": "code",
   "execution_count": null,
   "metadata": {},
   "outputs": [],
   "source": []
  },
  {
   "cell_type": "code",
   "execution_count": null,
   "metadata": {},
   "outputs": [],
   "source": []
  },
  {
   "cell_type": "code",
   "execution_count": null,
   "metadata": {
    "ExecuteTime": {
     "end_time": "2018-08-14T19:11:53.106422Z",
     "start_time": "2018-08-14T19:11:53.090796Z"
    }
   },
   "outputs": [],
   "source": [
    "m(3990140.533171402, 2005714.2148839906)"
   ]
  },
  {
   "cell_type": "code",
   "execution_count": null,
   "metadata": {},
   "outputs": [],
   "source": []
  },
  {
   "cell_type": "code",
   "execution_count": null,
   "metadata": {
    "ExecuteTime": {
     "end_time": "2018-08-14T19:10:43.042695Z",
     "start_time": "2018-08-14T19:10:19.448525Z"
    }
   },
   "outputs": [],
   "source": [
    "m.cbsa"
   ]
  },
  {
   "cell_type": "code",
   "execution_count": null,
   "metadata": {},
   "outputs": [],
   "source": []
  },
  {
   "cell_type": "code",
   "execution_count": null,
   "metadata": {
    "ExecuteTime": {
     "end_time": "2018-08-14T15:09:02.078147Z",
     "start_time": "2018-08-14T15:09:01.937524Z"
    }
   },
   "outputs": [],
   "source": [
    "%matplotlib inline\n",
    "dis_list.hist()"
   ]
  },
  {
   "cell_type": "code",
   "execution_count": null,
   "metadata": {},
   "outputs": [],
   "source": []
  },
  {
   "cell_type": "code",
   "execution_count": null,
   "metadata": {
    "ExecuteTime": {
     "end_time": "2018-08-14T16:27:41.900577Z",
     "start_time": "2018-08-14T16:27:41.884952Z"
    }
   },
   "outputs": [],
   "source": [
    "%matplotlib inline\n",
    "from mpl_toolkits.basemap import Basemap\n",
    "import matplotlib.pyplot as plt\n",
    "from matplotlib.patches import Polygon\n",
    "from matplotlib.collections import PatchCollection\n",
    "from matplotlib.patches import PathPatch"
   ]
  },
  {
   "cell_type": "code",
   "execution_count": null,
   "metadata": {
    "ExecuteTime": {
     "end_time": "2018-08-14T15:53:01.446312Z",
     "start_time": "2018-08-14T15:53:01.040049Z"
    }
   },
   "outputs": [],
   "source": [
    "# Show full US:\n",
    "m = Basemap(llcrnrlon=-121, llcrnrlat=20, urcrnrlon=-64, urcrnrlat=49,\n",
    "            projection='lcc', lat_1=33, lat_2=45, lon_0=-95)"
   ]
  },
  {
   "cell_type": "code",
   "execution_count": null,
   "metadata": {
    "ExecuteTime": {
     "end_time": "2018-08-14T17:33:28.925678Z",
     "start_time": "2018-08-14T17:33:21.050695Z"
    }
   },
   "outputs": [],
   "source": [
    "plt.gcf()\n",
    "fig = plt.figure(figsize=(16,8))\n",
    "\n",
    "# Read the shapefile contained in the same folder (and the two related files)\n",
    "m.readshapefile('Shape/st99_d00', 'states', drawbounds=True, color='grey')\n",
    "m.readshapefile('Shape/tl_2013_us_cbsa', 'cbsa', drawbounds=False, color='grey')\n",
    "ax = plt.gca()\n",
    "\n",
    "for shape in m.states_info:\n",
    "    sh_num = int(shape['SHAPENUM'] - 1)\n",
    "    if shape['NAME'] == 'Hawaii' and float(shape['AREA']) > 0.005:\n",
    "        seg = [tuple([x + 5200000, y-1400000]) for x,y in m.states[sh_num]]\n",
    "    elif shape['NAME'] == 'Alaska' and float(shape['AREA']) > 0.0005:\n",
    "        seg = [tuple([0.35*x + 1100000, 0.35*y-1300000]) for x,y in m.states[sh_num]]\n",
    "    poly = Polygon(seg, facecolor='white', edgecolor='gray', linewidth=.5)\n",
    "    ax.add_patch(poly) \n",
    "\n",
    "for info, shape in zip(m.cbsa_info, m.cbsa):\n",
    "    if info['GEOID'] in list(dis_list[:5].index.astype('str')):\n",
    "        ax.add_patch(Polygon(shape, facecolor='blue'))    \n",
    "    \n",
    "# vlow = []\n",
    "# for info, shape in zip(m.cbsa_info, m.cbsa):\n",
    "#     if info['GEOID'] in list(dis_list[:5].index.astype('str')):\n",
    "#         vlow.append(Polygon(np.array(shape), True))\n",
    "#     if info ['NAME'][-2:] == 'HI' and info['RINGNUM'] == 1:\n",
    "#         poly = Polygon(np.array([tuple([x + 5200000, y-1400000]) for x,y in shape]), True)\n",
    "#         vlow.append(poly)\n",
    "#     if info ['NAME'][-2:] == 'AK' and info['RINGNUM'] == 1:\n",
    "#         poly = Polygon(np.array([tuple([0.35*x + 1100000, 0.35*y-1300000]) for x,y in shape]), True)\n",
    "#         vlow.append(poly)\n",
    "    \n",
    "# ax.add_collection(\n",
    "#     PatchCollection(vlow, facecolor='#4d9221', edgecolor='gray', \n",
    "#                     alpha=0.8, zorder=2))\n",
    "\n",
    "ax.axis('off')\n",
    "plt.show()"
   ]
  },
  {
   "cell_type": "code",
   "execution_count": null,
   "metadata": {
    "ExecuteTime": {
     "end_time": "2018-08-14T17:28:51.707549Z",
     "start_time": "2018-08-14T17:28:51.691924Z"
    }
   },
   "outputs": [],
   "source": [
    "vlow"
   ]
  },
  {
   "cell_type": "code",
   "execution_count": null,
   "metadata": {
    "ExecuteTime": {
     "end_time": "2018-08-14T17:28:46.160687Z",
     "start_time": "2018-08-14T17:28:46.145061Z"
    }
   },
   "outputs": [],
   "source": [
    "PatchCollection(vlow, facecolor='#4d9221', edgecolor='gray', \n",
    "                    alpha=0.8, zorder=2)"
   ]
  },
  {
   "cell_type": "code",
   "execution_count": null,
   "metadata": {
    "ExecuteTime": {
     "end_time": "2018-08-14T17:11:39.595407Z",
     "start_time": "2018-08-14T17:11:39.579782Z"
    }
   },
   "outputs": [],
   "source": [
    "list(dis_list[:5].index.astype('str'))"
   ]
  },
  {
   "cell_type": "code",
   "execution_count": null,
   "metadata": {
    "ExecuteTime": {
     "end_time": "2018-08-14T16:53:00.493009Z",
     "start_time": "2018-08-14T16:53:00.289883Z"
    }
   },
   "outputs": [],
   "source": [
    "m.cbsa_info"
   ]
  },
  {
   "cell_type": "code",
   "execution_count": null,
   "metadata": {
    "ExecuteTime": {
     "end_time": "2018-08-14T16:01:32.300009Z",
     "start_time": "2018-08-14T16:01:32.284386Z"
    }
   },
   "outputs": [],
   "source": [
    "cbsas = {c['GEOID']: c['NAME'] for c in m.cbsa_info}\n",
    "for cbsa, val in dis_list.iteritems():\n",
    "    print(f'{cbsas[str(cbsa)]}: {round(val * 100, 1)}%')"
   ]
  },
  {
   "cell_type": "code",
   "execution_count": null,
   "metadata": {
    "ExecuteTime": {
     "end_time": "2018-08-14T16:39:24.663282Z",
     "start_time": "2018-08-14T16:39:24.647658Z"
    }
   },
   "outputs": [],
   "source": [
    "cbsas = {c['GEOID']: c['NAME'] for c in m.cbsa_info}"
   ]
  },
  {
   "cell_type": "code",
   "execution_count": null,
   "metadata": {
    "ExecuteTime": {
     "end_time": "2018-08-14T16:42:53.041244Z",
     "start_time": "2018-08-14T16:42:53.025618Z"
    }
   },
   "outputs": [],
   "source": [
    "list(set([c['GEOID'] for c in m.cbsa_info if c['NAME'][-2:] == 'HI']))"
   ]
  },
  {
   "cell_type": "code",
   "execution_count": null,
   "metadata": {
    "ExecuteTime": {
     "end_time": "2018-08-14T15:49:20.946792Z",
     "start_time": "2018-08-14T15:49:20.931167Z"
    }
   },
   "outputs": [],
   "source": [
    "cbsas = {c['GEOID']: c['NAME'] for c in m.cbsa_info}\n",
    "for cbsa, val in dis_list.iteritems():\n",
    "    print(f'{cbsas[str(cbsa)]}: {round(val * 100, 1)}%')\n",
    "\n",
    "bins = pd.IntervalIndex.from_tuples([(0, 0.02), \n",
    "                                     (0.02, 0.04), \n",
    "                                     (0.04, 0.06), \n",
    "                                     (0.06, 0.08), \n",
    "                                     (0.08, 0.10), \n",
    "                                     (0.10, 0.12), \n",
    "                                     (0.12, 0.2)])\n",
    "\n",
    "pd.cut(dis_list, bins)"
   ]
  },
  {
   "cell_type": "code",
   "execution_count": null,
   "metadata": {
    "ExecuteTime": {
     "end_time": "2018-08-14T17:22:20.010070Z",
     "start_time": "2018-08-14T17:22:19.994445Z"
    }
   },
   "outputs": [],
   "source": [
    "pd.cut(dis_list, bins)"
   ]
  },
  {
   "cell_type": "code",
   "execution_count": null,
   "metadata": {
    "ExecuteTime": {
     "end_time": "2018-08-14T15:46:28.428732Z",
     "start_time": "2018-08-14T15:46:28.413107Z"
    }
   },
   "outputs": [],
   "source": [
    "dis_list"
   ]
  },
  {
   "cell_type": "code",
   "execution_count": null,
   "metadata": {},
   "outputs": [],
   "source": []
  },
  {
   "cell_type": "code",
   "execution_count": null,
   "metadata": {
    "ExecuteTime": {
     "end_time": "2018-08-14T16:55:43.717406Z",
     "start_time": "2018-08-14T16:55:20.570819Z"
    }
   },
   "outputs": [],
   "source": [
    "m.cbsa"
   ]
  },
  {
   "cell_type": "code",
   "execution_count": null,
   "metadata": {},
   "outputs": [],
   "source": []
  },
  {
   "cell_type": "code",
   "execution_count": null,
   "metadata": {},
   "outputs": [],
   "source": []
  },
  {
   "cell_type": "code",
   "execution_count": null,
   "metadata": {},
   "outputs": [],
   "source": []
  },
  {
   "cell_type": "code",
   "execution_count": null,
   "metadata": {},
   "outputs": [],
   "source": []
  },
  {
   "cell_type": "code",
   "execution_count": null,
   "metadata": {},
   "outputs": [],
   "source": []
  },
  {
   "cell_type": "code",
   "execution_count": null,
   "metadata": {},
   "outputs": [],
   "source": []
  },
  {
   "cell_type": "code",
   "execution_count": null,
   "metadata": {
    "ExecuteTime": {
     "end_time": "2018-08-14T14:41:53.732346Z",
     "start_time": "2018-08-14T14:41:39.154250Z"
    }
   },
   "outputs": [],
   "source": [
    "df = pd.DataFrame()  # Empty dataframe to fill with monthly data\n",
    "for cps_file in cps_files:\n",
    "    df = df.append(pd.read_fwf(f'{path}/{cps_file}', \n",
    "                      colspecs=[tuple([v[1], v[2]]) for v in cps_vars],\n",
    "                      names=[v[0] for v in cps_vars])\n",
    "                   .query('PEMLR != -1 and PWCMPWGT > 0 and GTCBSA > 0 '\n",
    "                          'and PRTAGE > 15 and PRTAGE < 65'))"
   ]
  },
  {
   "cell_type": "code",
   "execution_count": null,
   "metadata": {
    "ExecuteTime": {
     "end_time": "2018-08-14T14:25:08.450752Z",
     "start_time": "2018-08-14T14:25:08.278878Z"
    }
   },
   "outputs": [],
   "source": [
    "dis = lambda x: np.average(np.where(x['PEMLR'] == 6, 1, 0), weights=x['PWCMPWGT'])\n",
    "dis_list = df.query('PRTAGE > 15 and PRTAGE < 65').groupby('GTCBSA').apply(dis).sort_values()"
   ]
  },
  {
   "cell_type": "code",
   "execution_count": null,
   "metadata": {
    "ExecuteTime": {
     "end_time": "2018-08-14T14:25:09.435124Z",
     "start_time": "2018-08-14T14:25:09.419500Z"
    }
   },
   "outputs": [],
   "source": [
    "dis_list"
   ]
  },
  {
   "cell_type": "code",
   "execution_count": null,
   "metadata": {
    "ExecuteTime": {
     "end_time": "2018-08-14T06:20:23.351760Z",
     "start_time": "2018-08-14T06:20:23.211136Z"
    }
   },
   "outputs": [],
   "source": [
    "dis = lambda x: np.average(np.where(x['PEMLR'] == 6, 1, 0), weights=x['PWCMPWGT'])\n",
    "dis_list = df.query('PRTAGE > 24 and PRTAGE < 55').groupby('GTCBSA').apply(dis).sort_values()\n",
    "#dislist = list((dis2014 * 100)[-80:].index)"
   ]
  },
  {
   "cell_type": "code",
   "execution_count": null,
   "metadata": {
    "ExecuteTime": {
     "end_time": "2018-08-14T06:20:29.164248Z",
     "start_time": "2018-08-14T06:20:29.133000Z"
    }
   },
   "outputs": [],
   "source": [
    "dch = (dis2017 - dis2014).dropna()"
   ]
  },
  {
   "cell_type": "code",
   "execution_count": null,
   "metadata": {
    "ExecuteTime": {
     "end_time": "2018-08-14T06:20:35.086109Z",
     "start_time": "2018-08-14T06:20:35.070486Z"
    }
   },
   "outputs": [],
   "source": [
    "dkgreen = [str(cbsa) for cbsa, value in list(zip(dch.keys(), dch.values)) if value <= -0.05]\n",
    "mdgreen = [str(cbsa) for cbsa, value in list(zip(dch.keys(), dch.values)) if value <= -0.025 and value > -0.005]\n",
    "ltgreen = [str(cbsa) for cbsa, value in list(zip(dch.keys(), dch.values)) if value <= -0.005 and value > -0.025]\n",
    "neutral = [str(cbsa) for cbsa, value in list(zip(dch.keys(), dch.values)) if value < 0.005 and value >= -0.005]\n",
    "ltpink = [str(cbsa) for cbsa, value in list(zip(dch.keys(), dch.values)) if value < 0.025 and value >= 0.005]\n",
    "mdpink = [str(cbsa) for cbsa, value in list(zip(dch.keys(), dch.values)) if value < 0.05 and value >= 0.025]\n",
    "dkpink = [str(cbsa) for cbsa, value in list(zip(dch.keys(), dch.values)) if value >= 0.05]"
   ]
  },
  {
   "cell_type": "code",
   "execution_count": null,
   "metadata": {},
   "outputs": [],
   "source": []
  },
  {
   "cell_type": "code",
   "execution_count": null,
   "metadata": {
    "ExecuteTime": {
     "end_time": "2018-08-14T05:22:59.039954Z",
     "start_time": "2018-08-14T05:22:59.024328Z"
    }
   },
   "outputs": [],
   "source": [
    "blist = [str(i) for i in (dis2016 - dis2014).dropna().sort_values()[0:20].index]"
   ]
  },
  {
   "cell_type": "markdown",
   "metadata": {},
   "source": [
    "# Map"
   ]
  },
  {
   "cell_type": "code",
   "execution_count": null,
   "metadata": {
    "ExecuteTime": {
     "end_time": "2018-08-14T05:07:52.992597Z",
     "start_time": "2018-08-14T05:07:52.976970Z"
    }
   },
   "outputs": [],
   "source": [
    "%matplotlib inline\n",
    "from mpl_toolkits.basemap import Basemap\n",
    "import matplotlib.pyplot as plt\n",
    "from matplotlib.patches import Polygon\n",
    "from matplotlib.collections import PatchCollection\n",
    "from matplotlib.patches import PathPatch"
   ]
  },
  {
   "cell_type": "code",
   "execution_count": null,
   "metadata": {
    "ExecuteTime": {
     "end_time": "2018-08-14T04:34:22.284769Z",
     "start_time": "2018-08-14T04:34:21.878505Z"
    }
   },
   "outputs": [],
   "source": [
    "# Show full US:\n",
    "m = Basemap(llcrnrlon=-121, llcrnrlat=20, urcrnrlon=-64, urcrnrlat=49,\n",
    "            projection='lcc', lat_1=33, lat_2=45, lon_0=-95)"
   ]
  },
  {
   "cell_type": "code",
   "execution_count": null,
   "metadata": {
    "ExecuteTime": {
     "end_time": "2018-08-14T16:26:53.400686Z",
     "start_time": "2018-08-14T16:26:53.369435Z"
    }
   },
   "outputs": [],
   "source": [
    "plt.gcf()\n",
    "fig = plt.figure(figsize=(16,8))\n",
    "\n",
    "# Read the shapefile contained in the same folder (and the two related files)\n",
    "m.readshapefile('Shape/st99_d00', 'states', drawbounds=True, color='grey')\n",
    "m.readshapefile('Shape/tl_2013_us_cbsa', 'cbsa', drawbounds=False, color='grey')\n",
    "ax = plt.gca()\n",
    "\n",
    "for shape in m.states_info:\n",
    "    sh_num = int(shape['SHAPENUM'] - 1)\n",
    "    if shape['NAME'] == 'Hawaii' and float(shape['AREA']) > 0.005:\n",
    "        seg = [tuple([x + 5200000, y-1400000]) for x,y in m.states[sh_num]]\n",
    "    elif shape['NAME'] == 'Alaska' and float(shape['AREA']) > 0.0005:\n",
    "        seg = [tuple([0.35*x + 1100000, 0.35*y-1300000]) for x,y in m.states[sh_num]]\n",
    "    poly = Polygon(seg, facecolor='white', edgecolor='gray', linewidth=.5)\n",
    "    ax.add_patch(poly)\n",
    "\n",
    "vlow, mlow, llow, neu, lhi, mhi, vhi = ([] for i in range(7))\n",
    "for info, shape in zip(m.cbsa_info, m.cbsa):\n",
    "    if info['GEOID'] in dkgreen:\n",
    "        vlow.append(Polygon(np.array(shape), True))\n",
    "    if info['GEOID'] in mdgreen:\n",
    "        mlow.append(Polygon(np.array(shape), True))\n",
    "    if info['GEOID'] in ltgreen:\n",
    "        llow.append(Polygon(np.array(shape), True))\n",
    "    if info['GEOID'] in neutral:\n",
    "        neu.append(Polygon(np.array(shape), True))\n",
    "    if info['GEOID'] in ltpink:\n",
    "        lhi.append(Polygon(np.array(shape), True))\n",
    "    if info['GEOID'] in mdpink:\n",
    "        mhi.append(Polygon(np.array(shape), True))\n",
    "    if info['GEOID'] in dkpink:\n",
    "        vhi.append(Polygon(np.array(shape), True))\n",
    "\n",
    "ax.add_collection(\n",
    "    PatchCollection(vlow, facecolor='#4d9221', edgecolor='gray', \n",
    "                    alpha=0.8, zorder=2))\n",
    "ax.add_collection(\n",
    "    PatchCollection(mlow, facecolor='#a1d76a', edgecolor='gray', \n",
    "                    alpha=0.8, zorder=2))\n",
    "ax.add_collection(\n",
    "    PatchCollection(llow, facecolor='#fde0ef', edgecolor='gray', \n",
    "                    alpha=0.8, zorder=2))\n",
    "ax.add_collection(\n",
    "    PatchCollection(neu, facecolor='#f7f7f7', edgecolor='gray', \n",
    "                    alpha=0.8, zorder=2))\n",
    "ax.add_collection(\n",
    "    PatchCollection(lhi, facecolor='#e6f5d0', edgecolor='gray', \n",
    "                    alpha=0.8, zorder=2))\n",
    "ax.add_collection(\n",
    "    PatchCollection(mhi, facecolor='#a1d76a', edgecolor='gray', \n",
    "                    alpha=0.8, zorder=2))\n",
    "ax.add_collection(\n",
    "    PatchCollection(vhi, facecolor='#c51b7d', edgecolor='gray', \n",
    "                    alpha=0.8, zorder=2))\n",
    "    \n",
    "ax.axis('off')\n",
    "plt.show()"
   ]
  },
  {
   "cell_type": "code",
   "execution_count": null,
   "metadata": {
    "ExecuteTime": {
     "end_time": "2018-08-14T04:41:32.384041Z",
     "start_time": "2018-08-14T04:41:32.368416Z"
    }
   },
   "outputs": [],
   "source": [
    "for shape in m.states_info:\n",
    "    sh_num = int(shape['SHAPENUM'] - 1)\n",
    "    if shape['NAME'] == 'Hawaii' and float(shape['AREA']) > 0.005:\n",
    "        seg = [tuple([x + 5200000, y-1400000]) for x,y in m.states[sh_num]]\n",
    "    elif shapedict['NAME'] == 'Alaska':\n",
    "        seg = [tuple([0.35*x + 1100000, 0.35*y-1300000]) for x,y in m.states[sh_num]]\n",
    "    poly = Polygon(seg, facecolor='white', edgecolor='gray', linewidth=.5)\n",
    "    ax.add_patch(poly)\n",
    "        #    seg = list(map(lambda (x,y): (x + 5200000, y-1400000), seg))"
   ]
  },
  {
   "cell_type": "code",
   "execution_count": null,
   "metadata": {
    "ExecuteTime": {
     "end_time": "2018-08-14T16:37:57.272853Z",
     "start_time": "2018-08-14T16:37:57.257227Z"
    }
   },
   "outputs": [],
   "source": [
    "list(set([v['GEOID'] for v in m.cbsa_info if v['NAME'][-2:] == 'HI']))"
   ]
  },
  {
   "cell_type": "code",
   "execution_count": null,
   "metadata": {
    "ExecuteTime": {
     "end_time": "2018-08-14T11:57:23.344537Z",
     "start_time": "2018-08-14T11:57:23.324213Z"
    }
   },
   "outputs": [],
   "source": [
    "m.cbsa_info[0]['NAME'][-2:]"
   ]
  },
  {
   "cell_type": "code",
   "execution_count": null,
   "metadata": {
    "ExecuteTime": {
     "end_time": "2018-08-14T05:04:50.052545Z",
     "start_time": "2018-08-14T05:04:50.021298Z"
    }
   },
   "outputs": [],
   "source": [
    "patches = []\n",
    "\n",
    "for info, shape in zip(m.cbsa_info, m.cbsa):\n",
    "    if info['GEOID'] == '40380':\n",
    "        patches.append(Polygon(np.array(shape), True))\n",
    "        \n",
    "ax.add_collection(PatchCollection(patches, facecolor='blue', edgecolor='darkgray', alpha=0.8, linewidths=1., zorder=2))"
   ]
  },
  {
   "cell_type": "code",
   "execution_count": null,
   "metadata": {
    "ExecuteTime": {
     "end_time": "2018-08-14T04:41:55.811773Z",
     "start_time": "2018-08-14T04:41:55.780524Z"
    }
   },
   "outputs": [],
   "source": [
    "list(map(lambda (x,y): (x + 5200000, y-1400000), seg))"
   ]
  },
  {
   "cell_type": "code",
   "execution_count": null,
   "metadata": {
    "ExecuteTime": {
     "end_time": "2018-08-14T04:45:24.027685Z",
     "start_time": "2018-08-14T04:45:24.012061Z"
    }
   },
   "outputs": [],
   "source": [
    "[tuple([x + 5200000, y-1400000]) for x,y in m.states[sh_num]]"
   ]
  },
  {
   "cell_type": "code",
   "execution_count": null,
   "metadata": {},
   "outputs": [],
   "source": [
    "# Thanks to stackexchange for this solution to include Alaska and Hawaii\n",
    "for i, shapedict in enumerate(m.states_info):\n",
    "    # Translate the noncontiguous states:\n",
    "    if shapedict['NAME'] in ['Alaska', 'Hawaii']:\n",
    "        seg = m.states[int(shapedict['SHAPENUM'] - 1)]\n",
    "        # Only include the 8 main islands of Hawaii \n",
    "        if shapedict['NAME'] == 'Hawaii' and float(shapedict['AREA']) > 0.005:\n",
    "            seg = list(map(lambda (x,y): (x + 5200000, y-1400000), seg))\n",
    "        # Alaska is large. Rescale it.\n",
    "        elif shapedict['NAME'] == 'Alaska':\n",
    "            seg = list(map(lambda (x,y): (0.35*x + 1100000, 0.35*y-1300000), seg))\n",
    "        poly = Polygon(seg, facecolor='white', edgecolor='gray', linewidth=.5)\n",
    "        ax.add_patch(poly)\n"
   ]
  },
  {
   "cell_type": "code",
   "execution_count": null,
   "metadata": {},
   "outputs": [],
   "source": [
    "from mpl_toolkits.basemap import Basemap\n",
    "import matplotlib.pyplot as plt\n",
    "from matplotlib.patches import Polygon\n",
    "from matplotlib.collections import PatchCollection\n",
    "from matplotlib.patches import PathPatch\n",
    "import numpy as np\n",
    "\n",
    "plt.gcf()\n",
    "fig = plt.figure(figsize=(16,12))\n",
    "\n",
    "# Read the shapefile contained in the same folder (and the two related files)\n",
    "m.readshapefile('st99_d00', 'states', drawbounds=True, color='grey')\n",
    "m.readshapefile('roadtrl020', 'roads', drawbounds=False)\n",
    "m.readshapefile('cb_2016_us_csa_500k', 'msa', drawbounds=False, color='grey')\n",
    "#m.drawlsmask(land_color='#F2F3F4',ocean_color='white', resolution='i')\n",
    "m.fillcontinents(color='#F2F3F4')\n",
    "ax = plt.gca()\n",
    "\n",
    "for info, shape in zip(m.roads_info, m.roads):\n",
    "    if 'Highway' in info['FEATURE']:\n",
    "        x, y = zip(*shape) \n",
    "        m.plot(x, y, marker=None,color='lightgray')\n",
    "\n",
    "patches   = []\n",
    "\n",
    "for info, shape in zip(m.msa_info, m.msa):\n",
    "    if info['NAME'] == 'Washington-Baltimore-Arlington, DC-MD-VA-WV-PA':\n",
    "        patches.append( Polygon(np.array(shape), True) )\n",
    "        \n",
    "ax.add_collection(PatchCollection(patches, facecolor= 'blue', edgecolor='k', alpha=0.1, linewidths=1., zorder=2))\n",
    "\n",
    "# Plot each location, value, and color as identified in the previous section        \n",
    "for index, row in unemp_list.iterrows():\n",
    "    m.plot(row['x'], row['y'], marker='o', color=row['color'], alpha=0.5, \n",
    "           markersize = row['size'], markeredgecolor='Black', markeredgewidth=.25)\n",
    "\n",
    "ax.axis('off')    # Remove default border\n",
    "plt.title('One-year Change in Unemployment Rate, as of ' + date)\n",
    "plt.annotate('Data Source: U.S. Bureau of Labor Statistics, Local Area Unemployment Statistics; \\n' \\\n",
    "             'Code: https://github.com/bdecon/Python/tree/master/Unemp_Map',\n",
    "             (0,0), (0, 0), fontsize=9, xycoords='axes fraction', textcoords='offset points', va='top')\n",
    "\n",
    "# Legend \n",
    "l1 = plt.scatter([],[], marker='o',color='Limegreen', alpha=0.5, \n",
    "              s = 130, edgecolors='Black', linewidth=.25)\n",
    "l2 = plt.scatter([],[], marker='o',color='Red', alpha=0.5, \n",
    "              s = 130, edgecolors='Black', linewidth=.25)\n",
    "\n",
    "labels = [\"$-$1%\", \"+1%\"]\n",
    "\n",
    "leg = plt.legend([l1, l2], labels, ncol=1, frameon=False, fontsize=10,\n",
    "    handlelength=2, loc = 2, borderpad = 1.8,\n",
    "    handletextpad=1, title='Legend', scatterpoints = 1)\n",
    "plt.savefig('C:\\Users\\BDew\\Dropbox (CEPR)\\homestata\\Brian\\For_Alan\\State_Labor\\Graphics\\unemp_map.pdf', bbox_inches='tight', dpi=500)\n",
    "plt.show()"
   ]
  },
  {
   "cell_type": "code",
   "execution_count": null,
   "metadata": {},
   "outputs": [],
   "source": []
  },
  {
   "cell_type": "code",
   "execution_count": null,
   "metadata": {},
   "outputs": [],
   "source": []
  }
 ],
 "metadata": {
  "kernelspec": {
   "display_name": "Python 3",
   "language": "python",
   "name": "python3"
  },
  "language_info": {
   "codemirror_mode": {
    "name": "ipython",
    "version": 3
   },
   "file_extension": ".py",
   "mimetype": "text/x-python",
   "name": "python",
   "nbconvert_exporter": "python",
   "pygments_lexer": "ipython3",
   "version": "3.6.6"
  }
 },
 "nbformat": 4,
 "nbformat_minor": 2
}
