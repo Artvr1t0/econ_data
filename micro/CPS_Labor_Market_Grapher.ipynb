{
 "cells": [
  {
   "cell_type": "markdown",
   "metadata": {},
   "source": [
    "### CPS_Labor_Market_Grapher\n",
    "\n",
    "Updated: May 21, 2018 \n",
    "\n",
    "Brian Dew, @bd_econ\n",
    "\n",
    "-----\n",
    "\n",
    "Make decent looking line graphs for various labor market indicators.\n",
    "\n",
    "TO DO:\n",
    "\n",
    "Option for part-time for economic reasons and part time for noneconomic reasons\n",
    "\n",
    "Option for up to three lines.\n",
    "\n",
    "Usual weekly hours as an option.\n",
    "\n",
    "UHE/UWE -- try to match with other published data"
   ]
  },
  {
   "cell_type": "code",
   "execution_count": 1,
   "metadata": {
    "ExecuteTime": {
     "end_time": "2018-06-11T02:44:12.234379Z",
     "start_time": "2018-06-11T02:44:09.562372Z"
    },
    "code_folding": [
     0
    ]
   },
   "outputs": [],
   "source": [
    "# Preliminaries--load packages and settings\n",
    "%matplotlib inline\n",
    "import matplotlib as mpl\n",
    "import matplotlib.pyplot as plt\n",
    "plt.style.use('seaborn-white')\n",
    "mpl.rc('axes', edgecolor='white') # Hide the axes\n",
    "plt.rc('axes', axisbelow=True)\n",
    "import pandas as pd\n",
    "import numpy as np\n",
    "import wquantiles\n",
    "\n",
    "# Recession start and end months, from NBER\n",
    "rec_dt = [('2001-04-01', '2001-12-01'), ('2008-01-01', '2009-07-01')]"
   ]
  },
  {
   "cell_type": "code",
   "execution_count": 2,
   "metadata": {
    "ExecuteTime": {
     "end_time": "2018-06-11T02:44:13.359461Z",
     "start_time": "2018-06-11T02:44:13.296957Z"
    },
    "code_folding": [
     0
    ]
   },
   "outputs": [],
   "source": [
    "# Consumer Price Index to adjust nominal prices\n",
    "cpi = pd.read_csv('cpi.csv')\n",
    "cpi.index = pd.to_datetime(cpi.DATE)"
   ]
  },
  {
   "cell_type": "code",
   "execution_count": null,
   "metadata": {},
   "outputs": [],
   "source": []
  },
  {
   "cell_type": "code",
   "execution_count": 11,
   "metadata": {
    "ExecuteTime": {
     "end_time": "2018-06-11T02:53:24.165003Z",
     "start_time": "2018-06-11T02:53:24.133741Z"
    },
    "code_folding": []
   },
   "outputs": [],
   "source": [
    "# Functions that get labor force data from the CPS and graph it\n",
    "def get_cps_data(filters, calc_type, decile=0.5, rtype='share'):\n",
    "    \"\"\"Filter the database and calculate labor market stat\"\"\"\n",
    "    data = pd.Series()\n",
    "    for year in range(1994, 2019):\n",
    "        d = pd.read_feather(f'data/cps_{year}.ft', nthreads=3)\n",
    "        for month in range(1, 13):\n",
    "            df = d[(d['HRMONTH'] == month)]\n",
    "            if len(df) > 0:\n",
    "                df = df.query(filters)\n",
    "                if calc_type == 'epop':\n",
    "                    empl = np.where(df['PREMPNOT']==1, 1, 0)\n",
    "                    epop = np.average(empl, weights=df['PWSSWGT'])\n",
    "                    data[pd.to_datetime(f'{year}-{month}-01')] = epop * 100\n",
    "                if calc_type == 'unemp':\n",
    "                    un = np.where(df['PREMPNOT']==2, 1, 0)\n",
    "                    lf = np.where(df['PREMPNOT'].isin([1, 2]), 1, 0)\n",
    "                    unrt = (df['PWSSWGT'] * un).sum() / (df['PWSSWGT'] * lf).sum()\n",
    "                    data[pd.to_datetime(f'{year}-{month}-01')] = unrt * 100\n",
    "                if calc_type == 'lfpr':\n",
    "                    lf = np.where(df['PREMPNOT'].isin([1, 2]), 1, 0)\n",
    "                    unrt = (df['PWSSWGT'] * lf).sum() / (df['PWSSWGT']).sum()\n",
    "                    data[pd.to_datetime(f'{year}-{month}-01')] = unrt * 100\n",
    "                if calc_type == 'resp':\n",
    "                    same = np.where(df['PUIODP1']==1, 1, 0)\n",
    "                    resp = np.where((df['PUIODP1']==1) & (df['PUIODP2']==1), 1, 0)\n",
    "                    resh = (df['PWSSWGT'] * resp).sum() / (df['PWSSWGT'] * same).sum()\n",
    "                    data[pd.to_datetime(f'{year}-{month}-01')] = resh * 100\n",
    "                if calc_type == 'selfuninc':\n",
    "                    seu = np.where(((df['PEIO1COW']==7) | (df['PEIO2COW']==7)), 1, 0)\n",
    "                    seurt = (df['PWSSWGT'] * seu).sum() / (df['PWSSWGT']).sum()\n",
    "                    data[pd.to_datetime(f'{year}-{month}-01')] = seurt * 100\n",
    "                if calc_type == 'mjh':\n",
    "                    mjh = np.where(df['PRSJMJ']==2, 1, 0)\n",
    "                    jh = np.where(df['PRSJMJ'].isin([1,2]), 1, 0)\n",
    "                    mjs = (df['PWSSWGT'] * mjh).sum() / (df['PWSSWGT'] * jh).sum()\n",
    "                    data[pd.to_datetime(f'{year}-{month}-01')] = mjs * 100\n",
    "                if calc_type == 'total':\n",
    "                    if rtype == 'level':\n",
    "                        tot = (df['PWSSWGT'] / 100000000).sum() / 100\n",
    "                    else:\n",
    "                        tot = (df['PWSSWGT']).sum() / (d[(d['HRMONTH'] == month)]['PWSSWGT']).sum() * 100\n",
    "                    data[pd.to_datetime(f'{year}-{month}-01')] = tot\n",
    "                # Following based on:\n",
    "                # https://www.frbatlanta.org/chcs/human-capital-currents/2015/0612-measuring-labor-market-status-using-basic-data.aspx\n",
    "                if calc_type == 'disc':\n",
    "                    dw = np.where(df['PEDWWNTO'].isin([1]), 1, 0)\n",
    "                    if rtype == 'level':\n",
    "                        dwrt = ((df['PWSSWGT'] / 100000000) * dw).sum() / 100\n",
    "                    else:\n",
    "                        dwrt = (df['PWSSWGT'] * dw).sum() / (df['PWSSWGT']).sum() * 100\n",
    "                    data[pd.to_datetime(f'{year}-{month}-01')] = dwrt \n",
    "                if calc_type == 'nilfsch':\n",
    "                    ns = np.where((df['PRWNTJOB']==2) & (df['PENLFACT']==3), 1, 0)\n",
    "                    if rtype == 'level':\n",
    "                        scrt = ((df['PWSSWGT'] / 100000000) * ns).sum() / 100\n",
    "                    else:\n",
    "                        scrt = (df['PWSSWGT'] * ns).sum() / (df['PWSSWGT']).sum() * 100\n",
    "                    data[pd.to_datetime(f'{year}-{month}-01')] = scrt\n",
    "                if calc_type == 'disill':\n",
    "                    nd = np.where(((df['PRWNTJOB']==2) & \n",
    "                                   ((df['PEMLR']==6) | \n",
    "                                    (df['PENLFACT']==1) | \n",
    "                                    (df['PENLFACT']==2))), 1, 0)\n",
    "                    if rtype == 'level':\n",
    "                        di = ((df['PWSSWGT'] / 100000000) * nd).sum() / 100\n",
    "                    else:                    \n",
    "                        di = (df['PWSSWGT'] * nd).sum() / (df['PWSSWGT']).sum() * 100\n",
    "                    data[pd.to_datetime(f'{year}-{month}-01')] = di\n",
    "                if calc_type == 'care':\n",
    "                    care = np.where((df['PRWNTJOB']==2) & (df['PENLFACT']==4), 1, 0)\n",
    "                    if rtype == 'level':\n",
    "                        ncare = ((df['PWSSWGT'] / 100000000) * care).sum() / 100\n",
    "                    else:                      \n",
    "                        ncare = (df['PWSSWGT'] * care).sum() / (df['PWSSWGT']).sum() * 100 \n",
    "                    data[pd.to_datetime(f'{year}-{month}-01')] = ncare\n",
    "                if calc_type == 'union':\n",
    "                    tot = np.where(df['PEERNLAB'].isin([1, 2]), 1, 0)\n",
    "                    union = np.where(df['PEERNLAB'] == 1, 1, 0)\n",
    "                    if rtype == 'level':\n",
    "                        unsh = ((df['PWORWGT'] / 100000000) * union).sum() / 100\n",
    "                    else:\n",
    "                        unsh = (df['PWORWGT'] * union).sum() / (df['PWORWGT'] * tot).sum() * 100 \n",
    "                    data[pd.to_datetime(f'{year}-{month}-01')] = unsh               \n",
    "                if calc_type in ['uwe', 'uwe_gr', 'uwe_r', 'uwe_r_gr']:\n",
    "                    uwe = wquantiles.quantile(\n",
    "                        df['PRERNWA'], df['PWORWGT'].astype(float), decile) / 100.0\n",
    "                    data[pd.to_datetime(f'{year}-{month}-01')] = uwe\n",
    "                if calc_type in ['uhe', 'uhe_gr', 'uhe_r']:\n",
    "                    uhe = wquantiles.quantile(\n",
    "                        df['PRERNHLY'], df['PWORWGT'].astype(float), decile) / 100.0\n",
    "                    data[pd.to_datetime(f'{year}-{month}-01')] = uhe\n",
    "        if calc_type in ['quwe_r', 'quwe']:\n",
    "            for q in [('Q1', [1, 2, 3]), ('Q2', [4, 5, 6]), ('Q3', [7, 8, 9]), ('Q4', [10, 11, 12])]:\n",
    "                df = d[(d['HRMONTH'].isin(q[1]))]\n",
    "                if len(df['HRMONTH'].unique()) > 2:\n",
    "                    df = df.query(filters)\n",
    "                    quwe = wquantiles.quantile(\n",
    "                        df['PRERNWA'], df['PWORWGT'].astype(float), decile) / 100.0\n",
    "                    data[pd.to_datetime(f'{year}-{q[0]}')] = quwe\n",
    "    \n",
    "    # Price adjustment for real wage series\n",
    "    if calc_type in ['uwe_r', 'uhe_r', 'quwe_r', 'uwe_r_gr']:\n",
    "        data = pd.concat([data, cpi['CPIAUCSL']], axis=1)\n",
    "        data = (data[0] * data['CPIAUCSL'].iloc[-1]) / data['CPIAUCSL']\n",
    "        \n",
    "    # Growth if wage series\n",
    "    if calc_type in ['uwe_gr', 'uhe_gr', 'uwe_r_gr']:\n",
    "        data = data.rolling(12).mean().pct_change(12) * 100\n",
    "        \n",
    "    if calc_type not in ['quwe_r', 'quwe', 'uwe_gr', 'uhe_gr']:\n",
    "        data = data.rolling(12).mean().dropna()\n",
    "    \n",
    "    # Take one-year moving average to smooth out seasonality and noise\n",
    "    return data.dropna()\n",
    "\n",
    "def labor_mkt_grapher(title, data, color, decimals=1):\n",
    "    \"\"\"Graph the labor market! \"\"\"\n",
    "    spcr, spcr2 = (data.max() - data.min()) / 26, (data.max() - data.min()) / 40\n",
    "    ax = data.plot(title=title, figsize=(8, 4), color=color)\n",
    "    ax = plt.scatter([data.index[-1]], [data[-1]], color=color, s=25)\n",
    "    for i, v in rec_dt:\n",
    "        ax = plt.axvspan(i, v, fill=True, linewidth=0, color='gray', alpha=0.2)\n",
    "    if decimals == 1:\n",
    "        ax = plt.annotate(f'   {data[-1]: .1f}%', (data.index[-1], data[-1]-spcr2))\n",
    "        ax = plt.xlabel('Source: Current Population Survey microdata, 12-month moving average')\n",
    "    else:\n",
    "        ax = plt.annotate(f'   ${data[-1]: .2f}', (data.index[-1], data[-1]-spcr2))\n",
    "        ax = plt.xlabel('Source: Current Population Survey microdata, adjusted for inflation by CPI-U')\n",
    "    ax = plt.annotate(f'  {data.index[-1]:%b %Y}', (data.index[-1], data[-1]+spcr), \n",
    "                      fontweight='bold')"
   ]
  },
  {
   "cell_type": "code",
   "execution_count": 8,
   "metadata": {
    "ExecuteTime": {
     "end_time": "2018-05-28T00:29:58.393878Z",
     "start_time": "2018-05-28T00:29:48.705964Z"
    },
    "code_folding": []
   },
   "outputs": [
    {
     "data": {
      "image/png": "[encoded data removed]",
      "text/plain": [
       "<Figure size 576x288 with 1 Axes>"
      ]
     },
     "metadata": {},
     "output_type": "display_data"
    }
   ],
   "source": [
    "# Calculate total group size (millions)\n",
    "filters = 'PRTAGE < 35'\n",
    "calc_type = 'union'\n",
    "title = 'Usual weekly earnings, under age 35'\n",
    "data = get_cps_data(filters, calc_type)\n",
    "labor_mkt_grapher(title, data, 'green')"
   ]
  },
  {
   "cell_type": "code",
   "execution_count": null,
   "metadata": {},
   "outputs": [],
   "source": []
  },
  {
   "cell_type": "code",
   "execution_count": null,
   "metadata": {
    "ExecuteTime": {
     "end_time": "2018-05-07T03:54:57.575884Z",
     "start_time": "2018-05-07T03:54:50.105967Z"
    },
    "code_folding": [
     0
    ]
   },
   "outputs": [],
   "source": [
    "# Calculate total group size (millions)\n",
    "filters = 'PRTAGE > 24 and PRTAGE < 55 and PRDTIND1 == 4'\n",
    "calc_type = 'resp'\n",
    "title = 'Same job, new responsibilities'\n",
    "data = get_cps_data(filters, calc_type)\n",
    "labor_mkt_grapher(title, data, 'green')"
   ]
  },
  {
   "cell_type": "code",
   "execution_count": 14,
   "metadata": {
    "ExecuteTime": {
     "end_time": "2018-05-28T01:04:32.042926Z",
     "start_time": "2018-05-28T01:04:23.533010Z"
    },
    "code_folding": []
   },
   "outputs": [
    {
     "data": {
      "image/png": "[encoded data removed]",
      "text/plain": [
       "<Figure size 576x288 with 1 Axes>"
      ]
     },
     "metadata": {},
     "output_type": "display_data"
    }
   ],
   "source": [
    "# Weekly wage growth\n",
    "filters = 'PRFTLF == 1 and PRERNWA > 0'\n",
    "calc_type = 'uwe_r'\n",
    "title = 'Real median usual weekly earnings, 12-month MA'\n",
    "data2 = get_cps_data(filters, calc_type, decile=0.5)\n",
    "labor_mkt_grapher(title, data2, 'blue', decimals=2)\n",
    "#plt.savefig('uwe.png', bbox_inches='tight', dpi=100)"
   ]
  },
  {
   "cell_type": "code",
   "execution_count": 17,
   "metadata": {
    "ExecuteTime": {
     "end_time": "2018-05-28T01:05:34.652800Z",
     "start_time": "2018-05-28T01:05:34.634573Z"
    }
   },
   "outputs": [],
   "source": [
    "df = pd.concat([data,data2], axis=1)"
   ]
  },
  {
   "cell_type": "code",
   "execution_count": 18,
   "metadata": {
    "ExecuteTime": {
     "end_time": "2018-05-28T01:05:40.523010Z",
     "start_time": "2018-05-28T01:05:40.512760Z"
    }
   },
   "outputs": [],
   "source": [
    "df.columns = ['25-54', '16+']"
   ]
  },
  {
   "cell_type": "code",
   "execution_count": 20,
   "metadata": {
    "ExecuteTime": {
     "end_time": "2018-05-28T01:06:08.252938Z",
     "start_time": "2018-05-28T01:06:08.231802Z"
    }
   },
   "outputs": [],
   "source": [
    "df.to_csv('cps_uwe_r.csv')"
   ]
  },
  {
   "cell_type": "code",
   "execution_count": null,
   "metadata": {
    "ExecuteTime": {
     "end_time": "2018-04-22T21:52:04.541447Z",
     "start_time": "2018-04-22T21:51:57.201210Z"
    },
    "code_folding": [
     0
    ]
   },
   "outputs": [],
   "source": [
    "# Weekly wage growth\n",
    "filters = 'PRTAGE > 24 and PRTAGE < 55 and PESEX == 2 and PRFTLF == 1 and PRERNWA > 0 and PEEDUCA < 43'\n",
    "calc_type = 'uwe_r'\n",
    "title = \"Real median usual weekly earnings, women age 25-54, less than bachelor's degree, 12-month MA\"\n",
    "data = get_cps_data(filters, calc_type, decile=0.5)\n",
    "labor_mkt_grapher(title, data, 'red')\n",
    "plt.savefig('uwe_ba.png', bbox_inches='tight', dpi=100)"
   ]
  },
  {
   "cell_type": "code",
   "execution_count": 7,
   "metadata": {
    "ExecuteTime": {
     "end_time": "2018-05-28T00:29:30.949909Z",
     "start_time": "2018-05-28T00:29:23.476311Z"
    },
    "code_folding": [
     0
    ],
    "collapsed": true
   },
   "outputs": [
    {
     "ename": "TypeError",
     "evalue": "Empty 'DataFrame': no numeric data to plot",
     "output_type": "error",
     "traceback": [
      "\u001b[1;31m---------------------------------------------------------------------------\u001b[0m",
      "\u001b[1;31mTypeError\u001b[0m                                 Traceback (most recent call last)",
      "\u001b[1;32m<ipython-input-7-e6b89284e422>\u001b[0m in \u001b[0;36m<module>\u001b[1;34m()\u001b[0m\n\u001b[0;32m      4\u001b[0m \u001b[0mtitle\u001b[0m \u001b[1;33m=\u001b[0m \u001b[1;34m'Median real weekly earnings growth, black, under age 35'\u001b[0m\u001b[1;33m\u001b[0m\u001b[0m\n\u001b[0;32m      5\u001b[0m \u001b[0mdata\u001b[0m \u001b[1;33m=\u001b[0m \u001b[0mget_cps_data\u001b[0m\u001b[1;33m(\u001b[0m\u001b[0mfilters\u001b[0m\u001b[1;33m,\u001b[0m \u001b[0mcalc_type\u001b[0m\u001b[1;33m,\u001b[0m \u001b[0mdecile\u001b[0m\u001b[1;33m=\u001b[0m\u001b[1;36m0.5\u001b[0m\u001b[1;33m)\u001b[0m\u001b[1;33m\u001b[0m\u001b[0m\n\u001b[1;32m----> 6\u001b[1;33m \u001b[0mlabor_mkt_grapher\u001b[0m\u001b[1;33m(\u001b[0m\u001b[0mtitle\u001b[0m\u001b[1;33m,\u001b[0m \u001b[0mdata\u001b[0m\u001b[1;33m,\u001b[0m \u001b[1;34m'blue'\u001b[0m\u001b[1;33m)\u001b[0m\u001b[1;33m\u001b[0m\u001b[0m\n\u001b[0m",
      "\u001b[1;32m<ipython-input-3-6c9cbefde136>\u001b[0m in \u001b[0;36mlabor_mkt_grapher\u001b[1;34m(title, data, color, decimals)\u001b[0m\n\u001b[0;32m    109\u001b[0m     \u001b[1;34m\"\"\"Graph the labor market! \"\"\"\u001b[0m\u001b[1;33m\u001b[0m\u001b[0m\n\u001b[0;32m    110\u001b[0m     \u001b[0mspcr\u001b[0m\u001b[1;33m,\u001b[0m \u001b[0mspcr2\u001b[0m \u001b[1;33m=\u001b[0m \u001b[1;33m(\u001b[0m\u001b[0mdata\u001b[0m\u001b[1;33m.\u001b[0m\u001b[0mmax\u001b[0m\u001b[1;33m(\u001b[0m\u001b[1;33m)\u001b[0m \u001b[1;33m-\u001b[0m \u001b[0mdata\u001b[0m\u001b[1;33m.\u001b[0m\u001b[0mmin\u001b[0m\u001b[1;33m(\u001b[0m\u001b[1;33m)\u001b[0m\u001b[1;33m)\u001b[0m \u001b[1;33m/\u001b[0m \u001b[1;36m26\u001b[0m\u001b[1;33m,\u001b[0m \u001b[1;33m(\u001b[0m\u001b[0mdata\u001b[0m\u001b[1;33m.\u001b[0m\u001b[0mmax\u001b[0m\u001b[1;33m(\u001b[0m\u001b[1;33m)\u001b[0m \u001b[1;33m-\u001b[0m \u001b[0mdata\u001b[0m\u001b[1;33m.\u001b[0m\u001b[0mmin\u001b[0m\u001b[1;33m(\u001b[0m\u001b[1;33m)\u001b[0m\u001b[1;33m)\u001b[0m \u001b[1;33m/\u001b[0m \u001b[1;36m40\u001b[0m\u001b[1;33m\u001b[0m\u001b[0m\n\u001b[1;32m--> 111\u001b[1;33m     \u001b[0max\u001b[0m \u001b[1;33m=\u001b[0m \u001b[0mdata\u001b[0m\u001b[1;33m.\u001b[0m\u001b[0mplot\u001b[0m\u001b[1;33m(\u001b[0m\u001b[0mtitle\u001b[0m\u001b[1;33m=\u001b[0m\u001b[0mtitle\u001b[0m\u001b[1;33m,\u001b[0m \u001b[0mfigsize\u001b[0m\u001b[1;33m=\u001b[0m\u001b[1;33m(\u001b[0m\u001b[1;36m8\u001b[0m\u001b[1;33m,\u001b[0m \u001b[1;36m4\u001b[0m\u001b[1;33m)\u001b[0m\u001b[1;33m,\u001b[0m \u001b[0mcolor\u001b[0m\u001b[1;33m=\u001b[0m\u001b[0mcolor\u001b[0m\u001b[1;33m)\u001b[0m\u001b[1;33m\u001b[0m\u001b[0m\n\u001b[0m\u001b[0;32m    112\u001b[0m     \u001b[0max\u001b[0m \u001b[1;33m=\u001b[0m \u001b[0mplt\u001b[0m\u001b[1;33m.\u001b[0m\u001b[0mscatter\u001b[0m\u001b[1;33m(\u001b[0m\u001b[1;33m[\u001b[0m\u001b[0mdata\u001b[0m\u001b[1;33m.\u001b[0m\u001b[0mindex\u001b[0m\u001b[1;33m[\u001b[0m\u001b[1;33m-\u001b[0m\u001b[1;36m1\u001b[0m\u001b[1;33m]\u001b[0m\u001b[1;33m]\u001b[0m\u001b[1;33m,\u001b[0m \u001b[1;33m[\u001b[0m\u001b[0mdata\u001b[0m\u001b[1;33m[\u001b[0m\u001b[1;33m-\u001b[0m\u001b[1;36m1\u001b[0m\u001b[1;33m]\u001b[0m\u001b[1;33m]\u001b[0m\u001b[1;33m,\u001b[0m \u001b[0mcolor\u001b[0m\u001b[1;33m=\u001b[0m\u001b[0mcolor\u001b[0m\u001b[1;33m,\u001b[0m \u001b[0ms\u001b[0m\u001b[1;33m=\u001b[0m\u001b[1;36m25\u001b[0m\u001b[1;33m)\u001b[0m\u001b[1;33m\u001b[0m\u001b[0m\n\u001b[0;32m    113\u001b[0m     \u001b[1;32mfor\u001b[0m \u001b[0mi\u001b[0m\u001b[1;33m,\u001b[0m \u001b[0mv\u001b[0m \u001b[1;32min\u001b[0m \u001b[0mrec_dt\u001b[0m\u001b[1;33m:\u001b[0m\u001b[1;33m\u001b[0m\u001b[0m\n",
      "\u001b[1;32m~\\Anaconda3\\lib\\site-packages\\pandas\\plotting\\_core.py\u001b[0m in \u001b[0;36m__call__\u001b[1;34m(self, kind, ax, figsize, use_index, title, grid, legend, style, logx, logy, loglog, xticks, yticks, xlim, ylim, rot, fontsize, colormap, table, yerr, xerr, label, secondary_y, **kwds)\u001b[0m\n\u001b[0;32m   2739\u001b[0m                            \u001b[0mcolormap\u001b[0m\u001b[1;33m=\u001b[0m\u001b[0mcolormap\u001b[0m\u001b[1;33m,\u001b[0m \u001b[0mtable\u001b[0m\u001b[1;33m=\u001b[0m\u001b[0mtable\u001b[0m\u001b[1;33m,\u001b[0m \u001b[0myerr\u001b[0m\u001b[1;33m=\u001b[0m\u001b[0myerr\u001b[0m\u001b[1;33m,\u001b[0m\u001b[1;33m\u001b[0m\u001b[0m\n\u001b[0;32m   2740\u001b[0m                            \u001b[0mxerr\u001b[0m\u001b[1;33m=\u001b[0m\u001b[0mxerr\u001b[0m\u001b[1;33m,\u001b[0m \u001b[0mlabel\u001b[0m\u001b[1;33m=\u001b[0m\u001b[0mlabel\u001b[0m\u001b[1;33m,\u001b[0m \u001b[0msecondary_y\u001b[0m\u001b[1;33m=\u001b[0m\u001b[0msecondary_y\u001b[0m\u001b[1;33m,\u001b[0m\u001b[1;33m\u001b[0m\u001b[0m\n\u001b[1;32m-> 2741\u001b[1;33m                            **kwds)\n\u001b[0m\u001b[0;32m   2742\u001b[0m     \u001b[0m__call__\u001b[0m\u001b[1;33m.\u001b[0m\u001b[0m__doc__\u001b[0m \u001b[1;33m=\u001b[0m \u001b[0mplot_series\u001b[0m\u001b[1;33m.\u001b[0m\u001b[0m__doc__\u001b[0m\u001b[1;33m\u001b[0m\u001b[0m\n\u001b[0;32m   2743\u001b[0m \u001b[1;33m\u001b[0m\u001b[0m\n",
      "\u001b[1;32m~\\Anaconda3\\lib\\site-packages\\pandas\\plotting\\_core.py\u001b[0m in \u001b[0;36mplot_series\u001b[1;34m(data, kind, ax, figsize, use_index, title, grid, legend, style, logx, logy, loglog, xticks, yticks, xlim, ylim, rot, fontsize, colormap, table, yerr, xerr, label, secondary_y, **kwds)\u001b[0m\n\u001b[0;32m   2000\u001b[0m                  \u001b[0myerr\u001b[0m\u001b[1;33m=\u001b[0m\u001b[0myerr\u001b[0m\u001b[1;33m,\u001b[0m \u001b[0mxerr\u001b[0m\u001b[1;33m=\u001b[0m\u001b[0mxerr\u001b[0m\u001b[1;33m,\u001b[0m\u001b[1;33m\u001b[0m\u001b[0m\n\u001b[0;32m   2001\u001b[0m                  \u001b[0mlabel\u001b[0m\u001b[1;33m=\u001b[0m\u001b[0mlabel\u001b[0m\u001b[1;33m,\u001b[0m \u001b[0msecondary_y\u001b[0m\u001b[1;33m=\u001b[0m\u001b[0msecondary_y\u001b[0m\u001b[1;33m,\u001b[0m\u001b[1;33m\u001b[0m\u001b[0m\n\u001b[1;32m-> 2002\u001b[1;33m                  **kwds)\n\u001b[0m\u001b[0;32m   2003\u001b[0m \u001b[1;33m\u001b[0m\u001b[0m\n\u001b[0;32m   2004\u001b[0m \u001b[1;33m\u001b[0m\u001b[0m\n",
      "\u001b[1;32m~\\Anaconda3\\lib\\site-packages\\pandas\\plotting\\_core.py\u001b[0m in \u001b[0;36m_plot\u001b[1;34m(data, x, y, subplots, ax, kind, **kwds)\u001b[0m\n\u001b[0;32m   1802\u001b[0m         \u001b[0mplot_obj\u001b[0m \u001b[1;33m=\u001b[0m \u001b[0mklass\u001b[0m\u001b[1;33m(\u001b[0m\u001b[0mdata\u001b[0m\u001b[1;33m,\u001b[0m \u001b[0msubplots\u001b[0m\u001b[1;33m=\u001b[0m\u001b[0msubplots\u001b[0m\u001b[1;33m,\u001b[0m \u001b[0max\u001b[0m\u001b[1;33m=\u001b[0m\u001b[0max\u001b[0m\u001b[1;33m,\u001b[0m \u001b[0mkind\u001b[0m\u001b[1;33m=\u001b[0m\u001b[0mkind\u001b[0m\u001b[1;33m,\u001b[0m \u001b[1;33m**\u001b[0m\u001b[0mkwds\u001b[0m\u001b[1;33m)\u001b[0m\u001b[1;33m\u001b[0m\u001b[0m\n\u001b[0;32m   1803\u001b[0m \u001b[1;33m\u001b[0m\u001b[0m\n\u001b[1;32m-> 1804\u001b[1;33m     \u001b[0mplot_obj\u001b[0m\u001b[1;33m.\u001b[0m\u001b[0mgenerate\u001b[0m\u001b[1;33m(\u001b[0m\u001b[1;33m)\u001b[0m\u001b[1;33m\u001b[0m\u001b[0m\n\u001b[0m\u001b[0;32m   1805\u001b[0m     \u001b[0mplot_obj\u001b[0m\u001b[1;33m.\u001b[0m\u001b[0mdraw\u001b[0m\u001b[1;33m(\u001b[0m\u001b[1;33m)\u001b[0m\u001b[1;33m\u001b[0m\u001b[0m\n\u001b[0;32m   1806\u001b[0m     \u001b[1;32mreturn\u001b[0m \u001b[0mplot_obj\u001b[0m\u001b[1;33m.\u001b[0m\u001b[0mresult\u001b[0m\u001b[1;33m\u001b[0m\u001b[0m\n",
      "\u001b[1;32m~\\Anaconda3\\lib\\site-packages\\pandas\\plotting\\_core.py\u001b[0m in \u001b[0;36mgenerate\u001b[1;34m(self)\u001b[0m\n\u001b[0;32m    256\u001b[0m     \u001b[1;32mdef\u001b[0m \u001b[0mgenerate\u001b[0m\u001b[1;33m(\u001b[0m\u001b[0mself\u001b[0m\u001b[1;33m)\u001b[0m\u001b[1;33m:\u001b[0m\u001b[1;33m\u001b[0m\u001b[0m\n\u001b[0;32m    257\u001b[0m         \u001b[0mself\u001b[0m\u001b[1;33m.\u001b[0m\u001b[0m_args_adjust\u001b[0m\u001b[1;33m(\u001b[0m\u001b[1;33m)\u001b[0m\u001b[1;33m\u001b[0m\u001b[0m\n\u001b[1;32m--> 258\u001b[1;33m         \u001b[0mself\u001b[0m\u001b[1;33m.\u001b[0m\u001b[0m_compute_plot_data\u001b[0m\u001b[1;33m(\u001b[0m\u001b[1;33m)\u001b[0m\u001b[1;33m\u001b[0m\u001b[0m\n\u001b[0m\u001b[0;32m    259\u001b[0m         \u001b[0mself\u001b[0m\u001b[1;33m.\u001b[0m\u001b[0m_setup_subplots\u001b[0m\u001b[1;33m(\u001b[0m\u001b[1;33m)\u001b[0m\u001b[1;33m\u001b[0m\u001b[0m\n\u001b[0;32m    260\u001b[0m         \u001b[0mself\u001b[0m\u001b[1;33m.\u001b[0m\u001b[0m_make_plot\u001b[0m\u001b[1;33m(\u001b[0m\u001b[1;33m)\u001b[0m\u001b[1;33m\u001b[0m\u001b[0m\n",
      "\u001b[1;32m~\\Anaconda3\\lib\\site-packages\\pandas\\plotting\\_core.py\u001b[0m in \u001b[0;36m_compute_plot_data\u001b[1;34m(self)\u001b[0m\n\u001b[0;32m    371\u001b[0m         \u001b[1;32mif\u001b[0m \u001b[0mis_empty\u001b[0m\u001b[1;33m:\u001b[0m\u001b[1;33m\u001b[0m\u001b[0m\n\u001b[0;32m    372\u001b[0m             raise TypeError('Empty {0!r}: no numeric data to '\n\u001b[1;32m--> 373\u001b[1;33m                             'plot'.format(numeric_data.__class__.__name__))\n\u001b[0m\u001b[0;32m    374\u001b[0m \u001b[1;33m\u001b[0m\u001b[0m\n\u001b[0;32m    375\u001b[0m         \u001b[0mself\u001b[0m\u001b[1;33m.\u001b[0m\u001b[0mdata\u001b[0m \u001b[1;33m=\u001b[0m \u001b[0mnumeric_data\u001b[0m\u001b[1;33m\u001b[0m\u001b[0m\n",
      "\u001b[1;31mTypeError\u001b[0m: Empty 'DataFrame': no numeric data to plot"
     ]
    }
   ],
   "source": [
    "# Hourly wage growth\n",
    "filters = 'PRERNWA > 0 and PRFTLF == 1 and PRDTRACE == 2 and PRTAGE > 44 and PRTAGE < 55'\n",
    "calc_type = 'uwe_r_gr'\n",
    "title = 'Median real weekly earnings growth, black, under age 35'\n",
    "data = get_cps_data(filters, calc_type, decile=0.5)\n",
    "labor_mkt_grapher(title, data, 'blue')"
   ]
  },
  {
   "cell_type": "code",
   "execution_count": null,
   "metadata": {
    "ExecuteTime": {
     "end_time": "2018-04-12T03:16:37.541381Z",
     "start_time": "2018-04-12T03:16:31.778277Z"
    },
    "code_folding": [
     0
    ]
   },
   "outputs": [],
   "source": [
    "# Calculate total group size (millions)\n",
    "filters = 'PRTAGE > 24 and PRTAGE < 55 and PESEX == 2 and PEEDUCA == 40'\n",
    "calc_type = 'total'\n",
    "title = 'Population in millions, women age 25-54, less than bachelor degree'\n",
    "data = get_cps_data(filters, calc_type, rtype='level')\n",
    "labor_mkt_grapher(title, data, 'orange')\n",
    "#plt.savefig('pop_ltba.png', bbox_inches='tight', dpi=100)"
   ]
  },
  {
   "cell_type": "code",
   "execution_count": null,
   "metadata": {
    "ExecuteTime": {
     "end_time": "2018-03-24T21:00:32.905980Z",
     "start_time": "2018-03-24T21:00:26.957089Z"
    },
    "code_folding": [
     0
    ]
   },
   "outputs": [],
   "source": [
    "# Weekly wage growth\n",
    "filters = 'PRFTLF == 1 and PRERNWA > 50'\n",
    "calc_type = 'uwe'\n",
    "title = 'Median weekly wage growth'\n",
    "data = get_cps_data(filters, calc_type, decile=0.5)\n",
    "labor_mkt_grapher(title, data, 'purple')"
   ]
  },
  {
   "cell_type": "code",
   "execution_count": null,
   "metadata": {
    "ExecuteTime": {
     "end_time": "2018-04-09T02:16:55.695875Z",
     "start_time": "2018-04-09T02:16:49.320517Z"
    },
    "code_folding": [
     0
    ]
   },
   "outputs": [],
   "source": [
    "# Weekly wage growth\n",
    "filters = 'PRTAGE > 24 and PRTAGE < 35 and WBHAO == 1 and PRFTLF == 1 and PRERNHLY > 0'\n",
    "calc_type = 'uwe'\n",
    "title = 'Median weekly wage, annual growth, black age 25-34'\n",
    "data = get_cps_data(filters, calc_type, decile=0.5)\n",
    "labor_mkt_grapher(title, data, 'limegreen')"
   ]
  },
  {
   "cell_type": "code",
   "execution_count": null,
   "metadata": {
    "ExecuteTime": {
     "end_time": "2018-04-09T03:11:45.187353Z",
     "start_time": "2018-04-09T03:11:45.177845Z"
    }
   },
   "outputs": [],
   "source": [
    "pd.concat([data, cpi['CPIAUCSL']], axis=1)['CPIAUCSL'].iloc[-1]"
   ]
  },
  {
   "cell_type": "code",
   "execution_count": null,
   "metadata": {
    "ExecuteTime": {
     "end_time": "2018-04-09T02:11:44.092514Z",
     "start_time": "2018-04-09T02:11:37.554366Z"
    },
    "code_folding": [
     0
    ]
   },
   "outputs": [],
   "source": [
    "# Discouraged worker, or conditionally available\n",
    "filters = 'PRTAGE > 22 and PRTAGE < 34 and PESEX == 2 and WBHAO == 4'\n",
    "calc_type = 'nilfsch'\n",
    "title = 'School, NILF, % of white women age 22-34, 12M-MA'\n",
    "data = get_cps_data(filters, calc_type)\n",
    "labor_mkt_grapher(title, data, 'purple')"
   ]
  },
  {
   "cell_type": "markdown",
   "metadata": {},
   "source": [
    "The employment to population ratio calculates what share of the total population ($P$), has a job. It is calculated from the Current Population Survey (CPS)."
   ]
  },
  {
   "cell_type": "code",
   "execution_count": null,
   "metadata": {
    "ExecuteTime": {
     "end_time": "2018-05-12T23:02:27.486296Z",
     "start_time": "2018-05-12T23:02:19.628176Z"
    },
    "code_folding": [
     0
    ]
   },
   "outputs": [],
   "source": [
    "# Employment to Population Ratio\n",
    "filters = 'PRTAGE >= 25 and PRTAGE <= 54 and WBHAO == 1'\n",
    "calc_type = 'epop'\n",
    "title = 'Percent of whites age 25-54 with a job, 12M-MA'\n",
    "data = get_cps_data(filters, calc_type)\n",
    "labor_mkt_grapher(title, data, 'blue')"
   ]
  },
  {
   "cell_type": "markdown",
   "metadata": {},
   "source": [
    "### The share of men age 25-34 with a job has not recovered from its 2000 peak\n",
    "\n",
    "There are essentially three labor force categories: employed, unemployed, and not in the labor force.\n",
    "\n",
    "$$Population = Employed + Unemployed + Not \\ in \\ Labor \\ Force$$\n",
    "\n",
    "The employment-population ratio (above) is therefore $\\frac{Employed}{Population}$. $Unemployed$ and $Not \\ in \\ Labor \\ Force$ are different; $Unemployed$ counts those actively looking for work or recently layed off. People can be outside the labor force for many reasons, some more subject to economic factors than others.\n",
    "\n",
    "The CPS gives 100,000 people a chance to tell their story each month, including why they are not in the labor force. We can use the survey responses to summarize trends across groups."
   ]
  },
  {
   "cell_type": "code",
   "execution_count": 35,
   "metadata": {
    "ExecuteTime": {
     "end_time": "2018-06-11T04:52:18.269151Z",
     "start_time": "2018-06-11T04:52:08.537424Z"
    },
    "code_folding": []
   },
   "outputs": [
    {
     "data": {
      "image/png": "[encoded data removed]",
      "text/plain": [
       "<Figure size 576x288 with 1 Axes>"
      ]
     },
     "metadata": {},
     "output_type": "display_data"
    }
   ],
   "source": [
    "# Unemployment Rate\n",
    "filters = 'PRTAGE >= 25 and PRTAGE <= 54'\n",
    "calc_type = 'selfuninc'\n",
    "title = 'Self-employed, unincorporated, share of age 50+ population'\n",
    "data = get_cps_data(filters, calc_type)\n",
    "labor_mkt_grapher(title, data, 'green')"
   ]
  },
  {
   "cell_type": "code",
   "execution_count": null,
   "metadata": {},
   "outputs": [],
   "source": []
  },
  {
   "cell_type": "code",
   "execution_count": 27,
   "metadata": {
    "ExecuteTime": {
     "end_time": "2018-06-11T04:43:26.260641Z",
     "start_time": "2018-06-11T04:43:17.259861Z"
    }
   },
   "outputs": [
    {
     "data": {
      "image/png": "[encoded data removed]",
      "text/plain": [
       "<Figure size 576x288 with 1 Axes>"
      ]
     },
     "metadata": {},
     "output_type": "display_data"
    }
   ],
   "source": [
    "# Unemployment Rate\n",
    "filters = 'PRTAGE >= 25 and PRTAGE <= 54 and PESEX==1'\n",
    "calc_type = 'mjh'\n",
    "title = 'Multiple jobholder rate, age 16+'\n",
    "data = get_cps_data(filters, calc_type)\n",
    "labor_mkt_grapher(title, data, 'green')"
   ]
  },
  {
   "cell_type": "code",
   "execution_count": 83,
   "metadata": {
    "ExecuteTime": {
     "end_time": "2018-06-11T05:35:05.264573Z",
     "start_time": "2018-06-11T05:35:05.248957Z"
    }
   },
   "outputs": [
    {
     "data": {
      "text/html": [
       "<div>\n",
       "<style scoped>\n",
       "    .dataframe tbody tr th:only-of-type {\n",
       "        vertical-align: middle;\n",
       "    }\n",
       "\n",
       "    .dataframe tbody tr th {\n",
       "        vertical-align: top;\n",
       "    }\n",
       "\n",
       "    .dataframe thead th {\n",
       "        text-align: right;\n",
       "    }\n",
       "</style>\n",
       "<table border=\"1\" class=\"dataframe\">\n",
       "  <thead>\n",
       "    <tr style=\"text-align: right;\">\n",
       "      <th></th>\n",
       "      <th>women</th>\n",
       "      <th>men</th>\n",
       "    </tr>\n",
       "  </thead>\n",
       "  <tbody>\n",
       "    <tr>\n",
       "      <th>1994-12-01</th>\n",
       "      <td>6.078763</td>\n",
       "      <td>6.342681</td>\n",
       "    </tr>\n",
       "    <tr>\n",
       "      <th>1995-01-01</th>\n",
       "      <td>6.109074</td>\n",
       "      <td>6.364302</td>\n",
       "    </tr>\n",
       "    <tr>\n",
       "      <th>1995-02-01</th>\n",
       "      <td>6.169641</td>\n",
       "      <td>6.420449</td>\n",
       "    </tr>\n",
       "    <tr>\n",
       "      <th>1995-03-01</th>\n",
       "      <td>6.224736</td>\n",
       "      <td>6.441503</td>\n",
       "    </tr>\n",
       "    <tr>\n",
       "      <th>1995-04-01</th>\n",
       "      <td>6.244699</td>\n",
       "      <td>6.487578</td>\n",
       "    </tr>\n",
       "    <tr>\n",
       "      <th>1995-05-01</th>\n",
       "      <td>6.325673</td>\n",
       "      <td>6.549198</td>\n",
       "    </tr>\n",
       "    <tr>\n",
       "      <th>1995-06-01</th>\n",
       "      <td>6.378775</td>\n",
       "      <td>6.607098</td>\n",
       "    </tr>\n",
       "    <tr>\n",
       "      <th>1995-07-01</th>\n",
       "      <td>6.408107</td>\n",
       "      <td>6.678022</td>\n",
       "    </tr>\n",
       "    <tr>\n",
       "      <th>1995-08-01</th>\n",
       "      <td>6.447947</td>\n",
       "      <td>6.707838</td>\n",
       "    </tr>\n",
       "    <tr>\n",
       "      <th>1995-09-01</th>\n",
       "      <td>6.459997</td>\n",
       "      <td>6.700883</td>\n",
       "    </tr>\n",
       "    <tr>\n",
       "      <th>1995-10-01</th>\n",
       "      <td>6.468089</td>\n",
       "      <td>6.741392</td>\n",
       "    </tr>\n",
       "    <tr>\n",
       "      <th>1995-11-01</th>\n",
       "      <td>6.505194</td>\n",
       "      <td>6.757538</td>\n",
       "    </tr>\n",
       "    <tr>\n",
       "      <th>1995-12-01</th>\n",
       "      <td>6.529985</td>\n",
       "      <td>6.747572</td>\n",
       "    </tr>\n",
       "    <tr>\n",
       "      <th>1996-01-01</th>\n",
       "      <td>6.553308</td>\n",
       "      <td>6.744101</td>\n",
       "    </tr>\n",
       "    <tr>\n",
       "      <th>1996-02-01</th>\n",
       "      <td>6.559417</td>\n",
       "      <td>6.749602</td>\n",
       "    </tr>\n",
       "    <tr>\n",
       "      <th>1996-03-01</th>\n",
       "      <td>6.576829</td>\n",
       "      <td>6.747919</td>\n",
       "    </tr>\n",
       "    <tr>\n",
       "      <th>1996-04-01</th>\n",
       "      <td>6.546252</td>\n",
       "      <td>6.740417</td>\n",
       "    </tr>\n",
       "    <tr>\n",
       "      <th>1996-05-01</th>\n",
       "      <td>6.503878</td>\n",
       "      <td>6.731618</td>\n",
       "    </tr>\n",
       "    <tr>\n",
       "      <th>1996-06-01</th>\n",
       "      <td>6.479753</td>\n",
       "      <td>6.705325</td>\n",
       "    </tr>\n",
       "    <tr>\n",
       "      <th>1996-07-01</th>\n",
       "      <td>6.453213</td>\n",
       "      <td>6.678169</td>\n",
       "    </tr>\n",
       "    <tr>\n",
       "      <th>1996-08-01</th>\n",
       "      <td>6.463812</td>\n",
       "      <td>6.671740</td>\n",
       "    </tr>\n",
       "    <tr>\n",
       "      <th>1996-09-01</th>\n",
       "      <td>6.475317</td>\n",
       "      <td>6.670232</td>\n",
       "    </tr>\n",
       "    <tr>\n",
       "      <th>1996-10-01</th>\n",
       "      <td>6.526251</td>\n",
       "      <td>6.667531</td>\n",
       "    </tr>\n",
       "    <tr>\n",
       "      <th>1996-11-01</th>\n",
       "      <td>6.588492</td>\n",
       "      <td>6.698366</td>\n",
       "    </tr>\n",
       "    <tr>\n",
       "      <th>1996-12-01</th>\n",
       "      <td>6.598345</td>\n",
       "      <td>6.721188</td>\n",
       "    </tr>\n",
       "    <tr>\n",
       "      <th>1997-01-01</th>\n",
       "      <td>6.583890</td>\n",
       "      <td>6.746539</td>\n",
       "    </tr>\n",
       "    <tr>\n",
       "      <th>1997-02-01</th>\n",
       "      <td>6.561631</td>\n",
       "      <td>6.718394</td>\n",
       "    </tr>\n",
       "    <tr>\n",
       "      <th>1997-03-01</th>\n",
       "      <td>6.550078</td>\n",
       "      <td>6.690962</td>\n",
       "    </tr>\n",
       "    <tr>\n",
       "      <th>1997-04-01</th>\n",
       "      <td>6.576292</td>\n",
       "      <td>6.679638</td>\n",
       "    </tr>\n",
       "    <tr>\n",
       "      <th>1997-05-01</th>\n",
       "      <td>6.599888</td>\n",
       "      <td>6.675294</td>\n",
       "    </tr>\n",
       "    <tr>\n",
       "      <th>...</th>\n",
       "      <td>...</td>\n",
       "      <td>...</td>\n",
       "    </tr>\n",
       "    <tr>\n",
       "      <th>2015-12-01</th>\n",
       "      <td>5.299842</td>\n",
       "      <td>4.653320</td>\n",
       "    </tr>\n",
       "    <tr>\n",
       "      <th>2016-01-01</th>\n",
       "      <td>5.294184</td>\n",
       "      <td>4.647972</td>\n",
       "    </tr>\n",
       "    <tr>\n",
       "      <th>2016-02-01</th>\n",
       "      <td>5.302302</td>\n",
       "      <td>4.648999</td>\n",
       "    </tr>\n",
       "    <tr>\n",
       "      <th>2016-03-01</th>\n",
       "      <td>5.320689</td>\n",
       "      <td>4.664804</td>\n",
       "    </tr>\n",
       "    <tr>\n",
       "      <th>2016-04-01</th>\n",
       "      <td>5.314938</td>\n",
       "      <td>4.692385</td>\n",
       "    </tr>\n",
       "    <tr>\n",
       "      <th>2016-05-01</th>\n",
       "      <td>5.318730</td>\n",
       "      <td>4.723580</td>\n",
       "    </tr>\n",
       "    <tr>\n",
       "      <th>2016-06-01</th>\n",
       "      <td>5.302169</td>\n",
       "      <td>4.724511</td>\n",
       "    </tr>\n",
       "    <tr>\n",
       "      <th>2016-07-01</th>\n",
       "      <td>5.330558</td>\n",
       "      <td>4.722530</td>\n",
       "    </tr>\n",
       "    <tr>\n",
       "      <th>2016-08-01</th>\n",
       "      <td>5.349644</td>\n",
       "      <td>4.724889</td>\n",
       "    </tr>\n",
       "    <tr>\n",
       "      <th>2016-09-01</th>\n",
       "      <td>5.390554</td>\n",
       "      <td>4.723152</td>\n",
       "    </tr>\n",
       "    <tr>\n",
       "      <th>2016-10-01</th>\n",
       "      <td>5.422592</td>\n",
       "      <td>4.727920</td>\n",
       "    </tr>\n",
       "    <tr>\n",
       "      <th>2016-11-01</th>\n",
       "      <td>5.475138</td>\n",
       "      <td>4.729570</td>\n",
       "    </tr>\n",
       "    <tr>\n",
       "      <th>2016-12-01</th>\n",
       "      <td>5.492964</td>\n",
       "      <td>4.686114</td>\n",
       "    </tr>\n",
       "    <tr>\n",
       "      <th>2017-01-01</th>\n",
       "      <td>5.504494</td>\n",
       "      <td>4.684444</td>\n",
       "    </tr>\n",
       "    <tr>\n",
       "      <th>2017-02-01</th>\n",
       "      <td>5.546292</td>\n",
       "      <td>4.719697</td>\n",
       "    </tr>\n",
       "    <tr>\n",
       "      <th>2017-03-01</th>\n",
       "      <td>5.578071</td>\n",
       "      <td>4.750619</td>\n",
       "    </tr>\n",
       "    <tr>\n",
       "      <th>2017-04-01</th>\n",
       "      <td>5.595191</td>\n",
       "      <td>4.756056</td>\n",
       "    </tr>\n",
       "    <tr>\n",
       "      <th>2017-05-01</th>\n",
       "      <td>5.619143</td>\n",
       "      <td>4.770760</td>\n",
       "    </tr>\n",
       "    <tr>\n",
       "      <th>2017-06-01</th>\n",
       "      <td>5.629162</td>\n",
       "      <td>4.784271</td>\n",
       "    </tr>\n",
       "    <tr>\n",
       "      <th>2017-07-01</th>\n",
       "      <td>5.627265</td>\n",
       "      <td>4.776182</td>\n",
       "    </tr>\n",
       "    <tr>\n",
       "      <th>2017-08-01</th>\n",
       "      <td>5.591007</td>\n",
       "      <td>4.773379</td>\n",
       "    </tr>\n",
       "    <tr>\n",
       "      <th>2017-09-01</th>\n",
       "      <td>5.536206</td>\n",
       "      <td>4.745694</td>\n",
       "    </tr>\n",
       "    <tr>\n",
       "      <th>2017-10-01</th>\n",
       "      <td>5.499198</td>\n",
       "      <td>4.721066</td>\n",
       "    </tr>\n",
       "    <tr>\n",
       "      <th>2017-11-01</th>\n",
       "      <td>5.487054</td>\n",
       "      <td>4.678735</td>\n",
       "    </tr>\n",
       "    <tr>\n",
       "      <th>2017-12-01</th>\n",
       "      <td>5.474147</td>\n",
       "      <td>4.679186</td>\n",
       "    </tr>\n",
       "    <tr>\n",
       "      <th>2018-01-01</th>\n",
       "      <td>5.462893</td>\n",
       "      <td>4.697805</td>\n",
       "    </tr>\n",
       "    <tr>\n",
       "      <th>2018-02-01</th>\n",
       "      <td>5.443800</td>\n",
       "      <td>4.699840</td>\n",
       "    </tr>\n",
       "    <tr>\n",
       "      <th>2018-03-01</th>\n",
       "      <td>5.418827</td>\n",
       "      <td>4.682574</td>\n",
       "    </tr>\n",
       "    <tr>\n",
       "      <th>2018-04-01</th>\n",
       "      <td>5.412205</td>\n",
       "      <td>4.700305</td>\n",
       "    </tr>\n",
       "    <tr>\n",
       "      <th>2018-05-01</th>\n",
       "      <td>5.396540</td>\n",
       "      <td>4.676943</td>\n",
       "    </tr>\n",
       "  </tbody>\n",
       "</table>\n",
       "<p>282 rows × 2 columns</p>\n",
       "</div>"
      ],
      "text/plain": [
       "               women       men\n",
       "1994-12-01  6.078763  6.342681\n",
       "1995-01-01  6.109074  6.364302\n",
       "1995-02-01  6.169641  6.420449\n",
       "1995-03-01  6.224736  6.441503\n",
       "1995-04-01  6.244699  6.487578\n",
       "1995-05-01  6.325673  6.549198\n",
       "1995-06-01  6.378775  6.607098\n",
       "1995-07-01  6.408107  6.678022\n",
       "1995-08-01  6.447947  6.707838\n",
       "1995-09-01  6.459997  6.700883\n",
       "1995-10-01  6.468089  6.741392\n",
       "1995-11-01  6.505194  6.757538\n",
       "1995-12-01  6.529985  6.747572\n",
       "1996-01-01  6.553308  6.744101\n",
       "1996-02-01  6.559417  6.749602\n",
       "1996-03-01  6.576829  6.747919\n",
       "1996-04-01  6.546252  6.740417\n",
       "1996-05-01  6.503878  6.731618\n",
       "1996-06-01  6.479753  6.705325\n",
       "1996-07-01  6.453213  6.678169\n",
       "1996-08-01  6.463812  6.671740\n",
       "1996-09-01  6.475317  6.670232\n",
       "1996-10-01  6.526251  6.667531\n",
       "1996-11-01  6.588492  6.698366\n",
       "1996-12-01  6.598345  6.721188\n",
       "1997-01-01  6.583890  6.746539\n",
       "1997-02-01  6.561631  6.718394\n",
       "1997-03-01  6.550078  6.690962\n",
       "1997-04-01  6.576292  6.679638\n",
       "1997-05-01  6.599888  6.675294\n",
       "...              ...       ...\n",
       "2015-12-01  5.299842  4.653320\n",
       "2016-01-01  5.294184  4.647972\n",
       "2016-02-01  5.302302  4.648999\n",
       "2016-03-01  5.320689  4.664804\n",
       "2016-04-01  5.314938  4.692385\n",
       "2016-05-01  5.318730  4.723580\n",
       "2016-06-01  5.302169  4.724511\n",
       "2016-07-01  5.330558  4.722530\n",
       "2016-08-01  5.349644  4.724889\n",
       "2016-09-01  5.390554  4.723152\n",
       "2016-10-01  5.422592  4.727920\n",
       "2016-11-01  5.475138  4.729570\n",
       "2016-12-01  5.492964  4.686114\n",
       "2017-01-01  5.504494  4.684444\n",
       "2017-02-01  5.546292  4.719697\n",
       "2017-03-01  5.578071  4.750619\n",
       "2017-04-01  5.595191  4.756056\n",
       "2017-05-01  5.619143  4.770760\n",
       "2017-06-01  5.629162  4.784271\n",
       "2017-07-01  5.627265  4.776182\n",
       "2017-08-01  5.591007  4.773379\n",
       "2017-09-01  5.536206  4.745694\n",
       "2017-10-01  5.499198  4.721066\n",
       "2017-11-01  5.487054  4.678735\n",
       "2017-12-01  5.474147  4.679186\n",
       "2018-01-01  5.462893  4.697805\n",
       "2018-02-01  5.443800  4.699840\n",
       "2018-03-01  5.418827  4.682574\n",
       "2018-04-01  5.412205  4.700305\n",
       "2018-05-01  5.396540  4.676943\n",
       "\n",
       "[282 rows x 2 columns]"
      ]
     },
     "execution_count": 83,
     "metadata": {},
     "output_type": "execute_result"
    }
   ],
   "source": [
    "dft"
   ]
  },
  {
   "cell_type": "code",
   "execution_count": 120,
   "metadata": {
    "ExecuteTime": {
     "end_time": "2018-06-11T06:04:08.841226Z",
     "start_time": "2018-06-11T06:04:08.803463Z"
    }
   },
   "outputs": [
    {
     "data": {
      "text/plain": [
       "5.5572691554854465"
      ]
     },
     "execution_count": 120,
     "metadata": {},
     "output_type": "execute_result"
    }
   ],
   "source": [
    "dft.loc['2017', 'women'].mean()"
   ]
  },
  {
   "cell_type": "code",
   "execution_count": 36,
   "metadata": {
    "ExecuteTime": {
     "end_time": "2018-06-11T04:52:21.677948Z",
     "start_time": "2018-06-11T04:52:21.662331Z"
    }
   },
   "outputs": [],
   "source": [
    "dft['seupa'] = data"
   ]
  },
  {
   "cell_type": "code",
   "execution_count": 112,
   "metadata": {
    "ExecuteTime": {
     "end_time": "2018-06-11T05:58:37.681328Z",
     "start_time": "2018-06-11T05:58:37.665714Z"
    }
   },
   "outputs": [],
   "source": [
    "dft = pd.read_csv('mjh.csv')"
   ]
  },
  {
   "cell_type": "code",
   "execution_count": 113,
   "metadata": {
    "ExecuteTime": {
     "end_time": "2018-06-11T05:58:39.438123Z",
     "start_time": "2018-06-11T05:58:39.422498Z"
    }
   },
   "outputs": [],
   "source": [
    "dft.index = pd.to_datetime(dft['Unnamed: 0'])"
   ]
  },
  {
   "cell_type": "code",
   "execution_count": 91,
   "metadata": {
    "ExecuteTime": {
     "end_time": "2018-06-11T05:39:13.899399Z",
     "start_time": "2018-06-11T05:39:13.877263Z"
    }
   },
   "outputs": [],
   "source": [
    "dft = dft[['women', 'men']]"
   ]
  },
  {
   "cell_type": "code",
   "execution_count": 100,
   "metadata": {
    "ExecuteTime": {
     "end_time": "2018-06-11T05:43:02.760739Z",
     "start_time": "2018-06-11T05:43:02.306270Z"
    }
   },
   "outputs": [
    {
     "data": {
      "image/png": "[encoded data removed]",
      "text/plain": [
       "<Figure size 576x288 with 1 Axes>"
      ]
     },
     "metadata": {},
     "output_type": "display_data"
    }
   ],
   "source": [
    "color = ['blue', 'orange']\n",
    "title = 'Share of jobholders with more than one job, age 25 to 54'\n",
    "ax = dft.plot(figsize=(8, 4), color=color, legend=False)\n",
    "ax = plt.scatter([dft.index[-1]] * len(dft.iloc[-1]), [dft.iloc[-1]], color=color, s=25)\n",
    "for i, v in rec_dt:\n",
    "    ax = plt.axvspan(i, v, fill=True, linewidth=0, color='gray', alpha=0.2)\n",
    "    ax = plt.xlabel('Source: Current Population Survey microdata (12-month moving average)')\n",
    "ax = plt.annotate(f'  {dft.index[-1]:%b %Y}', (dft.index[-1], max(dft.iloc[-1])+0.2), \n",
    "                    fontweight='bold')\n",
    "ax = plt.annotate(f'Women', (dft.index[230], 5.4), color='blue', \n",
    "                    fontweight='bold')\n",
    "ax = plt.annotate(f'Men', (dft.index[250], 4.8), color='orange', \n",
    "                    fontweight='bold')\n",
    "ax = plt.annotate(f'  {dft[\"women\"].iloc[-1]:4.1f}%', (dft.index[-1],dft['women'].iloc[-1]-0.05))\n",
    "ax = plt.annotate(f'  {dft[\"men\"].iloc[-1]:4.1f}%', (dft.index[-1],dft['men'].iloc[-1]-0.05))\n",
    "plt.title(title, size=14, weight='bold', alpha=0.8, x=0.5)\n",
    "plt.savefig('mjh.png', bbox_inches='tight', dpi=250)"
   ]
  },
  {
   "cell_type": "code",
   "execution_count": 57,
   "metadata": {
    "ExecuteTime": {
     "end_time": "2018-06-11T05:23:29.183079Z",
     "start_time": "2018-06-11T05:23:29.151839Z"
    }
   },
   "outputs": [
    {
     "data": {
      "text/plain": [
       "4.346438380643818"
      ]
     },
     "execution_count": 57,
     "metadata": {},
     "output_type": "execute_result"
    }
   ],
   "source": [
    "dft['seu55'].iloc[-1]"
   ]
  },
  {
   "cell_type": "code",
   "execution_count": 39,
   "metadata": {
    "ExecuteTime": {
     "end_time": "2018-06-11T04:55:30.253822Z",
     "start_time": "2018-06-11T04:55:30.100187Z"
    }
   },
   "outputs": [
    {
     "data": {
      "text/plain": [
       "<matplotlib.axes._subplots.AxesSubplot at 0x22e4cf35cf8>"
      ]
     },
     "execution_count": 39,
     "metadata": {},
     "output_type": "execute_result"
    },
    {
     "data": {
      "image/png": "[encoded data removed]",
      "text/plain": [
       "<Figure size 432x288 with 1 Axes>"
      ]
     },
     "metadata": {},
     "output_type": "display_data"
    }
   ],
   "source": [
    "dft.plot()"
   ]
  },
  {
   "cell_type": "markdown",
   "metadata": {},
   "source": [
    "The unemployment rate has more or less recovered, unlike the employment to population ratio. It is calculated as the unemployed population divided by the labor force, $\\frac{Unemployed}{(Employed+Unemployed)}$. We can also look at the labor force participation rate, $\\frac{(Employed+Unemployed)}{Population}$, the least recovered of the three measures. "
   ]
  },
  {
   "cell_type": "code",
   "execution_count": null,
   "metadata": {
    "ExecuteTime": {
     "end_time": "2018-03-24T21:00:58.201912Z",
     "start_time": "2018-03-24T21:00:53.115042Z"
    },
    "code_folding": [
     0
    ]
   },
   "outputs": [],
   "source": [
    "# Labor force participation rate\n",
    "filters = 'PRTAGE >= 25 and PRTAGE <= 34 and PESEX == 1'\n",
    "calc_type = 'lfpr'\n",
    "title = 'Labor force participation rate, men age 25-34'\n",
    "data = get_cps_data(filters, calc_type)\n",
    "labor_mkt_grapher(title, data, 'red')"
   ]
  },
  {
   "cell_type": "markdown",
   "metadata": {},
   "source": [
    "### Women"
   ]
  },
  {
   "cell_type": "code",
   "execution_count": null,
   "metadata": {
    "ExecuteTime": {
     "end_time": "2018-04-12T02:01:01.184176Z",
     "start_time": "2018-04-12T02:00:39.278714Z"
    },
    "code_folding": [
     0
    ]
   },
   "outputs": [],
   "source": [
    "# Care for other, not in labor force\n",
    "filters = 'PRTAGE >= 25 and PRTAGE <= 34 and PESEX == 2'\n",
    "calc_type = 'care'\n",
    "title = 'Caregiving, NILF, % of women age 25-34, 12-mo moving avg'\n",
    "data = get_cps_data(filters, calc_type)\n",
    "labor_mkt_grapher(title, data, 'blue')\n",
    "plt.savefig('caregiving.png', bbox_inches='tight', dpi=500)"
   ]
  },
  {
   "cell_type": "code",
   "execution_count": null,
   "metadata": {
    "ExecuteTime": {
     "end_time": "2018-03-24T21:01:08.656049Z",
     "start_time": "2018-03-24T21:01:03.615282Z"
    },
    "code_folding": [
     0
    ]
   },
   "outputs": [],
   "source": [
    "# Care for other, not in labor force\n",
    "filters = 'PRTAGE >= 35 and PRTAGE <= 44 and PESEX == 2'\n",
    "calc_type = 'care'\n",
    "title = 'Caregiving, NILF, % of women age 35-44, 12-mo moving avg'\n",
    "data = get_cps_data(filters, calc_type)\n",
    "labor_mkt_grapher(title, data, 'blue')"
   ]
  },
  {
   "cell_type": "code",
   "execution_count": null,
   "metadata": {
    "ExecuteTime": {
     "end_time": "2018-03-24T21:01:13.767462Z",
     "start_time": "2018-03-24T21:01:08.656049Z"
    },
    "code_folding": [
     0
    ]
   },
   "outputs": [],
   "source": [
    "# Care for other, not in labor force\n",
    "filters = 'PRTAGE >= 45 and PRTAGE <= 54 and PESEX == 2'\n",
    "calc_type = 'care'\n",
    "title = 'Caregiving, NILF, % of women age 45-54, 12-mo moving avg'\n",
    "data = get_cps_data(filters, calc_type)\n",
    "labor_mkt_grapher(title, data, 'blue')"
   ]
  },
  {
   "cell_type": "code",
   "execution_count": null,
   "metadata": {
    "ExecuteTime": {
     "end_time": "2018-03-24T21:01:19.149289Z",
     "start_time": "2018-03-24T21:01:13.767462Z"
    },
    "code_folding": [
     0
    ]
   },
   "outputs": [],
   "source": [
    "# Care for other, not in labor force\n",
    "filters = 'PRTAGE >= 25 and PRTAGE <= 34 and PESEX == 1'\n",
    "calc_type = 'care'\n",
    "title = 'Caregiving, NILF, % of men age 25-34, 12-mo moving avg'\n",
    "data = get_cps_data(filters, calc_type)\n",
    "labor_mkt_grapher(title, data, 'darkorchid')\n",
    "plt.savefig('caregiving.png', bbox_inches='tight', dpi=500)"
   ]
  },
  {
   "cell_type": "code",
   "execution_count": null,
   "metadata": {
    "ExecuteTime": {
     "end_time": "2018-04-12T02:01:33.137823Z",
     "start_time": "2018-04-12T02:01:26.124447Z"
    },
    "code_folding": [
     0
    ]
   },
   "outputs": [],
   "source": [
    "# Disabled/Ill, not in labor force\n",
    "filters = 'PRTAGE >= 25 and PRTAGE <= 54'\n",
    "calc_type = 'disill'\n",
    "title = 'Disabled/Ill, NILF, age 25-54, in millions'\n",
    "data = get_cps_data(filters, calc_type, rtype='level')\n",
    "labor_mkt_grapher(title, data, 'orange')\n",
    "plt.savefig('disill.png', bbox_inches='tight', dpi=100)"
   ]
  },
  {
   "cell_type": "code",
   "execution_count": null,
   "metadata": {
    "ExecuteTime": {
     "end_time": "2018-04-12T02:01:49.138341Z",
     "start_time": "2018-04-12T02:01:42.554259Z"
    },
    "code_folding": [
     0
    ]
   },
   "outputs": [],
   "source": [
    "# Disabled/Ill, not in labor force\n",
    "filters = 'PRTAGE >= 25 and PRTAGE <= 54 and PESEX == 2'\n",
    "calc_type = 'disill'\n",
    "title = 'Disabled/Ill, NILF, women, age 25-54, in millions'\n",
    "data = get_cps_data(filters, calc_type)\n",
    "labor_mkt_grapher(title, data, 'midnightblue')"
   ]
  },
  {
   "cell_type": "code",
   "execution_count": null,
   "metadata": {
    "ExecuteTime": {
     "end_time": "2018-05-12T23:07:11.452197Z",
     "start_time": "2018-05-12T23:07:04.385318Z"
    },
    "code_folding": [
     0
    ]
   },
   "outputs": [],
   "source": [
    "# In school, not in labor force\n",
    "filters = 'PRTAGE >= 22 and PRTAGE <= 24'\n",
    "calc_type = 'nilfsch'\n",
    "title = 'In school, not in labor force, age 22-24'\n",
    "data = get_cps_data(filters, calc_type)\n",
    "labor_mkt_grapher(title, data, 'red')"
   ]
  },
  {
   "cell_type": "code",
   "execution_count": null,
   "metadata": {
    "ExecuteTime": {
     "end_time": "2018-03-24T21:01:40.744863Z",
     "start_time": "2018-03-24T21:01:35.766934Z"
    },
    "code_folding": [
     0
    ]
   },
   "outputs": [],
   "source": [
    "# In school, not in labor force\n",
    "series = 'PENLFACT'\n",
    "filters = 'PRTAGE >= 25 and PRTAGE <= 34 and PESEX == 2'\n",
    "calc_type = 'nilfsch'\n",
    "title = 'In school, NILF, % of women age 25-34'\n",
    "data = get_cps_data(filters, calc_type)\n",
    "labor_mkt_grapher(title, data, 'green')"
   ]
  },
  {
   "cell_type": "code",
   "execution_count": null,
   "metadata": {
    "ExecuteTime": {
     "end_time": "2018-03-24T21:01:45.855698Z",
     "start_time": "2018-03-24T21:01:40.744863Z"
    },
    "code_folding": [
     0
    ]
   },
   "outputs": [],
   "source": [
    "# In school, not in labor force\n",
    "filters = 'PRTAGE >= 35 and PRTAGE <= 44 and PESEX == 2'\n",
    "calc_type = 'nilfsch'\n",
    "title = 'In school, NILF, % of women age 35-44'\n",
    "data = get_cps_data(filters, calc_type)\n",
    "labor_mkt_grapher(title, data, 'purple')"
   ]
  },
  {
   "cell_type": "code",
   "execution_count": 3,
   "metadata": {
    "ExecuteTime": {
     "end_time": "2018-06-07T02:00:19.490559Z",
     "start_time": "2018-06-07T01:59:51.270398Z"
    },
    "code_folding": []
   },
   "outputs": [
    {
     "data": {
      "image/png": "[encoded data removed]",
      "text/plain": [
       "<Figure size 576x288 with 1 Axes>"
      ]
     },
     "metadata": {},
     "output_type": "display_data"
    }
   ],
   "source": [
    "# Discouraged worker, or conditionally available\n",
    "filters = 'PRTAGE >= 45 and PRTAGE <= 54 and PESEX == 2'\n",
    "calc_type = 'disc'\n",
    "title = 'Discouraged, NILF, % of women age 45-54'\n",
    "data = get_cps_data(filters, calc_type)\n",
    "labor_mkt_grapher(title, data, 'orange')"
   ]
  },
  {
   "cell_type": "code",
   "execution_count": 4,
   "metadata": {
    "ExecuteTime": {
     "end_time": "2018-06-07T02:00:38.420121Z",
     "start_time": "2018-06-07T02:00:29.970667Z"
    },
    "code_folding": []
   },
   "outputs": [
    {
     "data": {
      "image/png": "[encoded data removed]",
      "text/plain": [
       "<Figure size 576x288 with 1 Axes>"
      ]
     },
     "metadata": {},
     "output_type": "display_data"
    }
   ],
   "source": [
    "# Discouraged worker, or conditionally available\n",
    "filters = 'PRTAGE >= 45 and PRTAGE <= 54 and PESEX == 1'\n",
    "calc_type = 'disc'\n",
    "title = 'Discouraged, NILF, % of men age 45-54'\n",
    "data = get_cps_data(filters, calc_type)\n",
    "labor_mkt_grapher(title, data, 'darkblue')"
   ]
  },
  {
   "cell_type": "code",
   "execution_count": 16,
   "metadata": {
    "ExecuteTime": {
     "end_time": "2018-06-07T02:10:27.553359Z",
     "start_time": "2018-06-07T02:10:24.184330Z"
    },
    "code_folding": []
   },
   "outputs": [
    {
     "data": {
      "image/png": "[encoded data removed]",
      "text/plain": [
       "<Figure size 576x288 with 1 Axes>"
      ]
     },
     "metadata": {},
     "output_type": "display_data"
    }
   ],
   "source": [
    "# Employment to Population Ratio\n",
    "filters = 'PEDISEAR == 1'\n",
    "calc_type = 'epop'\n",
    "title = 'Percent of women age 25-34 with a job, 2000-present, 12M-MA'\n",
    "data = get_cps_data(filters, calc_type)\n",
    "labor_mkt_grapher(title, data, 'blue')"
   ]
  },
  {
   "cell_type": "code",
   "execution_count": null,
   "metadata": {
    "ExecuteTime": {
     "end_time": "2018-03-24T21:02:05.671826Z",
     "start_time": "2018-03-24T21:02:00.660048Z"
    },
    "code_folding": [
     0
    ]
   },
   "outputs": [],
   "source": [
    "# Unemployment Rate\n",
    "calc_type = 'unemp'\n",
    "title = 'Unemployment rate, women age 25-34, 2000-present, 12M-MA'\n",
    "data = get_cps_data(filters, calc_type)\n",
    "labor_mkt_grapher(title, data, 'green')"
   ]
  },
  {
   "cell_type": "code",
   "execution_count": null,
   "metadata": {
    "ExecuteTime": {
     "end_time": "2018-03-24T21:02:11.044141Z",
     "start_time": "2018-03-24T21:02:05.671826Z"
    },
    "code_folding": [
     0
    ]
   },
   "outputs": [],
   "source": [
    "# Labor force participation rate\n",
    "filters = 'PRTAGE >= 25 and PRTAGE <= 34 and PESEX == 2'\n",
    "calc_type = 'lfpr'\n",
    "title = 'Labor force participation rate, women age 25-34, 12M-MA'\n",
    "data = get_cps_data(filters, calc_type)\n",
    "labor_mkt_grapher(title, data, 'red')\n",
    "plt.savefig('lfpr.png', bbox_inches='tight', dpi=500)"
   ]
  },
  {
   "cell_type": "code",
   "execution_count": null,
   "metadata": {
    "ExecuteTime": {
     "end_time": "2018-03-24T21:02:15.959227Z",
     "start_time": "2018-03-24T21:02:11.046147Z"
    },
    "code_folding": [
     0
    ],
    "scrolled": false
   },
   "outputs": [],
   "source": [
    "# Employment to Population Ratio\n",
    "filters = 'PEEDUCA >= 43 and PRTAGE >= 25 and PRTAGE <= 34 and PESEX == 1'\n",
    "calc_type = 'epop'\n",
    "title = 'Employed % of college+ men age 25-34, 2000-present, 12M-MA'\n",
    "data = get_cps_data(filters, calc_type)\n",
    "labor_mkt_grapher(title, data, 'blue')"
   ]
  },
  {
   "cell_type": "code",
   "execution_count": null,
   "metadata": {
    "ExecuteTime": {
     "end_time": "2018-03-24T21:02:20.964402Z",
     "start_time": "2018-03-24T21:02:15.960730Z"
    },
    "code_folding": [
     0
    ],
    "scrolled": true
   },
   "outputs": [],
   "source": [
    "# Unemployment Rate\n",
    "calc_type = 'unemp'\n",
    "title = 'Unemployment rate, college+ men age 25-34'\n",
    "data = get_cps_data(filters, calc_type)\n",
    "labor_mkt_grapher(title, data, 'green')"
   ]
  },
  {
   "cell_type": "code",
   "execution_count": null,
   "metadata": {
    "ExecuteTime": {
     "end_time": "2018-03-24T21:02:25.949569Z",
     "start_time": "2018-03-24T21:02:20.964402Z"
    },
    "code_folding": [
     0
    ],
    "scrolled": false
   },
   "outputs": [],
   "source": [
    "# Labor force participation rate\n",
    "filters = 'PEEDUCA >= 43 and PRTAGE >= 25 and PRTAGE <= 34 and PESEX == 1'\n",
    "calc_type = 'lfpr'\n",
    "title = 'Labor force participation rate, college+ men age 25-34'\n",
    "data = get_cps_data(filters, calc_type)\n",
    "labor_mkt_grapher(title, data, 'red')"
   ]
  },
  {
   "cell_type": "code",
   "execution_count": null,
   "metadata": {
    "ExecuteTime": {
     "end_time": "2018-03-24T21:02:30.668751Z",
     "start_time": "2018-03-24T21:02:25.949569Z"
    },
    "code_folding": [
     0
    ],
    "scrolled": false
   },
   "outputs": [],
   "source": [
    "# Employment to Population Ratio\n",
    "filters = 'PEEDUCA >= 43 and PRTAGE >= 25 and PRTAGE <= 34 and PESEX == 2'\n",
    "calc_type = 'epop'\n",
    "title = 'Employed % of college degree+ women age 25-34'\n",
    "data = get_cps_data(filters, calc_type)\n",
    "labor_mkt_grapher(title, data, 'blue')"
   ]
  },
  {
   "cell_type": "code",
   "execution_count": null,
   "metadata": {
    "ExecuteTime": {
     "end_time": "2018-03-24T21:02:35.380494Z",
     "start_time": "2018-03-24T21:02:30.668751Z"
    },
    "code_folding": [
     0
    ]
   },
   "outputs": [],
   "source": [
    "# Employment to Population Ratio\n",
    "filters = 'PEEDUCA >= 43 and PRTAGE >= 35 and PRTAGE <= 44 and PESEX == 2'\n",
    "calc_type = 'epop'\n",
    "title = 'Employed % of college degree+ women age 35-44'\n",
    "data = get_cps_data(filters, calc_type)\n",
    "labor_mkt_grapher(title, data, 'blue')"
   ]
  },
  {
   "cell_type": "code",
   "execution_count": null,
   "metadata": {
    "ExecuteTime": {
     "end_time": "2018-03-24T21:02:40.209172Z",
     "start_time": "2018-03-24T21:02:35.380494Z"
    },
    "code_folding": [
     0
    ]
   },
   "outputs": [],
   "source": [
    "# Employment to Population Ratio\n",
    "filters = 'PEEDUCA >= 43 and PRTAGE >= 45 and PRTAGE <= 54 and PESEX == 2'\n",
    "calc_type = 'epop'\n",
    "title = 'Employed % of college degree+ women age 45-54'\n",
    "data = get_cps_data(filters, calc_type)\n",
    "labor_mkt_grapher(title, data, 'blue')"
   ]
  },
  {
   "cell_type": "code",
   "execution_count": null,
   "metadata": {
    "ExecuteTime": {
     "end_time": "2018-03-24T21:02:45.147193Z",
     "start_time": "2018-03-24T21:02:40.209172Z"
    },
    "code_folding": [
     0
    ],
    "scrolled": true
   },
   "outputs": [],
   "source": [
    "# Unemployment Rate\n",
    "filters = 'PEEDUCA >= 43 and PRTAGE >= 25 and PRTAGE <= 34 and PESEX == 2'\n",
    "calc_type = 'unemp'\n",
    "title = 'Unemployment rate, college+ women age 25-34'\n",
    "data = get_cps_data(filters, calc_type)\n",
    "labor_mkt_grapher(title, data, 'green')"
   ]
  },
  {
   "cell_type": "code",
   "execution_count": null,
   "metadata": {
    "ExecuteTime": {
     "end_time": "2018-03-24T21:02:49.960198Z",
     "start_time": "2018-03-24T21:02:45.147193Z"
    },
    "code_folding": [
     0
    ],
    "scrolled": true
   },
   "outputs": [],
   "source": [
    "# Labor force participation rate\n",
    "calc_type = 'lfpr'\n",
    "title = 'Labor force participation rate, college+ women age 25-34'\n",
    "data = get_cps_data(filters, calc_type)\n",
    "labor_mkt_grapher(title, data, 'red')"
   ]
  },
  {
   "cell_type": "code",
   "execution_count": null,
   "metadata": {
    "ExecuteTime": {
     "end_time": "2018-03-24T21:02:54.807233Z",
     "start_time": "2018-03-24T21:02:49.960198Z"
    },
    "code_folding": [
     0
    ]
   },
   "outputs": [],
   "source": [
    "# Weekly wage growth\n",
    "filters = 'PRFTLF == 1 and PRTAGE >= 25 and PRTAGE <= 34 and PESEX == 2 and PRERNWA > 0'\n",
    "calc_type = 'uwe'\n",
    "title = 'Bottom decile weekly wage growth women age 25-34, 12M-MA'\n",
    "data = get_cps_data(filters, calc_type, decile=0.1)\n",
    "labor_mkt_grapher(title, data, 'purple')"
   ]
  },
  {
   "cell_type": "code",
   "execution_count": null,
   "metadata": {
    "ExecuteTime": {
     "end_time": "2018-03-24T21:02:59.610720Z",
     "start_time": "2018-03-24T21:02:54.807233Z"
    },
    "code_folding": [
     0
    ]
   },
   "outputs": [],
   "source": [
    "# Weekly wage growth\n",
    "filters = 'PRFTLF == 1 and PRTAGE >= 35 and PRTAGE <= 44 and PESEX == 2 and PRERNWA > 0'\n",
    "calc_type = 'uwe'\n",
    "title = 'Bottom decile weekly wage growth women age 35-44'\n",
    "data = get_cps_data(filters, calc_type, decile=0.1)\n",
    "labor_mkt_grapher(title, data, 'purple')"
   ]
  },
  {
   "cell_type": "code",
   "execution_count": null,
   "metadata": {
    "ExecuteTime": {
     "end_time": "2018-03-24T21:03:04.376944Z",
     "start_time": "2018-03-24T21:02:59.610720Z"
    },
    "code_folding": [
     0
    ]
   },
   "outputs": [],
   "source": [
    "# Weekly wage growth\n",
    "filters = 'PRFTLF == 1 and PRTAGE >= 45 and PRTAGE <= 54 and PESEX == 2 and PRERNWA > 0'\n",
    "calc_type = 'uwe'\n",
    "title = 'Bottom decile weekly wage growth women age 45-54'\n",
    "data = get_cps_data(filters, calc_type, decile=0.1)\n",
    "labor_mkt_grapher(title, data, 'purple')"
   ]
  },
  {
   "cell_type": "code",
   "execution_count": null,
   "metadata": {
    "ExecuteTime": {
     "end_time": "2018-05-12T23:01:28.067288Z",
     "start_time": "2018-05-12T23:01:26.244613Z"
    },
    "code_folding": [
     0
    ]
   },
   "outputs": [],
   "source": [
    "# Mini example of how labor force has aged\n",
    "d = {}\n",
    "for year in [2001, 2017]:\n",
    "    d[year] = {}\n",
    "    df = pd.read_feather(f'data/cps_{year}.ft', nthreads=3)\n",
    "    for age in range (16, 80):\n",
    "        dft = df[df['PRTAGE'] == age]\n",
    "        empl = np.where(dft['PREMPNOT'] == 1, 1.0, 0.0)\n",
    "        epop = np.average(empl, weights=dft['PWCMPWGT'])\n",
    "        d[year][age] = epop\n",
    "        \n",
    "ax = pd.DataFrame(d).plot(title='Employed share of population by age, (25-54 highlighted)')\n",
    "ax = plt.axvspan(25, 54, fill=True, linewidth=0, color='gray', alpha=0.1) "
   ]
  }
 ],
 "metadata": {
  "kernelspec": {
   "display_name": "Python 3",
   "language": "python",
   "name": "python3"
  },
  "language_info": {
   "codemirror_mode": {
    "name": "ipython",
    "version": 3
   },
   "file_extension": ".py",
   "mimetype": "text/x-python",
   "name": "python",
   "nbconvert_exporter": "python",
   "pygments_lexer": "ipython3",
   "version": "3.6.5"
  }
 },
 "nbformat": 4,
 "nbformat_minor": 2
}
