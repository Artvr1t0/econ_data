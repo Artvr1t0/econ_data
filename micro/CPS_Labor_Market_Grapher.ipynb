{
 "cells": [
  {
   "cell_type": "markdown",
   "metadata": {},
   "source": [
    "### CPS_Labor_Market_Grapher\n",
    "\n",
    "Updated: May 21, 2018 \n",
    "\n",
    "Brian Dew, @bd_econ\n",
    "\n",
    "-----\n",
    "\n",
    "Make decent looking line graphs for various labor market indicators.\n",
    "\n",
    "TO DO:\n",
    "\n",
    "Option for part-time for economic reasons and part time for noneconomic reasons\n",
    "\n",
    "Option for up to three lines.\n",
    "\n",
    "Usual weekly hours as an option.\n",
    "\n",
    "UHE/UWE -- try to match with other published data"
   ]
  },
  {
   "cell_type": "code",
   "execution_count": 1,
   "metadata": {
    "ExecuteTime": {
     "end_time": "2018-05-28T00:27:43.291882Z",
     "start_time": "2018-05-28T00:27:42.010576Z"
    },
    "code_folding": [
     0
    ]
   },
   "outputs": [],
   "source": [
    "# Preliminaries--load packages and settings\n",
    "%matplotlib inline\n",
    "import matplotlib as mpl\n",
    "import matplotlib.pyplot as plt\n",
    "plt.style.use('seaborn-white')\n",
    "mpl.rc('axes', edgecolor='white') # Hide the axes\n",
    "plt.rc('axes', axisbelow=True)\n",
    "import pandas as pd\n",
    "import numpy as np\n",
    "import wquantiles\n",
    "\n",
    "# Recession start and end months, from NBER\n",
    "rec_dt = [('2001-04-01', '2001-12-01'), ('2008-01-01', '2009-07-01')]"
   ]
  },
  {
   "cell_type": "code",
   "execution_count": 9,
   "metadata": {
    "ExecuteTime": {
     "end_time": "2018-05-28T00:32:32.502948Z",
     "start_time": "2018-05-28T00:32:32.465176Z"
    },
    "code_folding": [
     0
    ]
   },
   "outputs": [],
   "source": [
    "# Consumer Price Index to adjust nominal prices\n",
    "cpi = pd.read_csv('cpi.csv')\n",
    "cpi.index = pd.to_datetime(cpi.DATE)"
   ]
  },
  {
   "cell_type": "code",
   "execution_count": null,
   "metadata": {},
   "outputs": [],
   "source": []
  },
  {
   "cell_type": "code",
   "execution_count": 3,
   "metadata": {
    "ExecuteTime": {
     "end_time": "2018-05-28T00:27:43.345267Z",
     "start_time": "2018-05-28T00:27:43.314027Z"
    },
    "code_folding": []
   },
   "outputs": [],
   "source": [
    "# Functions that get labor force data from the CPS and graph it\n",
    "def get_cps_data(filters, calc_type, decile=0.5, rtype='share'):\n",
    "    \"\"\"Filter the database and calculate labor market stat\"\"\"\n",
    "    data = pd.Series()\n",
    "    for year in range(1994, 2019):\n",
    "        d = pd.read_feather(f'data/cps_{year}.ft', nthreads=3)\n",
    "        for month in range(1, 13):\n",
    "            df = d[(d['HRMONTH'] == month)]\n",
    "            if len(df) > 0:\n",
    "                df = df.query(filters)\n",
    "                if calc_type == 'epop':\n",
    "                    empl = np.where(df['PREMPNOT']==1, 1, 0)\n",
    "                    epop = np.average(empl, weights=df['PWSSWGT'])\n",
    "                    data[pd.to_datetime(f'{year}-{month}-01')] = epop * 100\n",
    "                if calc_type == 'unemp':\n",
    "                    un = np.where(df['PREMPNOT']==2, 1, 0)\n",
    "                    lf = np.where(df['PREMPNOT'].isin([1, 2]), 1, 0)\n",
    "                    unrt = (df['PWSSWGT'] * un).sum() / (df['PWSSWGT'] * lf).sum()\n",
    "                    data[pd.to_datetime(f'{year}-{month}-01')] = unrt * 100\n",
    "                if calc_type == 'lfpr':\n",
    "                    lf = np.where(df['PREMPNOT'].isin([1, 2]), 1, 0)\n",
    "                    unrt = (df['PWSSWGT'] * lf).sum() / (df['PWSSWGT']).sum()\n",
    "                    data[pd.to_datetime(f'{year}-{month}-01')] = unrt * 100\n",
    "                if calc_type == 'resp':\n",
    "                    same = np.where(df['PUIODP1']==1, 1, 0)\n",
    "                    resp = np.where((df['PUIODP1']==1) & (df['PUIODP2']==1), 1, 0)\n",
    "                    resh = (df['PWSSWGT'] * resp).sum() / (df['PWSSWGT'] * same).sum()\n",
    "                    data[pd.to_datetime(f'{year}-{month}-01')] = resh * 100\n",
    "                if calc_type == 'total':\n",
    "                    if rtype == 'level':\n",
    "                        tot = (df['PWSSWGT'] / 100000000).sum() / 100\n",
    "                    else:\n",
    "                        tot = (df['PWSSWGT']).sum() / (d[(d['HRMONTH'] == month)]['PWSSWGT']).sum() * 100\n",
    "                    data[pd.to_datetime(f'{year}-{month}-01')] = tot\n",
    "                # Following based on:\n",
    "                # https://www.frbatlanta.org/chcs/human-capital-currents/2015/0612-measuring-labor-market-status-using-basic-data.aspx\n",
    "                if calc_type == 'disc':\n",
    "                    dw = np.where(df['PEDWWNTO'].isin([1]), 1, 0)\n",
    "                    if rtype == 'level':\n",
    "                        dwrt = ((df['PWSSWGT'] / 100000000) * dw).sum() / 100\n",
    "                    else:\n",
    "                        dwrt = (df['PWSSWGT'] * dw).sum() / (df['PWSSWGT']).sum() * 100\n",
    "                    data[pd.to_datetime(f'{year}-{month}-01')] = dwrt \n",
    "                if calc_type == 'nilfsch':\n",
    "                    ns = np.where((df['PRWNTJOB']==2) & (df['PENLFACT']==3), 1, 0)\n",
    "                    if rtype == 'level':\n",
    "                        scrt = ((df['PWSSWGT'] / 100000000) * ns).sum() / 100\n",
    "                    else:\n",
    "                        scrt = (df['PWSSWGT'] * ns).sum() / (df['PWSSWGT']).sum() * 100\n",
    "                    data[pd.to_datetime(f'{year}-{month}-01')] = scrt\n",
    "                if calc_type == 'disill':\n",
    "                    nd = np.where(((df['PRWNTJOB']==2) & \n",
    "                                   ((df['PEMLR']==6) | \n",
    "                                    (df['PENLFACT']==1) | \n",
    "                                    (df['PENLFACT']==2))), 1, 0)\n",
    "                    if rtype == 'level':\n",
    "                        di = ((df['PWSSWGT'] / 100000000) * nd).sum() / 100\n",
    "                    else:                    \n",
    "                        di = (df['PWSSWGT'] * nd).sum() / (df['PWSSWGT']).sum() * 100\n",
    "                    data[pd.to_datetime(f'{year}-{month}-01')] = di\n",
    "                if calc_type == 'care':\n",
    "                    care = np.where((df['PRWNTJOB']==2) & (df['PENLFACT']==4), 1, 0)\n",
    "                    if rtype == 'level':\n",
    "                        ncare = ((df['PWSSWGT'] / 100000000) * care).sum() / 100\n",
    "                    else:                      \n",
    "                        ncare = (df['PWSSWGT'] * care).sum() / (df['PWSSWGT']).sum() * 100 \n",
    "                    data[pd.to_datetime(f'{year}-{month}-01')] = ncare\n",
    "                if calc_type == 'union':\n",
    "                    tot = np.where(df['PEERNLAB'].isin([1, 2]), 1, 0)\n",
    "                    union = np.where(df['PEERNLAB'] == 1, 1, 0)\n",
    "                    if rtype == 'level':\n",
    "                        unsh = ((df['PWORWGT'] / 100000000) * union).sum() / 100\n",
    "                    else:\n",
    "                        unsh = (df['PWORWGT'] * union).sum() / (df['PWORWGT'] * tot).sum() * 100 \n",
    "                    data[pd.to_datetime(f'{year}-{month}-01')] = unsh               \n",
    "                if calc_type in ['uwe', 'uwe_gr', 'uwe_r', 'uwe_r_gr']:\n",
    "                    uwe = wquantiles.quantile(\n",
    "                        df['PRERNWA'], df['PWORWGT'].astype(float), decile) / 100.0\n",
    "                    data[pd.to_datetime(f'{year}-{month}-01')] = uwe\n",
    "                if calc_type in ['uhe', 'uhe_gr', 'uhe_r']:\n",
    "                    uhe = wquantiles.quantile(\n",
    "                        df['PRERNHLY'], df['PWORWGT'].astype(float), decile) / 100.0\n",
    "                    data[pd.to_datetime(f'{year}-{month}-01')] = uhe\n",
    "        if calc_type in ['quwe_r', 'quwe']:\n",
    "            for q in [('Q1', [1, 2, 3]), ('Q2', [4, 5, 6]), ('Q3', [7, 8, 9]), ('Q4', [10, 11, 12])]:\n",
    "                df = d[(d['HRMONTH'].isin(q[1]))]\n",
    "                if len(df['HRMONTH'].unique()) > 2:\n",
    "                    df = df.query(filters)\n",
    "                    quwe = wquantiles.quantile(\n",
    "                        df['PRERNWA'], df['PWORWGT'].astype(float), decile) / 100.0\n",
    "                    data[pd.to_datetime(f'{year}-{q[0]}')] = quwe\n",
    "    \n",
    "    # Price adjustment for real wage series\n",
    "    if calc_type in ['uwe_r', 'uhe_r', 'quwe_r', 'uwe_r_gr']:\n",
    "        data = pd.concat([data, cpi['CPIAUCSL']], axis=1)\n",
    "        data = (data[0] * data['CPIAUCSL'].iloc[-1]) / data['CPIAUCSL']\n",
    "        \n",
    "    # Growth if wage series\n",
    "    if calc_type in ['uwe_gr', 'uhe_gr', 'uwe_r_gr']:\n",
    "        data = data.rolling(12).mean().pct_change(12) * 100\n",
    "        \n",
    "    if calc_type not in ['quwe_r', 'quwe', 'uwe_gr', 'uhe_gr']:\n",
    "        data = data.rolling(12).mean().dropna()\n",
    "    \n",
    "    # Take one-year moving average to smooth out seasonality and noise\n",
    "    return data.dropna()\n",
    "\n",
    "def labor_mkt_grapher(title, data, color, decimals=1):\n",
    "    \"\"\"Graph the labor market! \"\"\"\n",
    "    spcr, spcr2 = (data.max() - data.min()) / 26, (data.max() - data.min()) / 40\n",
    "    ax = data.plot(title=title, figsize=(8, 4), color=color)\n",
    "    ax = plt.scatter([data.index[-1]], [data[-1]], color=color, s=25)\n",
    "    for i, v in rec_dt:\n",
    "        ax = plt.axvspan(i, v, fill=True, linewidth=0, color='gray', alpha=0.2)\n",
    "    if decimals == 1:\n",
    "        ax = plt.annotate(f'   {data[-1]: .1f}%', (data.index[-1], data[-1]-spcr2))\n",
    "        ax = plt.xlabel('Source: Current Population Survey microdata, 12-month moving average')\n",
    "    else:\n",
    "        ax = plt.annotate(f'   ${data[-1]: .2f}', (data.index[-1], data[-1]-spcr2))\n",
    "        ax = plt.xlabel('Source: Current Population Survey microdata, adjusted for inflation by CPI-U')\n",
    "    ax = plt.annotate(f'  {data.index[-1]:%b %Y}', (data.index[-1], data[-1]+spcr), \n",
    "                      fontweight='bold')"
   ]
  },
  {
   "cell_type": "code",
   "execution_count": 8,
   "metadata": {
    "ExecuteTime": {
     "end_time": "2018-05-28T00:29:58.393878Z",
     "start_time": "2018-05-28T00:29:48.705964Z"
    },
    "code_folding": []
   },
   "outputs": [
    {
     "data": {
      "image/png": "[encoded data removed]",
      "text/plain": [
       "<Figure size 576x288 with 1 Axes>"
      ]
     },
     "metadata": {},
     "output_type": "display_data"
    }
   ],
   "source": [
    "# Calculate total group size (millions)\n",
    "filters = 'PRTAGE < 35'\n",
    "calc_type = 'union'\n",
    "title = 'Usual weekly earnings, under age 35'\n",
    "data = get_cps_data(filters, calc_type)\n",
    "labor_mkt_grapher(title, data, 'green')"
   ]
  },
  {
   "cell_type": "code",
   "execution_count": null,
   "metadata": {},
   "outputs": [],
   "source": []
  },
  {
   "cell_type": "code",
   "execution_count": null,
   "metadata": {
    "ExecuteTime": {
     "end_time": "2018-05-07T03:54:57.575884Z",
     "start_time": "2018-05-07T03:54:50.105967Z"
    },
    "code_folding": [
     0
    ]
   },
   "outputs": [],
   "source": [
    "# Calculate total group size (millions)\n",
    "filters = 'PRTAGE > 24 and PRTAGE < 55 and PRDTIND1 == 4'\n",
    "calc_type = 'resp'\n",
    "title = 'Same job, new responsibilities'\n",
    "data = get_cps_data(filters, calc_type)\n",
    "labor_mkt_grapher(title, data, 'green')"
   ]
  },
  {
   "cell_type": "code",
   "execution_count": 14,
   "metadata": {
    "ExecuteTime": {
     "end_time": "2018-05-28T01:04:32.042926Z",
     "start_time": "2018-05-28T01:04:23.533010Z"
    },
    "code_folding": []
   },
   "outputs": [
    {
     "data": {
      "image/png": "[encoded data removed]",
      "text/plain": [
       "<Figure size 576x288 with 1 Axes>"
      ]
     },
     "metadata": {},
     "output_type": "display_data"
    }
   ],
   "source": [
    "# Weekly wage growth\n",
    "filters = 'PRFTLF == 1 and PRERNWA > 0'\n",
    "calc_type = 'uwe_r'\n",
    "title = 'Real median usual weekly earnings, 12-month MA'\n",
    "data2 = get_cps_data(filters, calc_type, decile=0.5)\n",
    "labor_mkt_grapher(title, data2, 'blue', decimals=2)\n",
    "plt.savefig('uwe.png', bbox_inches='tight', dpi=100)"
   ]
  },
  {
   "cell_type": "code",
   "execution_count": 17,
   "metadata": {
    "ExecuteTime": {
     "end_time": "2018-05-28T01:05:34.652800Z",
     "start_time": "2018-05-28T01:05:34.634573Z"
    }
   },
   "outputs": [],
   "source": [
    "df = pd.concat([data,data2], axis=1)"
   ]
  },
  {
   "cell_type": "code",
   "execution_count": 18,
   "metadata": {
    "ExecuteTime": {
     "end_time": "2018-05-28T01:05:40.523010Z",
     "start_time": "2018-05-28T01:05:40.512760Z"
    }
   },
   "outputs": [],
   "source": [
    "df.columns = ['25-54', '16+']"
   ]
  },
  {
   "cell_type": "code",
   "execution_count": 20,
   "metadata": {
    "ExecuteTime": {
     "end_time": "2018-05-28T01:06:08.252938Z",
     "start_time": "2018-05-28T01:06:08.231802Z"
    }
   },
   "outputs": [],
   "source": [
    "df.to_csv('cps_uwe_r.csv')"
   ]
  },
  {
   "cell_type": "code",
   "execution_count": null,
   "metadata": {
    "ExecuteTime": {
     "end_time": "2018-04-22T21:52:04.541447Z",
     "start_time": "2018-04-22T21:51:57.201210Z"
    },
    "code_folding": [
     0
    ]
   },
   "outputs": [],
   "source": [
    "# Weekly wage growth\n",
    "filters = 'PRTAGE > 24 and PRTAGE < 55 and PESEX == 2 and PRFTLF == 1 and PRERNWA > 0 and PEEDUCA < 43'\n",
    "calc_type = 'uwe_r'\n",
    "title = \"Real median usual weekly earnings, women age 25-54, less than bachelor's degree, 12-month MA\"\n",
    "data = get_cps_data(filters, calc_type, decile=0.5)\n",
    "labor_mkt_grapher(title, data, 'red')\n",
    "plt.savefig('uwe_ba.png', bbox_inches='tight', dpi=100)"
   ]
  },
  {
   "cell_type": "code",
   "execution_count": 7,
   "metadata": {
    "ExecuteTime": {
     "end_time": "2018-05-28T00:29:30.949909Z",
     "start_time": "2018-05-28T00:29:23.476311Z"
    },
    "code_folding": [
     0
    ]
   },
   "outputs": [
    {
     "ename": "TypeError",
     "evalue": "Empty 'DataFrame': no numeric data to plot",
     "output_type": "error",
     "traceback": [
      "\u001b[1;31m---------------------------------------------------------------------------\u001b[0m",
      "\u001b[1;31mTypeError\u001b[0m                                 Traceback (most recent call last)",
      "\u001b[1;32m<ipython-input-7-e6b89284e422>\u001b[0m in \u001b[0;36m<module>\u001b[1;34m()\u001b[0m\n\u001b[0;32m      4\u001b[0m \u001b[0mtitle\u001b[0m \u001b[1;33m=\u001b[0m \u001b[1;34m'Median real weekly earnings growth, black, under age 35'\u001b[0m\u001b[1;33m\u001b[0m\u001b[0m\n\u001b[0;32m      5\u001b[0m \u001b[0mdata\u001b[0m \u001b[1;33m=\u001b[0m \u001b[0mget_cps_data\u001b[0m\u001b[1;33m(\u001b[0m\u001b[0mfilters\u001b[0m\u001b[1;33m,\u001b[0m \u001b[0mcalc_type\u001b[0m\u001b[1;33m,\u001b[0m \u001b[0mdecile\u001b[0m\u001b[1;33m=\u001b[0m\u001b[1;36m0.5\u001b[0m\u001b[1;33m)\u001b[0m\u001b[1;33m\u001b[0m\u001b[0m\n\u001b[1;32m----> 6\u001b[1;33m \u001b[0mlabor_mkt_grapher\u001b[0m\u001b[1;33m(\u001b[0m\u001b[0mtitle\u001b[0m\u001b[1;33m,\u001b[0m \u001b[0mdata\u001b[0m\u001b[1;33m,\u001b[0m \u001b[1;34m'blue'\u001b[0m\u001b[1;33m)\u001b[0m\u001b[1;33m\u001b[0m\u001b[0m\n\u001b[0m",
      "\u001b[1;32m<ipython-input-3-6c9cbefde136>\u001b[0m in \u001b[0;36mlabor_mkt_grapher\u001b[1;34m(title, data, color, decimals)\u001b[0m\n\u001b[0;32m    109\u001b[0m     \u001b[1;34m\"\"\"Graph the labor market! \"\"\"\u001b[0m\u001b[1;33m\u001b[0m\u001b[0m\n\u001b[0;32m    110\u001b[0m     \u001b[0mspcr\u001b[0m\u001b[1;33m,\u001b[0m \u001b[0mspcr2\u001b[0m \u001b[1;33m=\u001b[0m \u001b[1;33m(\u001b[0m\u001b[0mdata\u001b[0m\u001b[1;33m.\u001b[0m\u001b[0mmax\u001b[0m\u001b[1;33m(\u001b[0m\u001b[1;33m)\u001b[0m \u001b[1;33m-\u001b[0m \u001b[0mdata\u001b[0m\u001b[1;33m.\u001b[0m\u001b[0mmin\u001b[0m\u001b[1;33m(\u001b[0m\u001b[1;33m)\u001b[0m\u001b[1;33m)\u001b[0m \u001b[1;33m/\u001b[0m \u001b[1;36m26\u001b[0m\u001b[1;33m,\u001b[0m \u001b[1;33m(\u001b[0m\u001b[0mdata\u001b[0m\u001b[1;33m.\u001b[0m\u001b[0mmax\u001b[0m\u001b[1;33m(\u001b[0m\u001b[1;33m)\u001b[0m \u001b[1;33m-\u001b[0m \u001b[0mdata\u001b[0m\u001b[1;33m.\u001b[0m\u001b[0mmin\u001b[0m\u001b[1;33m(\u001b[0m\u001b[1;33m)\u001b[0m\u001b[1;33m)\u001b[0m \u001b[1;33m/\u001b[0m \u001b[1;36m40\u001b[0m\u001b[1;33m\u001b[0m\u001b[0m\n\u001b[1;32m--> 111\u001b[1;33m     \u001b[0max\u001b[0m \u001b[1;33m=\u001b[0m \u001b[0mdata\u001b[0m\u001b[1;33m.\u001b[0m\u001b[0mplot\u001b[0m\u001b[1;33m(\u001b[0m\u001b[0mtitle\u001b[0m\u001b[1;33m=\u001b[0m\u001b[0mtitle\u001b[0m\u001b[1;33m,\u001b[0m \u001b[0mfigsize\u001b[0m\u001b[1;33m=\u001b[0m\u001b[1;33m(\u001b[0m\u001b[1;36m8\u001b[0m\u001b[1;33m,\u001b[0m \u001b[1;36m4\u001b[0m\u001b[1;33m)\u001b[0m\u001b[1;33m,\u001b[0m \u001b[0mcolor\u001b[0m\u001b[1;33m=\u001b[0m\u001b[0mcolor\u001b[0m\u001b[1;33m)\u001b[0m\u001b[1;33m\u001b[0m\u001b[0m\n\u001b[0m\u001b[0;32m    112\u001b[0m     \u001b[0max\u001b[0m \u001b[1;33m=\u001b[0m \u001b[0mplt\u001b[0m\u001b[1;33m.\u001b[0m\u001b[0mscatter\u001b[0m\u001b[1;33m(\u001b[0m\u001b[1;33m[\u001b[0m\u001b[0mdata\u001b[0m\u001b[1;33m.\u001b[0m\u001b[0mindex\u001b[0m\u001b[1;33m[\u001b[0m\u001b[1;33m-\u001b[0m\u001b[1;36m1\u001b[0m\u001b[1;33m]\u001b[0m\u001b[1;33m]\u001b[0m\u001b[1;33m,\u001b[0m \u001b[1;33m[\u001b[0m\u001b[0mdata\u001b[0m\u001b[1;33m[\u001b[0m\u001b[1;33m-\u001b[0m\u001b[1;36m1\u001b[0m\u001b[1;33m]\u001b[0m\u001b[1;33m]\u001b[0m\u001b[1;33m,\u001b[0m \u001b[0mcolor\u001b[0m\u001b[1;33m=\u001b[0m\u001b[0mcolor\u001b[0m\u001b[1;33m,\u001b[0m \u001b[0ms\u001b[0m\u001b[1;33m=\u001b[0m\u001b[1;36m25\u001b[0m\u001b[1;33m)\u001b[0m\u001b[1;33m\u001b[0m\u001b[0m\n\u001b[0;32m    113\u001b[0m     \u001b[1;32mfor\u001b[0m \u001b[0mi\u001b[0m\u001b[1;33m,\u001b[0m \u001b[0mv\u001b[0m \u001b[1;32min\u001b[0m \u001b[0mrec_dt\u001b[0m\u001b[1;33m:\u001b[0m\u001b[1;33m\u001b[0m\u001b[0m\n",
      "\u001b[1;32m~\\Anaconda3\\lib\\site-packages\\pandas\\plotting\\_core.py\u001b[0m in \u001b[0;36m__call__\u001b[1;34m(self, kind, ax, figsize, use_index, title, grid, legend, style, logx, logy, loglog, xticks, yticks, xlim, ylim, rot, fontsize, colormap, table, yerr, xerr, label, secondary_y, **kwds)\u001b[0m\n\u001b[0;32m   2739\u001b[0m                            \u001b[0mcolormap\u001b[0m\u001b[1;33m=\u001b[0m\u001b[0mcolormap\u001b[0m\u001b[1;33m,\u001b[0m \u001b[0mtable\u001b[0m\u001b[1;33m=\u001b[0m\u001b[0mtable\u001b[0m\u001b[1;33m,\u001b[0m \u001b[0myerr\u001b[0m\u001b[1;33m=\u001b[0m\u001b[0myerr\u001b[0m\u001b[1;33m,\u001b[0m\u001b[1;33m\u001b[0m\u001b[0m\n\u001b[0;32m   2740\u001b[0m                            \u001b[0mxerr\u001b[0m\u001b[1;33m=\u001b[0m\u001b[0mxerr\u001b[0m\u001b[1;33m,\u001b[0m \u001b[0mlabel\u001b[0m\u001b[1;33m=\u001b[0m\u001b[0mlabel\u001b[0m\u001b[1;33m,\u001b[0m \u001b[0msecondary_y\u001b[0m\u001b[1;33m=\u001b[0m\u001b[0msecondary_y\u001b[0m\u001b[1;33m,\u001b[0m\u001b[1;33m\u001b[0m\u001b[0m\n\u001b[1;32m-> 2741\u001b[1;33m                            **kwds)\n\u001b[0m\u001b[0;32m   2742\u001b[0m     \u001b[0m__call__\u001b[0m\u001b[1;33m.\u001b[0m\u001b[0m__doc__\u001b[0m \u001b[1;33m=\u001b[0m \u001b[0mplot_series\u001b[0m\u001b[1;33m.\u001b[0m\u001b[0m__doc__\u001b[0m\u001b[1;33m\u001b[0m\u001b[0m\n\u001b[0;32m   2743\u001b[0m \u001b[1;33m\u001b[0m\u001b[0m\n",
      "\u001b[1;32m~\\Anaconda3\\lib\\site-packages\\pandas\\plotting\\_core.py\u001b[0m in \u001b[0;36mplot_series\u001b[1;34m(data, kind, ax, figsize, use_index, title, grid, legend, style, logx, logy, loglog, xticks, yticks, xlim, ylim, rot, fontsize, colormap, table, yerr, xerr, label, secondary_y, **kwds)\u001b[0m\n\u001b[0;32m   2000\u001b[0m                  \u001b[0myerr\u001b[0m\u001b[1;33m=\u001b[0m\u001b[0myerr\u001b[0m\u001b[1;33m,\u001b[0m \u001b[0mxerr\u001b[0m\u001b[1;33m=\u001b[0m\u001b[0mxerr\u001b[0m\u001b[1;33m,\u001b[0m\u001b[1;33m\u001b[0m\u001b[0m\n\u001b[0;32m   2001\u001b[0m                  \u001b[0mlabel\u001b[0m\u001b[1;33m=\u001b[0m\u001b[0mlabel\u001b[0m\u001b[1;33m,\u001b[0m \u001b[0msecondary_y\u001b[0m\u001b[1;33m=\u001b[0m\u001b[0msecondary_y\u001b[0m\u001b[1;33m,\u001b[0m\u001b[1;33m\u001b[0m\u001b[0m\n\u001b[1;32m-> 2002\u001b[1;33m                  **kwds)\n\u001b[0m\u001b[0;32m   2003\u001b[0m \u001b[1;33m\u001b[0m\u001b[0m\n\u001b[0;32m   2004\u001b[0m \u001b[1;33m\u001b[0m\u001b[0m\n",
      "\u001b[1;32m~\\Anaconda3\\lib\\site-packages\\pandas\\plotting\\_core.py\u001b[0m in \u001b[0;36m_plot\u001b[1;34m(data, x, y, subplots, ax, kind, **kwds)\u001b[0m\n\u001b[0;32m   1802\u001b[0m         \u001b[0mplot_obj\u001b[0m \u001b[1;33m=\u001b[0m \u001b[0mklass\u001b[0m\u001b[1;33m(\u001b[0m\u001b[0mdata\u001b[0m\u001b[1;33m,\u001b[0m \u001b[0msubplots\u001b[0m\u001b[1;33m=\u001b[0m\u001b[0msubplots\u001b[0m\u001b[1;33m,\u001b[0m \u001b[0max\u001b[0m\u001b[1;33m=\u001b[0m\u001b[0max\u001b[0m\u001b[1;33m,\u001b[0m \u001b[0mkind\u001b[0m\u001b[1;33m=\u001b[0m\u001b[0mkind\u001b[0m\u001b[1;33m,\u001b[0m \u001b[1;33m**\u001b[0m\u001b[0mkwds\u001b[0m\u001b[1;33m)\u001b[0m\u001b[1;33m\u001b[0m\u001b[0m\n\u001b[0;32m   1803\u001b[0m \u001b[1;33m\u001b[0m\u001b[0m\n\u001b[1;32m-> 1804\u001b[1;33m     \u001b[0mplot_obj\u001b[0m\u001b[1;33m.\u001b[0m\u001b[0mgenerate\u001b[0m\u001b[1;33m(\u001b[0m\u001b[1;33m)\u001b[0m\u001b[1;33m\u001b[0m\u001b[0m\n\u001b[0m\u001b[0;32m   1805\u001b[0m     \u001b[0mplot_obj\u001b[0m\u001b[1;33m.\u001b[0m\u001b[0mdraw\u001b[0m\u001b[1;33m(\u001b[0m\u001b[1;33m)\u001b[0m\u001b[1;33m\u001b[0m\u001b[0m\n\u001b[0;32m   1806\u001b[0m     \u001b[1;32mreturn\u001b[0m \u001b[0mplot_obj\u001b[0m\u001b[1;33m.\u001b[0m\u001b[0mresult\u001b[0m\u001b[1;33m\u001b[0m\u001b[0m\n",
      "\u001b[1;32m~\\Anaconda3\\lib\\site-packages\\pandas\\plotting\\_core.py\u001b[0m in \u001b[0;36mgenerate\u001b[1;34m(self)\u001b[0m\n\u001b[0;32m    256\u001b[0m     \u001b[1;32mdef\u001b[0m \u001b[0mgenerate\u001b[0m\u001b[1;33m(\u001b[0m\u001b[0mself\u001b[0m\u001b[1;33m)\u001b[0m\u001b[1;33m:\u001b[0m\u001b[1;33m\u001b[0m\u001b[0m\n\u001b[0;32m    257\u001b[0m         \u001b[0mself\u001b[0m\u001b[1;33m.\u001b[0m\u001b[0m_args_adjust\u001b[0m\u001b[1;33m(\u001b[0m\u001b[1;33m)\u001b[0m\u001b[1;33m\u001b[0m\u001b[0m\n\u001b[1;32m--> 258\u001b[1;33m         \u001b[0mself\u001b[0m\u001b[1;33m.\u001b[0m\u001b[0m_compute_plot_data\u001b[0m\u001b[1;33m(\u001b[0m\u001b[1;33m)\u001b[0m\u001b[1;33m\u001b[0m\u001b[0m\n\u001b[0m\u001b[0;32m    259\u001b[0m         \u001b[0mself\u001b[0m\u001b[1;33m.\u001b[0m\u001b[0m_setup_subplots\u001b[0m\u001b[1;33m(\u001b[0m\u001b[1;33m)\u001b[0m\u001b[1;33m\u001b[0m\u001b[0m\n\u001b[0;32m    260\u001b[0m         \u001b[0mself\u001b[0m\u001b[1;33m.\u001b[0m\u001b[0m_make_plot\u001b[0m\u001b[1;33m(\u001b[0m\u001b[1;33m)\u001b[0m\u001b[1;33m\u001b[0m\u001b[0m\n",
      "\u001b[1;32m~\\Anaconda3\\lib\\site-packages\\pandas\\plotting\\_core.py\u001b[0m in \u001b[0;36m_compute_plot_data\u001b[1;34m(self)\u001b[0m\n\u001b[0;32m    371\u001b[0m         \u001b[1;32mif\u001b[0m \u001b[0mis_empty\u001b[0m\u001b[1;33m:\u001b[0m\u001b[1;33m\u001b[0m\u001b[0m\n\u001b[0;32m    372\u001b[0m             raise TypeError('Empty {0!r}: no numeric data to '\n\u001b[1;32m--> 373\u001b[1;33m                             'plot'.format(numeric_data.__class__.__name__))\n\u001b[0m\u001b[0;32m    374\u001b[0m \u001b[1;33m\u001b[0m\u001b[0m\n\u001b[0;32m    375\u001b[0m         \u001b[0mself\u001b[0m\u001b[1;33m.\u001b[0m\u001b[0mdata\u001b[0m \u001b[1;33m=\u001b[0m \u001b[0mnumeric_data\u001b[0m\u001b[1;33m\u001b[0m\u001b[0m\n",
      "\u001b[1;31mTypeError\u001b[0m: Empty 'DataFrame': no numeric data to plot"
     ]
    }
   ],
   "source": [
    "# Hourly wage growth\n",
    "filters = 'PRERNWA > 0 and PRFTLF == 1 and PRDTRACE == 2 and PRTAGE > 44 and PRTAGE < 55'\n",
    "calc_type = 'uwe_r_gr'\n",
    "title = 'Median real weekly earnings growth, black, under age 35'\n",
    "data = get_cps_data(filters, calc_type, decile=0.5)\n",
    "labor_mkt_grapher(title, data, 'blue')"
   ]
  },
  {
   "cell_type": "code",
   "execution_count": null,
   "metadata": {
    "ExecuteTime": {
     "end_time": "2018-04-12T03:16:37.541381Z",
     "start_time": "2018-04-12T03:16:31.778277Z"
    },
    "code_folding": [
     0
    ]
   },
   "outputs": [],
   "source": [
    "# Calculate total group size (millions)\n",
    "filters = 'PRTAGE > 24 and PRTAGE < 55 and PESEX == 2 and PEEDUCA == 40'\n",
    "calc_type = 'total'\n",
    "title = 'Population in millions, women age 25-54, less than bachelor degree'\n",
    "data = get_cps_data(filters, calc_type, rtype='level')\n",
    "labor_mkt_grapher(title, data, 'orange')\n",
    "#plt.savefig('pop_ltba.png', bbox_inches='tight', dpi=100)"
   ]
  },
  {
   "cell_type": "code",
   "execution_count": null,
   "metadata": {
    "ExecuteTime": {
     "end_time": "2018-03-24T21:00:32.905980Z",
     "start_time": "2018-03-24T21:00:26.957089Z"
    },
    "code_folding": [
     0
    ]
   },
   "outputs": [],
   "source": [
    "# Weekly wage growth\n",
    "filters = 'PRFTLF == 1 and PRERNWA > 50'\n",
    "calc_type = 'uwe'\n",
    "title = 'Median weekly wage growth'\n",
    "data = get_cps_data(filters, calc_type, decile=0.5)\n",
    "labor_mkt_grapher(title, data, 'purple')"
   ]
  },
  {
   "cell_type": "code",
   "execution_count": null,
   "metadata": {
    "ExecuteTime": {
     "end_time": "2018-04-09T02:16:55.695875Z",
     "start_time": "2018-04-09T02:16:49.320517Z"
    },
    "code_folding": [
     0
    ]
   },
   "outputs": [],
   "source": [
    "# Weekly wage growth\n",
    "filters = 'PRTAGE > 24 and PRTAGE < 35 and WBHAO == 1 and PRFTLF == 1 and PRERNHLY > 0'\n",
    "calc_type = 'uwe'\n",
    "title = 'Median weekly wage, annual growth, black age 25-34'\n",
    "data = get_cps_data(filters, calc_type, decile=0.5)\n",
    "labor_mkt_grapher(title, data, 'limegreen')"
   ]
  },
  {
   "cell_type": "code",
   "execution_count": null,
   "metadata": {
    "ExecuteTime": {
     "end_time": "2018-04-09T03:11:45.187353Z",
     "start_time": "2018-04-09T03:11:45.177845Z"
    }
   },
   "outputs": [],
   "source": [
    "pd.concat([data, cpi['CPIAUCSL']], axis=1)['CPIAUCSL'].iloc[-1]"
   ]
  },
  {
   "cell_type": "code",
   "execution_count": null,
   "metadata": {
    "ExecuteTime": {
     "end_time": "2018-04-09T02:11:44.092514Z",
     "start_time": "2018-04-09T02:11:37.554366Z"
    },
    "code_folding": [
     0
    ]
   },
   "outputs": [],
   "source": [
    "# Discouraged worker, or conditionally available\n",
    "filters = 'PRTAGE > 22 and PRTAGE < 34 and PESEX == 2 and WBHAO == 4'\n",
    "calc_type = 'nilfsch'\n",
    "title = 'School, NILF, % of white women age 22-34, 12M-MA'\n",
    "data = get_cps_data(filters, calc_type)\n",
    "labor_mkt_grapher(title, data, 'purple')"
   ]
  },
  {
   "cell_type": "markdown",
   "metadata": {},
   "source": [
    "The employment to population ratio calculates what share of the total population ($P$), has a job. It is calculated from the Current Population Survey (CPS)."
   ]
  },
  {
   "cell_type": "code",
   "execution_count": null,
   "metadata": {
    "ExecuteTime": {
     "end_time": "2018-05-12T23:02:27.486296Z",
     "start_time": "2018-05-12T23:02:19.628176Z"
    },
    "code_folding": [
     0
    ]
   },
   "outputs": [],
   "source": [
    "# Employment to Population Ratio\n",
    "filters = 'PRTAGE >= 25 and PRTAGE <= 54 and WBHAO == 1'\n",
    "calc_type = 'epop'\n",
    "title = 'Percent of whites age 25-54 with a job, 12M-MA'\n",
    "data = get_cps_data(filters, calc_type)\n",
    "labor_mkt_grapher(title, data, 'blue')"
   ]
  },
  {
   "cell_type": "markdown",
   "metadata": {},
   "source": [
    "### The share of men age 25-34 with a job has not recovered from its 2000 peak\n",
    "\n",
    "There are essentially three labor force categories: employed, unemployed, and not in the labor force.\n",
    "\n",
    "$$Population = Employed + Unemployed + Not \\ in \\ Labor \\ Force$$\n",
    "\n",
    "The employment-population ratio (above) is therefore $\\frac{Employed}{Population}$. $Unemployed$ and $Not \\ in \\ Labor \\ Force$ are different; $Unemployed$ counts those actively looking for work or recently layed off. People can be outside the labor force for many reasons, some more subject to economic factors than others.\n",
    "\n",
    "The CPS gives 100,000 people a chance to tell their story each month, including why they are not in the labor force. We can use the survey responses to summarize trends across groups."
   ]
  },
  {
   "cell_type": "code",
   "execution_count": null,
   "metadata": {
    "ExecuteTime": {
     "end_time": "2018-03-24T21:00:53.115042Z",
     "start_time": "2018-03-24T21:00:48.086399Z"
    },
    "code_folding": [
     0
    ]
   },
   "outputs": [],
   "source": [
    "# Unemployment Rate\n",
    "filters = 'PRTAGE >= 25 and PRTAGE <= 34 and PESEX == 1'\n",
    "calc_type = 'unemp'\n",
    "title = 'Unemployment rate, men age 25-34'\n",
    "data = get_cps_data(filters, calc_type)\n",
    "labor_mkt_grapher(title, data, 'green')"
   ]
  },
  {
   "cell_type": "markdown",
   "metadata": {},
   "source": [
    "The unemployment rate has more or less recovered, unlike the employment to population ratio. It is calculated as the unemployed population divided by the labor force, $\\frac{Unemployed}{(Employed+Unemployed)}$. We can also look at the labor force participation rate, $\\frac{(Employed+Unemployed)}{Population}$, the least recovered of the three measures. "
   ]
  },
  {
   "cell_type": "code",
   "execution_count": null,
   "metadata": {
    "ExecuteTime": {
     "end_time": "2018-03-24T21:00:58.201912Z",
     "start_time": "2018-03-24T21:00:53.115042Z"
    },
    "code_folding": [
     0
    ]
   },
   "outputs": [],
   "source": [
    "# Labor force participation rate\n",
    "filters = 'PRTAGE >= 25 and PRTAGE <= 34 and PESEX == 1'\n",
    "calc_type = 'lfpr'\n",
    "title = 'Labor force participation rate, men age 25-34'\n",
    "data = get_cps_data(filters, calc_type)\n",
    "labor_mkt_grapher(title, data, 'red')"
   ]
  },
  {
   "cell_type": "markdown",
   "metadata": {},
   "source": [
    "### Women"
   ]
  },
  {
   "cell_type": "code",
   "execution_count": null,
   "metadata": {
    "ExecuteTime": {
     "end_time": "2018-04-12T02:01:01.184176Z",
     "start_time": "2018-04-12T02:00:39.278714Z"
    },
    "code_folding": [
     0
    ]
   },
   "outputs": [],
   "source": [
    "# Care for other, not in labor force\n",
    "filters = 'PRTAGE >= 25 and PRTAGE <= 34 and PESEX == 2'\n",
    "calc_type = 'care'\n",
    "title = 'Caregiving, NILF, % of women age 25-34, 12-mo moving avg'\n",
    "data = get_cps_data(filters, calc_type)\n",
    "labor_mkt_grapher(title, data, 'blue')\n",
    "plt.savefig('caregiving.png', bbox_inches='tight', dpi=500)"
   ]
  },
  {
   "cell_type": "code",
   "execution_count": null,
   "metadata": {
    "ExecuteTime": {
     "end_time": "2018-03-24T21:01:08.656049Z",
     "start_time": "2018-03-24T21:01:03.615282Z"
    },
    "code_folding": [
     0
    ]
   },
   "outputs": [],
   "source": [
    "# Care for other, not in labor force\n",
    "filters = 'PRTAGE >= 35 and PRTAGE <= 44 and PESEX == 2'\n",
    "calc_type = 'care'\n",
    "title = 'Caregiving, NILF, % of women age 35-44, 12-mo moving avg'\n",
    "data = get_cps_data(filters, calc_type)\n",
    "labor_mkt_grapher(title, data, 'blue')"
   ]
  },
  {
   "cell_type": "code",
   "execution_count": null,
   "metadata": {
    "ExecuteTime": {
     "end_time": "2018-03-24T21:01:13.767462Z",
     "start_time": "2018-03-24T21:01:08.656049Z"
    },
    "code_folding": [
     0
    ]
   },
   "outputs": [],
   "source": [
    "# Care for other, not in labor force\n",
    "filters = 'PRTAGE >= 45 and PRTAGE <= 54 and PESEX == 2'\n",
    "calc_type = 'care'\n",
    "title = 'Caregiving, NILF, % of women age 45-54, 12-mo moving avg'\n",
    "data = get_cps_data(filters, calc_type)\n",
    "labor_mkt_grapher(title, data, 'blue')"
   ]
  },
  {
   "cell_type": "code",
   "execution_count": null,
   "metadata": {
    "ExecuteTime": {
     "end_time": "2018-03-24T21:01:19.149289Z",
     "start_time": "2018-03-24T21:01:13.767462Z"
    },
    "code_folding": [
     0
    ]
   },
   "outputs": [],
   "source": [
    "# Care for other, not in labor force\n",
    "filters = 'PRTAGE >= 25 and PRTAGE <= 34 and PESEX == 1'\n",
    "calc_type = 'care'\n",
    "title = 'Caregiving, NILF, % of men age 25-34, 12-mo moving avg'\n",
    "data = get_cps_data(filters, calc_type)\n",
    "labor_mkt_grapher(title, data, 'darkorchid')\n",
    "plt.savefig('caregiving.png', bbox_inches='tight', dpi=500)"
   ]
  },
  {
   "cell_type": "code",
   "execution_count": null,
   "metadata": {
    "ExecuteTime": {
     "end_time": "2018-04-12T02:01:33.137823Z",
     "start_time": "2018-04-12T02:01:26.124447Z"
    },
    "code_folding": [
     0
    ]
   },
   "outputs": [],
   "source": [
    "# Disabled/Ill, not in labor force\n",
    "filters = 'PRTAGE >= 25 and PRTAGE <= 54'\n",
    "calc_type = 'disill'\n",
    "title = 'Disabled/Ill, NILF, age 25-54, in millions'\n",
    "data = get_cps_data(filters, calc_type, rtype='level')\n",
    "labor_mkt_grapher(title, data, 'orange')\n",
    "plt.savefig('disill.png', bbox_inches='tight', dpi=100)"
   ]
  },
  {
   "cell_type": "code",
   "execution_count": null,
   "metadata": {
    "ExecuteTime": {
     "end_time": "2018-04-12T02:01:49.138341Z",
     "start_time": "2018-04-12T02:01:42.554259Z"
    },
    "code_folding": [
     0
    ]
   },
   "outputs": [],
   "source": [
    "# Disabled/Ill, not in labor force\n",
    "filters = 'PRTAGE >= 25 and PRTAGE <= 54 and PESEX == 2'\n",
    "calc_type = 'disill'\n",
    "title = 'Disabled/Ill, NILF, women, age 25-54, in millions'\n",
    "data = get_cps_data(filters, calc_type)\n",
    "labor_mkt_grapher(title, data, 'midnightblue')"
   ]
  },
  {
   "cell_type": "code",
   "execution_count": null,
   "metadata": {
    "ExecuteTime": {
     "end_time": "2018-05-12T23:07:11.452197Z",
     "start_time": "2018-05-12T23:07:04.385318Z"
    },
    "code_folding": [
     0
    ]
   },
   "outputs": [],
   "source": [
    "# In school, not in labor force\n",
    "filters = 'PRTAGE >= 22 and PRTAGE <= 24'\n",
    "calc_type = 'nilfsch'\n",
    "title = 'In school, not in labor force, age 22-24'\n",
    "data = get_cps_data(filters, calc_type)\n",
    "labor_mkt_grapher(title, data, 'red')"
   ]
  },
  {
   "cell_type": "code",
   "execution_count": null,
   "metadata": {
    "ExecuteTime": {
     "end_time": "2018-03-24T21:01:40.744863Z",
     "start_time": "2018-03-24T21:01:35.766934Z"
    },
    "code_folding": [
     0
    ]
   },
   "outputs": [],
   "source": [
    "# In school, not in labor force\n",
    "series = 'PENLFACT'\n",
    "filters = 'PRTAGE >= 25 and PRTAGE <= 34 and PESEX == 2'\n",
    "calc_type = 'nilfsch'\n",
    "title = 'In school, NILF, % of women age 25-34'\n",
    "data = get_cps_data(filters, calc_type)\n",
    "labor_mkt_grapher(title, data, 'green')"
   ]
  },
  {
   "cell_type": "code",
   "execution_count": null,
   "metadata": {
    "ExecuteTime": {
     "end_time": "2018-03-24T21:01:45.855698Z",
     "start_time": "2018-03-24T21:01:40.744863Z"
    },
    "code_folding": [
     0
    ]
   },
   "outputs": [],
   "source": [
    "# In school, not in labor force\n",
    "filters = 'PRTAGE >= 35 and PRTAGE <= 44 and PESEX == 2'\n",
    "calc_type = 'nilfsch'\n",
    "title = 'In school, NILF, % of women age 35-44'\n",
    "data = get_cps_data(filters, calc_type)\n",
    "labor_mkt_grapher(title, data, 'purple')"
   ]
  },
  {
   "cell_type": "code",
   "execution_count": 5,
   "metadata": {
    "ExecuteTime": {
     "end_time": "2018-05-25T04:02:26.846499Z",
     "start_time": "2018-05-25T04:02:18.767906Z"
    },
    "code_folding": []
   },
   "outputs": [
    {
     "data": {
      "image/png": "[encoded data removed]",
      "text/plain": [
       "<Figure size 576x288 with 1 Axes>"
      ]
     },
     "metadata": {},
     "output_type": "display_data"
    }
   ],
   "source": [
    "# Discouraged worker, or conditionally available\n",
    "filters = 'PRTAGE >= 45 and PRTAGE <= 54 and PESEX == 2'\n",
    "calc_type = 'disc'\n",
    "title = 'Discouraged, NILF, % of women age 45-54'\n",
    "data = get_cps_data(filters, calc_type)\n",
    "labor_mkt_grapher(title, data, 'orange')"
   ]
  },
  {
   "cell_type": "code",
   "execution_count": 4,
   "metadata": {
    "ExecuteTime": {
     "end_time": "2018-05-25T04:00:24.263148Z",
     "start_time": "2018-05-25T03:59:52.183299Z"
    },
    "code_folding": []
   },
   "outputs": [
    {
     "data": {
      "image/png": "[encoded data removed]",
      "text/plain": [
       "<Figure size 576x288 with 1 Axes>"
      ]
     },
     "metadata": {},
     "output_type": "display_data"
    }
   ],
   "source": [
    "# Discouraged worker, or conditionally available\n",
    "filters = 'PRTAGE >= 45 and PRTAGE <= 54 and PESEX == 1'\n",
    "calc_type = 'disc'\n",
    "title = 'Discouraged, NILF, % of men age 45-54'\n",
    "data = get_cps_data(filters, calc_type)\n",
    "labor_mkt_grapher(title, data, 'darkblue')"
   ]
  },
  {
   "cell_type": "code",
   "execution_count": null,
   "metadata": {
    "ExecuteTime": {
     "end_time": "2018-04-12T02:05:53.067826Z",
     "start_time": "2018-04-12T02:05:47.295939Z"
    },
    "code_folding": [
     0
    ]
   },
   "outputs": [],
   "source": [
    "# Employment to Population Ratio\n",
    "filters = 'PRTAGE >= 25 and PRTAGE <= 34 and PESEX == 2'\n",
    "calc_type = 'epop'\n",
    "title = 'Percent of women age 25-34 with a job, 2000-present, 12M-MA'\n",
    "data = get_cps_data(filters, calc_type)\n",
    "labor_mkt_grapher(title, data, 'blue')"
   ]
  },
  {
   "cell_type": "code",
   "execution_count": null,
   "metadata": {
    "ExecuteTime": {
     "end_time": "2018-03-24T21:02:05.671826Z",
     "start_time": "2018-03-24T21:02:00.660048Z"
    },
    "code_folding": [
     0
    ]
   },
   "outputs": [],
   "source": [
    "# Unemployment Rate\n",
    "calc_type = 'unemp'\n",
    "title = 'Unemployment rate, women age 25-34, 2000-present, 12M-MA'\n",
    "data = get_cps_data(filters, calc_type)\n",
    "labor_mkt_grapher(title, data, 'green')"
   ]
  },
  {
   "cell_type": "code",
   "execution_count": null,
   "metadata": {
    "ExecuteTime": {
     "end_time": "2018-03-24T21:02:11.044141Z",
     "start_time": "2018-03-24T21:02:05.671826Z"
    },
    "code_folding": [
     0
    ]
   },
   "outputs": [],
   "source": [
    "# Labor force participation rate\n",
    "filters = 'PRTAGE >= 25 and PRTAGE <= 34 and PESEX == 2'\n",
    "calc_type = 'lfpr'\n",
    "title = 'Labor force participation rate, women age 25-34, 12M-MA'\n",
    "data = get_cps_data(filters, calc_type)\n",
    "labor_mkt_grapher(title, data, 'red')\n",
    "plt.savefig('lfpr.png', bbox_inches='tight', dpi=500)"
   ]
  },
  {
   "cell_type": "code",
   "execution_count": null,
   "metadata": {
    "ExecuteTime": {
     "end_time": "2018-03-24T21:02:15.959227Z",
     "start_time": "2018-03-24T21:02:11.046147Z"
    },
    "code_folding": [
     0
    ],
    "scrolled": false
   },
   "outputs": [],
   "source": [
    "# Employment to Population Ratio\n",
    "filters = 'PEEDUCA >= 43 and PRTAGE >= 25 and PRTAGE <= 34 and PESEX == 1'\n",
    "calc_type = 'epop'\n",
    "title = 'Employed % of college+ men age 25-34, 2000-present, 12M-MA'\n",
    "data = get_cps_data(filters, calc_type)\n",
    "labor_mkt_grapher(title, data, 'blue')"
   ]
  },
  {
   "cell_type": "code",
   "execution_count": null,
   "metadata": {
    "ExecuteTime": {
     "end_time": "2018-03-24T21:02:20.964402Z",
     "start_time": "2018-03-24T21:02:15.960730Z"
    },
    "code_folding": [
     0
    ],
    "scrolled": true
   },
   "outputs": [],
   "source": [
    "# Unemployment Rate\n",
    "calc_type = 'unemp'\n",
    "title = 'Unemployment rate, college+ men age 25-34'\n",
    "data = get_cps_data(filters, calc_type)\n",
    "labor_mkt_grapher(title, data, 'green')"
   ]
  },
  {
   "cell_type": "code",
   "execution_count": null,
   "metadata": {
    "ExecuteTime": {
     "end_time": "2018-03-24T21:02:25.949569Z",
     "start_time": "2018-03-24T21:02:20.964402Z"
    },
    "code_folding": [
     0
    ],
    "scrolled": false
   },
   "outputs": [],
   "source": [
    "# Labor force participation rate\n",
    "filters = 'PEEDUCA >= 43 and PRTAGE >= 25 and PRTAGE <= 34 and PESEX == 1'\n",
    "calc_type = 'lfpr'\n",
    "title = 'Labor force participation rate, college+ men age 25-34'\n",
    "data = get_cps_data(filters, calc_type)\n",
    "labor_mkt_grapher(title, data, 'red')"
   ]
  },
  {
   "cell_type": "code",
   "execution_count": null,
   "metadata": {
    "ExecuteTime": {
     "end_time": "2018-03-24T21:02:30.668751Z",
     "start_time": "2018-03-24T21:02:25.949569Z"
    },
    "code_folding": [
     0
    ],
    "scrolled": false
   },
   "outputs": [],
   "source": [
    "# Employment to Population Ratio\n",
    "filters = 'PEEDUCA >= 43 and PRTAGE >= 25 and PRTAGE <= 34 and PESEX == 2'\n",
    "calc_type = 'epop'\n",
    "title = 'Employed % of college degree+ women age 25-34'\n",
    "data = get_cps_data(filters, calc_type)\n",
    "labor_mkt_grapher(title, data, 'blue')"
   ]
  },
  {
   "cell_type": "code",
   "execution_count": null,
   "metadata": {
    "ExecuteTime": {
     "end_time": "2018-03-24T21:02:35.380494Z",
     "start_time": "2018-03-24T21:02:30.668751Z"
    },
    "code_folding": [
     0
    ]
   },
   "outputs": [],
   "source": [
    "# Employment to Population Ratio\n",
    "filters = 'PEEDUCA >= 43 and PRTAGE >= 35 and PRTAGE <= 44 and PESEX == 2'\n",
    "calc_type = 'epop'\n",
    "title = 'Employed % of college degree+ women age 35-44'\n",
    "data = get_cps_data(filters, calc_type)\n",
    "labor_mkt_grapher(title, data, 'blue')"
   ]
  },
  {
   "cell_type": "code",
   "execution_count": null,
   "metadata": {
    "ExecuteTime": {
     "end_time": "2018-03-24T21:02:40.209172Z",
     "start_time": "2018-03-24T21:02:35.380494Z"
    },
    "code_folding": [
     0
    ]
   },
   "outputs": [],
   "source": [
    "# Employment to Population Ratio\n",
    "filters = 'PEEDUCA >= 43 and PRTAGE >= 45 and PRTAGE <= 54 and PESEX == 2'\n",
    "calc_type = 'epop'\n",
    "title = 'Employed % of college degree+ women age 45-54'\n",
    "data = get_cps_data(filters, calc_type)\n",
    "labor_mkt_grapher(title, data, 'blue')"
   ]
  },
  {
   "cell_type": "code",
   "execution_count": null,
   "metadata": {
    "ExecuteTime": {
     "end_time": "2018-03-24T21:02:45.147193Z",
     "start_time": "2018-03-24T21:02:40.209172Z"
    },
    "code_folding": [
     0
    ],
    "scrolled": true
   },
   "outputs": [],
   "source": [
    "# Unemployment Rate\n",
    "filters = 'PEEDUCA >= 43 and PRTAGE >= 25 and PRTAGE <= 34 and PESEX == 2'\n",
    "calc_type = 'unemp'\n",
    "title = 'Unemployment rate, college+ women age 25-34'\n",
    "data = get_cps_data(filters, calc_type)\n",
    "labor_mkt_grapher(title, data, 'green')"
   ]
  },
  {
   "cell_type": "code",
   "execution_count": null,
   "metadata": {
    "ExecuteTime": {
     "end_time": "2018-03-24T21:02:49.960198Z",
     "start_time": "2018-03-24T21:02:45.147193Z"
    },
    "code_folding": [
     0
    ],
    "scrolled": true
   },
   "outputs": [],
   "source": [
    "# Labor force participation rate\n",
    "calc_type = 'lfpr'\n",
    "title = 'Labor force participation rate, college+ women age 25-34'\n",
    "data = get_cps_data(filters, calc_type)\n",
    "labor_mkt_grapher(title, data, 'red')"
   ]
  },
  {
   "cell_type": "code",
   "execution_count": null,
   "metadata": {
    "ExecuteTime": {
     "end_time": "2018-03-24T21:02:54.807233Z",
     "start_time": "2018-03-24T21:02:49.960198Z"
    },
    "code_folding": [
     0
    ]
   },
   "outputs": [],
   "source": [
    "# Weekly wage growth\n",
    "filters = 'PRFTLF == 1 and PRTAGE >= 25 and PRTAGE <= 34 and PESEX == 2 and PRERNWA > 0'\n",
    "calc_type = 'uwe'\n",
    "title = 'Bottom decile weekly wage growth women age 25-34, 12M-MA'\n",
    "data = get_cps_data(filters, calc_type, decile=0.1)\n",
    "labor_mkt_grapher(title, data, 'purple')"
   ]
  },
  {
   "cell_type": "code",
   "execution_count": null,
   "metadata": {
    "ExecuteTime": {
     "end_time": "2018-03-24T21:02:59.610720Z",
     "start_time": "2018-03-24T21:02:54.807233Z"
    },
    "code_folding": [
     0
    ]
   },
   "outputs": [],
   "source": [
    "# Weekly wage growth\n",
    "filters = 'PRFTLF == 1 and PRTAGE >= 35 and PRTAGE <= 44 and PESEX == 2 and PRERNWA > 0'\n",
    "calc_type = 'uwe'\n",
    "title = 'Bottom decile weekly wage growth women age 35-44'\n",
    "data = get_cps_data(filters, calc_type, decile=0.1)\n",
    "labor_mkt_grapher(title, data, 'purple')"
   ]
  },
  {
   "cell_type": "code",
   "execution_count": null,
   "metadata": {
    "ExecuteTime": {
     "end_time": "2018-03-24T21:03:04.376944Z",
     "start_time": "2018-03-24T21:02:59.610720Z"
    },
    "code_folding": [
     0
    ]
   },
   "outputs": [],
   "source": [
    "# Weekly wage growth\n",
    "filters = 'PRFTLF == 1 and PRTAGE >= 45 and PRTAGE <= 54 and PESEX == 2 and PRERNWA > 0'\n",
    "calc_type = 'uwe'\n",
    "title = 'Bottom decile weekly wage growth women age 45-54'\n",
    "data = get_cps_data(filters, calc_type, decile=0.1)\n",
    "labor_mkt_grapher(title, data, 'purple')"
   ]
  },
  {
   "cell_type": "code",
   "execution_count": null,
   "metadata": {
    "ExecuteTime": {
     "end_time": "2018-05-12T23:01:28.067288Z",
     "start_time": "2018-05-12T23:01:26.244613Z"
    },
    "code_folding": [
     0
    ]
   },
   "outputs": [],
   "source": [
    "# Mini example of how labor force has aged\n",
    "d = {}\n",
    "for year in [2001, 2017]:\n",
    "    d[year] = {}\n",
    "    df = pd.read_feather(f'data/cps_{year}.ft', nthreads=3)\n",
    "    for age in range (16, 80):\n",
    "        dft = df[df['PRTAGE'] == age]\n",
    "        empl = np.where(dft['PREMPNOT'] == 1, 1.0, 0.0)\n",
    "        epop = np.average(empl, weights=dft['PWCMPWGT'])\n",
    "        d[year][age] = epop\n",
    "        \n",
    "ax = pd.DataFrame(d).plot(title='Employed share of population by age, (25-54 highlighted)')\n",
    "ax = plt.axvspan(25, 54, fill=True, linewidth=0, color='gray', alpha=0.1) "
   ]
  }
 ],
 "metadata": {
  "kernelspec": {
   "display_name": "Python 3",
   "language": "python",
   "name": "python3"
  },
  "language_info": {
   "codemirror_mode": {
    "name": "ipython",
    "version": 3
   },
   "file_extension": ".py",
   "mimetype": "text/x-python",
   "name": "python",
   "nbconvert_exporter": "python",
   "pygments_lexer": "ipython3",
   "version": "3.6.5"
  }
 },
 "nbformat": 4,
 "nbformat_minor": 2
}
