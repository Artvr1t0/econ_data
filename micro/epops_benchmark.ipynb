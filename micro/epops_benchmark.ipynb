{
 "cells": [
  {
   "cell_type": "markdown",
   "metadata": {},
   "source": [
    "EPOPs benchmark with BLS summary\n",
    "=====\n",
    "\n",
    "## Matching employment-population ratio data from the CPS with BLS Summary Data\n",
    "\n",
    "-----\n",
    "\n",
    "*September 7, 2017*<br>\n",
    "*Brian Dew*<br>\n",
    "*dew@cepr.net*<br>\n",
    "\n",
    "This is a proof of concept that the technique for using the CPS to find the employment to population ratio for one subgroup of the population will match with the BLS summary statistics for the same group/time. Specifically, I look at 2010 and Women aged 25-54, (BLS series ID: LNS12300062)"
   ]
  },
  {
   "cell_type": "code",
   "execution_count": 1,
   "metadata": {
    "collapsed": true
   },
   "outputs": [],
   "source": [
    "import pandas as pd\n",
    "import os\n",
    "\n",
    "os.chdir('/home/domestic-ra/Working/CPS_ORG/EPOPs/')"
   ]
  },
  {
   "cell_type": "markdown",
   "metadata": {},
   "source": [
    "List of columns to keep from large CPS file and which year's CPS file to use."
   ]
  },
  {
   "cell_type": "code",
   "execution_count": 2,
   "metadata": {
    "collapsed": true
   },
   "outputs": [],
   "source": [
    "cols = ['year', 'female', 'age', 'educ', 'empl', 'orgwgt']\n",
    "year = '2015'"
   ]
  },
  {
   "cell_type": "markdown",
   "metadata": {},
   "source": [
    "Read into pandas DataFrame df the cepr cps org stata file, downloaded from [here](http://ceprdata.org/cps-uniform-data-extracts/cps-outgoing-rotation-group/)."
   ]
  },
  {
   "cell_type": "code",
   "execution_count": 3,
   "metadata": {
    "collapsed": true
   },
   "outputs": [],
   "source": [
    "df = pd.read_stata('Data/cepr_org_{}.dta'.format(year), columns=cols)"
   ]
  },
  {
   "cell_type": "markdown",
   "metadata": {},
   "source": [
    "Filter the DataFrame to include only prime (25-54) age women."
   ]
  },
  {
   "cell_type": "code",
   "execution_count": 4,
   "metadata": {
    "collapsed": true
   },
   "outputs": [],
   "source": [
    "df = df[(df['female'] == 1) & (df['age'].isin(range(25,55)))]"
   ]
  },
  {
   "cell_type": "markdown",
   "metadata": {},
   "source": [
    "Calculate the employment-population ratio based as the weighted average of the `empl` variable, the weights in this case are the `orgwgts`."
   ]
  },
  {
   "cell_type": "code",
   "execution_count": 6,
   "metadata": {},
   "outputs": [
    {
     "name": "stdout",
     "output_type": "stream",
     "text": [
      "CEPR ORG CPS: 2015: Women, age 25-54: 70.32\n"
     ]
    }
   ],
   "source": [
    "epop = (df['orgwgt'] * df['empl']).sum() / df['orgwgt'].sum() * 100\n",
    "print('CEPR ORG CPS: {}: Women, age 25-54: {:0.2f}'.format(year, epop))"
   ]
  },
  {
   "cell_type": "markdown",
   "metadata": {},
   "source": [
    "### BLS summary data for comparison\n",
    "\n",
    "Request the BLS series equivalent to the CPS-determined value above."
   ]
  },
  {
   "cell_type": "code",
   "execution_count": 8,
   "metadata": {},
   "outputs": [
    {
     "name": "stdout",
     "output_type": "stream",
     "text": [
      "https://api.bls.gov/publicAPI/v1/timeseries/data/LNU02300062\n"
     ]
    }
   ],
   "source": [
    "import requests\n",
    "import json\n",
    "import config # file called config.py with my API key\n",
    "\n",
    "series = 'LNU02300062'  # BLS Series ID of interest\n",
    "\n",
    "# BLS API v1 url for series\n",
    "url = 'https://api.bls.gov/publicAPI/v1/timeseries/data/{}'.format(series)\n",
    "print(url)"
   ]
  },
  {
   "cell_type": "code",
   "execution_count": 10,
   "metadata": {},
   "outputs": [
    {
     "name": "stdout",
     "output_type": "stream",
     "text": [
      "Status: REQUEST_SUCCEEDED\n"
     ]
    }
   ],
   "source": [
    "# Get the data returned by the url and series id\n",
    "r = requests.get(url).json()\n",
    "print('Status: ' + r['status'])\n",
    "\n",
    "# Generate pandas dataframe from the data returned\n",
    "df2 = pd.DataFrame(r['Results']['series'][0]['data'])"
   ]
  },
  {
   "cell_type": "code",
   "execution_count": 12,
   "metadata": {},
   "outputs": [
    {
     "name": "stdout",
     "output_type": "stream",
     "text": [
      "BLS Benchmark: 2015: Women, age 25-54: 70.32\n"
     ]
    }
   ],
   "source": [
    "epop2 = df2[df2['year'] == year]['value'].astype(float).mean()\n",
    "print('BLS Benchmark: {}: Women, age 25-54: {:0.2f}'.format(year, epop2))"
   ]
  },
  {
   "cell_type": "markdown",
   "metadata": {},
   "source": [
    "Show the 2017 values sorted to check against the epops_2017_from_monthly figures."
   ]
  },
  {
   "cell_type": "code",
   "execution_count": 13,
   "metadata": {},
   "outputs": [
    {
     "data": {
      "text/html": [
       "<div>\n",
       "<style>\n",
       "    .dataframe thead tr:only-child th {\n",
       "        text-align: right;\n",
       "    }\n",
       "\n",
       "    .dataframe thead th {\n",
       "        text-align: left;\n",
       "    }\n",
       "\n",
       "    .dataframe tbody tr th {\n",
       "        vertical-align: top;\n",
       "    }\n",
       "</style>\n",
       "<table border=\"1\" class=\"dataframe\">\n",
       "  <thead>\n",
       "    <tr style=\"text-align: right;\">\n",
       "      <th></th>\n",
       "      <th>footnotes</th>\n",
       "      <th>period</th>\n",
       "      <th>periodName</th>\n",
       "      <th>value</th>\n",
       "    </tr>\n",
       "    <tr>\n",
       "      <th>year</th>\n",
       "      <th></th>\n",
       "      <th></th>\n",
       "      <th></th>\n",
       "      <th></th>\n",
       "    </tr>\n",
       "  </thead>\n",
       "  <tbody>\n",
       "    <tr>\n",
       "      <th>2017</th>\n",
       "      <td>[{}]</td>\n",
       "      <td>M04</td>\n",
       "      <td>April</td>\n",
       "      <td>72.3</td>\n",
       "    </tr>\n",
       "    <tr>\n",
       "      <th>2017</th>\n",
       "      <td>[{}]</td>\n",
       "      <td>M08</td>\n",
       "      <td>August</td>\n",
       "      <td>71.4</td>\n",
       "    </tr>\n",
       "    <tr>\n",
       "      <th>2017</th>\n",
       "      <td>[{}]</td>\n",
       "      <td>M02</td>\n",
       "      <td>February</td>\n",
       "      <td>71.8</td>\n",
       "    </tr>\n",
       "    <tr>\n",
       "      <th>2017</th>\n",
       "      <td>[{}]</td>\n",
       "      <td>M01</td>\n",
       "      <td>January</td>\n",
       "      <td>71.3</td>\n",
       "    </tr>\n",
       "    <tr>\n",
       "      <th>2017</th>\n",
       "      <td>[{}]</td>\n",
       "      <td>M07</td>\n",
       "      <td>July</td>\n",
       "      <td>71.4</td>\n",
       "    </tr>\n",
       "    <tr>\n",
       "      <th>2017</th>\n",
       "      <td>[{}]</td>\n",
       "      <td>M06</td>\n",
       "      <td>June</td>\n",
       "      <td>71.5</td>\n",
       "    </tr>\n",
       "    <tr>\n",
       "      <th>2017</th>\n",
       "      <td>[{}]</td>\n",
       "      <td>M03</td>\n",
       "      <td>March</td>\n",
       "      <td>72.2</td>\n",
       "    </tr>\n",
       "    <tr>\n",
       "      <th>2017</th>\n",
       "      <td>[{}]</td>\n",
       "      <td>M05</td>\n",
       "      <td>May</td>\n",
       "      <td>72.1</td>\n",
       "    </tr>\n",
       "  </tbody>\n",
       "</table>\n",
       "</div>"
      ],
      "text/plain": [
       "     footnotes period periodName value\n",
       "year                                  \n",
       "2017      [{}]    M04      April  72.3\n",
       "2017      [{}]    M08     August  71.4\n",
       "2017      [{}]    M02   February  71.8\n",
       "2017      [{}]    M01    January  71.3\n",
       "2017      [{}]    M07       July  71.4\n",
       "2017      [{}]    M06       June  71.5\n",
       "2017      [{}]    M03      March  72.2\n",
       "2017      [{}]    M05        May  72.1"
      ]
     },
     "execution_count": 13,
     "metadata": {},
     "output_type": "execute_result"
    }
   ],
   "source": [
    "df2.set_index('year').loc['2017'].sort_values('periodName')"
   ]
  }
 ],
 "metadata": {
  "kernelspec": {
   "display_name": "Python [conda root]",
   "language": "python",
   "name": "conda-root-py"
  },
  "language_info": {
   "codemirror_mode": {
    "name": "ipython",
    "version": 2
   },
   "file_extension": ".py",
   "mimetype": "text/x-python",
   "name": "python",
   "nbconvert_exporter": "python",
   "pygments_lexer": "ipython2",
   "version": "2.7.12"
  }
 },
 "nbformat": 4,
 "nbformat_minor": 2
}
