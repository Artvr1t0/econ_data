{
 "cells": [
  {
   "cell_type": "markdown",
   "metadata": {},
   "source": [
    "### Calculate family income from basic monthly CPS\n",
    "\n",
    "September 10, 2020\n",
    "\n",
    "Brian Dew\n",
    "\n",
    "------\n",
    "\n",
    "CPS variable for family income has lots of issues but is worth looking at given COVID-19 and the superdole."
   ]
  },
  {
   "cell_type": "code",
   "execution_count": 1,
   "metadata": {
    "ExecuteTime": {
     "end_time": "2021-08-12T03:46:05.876229Z",
     "start_time": "2021-08-12T03:46:05.637277Z"
    }
   },
   "outputs": [],
   "source": [
    "import pandas as pd\n",
    "import numpy as np\n",
    "import os\n",
    "import re\n",
    "import struct\n",
    "import gzip\n",
    "import shutil\n",
    "from io import BytesIO\n",
    "import requests"
   ]
  },
  {
   "cell_type": "code",
   "execution_count": 2,
   "metadata": {
    "ExecuteTime": {
     "end_time": "2021-08-12T03:46:05.879045Z",
     "start_time": "2021-08-12T03:46:05.877296Z"
    }
   },
   "outputs": [],
   "source": [
    "os.chdir('/home/brian/Documents/CPS/data')"
   ]
  },
  {
   "cell_type": "code",
   "execution_count": 3,
   "metadata": {
    "ExecuteTime": {
     "end_time": "2021-08-12T03:46:05.892432Z",
     "start_time": "2021-08-12T03:46:05.880266Z"
    }
   },
   "outputs": [],
   "source": [
    "# manually list out the IDs for series of interest \n",
    "var_names = ['HRMONTH', 'HRYEAR4', 'HEFAMINC', 'PWSSWGT', 'QSTNUM', 'OCCURNUM',\n",
    "             'PEMLR', 'PRTAGE', 'PESEX', 'PWFMWGT', 'HRMIS', 'HXFAMINC'] \n",
    "\n",
    "dd_list = {15: 'January_2015_Record_Layout.txt',\n",
    "           16: 'January_2015_Record_Layout.txt',\n",
    "           17: 'January_2017_Record_Layout.txt',\n",
    "           18: 'January_2017_Record_Layout.txt',\n",
    "           19: 'January_2017_Record_Layout.txt',\n",
    "           20: '2021_Basic_CPS_Public_Use_Record_Layout_plus_IO_Code_list.txt',\n",
    "           21: '2021_Basic_CPS_Public_Use_Record_Layout_plus_IO_Code_list.txt'}\n",
    "\n",
    "unpackers = {}\n",
    "for year, dd in dd_list.items():\n",
    "    # read data dictionary text file \n",
    "    data_dict = open(dd, 'r', encoding='iso-8859-1').read()\n",
    "    # regular expression matching series name and data dict pattern\n",
    "    p = f'\\n({\"|\".join(var_names)})\\s+(\\d+)\\s+.*?\\t+.*?(\\d\\d*).*?(\\d\\d+)'\n",
    "    # dictionary of variable name: [start, end, and length + 's']\n",
    "    d = {s[0]: [int(s[2])-1, int(s[3]), f'{s[1]}s']\n",
    "         for s in re.findall(p, data_dict)}\n",
    "    # lists of variable starts, ends, and lengths\n",
    "    start, end, width = zip(*d.values())\n",
    "    # create list of which characters to skip in each row\n",
    "    skip = ([f'{s - e}x' for s, e in zip(start, [0] + list(end[:-1]))])\n",
    "    # create format string by joining skip and variable segments\n",
    "    unpack_fmt = ''.join([j for i in zip(skip, width) for j in i])\n",
    "    # struct to read each row of the file using the format string\n",
    "    unpackers[year] = struct.Struct(unpack_fmt).unpack_from    "
   ]
  },
  {
   "cell_type": "code",
   "execution_count": 4,
   "metadata": {
    "ExecuteTime": {
     "end_time": "2021-08-12T03:46:50.769448Z",
     "start_time": "2021-08-12T03:46:05.893554Z"
    }
   },
   "outputs": [
    {
     "data": {
      "image/png": "[encoded data removed]",
      "text/plain": [
       "<Figure size 432x288 with 1 Axes>"
      ]
     },
     "metadata": {
      "needs_background": "light"
     },
     "output_type": "display_data"
    }
   ],
   "source": [
    "dates = pd.date_range(start='2015-01-01', end='2021-07-01', freq='MS').tolist()\n",
    "\n",
    "s = {}\n",
    "for date in dates:\n",
    "    file = f'{date.strftime(\"%b%y\").lower()}pub.dat'\n",
    "    raw_data = open(file, 'rb').readlines()\n",
    "\n",
    "    wgt = d['PWSSWGT']  # Person sample weight\n",
    "    # unpack and store data of interest if sample weight > 0\n",
    "    data = [[*map(int, unpackers[int(file[3:5])](row))] for row in raw_data\n",
    "            if int(row[wgt[0]:wgt[1]]) > 0]\n",
    "    \n",
    "    df = pd.DataFrame(data, columns=d.keys())\n",
    "    \n",
    "    val = (df.groupby('HEFAMINC').PWSSWGT.sum() / \n",
    "           df.groupby('HEFAMINC').PWSSWGT.sum().sum() * 100)\n",
    "    \n",
    "    s[date] = val[val.index < 7].sum()\n",
    "    \n",
    "pd.Series(s).plot();"
   ]
  },
  {
   "cell_type": "code",
   "execution_count": 5,
   "metadata": {
    "ExecuteTime": {
     "end_time": "2021-08-12T03:46:50.888216Z",
     "start_time": "2021-08-12T03:46:50.771720Z"
    }
   },
   "outputs": [
    {
     "data": {
      "image/png": "[encoded data removed]",
      "text/plain": [
       "<Figure size 432x288 with 1 Axes>"
      ]
     },
     "metadata": {
      "needs_background": "light"
     },
     "output_type": "display_data"
    }
   ],
   "source": [
    "pd.Series(s).diff(12).plot();"
   ]
  },
  {
   "cell_type": "code",
   "execution_count": null,
   "metadata": {},
   "outputs": [],
   "source": []
  },
  {
   "cell_type": "code",
   "execution_count": null,
   "metadata": {},
   "outputs": [],
   "source": []
  }
 ],
 "metadata": {
  "kernelspec": {
   "display_name": "Python 3",
   "language": "python",
   "name": "python3"
  },
  "language_info": {
   "codemirror_mode": {
    "name": "ipython",
    "version": 3
   },
   "file_extension": ".py",
   "mimetype": "text/x-python",
   "name": "python",
   "nbconvert_exporter": "python",
   "pygments_lexer": "ipython3",
   "version": "3.8.8"
  }
 },
 "nbformat": 4,
 "nbformat_minor": 4
}
