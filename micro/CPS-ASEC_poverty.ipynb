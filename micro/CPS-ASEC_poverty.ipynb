{
 "cells": [
  {
   "cell_type": "markdown",
   "metadata": {},
   "source": [
    "### CPS ASEC - Replicating Poverty Estimates\n",
    "\n",
    "Brian Dew\n",
    "\n",
    "Updated September 15, 2020 for 2019 data\n",
    "\n",
    "----\n",
    "\n",
    "\n",
    "Replicate official poverty rate and number of people in poverty. Then replicate the same for the SPM.\n",
    "\n",
    "Next replicate Matt Bruenig data--grouping and market income"
   ]
  },
  {
   "cell_type": "code",
   "execution_count": 12,
   "metadata": {
    "ExecuteTime": {
     "end_time": "2020-09-15T16:16:57.274613Z",
     "start_time": "2020-09-15T16:16:57.272678Z"
    }
   },
   "outputs": [],
   "source": [
    "import re\n",
    "import pandas as pd\n",
    "import numpy as np"
   ]
  },
  {
   "cell_type": "code",
   "execution_count": 45,
   "metadata": {
    "ExecuteTime": {
     "end_time": "2020-09-15T16:42:21.210574Z",
     "start_time": "2020-09-15T16:42:16.515168Z"
    }
   },
   "outputs": [],
   "source": [
    "# Extract person records for selected variables\n",
    "variables = ['PRECORD', 'A_AGE', 'MARSUPWT', 'PERLIS', \n",
    "             'SPM_Resources', 'SPM_PovThreshold', 'WKSWORK',\n",
    "             'PRDISFLG', 'RSNNOTW', 'PYRSN', 'LKWEEKS',\n",
    "             'SPM_Weight', 'SPM_ID', 'SPM_CapWkCCXpns',\n",
    "             'SPM_Totval', 'SPM_MedXpns', 'SPM_ChildSupPd',\n",
    "             'SPM_Poor']\n",
    "\n",
    "benefits = ['SS_VAL', 'SSI_VAL', 'UC_VAL', 'VET_VAL', \n",
    "            'WC_VAL', 'PAW_VAL']\n",
    "\n",
    "path = '/home/brian/Documents/ASEC/'\n",
    "\n",
    "dictfile = f'{path}/data/persfmt.txt'\n",
    "dd = open(dictfile).read()\n",
    "p = f'({\"|\".join(variables + benefits)})\\s+(\\d+)\\s+(\\d+)\\s'\n",
    "cols = {name: (int(start) - 1, int(start) - 1 + int(length)) \n",
    "        for name, length, start in re.findall(p, dd)}\n",
    "\n",
    "# Manually adjust because 2020 text dict missing\n",
    "cols['SPM_ID'] = (1419-1, 1419-1+8)\n",
    "cols['SPM_CapWkCCXpns'] = (1437-1, 1437-1+6)\n",
    "cols['SPM_ChildSupPd'] = (1449-1, 1449-1+6)\n",
    "cols['SPM_MedXpns'] = (1500-1, 1500-1+7)\n",
    "cols['SPM_Poor'] = (1513-1, 1513-1+1)\n",
    "cols['SPM_PovThreshold'] = (1514-1, 1514-1+5)\n",
    "cols['SPM_Resources'] = (1519-1, 1519-1+7)\n",
    "cols['SPM_Totval'] = (1542-1, 1542-1+7)\n",
    "cols['SPM_Weight'] = (1550-1, 1550-1+7)\n",
    "cols['PERLIS'] = (914-1, 914-1+2)\n",
    "cols['PYRSN'] = (322-1, 322-1+1)\n",
    "cols['WKSWORK'] = (337-1, 337-1+2)\n",
    "cols['LKWEEKS'] = (304-1, 304-1+2)\n",
    "cols['RSNNOTW'] = (323-1, 323-1+1)\n",
    "\n",
    "\n",
    "datafile = f'{path}/data/asec2020_pubuse.dat'\n",
    "df = (pd.read_fwf(datafile, \n",
    "                  colspecs=list(cols.values()), \n",
    "                  header=None, \n",
    "                  names=list(cols.keys()))\n",
    "        .query('PRECORD == 3'))"
   ]
  },
  {
   "cell_type": "code",
   "execution_count": 47,
   "metadata": {
    "ExecuteTime": {
     "end_time": "2020-09-15T16:42:25.794676Z",
     "start_time": "2020-09-15T16:42:25.739418Z"
    }
   },
   "outputs": [],
   "source": [
    "# Categorize population\n",
    "df['Category'] = (np.where(df.A_AGE < 18, 'Children', \n",
    "                  np.where(df.A_AGE > 64, 'Elderly', \n",
    "                  np.where(((df.PRDISFLG == 1) | (df.PYRSN == 1) | (df.RSNNOTW == 1)), 'Disabled', \n",
    "                  np.where(((df.PYRSN == 3) | (df.RSNNOTW == 4)), 'Student', \n",
    "                  np.where(((df.PYRSN == 2) | (df.RSNNOTW == 3)), 'Carers',\n",
    "                  np.where(((df.PYRSN == 5) | (df.RSNNOTW == 5) | (df.LKWEEKS > 0)), 'Unemployed',         \n",
    "                  np.where(((df.PYRSN == 4) | (df.RSNNOTW == 2)), 'Early Retired',  \n",
    "                  np.where(df.WKSWORK > 49, 'Fully Employed', 'All Other')))))))))\n",
    "\n",
    "df['SPM'] = np.where(df['SPM_Resources'] < df['SPM_PovThreshold'], 1, 0)\n",
    "df['OPM'] = np.where(df['PERLIS'] == 1, 1, 0)\n",
    "df['MARKET_INCOME'] = (df['SPM_Totval'] - \n",
    "                       df[['SPM_CapWkCCXpns','SPM_MedXpns', 'SPM_ChildSupPd']].sum(axis=1) - \n",
    "                       df[benefits].sum(axis=1).groupby(df['SPM_ID']).transform('sum'))\n",
    "df['SPM_MI'] = np.where(df['MARKET_INCOME'] < df['SPM_PovThreshold'], 1, 0)"
   ]
  },
  {
   "cell_type": "code",
   "execution_count": 49,
   "metadata": {
    "ExecuteTime": {
     "end_time": "2020-09-15T16:42:33.320663Z",
     "start_time": "2020-09-15T16:42:33.268845Z"
    }
   },
   "outputs": [
    {
     "name": "stdout",
     "output_type": "stream",
     "text": [
      "                      SPM        OPM     SPM_MI\n",
      "Category                                       \n",
      "Children        23.552475  30.795875  18.572497\n",
      "Elderly         19.033379  14.295022  36.715456\n",
      "Fully Employed  15.779747  10.050124  14.645288\n",
      "Disabled        13.183932  15.317319  12.313618\n",
      "Carers           8.629066  10.026422   4.852382\n",
      "Student          8.063140   8.087707   4.192047\n",
      "Unemployed       5.738762   5.819194   3.877625\n",
      "Early Retired    3.626288   3.407859   3.489110\n",
      "All Other        2.393210   2.200479   1.341978\n"
     ]
    }
   ],
   "source": [
    "results = pd.DataFrame()\n",
    "\n",
    "# Group share of poor people\n",
    "results['SPM'] = (df.query('SPM == 1').groupby('Category').SPM_Weight.sum() / \n",
    "                  df.query('SPM == 1').SPM_Weight.sum() * 100).sort_values(ascending=False)\n",
    "\n",
    "results['OPM'] = (df.query('OPM == 1').groupby('Category').MARSUPWT.sum() / \n",
    "                  df.query('OPM == 1').MARSUPWT.sum() * 100).sort_values(ascending=False)\n",
    "\n",
    "\n",
    "results['SPM_MI'] = (df.query('SPM_MI == 1').groupby('Category').SPM_Weight.sum() / \n",
    "                  df.query('SPM_MI == 1').SPM_Weight.sum() * 100).sort_values(ascending=False)\n",
    "\n",
    "print(results)"
   ]
  },
  {
   "cell_type": "code",
   "execution_count": 50,
   "metadata": {
    "ExecuteTime": {
     "end_time": "2020-09-15T16:42:36.865717Z",
     "start_time": "2020-09-15T16:42:36.777717Z"
    }
   },
   "outputs": [
    {
     "name": "stdout",
     "output_type": "stream",
     "text": [
      "                      SPM        OPM     SPM_MI\n",
      "Category                                       \n",
      "Children        12.406551  14.307068  26.556072\n",
      "Elderly         12.751231   8.890741  66.767353\n",
      "Fully Employed   4.857504   2.780689  12.237426\n",
      "Disabled        23.521702  24.229192  59.633254\n",
      "Carers          21.369661  22.580328  32.618790\n",
      "Student         22.411029  18.548014  31.627347\n",
      "Unemployed      20.887578  18.172532  38.310220\n",
      "Early Retired   19.312494  16.703581  50.439392\n",
      "All Other       16.977166  13.751578  25.840964\n"
     ]
    }
   ],
   "source": [
    "results2 = pd.DataFrame()\n",
    "\n",
    "# Poverty rate of each group\n",
    "results2['SPM'] = (df.groupby('Category')\n",
    "                     .apply(lambda x: np.average(x['SPM'], weights=x['SPM_Weight']))\n",
    "                     * 100).loc[results.index]\n",
    "results2['OPM'] = (df.groupby('Category')\n",
    "                     .apply(lambda x: np.average(x['OPM'], weights=x['MARSUPWT']))\n",
    "                     * 100).loc[results.index]\n",
    "\n",
    "results2['SPM_MI'] = (df.groupby('Category')\n",
    "                     .apply(lambda x: np.average(x['SPM_MI'], weights=x['SPM_Weight']))\n",
    "                     * 100).loc[results.index]\n",
    "\n",
    "print(results2)"
   ]
  },
  {
   "cell_type": "code",
   "execution_count": null,
   "metadata": {},
   "outputs": [],
   "source": []
  },
  {
   "cell_type": "code",
   "execution_count": null,
   "metadata": {},
   "outputs": [],
   "source": []
  },
  {
   "cell_type": "code",
   "execution_count": null,
   "metadata": {},
   "outputs": [],
   "source": []
  },
  {
   "cell_type": "code",
   "execution_count": null,
   "metadata": {},
   "outputs": [],
   "source": []
  },
  {
   "cell_type": "code",
   "execution_count": null,
   "metadata": {},
   "outputs": [],
   "source": []
  },
  {
   "cell_type": "code",
   "execution_count": null,
   "metadata": {},
   "outputs": [],
   "source": []
  }
 ],
 "metadata": {
  "kernelspec": {
   "display_name": "Python 3",
   "language": "python",
   "name": "python3"
  },
  "language_info": {
   "codemirror_mode": {
    "name": "ipython",
    "version": 3
   },
   "file_extension": ".py",
   "mimetype": "text/x-python",
   "name": "python",
   "nbconvert_exporter": "python",
   "pygments_lexer": "ipython3",
   "version": "3.8.5"
  }
 },
 "nbformat": 4,
 "nbformat_minor": 2
}
