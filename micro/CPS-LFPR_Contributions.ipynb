{
 "cells": [
  {
   "cell_type": "markdown",
   "metadata": {},
   "source": [
    "# CPS - Contributions to labor force changes\n",
    "##### February 14, 2018 -- @bd_econ"
   ]
  },
  {
   "cell_type": "code",
   "execution_count": 1,
   "metadata": {
    "ExecuteTime": {
     "end_time": "2018-02-15T05:31:54.690278Z",
     "start_time": "2018-02-15T05:31:54.362137Z"
    }
   },
   "outputs": [
    {
     "name": "stdout",
     "output_type": "stream",
     "text": [
      "python 3.6\n",
      "pandas 0.22.0\n",
      "numpy 1.14.0\n"
     ]
    }
   ],
   "source": [
    "import sys # Check which version of python is being used\n",
    "print(f'python {sys.version_info[0]}.{sys.version_info[1]}')\n",
    "import pandas as pd    # Pandas to organize and make calcs\n",
    "print(f'pandas {pd.__version__}')\n",
    "import numpy as np     # Numpy for calculations\n",
    "print(f'numpy {np.__version__}')\n",
    "import os, re, wquantiles"
   ]
  },
  {
   "cell_type": "markdown",
   "metadata": {},
   "source": [
    "Source is census CPS monthly files available [here](http://thedataweb.rm.census.gov/ftp/cps_ftp.html). Download and unzip all of the monthly files into a folder called data. We also need a data dictionary, found [here](http://thedataweb.rm.census.gov/pub/cps/basic/201701-/January_2017_Record_Layout.txt), which describes the variables and their range of possible values."
   ]
  },
  {
   "cell_type": "markdown",
   "metadata": {},
   "source": [
    "### Get variables from data dictionary"
   ]
  },
  {
   "cell_type": "code",
   "execution_count": 2,
   "metadata": {
    "ExecuteTime": {
     "end_time": "2018-02-15T05:32:32.084144Z",
     "start_time": "2018-02-15T05:32:32.052891Z"
    }
   },
   "outputs": [],
   "source": [
    "# Read the dictionary file to get the column names and locations\n",
    "dd_txt = 'data/January_2017_Record_Layout.txt'\n",
    "dd = open(dd_txt, 'r', encoding='iso-8859-1').read()\n",
    "# Regular expression for info of interest based on pattern p\n",
    "p = re.compile('\\n(\\w+)\\s+(\\d+)\\s+(.*?)\\t+.*?(\\d\\d*).*?(\\d\\d+)')\n",
    "var_key = pd.DataFrame(p.findall(dd))\n",
    "var_key.columns = ['Var', 'Length', 'Name', 'Start', 'End']"
   ]
  },
  {
   "cell_type": "markdown",
   "metadata": {},
   "source": [
    "### Read data for 2017"
   ]
  },
  {
   "cell_type": "code",
   "execution_count": 3,
   "metadata": {
    "ExecuteTime": {
     "end_time": "2018-02-15T05:36:24.128345Z",
     "start_time": "2018-02-15T05:36:24.097093Z"
    }
   },
   "outputs": [],
   "source": [
    "# Series of interest \n",
    "s = ['HRMONTH', 'PRTAGE', 'PESEX', 'PWORWGT', 'PEMLR', 'PENLFRET', 'PENLFACT', \n",
    "     'PRDISC', 'PWCMPWGT', 'HRMIS']\n",
    "s_key = var_key[var_key['Var'].isin(s)]  \n",
    "colspecs = [(int(i[1]['Start'])-1, int(i[1]['End'])) for i in s_key.iterrows()]"
   ]
  },
  {
   "cell_type": "code",
   "execution_count": 7,
   "metadata": {
    "ExecuteTime": {
     "end_time": "2018-02-15T05:44:14.047041Z",
     "start_time": "2018-02-15T05:43:49.169819Z"
    }
   },
   "outputs": [],
   "source": [
    "df = pd.DataFrame()\n",
    "\n",
    "for file in [f for f in os.listdir('data/') if f.endswith('17pub.dat')]:\n",
    "    df = df.append(pd.read_fwf(f'data/{file}', colspecs=colspecs, header=None, dtype='int',\n",
    "        memory_map=True, names=s_key['Var'].values, usecols=s_key['Var'].values))#,    "
   ]
  },
  {
   "cell_type": "code",
   "execution_count": 6,
   "metadata": {
    "ExecuteTime": {
     "end_time": "2018-02-15T05:41:24.593598Z",
     "start_time": "2018-02-15T05:41:24.468588Z"
    }
   },
   "outputs": [
    {
     "data": {
      "text/plain": [
       "23042.930484658333"
      ]
     },
     "execution_count": 6,
     "metadata": {},
     "output_type": "execute_result"
    }
   ],
   "source": [
    "df[(df['PEMLR'] >= 5) & (df['PRTAGE'].isin(range(25,55)))]['PWORWGT'].sum() / 120000000"
   ]
  },
  {
   "cell_type": "code",
   "execution_count": null,
   "metadata": {},
   "outputs": [],
   "source": [
    "# Second benchmark, read in full year of data\n",
    "val = np.array([])   # This will be the combined annual df\n",
    "wgt = np.array([])\n",
    "\n",
    "for file in [f for f in os.listdir('data/') if f.endswith('17pub.dat')]:\n",
    "    df = pd.read_fwf(f'data/{file}', colspecs=colspecs, header=None, dtype='int',\n",
    "        memory_map=True, names=s_key['Var'].values, usecols=s_key['Var'].values)#, \n",
    "\n",
    "    df = df[(df['PRERNWA'] > -1) & \n",
    "            (df['PRTAGE'] >= 16) & \n",
    "            (df['PRFTLF'] == 1) &\n",
    "            (df['HRMONTH'].isin([1, 2, 3]))]\n",
    "    val = np.append(val, df['PRERNWA'].values)\n",
    "    wgt = np.append(wgt, df['PWORWGT'].values)\n",
    "        \n",
    "print('2017 Q1 Usual Weekly Earnings: ${0:,.2f}'.format(\n",
    "    # Weighted median using wquantiles package\n",
    "    wquantiles.median(val, wgt) / 100.0))"
   ]
  },
  {
   "cell_type": "code",
   "execution_count": null,
   "metadata": {},
   "outputs": [],
   "source": []
  },
  {
   "cell_type": "code",
   "execution_count": null,
   "metadata": {},
   "outputs": [],
   "source": []
  },
  {
   "cell_type": "code",
   "execution_count": null,
   "metadata": {},
   "outputs": [],
   "source": []
  },
  {
   "cell_type": "markdown",
   "metadata": {},
   "source": [
    "Important: Instead of reading the data dictionary into a pandas dataframe. you can just make a list of tuples with start and end values and pass the list to the fixed width format reader as colspecs, to read a few columns manually.\n",
    "\n",
    "------"
   ]
  },
  {
   "cell_type": "markdown",
   "metadata": {},
   "source": [
    "## Read text file"
   ]
  },
  {
   "cell_type": "code",
   "execution_count": 10,
   "metadata": {
    "collapsed": true
   },
   "outputs": [],
   "source": [
    "# Location of fixed-width-format text file\n",
    "filename = 'data/jan17pub.dat'\n",
    "\n",
    "# Series of interest \n",
    "s = ['HRMONTH', 'PRTAGE', 'PESEX', 'PWORWGT', 'PEMLR', 'PENLFRET', 'PENLFACT', \n",
    "     'PRDISC', 'PWCMPWGT', 'HRMIS']\n",
    "s_key = var_key[var_key['Var'].isin(s)]  \n",
    "colspecs = [(int(i[1]['Start'])-1, int(i[1]['End'])) for i in s_key.iterrows()]"
   ]
  },
  {
   "cell_type": "code",
   "execution_count": 11,
   "metadata": {
    "collapsed": true
   },
   "outputs": [],
   "source": [
    "# Read file\n",
    "df = pd.read_fwf(filename, colspecs=colspecs, header=None, names=s_key['Var'].values)"
   ]
  },
  {
   "cell_type": "code",
   "execution_count": 32,
   "metadata": {},
   "outputs": [
    {
     "data": {
      "text/plain": [
       "23748.176961500001"
      ]
     },
     "execution_count": 32,
     "metadata": {},
     "output_type": "execute_result"
    }
   ],
   "source": [
    "df[(df['PEMLR'] >= 5) & (df['PRTAGE'].isin(range(25,55)))]['PWORWGT'].sum() / 10000000"
   ]
  },
  {
   "cell_type": "markdown",
   "metadata": {},
   "source": [
    "## Benchmarking"
   ]
  },
  {
   "cell_type": "code",
   "execution_count": 4,
   "metadata": {},
   "outputs": [
    {
     "name": "stdout",
     "output_type": "stream",
     "text": [
      "January 2017: 71.3\n"
     ]
    }
   ],
   "source": [
    "# Prime age epop for women, Jan 2017 = 71.3 (LNU02300062)\n",
    "# Start by identifying the criteria\n",
    "dft = df[(df['PESEX'] == 2) & (df['PRTAGE'].isin(range(25,55)))]\n",
    "empl = np.where(dft['PREMPNOT']==1, 1, 0)\n",
    "epop = np.average(empl.astype(float), weights=dft['PWCMPWGT']) * 100\n",
    "print(f'January 2017: {round(epop, 1)}')"
   ]
  },
  {
   "cell_type": "code",
   "execution_count": 5,
   "metadata": {},
   "outputs": [
    {
     "name": "stdout",
     "output_type": "stream",
     "text": [
      "2017 Q1 Usual Weekly Earnings: $865.00\n",
      "Wall time: 18.7 s\n"
     ]
    }
   ],
   "source": [
    "%%time\n",
    "# Second benchmark, read in full year of data\n",
    "val = np.array([])   # This will be the combined annual df\n",
    "wgt = np.array([])\n",
    "\n",
    "for file in [f for f in os.listdir('data/') if f.endswith('pub.dat')]:\n",
    "    df = pd.read_fwf(f'data/{file}', colspecs=colspecs, header=None, dtype='int',\n",
    "        memory_map=True, names=s_key['Var'].values, usecols=s_key['Var'].values)#, \n",
    "\n",
    "    df = df[(df['PRERNWA'] > -1) & \n",
    "            (df['PRTAGE'] >= 16) & \n",
    "            (df['PRFTLF'] == 1) &\n",
    "            (df['HRMONTH'].isin([1, 2, 3]))]\n",
    "    val = np.append(val, df['PRERNWA'].values)\n",
    "    wgt = np.append(wgt, df['PWORWGT'].values)\n",
    "        \n",
    "print('2017 Q1 Usual Weekly Earnings: ${0:,.2f}'.format(\n",
    "    # Weighted median using wquantiles package\n",
    "    wquantiles.median(val, wgt) / 100.0))"
   ]
  },
  {
   "cell_type": "code",
   "execution_count": null,
   "metadata": {
    "collapsed": true
   },
   "outputs": [],
   "source": []
  },
  {
   "cell_type": "code",
   "execution_count": 6,
   "metadata": {},
   "outputs": [
    {
     "name": "stdout",
     "output_type": "stream",
     "text": [
      "Wall time: 23.7 s\n"
     ]
    }
   ],
   "source": [
    "%%time\n",
    "files = [f for f in os.listdir('data/') if f.endswith('pub.dat')]\n",
    "\n",
    "mo_dfs = [pd.read_fwf(f'data/{file}', colspecs=colspecs, header=None, dtype='int',\n",
    "        memory_map=True, names=s_key['Var'].values, usecols=s_key['Var'].values) for file in files]\n",
    "\n",
    "df = pd.concat(mo_dfs)"
   ]
  },
  {
   "cell_type": "code",
   "execution_count": null,
   "metadata": {
    "collapsed": true
   },
   "outputs": [],
   "source": []
  },
  {
   "cell_type": "code",
   "execution_count": null,
   "metadata": {
    "collapsed": true
   },
   "outputs": [],
   "source": []
  },
  {
   "cell_type": "code",
   "execution_count": null,
   "metadata": {
    "collapsed": true
   },
   "outputs": [],
   "source": []
  },
  {
   "cell_type": "code",
   "execution_count": null,
   "metadata": {
    "collapsed": true
   },
   "outputs": [],
   "source": []
  },
  {
   "cell_type": "code",
   "execution_count": null,
   "metadata": {
    "collapsed": true
   },
   "outputs": [],
   "source": []
  },
  {
   "cell_type": "code",
   "execution_count": null,
   "metadata": {
    "collapsed": true
   },
   "outputs": [],
   "source": []
  },
  {
   "cell_type": "code",
   "execution_count": null,
   "metadata": {
    "collapsed": true
   },
   "outputs": [],
   "source": []
  },
  {
   "cell_type": "code",
   "execution_count": null,
   "metadata": {
    "collapsed": true
   },
   "outputs": [],
   "source": []
  },
  {
   "cell_type": "code",
   "execution_count": null,
   "metadata": {
    "collapsed": true
   },
   "outputs": [],
   "source": []
  },
  {
   "cell_type": "code",
   "execution_count": null,
   "metadata": {
    "collapsed": true
   },
   "outputs": [],
   "source": []
  },
  {
   "cell_type": "code",
   "execution_count": null,
   "metadata": {
    "collapsed": true
   },
   "outputs": [],
   "source": []
  },
  {
   "cell_type": "code",
   "execution_count": null,
   "metadata": {
    "collapsed": true
   },
   "outputs": [],
   "source": []
  },
  {
   "cell_type": "code",
   "execution_count": null,
   "metadata": {
    "collapsed": true
   },
   "outputs": [],
   "source": []
  },
  {
   "cell_type": "code",
   "execution_count": null,
   "metadata": {
    "collapsed": true
   },
   "outputs": [],
   "source": []
  },
  {
   "cell_type": "code",
   "execution_count": null,
   "metadata": {
    "collapsed": true
   },
   "outputs": [],
   "source": []
  },
  {
   "cell_type": "code",
   "execution_count": null,
   "metadata": {
    "collapsed": true
   },
   "outputs": [],
   "source": []
  },
  {
   "cell_type": "code",
   "execution_count": null,
   "metadata": {
    "collapsed": true
   },
   "outputs": [],
   "source": []
  },
  {
   "cell_type": "code",
   "execution_count": null,
   "metadata": {
    "collapsed": true
   },
   "outputs": [],
   "source": []
  },
  {
   "cell_type": "code",
   "execution_count": null,
   "metadata": {
    "collapsed": true
   },
   "outputs": [],
   "source": []
  },
  {
   "cell_type": "code",
   "execution_count": null,
   "metadata": {
    "collapsed": true
   },
   "outputs": [],
   "source": []
  },
  {
   "cell_type": "code",
   "execution_count": null,
   "metadata": {
    "collapsed": true
   },
   "outputs": [],
   "source": []
  },
  {
   "cell_type": "code",
   "execution_count": null,
   "metadata": {
    "collapsed": true
   },
   "outputs": [],
   "source": []
  },
  {
   "cell_type": "code",
   "execution_count": null,
   "metadata": {
    "collapsed": true
   },
   "outputs": [],
   "source": []
  },
  {
   "cell_type": "code",
   "execution_count": null,
   "metadata": {
    "collapsed": true
   },
   "outputs": [],
   "source": []
  },
  {
   "cell_type": "code",
   "execution_count": null,
   "metadata": {
    "collapsed": true
   },
   "outputs": [],
   "source": []
  },
  {
   "cell_type": "code",
   "execution_count": null,
   "metadata": {
    "collapsed": true
   },
   "outputs": [],
   "source": []
  },
  {
   "cell_type": "code",
   "execution_count": null,
   "metadata": {
    "collapsed": true
   },
   "outputs": [],
   "source": []
  },
  {
   "cell_type": "code",
   "execution_count": null,
   "metadata": {
    "collapsed": true
   },
   "outputs": [],
   "source": []
  },
  {
   "cell_type": "code",
   "execution_count": null,
   "metadata": {
    "collapsed": true
   },
   "outputs": [],
   "source": []
  }
 ],
 "metadata": {
  "kernelspec": {
   "display_name": "Python 3",
   "language": "python",
   "name": "python3"
  },
  "language_info": {
   "codemirror_mode": {
    "name": "ipython",
    "version": 3
   },
   "file_extension": ".py",
   "mimetype": "text/x-python",
   "name": "python",
   "nbconvert_exporter": "python",
   "pygments_lexer": "ipython3",
   "version": "3.6.4"
  }
 },
 "nbformat": 4,
 "nbformat_minor": 2
}
