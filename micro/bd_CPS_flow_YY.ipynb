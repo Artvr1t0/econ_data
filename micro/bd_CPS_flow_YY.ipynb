{
 "cells": [
  {
   "cell_type": "markdown",
   "metadata": {},
   "source": [
    "#### CPS matching observations one year apart\n",
    "\n",
    "April 11, 2019\n",
    "\n",
    "----\n",
    "\n",
    "To Do:\n",
    "\n",
    "Refactor and clean up code. Add comments. Parameterize!\n",
    "\n",
    "Refactoring:\n",
    "\n",
    "* Read cps feather file only once per year.\n",
    "\n",
    "* Filter dataframe columns when reading."
   ]
  },
  {
   "cell_type": "code",
   "execution_count": 1,
   "metadata": {
    "ExecuteTime": {
     "end_time": "2019-11-12T14:29:33.773314Z",
     "start_time": "2019-11-12T14:29:33.530113Z"
    },
    "code_folding": []
   },
   "outputs": [
    {
     "name": "stdout",
     "output_type": "stream",
     "text": [
      "pandas: 1.0.0\n",
      "numpy: 1.17.5\n"
     ]
    }
   ],
   "source": [
    "# Import packages and set preliminaries\n",
    "import pandas as pd\n",
    "print('pandas:', pd.__version__)\n",
    "import numpy as np\n",
    "print('numpy:', np.__version__)\n",
    "import os\n",
    "\n",
    "os.chdir('/home/brian/Documents/CPS/')"
   ]
  },
  {
   "cell_type": "code",
   "execution_count": 2,
   "metadata": {
    "ExecuteTime": {
     "end_time": "2019-11-12T14:30:36.890068Z",
     "start_time": "2019-11-12T14:29:33.774969Z"
    },
    "code_folding": [],
    "run_control": {
     "marked": false
    }
   },
   "outputs": [
    {
     "name": "stderr",
     "output_type": "stream",
     "text": [
      "<ipython-input-2-9a97a938b144>:77: RuntimeWarning: invalid value encountered in float_scalars\n",
      "  data.at[pd.to_datetime(f'{year}-{mo}-01'), 'Share'] = (of/tot) * 100\n"
     ]
    }
   ],
   "source": [
    "# Calculate unemployed to work flow\n",
    "data = pd.DataFrame()\n",
    "\n",
    "# For each year calculate change over year before\n",
    "for year in list(range(1995, 2020)):\n",
    "\n",
    "    # Load year one\n",
    "    df1 = (pd.read_feather(f'data/clean/cps{year-1}.ft')\n",
    "             .query('MIS < 5 and 23 <= AGE <= 57'))\n",
    "\n",
    "    # Generate flow1 variable\n",
    "    df1['flow1'] = np.where(df1['LFS'] == 'Unemployed', 1, 0)\n",
    "\n",
    "    # Generate unique ID\n",
    "    df1['UID'] = (df1['STATE'].astype(str) + \n",
    "                  df1['HHID'].astype(str) + \n",
    "                  df1['HHID2'].astype(str) + \n",
    "                  df1['PULINENO'].astype(str))\n",
    "\n",
    "    # Filter column-wise\n",
    "    df1 = df1[['UID','MONTH','YEAR','MIS','AGE','flow1', 'BASICWGT',\n",
    "               'FEMALE','WBHAO','STATE']]\n",
    "\n",
    "    # Load year two\n",
    "    df2 = (pd.read_feather(f'data/clean/cps{year}.ft')\n",
    "             .query('MIS > 4 and 23 <= AGE <= 57'))\n",
    "\n",
    "    # Generate flow2 variable\n",
    "    df2['flow2'] = np.where(df2['LFS'] == 'Employed', 1, 0)\n",
    "\n",
    "    # Generate unique ID\n",
    "    df2['UID'] = (df2['STATE'].astype(str) + \n",
    "                  df2['HHID'].astype(str) + \n",
    "                  df2['HHID2'].astype(str) + \n",
    "                  df2['PULINENO'].astype(str))\n",
    "\n",
    "    # Filter column-wise\n",
    "    df2 = df2[['UID','MONTH','YEAR','MIS','AGE','flow2', 'BASICWGT',\n",
    "               'FEMALE','WBHAO','STATE']]\n",
    "\n",
    "    # List of months to loop over \n",
    "    mos = list(range(1, max(df2['MONTH']) + 1))\n",
    "\n",
    "    # Loop over the months\n",
    "    for mo in mos:\n",
    "        # Generate merge groups\n",
    "        g1 = df1[(df1['MONTH'] == mo) & (df1['MIS'] == 1)]\n",
    "        g5 = df2[(df2['MONTH'] == mo) & (df2['MIS'] == 5)]\n",
    "        g2 = df1[(df1['MONTH'] == mo) & (df1['MIS'] == 2)]\n",
    "        g6 = df2[(df2['MONTH'] == mo) & (df2['MIS'] == 6)]\n",
    "        g3 = df1[(df1['MONTH'] == mo) & (df1['MIS'] == 3)]\n",
    "        g7 = df2[(df2['MONTH'] == mo) & (df2['MIS'] == 7)]\n",
    "        g4 = df1[(df1['MONTH'] == mo) & (df1['MIS'] == 4)]\n",
    "        g8 = df2[(df2['MONTH'] == mo) & (df2['MIS'] == 8)]    \n",
    "\n",
    "        # Naive merge\n",
    "        naive = (pd.merge(g1, g5, on='UID', how='inner').append(\n",
    "                 pd.merge(g2, g6, on='UID', how='inner')).append(\n",
    "                 pd.merge(g3, g7, on='UID', how='inner')).append(\n",
    "                 pd.merge(g4, g8, on='UID', how='inner')))    \n",
    "\n",
    "        # Filter by SRA\n",
    "        mdata = naive[(naive['FEMALE_x'] == naive['FEMALE_y']) &\n",
    "                      (naive['WBHAO_x'] == naive['WBHAO_y']) &\n",
    "                      ((naive['AGE_x'] <= naive['AGE_y'] + 1) |\n",
    "                      (naive['AGE_y'] >= naive['AGE_x']))]   \n",
    "\n",
    "        mdata = mdata[mdata['AGE_y'].between(25, 54)]\n",
    "        \n",
    "        # Calculate outflow\n",
    "        of = mdata[(mdata['flow1']==1) & (mdata['flow2']==1)]['BASICWGT_y'].sum()\n",
    "\n",
    "        # Calculate total\n",
    "        tot = mdata[(mdata['flow1']==1)]['BASICWGT_y'].sum()\n",
    "\n",
    "        # Print share\n",
    "        data.at[pd.to_datetime(f'{year}-{mo}-01'), 'Share'] = (of/tot) * 100"
   ]
  },
  {
   "cell_type": "code",
   "execution_count": 3,
   "metadata": {
    "ExecuteTime": {
     "end_time": "2019-11-12T14:30:36.986384Z",
     "start_time": "2019-11-12T14:30:36.891335Z"
    }
   },
   "outputs": [],
   "source": [
    "result = data.rolling(12).mean().dropna()\n",
    "date_text = result.iloc[-1].name.strftime('%b %Y')\n",
    "value_text = result.iloc[-1].round(1).values[0]"
   ]
  },
  {
   "cell_type": "code",
   "execution_count": 4,
   "metadata": {
    "ExecuteTime": {
     "end_time": "2019-11-12T14:30:37.005811Z",
     "start_time": "2019-11-12T14:30:37.000614Z"
    }
   },
   "outputs": [],
   "source": [
    "%matplotlib inline\n",
    "import matplotlib as mpl\n",
    "import matplotlib.pyplot as plt\n",
    "mpl.rc('axes', edgecolor='white') # Hide the axes\n",
    "plt.rc('axes', axisbelow=True)\n",
    "\n",
    "# Recession start and end months, from NBER\n",
    "rec_dt = [('2001-04-01', '2001-12-01'), ('2008-01-01', '2009-07-01')]"
   ]
  },
  {
   "cell_type": "code",
   "execution_count": 5,
   "metadata": {
    "ExecuteTime": {
     "end_time": "2019-11-12T14:30:37.282823Z",
     "start_time": "2019-11-12T14:30:37.006885Z"
    },
    "code_folding": []
   },
   "outputs": [
    {
     "data": {
      "image/png": "[encoded data removed]",
      "text/plain": [
       "<Figure size 432x288 with 1 Axes>"
      ]
     },
     "metadata": {
      "needs_background": "light"
     },
     "output_type": "display_data"
    }
   ],
   "source": [
    "# Graph results\n",
    "offset = pd.DateOffset(months=4)\n",
    "result.plot(color='red', legend=None, figsize=(6, 4), zorder=2)\n",
    "plt.xlim(result.index[0] - offset, result.index[-1] + offset)\n",
    "for i, v in rec_dt:\n",
    "    ax = plt.axvspan(i, v, fill=True, linewidth=0, color='lightgray', alpha=0.2, zorder=1)\n",
    "plt.scatter([result.index[-1]], [result.iloc[-1]], color='red', s=25)\n",
    "date_text = result.iloc[-1].name.strftime('%b %Y')\n",
    "value_text = result.iloc[-1].round(1).values[0]\n",
    "plt.text(result.index[-1], 57, f'{date_text}:\\n{value_text}%', ha='center')\n",
    "plt.yticks([45.0, 50.0, 55.0, 60.0], ['45', '50', '55', '60%'])\n",
    "plt.xticks(['2000-01-01', '2005-01-01', '2010-01-01', '2015-01-01'], ['2000', '2005', '2010', '2015'])\n",
    "plt.axhline(y=result.iloc[-1].values[0], color='lightgray', linewidth=0.5)    \n",
    "\n",
    "# add title and footer\n",
    "plt.text('1995-01-01', 65, 'One-year rate of job-finding', \n",
    "          fontsize=15, weight='bold')\n",
    "\n",
    "plt.text('1995-06-01', 63.7, \"Share of unemployed with a job one year later, age 25-54\", \n",
    "          fontsize=12)\n",
    "\n",
    "plt.text('1995-01-01', 39.5, \"Source: Author's calculations from basic monthly CPS microdata files. Twelve-\")\n",
    "plt.text('1995-06-01', 38.4, 'month moving average applied to adjust for seasonality.')\n",
    "\n",
    "plt.savefig('Jobfinding.png', bbox_inches='tight')\n",
    "\n",
    "plt.show()"
   ]
  }
 ],
 "metadata": {
  "kernelspec": {
   "display_name": "Python 3",
   "language": "python",
   "name": "python3"
  },
  "language_info": {
   "codemirror_mode": {
    "name": "ipython",
    "version": 3
   },
   "file_extension": ".py",
   "mimetype": "text/x-python",
   "name": "python",
   "nbconvert_exporter": "python",
   "pygments_lexer": "ipython3",
   "version": "3.8.5"
  }
 },
 "nbformat": 4,
 "nbformat_minor": 2
}
