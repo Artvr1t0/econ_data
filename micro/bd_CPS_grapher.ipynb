{
 "cells": [
  {
   "cell_type": "markdown",
   "metadata": {},
   "source": [
    "### bd CPS graph basic labor market indicators\n",
    "\n",
    "bd_CPS_grapher.ipynb\n",
    "\n",
    "March 8, 2019\n",
    "\n",
    "Brian Dew, brian.w.dew@gmail.com, twitter: @bd_econ\n",
    "\n",
    "Requires: `cpsYYYY.ft`, where `YYYY` is the year, for each year in year_range.\n",
    "\n",
    "____\n",
    "\n",
    "Notes:\n",
    "\n",
    "Several [open issues](https://github.com/bdecon/econ_data/issues) on GitHub. This code needs to do four things: 1) read and aggregate CPS data as instructed (one month, three months, one year, two years); 2) Apply some pre-specified calculations, such as the employment-to-population ratio, unemployment rate, usual earnings at various percentiles, etc.; 3) apply adjustments after the fact, such as moving average, or adjustment for inflation; and 4) allow for collecting data on multiple groups during each read cycle. \n",
    "\n",
    "Once the collected data are prepared, use matplotlib to generate nice-looking line plots. \n",
    "\n",
    "\n",
    "\n",
    "The [categorization](https://www.frbatlanta.org/chcs/human-capital-currents/2015/0612-measuring-labor-market-status-using-basic-data.aspx) of those not in the labor force is provided by the Federal Reserve Bank of Atlanta. \n",
    "\n",
    "Useful [pseudocode](https://www.kansascityfed.org/research/kcdc/cps/coreinfo/pseudocode/hrswk) for various CPS-based calculations is provided by the Federal Reserve Bank of Kansas City."
   ]
  },
  {
   "cell_type": "code",
   "execution_count": 1,
   "metadata": {
    "ExecuteTime": {
     "end_time": "2019-11-12T00:37:25.531293Z",
     "start_time": "2019-11-12T00:37:25.220554Z"
    },
    "code_folding": [
     0
    ],
    "run_control": {
     "marked": false
    }
   },
   "outputs": [
    {
     "name": "stdout",
     "output_type": "stream",
     "text": [
      "pandas: 1.0.3\n",
      "numpy: 1.18.1\n",
      "matplotlib: 3.2.1\n"
     ]
    }
   ],
   "source": [
    "# Preliminaries\n",
    "%matplotlib inline\n",
    "\n",
    "# Import packages\n",
    "import os, re\n",
    "import pandas as pd\n",
    "print('pandas:', pd.__version__)\n",
    "import numpy as np\n",
    "print('numpy:', np.__version__)\n",
    "import matplotlib\n",
    "print('matplotlib:', matplotlib.__version__)\n",
    "import matplotlib.pyplot as plt\n",
    "\n",
    "\n",
    "# Graph settings\n",
    "plt.rc('axes', edgecolor='white') # Hide the axes\n",
    "plt.rc('axes', axisbelow=True)\n",
    "plt.rcParams.update({'axes.titlesize': 16,\n",
    "                     'axes.titleweight': 'medium', \n",
    "                     'font.weight': 'regular'})\n",
    "plt.rc('font', family='Lato')\n",
    "\n",
    "# Twitter logo requires this setting\n",
    "from matplotlib.font_manager import FontProperties\n",
    "fawesome = r\"/home/brian/Documents/safe/Font Awesome 5 Brands-Regular-400.otf\"\n",
    "fp = FontProperties(fname=fawesome) \n",
    "\n",
    "os.chdir('/home/brian/Documents/CPS/data/clean/')\n",
    "\n",
    "# Recession start and end months, from NBER\n",
    "rec_dt = [('1990-08-01', '1991-04-01'), \n",
    "          ('2001-04-01', '2001-12-01'), \n",
    "          ('2008-01-01', '2009-07-01')]\n",
    "\n",
    "# Years of bd CPS data\n",
    "year_range = range(1994, 2021)"
   ]
  },
  {
   "cell_type": "code",
   "execution_count": 2,
   "metadata": {
    "ExecuteTime": {
     "end_time": "2019-11-12T00:37:25.535116Z",
     "start_time": "2019-11-12T00:37:25.532398Z"
    },
    "code_folding": [
     0
    ]
   },
   "outputs": [],
   "source": [
    "def cps_datetime(df, year):\n",
    "    \"\"\"Return DATE '1994-01-01' from MONTH and YEAR\"\"\"\n",
    "    df['DATE'] = [pd.to_datetime(f'{year}-{month}-01') \n",
    "                  for month in df.index]\n",
    "    return df "
   ]
  },
  {
   "cell_type": "code",
   "execution_count": 3,
   "metadata": {
    "ExecuteTime": {
     "end_time": "2019-11-12T00:37:25.555641Z",
     "start_time": "2019-11-12T00:37:25.536508Z"
    },
    "code_folding": [
     0
    ],
    "run_control": {
     "marked": false
    }
   },
   "outputs": [],
   "source": [
    "def calc_specs(calc_type, query_str):\n",
    "    \n",
    "    d = {}\n",
    "    \n",
    "    fcols2 = re.findall(' ([A-Z]+) ', query_str)\n",
    "    \n",
    "    #Default columns to keep in initial data read\n",
    "    d['filter_cols'] = ['LFS', 'BASICWGT', 'MONTH'] + fcols2\n",
    "\n",
    "    if calc_type == 'epop':\n",
    "        d['tvars'] = {'EMPL': (lambda x: np.where((x['LFS']=='Employed'),  \n",
    "                                                   x['BASICWGT'], 0))}\n",
    "        d['calc_var'] = (lambda x: (x['EMPL'] / x['BASICWGT']))\n",
    "        d['filter_cols'] = ['LFS', 'BASICWGT', 'MONTH'] + fcols2\n",
    "        d['keep_cols'] = ['EMPL', 'BASICWGT', 'MONTH']\n",
    "        \n",
    "    if calc_type == 'epopcare':\n",
    "        d['tvars'] = {'EMPL': (lambda x: np.where((x['LFS']=='Employed') | \n",
    "                                                  (x['NILFREASON']==\"Family\"),  \n",
    "                                                  x['BASICWGT'], 0))}\n",
    "        d['calc_var'] = (lambda x: (x['EMPL'] / x['BASICWGT']))    \n",
    "        d['filter_cols'] = ['LFS', 'LMSTAT', 'BASICWGT', 'MONTH'] + fcols2\n",
    "        d['keep_cols'] = ['EMPL', 'BASICWGT', 'MONTH']\n",
    "        \n",
    "    if calc_type == 'ptecon':\n",
    "        d['tvars'] = {'IPT': (lambda x: np.where(x['PTECON']==1, \n",
    "                                                 x['BASICWGT'], 0)),\n",
    "                      'EMPL': (lambda x: np.where((x['LFS']=='Employed'),  \n",
    "                                                   x['BASICWGT'], 0))}\n",
    "        d['calc_var'] = (lambda x: (x['IPT'] / x['EMPL']))\n",
    "        d['filter_cols'] = ['LFS', 'PTECON', 'BASICWGT', 'MONTH'] + fcols2\n",
    "        d['keep_cols'] = ['EMPL', 'IPT', 'BASICWGT', 'MONTH']\n",
    "        \n",
    "    if calc_type == 'unemp':\n",
    "        d['tvars'] = {'UNEMP': (lambda x: np.where(x['LFS']=='Unemployed', \n",
    "                                                   x['BASICWGT'], 0)),\n",
    "                      'LF': (lambda x: np.where(x['LFS'] != 'NILF', \n",
    "                                                x['BASICWGT'], 0))}\n",
    "        d['calc_var'] = (lambda x: (x['UNEMP'] / x['LF']))\n",
    "        d['keep_cols'] = ['UNEMP', 'LF', 'MONTH']\n",
    "\n",
    "    if calc_type == 'lfpr':\n",
    "        d['tvars'] = {'LF': (lambda x: np.where(x['LFS'] != 'NILF', \n",
    "                                                x['BASICWGT'], 0))}\n",
    "        d['calc_var'] = (lambda x: (x['LF'] / x['BASICWGT']))\n",
    "        d['keep_cols'] = ['LF', 'BASICWGT', 'MONTH']\n",
    "        \n",
    "    if calc_type == 'pop':       \n",
    "        d['tvars'] = {}\n",
    "        d['calc_var'] = lambda x: x['BASICWGT'] / 12.0\n",
    "        d['filter_cols'] = ['BASICWGT', 'MONTH'] + fcols2\n",
    "        d['keep_cols'] = ['BASICWGT', 'MONTH'] \n",
    "        \n",
    "    if calc_type == 'union':\n",
    "        d['tvars'] = {'TOT': lambda x: np.where(x['UNIONMEM'].isin([0, 1]), \n",
    "                                                x['PWORWGT'], 0),\n",
    "                      'UNION': lambda x: np.where(x['UNIONMEM']==1, \n",
    "                                                  x['PWORWGT'], 0)}\n",
    "        d['calc_var'] = (lambda x: (x['UNION'] / x['TOT']))\n",
    "        d['filter_cols'] = ['UNIONMEM', 'PWORWGT', 'MONTH'] + fcols2\n",
    "        d['keep_cols'] = ['UNION', 'TOT', 'MONTH']\n",
    "        \n",
    "    if calc_type == 'nilf_disill':\n",
    "        d['keep_cols'] = ['DIS', 'BASICWGT', 'MONTH', 'NILFREASON']\n",
    "        d['filter_cols'] = ['NILFREASON', 'BASICWGT', 'MONTH'] + fcols2\n",
    "        d['tvars'] = {'DIS': lambda x: (\n",
    "            np.where(x['NILFREASON'] == 'Disabled/Ill', \n",
    "                     x['BASICWGT'], 0))}\n",
    "        d['calc_var'] = (lambda x: (x['DIS'] / x['BASICWGT']))\n",
    "        \n",
    "    if calc_type == 'nilf_school':\n",
    "        d['keep_cols'] = ['SCHOOL', 'BASICWGT', 'MONTH']\n",
    "        d['filter_cols'] = ['NILFREASON', 'BASICWGT', 'MONTH'] + fcols2\n",
    "        d['tvars'] = {'SCHOOL': lambda x: (\n",
    "            np.where(x['NILFREASON'] == 'School', x['BASICWGT'], 0))}\n",
    "        d['calc_var'] = (lambda x: (x['SCHOOL'] / x['BASICWGT']))\n",
    "        \n",
    "    if calc_type == 'nilf_care':\n",
    "        d['filter_cols'] = ['NILFREASON', 'BASICWGT', 'MONTH'] + fcols2\n",
    "        d['keep_cols'] = ['CARE', 'BASICWGT', 'MONTH']\n",
    "        d['tvars'] = {'CARE': lambda x: np.where(x['LMSTAT']=='Family', \n",
    "                                                       x['BASICWGT'], 0)}\n",
    "        d['calc_var'] = (lambda x: (x['CARE'] / x['BASICWGT']))\n",
    "        \n",
    "    if calc_type == 'nilf_retired':\n",
    "        d['filter_cols'] = ['NILFREASON', 'BASICWGT', 'MONTH'] + fcols2\n",
    "        d['keep_cols'] = ['RET', 'BASICWGT', 'MONTH']\n",
    "        d['tvars'] = {'RET': lambda x: (\n",
    "            np.where(x['NILFREASON'] == 'Retired', x['BASICWGT'], 0))}\n",
    "        d['calc_var'] = (lambda x: (x['RET'] / x['BASICWGT']))\n",
    "        \n",
    "    if calc_type == 'nilf_discouraged':\n",
    "        d['filter_cols'] = ['NILFREASON', 'BASICWGT', 'MONTH'] + fcols2\n",
    "        d['keep_cols'] = ['DISC', 'BASICWGT', 'MONTH']\n",
    "        d['tvars'] = {'DISC': lambda x: (\n",
    "            np.where(x['NILFREASON'] == 'Discouraged', x['BASICWGT'], 0))}\n",
    "        d['calc_var'] = (lambda x: (x['DISC'] / x['BASICWGT']))\n",
    "        \n",
    "    \n",
    "    return d"
   ]
  },
  {
   "cell_type": "code",
   "execution_count": 4,
   "metadata": {
    "ExecuteTime": {
     "end_time": "2019-11-12T00:37:25.561659Z",
     "start_time": "2019-11-12T00:37:25.557151Z"
    },
    "code_folding": [],
    "run_control": {
     "marked": false
    }
   },
   "outputs": [],
   "source": [
    "def binned_wage(group, wage_var, percentile, bins, bin_size):\n",
    "    \"\"\"Return BLS-styled binned decile/percentile wage\"\"\"\n",
    "    \n",
    "    # Use ORG weight since wage defined only for ORG sample\n",
    "    weight = 'PWORWGT'\n",
    "    \n",
    "    # Cut wage series according to bins of bin_size\n",
    "    bin_cut = lambda x: pd.cut(x[wage_var], bins, include_lowest=True)\n",
    "    \n",
    "    # Calculate cumulative sum for weight variable\n",
    "    cum_sum = lambda x: x[weight].cumsum()\n",
    "    \n",
    "    # Sort wages then apply bin_cut and cum_sum\n",
    "    df = (group.sort_values(wage_var)\n",
    "               .assign(WAGE_BIN = bin_cut, CS = cum_sum))\n",
    "    \n",
    "    # Find the weight at the percentile of interest\n",
    "    pct_wgt = df[weight].sum() * percentile\n",
    "\n",
    "    # Find wage bin for person nearest to weighted percentile\n",
    "    pct_bin = df.iloc[df['CS'].searchsorted(pct_wgt)].WAGE_BIN\n",
    "    \n",
    "    # Weight at bottom and top of bin\n",
    "    wgt_btm, wgt_top = (df.loc[df['WAGE_BIN'] == pct_bin, 'CS']\n",
    "                          .iloc[[0, -1]].values)\n",
    "    \n",
    "    # Find where in the bin the percentile is and return that value\n",
    "    pct_value = ((((pct_wgt - wgt_btm) / \n",
    "                   (wgt_top - wgt_btm)) * bin_size) + pct_bin.left)\n",
    "    \n",
    "    return pct_value"
   ]
  },
  {
   "cell_type": "code",
   "execution_count": 5,
   "metadata": {
    "ExecuteTime": {
     "end_time": "2019-11-12T00:37:25.570809Z",
     "start_time": "2019-11-12T00:37:25.562670Z"
    },
    "code_folding": [],
    "run_control": {
     "marked": false
    }
   },
   "outputs": [],
   "source": [
    "def wage_calc(query_str, calc_type, decile):\n",
    "    \n",
    "    # Usual hourly earnings - real\n",
    "    if calc_type == 'hourly_wage_real':\n",
    "        wage_var = 'RHRWAGE'\n",
    "    # Usual weekly earnings - real\n",
    "    if calc_type == 'weekly_wage_real':\n",
    "        wage_var = 'RWKWAGE'\n",
    "        \n",
    "    bin_size = 0.5 #($0.50)\n",
    "    bins = list(np.arange(0.25, 300, bin_size))\n",
    "    if wage_var == 'RWKWAGE':\n",
    "        bin_size = 50.0 #($50.00)\n",
    "        bins = list(np.arange(25, 3000, bin_size))\n",
    "    \n",
    "    cps_dir = '/home/brian/Documents/CPS/data/'\n",
    "\n",
    "    cps_files = pd.Series([pd.to_datetime(file[:5], format='%b%y') \n",
    "                           for file in os.listdir(cps_dir) \n",
    "                           if file.endswith('pub.dat')])\n",
    "\n",
    "    pd_dates = [pd.date_range(end=mo, periods=12, freq='MS') \n",
    "                for mo in cps_files.sort_values()[11:]]\n",
    "\n",
    "    dt_windows = [[dw.year * 100 + dw.month for dw in pd_date] \n",
    "                  for pd_date in pd_dates]\n",
    "    \n",
    "    fcols2 = re.findall(' ([A-Z]+) ', query_str)\n",
    "    \n",
    "    filter_cols = ['YEAR', 'MONTH', wage_var, 'PWORWGT'] + fcols2\n",
    "\n",
    "    date = lambda x: ((x.YEAR.astype(np.int32) * 100) + \n",
    "                      x.MONTH.astype(np.int8))\n",
    "    df = pd.concat([\n",
    "         (pd.read_feather(f'cps{year}.ft', columns=filter_cols)\n",
    "            .query('PWORWGT > 0 and {} > 0'.format(wage_var))\n",
    "            .query(query_str)\n",
    "            .assign(DATE = date)[[wage_var, 'DATE', 'PWORWGT']]) \n",
    "        for year in year_range], sort=False)\n",
    "    \n",
    "    data = pd.Series()\n",
    "    for dw in dt_windows:\n",
    "        dfw = df.loc[df['DATE'].isin(dw), [wage_var, 'PWORWGT']]\n",
    "        dec_wage = binned_wage(dfw, wage_var, decile, bins, bin_size)\n",
    "        date = pd.to_datetime(dw[-1], format='%Y%m')\n",
    "        data[date] = dec_wage\n",
    "\n",
    "    return data"
   ]
  },
  {
   "cell_type": "code",
   "execution_count": 6,
   "metadata": {
    "ExecuteTime": {
     "end_time": "2019-11-12T00:37:25.578739Z",
     "start_time": "2019-11-12T00:37:25.572370Z"
    },
    "code_folding": [],
    "run_control": {
     "marked": false
    }
   },
   "outputs": [],
   "source": [
    "def data_retriever(query_str, calc_type, decile=None):    \n",
    "    \n",
    "    if 'wage' not in calc_type:\n",
    "        d = calc_specs(calc_type, query_str)\n",
    "        \n",
    "        data = (pd.concat(\n",
    "            [(pd.read_feather(f'cps{year}.ft', columns=d['filter_cols'])\n",
    "                .query(query_str)\n",
    "                .assign(**d['tvars'])\n",
    "                .filter(d['keep_cols'])\n",
    "                .groupby('MONTH').sum()\n",
    "                .pipe(cps_datetime, year)\n",
    "                .set_index('DATE')\n",
    "                .assign(FINAL = d['calc_var'])\n",
    "                .FINAL) for year in year_range])\n",
    "                ).rolling(12).mean().dropna()\n",
    "\n",
    "    if 'wage' in calc_type:\n",
    "        data = wage_calc(query_str, calc_type, decile)        \n",
    "    \n",
    "    return data    "
   ]
  },
  {
   "cell_type": "code",
   "execution_count": 7,
   "metadata": {
    "ExecuteTime": {
     "end_time": "2019-11-12T00:37:25.588796Z",
     "start_time": "2019-11-12T00:37:25.579828Z"
    },
    "code_folding": []
   },
   "outputs": [],
   "source": [
    "def labor_mkt_grapher(title, data, color):\n",
    "    \"\"\"Graph time series data from 1994 to present, with recession bars\n",
    "       and the most recent monthly data point labeled and annotated.\"\"\"\n",
    "    \n",
    "    # Determine which endpoint label style based on data\n",
    "    if data.max() <= 1.0:\n",
    "        ftype = 'pct'\n",
    "    elif data.max() <= 2000.0:\n",
    "        ftype = 'usd'\n",
    "    else:\n",
    "        ftype = 'people'\n",
    "    if ftype == 'pct':\n",
    "        data = data * 100.0\n",
    "        \n",
    "    # Spacers for annotation\n",
    "    spcr, spcr2 = (data.max() - data.min()) / 26, (data.max() - data.min()) / 40\n",
    "    \n",
    "    ax = plt.gca()\n",
    "    \n",
    "    data.plot(figsize=(8, 4), color=color, ax=ax, linewidth=2.2)\n",
    "    \n",
    "    # Matplotlib 3.0 cuts off the marker unless I give some extra space\n",
    "    offset = pd.DateOffset(months=4)\n",
    "    plt.xlim(data.index[0] - offset, data.index[-1] + offset)\n",
    "    \n",
    "    # Title \n",
    "    plt.title(title, loc='left', fontname='roboto')\n",
    "    \n",
    "    # Last datapoint has a dot\n",
    "    plt.scatter([data.index[-1]], [data[-1]], color=color, s=30)\n",
    "    \n",
    "    # Recession bars\n",
    "    for i, v in rec_dt:\n",
    "        plt.axvspan(i, v, fill=True, linewidth=0, color='gray', alpha=0.15)\n",
    "        \n",
    "    # Date label for endpoint\n",
    "    plt.annotate(f'  {data.index[-1]:%b %Y}', (data.index[-1], data[-1]+spcr), \n",
    "                      fontweight='medium')\n",
    "    \n",
    "    # Formatting text for endpoint value label\n",
    "    if ftype == 'pct':\n",
    "        plt.annotate(f'   {data[-1]: .1f}%', (data.index[-1], data[-1]-spcr2), \n",
    "                     fontweight='medium')\n",
    "    elif ftype == 'usd':\n",
    "        plt.annotate(f'   ${data[-1]: .2f}', (data.index[-1], data[-1]-spcr2), \n",
    "                     fontweight='medium')\n",
    "    else:\n",
    "        plt.annotate(f'   {int(data[-1]):,}', (data.index[-1], data[-1]-spcr2),\n",
    "                     fontweight='medium')  \n",
    "        \n",
    "    # Footer label\n",
    "    plt.xlabel('Source: Current Population Survey microdata, 12-month moving average', \n",
    "               ha='left', x=0, weight='regular')\n",
    "    \n",
    "    # Add twitter logo and @bd_econ handle\n",
    "    ax.text(0.885, -0.124, \"\\uf099\", fontproperties=fp, color='deepskyblue', \n",
    "            transform=ax.transAxes)\n",
    "    ax.text(0.91, -0.115, '@bd_econ', transform=ax.transAxes)"
   ]
  },
  {
   "cell_type": "markdown",
   "metadata": {},
   "source": [
    "#### How to use\n",
    "\n",
    "1) Define the filter query string, for example: `filters = '25 <= AGE <= 54 and FEMALE == 1'`.\n",
    "\n",
    "2) Give a text name to the group defined above, `group = 'women age 25 to 54'`.\n",
    "\n",
    "3) Select the calculation (see below), `calc_type = 'epop'`.\n",
    "\n",
    "4) Customize the title, `title = f'Employed share of population, {group}'`.\n",
    "\n",
    "5) Call function, `data = bd_cps_data(filters, calc_type)`\n",
    "\n",
    "6) Graph data (third argument is line color), `labor_mkt_grapher(title, data, 'blue')`\n",
    "\n",
    "\n",
    "#### List of calc_type options\n",
    "\n",
    "- `median_weekly_wage_real` (specify decile, e.g. data['10th'])\n",
    "- `median_hourly_wage_real` (specify decile, e.g. data['10th'])\n",
    "- `epop`\n",
    "- `epopcare`\n",
    "- `unrate`\n",
    "- `lfpr`\n",
    "- `pop`\n",
    "- `union`\n",
    "- `nilf_disill`\n",
    "- `nilf_school`\n",
    "- `nilf_care`\n",
    "- `nilf_retired`\n",
    "- `nilf_discouraged`"
   ]
  },
  {
   "cell_type": "code",
   "execution_count": 8,
   "metadata": {
    "ExecuteTime": {
     "end_time": "2019-10-10T13:41:17.809550Z",
     "start_time": "2019-10-10T13:41:16.304434Z"
    },
    "code_folding": [],
    "run_control": {
     "marked": false
    }
   },
   "outputs": [
    {
     "name": "stderr",
     "output_type": "stream",
     "text": [
      "findfont: Font family ['roboto'] not found. Falling back to DejaVu Sans.\n"
     ]
    },
    {
     "data": {
      "image/png": "[encoded data removed]",
      "text/plain": [
       "<Figure size 576x288 with 1 Axes>"
      ]
     },
     "metadata": {
      "needs_background": "light"
     },
     "output_type": "display_data"
    }
   ],
   "source": [
    "# Example\n",
    "hs = ['LTHS', 'HS', 'SC']\n",
    "query_str = '25 <= AGE <= 54 and STATE == \"SC\"'\n",
    "group = 'age 25 to 54 in SC'\n",
    "calc_type = 'epop'\n",
    "decile = None\n",
    "title = f'Employed share of population, {group}'\n",
    "data = data_retriever(query_str, calc_type, decile)\n",
    "labor_mkt_grapher(title, data, 'blue')"
   ]
  },
  {
   "cell_type": "code",
   "execution_count": 9,
   "metadata": {},
   "outputs": [
    {
     "data": {
      "image/png": "[encoded data removed]",
      "text/plain": [
       "<Figure size 576x288 with 1 Axes>"
      ]
     },
     "metadata": {
      "needs_background": "light"
     },
     "output_type": "display_data"
    }
   ],
   "source": [
    "# Example\n",
    "query_str = '16 <= AGE <= 64 and STATE == \"SC\"'\n",
    "group = 'age 16 to 64 in SC'\n",
    "calc_type = 'nilf_disill'\n",
    "decile = None\n",
    "title = f'Out of labor force -- disability or illness, share of population, {group}'\n",
    "data = data_retriever(query_str, calc_type, decile)\n",
    "labor_mkt_grapher(title, data, 'red')"
   ]
  },
  {
   "cell_type": "code",
   "execution_count": null,
   "metadata": {},
   "outputs": [],
   "source": []
  },
  {
   "cell_type": "code",
   "execution_count": null,
   "metadata": {
    "ExecuteTime": {
     "end_time": "2019-11-12T01:17:44.364647Z",
     "start_time": "2019-11-12T01:17:26.223711Z"
    }
   },
   "outputs": [],
   "source": [
    "# Example 2\n",
    "filters = ' WORKFT == 1 and AGE > 16'\n",
    "group = 'full-time, age 16+'\n",
    "calc_type = 'weekly_wage_real'\n",
    "decile = 0.1\n",
    "title = f'First decile real weekly wage, {group}'\n",
    "data = data_retriever(filters, calc_type, decile)\n",
    "labor_mkt_grapher(title, data, 'red')"
   ]
  },
  {
   "cell_type": "code",
   "execution_count": null,
   "metadata": {
    "ExecuteTime": {
     "end_time": "2019-10-10T13:41:33.981458Z",
     "start_time": "2019-10-10T13:41:32.311568Z"
    }
   },
   "outputs": [],
   "source": [
    "# Example 3\n",
    "filters = ' STATE == \"SC\"'\n",
    "group = 'South Carolina'\n",
    "calc_type = 'union'\n",
    "decile = None\n",
    "title = f'Union membership rate, {group}'\n",
    "data = data_retriever(filters, calc_type, decile)\n",
    "labor_mkt_grapher(title, data, 'green')"
   ]
  },
  {
   "cell_type": "code",
   "execution_count": null,
   "metadata": {
    "ExecuteTime": {
     "end_time": "2019-10-10T13:41:37.000754Z",
     "start_time": "2019-10-10T13:41:33.982801Z"
    }
   },
   "outputs": [],
   "source": [
    "# Example 4\n",
    "ind_list = ['Manufacturing', 'Leisure and hospitality']\n",
    "filters = '25 <= AGE <= 54 and INDGRP not in @ind_list'\n",
    "group = 'age 25 to 54'\n",
    "calc_type = 'ptecon'\n",
    "decile = None\n",
    "title = f'Involuntary part-time rate, {group}'\n",
    "data = data_retriever(filters, calc_type, decile)\n",
    "labor_mkt_grapher(title, data, 'blue')"
   ]
  },
  {
   "cell_type": "code",
   "execution_count": null,
   "metadata": {},
   "outputs": [],
   "source": []
  },
  {
   "cell_type": "code",
   "execution_count": null,
   "metadata": {},
   "outputs": [],
   "source": [
    "# Example 2\n",
    "filters = ' WORKFT == 1 and AGE >= 16'\n",
    "group = 'full-time workers age 16+'\n",
    "calc_type = 'weekly_wage_real'\n",
    "decile = 0.5\n",
    "title = f'Median real weekly wage, {group}'\n",
    "data = data_retriever(filters, calc_type, decile)\n",
    "labor_mkt_grapher(title, data, 'blue')"
   ]
  }
 ],
 "metadata": {
  "kernelspec": {
   "display_name": "Python 3",
   "language": "python",
   "name": "python3"
  },
  "language_info": {
   "codemirror_mode": {
    "name": "ipython",
    "version": 3
   },
   "file_extension": ".py",
   "mimetype": "text/x-python",
   "name": "python",
   "nbconvert_exporter": "python",
   "pygments_lexer": "ipython3",
   "version": "3.8.5"
  }
 },
 "nbformat": 4,
 "nbformat_minor": 2
}
