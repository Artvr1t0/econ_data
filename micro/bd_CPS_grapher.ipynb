{
 "cells": [
  {
   "cell_type": "markdown",
   "metadata": {},
   "source": [
    "### bd CPS graph basic labor market indicators\n",
    "\n",
    "bd_CPS_grapher.ipynb\n",
    "\n",
    "September 20, 2018\n",
    "\n",
    "@bd_econ\n",
    "\n",
    "Requires: `cpsYYYY.ft`."
   ]
  },
  {
   "cell_type": "code",
   "execution_count": 27,
   "metadata": {
    "ExecuteTime": {
     "end_time": "2018-09-20T20:43:02.521009Z",
     "start_time": "2018-09-20T20:43:02.504676Z"
    }
   },
   "outputs": [],
   "source": [
    "import os\n",
    "import pandas as pd\n",
    "\n",
    "os.chdir('/home/bdew/Documents/CPS/data/clean/')\n",
    "\n",
    "%matplotlib inline"
   ]
  },
  {
   "cell_type": "code",
   "execution_count": 30,
   "metadata": {
    "ExecuteTime": {
     "end_time": "2018-09-20T20:48:29.323010Z",
     "start_time": "2018-09-20T20:48:27.387114Z"
    },
    "scrolled": true
   },
   "outputs": [
    {
     "name": "stderr",
     "output_type": "stream",
     "text": [
      "/home/bdew/miniconda3/lib/python3.6/site-packages/pandas/io/feather_format.py:112: FutureWarning: `nthreads` argument is deprecated, pass `use_threads` instead\n",
      "  return feather.read_dataframe(path, nthreads=nthreads)\n"
     ]
    },
    {
     "data": {
      "text/plain": [
       "<matplotlib.axes._subplots.AxesSubplot at 0x7fe1d0d7f278>"
      ]
     },
     "execution_count": 30,
     "metadata": {},
     "output_type": "execute_result"
    },
    {
     "data": {
      "image/png": "[encoded data removed]",
      "text/plain": [
       "<Figure size 432x288 with 1 Axes>"
      ]
     },
     "metadata": {
      "needs_background": "light"
     },
     "output_type": "display_data"
    }
   ],
   "source": [
    "pd.concat(\n",
    "[(pd.read_feather(f'cps_{year}.ft', nthreads=3)\n",
    "    .assign()\n",
    "    .groupby('HRMONTH')['PWSSWGT'].sum()\n",
    "    .reset_index()\n",
    "    .assign(DATE=lambda x: pd.to_datetime(f'{year}-' + x.HRMONTH.astype('str') + '-01'))\n",
    "    .set_index('DATE')['PWSSWGT']) for year in range(1994, 2019)]).rolling(12).mean().plot()"
   ]
  },
  {
   "cell_type": "code",
   "execution_count": 48,
   "metadata": {
    "ExecuteTime": {
     "end_time": "2018-09-21T15:52:40.016859Z",
     "start_time": "2018-09-21T15:52:40.010360Z"
    }
   },
   "outputs": [],
   "source": [
    "import numpy as np\n",
    "\n",
    "\n",
    "def divide_two_cols(df_sub):\n",
    "    return df_sub['UNEMP'].sum() / df_sub['LF'].sum()"
   ]
  },
  {
   "cell_type": "code",
   "execution_count": 49,
   "metadata": {
    "ExecuteTime": {
     "end_time": "2018-09-21T15:52:41.790215Z",
     "start_time": "2018-09-21T15:52:41.234443Z"
    }
   },
   "outputs": [
    {
     "name": "stderr",
     "output_type": "stream",
     "text": [
      "/home/bdew/miniconda3/lib/python3.6/site-packages/pandas/io/feather_format.py:112: FutureWarning: `nthreads` argument is deprecated, pass `use_threads` instead\n",
      "  return feather.read_dataframe(path, nthreads=nthreads)\n"
     ]
    }
   ],
   "source": [
    "d = (pd.read_feather(f'cps_2017.ft', nthreads=3)\n",
    "   .assign(UNEMP = lambda x: np.where(x['PREMPNOT']==2, x['PWCMPWGT'], 0))\n",
    "   .assign(LF = lambda x: np.where(x['PREMPNOT'].isin([1, 2]), x['PWCMPWGT'], 0))\n",
    "   .groupby('HRMONTH').apply(divide_two_cols))\n",
    "   #.apply(lambda x: x['UNEMP'] / x['LF']))"
   ]
  },
  {
   "cell_type": "code",
   "execution_count": null,
   "metadata": {},
   "outputs": [],
   "source": [
    "                 un = np.where(df['PREMPNOT']==2, 1, 0)\n",
    "                    lf = np.where(df['PREMPNOT'].isin([1, 2]), 1, 0)\n",
    "                    unrt = (df['PWSSWGT'] * un).sum() / (df['PWSSWGT'] * lf).sum()\n",
    "                    data[pd.to_datetime(f'{year}-{month}-01')] = unrt * 100"
   ]
  }
 ],
 "metadata": {
  "kernelspec": {
   "display_name": "Python 3",
   "language": "python",
   "name": "python3"
  },
  "language_info": {
   "codemirror_mode": {
    "name": "ipython",
    "version": 3
   },
   "file_extension": ".py",
   "mimetype": "text/x-python",
   "name": "python",
   "nbconvert_exporter": "python",
   "pygments_lexer": "ipython3",
   "version": "3.6.6"
  }
 },
 "nbformat": 4,
 "nbformat_minor": 2
}
