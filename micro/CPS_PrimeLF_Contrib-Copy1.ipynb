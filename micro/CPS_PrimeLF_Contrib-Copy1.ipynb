{
 "cells": [
  {
   "cell_type": "markdown",
   "metadata": {},
   "source": [
    "# More challenging calculation"
   ]
  },
  {
   "cell_type": "code",
   "execution_count": 1,
   "metadata": {
    "ExecuteTime": {
     "end_time": "2018-03-05T01:25:15.183293Z",
     "start_time": "2018-03-05T01:25:14.761384Z"
    },
    "code_folding": []
   },
   "outputs": [],
   "source": [
    "# Import preliminaries and connect to CPS database\n",
    "import pandas as pd\n",
    "import numpy as np\n",
    "import itertools\n",
    "\n",
    "%matplotlib inline\n",
    "import matplotlib as mpl\n",
    "import matplotlib.pyplot as plt\n",
    "plt.style.use('seaborn-white')\n",
    "mpl.rc('axes', edgecolor='white') # Hide the axes\n",
    "plt.rc('axes', axisbelow=True)"
   ]
  },
  {
   "cell_type": "code",
   "execution_count": 60,
   "metadata": {
    "ExecuteTime": {
     "end_time": "2018-03-05T02:01:51.285758Z",
     "start_time": "2018-03-05T02:01:20.516999Z"
    },
    "code_folding": []
   },
   "outputs": [],
   "source": [
    "# Demographic master file\n",
    "y = 2001   # Base year\n",
    "df = pd.read_feather(f'data/cps_{y}.ft', nthreads=3)\n",
    "df['age_sex'] = df['PRTAGE'].astype('str') + df['PESEX'].astype('str')\n",
    "#df = df[df['HRMONTH'] == 3]\n",
    "age_sex = (df.groupby('age_sex')['PWSSWGT'].sum() / df['PWSSWGT'].sum()).to_dict()\n",
    "#sex = (df.groupby('PESEX')['PWSSWGT'].sum() / df['PWSSWGT'].sum()).to_dict()\n",
    "\n",
    "d = {}\n",
    "for y in list(range(2000, 2019)):\n",
    "    df = pd.read_feather(f'data/cps_{y}.ft', nthreads=3)\n",
    "    df['age_sex'] = df['PRTAGE'].astype('str') + df['PESEX'].astype('str')\n",
    "    for i, df in df.groupby('HRMONTH'):\n",
    "        d1 = (df.groupby('age_sex')['PWSSWGT'].sum() / df['PWSSWGT'].sum()).to_dict()\n",
    "        d[f'{y}-{i}_age_sex'] = {k: float(age_sex[k])/d1[k] for k in d1.keys() & age_sex}\n",
    "#        d1 = (df.groupby('PESEX')['PWSSWGT'].sum() / df['PWSSWGT'].sum()).to_dict()\n",
    "#        d[f'{y}-{i}_sex'] = {k: float(sex[k])/d1[k] for k in sex}"
   ]
  },
  {
   "cell_type": "code",
   "execution_count": 62,
   "metadata": {
    "ExecuteTime": {
     "end_time": "2018-03-05T02:02:24.350904Z",
     "start_time": "2018-03-05T02:02:24.335277Z"
    },
    "code_folding": []
   },
   "outputs": [],
   "source": [
    "#d"
   ]
  },
  {
   "cell_type": "code",
   "execution_count": 66,
   "metadata": {
    "ExecuteTime": {
     "end_time": "2018-03-05T02:05:40.900018Z",
     "start_time": "2018-03-05T02:05:40.884381Z"
    }
   },
   "outputs": [],
   "source": [
    "# Variables to adjust\n",
    "ser = ['PWSSWGT', 'HRMONTH', 'PRTAGE', 'PESEX', \n",
    "       'PENLFACT', 'PEMLR', 'PEDWWNTO']\n",
    "lfstat = [('Disabled/Ill', [6], 'PEMLR'),\n",
    "          ('Discouraged', [1], 'PEDWWNTO'),          \n",
    "          ('Enrolled in school', [3], 'PENLFACT'),\n",
    "          ('Home/Family', [4], 'PENLFACT'), \n",
    "          ('Retired', [5], 'PEMLR'),\n",
    "          ('LFPR', [1, 2, 3, 4], 'PEMLR')]\n",
    "age = (25, 54)\n",
    "sex = ('Total', [1, 2])"
   ]
  },
  {
   "cell_type": "code",
   "execution_count": 68,
   "metadata": {
    "ExecuteTime": {
     "end_time": "2018-03-05T02:06:33.201504Z",
     "start_time": "2018-03-05T02:06:06.808509Z"
    }
   },
   "outputs": [
    {
     "name": "stderr",
     "output_type": "stream",
     "text": [
      "C:\\Users\\BDew\\Anaconda3\\lib\\site-packages\\ipykernel_launcher.py:9: SettingWithCopyWarning: \n",
      "A value is trying to be set on a copy of a slice from a DataFrame.\n",
      "Try using .loc[row_indexer,col_indexer] = value instead\n",
      "\n",
      "See the caveats in the documentation: http://pandas.pydata.org/pandas-docs/stable/indexing.html#indexing-view-versus-copy\n",
      "  if __name__ == '__main__':\n"
     ]
    }
   ],
   "source": [
    "# Calculate age and sex adjusted values\n",
    "df2 = pd.DataFrame()\n",
    "for year in list(range(2000, 2019)):\n",
    "    file = f'data/cps_{year}.ft'\n",
    "    for i, df in pd.read_feather(file, nthreads=3)[ser].groupby('HRMONTH'):\n",
    "        date = pd.to_datetime(f'{year}-{i}-01')\n",
    "        d_key_age_sex = f'{year}-{i}_age_sex'\n",
    "        dft = df[(df['PRTAGE'].between(25, 54)) & (df['PEMLR'].isin(list(range(1,9))))]\n",
    "        dft['age_sex'] = dft['PRTAGE'].astype('str') + dft['PESEX'].astype('str')\n",
    "        age_sex_adj = dft['age_sex'].map(d[d_key_age_sex])\n",
    "        #d_key_sex = f'{year}-{i}_sex'\n",
    "        #sex_adj = dft['PESEX'].map(d[d_key_sex])\n",
    "        wgt = age_sex_adj * dft['PWSSWGT']\n",
    "        gpop = wgt.sum()\n",
    "        for lf in lfstat[:5]:\n",
    "            gtot = (np.where(dft[lf[2]].isin(lf[1]), 1, 0) * wgt).sum()\n",
    "            df2.at[date, f'{lf[0]}'] = gtot / gpop * 100\n",
    "        lfpr1 = (np.where(dft['PEMLR'].isin(lfstat[-1][1]), 1, 0) * wgt).sum() \n",
    "        lfpr2 = (np.where(dft['PEMLR'].isin(lfstat[-1][1]), 1, 0) * dft['PWSSWGT']).sum() \n",
    "        df2.at[date, 'Age and Sex'] = (lfpr1 - lfpr2) / gpop"
   ]
  },
  {
   "cell_type": "code",
   "execution_count": 69,
   "metadata": {
    "ExecuteTime": {
     "end_time": "2018-03-05T02:06:36.904951Z",
     "start_time": "2018-03-05T02:06:36.873689Z"
    }
   },
   "outputs": [
    {
     "data": {
      "text/html": [
       "<div>\n",
       "<style scoped>\n",
       "    .dataframe tbody tr th:only-of-type {\n",
       "        vertical-align: middle;\n",
       "    }\n",
       "\n",
       "    .dataframe tbody tr th {\n",
       "        vertical-align: top;\n",
       "    }\n",
       "\n",
       "    .dataframe thead th {\n",
       "        text-align: right;\n",
       "    }\n",
       "</style>\n",
       "<table border=\"1\" class=\"dataframe\">\n",
       "  <thead>\n",
       "    <tr style=\"text-align: right;\">\n",
       "      <th></th>\n",
       "      <th>Disabled/Ill</th>\n",
       "      <th>Discouraged</th>\n",
       "      <th>Enrolled in school</th>\n",
       "      <th>Home/Family</th>\n",
       "      <th>Retired</th>\n",
       "      <th>Age and Sex</th>\n",
       "    </tr>\n",
       "  </thead>\n",
       "  <tbody>\n",
       "    <tr>\n",
       "      <th>2000-01-01</th>\n",
       "      <td>3.891001</td>\n",
       "      <td>1.543305</td>\n",
       "      <td>1.026552</td>\n",
       "      <td>8.208181</td>\n",
       "      <td>0.833225</td>\n",
       "      <td>-0.004665</td>\n",
       "    </tr>\n",
       "    <tr>\n",
       "      <th>2000-02-01</th>\n",
       "      <td>3.798124</td>\n",
       "      <td>1.530021</td>\n",
       "      <td>1.021508</td>\n",
       "      <td>8.199785</td>\n",
       "      <td>0.845469</td>\n",
       "      <td>-0.004179</td>\n",
       "    </tr>\n",
       "    <tr>\n",
       "      <th>2000-03-01</th>\n",
       "      <td>3.879627</td>\n",
       "      <td>1.506303</td>\n",
       "      <td>1.053239</td>\n",
       "      <td>8.099769</td>\n",
       "      <td>0.851525</td>\n",
       "      <td>-0.002894</td>\n",
       "    </tr>\n",
       "    <tr>\n",
       "      <th>2000-04-01</th>\n",
       "      <td>3.979092</td>\n",
       "      <td>1.463232</td>\n",
       "      <td>1.003909</td>\n",
       "      <td>8.165392</td>\n",
       "      <td>0.887032</td>\n",
       "      <td>-0.002700</td>\n",
       "    </tr>\n",
       "    <tr>\n",
       "      <th>2000-05-01</th>\n",
       "      <td>4.070537</td>\n",
       "      <td>1.431640</td>\n",
       "      <td>0.987832</td>\n",
       "      <td>8.341715</td>\n",
       "      <td>1.004614</td>\n",
       "      <td>-0.003547</td>\n",
       "    </tr>\n",
       "    <tr>\n",
       "      <th>2000-06-01</th>\n",
       "      <td>3.986164</td>\n",
       "      <td>1.532672</td>\n",
       "      <td>0.906204</td>\n",
       "      <td>8.735859</td>\n",
       "      <td>0.993657</td>\n",
       "      <td>-0.003255</td>\n",
       "    </tr>\n",
       "    <tr>\n",
       "      <th>2000-07-01</th>\n",
       "      <td>4.083798</td>\n",
       "      <td>1.516590</td>\n",
       "      <td>0.819155</td>\n",
       "      <td>8.885766</td>\n",
       "      <td>1.054436</td>\n",
       "      <td>-0.003199</td>\n",
       "    </tr>\n",
       "    <tr>\n",
       "      <th>2000-08-01</th>\n",
       "      <td>4.101961</td>\n",
       "      <td>1.516726</td>\n",
       "      <td>0.758784</td>\n",
       "      <td>8.767033</td>\n",
       "      <td>1.040585</td>\n",
       "      <td>-0.003127</td>\n",
       "    </tr>\n",
       "    <tr>\n",
       "      <th>2000-09-01</th>\n",
       "      <td>4.034038</td>\n",
       "      <td>1.500889</td>\n",
       "      <td>1.085567</td>\n",
       "      <td>8.306196</td>\n",
       "      <td>1.045597</td>\n",
       "      <td>-0.002010</td>\n",
       "    </tr>\n",
       "    <tr>\n",
       "      <th>2000-10-01</th>\n",
       "      <td>4.160694</td>\n",
       "      <td>1.393267</td>\n",
       "      <td>1.055423</td>\n",
       "      <td>8.147784</td>\n",
       "      <td>0.979223</td>\n",
       "      <td>-0.001887</td>\n",
       "    </tr>\n",
       "    <tr>\n",
       "      <th>2000-11-01</th>\n",
       "      <td>4.029469</td>\n",
       "      <td>1.340288</td>\n",
       "      <td>1.102835</td>\n",
       "      <td>8.171197</td>\n",
       "      <td>0.972983</td>\n",
       "      <td>-0.001597</td>\n",
       "    </tr>\n",
       "    <tr>\n",
       "      <th>2000-12-01</th>\n",
       "      <td>3.985583</td>\n",
       "      <td>1.447358</td>\n",
       "      <td>1.027419</td>\n",
       "      <td>8.088877</td>\n",
       "      <td>0.982125</td>\n",
       "      <td>-0.001219</td>\n",
       "    </tr>\n",
       "    <tr>\n",
       "      <th>2001-01-01</th>\n",
       "      <td>3.979496</td>\n",
       "      <td>1.477384</td>\n",
       "      <td>1.127849</td>\n",
       "      <td>7.909232</td>\n",
       "      <td>0.960523</td>\n",
       "      <td>-0.001757</td>\n",
       "    </tr>\n",
       "    <tr>\n",
       "      <th>2001-02-01</th>\n",
       "      <td>3.986079</td>\n",
       "      <td>1.621888</td>\n",
       "      <td>1.148662</td>\n",
       "      <td>8.015751</td>\n",
       "      <td>0.919008</td>\n",
       "      <td>-0.001456</td>\n",
       "    </tr>\n",
       "    <tr>\n",
       "      <th>2001-03-01</th>\n",
       "      <td>3.920174</td>\n",
       "      <td>1.413974</td>\n",
       "      <td>1.078784</td>\n",
       "      <td>8.118026</td>\n",
       "      <td>0.943365</td>\n",
       "      <td>-0.001760</td>\n",
       "    </tr>\n",
       "    <tr>\n",
       "      <th>2001-04-01</th>\n",
       "      <td>4.007145</td>\n",
       "      <td>1.460135</td>\n",
       "      <td>1.089317</td>\n",
       "      <td>8.321333</td>\n",
       "      <td>1.044660</td>\n",
       "      <td>-0.001279</td>\n",
       "    </tr>\n",
       "    <tr>\n",
       "      <th>2001-05-01</th>\n",
       "      <td>4.031313</td>\n",
       "      <td>1.384477</td>\n",
       "      <td>1.028100</td>\n",
       "      <td>8.395091</td>\n",
       "      <td>1.044567</td>\n",
       "      <td>-0.000925</td>\n",
       "    </tr>\n",
       "    <tr>\n",
       "      <th>2001-06-01</th>\n",
       "      <td>4.204821</td>\n",
       "      <td>1.473669</td>\n",
       "      <td>0.916089</td>\n",
       "      <td>8.594030</td>\n",
       "      <td>1.084757</td>\n",
       "      <td>-0.000814</td>\n",
       "    </tr>\n",
       "    <tr>\n",
       "      <th>2001-07-01</th>\n",
       "      <td>4.214841</td>\n",
       "      <td>1.523616</td>\n",
       "      <td>0.907230</td>\n",
       "      <td>8.692343</td>\n",
       "      <td>1.140108</td>\n",
       "      <td>-0.000615</td>\n",
       "    </tr>\n",
       "    <tr>\n",
       "      <th>2001-08-01</th>\n",
       "      <td>4.217473</td>\n",
       "      <td>1.763685</td>\n",
       "      <td>0.919668</td>\n",
       "      <td>8.718761</td>\n",
       "      <td>1.077214</td>\n",
       "      <td>-0.000277</td>\n",
       "    </tr>\n",
       "    <tr>\n",
       "      <th>2001-09-01</th>\n",
       "      <td>4.246387</td>\n",
       "      <td>1.442564</td>\n",
       "      <td>1.134492</td>\n",
       "      <td>8.331100</td>\n",
       "      <td>1.029217</td>\n",
       "      <td>0.000641</td>\n",
       "    </tr>\n",
       "    <tr>\n",
       "      <th>2001-10-01</th>\n",
       "      <td>4.198399</td>\n",
       "      <td>1.460327</td>\n",
       "      <td>1.110977</td>\n",
       "      <td>8.152392</td>\n",
       "      <td>1.013142</td>\n",
       "      <td>0.001255</td>\n",
       "    </tr>\n",
       "    <tr>\n",
       "      <th>2001-11-01</th>\n",
       "      <td>4.222794</td>\n",
       "      <td>1.481190</td>\n",
       "      <td>1.107907</td>\n",
       "      <td>8.183118</td>\n",
       "      <td>0.987396</td>\n",
       "      <td>0.002935</td>\n",
       "    </tr>\n",
       "    <tr>\n",
       "      <th>2001-12-01</th>\n",
       "      <td>4.224990</td>\n",
       "      <td>1.458383</td>\n",
       "      <td>1.096438</td>\n",
       "      <td>8.051843</td>\n",
       "      <td>1.019545</td>\n",
       "      <td>0.004097</td>\n",
       "    </tr>\n",
       "    <tr>\n",
       "      <th>2002-01-01</th>\n",
       "      <td>4.297029</td>\n",
       "      <td>1.718526</td>\n",
       "      <td>1.196238</td>\n",
       "      <td>8.191858</td>\n",
       "      <td>1.015658</td>\n",
       "      <td>0.004727</td>\n",
       "    </tr>\n",
       "    <tr>\n",
       "      <th>2002-02-01</th>\n",
       "      <td>4.182654</td>\n",
       "      <td>1.414399</td>\n",
       "      <td>1.155524</td>\n",
       "      <td>8.239909</td>\n",
       "      <td>0.959592</td>\n",
       "      <td>0.005807</td>\n",
       "    </tr>\n",
       "    <tr>\n",
       "      <th>2002-03-01</th>\n",
       "      <td>4.134244</td>\n",
       "      <td>1.513417</td>\n",
       "      <td>1.084436</td>\n",
       "      <td>8.303227</td>\n",
       "      <td>1.031495</td>\n",
       "      <td>0.005711</td>\n",
       "    </tr>\n",
       "    <tr>\n",
       "      <th>2002-04-01</th>\n",
       "      <td>4.192543</td>\n",
       "      <td>1.484878</td>\n",
       "      <td>1.189540</td>\n",
       "      <td>8.344467</td>\n",
       "      <td>1.095121</td>\n",
       "      <td>0.006337</td>\n",
       "    </tr>\n",
       "    <tr>\n",
       "      <th>2002-05-01</th>\n",
       "      <td>4.099852</td>\n",
       "      <td>1.518034</td>\n",
       "      <td>1.041914</td>\n",
       "      <td>8.556169</td>\n",
       "      <td>1.101405</td>\n",
       "      <td>0.006907</td>\n",
       "    </tr>\n",
       "    <tr>\n",
       "      <th>2002-06-01</th>\n",
       "      <td>4.265152</td>\n",
       "      <td>1.523319</td>\n",
       "      <td>0.943106</td>\n",
       "      <td>8.764503</td>\n",
       "      <td>1.187647</td>\n",
       "      <td>0.006728</td>\n",
       "    </tr>\n",
       "    <tr>\n",
       "      <th>...</th>\n",
       "      <td>...</td>\n",
       "      <td>...</td>\n",
       "      <td>...</td>\n",
       "      <td>...</td>\n",
       "      <td>...</td>\n",
       "      <td>...</td>\n",
       "    </tr>\n",
       "    <tr>\n",
       "      <th>2015-08-01</th>\n",
       "      <td>5.090802</td>\n",
       "      <td>1.821302</td>\n",
       "      <td>1.468051</td>\n",
       "      <td>9.437981</td>\n",
       "      <td>1.290538</td>\n",
       "      <td>0.096993</td>\n",
       "    </tr>\n",
       "    <tr>\n",
       "      <th>2015-09-01</th>\n",
       "      <td>5.112681</td>\n",
       "      <td>1.826559</td>\n",
       "      <td>1.580842</td>\n",
       "      <td>9.102996</td>\n",
       "      <td>1.310166</td>\n",
       "      <td>0.097990</td>\n",
       "    </tr>\n",
       "    <tr>\n",
       "      <th>2015-10-01</th>\n",
       "      <td>5.022707</td>\n",
       "      <td>1.820177</td>\n",
       "      <td>1.537518</td>\n",
       "      <td>8.944682</td>\n",
       "      <td>1.231762</td>\n",
       "      <td>0.098545</td>\n",
       "    </tr>\n",
       "    <tr>\n",
       "      <th>2015-11-01</th>\n",
       "      <td>5.074421</td>\n",
       "      <td>1.785950</td>\n",
       "      <td>1.538634</td>\n",
       "      <td>8.873876</td>\n",
       "      <td>1.253774</td>\n",
       "      <td>0.098530</td>\n",
       "    </tr>\n",
       "    <tr>\n",
       "      <th>2015-12-01</th>\n",
       "      <td>4.936478</td>\n",
       "      <td>1.822758</td>\n",
       "      <td>1.577305</td>\n",
       "      <td>9.128145</td>\n",
       "      <td>1.239229</td>\n",
       "      <td>0.099505</td>\n",
       "    </tr>\n",
       "    <tr>\n",
       "      <th>2016-01-01</th>\n",
       "      <td>4.948265</td>\n",
       "      <td>1.877574</td>\n",
       "      <td>1.632079</td>\n",
       "      <td>9.025293</td>\n",
       "      <td>1.163916</td>\n",
       "      <td>0.098999</td>\n",
       "    </tr>\n",
       "    <tr>\n",
       "      <th>2016-02-01</th>\n",
       "      <td>4.901847</td>\n",
       "      <td>1.868263</td>\n",
       "      <td>1.625719</td>\n",
       "      <td>8.913037</td>\n",
       "      <td>1.184630</td>\n",
       "      <td>0.099324</td>\n",
       "    </tr>\n",
       "    <tr>\n",
       "      <th>2016-03-01</th>\n",
       "      <td>4.880253</td>\n",
       "      <td>1.651194</td>\n",
       "      <td>1.715078</td>\n",
       "      <td>8.686481</td>\n",
       "      <td>1.145653</td>\n",
       "      <td>0.100594</td>\n",
       "    </tr>\n",
       "    <tr>\n",
       "      <th>2016-04-01</th>\n",
       "      <td>4.987720</td>\n",
       "      <td>1.678244</td>\n",
       "      <td>1.775335</td>\n",
       "      <td>8.634418</td>\n",
       "      <td>1.127093</td>\n",
       "      <td>0.100594</td>\n",
       "    </tr>\n",
       "    <tr>\n",
       "      <th>2016-05-01</th>\n",
       "      <td>5.004604</td>\n",
       "      <td>1.754484</td>\n",
       "      <td>1.713569</td>\n",
       "      <td>8.666438</td>\n",
       "      <td>1.253810</td>\n",
       "      <td>0.100653</td>\n",
       "    </tr>\n",
       "    <tr>\n",
       "      <th>2016-06-01</th>\n",
       "      <td>4.874009</td>\n",
       "      <td>1.662725</td>\n",
       "      <td>1.433066</td>\n",
       "      <td>9.019000</td>\n",
       "      <td>1.331690</td>\n",
       "      <td>0.100913</td>\n",
       "    </tr>\n",
       "    <tr>\n",
       "      <th>2016-07-01</th>\n",
       "      <td>4.825288</td>\n",
       "      <td>1.948154</td>\n",
       "      <td>1.302529</td>\n",
       "      <td>9.120996</td>\n",
       "      <td>1.341137</td>\n",
       "      <td>0.101087</td>\n",
       "    </tr>\n",
       "    <tr>\n",
       "      <th>2016-08-01</th>\n",
       "      <td>4.891125</td>\n",
       "      <td>1.746565</td>\n",
       "      <td>1.473889</td>\n",
       "      <td>9.044536</td>\n",
       "      <td>1.295963</td>\n",
       "      <td>0.101489</td>\n",
       "    </tr>\n",
       "    <tr>\n",
       "      <th>2016-09-01</th>\n",
       "      <td>4.887691</td>\n",
       "      <td>1.760989</td>\n",
       "      <td>1.465502</td>\n",
       "      <td>8.721711</td>\n",
       "      <td>1.188281</td>\n",
       "      <td>0.102877</td>\n",
       "    </tr>\n",
       "    <tr>\n",
       "      <th>2016-10-01</th>\n",
       "      <td>4.841806</td>\n",
       "      <td>1.792450</td>\n",
       "      <td>1.520009</td>\n",
       "      <td>8.641114</td>\n",
       "      <td>1.107051</td>\n",
       "      <td>0.103172</td>\n",
       "    </tr>\n",
       "    <tr>\n",
       "      <th>2016-11-01</th>\n",
       "      <td>4.975469</td>\n",
       "      <td>1.772904</td>\n",
       "      <td>1.488727</td>\n",
       "      <td>8.719644</td>\n",
       "      <td>1.139632</td>\n",
       "      <td>0.103453</td>\n",
       "    </tr>\n",
       "    <tr>\n",
       "      <th>2016-12-01</th>\n",
       "      <td>4.809526</td>\n",
       "      <td>1.723465</td>\n",
       "      <td>1.548588</td>\n",
       "      <td>8.822724</td>\n",
       "      <td>1.212828</td>\n",
       "      <td>0.103563</td>\n",
       "    </tr>\n",
       "    <tr>\n",
       "      <th>2017-01-01</th>\n",
       "      <td>4.792592</td>\n",
       "      <td>1.802913</td>\n",
       "      <td>1.352364</td>\n",
       "      <td>8.841825</td>\n",
       "      <td>1.295341</td>\n",
       "      <td>0.103892</td>\n",
       "    </tr>\n",
       "    <tr>\n",
       "      <th>2017-02-01</th>\n",
       "      <td>4.875017</td>\n",
       "      <td>1.690862</td>\n",
       "      <td>1.500837</td>\n",
       "      <td>8.564013</td>\n",
       "      <td>1.255181</td>\n",
       "      <td>0.104183</td>\n",
       "    </tr>\n",
       "    <tr>\n",
       "      <th>2017-03-01</th>\n",
       "      <td>4.821634</td>\n",
       "      <td>1.605883</td>\n",
       "      <td>1.540130</td>\n",
       "      <td>8.598492</td>\n",
       "      <td>1.319082</td>\n",
       "      <td>0.104485</td>\n",
       "    </tr>\n",
       "    <tr>\n",
       "      <th>2017-04-01</th>\n",
       "      <td>4.904537</td>\n",
       "      <td>1.664671</td>\n",
       "      <td>1.588021</td>\n",
       "      <td>8.612910</td>\n",
       "      <td>1.268239</td>\n",
       "      <td>0.104907</td>\n",
       "    </tr>\n",
       "    <tr>\n",
       "      <th>2017-05-01</th>\n",
       "      <td>4.812698</td>\n",
       "      <td>1.538910</td>\n",
       "      <td>1.545428</td>\n",
       "      <td>8.418917</td>\n",
       "      <td>1.281100</td>\n",
       "      <td>0.105421</td>\n",
       "    </tr>\n",
       "    <tr>\n",
       "      <th>2017-06-01</th>\n",
       "      <td>4.868455</td>\n",
       "      <td>1.574297</td>\n",
       "      <td>1.385798</td>\n",
       "      <td>8.737790</td>\n",
       "      <td>1.296098</td>\n",
       "      <td>0.105718</td>\n",
       "    </tr>\n",
       "    <tr>\n",
       "      <th>2017-07-01</th>\n",
       "      <td>4.870837</td>\n",
       "      <td>1.649438</td>\n",
       "      <td>1.312323</td>\n",
       "      <td>8.692976</td>\n",
       "      <td>1.280340</td>\n",
       "      <td>0.105688</td>\n",
       "    </tr>\n",
       "    <tr>\n",
       "      <th>2017-08-01</th>\n",
       "      <td>4.928633</td>\n",
       "      <td>1.784168</td>\n",
       "      <td>1.447674</td>\n",
       "      <td>8.781962</td>\n",
       "      <td>1.279099</td>\n",
       "      <td>0.105903</td>\n",
       "    </tr>\n",
       "    <tr>\n",
       "      <th>2017-09-01</th>\n",
       "      <td>4.936433</td>\n",
       "      <td>1.596623</td>\n",
       "      <td>1.369746</td>\n",
       "      <td>8.484243</td>\n",
       "      <td>1.242528</td>\n",
       "      <td>0.107280</td>\n",
       "    </tr>\n",
       "    <tr>\n",
       "      <th>2017-10-01</th>\n",
       "      <td>4.877931</td>\n",
       "      <td>1.553424</td>\n",
       "      <td>1.477111</td>\n",
       "      <td>8.663522</td>\n",
       "      <td>1.328852</td>\n",
       "      <td>0.107209</td>\n",
       "    </tr>\n",
       "    <tr>\n",
       "      <th>2017-11-01</th>\n",
       "      <td>4.777375</td>\n",
       "      <td>1.541429</td>\n",
       "      <td>1.589640</td>\n",
       "      <td>8.418927</td>\n",
       "      <td>1.318343</td>\n",
       "      <td>0.107898</td>\n",
       "    </tr>\n",
       "    <tr>\n",
       "      <th>2017-12-01</th>\n",
       "      <td>4.724520</td>\n",
       "      <td>1.528662</td>\n",
       "      <td>1.597211</td>\n",
       "      <td>8.584262</td>\n",
       "      <td>1.326358</td>\n",
       "      <td>0.107908</td>\n",
       "    </tr>\n",
       "    <tr>\n",
       "      <th>2018-01-01</th>\n",
       "      <td>4.667936</td>\n",
       "      <td>1.707193</td>\n",
       "      <td>1.587453</td>\n",
       "      <td>8.677094</td>\n",
       "      <td>1.399116</td>\n",
       "      <td>0.107727</td>\n",
       "    </tr>\n",
       "  </tbody>\n",
       "</table>\n",
       "<p>217 rows × 6 columns</p>\n",
       "</div>"
      ],
      "text/plain": [
       "            Disabled/Ill  Discouraged  Enrolled in school  Home/Family  \\\n",
       "2000-01-01      3.891001     1.543305            1.026552     8.208181   \n",
       "2000-02-01      3.798124     1.530021            1.021508     8.199785   \n",
       "2000-03-01      3.879627     1.506303            1.053239     8.099769   \n",
       "2000-04-01      3.979092     1.463232            1.003909     8.165392   \n",
       "2000-05-01      4.070537     1.431640            0.987832     8.341715   \n",
       "2000-06-01      3.986164     1.532672            0.906204     8.735859   \n",
       "2000-07-01      4.083798     1.516590            0.819155     8.885766   \n",
       "2000-08-01      4.101961     1.516726            0.758784     8.767033   \n",
       "2000-09-01      4.034038     1.500889            1.085567     8.306196   \n",
       "2000-10-01      4.160694     1.393267            1.055423     8.147784   \n",
       "2000-11-01      4.029469     1.340288            1.102835     8.171197   \n",
       "2000-12-01      3.985583     1.447358            1.027419     8.088877   \n",
       "2001-01-01      3.979496     1.477384            1.127849     7.909232   \n",
       "2001-02-01      3.986079     1.621888            1.148662     8.015751   \n",
       "2001-03-01      3.920174     1.413974            1.078784     8.118026   \n",
       "2001-04-01      4.007145     1.460135            1.089317     8.321333   \n",
       "2001-05-01      4.031313     1.384477            1.028100     8.395091   \n",
       "2001-06-01      4.204821     1.473669            0.916089     8.594030   \n",
       "2001-07-01      4.214841     1.523616            0.907230     8.692343   \n",
       "2001-08-01      4.217473     1.763685            0.919668     8.718761   \n",
       "2001-09-01      4.246387     1.442564            1.134492     8.331100   \n",
       "2001-10-01      4.198399     1.460327            1.110977     8.152392   \n",
       "2001-11-01      4.222794     1.481190            1.107907     8.183118   \n",
       "2001-12-01      4.224990     1.458383            1.096438     8.051843   \n",
       "2002-01-01      4.297029     1.718526            1.196238     8.191858   \n",
       "2002-02-01      4.182654     1.414399            1.155524     8.239909   \n",
       "2002-03-01      4.134244     1.513417            1.084436     8.303227   \n",
       "2002-04-01      4.192543     1.484878            1.189540     8.344467   \n",
       "2002-05-01      4.099852     1.518034            1.041914     8.556169   \n",
       "2002-06-01      4.265152     1.523319            0.943106     8.764503   \n",
       "...                  ...          ...                 ...          ...   \n",
       "2015-08-01      5.090802     1.821302            1.468051     9.437981   \n",
       "2015-09-01      5.112681     1.826559            1.580842     9.102996   \n",
       "2015-10-01      5.022707     1.820177            1.537518     8.944682   \n",
       "2015-11-01      5.074421     1.785950            1.538634     8.873876   \n",
       "2015-12-01      4.936478     1.822758            1.577305     9.128145   \n",
       "2016-01-01      4.948265     1.877574            1.632079     9.025293   \n",
       "2016-02-01      4.901847     1.868263            1.625719     8.913037   \n",
       "2016-03-01      4.880253     1.651194            1.715078     8.686481   \n",
       "2016-04-01      4.987720     1.678244            1.775335     8.634418   \n",
       "2016-05-01      5.004604     1.754484            1.713569     8.666438   \n",
       "2016-06-01      4.874009     1.662725            1.433066     9.019000   \n",
       "2016-07-01      4.825288     1.948154            1.302529     9.120996   \n",
       "2016-08-01      4.891125     1.746565            1.473889     9.044536   \n",
       "2016-09-01      4.887691     1.760989            1.465502     8.721711   \n",
       "2016-10-01      4.841806     1.792450            1.520009     8.641114   \n",
       "2016-11-01      4.975469     1.772904            1.488727     8.719644   \n",
       "2016-12-01      4.809526     1.723465            1.548588     8.822724   \n",
       "2017-01-01      4.792592     1.802913            1.352364     8.841825   \n",
       "2017-02-01      4.875017     1.690862            1.500837     8.564013   \n",
       "2017-03-01      4.821634     1.605883            1.540130     8.598492   \n",
       "2017-04-01      4.904537     1.664671            1.588021     8.612910   \n",
       "2017-05-01      4.812698     1.538910            1.545428     8.418917   \n",
       "2017-06-01      4.868455     1.574297            1.385798     8.737790   \n",
       "2017-07-01      4.870837     1.649438            1.312323     8.692976   \n",
       "2017-08-01      4.928633     1.784168            1.447674     8.781962   \n",
       "2017-09-01      4.936433     1.596623            1.369746     8.484243   \n",
       "2017-10-01      4.877931     1.553424            1.477111     8.663522   \n",
       "2017-11-01      4.777375     1.541429            1.589640     8.418927   \n",
       "2017-12-01      4.724520     1.528662            1.597211     8.584262   \n",
       "2018-01-01      4.667936     1.707193            1.587453     8.677094   \n",
       "\n",
       "             Retired  Age and Sex  \n",
       "2000-01-01  0.833225    -0.004665  \n",
       "2000-02-01  0.845469    -0.004179  \n",
       "2000-03-01  0.851525    -0.002894  \n",
       "2000-04-01  0.887032    -0.002700  \n",
       "2000-05-01  1.004614    -0.003547  \n",
       "2000-06-01  0.993657    -0.003255  \n",
       "2000-07-01  1.054436    -0.003199  \n",
       "2000-08-01  1.040585    -0.003127  \n",
       "2000-09-01  1.045597    -0.002010  \n",
       "2000-10-01  0.979223    -0.001887  \n",
       "2000-11-01  0.972983    -0.001597  \n",
       "2000-12-01  0.982125    -0.001219  \n",
       "2001-01-01  0.960523    -0.001757  \n",
       "2001-02-01  0.919008    -0.001456  \n",
       "2001-03-01  0.943365    -0.001760  \n",
       "2001-04-01  1.044660    -0.001279  \n",
       "2001-05-01  1.044567    -0.000925  \n",
       "2001-06-01  1.084757    -0.000814  \n",
       "2001-07-01  1.140108    -0.000615  \n",
       "2001-08-01  1.077214    -0.000277  \n",
       "2001-09-01  1.029217     0.000641  \n",
       "2001-10-01  1.013142     0.001255  \n",
       "2001-11-01  0.987396     0.002935  \n",
       "2001-12-01  1.019545     0.004097  \n",
       "2002-01-01  1.015658     0.004727  \n",
       "2002-02-01  0.959592     0.005807  \n",
       "2002-03-01  1.031495     0.005711  \n",
       "2002-04-01  1.095121     0.006337  \n",
       "2002-05-01  1.101405     0.006907  \n",
       "2002-06-01  1.187647     0.006728  \n",
       "...              ...          ...  \n",
       "2015-08-01  1.290538     0.096993  \n",
       "2015-09-01  1.310166     0.097990  \n",
       "2015-10-01  1.231762     0.098545  \n",
       "2015-11-01  1.253774     0.098530  \n",
       "2015-12-01  1.239229     0.099505  \n",
       "2016-01-01  1.163916     0.098999  \n",
       "2016-02-01  1.184630     0.099324  \n",
       "2016-03-01  1.145653     0.100594  \n",
       "2016-04-01  1.127093     0.100594  \n",
       "2016-05-01  1.253810     0.100653  \n",
       "2016-06-01  1.331690     0.100913  \n",
       "2016-07-01  1.341137     0.101087  \n",
       "2016-08-01  1.295963     0.101489  \n",
       "2016-09-01  1.188281     0.102877  \n",
       "2016-10-01  1.107051     0.103172  \n",
       "2016-11-01  1.139632     0.103453  \n",
       "2016-12-01  1.212828     0.103563  \n",
       "2017-01-01  1.295341     0.103892  \n",
       "2017-02-01  1.255181     0.104183  \n",
       "2017-03-01  1.319082     0.104485  \n",
       "2017-04-01  1.268239     0.104907  \n",
       "2017-05-01  1.281100     0.105421  \n",
       "2017-06-01  1.296098     0.105718  \n",
       "2017-07-01  1.280340     0.105688  \n",
       "2017-08-01  1.279099     0.105903  \n",
       "2017-09-01  1.242528     0.107280  \n",
       "2017-10-01  1.328852     0.107209  \n",
       "2017-11-01  1.318343     0.107898  \n",
       "2017-12-01  1.326358     0.107908  \n",
       "2018-01-01  1.399116     0.107727  \n",
       "\n",
       "[217 rows x 6 columns]"
      ]
     },
     "execution_count": 69,
     "metadata": {},
     "output_type": "execute_result"
    }
   ],
   "source": [
    "df2"
   ]
  },
  {
   "cell_type": "code",
   "execution_count": 70,
   "metadata": {
    "ExecuteTime": {
     "end_time": "2018-03-05T02:06:43.061910Z",
     "start_time": "2018-03-05T02:06:42.561882Z"
    },
    "scrolled": false
   },
   "outputs": [
    {
     "data": {
      "image/png": "[encoded data removed]",
      "text/plain": [
       "<matplotlib.figure.Figure at 0x1eb9c3cf080>"
      ]
     },
     "metadata": {},
     "output_type": "display_data"
    }
   ],
   "source": [
    "# Plot results\n",
    "data2 = (df2.rolling(12).mean().loc['2001-03-01'] - df2.rolling(12).mean()).dropna()[3:]\n",
    "title = (f'Contributions to change in group labor force participation since 2001,'\n",
    "         f' {sex[0].lower()}, age {age[0]}-{age[1]}')\n",
    "ax = data2.plot(figsize=(6, 6), title=title)\n",
    "# Recession start and end months, from NBER\n",
    "rec_dt = [('2001-04-01', '2001-12-01'), ('2008-01-01', '2009-07-01')]\n",
    "for i, v in rec_dt:\n",
    "    ax = plt.axvspan(i, v, fill=True, linewidth=0, color='gray', alpha=0.15)  \n",
    "ax = plt.axhline(y=0, color='lightgray', zorder=1)\n",
    "ax = plt.xlabel(\"In percentage points, 12 month moving average. Source: Current Population Survey, author's calculations\")\n",
    "plt.savefig(f'{sex[0]}{age[0]}{age[1]}.png', bbox_inches='tight', dpi=200)"
   ]
  },
  {
   "cell_type": "code",
   "execution_count": null,
   "metadata": {},
   "outputs": [],
   "source": []
  },
  {
   "cell_type": "code",
   "execution_count": null,
   "metadata": {},
   "outputs": [],
   "source": []
  },
  {
   "cell_type": "code",
   "execution_count": null,
   "metadata": {},
   "outputs": [],
   "source": []
  },
  {
   "cell_type": "code",
   "execution_count": null,
   "metadata": {},
   "outputs": [],
   "source": []
  },
  {
   "cell_type": "code",
   "execution_count": null,
   "metadata": {
    "ExecuteTime": {
     "end_time": "2018-03-05T00:38:29.054560Z",
     "start_time": "2018-03-05T00:38:23.132140Z"
    }
   },
   "outputs": [],
   "source": []
  },
  {
   "cell_type": "code",
   "execution_count": 43,
   "metadata": {
    "ExecuteTime": {
     "end_time": "2018-03-05T01:51:02.195020Z",
     "start_time": "2018-03-05T01:51:02.163767Z"
    }
   },
   "outputs": [
    {
     "data": {
      "text/html": [
       "<div>\n",
       "<style scoped>\n",
       "    .dataframe tbody tr th:only-of-type {\n",
       "        vertical-align: middle;\n",
       "    }\n",
       "\n",
       "    .dataframe tbody tr th {\n",
       "        vertical-align: top;\n",
       "    }\n",
       "\n",
       "    .dataframe thead th {\n",
       "        text-align: right;\n",
       "    }\n",
       "</style>\n",
       "<table border=\"1\" class=\"dataframe\">\n",
       "  <thead>\n",
       "    <tr style=\"text-align: right;\">\n",
       "      <th></th>\n",
       "      <th>Disabled/Ill</th>\n",
       "      <th>Discouraged</th>\n",
       "      <th>Enrolled in school</th>\n",
       "      <th>Home/Family</th>\n",
       "      <th>Retired</th>\n",
       "      <th>Age and Sex</th>\n",
       "    </tr>\n",
       "  </thead>\n",
       "  <tbody>\n",
       "    <tr>\n",
       "      <th>2000-01-01</th>\n",
       "      <td>3.891320</td>\n",
       "      <td>1.543754</td>\n",
       "      <td>1.027678</td>\n",
       "      <td>8.216645</td>\n",
       "      <td>0.832518</td>\n",
       "      <td>-0.004745</td>\n",
       "    </tr>\n",
       "    <tr>\n",
       "      <th>2000-02-01</th>\n",
       "      <td>3.794340</td>\n",
       "      <td>1.531764</td>\n",
       "      <td>1.020566</td>\n",
       "      <td>8.209241</td>\n",
       "      <td>0.846031</td>\n",
       "      <td>-0.004267</td>\n",
       "    </tr>\n",
       "    <tr>\n",
       "      <th>2000-03-01</th>\n",
       "      <td>3.877747</td>\n",
       "      <td>1.505515</td>\n",
       "      <td>1.051555</td>\n",
       "      <td>8.106062</td>\n",
       "      <td>0.850973</td>\n",
       "      <td>-0.002889</td>\n",
       "    </tr>\n",
       "    <tr>\n",
       "      <th>2000-04-01</th>\n",
       "      <td>3.980709</td>\n",
       "      <td>1.461815</td>\n",
       "      <td>1.004017</td>\n",
       "      <td>8.163613</td>\n",
       "      <td>0.887585</td>\n",
       "      <td>-0.002681</td>\n",
       "    </tr>\n",
       "    <tr>\n",
       "      <th>2000-05-01</th>\n",
       "      <td>4.070026</td>\n",
       "      <td>1.433192</td>\n",
       "      <td>0.986225</td>\n",
       "      <td>8.340750</td>\n",
       "      <td>1.006517</td>\n",
       "      <td>-0.003537</td>\n",
       "    </tr>\n",
       "    <tr>\n",
       "      <th>2000-06-01</th>\n",
       "      <td>3.988279</td>\n",
       "      <td>1.529771</td>\n",
       "      <td>0.905421</td>\n",
       "      <td>8.735484</td>\n",
       "      <td>0.994449</td>\n",
       "      <td>-0.003235</td>\n",
       "    </tr>\n",
       "    <tr>\n",
       "      <th>2000-07-01</th>\n",
       "      <td>4.083278</td>\n",
       "      <td>1.514782</td>\n",
       "      <td>0.817059</td>\n",
       "      <td>8.890876</td>\n",
       "      <td>1.053917</td>\n",
       "      <td>-0.003200</td>\n",
       "    </tr>\n",
       "    <tr>\n",
       "      <th>2000-08-01</th>\n",
       "      <td>4.102713</td>\n",
       "      <td>1.517470</td>\n",
       "      <td>0.758498</td>\n",
       "      <td>8.767020</td>\n",
       "      <td>1.042346</td>\n",
       "      <td>-0.003125</td>\n",
       "    </tr>\n",
       "    <tr>\n",
       "      <th>2000-09-01</th>\n",
       "      <td>4.033979</td>\n",
       "      <td>1.502435</td>\n",
       "      <td>1.085537</td>\n",
       "      <td>8.303217</td>\n",
       "      <td>1.046290</td>\n",
       "      <td>-0.001987</td>\n",
       "    </tr>\n",
       "    <tr>\n",
       "      <th>2000-10-01</th>\n",
       "      <td>4.160235</td>\n",
       "      <td>1.393019</td>\n",
       "      <td>1.054783</td>\n",
       "      <td>8.153409</td>\n",
       "      <td>0.979309</td>\n",
       "      <td>-0.001910</td>\n",
       "    </tr>\n",
       "    <tr>\n",
       "      <th>2000-11-01</th>\n",
       "      <td>4.029525</td>\n",
       "      <td>1.341377</td>\n",
       "      <td>1.102487</td>\n",
       "      <td>8.177407</td>\n",
       "      <td>0.973382</td>\n",
       "      <td>-0.001640</td>\n",
       "    </tr>\n",
       "    <tr>\n",
       "      <th>2000-12-01</th>\n",
       "      <td>3.983008</td>\n",
       "      <td>1.446638</td>\n",
       "      <td>1.025886</td>\n",
       "      <td>8.091352</td>\n",
       "      <td>0.982105</td>\n",
       "      <td>-0.001174</td>\n",
       "    </tr>\n",
       "    <tr>\n",
       "      <th>2001-01-01</th>\n",
       "      <td>3.979032</td>\n",
       "      <td>1.477555</td>\n",
       "      <td>1.127152</td>\n",
       "      <td>7.915071</td>\n",
       "      <td>0.958865</td>\n",
       "      <td>-0.001764</td>\n",
       "    </tr>\n",
       "    <tr>\n",
       "      <th>2001-02-01</th>\n",
       "      <td>3.985145</td>\n",
       "      <td>1.621807</td>\n",
       "      <td>1.148715</td>\n",
       "      <td>8.021779</td>\n",
       "      <td>0.918039</td>\n",
       "      <td>-0.001487</td>\n",
       "    </tr>\n",
       "    <tr>\n",
       "      <th>2001-03-01</th>\n",
       "      <td>3.917613</td>\n",
       "      <td>1.415248</td>\n",
       "      <td>1.077945</td>\n",
       "      <td>8.114971</td>\n",
       "      <td>0.942971</td>\n",
       "      <td>-0.001704</td>\n",
       "    </tr>\n",
       "    <tr>\n",
       "      <th>2001-04-01</th>\n",
       "      <td>4.007077</td>\n",
       "      <td>1.458906</td>\n",
       "      <td>1.089768</td>\n",
       "      <td>8.321431</td>\n",
       "      <td>1.044675</td>\n",
       "      <td>-0.001268</td>\n",
       "    </tr>\n",
       "    <tr>\n",
       "      <th>2001-05-01</th>\n",
       "      <td>4.032030</td>\n",
       "      <td>1.384599</td>\n",
       "      <td>1.027269</td>\n",
       "      <td>8.392345</td>\n",
       "      <td>1.045152</td>\n",
       "      <td>-0.000907</td>\n",
       "    </tr>\n",
       "    <tr>\n",
       "      <th>2001-06-01</th>\n",
       "      <td>4.206460</td>\n",
       "      <td>1.473001</td>\n",
       "      <td>0.915074</td>\n",
       "      <td>8.595976</td>\n",
       "      <td>1.085619</td>\n",
       "      <td>-0.000842</td>\n",
       "    </tr>\n",
       "    <tr>\n",
       "      <th>2001-07-01</th>\n",
       "      <td>4.212089</td>\n",
       "      <td>1.523655</td>\n",
       "      <td>0.907276</td>\n",
       "      <td>8.688515</td>\n",
       "      <td>1.137931</td>\n",
       "      <td>-0.000533</td>\n",
       "    </tr>\n",
       "    <tr>\n",
       "      <th>2001-08-01</th>\n",
       "      <td>4.217665</td>\n",
       "      <td>1.762916</td>\n",
       "      <td>0.919879</td>\n",
       "      <td>8.716763</td>\n",
       "      <td>1.075267</td>\n",
       "      <td>-0.000241</td>\n",
       "    </tr>\n",
       "    <tr>\n",
       "      <th>2001-09-01</th>\n",
       "      <td>4.248865</td>\n",
       "      <td>1.442311</td>\n",
       "      <td>1.134794</td>\n",
       "      <td>8.327728</td>\n",
       "      <td>1.029423</td>\n",
       "      <td>0.000649</td>\n",
       "    </tr>\n",
       "    <tr>\n",
       "      <th>2001-10-01</th>\n",
       "      <td>4.201150</td>\n",
       "      <td>1.462626</td>\n",
       "      <td>1.112598</td>\n",
       "      <td>8.140074</td>\n",
       "      <td>1.013300</td>\n",
       "      <td>0.001304</td>\n",
       "    </tr>\n",
       "    <tr>\n",
       "      <th>2001-11-01</th>\n",
       "      <td>4.224960</td>\n",
       "      <td>1.482891</td>\n",
       "      <td>1.106920</td>\n",
       "      <td>8.183470</td>\n",
       "      <td>0.987271</td>\n",
       "      <td>0.002905</td>\n",
       "    </tr>\n",
       "    <tr>\n",
       "      <th>2001-12-01</th>\n",
       "      <td>4.224942</td>\n",
       "      <td>1.458553</td>\n",
       "      <td>1.096745</td>\n",
       "      <td>8.047194</td>\n",
       "      <td>1.020786</td>\n",
       "      <td>0.004129</td>\n",
       "    </tr>\n",
       "    <tr>\n",
       "      <th>2002-01-01</th>\n",
       "      <td>4.299193</td>\n",
       "      <td>1.716397</td>\n",
       "      <td>1.195428</td>\n",
       "      <td>8.193761</td>\n",
       "      <td>1.017412</td>\n",
       "      <td>0.004680</td>\n",
       "    </tr>\n",
       "    <tr>\n",
       "      <th>2002-02-01</th>\n",
       "      <td>4.186412</td>\n",
       "      <td>1.414571</td>\n",
       "      <td>1.156095</td>\n",
       "      <td>8.246333</td>\n",
       "      <td>0.960703</td>\n",
       "      <td>0.005684</td>\n",
       "    </tr>\n",
       "    <tr>\n",
       "      <th>2002-03-01</th>\n",
       "      <td>4.134041</td>\n",
       "      <td>1.513317</td>\n",
       "      <td>1.085856</td>\n",
       "      <td>8.315095</td>\n",
       "      <td>1.032382</td>\n",
       "      <td>0.005597</td>\n",
       "    </tr>\n",
       "    <tr>\n",
       "      <th>2002-04-01</th>\n",
       "      <td>4.193228</td>\n",
       "      <td>1.481520</td>\n",
       "      <td>1.187597</td>\n",
       "      <td>8.352486</td>\n",
       "      <td>1.097572</td>\n",
       "      <td>0.006245</td>\n",
       "    </tr>\n",
       "    <tr>\n",
       "      <th>2002-05-01</th>\n",
       "      <td>4.098880</td>\n",
       "      <td>1.517065</td>\n",
       "      <td>1.042743</td>\n",
       "      <td>8.564860</td>\n",
       "      <td>1.103946</td>\n",
       "      <td>0.006818</td>\n",
       "    </tr>\n",
       "    <tr>\n",
       "      <th>2002-06-01</th>\n",
       "      <td>4.264596</td>\n",
       "      <td>1.521658</td>\n",
       "      <td>0.943108</td>\n",
       "      <td>8.768810</td>\n",
       "      <td>1.189704</td>\n",
       "      <td>0.006686</td>\n",
       "    </tr>\n",
       "    <tr>\n",
       "      <th>...</th>\n",
       "      <td>...</td>\n",
       "      <td>...</td>\n",
       "      <td>...</td>\n",
       "      <td>...</td>\n",
       "      <td>...</td>\n",
       "      <td>...</td>\n",
       "    </tr>\n",
       "    <tr>\n",
       "      <th>2015-08-01</th>\n",
       "      <td>5.088458</td>\n",
       "      <td>1.823147</td>\n",
       "      <td>1.466990</td>\n",
       "      <td>9.463109</td>\n",
       "      <td>1.292195</td>\n",
       "      <td>0.096705</td>\n",
       "    </tr>\n",
       "    <tr>\n",
       "      <th>2015-09-01</th>\n",
       "      <td>5.118262</td>\n",
       "      <td>1.827714</td>\n",
       "      <td>1.581563</td>\n",
       "      <td>9.123399</td>\n",
       "      <td>1.312047</td>\n",
       "      <td>0.097645</td>\n",
       "    </tr>\n",
       "    <tr>\n",
       "      <th>2015-10-01</th>\n",
       "      <td>5.023760</td>\n",
       "      <td>1.821897</td>\n",
       "      <td>1.538174</td>\n",
       "      <td>8.968805</td>\n",
       "      <td>1.232922</td>\n",
       "      <td>0.098226</td>\n",
       "    </tr>\n",
       "    <tr>\n",
       "      <th>2015-11-01</th>\n",
       "      <td>5.078697</td>\n",
       "      <td>1.783952</td>\n",
       "      <td>1.539517</td>\n",
       "      <td>8.894355</td>\n",
       "      <td>1.254957</td>\n",
       "      <td>0.098192</td>\n",
       "    </tr>\n",
       "    <tr>\n",
       "      <th>2015-12-01</th>\n",
       "      <td>4.945488</td>\n",
       "      <td>1.823628</td>\n",
       "      <td>1.577827</td>\n",
       "      <td>9.153548</td>\n",
       "      <td>1.239109</td>\n",
       "      <td>0.099118</td>\n",
       "    </tr>\n",
       "    <tr>\n",
       "      <th>2016-01-01</th>\n",
       "      <td>4.952230</td>\n",
       "      <td>1.875967</td>\n",
       "      <td>1.632375</td>\n",
       "      <td>9.046400</td>\n",
       "      <td>1.163909</td>\n",
       "      <td>0.098717</td>\n",
       "    </tr>\n",
       "    <tr>\n",
       "      <th>2016-02-01</th>\n",
       "      <td>4.902876</td>\n",
       "      <td>1.868803</td>\n",
       "      <td>1.625334</td>\n",
       "      <td>8.931759</td>\n",
       "      <td>1.182693</td>\n",
       "      <td>0.099094</td>\n",
       "    </tr>\n",
       "    <tr>\n",
       "      <th>2016-03-01</th>\n",
       "      <td>4.883653</td>\n",
       "      <td>1.655600</td>\n",
       "      <td>1.716280</td>\n",
       "      <td>8.712428</td>\n",
       "      <td>1.145292</td>\n",
       "      <td>0.100245</td>\n",
       "    </tr>\n",
       "    <tr>\n",
       "      <th>2016-04-01</th>\n",
       "      <td>4.989545</td>\n",
       "      <td>1.675671</td>\n",
       "      <td>1.774231</td>\n",
       "      <td>8.655952</td>\n",
       "      <td>1.126230</td>\n",
       "      <td>0.100370</td>\n",
       "    </tr>\n",
       "    <tr>\n",
       "      <th>2016-05-01</th>\n",
       "      <td>5.004006</td>\n",
       "      <td>1.754561</td>\n",
       "      <td>1.713002</td>\n",
       "      <td>8.686677</td>\n",
       "      <td>1.254342</td>\n",
       "      <td>0.100377</td>\n",
       "    </tr>\n",
       "    <tr>\n",
       "      <th>2016-06-01</th>\n",
       "      <td>4.879119</td>\n",
       "      <td>1.660957</td>\n",
       "      <td>1.433894</td>\n",
       "      <td>9.033834</td>\n",
       "      <td>1.333401</td>\n",
       "      <td>0.100609</td>\n",
       "    </tr>\n",
       "    <tr>\n",
       "      <th>2016-07-01</th>\n",
       "      <td>4.826687</td>\n",
       "      <td>1.947926</td>\n",
       "      <td>1.303873</td>\n",
       "      <td>9.138201</td>\n",
       "      <td>1.343062</td>\n",
       "      <td>0.100803</td>\n",
       "    </tr>\n",
       "    <tr>\n",
       "      <th>2016-08-01</th>\n",
       "      <td>4.890096</td>\n",
       "      <td>1.750721</td>\n",
       "      <td>1.474820</td>\n",
       "      <td>9.067229</td>\n",
       "      <td>1.294978</td>\n",
       "      <td>0.101192</td>\n",
       "    </tr>\n",
       "    <tr>\n",
       "      <th>2016-09-01</th>\n",
       "      <td>4.894211</td>\n",
       "      <td>1.761699</td>\n",
       "      <td>1.464333</td>\n",
       "      <td>8.742544</td>\n",
       "      <td>1.189250</td>\n",
       "      <td>0.102537</td>\n",
       "    </tr>\n",
       "    <tr>\n",
       "      <th>2016-10-01</th>\n",
       "      <td>4.848566</td>\n",
       "      <td>1.789525</td>\n",
       "      <td>1.521648</td>\n",
       "      <td>8.661839</td>\n",
       "      <td>1.108514</td>\n",
       "      <td>0.102797</td>\n",
       "    </tr>\n",
       "    <tr>\n",
       "      <th>2016-11-01</th>\n",
       "      <td>4.976344</td>\n",
       "      <td>1.773782</td>\n",
       "      <td>1.488834</td>\n",
       "      <td>8.751576</td>\n",
       "      <td>1.138625</td>\n",
       "      <td>0.103065</td>\n",
       "    </tr>\n",
       "    <tr>\n",
       "      <th>2016-12-01</th>\n",
       "      <td>4.809972</td>\n",
       "      <td>1.723578</td>\n",
       "      <td>1.547620</td>\n",
       "      <td>8.849544</td>\n",
       "      <td>1.215257</td>\n",
       "      <td>0.103214</td>\n",
       "    </tr>\n",
       "    <tr>\n",
       "      <th>2017-01-01</th>\n",
       "      <td>4.794648</td>\n",
       "      <td>1.806321</td>\n",
       "      <td>1.351949</td>\n",
       "      <td>8.865562</td>\n",
       "      <td>1.295447</td>\n",
       "      <td>0.103620</td>\n",
       "    </tr>\n",
       "    <tr>\n",
       "      <th>2017-02-01</th>\n",
       "      <td>4.869129</td>\n",
       "      <td>1.693743</td>\n",
       "      <td>1.499341</td>\n",
       "      <td>8.583566</td>\n",
       "      <td>1.255970</td>\n",
       "      <td>0.103989</td>\n",
       "    </tr>\n",
       "    <tr>\n",
       "      <th>2017-03-01</th>\n",
       "      <td>4.818125</td>\n",
       "      <td>1.607748</td>\n",
       "      <td>1.542936</td>\n",
       "      <td>8.620297</td>\n",
       "      <td>1.316685</td>\n",
       "      <td>0.104215</td>\n",
       "    </tr>\n",
       "    <tr>\n",
       "      <th>2017-04-01</th>\n",
       "      <td>4.902506</td>\n",
       "      <td>1.665837</td>\n",
       "      <td>1.589619</td>\n",
       "      <td>8.636573</td>\n",
       "      <td>1.266556</td>\n",
       "      <td>0.104602</td>\n",
       "    </tr>\n",
       "    <tr>\n",
       "      <th>2017-05-01</th>\n",
       "      <td>4.812563</td>\n",
       "      <td>1.542669</td>\n",
       "      <td>1.545807</td>\n",
       "      <td>8.435729</td>\n",
       "      <td>1.281827</td>\n",
       "      <td>0.105166</td>\n",
       "    </tr>\n",
       "    <tr>\n",
       "      <th>2017-06-01</th>\n",
       "      <td>4.870613</td>\n",
       "      <td>1.574276</td>\n",
       "      <td>1.385338</td>\n",
       "      <td>8.757677</td>\n",
       "      <td>1.298119</td>\n",
       "      <td>0.105405</td>\n",
       "    </tr>\n",
       "    <tr>\n",
       "      <th>2017-07-01</th>\n",
       "      <td>4.871109</td>\n",
       "      <td>1.649971</td>\n",
       "      <td>1.313405</td>\n",
       "      <td>8.714057</td>\n",
       "      <td>1.280902</td>\n",
       "      <td>0.105401</td>\n",
       "    </tr>\n",
       "    <tr>\n",
       "      <th>2017-08-01</th>\n",
       "      <td>4.933401</td>\n",
       "      <td>1.783392</td>\n",
       "      <td>1.445702</td>\n",
       "      <td>8.803414</td>\n",
       "      <td>1.277834</td>\n",
       "      <td>0.105642</td>\n",
       "    </tr>\n",
       "    <tr>\n",
       "      <th>2017-09-01</th>\n",
       "      <td>4.940475</td>\n",
       "      <td>1.598193</td>\n",
       "      <td>1.371015</td>\n",
       "      <td>8.511414</td>\n",
       "      <td>1.240759</td>\n",
       "      <td>0.106879</td>\n",
       "    </tr>\n",
       "    <tr>\n",
       "      <th>2017-10-01</th>\n",
       "      <td>4.883667</td>\n",
       "      <td>1.555212</td>\n",
       "      <td>1.477106</td>\n",
       "      <td>8.686916</td>\n",
       "      <td>1.327634</td>\n",
       "      <td>0.106859</td>\n",
       "    </tr>\n",
       "    <tr>\n",
       "      <th>2017-11-01</th>\n",
       "      <td>4.778386</td>\n",
       "      <td>1.543665</td>\n",
       "      <td>1.588466</td>\n",
       "      <td>8.438020</td>\n",
       "      <td>1.318356</td>\n",
       "      <td>0.107629</td>\n",
       "    </tr>\n",
       "    <tr>\n",
       "      <th>2017-12-01</th>\n",
       "      <td>4.724919</td>\n",
       "      <td>1.530548</td>\n",
       "      <td>1.599441</td>\n",
       "      <td>8.597799</td>\n",
       "      <td>1.326712</td>\n",
       "      <td>0.107664</td>\n",
       "    </tr>\n",
       "    <tr>\n",
       "      <th>2018-01-01</th>\n",
       "      <td>4.669690</td>\n",
       "      <td>1.709055</td>\n",
       "      <td>1.588719</td>\n",
       "      <td>8.700249</td>\n",
       "      <td>1.399130</td>\n",
       "      <td>0.107413</td>\n",
       "    </tr>\n",
       "  </tbody>\n",
       "</table>\n",
       "<p>217 rows × 6 columns</p>\n",
       "</div>"
      ],
      "text/plain": [
       "            Disabled/Ill  Discouraged  Enrolled in school  Home/Family  \\\n",
       "2000-01-01      3.891320     1.543754            1.027678     8.216645   \n",
       "2000-02-01      3.794340     1.531764            1.020566     8.209241   \n",
       "2000-03-01      3.877747     1.505515            1.051555     8.106062   \n",
       "2000-04-01      3.980709     1.461815            1.004017     8.163613   \n",
       "2000-05-01      4.070026     1.433192            0.986225     8.340750   \n",
       "2000-06-01      3.988279     1.529771            0.905421     8.735484   \n",
       "2000-07-01      4.083278     1.514782            0.817059     8.890876   \n",
       "2000-08-01      4.102713     1.517470            0.758498     8.767020   \n",
       "2000-09-01      4.033979     1.502435            1.085537     8.303217   \n",
       "2000-10-01      4.160235     1.393019            1.054783     8.153409   \n",
       "2000-11-01      4.029525     1.341377            1.102487     8.177407   \n",
       "2000-12-01      3.983008     1.446638            1.025886     8.091352   \n",
       "2001-01-01      3.979032     1.477555            1.127152     7.915071   \n",
       "2001-02-01      3.985145     1.621807            1.148715     8.021779   \n",
       "2001-03-01      3.917613     1.415248            1.077945     8.114971   \n",
       "2001-04-01      4.007077     1.458906            1.089768     8.321431   \n",
       "2001-05-01      4.032030     1.384599            1.027269     8.392345   \n",
       "2001-06-01      4.206460     1.473001            0.915074     8.595976   \n",
       "2001-07-01      4.212089     1.523655            0.907276     8.688515   \n",
       "2001-08-01      4.217665     1.762916            0.919879     8.716763   \n",
       "2001-09-01      4.248865     1.442311            1.134794     8.327728   \n",
       "2001-10-01      4.201150     1.462626            1.112598     8.140074   \n",
       "2001-11-01      4.224960     1.482891            1.106920     8.183470   \n",
       "2001-12-01      4.224942     1.458553            1.096745     8.047194   \n",
       "2002-01-01      4.299193     1.716397            1.195428     8.193761   \n",
       "2002-02-01      4.186412     1.414571            1.156095     8.246333   \n",
       "2002-03-01      4.134041     1.513317            1.085856     8.315095   \n",
       "2002-04-01      4.193228     1.481520            1.187597     8.352486   \n",
       "2002-05-01      4.098880     1.517065            1.042743     8.564860   \n",
       "2002-06-01      4.264596     1.521658            0.943108     8.768810   \n",
       "...                  ...          ...                 ...          ...   \n",
       "2015-08-01      5.088458     1.823147            1.466990     9.463109   \n",
       "2015-09-01      5.118262     1.827714            1.581563     9.123399   \n",
       "2015-10-01      5.023760     1.821897            1.538174     8.968805   \n",
       "2015-11-01      5.078697     1.783952            1.539517     8.894355   \n",
       "2015-12-01      4.945488     1.823628            1.577827     9.153548   \n",
       "2016-01-01      4.952230     1.875967            1.632375     9.046400   \n",
       "2016-02-01      4.902876     1.868803            1.625334     8.931759   \n",
       "2016-03-01      4.883653     1.655600            1.716280     8.712428   \n",
       "2016-04-01      4.989545     1.675671            1.774231     8.655952   \n",
       "2016-05-01      5.004006     1.754561            1.713002     8.686677   \n",
       "2016-06-01      4.879119     1.660957            1.433894     9.033834   \n",
       "2016-07-01      4.826687     1.947926            1.303873     9.138201   \n",
       "2016-08-01      4.890096     1.750721            1.474820     9.067229   \n",
       "2016-09-01      4.894211     1.761699            1.464333     8.742544   \n",
       "2016-10-01      4.848566     1.789525            1.521648     8.661839   \n",
       "2016-11-01      4.976344     1.773782            1.488834     8.751576   \n",
       "2016-12-01      4.809972     1.723578            1.547620     8.849544   \n",
       "2017-01-01      4.794648     1.806321            1.351949     8.865562   \n",
       "2017-02-01      4.869129     1.693743            1.499341     8.583566   \n",
       "2017-03-01      4.818125     1.607748            1.542936     8.620297   \n",
       "2017-04-01      4.902506     1.665837            1.589619     8.636573   \n",
       "2017-05-01      4.812563     1.542669            1.545807     8.435729   \n",
       "2017-06-01      4.870613     1.574276            1.385338     8.757677   \n",
       "2017-07-01      4.871109     1.649971            1.313405     8.714057   \n",
       "2017-08-01      4.933401     1.783392            1.445702     8.803414   \n",
       "2017-09-01      4.940475     1.598193            1.371015     8.511414   \n",
       "2017-10-01      4.883667     1.555212            1.477106     8.686916   \n",
       "2017-11-01      4.778386     1.543665            1.588466     8.438020   \n",
       "2017-12-01      4.724919     1.530548            1.599441     8.597799   \n",
       "2018-01-01      4.669690     1.709055            1.588719     8.700249   \n",
       "\n",
       "             Retired  Age and Sex  \n",
       "2000-01-01  0.832518    -0.004745  \n",
       "2000-02-01  0.846031    -0.004267  \n",
       "2000-03-01  0.850973    -0.002889  \n",
       "2000-04-01  0.887585    -0.002681  \n",
       "2000-05-01  1.006517    -0.003537  \n",
       "2000-06-01  0.994449    -0.003235  \n",
       "2000-07-01  1.053917    -0.003200  \n",
       "2000-08-01  1.042346    -0.003125  \n",
       "2000-09-01  1.046290    -0.001987  \n",
       "2000-10-01  0.979309    -0.001910  \n",
       "2000-11-01  0.973382    -0.001640  \n",
       "2000-12-01  0.982105    -0.001174  \n",
       "2001-01-01  0.958865    -0.001764  \n",
       "2001-02-01  0.918039    -0.001487  \n",
       "2001-03-01  0.942971    -0.001704  \n",
       "2001-04-01  1.044675    -0.001268  \n",
       "2001-05-01  1.045152    -0.000907  \n",
       "2001-06-01  1.085619    -0.000842  \n",
       "2001-07-01  1.137931    -0.000533  \n",
       "2001-08-01  1.075267    -0.000241  \n",
       "2001-09-01  1.029423     0.000649  \n",
       "2001-10-01  1.013300     0.001304  \n",
       "2001-11-01  0.987271     0.002905  \n",
       "2001-12-01  1.020786     0.004129  \n",
       "2002-01-01  1.017412     0.004680  \n",
       "2002-02-01  0.960703     0.005684  \n",
       "2002-03-01  1.032382     0.005597  \n",
       "2002-04-01  1.097572     0.006245  \n",
       "2002-05-01  1.103946     0.006818  \n",
       "2002-06-01  1.189704     0.006686  \n",
       "...              ...          ...  \n",
       "2015-08-01  1.292195     0.096705  \n",
       "2015-09-01  1.312047     0.097645  \n",
       "2015-10-01  1.232922     0.098226  \n",
       "2015-11-01  1.254957     0.098192  \n",
       "2015-12-01  1.239109     0.099118  \n",
       "2016-01-01  1.163909     0.098717  \n",
       "2016-02-01  1.182693     0.099094  \n",
       "2016-03-01  1.145292     0.100245  \n",
       "2016-04-01  1.126230     0.100370  \n",
       "2016-05-01  1.254342     0.100377  \n",
       "2016-06-01  1.333401     0.100609  \n",
       "2016-07-01  1.343062     0.100803  \n",
       "2016-08-01  1.294978     0.101192  \n",
       "2016-09-01  1.189250     0.102537  \n",
       "2016-10-01  1.108514     0.102797  \n",
       "2016-11-01  1.138625     0.103065  \n",
       "2016-12-01  1.215257     0.103214  \n",
       "2017-01-01  1.295447     0.103620  \n",
       "2017-02-01  1.255970     0.103989  \n",
       "2017-03-01  1.316685     0.104215  \n",
       "2017-04-01  1.266556     0.104602  \n",
       "2017-05-01  1.281827     0.105166  \n",
       "2017-06-01  1.298119     0.105405  \n",
       "2017-07-01  1.280902     0.105401  \n",
       "2017-08-01  1.277834     0.105642  \n",
       "2017-09-01  1.240759     0.106879  \n",
       "2017-10-01  1.327634     0.106859  \n",
       "2017-11-01  1.318356     0.107629  \n",
       "2017-12-01  1.326712     0.107664  \n",
       "2018-01-01  1.399130     0.107413  \n",
       "\n",
       "[217 rows x 6 columns]"
      ]
     },
     "execution_count": 43,
     "metadata": {},
     "output_type": "execute_result"
    }
   ],
   "source": [
    "df2"
   ]
  },
  {
   "cell_type": "code",
   "execution_count": null,
   "metadata": {},
   "outputs": [],
   "source": []
  },
  {
   "cell_type": "code",
   "execution_count": null,
   "metadata": {},
   "outputs": [],
   "source": []
  },
  {
   "cell_type": "code",
   "execution_count": null,
   "metadata": {
    "ExecuteTime": {
     "end_time": "2018-03-05T01:19:01.776954Z",
     "start_time": "2018-03-05T01:19:01.480064Z"
    }
   },
   "outputs": [],
   "source": [
    "pd.read_feather('data/cps_2015.ft')"
   ]
  },
  {
   "cell_type": "code",
   "execution_count": null,
   "metadata": {},
   "outputs": [],
   "source": []
  },
  {
   "cell_type": "code",
   "execution_count": null,
   "metadata": {},
   "outputs": [],
   "source": []
  },
  {
   "cell_type": "code",
   "execution_count": null,
   "metadata": {},
   "outputs": [],
   "source": []
  },
  {
   "cell_type": "code",
   "execution_count": null,
   "metadata": {},
   "outputs": [],
   "source": []
  },
  {
   "cell_type": "code",
   "execution_count": null,
   "metadata": {},
   "outputs": [],
   "source": []
  },
  {
   "cell_type": "code",
   "execution_count": null,
   "metadata": {
    "ExecuteTime": {
     "end_time": "2018-03-05T01:10:10.207645Z",
     "start_time": "2018-03-05T01:10:10.020139Z"
    }
   },
   "outputs": [],
   "source": [
    "(df2.rolling(12).mean().loc['2001-01-01'] - df2.rolling(12).mean()).dropna()[1:].plot()"
   ]
  },
  {
   "cell_type": "code",
   "execution_count": null,
   "metadata": {
    "ExecuteTime": {
     "end_time": "2018-03-05T00:54:02.538146Z",
     "start_time": "2018-03-05T00:54:02.522520Z"
    }
   },
   "outputs": [],
   "source": [
    "#dft"
   ]
  },
  {
   "cell_type": "code",
   "execution_count": null,
   "metadata": {
    "ExecuteTime": {
     "end_time": "2018-03-04T23:48:17.953179Z",
     "start_time": "2018-03-04T23:48:17.921927Z"
    },
    "code_folding": []
   },
   "outputs": [],
   "source": [
    "# Create adjusted weight\n",
    "def weight_gainer(r, data=data):\n",
    "    return (data[f\"{r['PRTAGE']:.0f}{i}{year}\"] * r['PWSSWGT'])\n",
    "\n",
    "# Calculate totals for several activities \n",
    "def contrib_calc(year, data, df2, age, sex, ser, lfstat):\n",
    "    \"\"\"Calculate NILF categories' contribution to group change \n",
    "       in labor force measures (lfpr, epop) since 2000.\"\"\"   \n",
    "    for i, df in pd.read_feather(f'data/cps_{year}.ft', nthreads=3)[ser].groupby('HRMONTH'):\n",
    "        print(i)\n",
    "        date = pd.to_datetime(f'{year}-{i}-01')\n",
    "        print(date)\n",
    "        dft = df[(df['PRTAGE'].between(25, 54)) & (df['PEMLR'].isin(range(1,8)))]\n",
    "        #tpop = dft['PWSSWGT'].sum()\n",
    "        #for age in list(range(25,55)):#arg in itertools.product(list(range(25, 55)), [('Men', 1), ('Women', 2)]):\n",
    "        #    gtot = (np.where(dft['PRTAGE']==age, 1, 0) * dft['PWSSWGT']).sum()\n",
    "        #    data[f'{age}{i}{year}'] = avgage[f'{age}'] - ((gtot / tpop) * 100) + 1\n",
    "        dft['adjwgt'] = dft.apply(weight_gainer, args=[data], axis=1)\n",
    "        gpop = dft['adjwgt'].sum()\n",
    "        for lf in lfstat:\n",
    "            gtot = (np.where(dft[lf[2]].isin(lf[1]), 1, 0) * dft['adjwgt']).sum()\n",
    "            df2.at[date, f'{lf[0]}'] = gtot / gpop * 100\n",
    "    return df2"
   ]
  },
  {
   "cell_type": "code",
   "execution_count": null,
   "metadata": {
    "ExecuteTime": {
     "end_time": "2018-03-04T23:48:07.092762Z",
     "start_time": "2018-03-04T23:48:07.077126Z"
    },
    "code_folding": []
   },
   "outputs": [],
   "source": [
    "# Variables to adjust\n",
    "ser = ['PWSSWGT', 'HRMONTH', 'PRTAGE', 'PESEX', \n",
    "       'PWORWGT', 'PENLFACT', 'PEMLR', 'PEDWWNTO']\n",
    "lfstat = [('Disabled/Ill', [6], 'PEMLR'),\n",
    "          ('Discouraged', [1], 'PEDWWNTO'),          \n",
    "          ('Enrolled in school', [3], 'PENLFACT'),\n",
    "          ('Home/Family', [4], 'PENLFACT'), \n",
    "          ('Retired', [5], 'PEMLR')]#('Unemployed', [3, 4], 'PEMLR')\n",
    "age = (25, 54)\n",
    "sex = ('Total', [1, 2])"
   ]
  },
  {
   "cell_type": "code",
   "execution_count": null,
   "metadata": {
    "ExecuteTime": {
     "end_time": "2018-03-04T23:43:10.257551Z",
     "start_time": "2018-03-04T23:43:09.991879Z"
    }
   },
   "outputs": [],
   "source": [
    "# Calculate value for 2000 full year\n",
    "dft = pd.read_feather('data/cps_2000.ft', nthreads=3)[ser]\n",
    "avgage = {}\n",
    "dft = dft[dft['PRTAGE'].between(25, 54)]        \n",
    "ttot = dft['PWSSWGT'].sum()\n",
    "for age in list(range(25, 55)):\n",
    "    gtot = (np.where(dft['PRTAGE']==age, 1, 0) * dft['PWSSWGT']).sum()\n",
    "    avgage[f'{age}'] = (gtot / ttot) * 100"
   ]
  },
  {
   "cell_type": "code",
   "execution_count": null,
   "metadata": {
    "ExecuteTime": {
     "end_time": "2018-03-04T23:48:44.002269Z",
     "start_time": "2018-03-04T23:48:43.846007Z"
    }
   },
   "outputs": [],
   "source": [
    "data = df#\n",
    "df2 = pd.DataFrame()\n",
    "for y in range(2000, 2019):    \n",
    "    df = contrib_calc(y, data, df2, age, sex, ser, lfstat)"
   ]
  },
  {
   "cell_type": "code",
   "execution_count": null,
   "metadata": {
    "ExecuteTime": {
     "end_time": "2018-03-04T23:21:28.112921Z",
     "start_time": "2018-03-04T23:21:27.581642Z"
    }
   },
   "outputs": [],
   "source": [
    "data2 = (df.rolling(12).mean().loc['2001-03-01'] - df.rolling(12).mean()).dropna()\n",
    "# Plot change\n",
    "title = (f'Contributions to change in group labor force participation since 2001,'\n",
    "         f' {sex[0].lower()}, age {age[0]}-{age[1]}')\n",
    "ax = data2.drop('Unemployed', axis=1).plot(figsize=(6, 8), title=title)\n",
    "# Recession start and end months, from NBER\n",
    "rec_dt = [('2001-04-01', '2001-12-01'), ('2008-01-01', '2009-07-01')]\n",
    "for i, v in rec_dt:\n",
    "    ax = plt.axvspan(i, v, fill=True, linewidth=0, color='gray', alpha=0.15)  \n",
    "ax = plt.axhline(y=0, color='lightgray', zorder=1)\n",
    "ax = plt.xlabel(\"In percentage points, 12 month moving average. Source: Current Population Survey, author's calculations\")\n",
    "plt.savefig(f'{sex[0]}{age[0]}{age[1]}.png', bbox_inches='tight', dpi=200)"
   ]
  },
  {
   "cell_type": "code",
   "execution_count": null,
   "metadata": {
    "ExecuteTime": {
     "end_time": "2018-03-04T23:01:23.395820Z",
     "start_time": "2018-03-04T23:01:23.364578Z"
    }
   },
   "outputs": [],
   "source": [
    "data = df"
   ]
  },
  {
   "cell_type": "code",
   "execution_count": null,
   "metadata": {
    "ExecuteTime": {
     "end_time": "2018-03-04T22:33:47.034816Z",
     "start_time": "2018-03-04T22:33:46.972311Z"
    }
   },
   "outputs": [],
   "source": [
    "pd.read_feather('data/cps_2015.ft', nthreads=2)[ser].groupby('HRMONTH')"
   ]
  },
  {
   "cell_type": "code",
   "execution_count": null,
   "metadata": {
    "ExecuteTime": {
     "end_time": "2018-03-04T23:13:43.657884Z",
     "start_time": "2018-03-04T23:13:43.626622Z"
    }
   },
   "outputs": [],
   "source": [
    "df"
   ]
  },
  {
   "cell_type": "code",
   "execution_count": null,
   "metadata": {
    "ExecuteTime": {
     "end_time": "2018-03-04T22:22:43.998581Z",
     "start_time": "2018-03-04T22:22:40.920137Z"
    }
   },
   "outputs": [],
   "source": [
    "for year in range(1996, 2019):\n",
    "    for i, df in pd.read_feather(f'data/cps_{year}.ft', nthreads=3)[ser].groupby('HRMONTH'):\n",
    "        print(i)"
   ]
  },
  {
   "cell_type": "code",
   "execution_count": null,
   "metadata": {
    "ExecuteTime": {
     "end_time": "2018-03-04T20:42:20.130290Z",
     "start_time": "2018-03-04T20:42:20.099037Z"
    }
   },
   "outputs": [],
   "source": [
    "data#.rolling(12).mean().sum(axis=1)#.plot()"
   ]
  },
  {
   "cell_type": "code",
   "execution_count": null,
   "metadata": {
    "ExecuteTime": {
     "end_time": "2018-03-04T23:15:28.324769Z",
     "start_time": "2018-03-04T23:15:28.293517Z"
    }
   },
   "outputs": [],
   "source": [
    "#data.rolling(12).mean().loc['2001-01-01']\n",
    "\n",
    "data2 = (df.rolling(12).mean().loc['2001-01-01'] - df.rolling(12).mean())#.dropna()\n",
    "\n",
    "#data2[[f'Women{i}' for i in range(25, 54)]].sum(axis=1).dropna().loc['2001-01-01':].plot()\n",
    "#(data.rolling(12).mean().loc['2001-01-01'] - data.rolling(12).mean()).dropna()\n",
    "\n",
    "#data.rolling(12).mean().dropna().sum(axis=1)"
   ]
  },
  {
   "cell_type": "code",
   "execution_count": null,
   "metadata": {
    "ExecuteTime": {
     "end_time": "2018-03-04T23:15:30.981210Z",
     "start_time": "2018-03-04T23:15:30.809322Z"
    }
   },
   "outputs": [],
   "source": [
    "data2.dropna().plot()"
   ]
  },
  {
   "cell_type": "code",
   "execution_count": null,
   "metadata": {
    "ExecuteTime": {
     "end_time": "2018-03-04T21:28:07.595849Z",
     "start_time": "2018-03-04T21:28:07.564605Z"
    }
   },
   "outputs": [],
   "source": [
    "df2\n",
    "#(df2.rolling(12).mean() - df2.rolling(12).mean().loc['2001-01-01'])"
   ]
  },
  {
   "cell_type": "code",
   "execution_count": null,
   "metadata": {
    "ExecuteTime": {
     "end_time": "2018-03-04T20:14:42.140999Z",
     "start_time": "2018-03-04T20:14:42.133491Z"
    }
   },
   "outputs": [],
   "source": [
    "avg2000 = data.rolling(12).mean().loc['2000-12-01'].to_dict()"
   ]
  },
  {
   "cell_type": "code",
   "execution_count": null,
   "metadata": {
    "ExecuteTime": {
     "end_time": "2018-03-04T20:52:00.316524Z",
     "start_time": "2018-03-04T20:52:00.254008Z"
    }
   },
   "outputs": [],
   "source": [
    "dft = pd.read_feather('data/cps_2000.ft', nthreads=2)[ser]"
   ]
  },
  {
   "cell_type": "code",
   "execution_count": null,
   "metadata": {
    "ExecuteTime": {
     "end_time": "2018-03-04T21:00:36.416993Z",
     "start_time": "2018-03-04T21:00:36.401365Z"
    }
   },
   "outputs": [],
   "source": [
    "avg2"
   ]
  },
  {
   "cell_type": "code",
   "execution_count": null,
   "metadata": {
    "ExecuteTime": {
     "end_time": "2018-03-04T17:59:48.759026Z",
     "start_time": "2018-03-04T17:59:48.743399Z"
    }
   },
   "outputs": [],
   "source": [
    "#pd.read_feather('data/cps_2015.ft', nthreads=3)['']"
   ]
  },
  {
   "cell_type": "code",
   "execution_count": null,
   "metadata": {
    "ExecuteTime": {
     "end_time": "2018-03-04T17:39:44.763940Z",
     "start_time": "2018-03-04T17:39:44.748303Z"
    }
   },
   "outputs": [],
   "source": []
  },
  {
   "cell_type": "code",
   "execution_count": null,
   "metadata": {},
   "outputs": [],
   "source": []
  },
  {
   "cell_type": "code",
   "execution_count": null,
   "metadata": {},
   "outputs": [],
   "source": []
  },
  {
   "cell_type": "code",
   "execution_count": null,
   "metadata": {},
   "outputs": [],
   "source": []
  },
  {
   "cell_type": "code",
   "execution_count": null,
   "metadata": {},
   "outputs": [],
   "source": []
  },
  {
   "cell_type": "code",
   "execution_count": null,
   "metadata": {},
   "outputs": [],
   "source": []
  },
  {
   "cell_type": "code",
   "execution_count": null,
   "metadata": {},
   "outputs": [],
   "source": []
  },
  {
   "cell_type": "code",
   "execution_count": null,
   "metadata": {
    "ExecuteTime": {
     "end_time": "2018-03-04T12:05:05.552438Z",
     "start_time": "2018-03-04T12:05:01.770809Z"
    }
   },
   "outputs": [],
   "source": [
    "for y in range(2000, 2019):\n",
    "    df = pd.read_pickle(f'data/cps_{year}.pkl')\n",
    "    gpop = (df[(df['PRTAGE'].between(age[0], age[1])) & \n",
    "            (df['PESEX'].isin(sex[1])) & \n",
    "            (df['PEMLR'].isin(range(1,8)))].groupby('HRMONTH')['PWSSWGT'].sum())"
   ]
  },
  {
   "cell_type": "code",
   "execution_count": null,
   "metadata": {
    "ExecuteTime": {
     "end_time": "2018-03-04T12:50:37.138269Z",
     "start_time": "2018-03-04T12:50:31.840246Z"
    }
   },
   "outputs": [],
   "source": [
    "data = pd.Series()\n",
    "for year in range(1996, 2019):\n",
    "    df = pd.read_pickle(f'data/cps_{year}.pkl')\n",
    "    group = (df['PRTAGE'].between(age[0], age[1])) & (df['PESEX'].isin(sex[1]))\n",
    "    calc = ((df[group & (df['PENLFACT']==3)].groupby('HRMONTH')['PWSSWGT'].sum()) / \n",
    "            (df[group & (df['PEMLR'].isin(range(1,8)))].groupby('HRMONTH')['PWSSWGT'].sum())* 100)\n",
    "    calc.index = [pd.to_datetime(f'{year}-{i}-01') for i in calc.index]\n",
    "    data = data.append(calc)"
   ]
  },
  {
   "cell_type": "code",
   "execution_count": null,
   "metadata": {
    "ExecuteTime": {
     "end_time": "2018-03-04T12:56:10.012461Z",
     "start_time": "2018-03-04T12:56:09.949960Z"
    }
   },
   "outputs": [],
   "source": [
    "data"
   ]
  },
  {
   "cell_type": "code",
   "execution_count": null,
   "metadata": {
    "ExecuteTime": {
     "end_time": "2018-03-04T13:04:47.229568Z",
     "start_time": "2018-03-04T13:04:47.213939Z"
    }
   },
   "outputs": [],
   "source": [
    "def contrib_calc(year, data):\n",
    "    df = pd.read_pickle(f'data/cps_{year}.pkl')\n",
    "    group = (df['PRTAGE'].between(age[0], age[1])) & (df['PESEX'].isin(sex[1]))\n",
    "    calc = ((df[group & (df['PENLFACT']==3)].groupby('HRMONTH')['PWSSWGT'].sum()) / \n",
    "            (df[group & (df['PEMLR'].isin(range(1,8)))].groupby('HRMONTH')['PWSSWGT'].sum())* 100)\n",
    "    calc.index = [pd.to_datetime(f'{year}-{i}-01') for i in calc.index]\n",
    "    data = data.append(calc)"
   ]
  },
  {
   "cell_type": "code",
   "execution_count": null,
   "metadata": {
    "ExecuteTime": {
     "end_time": "2018-03-04T13:34:09.447232Z",
     "start_time": "2018-03-04T13:34:09.415978Z"
    }
   },
   "outputs": [],
   "source": [
    "# Calculate totals for several activities \n",
    "def contrib_calc(year, data, age, sex, ser, lfstat):\n",
    "    \"\"\"Calculate NILF categories' contribution to group change \n",
    "       in labor force measures (lfpr, epop) since 2000.\"\"\" \n",
    "    for i, df in pd.read_pickle(f'data/cps_{year}.pkl')[ser].groupby(['HRMONTH']):\n",
    "        date = pd.to_datetime(f'{year}-{i}-01')\n",
    "        group = (df['PRTAGE'].between(age[0], age[1])) & (df['PESEX'].isin(sex[1]))\n",
    "        gpop = df[group & (df['PEMLR'].isin(range(1,8)))]['PWSSWGT'].sum()\n",
    "        for lf in lfstat:\n",
    "            gtot = df[group & (df[lf[2]].isin(lf[1]))]['PWSSWGT'].sum()\n",
    "            data.at[date, f'{lf[0]}'] = gtot / gpop * 100"
   ]
  },
  {
   "cell_type": "code",
   "execution_count": null,
   "metadata": {
    "ExecuteTime": {
     "end_time": "2018-03-04T13:04:55.497056Z",
     "start_time": "2018-03-04T13:04:51.590033Z"
    }
   },
   "outputs": [],
   "source": [
    "data = pd.Series()\n",
    "for year in range(2000, 2019):\n",
    "    contrib_calc(year, data)\n",
    "data2 = (data.rolling(12).mean().loc['2001-01-01'] - data.rolling(12).mean()).dropna()\n",
    "\n",
    "# Plot change\n",
    "title = (f'Contributions to change in group labor force participation since 2001,'\n",
    "         f' {sex[0].lower()}, age {age[0]}-{age[1]}')\n",
    "ax = data2.plot(figsize=(10, 4), title=title)\n",
    "# Recession start and end months, from NBER\n",
    "rec_dt = [('2001-04-01', '2001-12-01'), ('2008-01-01', '2009-07-01')]\n",
    "for i, v in rec_dt:\n",
    "    ax = plt.axvspan(i, v, fill=True, linewidth=0, color='gray', alpha=0.15)  \n",
    "ax = plt.axhline(y=0, color='lightgray', zorder=1)\n",
    "ax = plt.xlabel(\"In percentage points, 12 month moving average. Source: Current Population Survey, author's calculations\")\n",
    "plt.savefig(f'{sex[0]}{age[0]}{age[1]}.png', bbox_inches='tight', dpi=200)"
   ]
  },
  {
   "cell_type": "code",
   "execution_count": null,
   "metadata": {
    "ExecuteTime": {
     "end_time": "2018-03-04T12:18:01.473663Z",
     "start_time": "2018-03-04T12:18:01.442412Z"
    }
   },
   "outputs": [],
   "source": [
    "group = (df['PRTAGE'].between(age[0], age[1])) & (df['PESEX'].isin(sex[1]))"
   ]
  },
  {
   "cell_type": "code",
   "execution_count": null,
   "metadata": {
    "ExecuteTime": {
     "end_time": "2018-03-04T12:30:21.478544Z",
     "start_time": "2018-03-04T12:30:21.244121Z"
    }
   },
   "outputs": [],
   "source": [
    "df = pd.read_pickle(f'data/cps_{year}.pkl')[ser]\n",
    "((df[group & (df['PENLFACT']==3)].groupby('HRMONTH')['PWSSWGT'].sum()) / \n",
    " (df[group & (df['PEMLR'].isin(range(1,8)))].groupby('HRMONTH')['PWSSWGT'].sum())* 100)"
   ]
  },
  {
   "cell_type": "code",
   "execution_count": null,
   "metadata": {
    "ExecuteTime": {
     "end_time": "2018-03-04T12:38:08.359838Z",
     "start_time": "2018-03-04T12:38:08.281695Z"
    }
   },
   "outputs": [],
   "source": [
    "calc = ((df[group & (df['PENLFACT']==3)].groupby('HRMONTH')['PWSSWGT'].sum()) / \n",
    " (df[group & (df['PEMLR'].isin(range(1,8)))].groupby('HRMONTH')['PWSSWGT'].sum())* 100)"
   ]
  },
  {
   "cell_type": "code",
   "execution_count": null,
   "metadata": {
    "ExecuteTime": {
     "end_time": "2018-03-04T12:40:22.676516Z",
     "start_time": "2018-03-04T12:40:22.645272Z"
    }
   },
   "outputs": [],
   "source": [
    "calc.index = [pd.to_datetime(f'{year}-{i}-01') for i in calc.index]"
   ]
  },
  {
   "cell_type": "code",
   "execution_count": null,
   "metadata": {
    "ExecuteTime": {
     "end_time": "2018-03-04T12:40:26.114916Z",
     "start_time": "2018-03-04T12:40:26.083672Z"
    }
   },
   "outputs": [],
   "source": [
    "calc"
   ]
  },
  {
   "cell_type": "code",
   "execution_count": null,
   "metadata": {
    "ExecuteTime": {
     "end_time": "2018-03-04T14:06:38.800193Z",
     "start_time": "2018-03-04T14:06:38.409512Z"
    }
   },
   "outputs": [],
   "source": [
    "year = 2005\n",
    "for i, df in pickle.load(open(f'data/cps_{year}.pkl', 'rb'))[ser].groupby('HRMONTH'):\n",
    "    date = pd.to_datetime(f'{year}-{i}-01')\n",
    "    df = df[(df['PRTAGE'].between(age[0], age[1])) & (df['PESEX'].isin(sex[1]))]\n",
    "    gpop = (np.where(df['PEMLR'].isin(range(1,8)), 1, 0) * df['PWSSWGT']).sum()"
   ]
  },
  {
   "cell_type": "code",
   "execution_count": null,
   "metadata": {
    "ExecuteTime": {
     "end_time": "2018-03-04T14:24:00.587997Z",
     "start_time": "2018-03-04T14:24:00.416103Z"
    }
   },
   "outputs": [],
   "source": [
    "df = pd.read_pickle(f'data/cps_2015.pkl')[ser].groupby('HRMONTH')"
   ]
  },
  {
   "cell_type": "code",
   "execution_count": null,
   "metadata": {
    "ExecuteTime": {
     "end_time": "2018-03-04T14:18:23.065089Z",
     "start_time": "2018-03-04T14:18:22.940076Z"
    }
   },
   "outputs": [],
   "source": [
    "df.reset_index().drop('index').to_feather('test.ft')"
   ]
  },
  {
   "cell_type": "code",
   "execution_count": null,
   "metadata": {
    "ExecuteTime": {
     "end_time": "2018-03-04T14:21:15.947725Z",
     "start_time": "2018-03-04T14:21:15.822712Z"
    }
   },
   "outputs": [],
   "source": [
    "df.reset_index(drop=True).to_feather('test.ft')#.drop('index', axis=1)"
   ]
  },
  {
   "cell_type": "code",
   "execution_count": null,
   "metadata": {
    "ExecuteTime": {
     "end_time": "2018-03-04T14:23:37.914054Z",
     "start_time": "2018-03-04T14:23:37.835919Z"
    }
   },
   "outputs": [],
   "source": [
    "df = pd.read_feather('test.ft', nthreads=2)[ser].groupby('HRMONTH')"
   ]
  },
  {
   "cell_type": "code",
   "execution_count": null,
   "metadata": {
    "ExecuteTime": {
     "end_time": "2018-03-04T12:11:18.316396Z",
     "start_time": "2018-03-04T12:11:18.066378Z"
    }
   },
   "outputs": [],
   "source": [
    "df = pd.read_pickle(f'data/cps_{year}.pkl')\n",
    "((df.loc[(df['PRTAGE'].between(age[0], age[1])) & (df['PESEX'].isin(sex[1])) & \n",
    "        (df['PENLFACT']==3)].groupby('HRMONTH')['PWSSWGT'].sum())/ \n",
    "(df.loc[(df['PRTAGE'].between(age[0], age[1])) & (df['PESEX'].isin(sex[1])) & \n",
    "        (df['PEMLR'].isin(range(1,8)))].groupby('HRMONTH')['PWSSWGT'].sum()) * 100)"
   ]
  },
  {
   "cell_type": "code",
   "execution_count": null,
   "metadata": {},
   "outputs": [],
   "source": []
  },
  {
   "cell_type": "code",
   "execution_count": null,
   "metadata": {
    "ExecuteTime": {
     "end_time": "2018-03-04T12:10:26.931542Z",
     "start_time": "2018-03-04T12:10:26.884672Z"
    }
   },
   "outputs": [],
   "source": [
    "(df.loc[(df['PRTAGE'].between(age[0], age[1])) & (df['PESEX'].isin(sex[1])) & \n",
    "        (df['PENLFACT']==3)].groupby('HRMONTH')['PWSSWGT'].sum())"
   ]
  },
  {
   "cell_type": "code",
   "execution_count": null,
   "metadata": {
    "ExecuteTime": {
     "end_time": "2018-03-04T12:05:09.146684Z",
     "start_time": "2018-03-04T12:05:09.131057Z"
    }
   },
   "outputs": [],
   "source": [
    "gpop"
   ]
  },
  {
   "cell_type": "code",
   "execution_count": null,
   "metadata": {
    "ExecuteTime": {
     "end_time": "2018-03-04T23:17:52.727938Z",
     "start_time": "2018-03-04T23:17:52.696697Z"
    }
   },
   "outputs": [],
   "source": [
    "data2.drop('Unemployed', axis=1)"
   ]
  },
  {
   "cell_type": "code",
   "execution_count": null,
   "metadata": {
    "ExecuteTime": {
     "end_time": "2018-03-04T03:10:36.157359Z",
     "start_time": "2018-03-04T03:10:36.126116Z"
    }
   },
   "outputs": [],
   "source": [
    "# Plot contribution to change in employment rate since 2001\n",
    "data2 = pd.DataFrame()\n",
    "df2 = data.rolling(12).mean().dropna()\n",
    "for month in list(df2.index):\n",
    "    for col, val in (df2.loc['2001-01-01'] - df2.loc[month]).items():\n",
    "        data2.at[month, col] = val\n",
    "        \n",
    "# Plot change\n",
    "title = (f'Contributions to change in group labor force participation since 2001,'\n",
    "         f' {sex[0][0]} age {ages[0][0]}-{ages[0][1]}')\n",
    "ax = data2.plot(figsize=(10, 4), title=title)\n",
    "# Recession start and end months, from NBER\n",
    "rec_dt = [('2001-04-01', '2001-12-01'), ('2008-01-01', '2009-07-01')]\n",
    "for i, v in rec_dt:\n",
    "    ax = plt.axvspan(i, v, fill=True, linewidth=0, color='gray', alpha=0.15)  \n",
    "ax = plt.axhline(y=0, color='lightgray', zorder=1)\n",
    "ax = plt.xlabel(\"In percentage points, 12 month moving average. Source: Current Population Survey, author's calculations\")\n",
    "plt.savefig(f'{sex[0][0]}{ages[0][0]}{ages[0][1]}.png', bbox_inches='tight', dpi=200)"
   ]
  },
  {
   "cell_type": "code",
   "execution_count": null,
   "metadata": {
    "ExecuteTime": {
     "end_time": "2018-03-04T02:57:14.930855Z",
     "start_time": "2018-03-04T02:57:14.915229Z"
    }
   },
   "outputs": [],
   "source": [
    "gpop"
   ]
  },
  {
   "cell_type": "code",
   "execution_count": null,
   "metadata": {
    "ExecuteTime": {
     "end_time": "2018-03-04T02:41:53.020862Z",
     "start_time": "2018-03-04T02:41:52.989621Z"
    }
   },
   "outputs": [],
   "source": [
    "months = [pd.to_datetime(f'2015-{i}-01') for i in df['HRMONTH'].unique()]"
   ]
  },
  {
   "cell_type": "code",
   "execution_count": null,
   "metadata": {},
   "outputs": [],
   "source": [
    "for arg in itertools.product(df['HRMONTH'].unique(), lfstat):\n",
    "    df.groupby(arg[0])"
   ]
  },
  {
   "cell_type": "code",
   "execution_count": null,
   "metadata": {},
   "outputs": [],
   "source": []
  },
  {
   "cell_type": "code",
   "execution_count": null,
   "metadata": {
    "ExecuteTime": {
     "end_time": "2018-03-04T02:42:20.257508Z",
     "start_time": "2018-03-04T02:42:20.226255Z"
    }
   },
   "outputs": [],
   "source": [
    "df['HRMONTH'].unique()"
   ]
  },
  {
   "cell_type": "code",
   "execution_count": null,
   "metadata": {
    "ExecuteTime": {
     "end_time": "2018-03-04T23:36:25.801430Z",
     "start_time": "2018-03-04T23:36:25.770187Z"
    },
    "code_folding": []
   },
   "outputs": [],
   "source": [
    "# Calculate totals for several activities \n",
    "def contrib_calc(year, data, ages, sex, ser, wc, lfstat):\n",
    "    \"\"\"Calculate NILF categories' contribution to group change \n",
    "       in labor force measures (lfpr, epop) since 2000.\"\"\"    \n",
    "    for i, df in pd.read_feather(f'data/cps_{y}.ft', nthreads=3)[ser].groupby('HRMONTH'):\n",
    "        date = pd.to_datetime(f'{year}-{i}-01')\n",
    "        for arg in itertools.product(ages, sex):\n",
    "            dft = df[(df['PRTAGE'].between(arg[0][0], arg[0][1])) & \n",
    "                     (df['PESEX'].isin(arg[1][1]))]\n",
    "            g = np.where(dft['PEMLR'].isin(range(1,8)), 1, 0)\n",
    "            gpop = (g * dft['PWCMPWGT']).sum() / wc \n",
    "            for lf in lfstat:\n",
    "                vals = np.where(dft[lf[2]].isin(lf[1]), 1, 0)\n",
    "                gtot = (vals * dft['PWCMPWGT']).sum() / wc\n",
    "                data.at[date, f'{lf[0]}'] = gtot / gpop * 100\n",
    "    return data.sort_index()"
   ]
  },
  {
   "cell_type": "code",
   "execution_count": null,
   "metadata": {
    "ExecuteTime": {
     "end_time": "2018-03-04T23:37:05.016031Z",
     "start_time": "2018-03-04T23:36:59.234249Z"
    },
    "code_folding": []
   },
   "outputs": [],
   "source": [
    "# Run the calculator on each year\n",
    "ages = [(25, 54)]\n",
    "sex = [('total', [1, 2])]\n",
    "data = pd.DataFrame()\n",
    "ser = ['PWSSWGT', 'HRMONTH', 'PRTAGE', 'PESEX', \n",
    "       'PWORWGT', 'PENLFACT', 'PEMLR', 'PEDWWNTO']\n",
    "lfstat = [('Disabled/Ill', [6], 'PEMLR'),\n",
    "          ('Discouraged', [1], 'PEDWWNTO'),          \n",
    "          ('Enrolled in school', [3], 'PENLFACT'),\n",
    "          ('Home/Family', [4], 'PENLFACT'), \n",
    "          ('Retired', [5], 'PEMLR')]\n",
    "wc = 10000000.0   # Monthly weight in thousands of people\n",
    "for y in range(2000, 2019):    # Test small\n",
    "    contrib_calc(y, data, ages, sex, ser, wc, lfstat)\n",
    "    \n",
    "# Plot contribution to change in employment rate since 2001\n",
    "data2 = pd.DataFrame()\n",
    "df2 = data.rolling(12).mean().dropna()\n",
    "for month in list(df2.index):\n",
    "    for col, val in (df2.loc['2001-01-01'] - df2.loc[month]).items():\n",
    "        data2.at[month, col] = val\n",
    "        \n",
    "# Plot change\n",
    "title = (f'Contributions to change in group labor force participation since 2001,'\n",
    "         f' {sex[0][0]} age {ages[0][0]}-{ages[0][1]}')\n",
    "ax = data2.plot(figsize=(10, 4), title=title)\n",
    "# Recession start and end months, from NBER\n",
    "rec_dt = [('2001-04-01', '2001-12-01'), ('2008-01-01', '2009-07-01')]\n",
    "for i, v in rec_dt:\n",
    "    ax = plt.axvspan(i, v, fill=True, linewidth=0, color='gray', alpha=0.15)  \n",
    "ax = plt.axhline(y=0, color='lightgray', zorder=1)\n",
    "ax = plt.xlabel(\"In percentage points, 12 month moving average. Source: Current Population Survey, author's calculations\")\n",
    "plt.savefig(f'{sex[0][0]}{ages[0][0]}{ages[0][1]}.png', bbox_inches='tight', dpi=200)"
   ]
  },
  {
   "cell_type": "code",
   "execution_count": null,
   "metadata": {},
   "outputs": [],
   "source": []
  },
  {
   "cell_type": "code",
   "execution_count": null,
   "metadata": {},
   "outputs": [],
   "source": []
  },
  {
   "cell_type": "code",
   "execution_count": null,
   "metadata": {},
   "outputs": [],
   "source": []
  },
  {
   "cell_type": "code",
   "execution_count": null,
   "metadata": {},
   "outputs": [],
   "source": []
  },
  {
   "cell_type": "code",
   "execution_count": null,
   "metadata": {},
   "outputs": [],
   "source": []
  },
  {
   "cell_type": "code",
   "execution_count": null,
   "metadata": {},
   "outputs": [],
   "source": []
  },
  {
   "cell_type": "code",
   "execution_count": null,
   "metadata": {},
   "outputs": [],
   "source": []
  },
  {
   "cell_type": "code",
   "execution_count": null,
   "metadata": {},
   "outputs": [],
   "source": []
  },
  {
   "cell_type": "code",
   "execution_count": null,
   "metadata": {},
   "outputs": [],
   "source": []
  },
  {
   "cell_type": "code",
   "execution_count": null,
   "metadata": {},
   "outputs": [],
   "source": []
  },
  {
   "cell_type": "code",
   "execution_count": null,
   "metadata": {},
   "outputs": [],
   "source": []
  },
  {
   "cell_type": "code",
   "execution_count": null,
   "metadata": {},
   "outputs": [],
   "source": []
  },
  {
   "cell_type": "code",
   "execution_count": null,
   "metadata": {
    "ExecuteTime": {
     "end_time": "2018-02-25T22:33:40.406342Z",
     "start_time": "2018-02-25T22:33:40.375090Z"
    }
   },
   "outputs": [],
   "source": [
    "pd.read_pickle(f'data/cps_{y}.pkl')"
   ]
  },
  {
   "cell_type": "code",
   "execution_count": null,
   "metadata": {},
   "outputs": [],
   "source": []
  },
  {
   "cell_type": "code",
   "execution_count": null,
   "metadata": {},
   "outputs": [],
   "source": []
  },
  {
   "cell_type": "code",
   "execution_count": null,
   "metadata": {
    "ExecuteTime": {
     "end_time": "2018-02-20T04:46:26.214714Z",
     "start_time": "2018-02-20T04:46:25.410443Z"
    },
    "code_folding": []
   },
   "outputs": [],
   "source": [
    "# Plot contribution to change in employment rate since 2001\n",
    "data2 = pd.DataFrame()\n",
    "df2 = data.rolling(12).mean().dropna()\n",
    "for month in list(df2.index):\n",
    "    for col, val in (df2.loc['2001-01-01'] - df2.loc[month]).items():\n",
    "        data2.at[month, col] = val\n",
    "        \n",
    "# Plot change\n",
    "ax = data2.plot(figsize=(10, 4), title='Contribution to change in employment-rate since 2001, women age 25-54')\n",
    "ax = plt.axhline(y=0, color='lightgray')\n",
    "plt.savefig('women2554.png', bbox_inches='tight', dpi=200)"
   ]
  },
  {
   "cell_type": "code",
   "execution_count": null,
   "metadata": {},
   "outputs": [],
   "source": []
  },
  {
   "cell_type": "code",
   "execution_count": null,
   "metadata": {},
   "outputs": [],
   "source": []
  },
  {
   "cell_type": "code",
   "execution_count": null,
   "metadata": {},
   "outputs": [],
   "source": []
  },
  {
   "cell_type": "code",
   "execution_count": null,
   "metadata": {},
   "outputs": [],
   "source": []
  },
  {
   "cell_type": "code",
   "execution_count": null,
   "metadata": {},
   "outputs": [],
   "source": []
  },
  {
   "cell_type": "code",
   "execution_count": null,
   "metadata": {},
   "outputs": [],
   "source": []
  },
  {
   "cell_type": "code",
   "execution_count": null,
   "metadata": {},
   "outputs": [],
   "source": []
  },
  {
   "cell_type": "code",
   "execution_count": null,
   "metadata": {},
   "outputs": [],
   "source": []
  },
  {
   "cell_type": "code",
   "execution_count": null,
   "metadata": {
    "ExecuteTime": {
     "end_time": "2018-02-20T04:07:55.657201Z",
     "start_time": "2018-02-20T04:07:55.610321Z"
    }
   },
   "outputs": [],
   "source": [
    "# Calculate totals for several activities \n",
    "def contrib_calc(year, data, ages, sex, ser, wc, lfstat):\n",
    "    \"\"\"Calculate NILF categories' contribution to group change \n",
    "       in labor force measures (lfpr, epop) since 2000.\"\"\"    \n",
    "    raw = pd.read_pickle(f'data/cps_{y}.pkl')[ser]\n",
    "    grouped = raw.groupby('HRMONTH')\n",
    "    for i, df in grouped:\n",
    "        date = pd.to_datetime(f'{year}-{i}-01')\n",
    "        for arg in itertools.product(ages, sex):\n",
    "            group = f'{arg[1][0]}, {arg[0][0]}-{arg[0][1]} years old'\n",
    "            dft = df[(df['PRTAGE'].between(arg[0][0], arg[0][1])) & \n",
    "                     (df['PESEX'].isin(arg[1][1]))]\n",
    "            g = np.where(dft['PEMLR'].isin(range(1,8)), 1, 0)\n",
    "            gpop = (g * dft['PWCMPWGT']).sum() / wc \n",
    "            for lf in lfstat:\n",
    "                vals = np.where(dft[lf[2]].isin(lf[1]), 1, 0)\n",
    "                if lf[0] in ['Disc2', 'Disc3']:\n",
    "                    gpop = (g * dft['PWORWGT']).sum() / wc\n",
    "                    gtot = (vals * dft['PWORWGT']).sum() / wc\n",
    "                else:\n",
    "                    gtot = (vals * dft['PWCMPWGT']).sum() / wc\n",
    "                col_name = (f'{lf[0]} {group}')\n",
    "                #data.at[date, f'{col_name}, in thousands'] = gtot\n",
    "                data.at[date, f'{col_name}, share'] = gtot / gpop * 100\n",
    "    return data.sort_index()"
   ]
  },
  {
   "cell_type": "code",
   "execution_count": null,
   "metadata": {
    "ExecuteTime": {
     "end_time": "2018-02-20T04:08:33.785468Z",
     "start_time": "2018-02-20T04:08:04.173510Z"
    }
   },
   "outputs": [],
   "source": [
    "# Run the calculator on each year\n",
    "ages = [(25, 54)] # (25, 34), (35, 44), (45, 54), (55, 64), \n",
    "sex = [('total', [1, 2])] # ('men', [1]), ('women', [2]), \n",
    "data = pd.DataFrame()\n",
    "ser = ['PWCMPWGT', 'HRMONTH', 'PRTAGE', 'PESEX', \n",
    "       'PWORWGT', 'PENLFACT', 'PEMLR', 'PEDWWNTO']\n",
    "lfstat = [#('Unemployed', [2], 'PREMPNOT'), \n",
    "          #('Employed', [1], 'PREMPNOT'), \n",
    "          #('Labor Force', range(1,5), 'PEMLR'),\n",
    "          #('Disabled/Ill', [1, 2], 'PENLFACT'),\n",
    "          ('Disabled/Ill', [6], 'PEMLR'),\n",
    "          #('Discouraged', [3], 'PREMPNOT'),\n",
    "          #('Disc2', [1, 2], 'PRDISC'),\n",
    "          ('Discouraged', [1], 'PEDWWNTO'),          \n",
    "          #('NILF-other', [4], 'PREMPNOT'), \n",
    "          ('School', [3], 'PENLFACT'),\n",
    "          ('Care', [4], 'PENLFACT'), \n",
    "          #('retired1', [5], 'PENLFACT'), \n",
    "          #('retired-older', [1], 'PENLFRET'),\n",
    "          ('retired3', [5], 'PEMLR')]#,\n",
    "          #('NILF-oth-act', [6], 'PENLFACT')]\n",
    "wc = 10000000.0   # Monthly weight in thousands of people\n",
    "for y in range(1998, 2019):    # Test small\n",
    "    data = contrib_calc(y, data, ages, sex, ser, wc, lfstat)"
   ]
  },
  {
   "cell_type": "code",
   "execution_count": null,
   "metadata": {
    "ExecuteTime": {
     "end_time": "2018-02-20T03:14:49.855496Z",
     "start_time": "2018-02-20T03:14:49.824243Z"
    }
   },
   "outputs": [],
   "source": [
    "data.head()"
   ]
  },
  {
   "cell_type": "code",
   "execution_count": null,
   "metadata": {
    "ExecuteTime": {
     "end_time": "2018-02-20T04:09:42.963051Z",
     "start_time": "2018-02-20T04:09:42.947425Z"
    }
   },
   "outputs": [],
   "source": [
    "data2 = pd.DataFrame()\n",
    "df2 = data.rolling(12).mean().dropna()\n",
    "for month in list(df2.index):\n",
    "    for col, val in (df2.loc['2001-01-01'] - df2.loc[month]).items():\n",
    "        data2.at[month, col] = val\n",
    "        \n",
    "%matplotlib inline\n",
    "data2.iloc[:,-5:].plot()"
   ]
  },
  {
   "cell_type": "code",
   "execution_count": null,
   "metadata": {
    "ExecuteTime": {
     "end_time": "2018-02-20T04:09:46.822736Z",
     "start_time": "2018-02-20T04:09:45.713271Z"
    }
   },
   "outputs": [],
   "source": [
    "for month in list(df2.index):\n",
    "    for col, val in (df2.loc['2001-01-01'] - df2.loc[month]).items():\n",
    "        data2.at[month, col] = val"
   ]
  },
  {
   "cell_type": "code",
   "execution_count": null,
   "metadata": {
    "ExecuteTime": {
     "end_time": "2018-02-20T03:31:33.790979Z",
     "start_time": "2018-02-20T03:31:33.697230Z"
    }
   },
   "outputs": [],
   "source": [
    "#data2.loc['2001-01-01':].rolling(12).mean().dropna()\n",
    "#val = data2.loc['2001-01-01':] - data.loc['2018-01-01']\n",
    "data2.to_csv('test7.csv')"
   ]
  },
  {
   "cell_type": "code",
   "execution_count": null,
   "metadata": {
    "ExecuteTime": {
     "end_time": "2018-02-20T04:11:17.236725Z",
     "start_time": "2018-02-20T04:11:15.736614Z"
    }
   },
   "outputs": [],
   "source": [
    "%matplotlib inline\n",
    "data2.iloc[:,-5:].plot()"
   ]
  },
  {
   "cell_type": "code",
   "execution_count": null,
   "metadata": {
    "ExecuteTime": {
     "end_time": "2018-02-20T01:20:15.860376Z",
     "start_time": "2018-02-20T01:20:15.829131Z"
    }
   },
   "outputs": [],
   "source": [
    "for col, val in data.loc[month] - data.loc['2001-01-01']:\n",
    "    print(col)"
   ]
  },
  {
   "cell_type": "code",
   "execution_count": null,
   "metadata": {
    "ExecuteTime": {
     "end_time": "2018-02-20T01:35:13.150399Z",
     "start_time": "2018-02-20T01:35:13.119155Z"
    }
   },
   "outputs": [],
   "source": [
    "df2 = data.rolling(12).mean().dropna()\n",
    "#val = data.loc['2018-01-01'] - data.loc['2001-01-01']"
   ]
  },
  {
   "cell_type": "code",
   "execution_count": null,
   "metadata": {
    "ExecuteTime": {
     "end_time": "2018-02-20T01:21:23.587631Z",
     "start_time": "2018-02-20T01:21:23.556388Z"
    }
   },
   "outputs": [],
   "source": [
    "for x, y in val.items():\n",
    "    print(x)"
   ]
  },
  {
   "cell_type": "code",
   "execution_count": null,
   "metadata": {
    "ExecuteTime": {
     "end_time": "2018-02-20T00:26:31.439445Z",
     "start_time": "2018-02-20T00:26:31.408190Z"
    }
   },
   "outputs": [],
   "source": [
    "df2.loc['2018-01-01'] - df2.loc['2000-01-01']"
   ]
  },
  {
   "cell_type": "code",
   "execution_count": null,
   "metadata": {
    "ExecuteTime": {
     "end_time": "2018-02-20T02:40:42.561739Z",
     "start_time": "2018-02-20T02:40:42.342979Z"
    }
   },
   "outputs": [],
   "source": [
    "pd.read_pickle('data/cps_1998.pkl')"
   ]
  },
  {
   "cell_type": "code",
   "execution_count": null,
   "metadata": {
    "ExecuteTime": {
     "end_time": "2018-02-19T23:42:50.518808Z",
     "start_time": "2018-02-19T23:42:50.456302Z"
    },
    "code_folding": []
   },
   "outputs": [],
   "source": [
    "# Calculate totals for several activities \n",
    "def contrib_calc(year, data, ages, sex, ser, wc):\n",
    "    \"\"\"Calculate NILF categories' contribution to group change \n",
    "       in labor force measures (lfpr, epop) since 2000.\"\"\"    \n",
    "    raw = pd.read_pickle(f'data/cps_{y}.pkl')[ser]\n",
    "    grouped = raw.groupby('HRMONTH')\n",
    "    for i, df in grouped:\n",
    "        date = pd.to_datetime(f'{year}-{i}-01')\n",
    "        for arg in itertools.product(ages, sex):\n",
    "            dft = df[(df['PRTAGE'].between(arg[0][0], arg[0][1])) & \n",
    "                     (df['PESEX'] == arg[1][1])]\n",
    "            il = np.where(dft['PENLFACT'].isin([1, 2]), 1, 0)\n",
    "            sc = np.where(dft['PENLFACT'].isin([3]), 1, 0)\n",
    "            ca = np.where(dft['PENLFACT'].isin([4]), 1, 0)\n",
    "            rt1 = np.where(dft['PENLFACT'].isin([5]), 1, 0)\n",
    "            rt = np.where(dft['PENLFRET'].isin([1]), 1, 0)\n",
    "            un = np.where(dft['PREMPNOT'].isin([2]), 1, 0)\n",
    "            em = np.where(dft['PREMPNOT'].isin([1]), 1, 0)\n",
    "            di = np.where(dft['PREMPNOT'].isin([3]), 1, 0)\n",
    "            ot = np.where(dft['PREMPNOT'].isin([4]), 1, 0)\n",
    "            ot2 = np.where(dft['PENLFACT'].isin([6]), 1, 0)\n",
    "            lfstat = [('Unemployed', un), ('Employed', em), ('Disabled/Ill', il),\n",
    "                      ('Discouraged', di), (\"NILF - other\", ot), ('School', sc),\n",
    "                      ('Care', ca), ('retired1', rt1), ('retired-older', rt),\n",
    "                      ('NILF-oth-act', ot2)]\n",
    "            for item, vals in lfstat:\n",
    "                col_name = (f'{item} {arg[1][0]}, {arg[0][0]}-'\n",
    "                            f'{arg[0][1]} years old, in thousands')\n",
    "                data.at[date, col_name] = (vals * dft['PWCMPWGT']).sum() / wc\n",
    "    return data.sort_index()"
   ]
  },
  {
   "cell_type": "code",
   "execution_count": null,
   "metadata": {
    "ExecuteTime": {
     "end_time": "2018-02-19T23:56:07.547774Z",
     "start_time": "2018-02-19T23:56:07.532145Z"
    }
   },
   "outputs": [],
   "source": [
    "lfstat = [('Unemployed', [2], 'PREMPNOT'), \n",
    "          ('Employed', [1], 'PREMPNOT'), \n",
    "          ('Disabled/Ill', [1, 2], 'PENLFACT'),\n",
    "          ('Discouraged', [3], 'PREMPNOT'), \n",
    "          ('NILF-other', [4], 'PREMPNOT'), \n",
    "          ('School', [3], 'PENLFACT'),\n",
    "          ('Care', [4], 'PENLFACT'), \n",
    "          ('retired1', [5], 'PENLFACT'), \n",
    "          ('retired-older', [1], 'PENLFRET'),\n",
    "          ('NILF-oth-act', [6], 'PENLFACT')]"
   ]
  },
  {
   "cell_type": "code",
   "execution_count": null,
   "metadata": {
    "ExecuteTime": {
     "end_time": "2018-02-20T00:07:27.866823Z",
     "start_time": "2018-02-20T00:07:27.835574Z"
    }
   },
   "outputs": [],
   "source": [
    "def group_total(dft, lf, arg, wc):\n",
    "    vals = np.where(dft[lf[2]].isin(lf[1]), 1, 0)\n",
    "    col_name = (f'{lf[0]} {arg[1][0]}, {arg[0][0]}-'\n",
    "                f'{arg[0][1]} years old, in thousands')\n",
    "    return (vals * dft['PWCMPWGT']).sum() / wc"
   ]
  },
  {
   "cell_type": "code",
   "execution_count": null,
   "metadata": {
    "ExecuteTime": {
     "end_time": "2018-02-19T23:54:54.372267Z",
     "start_time": "2018-02-19T23:54:54.356639Z"
    }
   },
   "outputs": [],
   "source": [
    "def lf_stat_calc(data, dft, lf, arg, wc):\n",
    "    vals = np.where(dft['PENLFACT'].isin([1, 2]), 1, 0)\n",
    "    col_name = (f'{lf[0]} {arg[1][0]}, {arg[0][0]}-'\n",
    "                f'{arg[0][1]} years old, in thousands')\n",
    "    data.at[date, col_name] = (val * dft['PWCMPWGT']).sum() / wc\n",
    "    return data"
   ]
  },
  {
   "cell_type": "code",
   "execution_count": null,
   "metadata": {
    "ExecuteTime": {
     "end_time": "2018-02-19T23:43:06.536200Z",
     "start_time": "2018-02-19T23:42:52.284596Z"
    }
   },
   "outputs": [],
   "source": [
    "# Run the calculator on each year\n",
    "ages = [(25, 34), (35, 44), (45, 54)]\n",
    "sex = [('men', 1), ('women', 2)]\n",
    "data = pd.DataFrame()\n",
    "ser = ['PREMPNOT', 'PWCMPWGT', 'HRMONTH', 'PRTAGE', 'PESEX', 'PENLFACT', 'PENLFRET', 'PRERNWA']\n",
    "wc = 10000000.0   # Monthly weight in thousands of people\n",
    "for y in range(1998, 2019):    # Test small\n",
    "    data = contrib_calc(y, data, ages, sex, ser, wc)"
   ]
  },
  {
   "cell_type": "code",
   "execution_count": null,
   "metadata": {},
   "outputs": [],
   "source": [
    "raw_contr = "
   ]
  },
  {
   "cell_type": "code",
   "execution_count": null,
   "metadata": {
    "ExecuteTime": {
     "end_time": "2018-02-19T23:38:59.482813Z",
     "start_time": "2018-02-19T23:38:59.435934Z"
    }
   },
   "outputs": [],
   "source": [
    "df.groupby('PRTAGE')['PRERNWA'].describe()"
   ]
  },
  {
   "cell_type": "code",
   "execution_count": null,
   "metadata": {
    "ExecuteTime": {
     "end_time": "2018-02-19T23:39:20.359671Z",
     "start_time": "2018-02-19T23:39:20.328419Z"
    }
   },
   "outputs": [],
   "source": [
    "df"
   ]
  },
  {
   "cell_type": "code",
   "execution_count": null,
   "metadata": {
    "ExecuteTime": {
     "end_time": "2018-02-19T23:21:00.703057Z",
     "start_time": "2018-02-19T23:21:00.671816Z"
    }
   },
   "outputs": [],
   "source": [
    "data.loc['2000-01-01']"
   ]
  },
  {
   "cell_type": "code",
   "execution_count": null,
   "metadata": {},
   "outputs": [],
   "source": []
  },
  {
   "cell_type": "code",
   "execution_count": null,
   "metadata": {},
   "outputs": [],
   "source": []
  },
  {
   "cell_type": "code",
   "execution_count": null,
   "metadata": {},
   "outputs": [],
   "source": []
  },
  {
   "cell_type": "code",
   "execution_count": null,
   "metadata": {},
   "outputs": [],
   "source": [
    "def contrib_calc(year, data, ages, sex):\n",
    "    \"\"\"Calculate NILF categories' contribution to group change \n",
    "       in labor force measures (lfpr, epop) since 2000.\"\"\"    \n",
    "    ser = ['PREMPNOT', 'PWCMPWGT', 'HRMONTH', 'PRTAGE', 'PESEX', 'PENLFACT', 'PENLFRET']\n",
    "    wc = 10000000.0   # Monthly weight in thousands of people\n",
    "    raw = pd.read_pickle(f'data/cps_{y}.pkl')[ser]\n",
    "    grouped = raw.groupby(['HRMONTH', 'PESEX'])\n",
    "    for i, df in grouped:\n",
    "        date = pd.to_datetime(f'{year}-{i}-01')\n",
    "        for arg in itertools.product(ages, sex):\n",
    "            dft = df[(df['PRTAGE'].between(arg[0][0], arg[0][1])) & \n",
    "                     (df['PESEX'] == arg[1][1])]\n",
    "            il = np.where(dft['PENLFACT'].isin([1, 2]), 1, 0)\n",
    "            sc = np.where(dft['PENLFACT'].isin([3]), 1, 0)\n",
    "            ca = np.where(dft['PENLFACT'].isin([4]), 1, 0)\n",
    "            rt1 = np.where(dft['PENLFACT'].isin([5]), 1, 0)\n",
    "            rt = np.where(dft['PENLFRET'].isin([1]), 1, 0)\n",
    "            un = np.where(dft['PREMPNOT'].isin([2]), 1, 0)\n",
    "            em = np.where(dft['PREMPNOT'].isin([1]), 1, 0)\n",
    "            di = np.where(dft['PREMPNOT'].isin([3]), 1, 0)\n",
    "            ot = np.where(dft['PREMPNOT'].isin([4]), 1, 0)\n",
    "            ot2 = np.where(dft['PENLFACT'].isin([6]), 1, 0)\n",
    "            lfstat = [('Unemployed', un), ('Employed', em), ('Disabled/Ill', il),\n",
    "                      ('Discouraged', di), (\"NILF - other\", ot), ('School', sc),\n",
    "                      ('Care', ca), ('retired1', rt1), ('retired-older', rt),\n",
    "                      ('NILF-oth-act', ot2)]\n",
    "            for item, vals in lfstat:\n",
    "                col_name = (f'{item} {arg[1][0]}, {arg[0][0]}-'\n",
    "                            f'{arg[0][1]} years old, in thousands')\n",
    "                data.at[date, col_name] = (vals * dft['PWCMPWGT']).sum() / wc\n",
    "    return data.sort_index()"
   ]
  },
  {
   "cell_type": "code",
   "execution_count": null,
   "metadata": {},
   "outputs": [],
   "source": []
  },
  {
   "cell_type": "code",
   "execution_count": null,
   "metadata": {},
   "outputs": [],
   "source": []
  },
  {
   "cell_type": "code",
   "execution_count": null,
   "metadata": {},
   "outputs": [],
   "source": []
  },
  {
   "cell_type": "code",
   "execution_count": null,
   "metadata": {},
   "outputs": [],
   "source": []
  },
  {
   "cell_type": "code",
   "execution_count": null,
   "metadata": {
    "ExecuteTime": {
     "end_time": "2018-02-19T23:29:25.041676Z",
     "start_time": "2018-02-19T23:29:24.197867Z"
    }
   },
   "outputs": [],
   "source": [
    "data = pd.DataFrame()\n",
    "ages = [(25, 34), (35, 44), (45, 54)]\n",
    "sex = {1: 'men', 2: 'women'}\n",
    "#sex = [('men', 1), ('women', 2)]\n",
    "ser = ['PREMPNOT', 'PWCMPWGT', 'HRMONTH', 'PRTAGE', 'PESEX', 'PENLFACT', 'PENLFRET']\n",
    "wc = 10000000.0   # Monthly weight in thousands of people\n",
    "raw = pd.read_pickle('data/cps_2017.pkl')[ser]\n",
    "grouped = raw.groupby(['HRMONTH', 'PESEX'])\n",
    "for i, df in grouped:\n",
    "    date = pd.to_datetime(f'2017-{i[0]}-01')\n",
    "    for age in ages:\n",
    "        dft = df[(df['PRTAGE'].between(age[0], age[1]))]\n",
    "        il = np.where(dft['PENLFACT'].isin([1, 2]), 1, 0)\n",
    "        sc = np.where(dft['PENLFACT'].isin([3]), 1, 0)\n",
    "        ca = np.where(dft['PENLFACT'].isin([4]), 1, 0)\n",
    "        rt1 = np.where(dft['PENLFACT'].isin([5]), 1, 0)\n",
    "        rt = np.where(dft['PENLFRET'].isin([1]), 1, 0)\n",
    "        un = np.where(dft['PREMPNOT'].isin([2]), 1, 0)\n",
    "        em = np.where(dft['PREMPNOT'].isin([1]), 1, 0)\n",
    "        di = np.where(dft['PREMPNOT'].isin([3]), 1, 0)\n",
    "        ot = np.where(dft['PREMPNOT'].isin([4]), 1, 0)\n",
    "        ot2 = np.where(dft['PENLFACT'].isin([6]), 1, 0)\n",
    "        lfstat = [('Unemployed', un), ('Employed', em), ('Disabled/Ill', il),\n",
    "                  ('Discouraged', di), (\"NILF - other\", ot), ('School', sc),\n",
    "                  ('Care', ca), ('retired1', rt1), ('retired-older', rt),\n",
    "                  ('NILF-oth-act', ot2)]\n",
    "        for item, vals in lfstat:\n",
    "            col_name = (f'{item} {sex[i[1]]}, {age[0]}-{age[1]} years old, in thousands')\n",
    "            data.at[date, col_name] = (vals * dft['PWCMPWGT']).sum() / wc"
   ]
  },
  {
   "cell_type": "code",
   "execution_count": null,
   "metadata": {
    "ExecuteTime": {
     "end_time": "2018-02-20T00:09:04.749837Z",
     "start_time": "2018-02-20T00:09:04.734210Z"
    }
   },
   "outputs": [],
   "source": [
    "data"
   ]
  },
  {
   "cell_type": "code",
   "execution_count": null,
   "metadata": {
    "ExecuteTime": {
     "end_time": "2018-02-19T23:23:27.543244Z",
     "start_time": "2018-02-19T23:23:27.527608Z"
    }
   },
   "outputs": [],
   "source": [
    "grouped = df.groupby(['HRMONTH', 'PESEX'])"
   ]
  },
  {
   "cell_type": "code",
   "execution_count": null,
   "metadata": {
    "ExecuteTime": {
     "end_time": "2018-02-19T23:23:29.262122Z",
     "start_time": "2018-02-19T23:23:29.012103Z"
    }
   },
   "outputs": [],
   "source": [
    "for x, y in grouped:\n",
    "    print(x)"
   ]
  },
  {
   "cell_type": "code",
   "execution_count": null,
   "metadata": {
    "ExecuteTime": {
     "end_time": "2018-02-19T22:38:25.325092Z",
     "start_time": "2018-02-19T22:38:25.262587Z"
    },
    "code_folding": []
   },
   "outputs": [],
   "source": [
    "def contrib_calc():\n",
    "    \"\"\"Calculate NILF categories' contribution to group change \n",
    "       in labor force measures (lfpr, epop) since 2000.\"\"\"\n",
    "    data = pd.DataFrame()\n",
    "    ages = [(25, 34), (35, 44), (45, 54)]\n",
    "    sex = [('men', 1), ('women', 2)]\n",
    "    ser = ['PREMPNOT', 'PWCMPWGT', 'HRMONTH', 'PRTAGE', 'PESEX', 'PENLFACT', 'PENLFRET']\n",
    "    wc = 10000000.0   # Monthly weight in thousands of people\n",
    "    for y in range(1998, 2019):    # Test small\n",
    "        df = pd.read_pickle(f'data/cps_{y}.pkl')[ser]\n",
    "        mos = list(df['HRMONTH'].unique())\n",
    "        for arg in itertools.product(mos, ages, sex):\n",
    "            dft = df[(df['HRMONTH'] == arg[0]) & \n",
    "                     (df['PRTAGE'].between(arg[1][0], arg[1][1])) & \n",
    "                     (df['PESEX'] == arg[2][1])]\n",
    "            il = np.where(dft['PENLFACT'].isin([1, 2]), 1, 0)\n",
    "            sc = np.where(dft['PENLFACT'].isin([3]), 1, 0)\n",
    "            ca = np.where(dft['PENLFACT'].isin([4]), 1, 0)\n",
    "            rt1 = np.where(dft['PENLFACT'].isin([5]), 1, 0)\n",
    "            rt = np.where(dft['PENLFRET'].isin([1]), 1, 0)\n",
    "            un = np.where(dft['PREMPNOT'].isin([2]), 1, 0)\n",
    "            em = np.where(dft['PREMPNOT'].isin([1]), 1, 0)\n",
    "            di = np.where(dft['PREMPNOT'].isin([3]), 1, 0)\n",
    "            ot = np.where(dft['PREMPNOT'].isin([4]), 1, 0)\n",
    "            ot2 = np.where(dft['PENLFACT'].isin([6]), 1, 0)\n",
    "            date = pd.to_datetime(f'{y}-{arg[0]}-01')\n",
    "            lfstat = [('Unemployed', un), ('Employed', em), ('Disabled/Ill', il),\n",
    "                      ('Discouraged', di), (\"NILF - other\", ot), ('School', sc),\n",
    "                      ('Care', ca), ('retired1', rt1), ('retired-older', rt),\n",
    "                      ('NILF-oth-act', ot2)]\n",
    "            for item, vals in lfstat:\n",
    "                col_name = (f'{item} {arg[2][0]}, {arg[1][0]}-'\n",
    "                        f'{arg[1][1]} years old, in thousands')\n",
    "                data.at[date, col_name] = (vals * dft['PWCMPWGT']).sum() / wc\n",
    "    return data.sort_index()"
   ]
  },
  {
   "cell_type": "code",
   "execution_count": null,
   "metadata": {},
   "outputs": [],
   "source": []
  },
  {
   "cell_type": "code",
   "execution_count": null,
   "metadata": {
    "ExecuteTime": {
     "end_time": "2018-02-19T22:39:01.500108Z",
     "start_time": "2018-02-19T22:38:27.278374Z"
    }
   },
   "outputs": [],
   "source": [
    "df = contrib_calc()"
   ]
  },
  {
   "cell_type": "code",
   "execution_count": null,
   "metadata": {
    "ExecuteTime": {
     "end_time": "2018-02-19T23:58:18.175657Z",
     "start_time": "2018-02-19T23:58:18.128770Z"
    }
   },
   "outputs": [],
   "source": [
    "data"
   ]
  },
  {
   "cell_type": "code",
   "execution_count": null,
   "metadata": {},
   "outputs": [],
   "source": []
  },
  {
   "cell_type": "code",
   "execution_count": null,
   "metadata": {},
   "outputs": [],
   "source": [
    "def contrib_calc():\n",
    "    \"\"\"Calculate NILF categories' contribution to group change \n",
    "       in labor force measures (lfpr, epop) since 2000.\"\"\"\n",
    "    data = pd.DataFrame()\n",
    "    vars_vals = [('PREMPNOT', [2])]\n",
    "    ages = [(25, 34), (35, 44), (45, 54)]\n",
    "    sex = [('men', 1), ('women', 2)]\n",
    "    for y in range(1998, 2019):    # Test small\n",
    "        df = pd.read_pickle(f'data/cps_{y}.pkl')\n",
    "        mos = list(df['HRMONTH'].unique())\n",
    "        for arg in itertools.product(vars_vals, ages, sex):\n",
    "            col_name = (f'Unemployed {arg[2][0]}, {arg[1][0]}-'\n",
    "                        f'{arg[1][1]} years old, in thousands')\n",
    "            dft = df[(df['PRTAGE'].between(arg[1][0], arg[1][1])) & \n",
    "                     (df['PESEX'] == arg[2][1])]\n",
    "            r = np.where(dft[arg[0][0]].isin(arg[0][1]), 1, 0)\n",
    "            #date = pd.to_datetime(f'{y}-{arg[0]}-01')\n",
    "            #data.at[date, col_name] = (r * dft['PWCMPWGT']).sum()\n",
    "    return #data.sort_index()"
   ]
  },
  {
   "cell_type": "code",
   "execution_count": null,
   "metadata": {},
   "outputs": [],
   "source": []
  },
  {
   "cell_type": "code",
   "execution_count": null,
   "metadata": {
    "ExecuteTime": {
     "end_time": "2018-02-19T06:26:22.405020Z",
     "start_time": "2018-02-19T06:26:22.147270Z"
    }
   },
   "outputs": [],
   "source": [
    "d = pd.read_pickle('data/cps_2017.pkl')\n",
    "for month in range (1, 13):\n",
    "    df = d[d['HRMONTH'] == month]\n",
    "    un = np.where(df['PREMPNOT'].isin([2]), 1, 0)\n",
    "    lf = np.where(df['PREMPNOT'].isin([1, 2]), 1, 0)\n",
    "    unrt = ((un * df['PWCMPWGT']).sum() / (lf * df['PWCMPWGT']).sum())\n",
    "    print(f\"Month {month}: {unrt * 100:.1f}%\")"
   ]
  },
  {
   "cell_type": "code",
   "execution_count": null,
   "metadata": {
    "ExecuteTime": {
     "end_time": "2018-02-19T06:10:22.051818Z",
     "start_time": "2018-02-19T06:10:22.036191Z"
    }
   },
   "outputs": [],
   "source": [
    "un = np.where(df['PREMPNOT'].isin([2]), 1, 0)\n",
    "lf = np.where(df['PREMPNOT'].isin([1, 2]), 1, 0)"
   ]
  },
  {
   "cell_type": "code",
   "execution_count": null,
   "metadata": {
    "ExecuteTime": {
     "end_time": "2018-02-19T06:10:24.099001Z",
     "start_time": "2018-02-19T06:10:24.083383Z"
    }
   },
   "outputs": [],
   "source": [
    "(un * df['PWCMPWGT']).sum() / (lf * df['PWCMPWGT']).sum()"
   ]
  },
  {
   "cell_type": "code",
   "execution_count": null,
   "metadata": {},
   "outputs": [],
   "source": []
  },
  {
   "cell_type": "code",
   "execution_count": null,
   "metadata": {},
   "outputs": [],
   "source": []
  },
  {
   "cell_type": "code",
   "execution_count": null,
   "metadata": {
    "ExecuteTime": {
     "end_time": "2018-02-19T05:51:27.981577Z",
     "start_time": "2018-02-19T05:51:27.950331Z"
    }
   },
   "outputs": [],
   "source": [
    "def contrib_calc():\n",
    "    \"\"\"Calculate NILF categories' contribution to group change \n",
    "       in labor force measures (lfpr, epop) since 2000.\"\"\"\n",
    "    data = pd.DataFrame()\n",
    "    vars_vals = [('PREMPNOT', [1, 2, 3, 4])]\n",
    "    ages = [(25, 34), (35, 44), (45, 54)]\n",
    "    sex = [('men', 1), ('women', 2)]\n",
    "    ser = 'PREMPNOT, PWCMPWGT, HRMONTH, PRTAGE, PESEX'\n",
    "    wc = 10000000.0   # Monthly weight in thousands of people\n",
    "    for y in range(1998, 2019):    # Test small\n",
    "        df = pd.read_pickle(f'data/cps_{y}.pkl')\n",
    "        mos = list(df['HRMONTH'].unique())\n",
    "        for arg in itertools.product(mos, vars_vals, ages, sex):\n",
    "            col_name = (f'Unemployed {arg[3][0]}, {arg[2][0]}-'\n",
    "                        f'{arg[2][1]} years old, in thousands')\n",
    "            dft = df[(df['HRMONTH'] == arg[0]) & \n",
    "                     (df['PRTAGE'].between(arg[2][0], arg[2][1])) & \n",
    "                     (df['PESEX'] == arg[3][1])]\n",
    "            r = np.where(dft[arg[1][0]].isin(arg[1][1]), 1, 0)\n",
    "            date = pd.to_datetime(f'{y}-{arg[0]}-01')\n",
    "            data.at[date, col_name] = (r * dft['PWCMPWGT']).sum() / wc\n",
    "    return data.sort_index()"
   ]
  },
  {
   "cell_type": "code",
   "execution_count": null,
   "metadata": {},
   "outputs": [],
   "source": []
  },
  {
   "cell_type": "code",
   "execution_count": null,
   "metadata": {
    "ExecuteTime": {
     "end_time": "2018-02-18T01:56:12.399076Z",
     "start_time": "2018-02-18T01:56:12.367833Z"
    }
   },
   "outputs": [],
   "source": [
    "def contrib_calc(filters, measure='lfpr'):\n",
    "    \"\"\"Calculate NILF categories' contribution to group change \n",
    "       in labor force measures (lfpr, epop) since 2000.\"\"\"\n",
    "    data = pd.DataFrame()\n",
    "    ser = 'PREMPNOT, PWCMPWGT, HRMONTH'   # Need to add the rest\n",
    "    for y in range(1998, 2019):    # Test small\n",
    "        ex = f\"select {ser} from cps_{y} {filters}\"\n",
    "        df = pd.read_sql(ex, conn)\n",
    "        wgt = df['PWCMPWGT']\n",
    "        wc = float(max(df['HRMONTH'].unique()) * 10000000)\n",
    "        vars_vals = [('PREMPNOT', [2])]\n",
    "        for var, val in vars_vals:\n",
    "            r = (np.where(df[var].isin(val), 1, 0) * wgt).sum()\n",
    "            data.at[y, var] = r / wc\n",
    "    return data"
   ]
  },
  {
   "cell_type": "code",
   "execution_count": null,
   "metadata": {
    "ExecuteTime": {
     "end_time": "2018-02-18T11:57:02.917945Z",
     "start_time": "2018-02-18T11:57:01.542711Z"
    }
   },
   "outputs": [],
   "source": [
    "ser = 'PREMPNOT, PWCMPWGT, HRMONTH, PRTAGE, PESEX'\n",
    "filters = \"where (PRTAGE between 25 and 54) and (HRMONTH = 1)\"\n",
    "ex = f\"select * from cps_2012 {filters}\"\n",
    "df = pd.read_sql(ex, conn)"
   ]
  },
  {
   "cell_type": "code",
   "execution_count": null,
   "metadata": {
    "ExecuteTime": {
     "end_time": "2018-02-18T11:57:05.715295Z",
     "start_time": "2018-02-18T11:57:05.699667Z"
    }
   },
   "outputs": [],
   "source": [
    "len(df)"
   ]
  },
  {
   "cell_type": "code",
   "execution_count": null,
   "metadata": {
    "ExecuteTime": {
     "end_time": "2018-02-18T11:57:08.246976Z",
     "start_time": "2018-02-18T11:57:08.153210Z"
    }
   },
   "outputs": [],
   "source": [
    "len(df.drop_duplicates())"
   ]
  },
  {
   "cell_type": "code",
   "execution_count": null,
   "metadata": {
    "ExecuteTime": {
     "end_time": "2018-02-18T01:56:20.930953Z",
     "start_time": "2018-02-18T01:56:20.915336Z"
    }
   },
   "outputs": [],
   "source": [
    "mos = list(df['HRMONTH'].unique())\n",
    "vars_vals = [('PREMPNOT', [2])]\n",
    "ages = [(25, 34), (35, 44), (45, 54)]\n",
    "sex = [('men', 1), ('women', 2)]"
   ]
  },
  {
   "cell_type": "code",
   "execution_count": null,
   "metadata": {
    "ExecuteTime": {
     "end_time": "2018-02-18T01:57:11.950421Z",
     "start_time": "2018-02-18T01:57:11.294126Z"
    }
   },
   "outputs": [],
   "source": [
    "data = pd.DataFrame()\n",
    "for arg in itertools.product(mos, vars_vals, ages, sex):\n",
    "    col_name = (f'Unemployed {arg[3][0]},'\n",
    "               f'{arg[2][0]}-{arg[2][1]} years old')\n",
    "    dft = df[(df['HRMONTH'] == arg[0]) & \n",
    "             (df['PRTAGE'].between(arg[2][0], arg[2][1])) & \n",
    "             (df['PESEX'] == arg[3][1])]\n",
    "    r = np.where(dft[arg[1][0]].isin(arg[1][1]), 1, 0)\n",
    "    date = pd.to_datetime(f'{y}-{arg[0]-01}')\n",
    "    data.at[date, col_name] = (r * dft['PWCMPWGT']).sum()"
   ]
  },
  {
   "cell_type": "code",
   "execution_count": null,
   "metadata": {
    "ExecuteTime": {
     "end_time": "2018-02-18T01:57:19.982261Z",
     "start_time": "2018-02-18T01:57:19.951008Z"
    }
   },
   "outputs": [],
   "source": [
    "data"
   ]
  },
  {
   "cell_type": "code",
   "execution_count": null,
   "metadata": {},
   "outputs": [],
   "source": []
  },
  {
   "cell_type": "code",
   "execution_count": null,
   "metadata": {
    "ExecuteTime": {
     "end_time": "2018-02-19T05:51:58.018414Z",
     "start_time": "2018-02-19T05:51:31.935435Z"
    }
   },
   "outputs": [],
   "source": [
    "data = contrib_calc()\n",
    "data"
   ]
  },
  {
   "cell_type": "code",
   "execution_count": null,
   "metadata": {
    "ExecuteTime": {
     "end_time": "2018-02-18T13:42:11.545069Z",
     "start_time": "2018-02-18T13:42:11.388804Z"
    }
   },
   "outputs": [],
   "source": [
    "%matplotlib inline\n",
    "data.plot(legend=False)"
   ]
  },
  {
   "cell_type": "code",
   "execution_count": null,
   "metadata": {
    "ExecuteTime": {
     "end_time": "2018-02-18T13:59:07.770298Z",
     "start_time": "2018-02-18T13:59:07.723419Z"
    }
   },
   "outputs": [],
   "source": [
    "data.iloc[167:]"
   ]
  }
 ],
 "metadata": {
  "kernelspec": {
   "display_name": "Python 3",
   "language": "python",
   "name": "python3"
  },
  "language_info": {
   "codemirror_mode": {
    "name": "ipython",
    "version": 3
   },
   "file_extension": ".py",
   "mimetype": "text/x-python",
   "name": "python",
   "nbconvert_exporter": "python",
   "pygments_lexer": "ipython3",
   "version": "3.6.4"
  }
 },
 "nbformat": 4,
 "nbformat_minor": 2
}
